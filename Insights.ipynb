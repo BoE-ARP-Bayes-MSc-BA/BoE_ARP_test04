{
 "cells": [
  {
   "cell_type": "code",
   "execution_count": 132,
   "metadata": {},
   "outputs": [],
   "source": [
    "# Sentence Coloring of N Sentences\n",
    "from matplotlib.patches import Rectangle\n",
    "import pandas as pd\n",
    "import numpy as np\n",
    "import matplotlib.pyplot as plt\n",
    "pd.set_option('display.max_columns', None)"
   ]
  },
  {
   "cell_type": "code",
   "execution_count": 138,
   "metadata": {},
   "outputs": [],
   "source": [
    "# call out the model_df CSV\n",
    "tp_df_MD22_paragraph = pd.read_csv('./main_df_output/topic_modelling_df_MD22.csv')\n",
    "tp_df_MD22_wa_files = pd.read_csv('./regression_df_input/MD_model_df.csv')\n",
    "# tp_df_MD22_paragraph.head()\n",
    "# tp_df_MD22_wa_files.head()"
   ]
  },
  {
   "cell_type": "markdown",
   "metadata": {},
   "source": [
    "# find out the significant features in the data\n",
    "without groups variable(D-15):\n",
    "- topic 1 x\n",
    "- topic 2 xxx \n",
    "- topic 7 xxx\n",
    "- topic 11 x \n",
    "- topic 12 xxx\n",
    "- topic 18 xxx\n",
    "- topic 22 x\n",
    "\n",
    "with groups variable:\n",
    "- short term(D-15)\n",
    "    - topic 1 x\n",
    "    - topic 2 xxx \n",
    "    - (topic 4 x)\n",
    "    - topic 7 xxx\n",
    "    - (topic 9 x)\n",
    "    - topic 11 x \n",
    "    - topic 12 xxx\n",
    "    - topic 18 xxx\n",
    "    - (topic 20 x)\n",
    "- long term(D-20)\n",
    "    - topic 2 xxx\n",
    "    - topic 7 xxx\n",
    "    - topic 11 xxx\n",
    "    - topic 18 xxx\n",
    "    - topic 22 x"
   ]
  },
  {
   "cell_type": "code",
   "execution_count": 141,
   "metadata": {},
   "outputs": [],
   "source": [
    "df_MD = tp_df_MD22_wa_files.copy()\n",
    "df_MD['date'] = df_MD['date'].astype(str)\n",
    "# ------> multiple the probability with WA_sentiment\n",
    "for i in range (1,23):\n",
    "    df_MD['sentiment_'+'topic_'+str(i)] = df_MD['topic_'+str(i)]*df_MD['WA_sentiment']\n",
    "\n",
    "sentiment_topic_columns = []\n",
    "for i in range (1,23):\n",
    "    sentiment_topic_columns.append('sentiment_'+'topic_'+str(i))\n",
    "df_MD_standard = df_MD[sentiment_topic_columns]\n",
    "\n",
    "regression_D = 'D-15'\n",
    "\n",
    "# # scale the df_MD_standard to -1-1\n",
    "# df_MD_standard_scaled = (df_MD_standard - df_MD_standard.min()) / (df_MD_standard.max() - df_MD_standard.min())\n",
    "# df_MD_scale = df_MD_standard_scaled*2 - 1\n",
    "\n",
    "# # ------> Standardize the data\n",
    "# from sklearn.preprocessing import StandardScaler\n",
    "# scaler = StandardScaler()\n",
    "# scaler.fit(df_MD_standard)\n",
    "# df_MD_scale = scaler.transform(df_MD_standard)\n",
    "# # append the scaled data to the original dataframe\n",
    "# df_MD_scale = pd.DataFrame(df_MD_scale, columns=sentiment_topic_columns)\n",
    "# df_MD_scale.index = df_MD_standard.index\n",
    "\n",
    "df_MD_scale = df_MD_standard.copy()\n",
    "\n",
    "# other columns\n",
    "other_columns = ['company_name','Group','ticker','file_name','date','WA_sentiment', regression_D]\n",
    "df_MD = pd.concat([df_MD_scale, df_MD[other_columns]], axis=1)\n",
    "df_MD.head()\n",
    "\n",
    "def same_direction(df_MD, day_type):\n",
    "    df_MD_same = df_MD[((df_MD['WA_sentiment']<0) & (df_MD[day_type]<0)) | ((df_MD['WA_sentiment']>0) & (df_MD[day_type]>0))]\n",
    "    return df_MD_same\n",
    "\n",
    "df_MD_same = same_direction(df_MD, regression_D)"
   ]
  },
  {
   "cell_type": "code",
   "execution_count": null,
   "metadata": {},
   "outputs": [],
   "source": [
    "df_MD\n"
   ]
  },
  {
   "cell_type": "code",
   "execution_count": 135,
   "metadata": {},
   "outputs": [
    {
     "name": "stderr",
     "output_type": "stream",
     "text": [
      "/var/folders/sq/sxhsy98j6f57m406rd5lz1_r0000gn/T/ipykernel_4364/1211205314.py:1: SettingWithCopyWarning:\n",
      "\n",
      "\n",
      "A value is trying to be set on a copy of a slice from a DataFrame.\n",
      "Try using .loc[row_indexer,col_indexer] = value instead\n",
      "\n",
      "See the caveats in the documentation: https://pandas.pydata.org/pandas-docs/stable/user_guide/indexing.html#returning-a-view-versus-a-copy\n",
      "\n",
      "/var/folders/sq/sxhsy98j6f57m406rd5lz1_r0000gn/T/ipykernel_4364/1211205314.py:2: SettingWithCopyWarning:\n",
      "\n",
      "\n",
      "A value is trying to be set on a copy of a slice from a DataFrame.\n",
      "Try using .loc[row_indexer,col_indexer] = value instead\n",
      "\n",
      "See the caveats in the documentation: https://pandas.pydata.org/pandas-docs/stable/user_guide/indexing.html#returning-a-view-versus-a-copy\n",
      "\n",
      "/var/folders/sq/sxhsy98j6f57m406rd5lz1_r0000gn/T/ipykernel_4364/1211205314.py:3: SettingWithCopyWarning:\n",
      "\n",
      "\n",
      "A value is trying to be set on a copy of a slice from a DataFrame.\n",
      "Try using .loc[row_indexer,col_indexer] = value instead\n",
      "\n",
      "See the caveats in the documentation: https://pandas.pydata.org/pandas-docs/stable/user_guide/indexing.html#returning-a-view-versus-a-copy\n",
      "\n",
      "/var/folders/sq/sxhsy98j6f57m406rd5lz1_r0000gn/T/ipykernel_4364/1211205314.py:4: SettingWithCopyWarning:\n",
      "\n",
      "\n",
      "A value is trying to be set on a copy of a slice from a DataFrame.\n",
      "Try using .loc[row_indexer,col_indexer] = value instead\n",
      "\n",
      "See the caveats in the documentation: https://pandas.pydata.org/pandas-docs/stable/user_guide/indexing.html#returning-a-view-versus-a-copy\n",
      "\n",
      "/var/folders/sq/sxhsy98j6f57m406rd5lz1_r0000gn/T/ipykernel_4364/1211205314.py:5: SettingWithCopyWarning:\n",
      "\n",
      "\n",
      "A value is trying to be set on a copy of a slice from a DataFrame.\n",
      "Try using .loc[row_indexer,col_indexer] = value instead\n",
      "\n",
      "See the caveats in the documentation: https://pandas.pydata.org/pandas-docs/stable/user_guide/indexing.html#returning-a-view-versus-a-copy\n",
      "\n"
     ]
    },
    {
     "data": {
      "text/html": [
       "<div>\n",
       "<style scoped>\n",
       "    .dataframe tbody tr th:only-of-type {\n",
       "        vertical-align: middle;\n",
       "    }\n",
       "\n",
       "    .dataframe tbody tr th {\n",
       "        vertical-align: top;\n",
       "    }\n",
       "\n",
       "    .dataframe thead th {\n",
       "        text-align: right;\n",
       "    }\n",
       "</style>\n",
       "<table border=\"1\" class=\"dataframe\">\n",
       "  <thead>\n",
       "    <tr style=\"text-align: right;\">\n",
       "      <th></th>\n",
       "      <th>year_quater</th>\n",
       "      <th>Group</th>\n",
       "      <th>sentiment_topic_1</th>\n",
       "      <th>sentiment_topic_2</th>\n",
       "      <th>sentiment_topic_3</th>\n",
       "      <th>sentiment_topic_4</th>\n",
       "      <th>sentiment_topic_5</th>\n",
       "      <th>sentiment_topic_6</th>\n",
       "      <th>sentiment_topic_7</th>\n",
       "      <th>sentiment_topic_8</th>\n",
       "      <th>sentiment_topic_9</th>\n",
       "      <th>sentiment_topic_10</th>\n",
       "      <th>sentiment_topic_11</th>\n",
       "      <th>sentiment_topic_12</th>\n",
       "      <th>sentiment_topic_13</th>\n",
       "      <th>sentiment_topic_14</th>\n",
       "      <th>sentiment_topic_15</th>\n",
       "      <th>sentiment_topic_16</th>\n",
       "      <th>sentiment_topic_17</th>\n",
       "      <th>sentiment_topic_18</th>\n",
       "      <th>sentiment_topic_19</th>\n",
       "      <th>sentiment_topic_20</th>\n",
       "      <th>sentiment_topic_21</th>\n",
       "      <th>sentiment_topic_22</th>\n",
       "      <th>WA_sentiment</th>\n",
       "      <th>D-15</th>\n",
       "      <th>quater</th>\n",
       "      <th>year</th>\n",
       "    </tr>\n",
       "  </thead>\n",
       "  <tbody>\n",
       "    <tr>\n",
       "      <th>0</th>\n",
       "      <td>2011Q1</td>\n",
       "      <td>Life Groups &amp; Retail Life</td>\n",
       "      <td>1.760609e-03</td>\n",
       "      <td>0.000197</td>\n",
       "      <td>0.000656</td>\n",
       "      <td>0.000117</td>\n",
       "      <td>0.000017</td>\n",
       "      <td>0.000169</td>\n",
       "      <td>0.000067</td>\n",
       "      <td>6.123889e-04</td>\n",
       "      <td>0.000202</td>\n",
       "      <td>0.000010</td>\n",
       "      <td>1.229256e-04</td>\n",
       "      <td>0.000008</td>\n",
       "      <td>0.000044</td>\n",
       "      <td>0.000076</td>\n",
       "      <td>0.001909</td>\n",
       "      <td>3.681627e-06</td>\n",
       "      <td>1.321378e-04</td>\n",
       "      <td>0.001014</td>\n",
       "      <td>0.000064</td>\n",
       "      <td>2.620535e-05</td>\n",
       "      <td>0.000357</td>\n",
       "      <td>0.000120</td>\n",
       "      <td>0.007685</td>\n",
       "      <td>0.031281</td>\n",
       "      <td>1.0</td>\n",
       "      <td>2011.0</td>\n",
       "    </tr>\n",
       "    <tr>\n",
       "      <th>1</th>\n",
       "      <td>2011Q1</td>\n",
       "      <td>London Market</td>\n",
       "      <td>1.593605e-05</td>\n",
       "      <td>0.000675</td>\n",
       "      <td>0.000899</td>\n",
       "      <td>0.000128</td>\n",
       "      <td>0.000005</td>\n",
       "      <td>0.000571</td>\n",
       "      <td>0.000018</td>\n",
       "      <td>1.088589e-04</td>\n",
       "      <td>0.000218</td>\n",
       "      <td>0.000177</td>\n",
       "      <td>1.874033e-04</td>\n",
       "      <td>0.000050</td>\n",
       "      <td>0.001031</td>\n",
       "      <td>0.000105</td>\n",
       "      <td>0.000045</td>\n",
       "      <td>1.751713e-06</td>\n",
       "      <td>5.094743e-05</td>\n",
       "      <td>0.000636</td>\n",
       "      <td>0.000095</td>\n",
       "      <td>7.107563e-06</td>\n",
       "      <td>0.000352</td>\n",
       "      <td>0.000117</td>\n",
       "      <td>0.005493</td>\n",
       "      <td>0.104886</td>\n",
       "      <td>1.0</td>\n",
       "      <td>2011.0</td>\n",
       "    </tr>\n",
       "    <tr>\n",
       "      <th>2</th>\n",
       "      <td>2011Q1</td>\n",
       "      <td>Other insurers</td>\n",
       "      <td>3.759640e-04</td>\n",
       "      <td>0.000145</td>\n",
       "      <td>0.003392</td>\n",
       "      <td>0.000052</td>\n",
       "      <td>0.000908</td>\n",
       "      <td>0.000687</td>\n",
       "      <td>0.000037</td>\n",
       "      <td>6.908927e-05</td>\n",
       "      <td>0.000125</td>\n",
       "      <td>0.000083</td>\n",
       "      <td>1.118452e-04</td>\n",
       "      <td>0.003517</td>\n",
       "      <td>0.002378</td>\n",
       "      <td>0.000742</td>\n",
       "      <td>0.000141</td>\n",
       "      <td>1.687448e-05</td>\n",
       "      <td>3.370025e-05</td>\n",
       "      <td>0.000937</td>\n",
       "      <td>0.001505</td>\n",
       "      <td>3.465879e-03</td>\n",
       "      <td>0.000068</td>\n",
       "      <td>0.000055</td>\n",
       "      <td>0.018846</td>\n",
       "      <td>0.041498</td>\n",
       "      <td>1.0</td>\n",
       "      <td>2011.0</td>\n",
       "    </tr>\n",
       "    <tr>\n",
       "      <th>3</th>\n",
       "      <td>2011Q1</td>\n",
       "      <td>US - Specialty/P&amp;C/Reinsurance</td>\n",
       "      <td>8.042663e-06</td>\n",
       "      <td>0.000733</td>\n",
       "      <td>0.001803</td>\n",
       "      <td>0.000431</td>\n",
       "      <td>0.000027</td>\n",
       "      <td>0.000204</td>\n",
       "      <td>0.000007</td>\n",
       "      <td>1.910733e-04</td>\n",
       "      <td>0.000588</td>\n",
       "      <td>0.003097</td>\n",
       "      <td>6.287112e-05</td>\n",
       "      <td>0.000436</td>\n",
       "      <td>0.001701</td>\n",
       "      <td>0.000119</td>\n",
       "      <td>0.000135</td>\n",
       "      <td>6.517905e-06</td>\n",
       "      <td>6.435327e-06</td>\n",
       "      <td>0.001147</td>\n",
       "      <td>0.000065</td>\n",
       "      <td>7.337637e-06</td>\n",
       "      <td>0.000065</td>\n",
       "      <td>0.000360</td>\n",
       "      <td>0.011197</td>\n",
       "      <td>0.041083</td>\n",
       "      <td>1.0</td>\n",
       "      <td>2011.0</td>\n",
       "    </tr>\n",
       "    <tr>\n",
       "      <th>4</th>\n",
       "      <td>2011Q2</td>\n",
       "      <td>Japanese &amp; Pacific</td>\n",
       "      <td>7.378413e-07</td>\n",
       "      <td>0.000291</td>\n",
       "      <td>0.000176</td>\n",
       "      <td>0.000046</td>\n",
       "      <td>0.000002</td>\n",
       "      <td>0.000003</td>\n",
       "      <td>0.000002</td>\n",
       "      <td>9.127835e-07</td>\n",
       "      <td>0.000004</td>\n",
       "      <td>0.000061</td>\n",
       "      <td>2.821119e-07</td>\n",
       "      <td>0.000151</td>\n",
       "      <td>0.000039</td>\n",
       "      <td>0.000031</td>\n",
       "      <td>0.000115</td>\n",
       "      <td>1.117411e-07</td>\n",
       "      <td>2.231597e-07</td>\n",
       "      <td>0.000188</td>\n",
       "      <td>0.000024</td>\n",
       "      <td>2.937246e-07</td>\n",
       "      <td>0.000099</td>\n",
       "      <td>0.000177</td>\n",
       "      <td>0.001412</td>\n",
       "      <td>0.048923</td>\n",
       "      <td>2.0</td>\n",
       "      <td>2011.0</td>\n",
       "    </tr>\n",
       "  </tbody>\n",
       "</table>\n",
       "</div>"
      ],
      "text/plain": [
       "  year_quater                           Group  sentiment_topic_1  \\\n",
       "0      2011Q1       Life Groups & Retail Life       1.760609e-03   \n",
       "1      2011Q1                   London Market       1.593605e-05   \n",
       "2      2011Q1                  Other insurers       3.759640e-04   \n",
       "3      2011Q1  US - Specialty/P&C/Reinsurance       8.042663e-06   \n",
       "4      2011Q2              Japanese & Pacific       7.378413e-07   \n",
       "\n",
       "   sentiment_topic_2  sentiment_topic_3  sentiment_topic_4  sentiment_topic_5  \\\n",
       "0           0.000197           0.000656           0.000117           0.000017   \n",
       "1           0.000675           0.000899           0.000128           0.000005   \n",
       "2           0.000145           0.003392           0.000052           0.000908   \n",
       "3           0.000733           0.001803           0.000431           0.000027   \n",
       "4           0.000291           0.000176           0.000046           0.000002   \n",
       "\n",
       "   sentiment_topic_6  sentiment_topic_7  sentiment_topic_8  sentiment_topic_9  \\\n",
       "0           0.000169           0.000067       6.123889e-04           0.000202   \n",
       "1           0.000571           0.000018       1.088589e-04           0.000218   \n",
       "2           0.000687           0.000037       6.908927e-05           0.000125   \n",
       "3           0.000204           0.000007       1.910733e-04           0.000588   \n",
       "4           0.000003           0.000002       9.127835e-07           0.000004   \n",
       "\n",
       "   sentiment_topic_10  sentiment_topic_11  sentiment_topic_12  \\\n",
       "0            0.000010        1.229256e-04            0.000008   \n",
       "1            0.000177        1.874033e-04            0.000050   \n",
       "2            0.000083        1.118452e-04            0.003517   \n",
       "3            0.003097        6.287112e-05            0.000436   \n",
       "4            0.000061        2.821119e-07            0.000151   \n",
       "\n",
       "   sentiment_topic_13  sentiment_topic_14  sentiment_topic_15  \\\n",
       "0            0.000044            0.000076            0.001909   \n",
       "1            0.001031            0.000105            0.000045   \n",
       "2            0.002378            0.000742            0.000141   \n",
       "3            0.001701            0.000119            0.000135   \n",
       "4            0.000039            0.000031            0.000115   \n",
       "\n",
       "   sentiment_topic_16  sentiment_topic_17  sentiment_topic_18  \\\n",
       "0        3.681627e-06        1.321378e-04            0.001014   \n",
       "1        1.751713e-06        5.094743e-05            0.000636   \n",
       "2        1.687448e-05        3.370025e-05            0.000937   \n",
       "3        6.517905e-06        6.435327e-06            0.001147   \n",
       "4        1.117411e-07        2.231597e-07            0.000188   \n",
       "\n",
       "   sentiment_topic_19  sentiment_topic_20  sentiment_topic_21  \\\n",
       "0            0.000064        2.620535e-05            0.000357   \n",
       "1            0.000095        7.107563e-06            0.000352   \n",
       "2            0.001505        3.465879e-03            0.000068   \n",
       "3            0.000065        7.337637e-06            0.000065   \n",
       "4            0.000024        2.937246e-07            0.000099   \n",
       "\n",
       "   sentiment_topic_22  WA_sentiment      D-15  quater    year  \n",
       "0            0.000120      0.007685  0.031281     1.0  2011.0  \n",
       "1            0.000117      0.005493  0.104886     1.0  2011.0  \n",
       "2            0.000055      0.018846  0.041498     1.0  2011.0  \n",
       "3            0.000360      0.011197  0.041083     1.0  2011.0  \n",
       "4            0.000177      0.001412  0.048923     2.0  2011.0  "
      ]
     },
     "execution_count": 135,
     "metadata": {},
     "output_type": "execute_result"
    }
   ],
   "source": [
    "df_MD_same['date'] = pd.to_datetime(df_MD_same['date'])\n",
    "df_MD_same['quater'] = df_MD_same['date'].apply(lambda x: x.quarter)\n",
    "df_MD_same['year'] = df_MD_same['date'].apply(lambda x: x.year)\n",
    "df_MD_same['year_quater'] = df_MD_same['year'].astype(str) + \"Q\" + df_MD_same['quater'].astype(str)\n",
    "df_MD_same['date'] = df_MD_same['date'].astype(str)\n",
    "\n",
    "# ------> group by year_quater and Group\n",
    "df_MD_same_groupby = df_MD_same.groupby(['year_quater','Group']).mean()\n",
    "df_MD_same_groupby = df_MD_same_groupby.reset_index()\n",
    "df_MD_same_groupby.head()"
   ]
  },
  {
   "cell_type": "code",
   "execution_count": 136,
   "metadata": {},
   "outputs": [
    {
     "name": "stderr",
     "output_type": "stream",
     "text": [
      "/var/folders/sq/sxhsy98j6f57m406rd5lz1_r0000gn/T/ipykernel_4364/3936665047.py:17: FutureWarning:\n",
      "\n",
      "Dropping of nuisance columns in DataFrame reductions (with 'numeric_only=None') is deprecated; in a future version this will raise TypeError.  Select only valid columns before calling the reduction.\n",
      "\n"
     ]
    },
    {
     "data": {
      "text/html": [
       "<div>\n",
       "<style scoped>\n",
       "    .dataframe tbody tr th:only-of-type {\n",
       "        vertical-align: middle;\n",
       "    }\n",
       "\n",
       "    .dataframe tbody tr th {\n",
       "        vertical-align: top;\n",
       "    }\n",
       "\n",
       "    .dataframe thead th {\n",
       "        text-align: right;\n",
       "    }\n",
       "</style>\n",
       "<table border=\"1\" class=\"dataframe\">\n",
       "  <thead>\n",
       "    <tr style=\"text-align: right;\">\n",
       "      <th></th>\n",
       "      <th>year_quater</th>\n",
       "      <th>Life Groups &amp; Retail Life</th>\n",
       "      <th>London Market</th>\n",
       "      <th>Other insurers</th>\n",
       "      <th>US - Specialty/P&amp;C/Reinsurance</th>\n",
       "      <th>Japanese &amp; Pacific</th>\n",
       "      <th>Run-off</th>\n",
       "      <th>LN Equity</th>\n",
       "      <th>Motor/Personal</th>\n",
       "      <th>Global Commercial</th>\n",
       "      <th>European (Re)Insurers</th>\n",
       "    </tr>\n",
       "  </thead>\n",
       "  <tbody>\n",
       "    <tr>\n",
       "      <th>0</th>\n",
       "      <td>2011Q1</td>\n",
       "      <td>0.000197</td>\n",
       "      <td>0.000675</td>\n",
       "      <td>0.000145</td>\n",
       "      <td>0.000733</td>\n",
       "      <td>0.000179</td>\n",
       "      <td>0.000141</td>\n",
       "      <td>0.000568</td>\n",
       "      <td>3.880245e-05</td>\n",
       "      <td>0.000186</td>\n",
       "      <td>0.000491</td>\n",
       "    </tr>\n",
       "    <tr>\n",
       "      <th>1</th>\n",
       "      <td>2011Q2</td>\n",
       "      <td>0.000005</td>\n",
       "      <td>0.000674</td>\n",
       "      <td>0.000113</td>\n",
       "      <td>0.000262</td>\n",
       "      <td>0.000291</td>\n",
       "      <td>0.001218</td>\n",
       "      <td>0.000568</td>\n",
       "      <td>3.880245e-05</td>\n",
       "      <td>0.000186</td>\n",
       "      <td>0.000491</td>\n",
       "    </tr>\n",
       "    <tr>\n",
       "      <th>2</th>\n",
       "      <td>2011Q3</td>\n",
       "      <td>0.000003</td>\n",
       "      <td>0.000638</td>\n",
       "      <td>0.000060</td>\n",
       "      <td>0.000262</td>\n",
       "      <td>0.000179</td>\n",
       "      <td>0.000141</td>\n",
       "      <td>0.000603</td>\n",
       "      <td>3.880245e-05</td>\n",
       "      <td>0.000186</td>\n",
       "      <td>0.000491</td>\n",
       "    </tr>\n",
       "    <tr>\n",
       "      <th>3</th>\n",
       "      <td>2011Q4</td>\n",
       "      <td>0.000007</td>\n",
       "      <td>0.000405</td>\n",
       "      <td>0.000296</td>\n",
       "      <td>0.000529</td>\n",
       "      <td>-0.000069</td>\n",
       "      <td>0.000062</td>\n",
       "      <td>0.000568</td>\n",
       "      <td>-1.733650e-07</td>\n",
       "      <td>0.000186</td>\n",
       "      <td>0.000491</td>\n",
       "    </tr>\n",
       "    <tr>\n",
       "      <th>4</th>\n",
       "      <td>2012Q1</td>\n",
       "      <td>0.000001</td>\n",
       "      <td>0.000245</td>\n",
       "      <td>0.000271</td>\n",
       "      <td>0.000663</td>\n",
       "      <td>0.000179</td>\n",
       "      <td>0.000141</td>\n",
       "      <td>0.000568</td>\n",
       "      <td>5.108051e-05</td>\n",
       "      <td>0.000186</td>\n",
       "      <td>0.000491</td>\n",
       "    </tr>\n",
       "  </tbody>\n",
       "</table>\n",
       "</div>"
      ],
      "text/plain": [
       "  year_quater  Life Groups & Retail Life  London Market  Other insurers  \\\n",
       "0      2011Q1                   0.000197       0.000675        0.000145   \n",
       "1      2011Q2                   0.000005       0.000674        0.000113   \n",
       "2      2011Q3                   0.000003       0.000638        0.000060   \n",
       "3      2011Q4                   0.000007       0.000405        0.000296   \n",
       "4      2012Q1                   0.000001       0.000245        0.000271   \n",
       "\n",
       "   US - Specialty/P&C/Reinsurance  Japanese & Pacific   Run-off  LN Equity  \\\n",
       "0                        0.000733            0.000179  0.000141   0.000568   \n",
       "1                        0.000262            0.000291  0.001218   0.000568   \n",
       "2                        0.000262            0.000179  0.000141   0.000603   \n",
       "3                        0.000529           -0.000069  0.000062   0.000568   \n",
       "4                        0.000663            0.000179  0.000141   0.000568   \n",
       "\n",
       "   Motor/Personal  Global Commercial  European (Re)Insurers  \n",
       "0    3.880245e-05           0.000186               0.000491  \n",
       "1    3.880245e-05           0.000186               0.000491  \n",
       "2    3.880245e-05           0.000186               0.000491  \n",
       "3   -1.733650e-07           0.000186               0.000491  \n",
       "4    5.108051e-05           0.000186               0.000491  "
      ]
     },
     "execution_count": 136,
     "metadata": {},
     "output_type": "execute_result"
    }
   ],
   "source": [
    "year_quater = df_MD_same_groupby['year_quater'].unique().tolist()\n",
    "Group = df_MD_same_groupby['Group'].unique().tolist()\n",
    "df_MD_same_group_tp2 = pd.DataFrame()\n",
    "df_MD_same_group_tp2[\"year_quater\"] = year_quater\n",
    "\n",
    "# extract the sentiment_topic_2 by Group \n",
    "for i in Group:\n",
    "    tmp_df = df_MD_same_groupby[df_MD_same_groupby['Group']==i]\n",
    "    tmp_df = tmp_df.reset_index()\n",
    "    tmp_df = tmp_df[['year_quater','sentiment_topic_2']]\n",
    "    # remane the column name\n",
    "    tmp_df.columns = ['year_quater',i]\n",
    "    # merge with df_MD_same_group_tp2 by year_quater\n",
    "    df_MD_same_group_tp2 = pd.merge(df_MD_same_group_tp2, tmp_df, on='year_quater', how='left')\n",
    "\n",
    "# fill the nan by the mean value of the group\n",
    "df_MD_same_group_tp2 = df_MD_same_group_tp2.fillna(df_MD_same_group_tp2.mean())\n",
    "df_MD_same_group_tp2.head()"
   ]
  },
  {
   "cell_type": "code",
   "execution_count": 137,
   "metadata": {},
   "outputs": [
    {
     "name": "stderr",
     "output_type": "stream",
     "text": [
      "/opt/anaconda3/lib/python3.9/site-packages/plotly/graph_objs/_deprecations.py:378: DeprecationWarning:\n",
      "\n",
      "plotly.graph_objs.Line is deprecated.\n",
      "Please replace it with one of the following more specific types\n",
      "  - plotly.graph_objs.scatter.Line\n",
      "  - plotly.graph_objs.layout.shape.Line\n",
      "  - etc.\n",
      "\n",
      "\n"
     ]
    },
    {
     "data": {
      "application/vnd.plotly.v1+json": {
       "config": {
        "plotlyServerURL": "https://plot.ly"
       },
       "data": [
        {
         "name": "Life Groups & Retail Life",
         "type": "scatter",
         "x": [
          "2011Q1",
          "2011Q2",
          "2011Q3",
          "2011Q4",
          "2012Q1",
          "2012Q2",
          "2012Q3",
          "2012Q4",
          "2013Q1",
          "2013Q2",
          "2013Q3",
          "2013Q4",
          "2014Q1",
          "2014Q2",
          "2014Q3",
          "2014Q4",
          "2015Q1",
          "2015Q2",
          "2015Q3",
          "2015Q4",
          "2016Q1",
          "2016Q2",
          "2016Q3",
          "2016Q4",
          "2017Q1",
          "2017Q2",
          "2017Q3",
          "2017Q4",
          "2018Q1",
          "2018Q2",
          "2018Q3",
          "2018Q4",
          "2019Q1",
          "2019Q2",
          "2019Q3",
          "2019Q4",
          "2020Q1",
          "2020Q2",
          "2020Q3",
          "2020Q4",
          "2021Q1",
          "2021Q2",
          "2021Q3",
          "2021Q4"
         ],
         "y": [
          0.00019704927885468034,
          0.000005058030331115219,
          0.000003137659106945967,
          0.000007378282332269015,
          0.0000014645078895693078,
          0.00002573009174312362,
          0.000015325723244869362,
          0.00013183140525958577,
          0.0000032810057900920395,
          0.00003066302915677284,
          0.000025146836744663167,
          0.000007487971350344459,
          0.000014151691794874861,
          0.000006277917968992917,
          0.000008787647264471603,
          0.0000033094974076626905,
          0.000014469466685286701,
          0.00002573009174312362,
          0.000014846790526268656,
          0.000008863906696809143,
          0.0000036546259000964026,
          0.00004888696851335546,
          0.00001176138539383302,
          0.000021560709381908785,
          0.000005584483820242286,
          0.000003529942043935159,
          0.0000112606409744571,
          0.000008660057141773472,
          0.0000025707099612653803,
          1.8350081540550716e-7,
          0.000029833472467571157,
          0.0000032554277447723493,
          0.000020836337300231665,
          0.00002573009174312362,
          0.000010779070290825375,
          0.000005499623630216816,
          0.00002573009174312362,
          0.00010499239988346736,
          0.00002389044507209827,
          0.000054156086932197126,
          0.000043020428413529036,
          0.000018242266125233652,
          0.000024875372624998038,
          0.00007363906688825717
         ]
        },
        {
         "name": "London Market",
         "type": "scatter",
         "x": [
          "2011Q1",
          "2011Q2",
          "2011Q3",
          "2011Q4",
          "2012Q1",
          "2012Q2",
          "2012Q3",
          "2012Q4",
          "2013Q1",
          "2013Q2",
          "2013Q3",
          "2013Q4",
          "2014Q1",
          "2014Q2",
          "2014Q3",
          "2014Q4",
          "2015Q1",
          "2015Q2",
          "2015Q3",
          "2015Q4",
          "2016Q1",
          "2016Q2",
          "2016Q3",
          "2016Q4",
          "2017Q1",
          "2017Q2",
          "2017Q3",
          "2017Q4",
          "2018Q1",
          "2018Q2",
          "2018Q3",
          "2018Q4",
          "2019Q1",
          "2019Q2",
          "2019Q3",
          "2019Q4",
          "2020Q1",
          "2020Q2",
          "2020Q3",
          "2020Q4",
          "2021Q1",
          "2021Q2",
          "2021Q3",
          "2021Q4"
         ],
         "y": [
          0.0006746578571026384,
          0.0006742042402441128,
          0.0006381171014574032,
          0.0004051131721963072,
          0.00024495195210203977,
          0.0006742042402441128,
          0.0006742042402441128,
          0.0006742042402441128,
          0.0015057709014755982,
          0.0006233446190651851,
          0.00030354234564633335,
          0.0008545837156753285,
          0.0006742042402441128,
          0.0006742042402441128,
          0.00004698395016593202,
          0.0005125955834004379,
          0.000129863351639106,
          0.0006742042402441128,
          0.0002499459444820001,
          0.00012642076073622572,
          0.0006742042402441128,
          0.0006742042402441128,
          0.000016008027731670767,
          0.0006742042402441128,
          0.0001619299067899606,
          0.000011351339665328208,
          0.00012470312140581974,
          0.00151033989833425,
          0.0007987128239012318,
          0.00030299233867261656,
          0.0010667247970779247,
          0.000020995791072984975,
          0.0005099767984690749,
          0.0006742042402441128,
          0.0006742042402441128,
          0.0024296167074532027,
          0.0003236819071865912,
          0.0006742042402441128,
          0.0010506810391705242,
          0.0006742042402441128,
          0.00044694622695259386,
          0.000363426664743859,
          0.0002829314280905398,
          0.0044892171354606785
         ]
        },
        {
         "name": "Other insurers",
         "type": "scatter",
         "x": [
          "2011Q1",
          "2011Q2",
          "2011Q3",
          "2011Q4",
          "2012Q1",
          "2012Q2",
          "2012Q3",
          "2012Q4",
          "2013Q1",
          "2013Q2",
          "2013Q3",
          "2013Q4",
          "2014Q1",
          "2014Q2",
          "2014Q3",
          "2014Q4",
          "2015Q1",
          "2015Q2",
          "2015Q3",
          "2015Q4",
          "2016Q1",
          "2016Q2",
          "2016Q3",
          "2016Q4",
          "2017Q1",
          "2017Q2",
          "2017Q3",
          "2017Q4",
          "2018Q1",
          "2018Q2",
          "2018Q3",
          "2018Q4",
          "2019Q1",
          "2019Q2",
          "2019Q3",
          "2019Q4",
          "2020Q1",
          "2020Q2",
          "2020Q3",
          "2020Q4",
          "2021Q1",
          "2021Q2",
          "2021Q3",
          "2021Q4"
         ],
         "y": [
          0.00014507407371993567,
          0.00011297471122991484,
          0.000059525754877373436,
          0.0002958130151890708,
          0.0002709029062979909,
          0.00002866472804389046,
          0.00008571664045645793,
          0.000010174303812526179,
          0.000008849002487129685,
          0.00006177630790128124,
          0.00034646832107987553,
          0.00011288400031149058,
          0.00038377181378932893,
          0.00031573490002163325,
          0.000026897925452898987,
          0.00016850444147242883,
          0.000017297370161432814,
          0.00011297471122991484,
          0.00003241412508047398,
          0.0000011004786619469298,
          0.00001558279543726339,
          0.00040105411531749343,
          0.00010165793642640994,
          0.00005053566299093142,
          0.0001359033258067894,
          0.0001387005669362165,
          0.00010340329369326387,
          0.00011344354720707604,
          0.0000047693389732131525,
          0.000028379899466554207,
          0.000050111892162131744,
          0.00005128825293238154,
          0.00008248636095679028,
          0.000007477598064661144,
          0.00004607605673330306,
          0.000010983146263896619,
          0.00006289755308572486,
          0.000013596412161898906,
          0.00034175408207836553,
          0.0000054009340427709735,
          0.0000383376080087216,
          0.0000613378709741147,
          0.00045250807921989503,
          0.000055681433899389784
         ]
        },
        {
         "name": "US - Specialty/P&C/Reinsurance",
         "type": "scatter",
         "x": [
          "2011Q1",
          "2011Q2",
          "2011Q3",
          "2011Q4",
          "2012Q1",
          "2012Q2",
          "2012Q3",
          "2012Q4",
          "2013Q1",
          "2013Q2",
          "2013Q3",
          "2013Q4",
          "2014Q1",
          "2014Q2",
          "2014Q3",
          "2014Q4",
          "2015Q1",
          "2015Q2",
          "2015Q3",
          "2015Q4",
          "2016Q1",
          "2016Q2",
          "2016Q3",
          "2016Q4",
          "2017Q1",
          "2017Q2",
          "2017Q3",
          "2017Q4",
          "2018Q1",
          "2018Q2",
          "2018Q3",
          "2018Q4",
          "2019Q1",
          "2019Q2",
          "2019Q3",
          "2019Q4",
          "2020Q1",
          "2020Q2",
          "2020Q3",
          "2020Q4",
          "2021Q1",
          "2021Q2",
          "2021Q3",
          "2021Q4"
         ],
         "y": [
          0.0007330151636979529,
          0.00026157942345881116,
          0.00026157942345881116,
          0.0005287025815229814,
          0.0006630283879113514,
          0.00043454651137003536,
          0.00008030010785407081,
          0.0006232162571569772,
          0.0002698694584508547,
          0.0004384456841626094,
          0.00018948336594384074,
          0.0003305817554878387,
          0.00033842081652610604,
          0.00038168260832059826,
          0.0003388656452402663,
          0.0001330443464008897,
          0.0001767916525028808,
          0.00006124790804429147,
          0.0004694115545683579,
          0.0001630118772694892,
          0.00003274524873009352,
          0.000010195157500940465,
          0.0003161481538392281,
          0.0006416788506128576,
          0.00008959845791961646,
          0.0000610577426051239,
          0.0001880289828774618,
          0.0004260626464732765,
          0.0005371188479580029,
          0.000006896983460375226,
          0.0002178661329415508,
          0.0001527924229026746,
          0.00019674177099304182,
          0.00015687884583846117,
          0.00036051629764008485,
          0.0003733897666902896,
          0.00011158717803356672,
          -0.0015312792277063561,
          0.00041725477788923056,
          0.0005306521768868714,
          0.0002393211182913526,
          0.0003774233635301593,
          0.0004254026136225997,
          0.00029459179330817314
         ]
        },
        {
         "name": "Japanese & Pacific",
         "type": "scatter",
         "x": [
          "2011Q1",
          "2011Q2",
          "2011Q3",
          "2011Q4",
          "2012Q1",
          "2012Q2",
          "2012Q3",
          "2012Q4",
          "2013Q1",
          "2013Q2",
          "2013Q3",
          "2013Q4",
          "2014Q1",
          "2014Q2",
          "2014Q3",
          "2014Q4",
          "2015Q1",
          "2015Q2",
          "2015Q3",
          "2015Q4",
          "2016Q1",
          "2016Q2",
          "2016Q3",
          "2016Q4",
          "2017Q1",
          "2017Q2",
          "2017Q3",
          "2017Q4",
          "2018Q1",
          "2018Q2",
          "2018Q3",
          "2018Q4",
          "2019Q1",
          "2019Q2",
          "2019Q3",
          "2019Q4",
          "2020Q1",
          "2020Q2",
          "2020Q3",
          "2020Q4",
          "2021Q1",
          "2021Q2",
          "2021Q3",
          "2021Q4"
         ],
         "y": [
          0.00017902499662648033,
          0.0002908826394529884,
          0.00017902499662648033,
          -0.00006877690801410217,
          0.00017902499662648033,
          -0.000014641566829635083,
          0.00017902499662648033,
          0.000017453434178318753,
          0.0008062088185828932,
          0.00017902499662648033,
          0.00020812179030336094,
          2.0453843216595488e-7,
          0.00037178070937705227,
          9.60304720190041e-8,
          0.0020265499285418236,
          0.0000027987570186164116,
          0.0003943227502251385,
          -8.052551186339107e-9,
          0.000006294175518975426,
          0.000006157064348162479,
          0.00017133034213406094,
          -3.603973594060482e-7,
          0.00017902499662648033,
          0.00005403616046582993,
          0.00034733283507410644,
          0.00002799873408212548,
          -0.0000069901373285622055,
          0.000046747235704600204,
          -0.00001836861218401419,
          5.252442535898394e-7,
          0.00022947519709231234,
          0.000012701504429337384,
          0.00017902499662648033,
          0.000014565293710084267,
          0.0003691412239849884,
          0.0000023578651193848275,
          0.00017902499662648033,
          -0.00006751269947776591,
          0.0005339121339580527,
          0.000006723103209765198,
          0.00021393717601050064,
          0.00002009237838258293,
          0.00044179562078225593,
          -0.0000019844325471292784
         ]
        },
        {
         "name": "Run-off",
         "type": "scatter",
         "x": [
          "2011Q1",
          "2011Q2",
          "2011Q3",
          "2011Q4",
          "2012Q1",
          "2012Q2",
          "2012Q3",
          "2012Q4",
          "2013Q1",
          "2013Q2",
          "2013Q3",
          "2013Q4",
          "2014Q1",
          "2014Q2",
          "2014Q3",
          "2014Q4",
          "2015Q1",
          "2015Q2",
          "2015Q3",
          "2015Q4",
          "2016Q1",
          "2016Q2",
          "2016Q3",
          "2016Q4",
          "2017Q1",
          "2017Q2",
          "2017Q3",
          "2017Q4",
          "2018Q1",
          "2018Q2",
          "2018Q3",
          "2018Q4",
          "2019Q1",
          "2019Q2",
          "2019Q3",
          "2019Q4",
          "2020Q1",
          "2020Q2",
          "2020Q3",
          "2020Q4",
          "2021Q1",
          "2021Q2",
          "2021Q3",
          "2021Q4"
         ],
         "y": [
          0.00014104217109280818,
          0.0012183283514318121,
          0.00014104217109280818,
          0.00006169857905381814,
          0.00014104217109280818,
          0.000006649111992369316,
          0.00014104217109280818,
          0.00014104217109280818,
          0.000041457715991276914,
          0.0001827290058774359,
          0.00003255035244005765,
          0.00014104217109280818,
          0.000043152851332032996,
          0.000013132685457993015,
          0.0003873355149594792,
          0.00009394539865909861,
          0.000015141606088550034,
          0.00014104217109280818,
          0.00014104217109280818,
          0.000010979101158203502,
          0.00009042469058745515,
          0.00014104217109280818,
          0.0005922830100081741,
          0.00014104217109280818,
          0.000040659998866188436,
          0.000007304293849153322,
          0.000013190247011143633,
          0.0002771851780660366,
          0.00014104217109280818,
          0.000011793253577019868,
          0.00014104217109280818,
          0.00014104217109280818,
          0.00012090110001783887,
          0.00002438448533826013,
          0.00014104217109280818,
          0.0000024023715842238068,
          0.000016722562085900868,
          0.00014104217109280818,
          0.00014518279666303764,
          0.00014104217109280818,
          0.0000886560824137197,
          0.00005577976582868787,
          0.00014104217109280818,
          0.0002141685091668535
         ]
        },
        {
         "name": "LN Equity",
         "type": "scatter",
         "x": [
          "2011Q1",
          "2011Q2",
          "2011Q3",
          "2011Q4",
          "2012Q1",
          "2012Q2",
          "2012Q3",
          "2012Q4",
          "2013Q1",
          "2013Q2",
          "2013Q3",
          "2013Q4",
          "2014Q1",
          "2014Q2",
          "2014Q3",
          "2014Q4",
          "2015Q1",
          "2015Q2",
          "2015Q3",
          "2015Q4",
          "2016Q1",
          "2016Q2",
          "2016Q3",
          "2016Q4",
          "2017Q1",
          "2017Q2",
          "2017Q3",
          "2017Q4",
          "2018Q1",
          "2018Q2",
          "2018Q3",
          "2018Q4",
          "2019Q1",
          "2019Q2",
          "2019Q3",
          "2019Q4",
          "2020Q1",
          "2020Q2",
          "2020Q3",
          "2020Q4",
          "2021Q1",
          "2021Q2",
          "2021Q3",
          "2021Q4"
         ],
         "y": [
          0.0005681991847782146,
          0.0005681991847782146,
          0.0006027765844716464,
          0.0005681991847782146,
          0.0005681991847782146,
          0.0005681991847782146,
          0.0005681991847782146,
          0.0005681991847782146,
          0.0005681991847782146,
          0.0005681991847782146,
          0.0005681991847782146,
          0.0005681991847782146,
          0.0005681991847782146,
          0.0005681991847782146,
          0.0005681991847782146,
          0.0005681991847782146,
          0.0005681991847782146,
          0.0005681991847782146,
          0.0005681991847782146,
          0.0005681991847782146,
          0.0005681991847782146,
          0.0005681991847782146,
          0.0005681991847782146,
          0.0005681991847782146,
          0.0005681991847782146,
          0.0005681991847782146,
          0.0005336217850847828,
          0.0005681991847782146,
          0.0005681991847782146,
          0.0005681991847782146,
          0.0005681991847782146,
          0.0005681991847782146,
          0.0005681991847782146,
          0.0005681991847782146,
          0.0005681991847782146,
          0.0005681991847782146,
          0.0005681991847782146,
          0.0005681991847782146,
          0.0005681991847782146,
          0.0005681991847782146,
          0.0005681991847782146,
          0.0005681991847782146,
          0.0005681991847782146,
          0.0005681991847782146
         ]
        },
        {
         "name": "Motor/Personal",
         "type": "scatter",
         "x": [
          "2011Q1",
          "2011Q2",
          "2011Q3",
          "2011Q4",
          "2012Q1",
          "2012Q2",
          "2012Q3",
          "2012Q4",
          "2013Q1",
          "2013Q2",
          "2013Q3",
          "2013Q4",
          "2014Q1",
          "2014Q2",
          "2014Q3",
          "2014Q4",
          "2015Q1",
          "2015Q2",
          "2015Q3",
          "2015Q4",
          "2016Q1",
          "2016Q2",
          "2016Q3",
          "2016Q4",
          "2017Q1",
          "2017Q2",
          "2017Q3",
          "2017Q4",
          "2018Q1",
          "2018Q2",
          "2018Q3",
          "2018Q4",
          "2019Q1",
          "2019Q2",
          "2019Q3",
          "2019Q4",
          "2020Q1",
          "2020Q2",
          "2020Q3",
          "2020Q4",
          "2021Q1",
          "2021Q2",
          "2021Q3",
          "2021Q4"
         ],
         "y": [
          0.000038802452739613884,
          0.000038802452739613884,
          0.000038802452739613884,
          -1.7336501410742073e-7,
          0.000051080512097614956,
          0.000038802452739613884,
          0.000011393573154317851,
          0.000038802452739613884,
          0.000004992375681799263,
          0.000029221102426061,
          0.00010135693385059986,
          0.000038802452739613884,
          0.00003559199805642672,
          0.000021498700947316598,
          5.26095534595347e-7,
          0.00007317002757446542,
          0.000016385272870884928,
          0.0000014935582617449105,
          0.00002196668892395247,
          0.00009924322368727557,
          0.00008267054516537474,
          0.00003474672845278046,
          0.00004684628634585929,
          0.000017145916687648457,
          0.000007364375103368323,
          0.000027262053879914274,
          0.000016821365099732653,
          0.000038802452739613884,
          0.000006745222300336907,
          0.000014850412195964424,
          0.00001116764446613627,
          0.0001259873062735118,
          0.000011272364744269012,
          0.0000410451839140042,
          0.000003284261222338797,
          0.00001246748161882237,
          0.000038802452739613884,
          0.000002352406842592961,
          0.00015590139339895093,
          0.000011901149933361554,
          0.00005086327795062072,
          0.00007993671959736088,
          0.0001341095284880746,
          0.00003439997689212868
         ]
        },
        {
         "name": "Global Commercial",
         "type": "scatter",
         "x": [
          "2011Q1",
          "2011Q2",
          "2011Q3",
          "2011Q4",
          "2012Q1",
          "2012Q2",
          "2012Q3",
          "2012Q4",
          "2013Q1",
          "2013Q2",
          "2013Q3",
          "2013Q4",
          "2014Q1",
          "2014Q2",
          "2014Q3",
          "2014Q4",
          "2015Q1",
          "2015Q2",
          "2015Q3",
          "2015Q4",
          "2016Q1",
          "2016Q2",
          "2016Q3",
          "2016Q4",
          "2017Q1",
          "2017Q2",
          "2017Q3",
          "2017Q4",
          "2018Q1",
          "2018Q2",
          "2018Q3",
          "2018Q4",
          "2019Q1",
          "2019Q2",
          "2019Q3",
          "2019Q4",
          "2020Q1",
          "2020Q2",
          "2020Q3",
          "2020Q4",
          "2021Q1",
          "2021Q2",
          "2021Q3",
          "2021Q4"
         ],
         "y": [
          0.00018605608211469564,
          0.00018605608211469564,
          0.00018605608211469564,
          0.00018605608211469564,
          0.00018605608211469564,
          0.00018605608211469564,
          0.00018605608211469564,
          0.00018605608211469564,
          0.00018605608211469564,
          0.00018605608211469564,
          0.00018605608211469564,
          0.00018605608211469564,
          0.00007154215484941609,
          0.000002417723447022038,
          0.00018605608211469564,
          0.000019296684237225062,
          0.00003827714608363213,
          0.00017819366342928784,
          0.00008098648694922782,
          0.00007984214482897006,
          0.00007099571721269367,
          0.00010878430605238682,
          0.000022052081375237805,
          0.000007625865647048985,
          0.00009434614667006843,
          0.0003706489589453861,
          0.00012105702510790506,
          0.0002907439252281004,
          0.00007262327261339349,
          0.00006174080449674966,
          0.00016520276194867376,
          0.0007636738846060315,
          0.00007784836352712013,
          0.00004529145899164112,
          0.00018605608211469564,
          0.0001906670515944041,
          0.0002937913561773016,
          0.00018605608211469564,
          0.00018605608211469564,
          0.0007485027990406157,
          0.00017024140834984592,
          0.0005212961117147427,
          0.0001490622392499065,
          0.00039281875683744397
         ]
        },
        {
         "name": "European (Re)Insurers",
         "type": "scatter",
         "x": [
          "2011Q1",
          "2011Q2",
          "2011Q3",
          "2011Q4",
          "2012Q1",
          "2012Q2",
          "2012Q3",
          "2012Q4",
          "2013Q1",
          "2013Q2",
          "2013Q3",
          "2013Q4",
          "2014Q1",
          "2014Q2",
          "2014Q3",
          "2014Q4",
          "2015Q1",
          "2015Q2",
          "2015Q3",
          "2015Q4",
          "2016Q1",
          "2016Q2",
          "2016Q3",
          "2016Q4",
          "2017Q1",
          "2017Q2",
          "2017Q3",
          "2017Q4",
          "2018Q1",
          "2018Q2",
          "2018Q3",
          "2018Q4",
          "2019Q1",
          "2019Q2",
          "2019Q3",
          "2019Q4",
          "2020Q1",
          "2020Q2",
          "2020Q3",
          "2020Q4",
          "2021Q1",
          "2021Q2",
          "2021Q3",
          "2021Q4"
         ],
         "y": [
          0.0004913148556427401,
          0.0004913148556427401,
          0.0004913148556427401,
          0.0004913148556427401,
          0.0004913148556427401,
          0.0004913148556427401,
          0.0004913148556427401,
          0.0004913148556427401,
          0.0004913148556427401,
          0.0004913148556427401,
          0.0004913148556427401,
          0.0004913148556427401,
          0.0004913148556427401,
          0.0017057037104214322,
          0.00010593539460637405,
          0.00015063653199294573,
          0.0007554106161735139,
          0.0004913148556427401,
          0.00025657040074152456,
          0.00005836987061227171,
          0.00008428145520843193,
          0.00023372398521395772,
          0.00018261811058469782,
          0.00033353611573415213,
          0.0002290419688875118,
          0.0003951014078948564,
          0.00028467378768581766,
          0.0012561693518649958,
          0.0006853811897665159,
          0.00014991117565974068,
          0.0003923115152239641,
          0.001413433940894062,
          0.0005874712214124136,
          0.0001033249179756268,
          0.0004913148556427401,
          0.00010508404191687646,
          0.00073289137543121,
          0.000586269738821702,
          0.0004913148556427401,
          0.0002620423387901932,
          0.00045611621027477406,
          0.0004913148556427401,
          0.00031428909947677663,
          0.001445201629087643
         ]
        }
       ],
       "layout": {
        "template": {
         "data": {
          "bar": [
           {
            "error_x": {
             "color": "#2a3f5f"
            },
            "error_y": {
             "color": "#2a3f5f"
            },
            "marker": {
             "line": {
              "color": "#E5ECF6",
              "width": 0.5
             },
             "pattern": {
              "fillmode": "overlay",
              "size": 10,
              "solidity": 0.2
             }
            },
            "type": "bar"
           }
          ],
          "barpolar": [
           {
            "marker": {
             "line": {
              "color": "#E5ECF6",
              "width": 0.5
             },
             "pattern": {
              "fillmode": "overlay",
              "size": 10,
              "solidity": 0.2
             }
            },
            "type": "barpolar"
           }
          ],
          "carpet": [
           {
            "aaxis": {
             "endlinecolor": "#2a3f5f",
             "gridcolor": "white",
             "linecolor": "white",
             "minorgridcolor": "white",
             "startlinecolor": "#2a3f5f"
            },
            "baxis": {
             "endlinecolor": "#2a3f5f",
             "gridcolor": "white",
             "linecolor": "white",
             "minorgridcolor": "white",
             "startlinecolor": "#2a3f5f"
            },
            "type": "carpet"
           }
          ],
          "choropleth": [
           {
            "colorbar": {
             "outlinewidth": 0,
             "ticks": ""
            },
            "type": "choropleth"
           }
          ],
          "contour": [
           {
            "colorbar": {
             "outlinewidth": 0,
             "ticks": ""
            },
            "colorscale": [
             [
              0,
              "#0d0887"
             ],
             [
              0.1111111111111111,
              "#46039f"
             ],
             [
              0.2222222222222222,
              "#7201a8"
             ],
             [
              0.3333333333333333,
              "#9c179e"
             ],
             [
              0.4444444444444444,
              "#bd3786"
             ],
             [
              0.5555555555555556,
              "#d8576b"
             ],
             [
              0.6666666666666666,
              "#ed7953"
             ],
             [
              0.7777777777777778,
              "#fb9f3a"
             ],
             [
              0.8888888888888888,
              "#fdca26"
             ],
             [
              1,
              "#f0f921"
             ]
            ],
            "type": "contour"
           }
          ],
          "contourcarpet": [
           {
            "colorbar": {
             "outlinewidth": 0,
             "ticks": ""
            },
            "type": "contourcarpet"
           }
          ],
          "heatmap": [
           {
            "colorbar": {
             "outlinewidth": 0,
             "ticks": ""
            },
            "colorscale": [
             [
              0,
              "#0d0887"
             ],
             [
              0.1111111111111111,
              "#46039f"
             ],
             [
              0.2222222222222222,
              "#7201a8"
             ],
             [
              0.3333333333333333,
              "#9c179e"
             ],
             [
              0.4444444444444444,
              "#bd3786"
             ],
             [
              0.5555555555555556,
              "#d8576b"
             ],
             [
              0.6666666666666666,
              "#ed7953"
             ],
             [
              0.7777777777777778,
              "#fb9f3a"
             ],
             [
              0.8888888888888888,
              "#fdca26"
             ],
             [
              1,
              "#f0f921"
             ]
            ],
            "type": "heatmap"
           }
          ],
          "heatmapgl": [
           {
            "colorbar": {
             "outlinewidth": 0,
             "ticks": ""
            },
            "colorscale": [
             [
              0,
              "#0d0887"
             ],
             [
              0.1111111111111111,
              "#46039f"
             ],
             [
              0.2222222222222222,
              "#7201a8"
             ],
             [
              0.3333333333333333,
              "#9c179e"
             ],
             [
              0.4444444444444444,
              "#bd3786"
             ],
             [
              0.5555555555555556,
              "#d8576b"
             ],
             [
              0.6666666666666666,
              "#ed7953"
             ],
             [
              0.7777777777777778,
              "#fb9f3a"
             ],
             [
              0.8888888888888888,
              "#fdca26"
             ],
             [
              1,
              "#f0f921"
             ]
            ],
            "type": "heatmapgl"
           }
          ],
          "histogram": [
           {
            "marker": {
             "pattern": {
              "fillmode": "overlay",
              "size": 10,
              "solidity": 0.2
             }
            },
            "type": "histogram"
           }
          ],
          "histogram2d": [
           {
            "colorbar": {
             "outlinewidth": 0,
             "ticks": ""
            },
            "colorscale": [
             [
              0,
              "#0d0887"
             ],
             [
              0.1111111111111111,
              "#46039f"
             ],
             [
              0.2222222222222222,
              "#7201a8"
             ],
             [
              0.3333333333333333,
              "#9c179e"
             ],
             [
              0.4444444444444444,
              "#bd3786"
             ],
             [
              0.5555555555555556,
              "#d8576b"
             ],
             [
              0.6666666666666666,
              "#ed7953"
             ],
             [
              0.7777777777777778,
              "#fb9f3a"
             ],
             [
              0.8888888888888888,
              "#fdca26"
             ],
             [
              1,
              "#f0f921"
             ]
            ],
            "type": "histogram2d"
           }
          ],
          "histogram2dcontour": [
           {
            "colorbar": {
             "outlinewidth": 0,
             "ticks": ""
            },
            "colorscale": [
             [
              0,
              "#0d0887"
             ],
             [
              0.1111111111111111,
              "#46039f"
             ],
             [
              0.2222222222222222,
              "#7201a8"
             ],
             [
              0.3333333333333333,
              "#9c179e"
             ],
             [
              0.4444444444444444,
              "#bd3786"
             ],
             [
              0.5555555555555556,
              "#d8576b"
             ],
             [
              0.6666666666666666,
              "#ed7953"
             ],
             [
              0.7777777777777778,
              "#fb9f3a"
             ],
             [
              0.8888888888888888,
              "#fdca26"
             ],
             [
              1,
              "#f0f921"
             ]
            ],
            "type": "histogram2dcontour"
           }
          ],
          "mesh3d": [
           {
            "colorbar": {
             "outlinewidth": 0,
             "ticks": ""
            },
            "type": "mesh3d"
           }
          ],
          "parcoords": [
           {
            "line": {
             "colorbar": {
              "outlinewidth": 0,
              "ticks": ""
             }
            },
            "type": "parcoords"
           }
          ],
          "pie": [
           {
            "automargin": true,
            "type": "pie"
           }
          ],
          "scatter": [
           {
            "fillpattern": {
             "fillmode": "overlay",
             "size": 10,
             "solidity": 0.2
            },
            "type": "scatter"
           }
          ],
          "scatter3d": [
           {
            "line": {
             "colorbar": {
              "outlinewidth": 0,
              "ticks": ""
             }
            },
            "marker": {
             "colorbar": {
              "outlinewidth": 0,
              "ticks": ""
             }
            },
            "type": "scatter3d"
           }
          ],
          "scattercarpet": [
           {
            "marker": {
             "colorbar": {
              "outlinewidth": 0,
              "ticks": ""
             }
            },
            "type": "scattercarpet"
           }
          ],
          "scattergeo": [
           {
            "marker": {
             "colorbar": {
              "outlinewidth": 0,
              "ticks": ""
             }
            },
            "type": "scattergeo"
           }
          ],
          "scattergl": [
           {
            "marker": {
             "colorbar": {
              "outlinewidth": 0,
              "ticks": ""
             }
            },
            "type": "scattergl"
           }
          ],
          "scattermapbox": [
           {
            "marker": {
             "colorbar": {
              "outlinewidth": 0,
              "ticks": ""
             }
            },
            "type": "scattermapbox"
           }
          ],
          "scatterpolar": [
           {
            "marker": {
             "colorbar": {
              "outlinewidth": 0,
              "ticks": ""
             }
            },
            "type": "scatterpolar"
           }
          ],
          "scatterpolargl": [
           {
            "marker": {
             "colorbar": {
              "outlinewidth": 0,
              "ticks": ""
             }
            },
            "type": "scatterpolargl"
           }
          ],
          "scatterternary": [
           {
            "marker": {
             "colorbar": {
              "outlinewidth": 0,
              "ticks": ""
             }
            },
            "type": "scatterternary"
           }
          ],
          "surface": [
           {
            "colorbar": {
             "outlinewidth": 0,
             "ticks": ""
            },
            "colorscale": [
             [
              0,
              "#0d0887"
             ],
             [
              0.1111111111111111,
              "#46039f"
             ],
             [
              0.2222222222222222,
              "#7201a8"
             ],
             [
              0.3333333333333333,
              "#9c179e"
             ],
             [
              0.4444444444444444,
              "#bd3786"
             ],
             [
              0.5555555555555556,
              "#d8576b"
             ],
             [
              0.6666666666666666,
              "#ed7953"
             ],
             [
              0.7777777777777778,
              "#fb9f3a"
             ],
             [
              0.8888888888888888,
              "#fdca26"
             ],
             [
              1,
              "#f0f921"
             ]
            ],
            "type": "surface"
           }
          ],
          "table": [
           {
            "cells": {
             "fill": {
              "color": "#EBF0F8"
             },
             "line": {
              "color": "white"
             }
            },
            "header": {
             "fill": {
              "color": "#C8D4E3"
             },
             "line": {
              "color": "white"
             }
            },
            "type": "table"
           }
          ]
         },
         "layout": {
          "annotationdefaults": {
           "arrowcolor": "#2a3f5f",
           "arrowhead": 0,
           "arrowwidth": 1
          },
          "autotypenumbers": "strict",
          "coloraxis": {
           "colorbar": {
            "outlinewidth": 0,
            "ticks": ""
           }
          },
          "colorscale": {
           "diverging": [
            [
             0,
             "#8e0152"
            ],
            [
             0.1,
             "#c51b7d"
            ],
            [
             0.2,
             "#de77ae"
            ],
            [
             0.3,
             "#f1b6da"
            ],
            [
             0.4,
             "#fde0ef"
            ],
            [
             0.5,
             "#f7f7f7"
            ],
            [
             0.6,
             "#e6f5d0"
            ],
            [
             0.7,
             "#b8e186"
            ],
            [
             0.8,
             "#7fbc41"
            ],
            [
             0.9,
             "#4d9221"
            ],
            [
             1,
             "#276419"
            ]
           ],
           "sequential": [
            [
             0,
             "#0d0887"
            ],
            [
             0.1111111111111111,
             "#46039f"
            ],
            [
             0.2222222222222222,
             "#7201a8"
            ],
            [
             0.3333333333333333,
             "#9c179e"
            ],
            [
             0.4444444444444444,
             "#bd3786"
            ],
            [
             0.5555555555555556,
             "#d8576b"
            ],
            [
             0.6666666666666666,
             "#ed7953"
            ],
            [
             0.7777777777777778,
             "#fb9f3a"
            ],
            [
             0.8888888888888888,
             "#fdca26"
            ],
            [
             1,
             "#f0f921"
            ]
           ],
           "sequentialminus": [
            [
             0,
             "#0d0887"
            ],
            [
             0.1111111111111111,
             "#46039f"
            ],
            [
             0.2222222222222222,
             "#7201a8"
            ],
            [
             0.3333333333333333,
             "#9c179e"
            ],
            [
             0.4444444444444444,
             "#bd3786"
            ],
            [
             0.5555555555555556,
             "#d8576b"
            ],
            [
             0.6666666666666666,
             "#ed7953"
            ],
            [
             0.7777777777777778,
             "#fb9f3a"
            ],
            [
             0.8888888888888888,
             "#fdca26"
            ],
            [
             1,
             "#f0f921"
            ]
           ]
          },
          "colorway": [
           "#636efa",
           "#EF553B",
           "#00cc96",
           "#ab63fa",
           "#FFA15A",
           "#19d3f3",
           "#FF6692",
           "#B6E880",
           "#FF97FF",
           "#FECB52"
          ],
          "font": {
           "color": "#2a3f5f"
          },
          "geo": {
           "bgcolor": "white",
           "lakecolor": "white",
           "landcolor": "#E5ECF6",
           "showlakes": true,
           "showland": true,
           "subunitcolor": "white"
          },
          "hoverlabel": {
           "align": "left"
          },
          "hovermode": "closest",
          "mapbox": {
           "style": "light"
          },
          "paper_bgcolor": "white",
          "plot_bgcolor": "#E5ECF6",
          "polar": {
           "angularaxis": {
            "gridcolor": "white",
            "linecolor": "white",
            "ticks": ""
           },
           "bgcolor": "#E5ECF6",
           "radialaxis": {
            "gridcolor": "white",
            "linecolor": "white",
            "ticks": ""
           }
          },
          "scene": {
           "xaxis": {
            "backgroundcolor": "#E5ECF6",
            "gridcolor": "white",
            "gridwidth": 2,
            "linecolor": "white",
            "showbackground": true,
            "ticks": "",
            "zerolinecolor": "white"
           },
           "yaxis": {
            "backgroundcolor": "#E5ECF6",
            "gridcolor": "white",
            "gridwidth": 2,
            "linecolor": "white",
            "showbackground": true,
            "ticks": "",
            "zerolinecolor": "white"
           },
           "zaxis": {
            "backgroundcolor": "#E5ECF6",
            "gridcolor": "white",
            "gridwidth": 2,
            "linecolor": "white",
            "showbackground": true,
            "ticks": "",
            "zerolinecolor": "white"
           }
          },
          "shapedefaults": {
           "line": {
            "color": "#2a3f5f"
           }
          },
          "ternary": {
           "aaxis": {
            "gridcolor": "white",
            "linecolor": "white",
            "ticks": ""
           },
           "baxis": {
            "gridcolor": "white",
            "linecolor": "white",
            "ticks": ""
           },
           "bgcolor": "#E5ECF6",
           "caxis": {
            "gridcolor": "white",
            "linecolor": "white",
            "ticks": ""
           }
          },
          "title": {
           "x": 0.05
          },
          "xaxis": {
           "automargin": true,
           "gridcolor": "white",
           "linecolor": "white",
           "ticks": "",
           "title": {
            "standoff": 15
           },
           "zerolinecolor": "white",
           "zerolinewidth": 2
          },
          "yaxis": {
           "automargin": true,
           "gridcolor": "white",
           "linecolor": "white",
           "ticks": "",
           "title": {
            "standoff": 15
           },
           "zerolinecolor": "white",
           "zerolinewidth": 2
          }
         }
        },
        "title": {
         "text": "sentiment_topic_2 by Group"
        },
        "xaxis": {
         "rangeslider": {
          "visible": true
         },
         "ticktext": [
          "2011Q1",
          "2011Q2",
          "2011Q3",
          "2011Q4",
          "2012Q1",
          "2012Q2",
          "2012Q3",
          "2012Q4",
          "2013Q1",
          "2013Q2",
          "2013Q3",
          "2013Q4",
          "2014Q1",
          "2014Q2",
          "2014Q3",
          "2014Q4",
          "2015Q1",
          "2015Q2",
          "2015Q3",
          "2015Q4",
          "2016Q1",
          "2016Q2",
          "2016Q3",
          "2016Q4",
          "2017Q1",
          "2017Q2",
          "2017Q3",
          "2017Q4",
          "2018Q1",
          "2018Q2",
          "2018Q3",
          "2018Q4",
          "2019Q1",
          "2019Q2",
          "2019Q3",
          "2019Q4",
          "2020Q1",
          "2020Q2",
          "2020Q3",
          "2020Q4",
          "2021Q1",
          "2021Q2",
          "2021Q3",
          "2021Q4"
         ],
         "tickvals": [
          "2011Q1",
          "2011Q2",
          "2011Q3",
          "2011Q4",
          "2012Q1",
          "2012Q2",
          "2012Q3",
          "2012Q4",
          "2013Q1",
          "2013Q2",
          "2013Q3",
          "2013Q4",
          "2014Q1",
          "2014Q2",
          "2014Q3",
          "2014Q4",
          "2015Q1",
          "2015Q2",
          "2015Q3",
          "2015Q4",
          "2016Q1",
          "2016Q2",
          "2016Q3",
          "2016Q4",
          "2017Q1",
          "2017Q2",
          "2017Q3",
          "2017Q4",
          "2018Q1",
          "2018Q2",
          "2018Q3",
          "2018Q4",
          "2019Q1",
          "2019Q2",
          "2019Q3",
          "2019Q4",
          "2020Q1",
          "2020Q2",
          "2020Q3",
          "2020Q4",
          "2021Q1",
          "2021Q2",
          "2021Q3",
          "2021Q4"
         ],
         "title": {
          "text": "year_quater"
         }
        },
        "yaxis": {
         "title": {
          "text": "sentiment_topic_2"
         }
        }
       }
      }
     },
     "metadata": {},
     "output_type": "display_data"
    }
   ],
   "source": [
    "import plotly.express as px\n",
    "import plotly.graph_objects as go\n",
    "Group = df_MD_same_groupby['Group'].unique().tolist()\n",
    "# df_MD_same_group_tp2[\"year_quater\"] to str\n",
    "df_MD_same_group_tp2[\"year_quater\"] = df_MD_same_group_tp2[\"year_quater\"].astype(str)\n",
    "fig_size = (30, 10)\n",
    "fig = go.Figure()\n",
    "for i in Group:\n",
    "    df_tmp = df_MD_same_group_tp2[['year_quater', i]]\n",
    "    # # sort by year_quater\n",
    "    # df_tmp = df_tmp.sort_values(by='year_quater')\n",
    "    # df_tmp.reset_index(drop=True, inplace=True)\n",
    "    # plot the line\n",
    "    fig.add_trace(go.Line(\n",
    "        x=df_tmp['year_quater'],\n",
    "        y=df_tmp[i], \n",
    "        name=i)\n",
    "        )\n",
    "fig.update_layout(title='sentiment_topic_2 by Group', xaxis_title='year_quater', yaxis_title='sentiment_topic_2')\n",
    "# update the ticker by df_MD_same_group_tp2['year_quater'] with same wide\n",
    "fig.update_xaxes(tickvals=df_MD_same_group_tp2['year_quater'], ticktext=df_MD_same_group_tp2['year_quater'])\n",
    "\n",
    "# df_MD_same_group_tp2['year_quater'] = pd.to_datetime(df_MD_same_group_tp2['year_quater'])\n",
    "# Add range slider\n",
    "fig.update_layout(\n",
    "    xaxis_rangeslider_visible=True,\n",
    ")\n",
    "\n",
    "fig.show()"
   ]
  },
  {
   "cell_type": "code",
   "execution_count": null,
   "metadata": {},
   "outputs": [],
   "source": [
    "import plotly.graph_objects as go\n",
    "import plotly.express as px\n",
    "from plotly.subplots import make_subplots\n",
    "import yfinance as yf\n",
    "from decimal import Decimal\n",
    "\n",
    "fig = go.Figure(go.Candlestick(x=df.index,\n",
    "open=df['Open'],\n",
    "high=df['High'],\n",
    "low=df['Low'],\n",
    "close=df['Close']))\n",
    "# hide weekends\n",
    "fig.update_xaxes(rangebreaks=[dict(bounds=[\"sat\", \"mon\"])])\n",
    "\n",
    "# # add moving averages to df\n",
    "# df['MA30'] = df['Close'].rolling(window=30).mean()\n",
    "# df['MA15'] = df['Close'].rolling(window=15).mean()\n",
    "# df['MA5'] = df['Close'].rolling(window=5).mean()\n",
    "\n",
    "# fig.add_trace(go.Scatter(x=df.index, \n",
    "#                         y=df['MA5'], \n",
    "#                         opacity=0.7, \n",
    "#                         line=dict(color='blue', width=1), \n",
    "#                         name='MA 5'))\n",
    "# fig.add_trace(go.Scatter(x=df.index, \n",
    "#                         y=df['MA15'], \n",
    "#                         opacity=0.7, \n",
    "#                         line=dict(color='purple', width=1), \n",
    "#                         name='MA 15'))\n",
    "# fig.add_trace(go.Scatter(x=df.index, \n",
    "#                         y=df['MA30'], \n",
    "#                         opacity=0.7, \n",
    "#                         line=dict(color='black', width=1), \n",
    "#                         name='MA 30'))\n",
    "# # removing all empty dates\n",
    "# # build complete timeline from start date to end date\n",
    "# dt_all = pd.date_range(start=df.index[0],end=df.index[-1])\n",
    "# # retrieve the dates that ARE in the original datset\n",
    "# dt_obs = [d.strftime(\"%Y-%m-%d\") for d in pd.to_datetime(df.index)]\n",
    "# # define dates with missing values\n",
    "# dt_breaks = [d for d in dt_all.strftime(\"%Y-%m-%d\").tolist() if not d in dt_obs]\n",
    "# fig.update_xaxes(rangebreaks=[dict(values=dt_breaks)])\n",
    "# fig.update_layout(\n",
    "# height=700,\n",
    "# width=1000,\n",
    "# title_text=ticker,\n",
    "# xaxis2=dict(rangeslider=dict(visible=False))\n",
    "# )\n",
    "# for i in range(len(test)):\n",
    "#     fig.add_shape(\n",
    "#         type=\"rect\",\n",
    "#         x0=test.iloc[i]['start_date'],\n",
    "#         y0=min(df['Close']-20),\n",
    "#         x1=test.iloc[i]['end_date'],\n",
    "#         y1=max(df['Close']+20),\n",
    "#         # make the fillcolor to be continuous as the range of test.iloc[i]['WA_sentiment_normalized']\n",
    "#         fillcolor=px.colors.sequential.Viridis[\n",
    "#             int(test.iloc[i]['WA_sentiment_normalized'])\n",
    "#         ],\n",
    "#         line_width=0,\n",
    "#         opacity=0.35\n",
    "#     )\n",
    "\n",
    "# # fig make annotation\n",
    "# for i in range(len(test)):\n",
    "#     fig.add_annotation(\n",
    "#         x=test.iloc[i]['start_date'],\n",
    "#         y=max(df['Close']+20),\n",
    "#         # text = test.iloc[i]['WA_sentiment'] round with 4 decimal places\n",
    "#         text=round(test.iloc[i]['WA_sentiment'],4),\n",
    "#         showarrow=True,\n",
    "#         arrowhead=7,\n",
    "#         ax=0,\n",
    "#         ay=-10,\n",
    "#         # change the size of the text\n",
    "#         font=dict(size=8)\n",
    "#     )\n",
    "\n",
    "# fig.show()"
   ]
  },
  {
   "cell_type": "code",
   "execution_count": null,
   "metadata": {},
   "outputs": [],
   "source": []
  },
  {
   "cell_type": "code",
   "execution_count": null,
   "metadata": {},
   "outputs": [],
   "source": []
  },
  {
   "cell_type": "code",
   "execution_count": null,
   "metadata": {},
   "outputs": [],
   "source": []
  },
  {
   "cell_type": "code",
   "execution_count": null,
   "metadata": {},
   "outputs": [],
   "source": []
  },
  {
   "cell_type": "code",
   "execution_count": 30,
   "metadata": {},
   "outputs": [
    {
     "ename": "NameError",
     "evalue": "name 'lda_model' is not defined",
     "output_type": "error",
     "traceback": [
      "\u001b[0;31m---------------------------------------------------------------------------\u001b[0m",
      "\u001b[0;31mNameError\u001b[0m                                 Traceback (most recent call last)",
      "\u001b[0;32m/var/folders/sq/sxhsy98j6f57m406rd5lz1_r0000gn/T/ipykernel_4364/3356623428.py\u001b[0m in \u001b[0;36m<module>\u001b[0;34m\u001b[0m\n\u001b[0;32m----> 1\u001b[0;31m \u001b[0;32mdef\u001b[0m \u001b[0msentences_chart\u001b[0m\u001b[0;34m(\u001b[0m\u001b[0mlda_model\u001b[0m\u001b[0;34m=\u001b[0m\u001b[0mlda_model\u001b[0m\u001b[0;34m,\u001b[0m \u001b[0mcorpus\u001b[0m\u001b[0;34m=\u001b[0m\u001b[0mcorpus\u001b[0m\u001b[0;34m,\u001b[0m \u001b[0mstart\u001b[0m \u001b[0;34m=\u001b[0m \u001b[0;36m0\u001b[0m\u001b[0;34m,\u001b[0m \u001b[0mend\u001b[0m \u001b[0;34m=\u001b[0m \u001b[0;36m13\u001b[0m\u001b[0;34m)\u001b[0m\u001b[0;34m:\u001b[0m\u001b[0;34m\u001b[0m\u001b[0;34m\u001b[0m\u001b[0m\n\u001b[0m\u001b[1;32m      2\u001b[0m     \u001b[0mcorp\u001b[0m \u001b[0;34m=\u001b[0m \u001b[0mcorpus\u001b[0m\u001b[0;34m[\u001b[0m\u001b[0mstart\u001b[0m\u001b[0;34m:\u001b[0m\u001b[0mend\u001b[0m\u001b[0;34m]\u001b[0m\u001b[0;34m\u001b[0m\u001b[0;34m\u001b[0m\u001b[0m\n\u001b[1;32m      3\u001b[0m     \u001b[0mmycolors\u001b[0m \u001b[0;34m=\u001b[0m \u001b[0;34m[\u001b[0m\u001b[0mcolor\u001b[0m \u001b[0;32mfor\u001b[0m \u001b[0mname\u001b[0m\u001b[0;34m,\u001b[0m \u001b[0mcolor\u001b[0m \u001b[0;32min\u001b[0m \u001b[0mmcolors\u001b[0m\u001b[0;34m.\u001b[0m\u001b[0mTABLEAU_COLORS\u001b[0m\u001b[0;34m.\u001b[0m\u001b[0mitems\u001b[0m\u001b[0;34m(\u001b[0m\u001b[0;34m)\u001b[0m\u001b[0;34m]\u001b[0m\u001b[0;34m\u001b[0m\u001b[0;34m\u001b[0m\u001b[0m\n\u001b[1;32m      4\u001b[0m \u001b[0;34m\u001b[0m\u001b[0m\n\u001b[1;32m      5\u001b[0m     \u001b[0mfig\u001b[0m\u001b[0;34m,\u001b[0m \u001b[0maxes\u001b[0m \u001b[0;34m=\u001b[0m \u001b[0mplt\u001b[0m\u001b[0;34m.\u001b[0m\u001b[0msubplots\u001b[0m\u001b[0;34m(\u001b[0m\u001b[0mend\u001b[0m\u001b[0;34m-\u001b[0m\u001b[0mstart\u001b[0m\u001b[0;34m,\u001b[0m \u001b[0;36m1\u001b[0m\u001b[0;34m,\u001b[0m \u001b[0mfigsize\u001b[0m\u001b[0;34m=\u001b[0m\u001b[0;34m(\u001b[0m\u001b[0;36m20\u001b[0m\u001b[0;34m,\u001b[0m \u001b[0;34m(\u001b[0m\u001b[0mend\u001b[0m\u001b[0;34m-\u001b[0m\u001b[0mstart\u001b[0m\u001b[0;34m)\u001b[0m\u001b[0;34m*\u001b[0m\u001b[0;36m0.95\u001b[0m\u001b[0;34m)\u001b[0m\u001b[0;34m,\u001b[0m \u001b[0mdpi\u001b[0m\u001b[0;34m=\u001b[0m\u001b[0;36m160\u001b[0m\u001b[0;34m)\u001b[0m\u001b[0;34m\u001b[0m\u001b[0;34m\u001b[0m\u001b[0m\n",
      "\u001b[0;31mNameError\u001b[0m: name 'lda_model' is not defined"
     ]
    }
   ],
   "source": [
    "def sentences_chart(lda_model=lda_model, corpus=corpus, start = 0, end = 13):\n",
    "    corp = corpus[start:end]\n",
    "    mycolors = [color for name, color in mcolors.TABLEAU_COLORS.items()]\n",
    "\n",
    "    fig, axes = plt.subplots(end-start, 1, figsize=(20, (end-start)*0.95), dpi=160)       \n",
    "    axes[0].axis('off')\n",
    "    for i, ax in enumerate(axes):\n",
    "        if i > 0:\n",
    "            corp_cur = corp[i-1] \n",
    "            topic_percs, wordid_topics, wordid_phivalues = lda_model[corp_cur]\n",
    "            word_dominanttopic = [(lda_model.id2word[wd], topic[0]) for wd, topic in wordid_topics]    \n",
    "            ax.text(0.01, 0.5, \"Doc \" + str(i-1) + \": \", verticalalignment='center',\n",
    "                    fontsize=16, color='black', transform=ax.transAxes, fontweight=700)\n",
    "\n",
    "            # Draw Rectange\n",
    "            topic_percs_sorted = sorted(topic_percs, key=lambda x: (x[1]), reverse=True)\n",
    "            ax.add_patch(Rectangle((0.0, 0.05), 0.99, 0.90, fill=None, alpha=1, \n",
    "                                   color=mycolors[topic_percs_sorted[0][0]], linewidth=2))\n",
    "\n",
    "            word_pos = 0.06\n",
    "            for j, (word, topics) in enumerate(word_dominanttopic):\n",
    "                if j < 14:\n",
    "                    ax.text(word_pos, 0.5, word,\n",
    "                            horizontalalignment='left',\n",
    "                            verticalalignment='center',\n",
    "                            fontsize=16, color=mycolors[topics],\n",
    "                            transform=ax.transAxes, fontweight=700)\n",
    "                    word_pos += .009 * len(word)  # to move the word for the next iter\n",
    "                    ax.axis('off')\n",
    "            ax.text(word_pos, 0.5, '. . .',\n",
    "                    horizontalalignment='left',\n",
    "                    verticalalignment='center',\n",
    "                    fontsize=16, color='black',\n",
    "                    transform=ax.transAxes)       \n",
    "\n",
    "    plt.subplots_adjust(wspace=0, hspace=0)\n",
    "    plt.suptitle('Sentence Topic Coloring for Documents: ' + str(start) + ' to ' + str(end-2), fontsize=22, y=0.95, fontweight=700)\n",
    "    plt.tight_layout()\n",
    "    plt.show()\n",
    "\n",
    "sentences_chart()    "
   ]
  },
  {
   "cell_type": "code",
   "execution_count": null,
   "metadata": {},
   "outputs": [],
   "source": []
  }
 ],
 "metadata": {
  "kernelspec": {
   "display_name": "Python 3.9.7",
   "language": "python",
   "name": "python3"
  },
  "language_info": {
   "codemirror_mode": {
    "name": "ipython",
    "version": 3
   },
   "file_extension": ".py",
   "mimetype": "text/x-python",
   "name": "python",
   "nbconvert_exporter": "python",
   "pygments_lexer": "ipython3",
   "version": "3.9.7"
  },
  "orig_nbformat": 4,
  "vscode": {
   "interpreter": {
    "hash": "40d3a090f54c6569ab1632332b64b2c03c39dcf918b08424e98f38b5ae0af88f"
   }
  }
 },
 "nbformat": 4,
 "nbformat_minor": 2
}
