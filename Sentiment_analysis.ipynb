{
 "cells": [
  {
   "cell_type": "markdown",
   "id": "62dcabbf",
   "metadata": {
    "id": "jJCjimtP7Y9k"
   },
   "source": [
    "# packages"
   ]
  },
  {
   "cell_type": "code",
   "execution_count": 1,
   "id": "0f980a14",
   "metadata": {
    "ExecuteTime": {
     "end_time": "2022-07-11T08:34:29.173939Z",
     "start_time": "2022-07-11T08:34:27.611367Z"
    },
    "id": "BLxQm9ut44uC"
   },
   "outputs": [],
   "source": [
    "import numpy as np\n",
    "import pandas as pd\n",
    "\n",
    "import re\n",
    "import string \n",
    "\n",
    "from collections import Counter\n",
    "\n",
    "from sklearn.model_selection import train_test_split\n",
    "from sklearn.pipeline import Pipeline\n",
    "from sklearn.naive_bayes import MultinomialNB\n",
    "from sklearn.feature_extraction.text import CountVectorizer, TfidfTransformer\n",
    "from sklearn.metrics import confusion_matrix,classification_report, accuracy_score\n",
    "from sklearn.linear_model import LogisticRegression"
   ]
  },
  {
   "cell_type": "code",
   "execution_count": 2,
   "id": "f8a21afa",
   "metadata": {
    "ExecuteTime": {
     "end_time": "2022-07-11T08:34:29.742043Z",
     "start_time": "2022-07-11T08:34:29.174899Z"
    },
    "colab": {
     "base_uri": "https://localhost:8080/"
    },
    "id": "ldFnjKja4hn4",
    "outputId": "03a11873-2ccf-4cc8-c737-761b9d5889b3",
    "scrolled": true
   },
   "outputs": [
    {
     "name": "stderr",
     "output_type": "stream",
     "text": [
      "[nltk_data] Downloading package twitter_samples to\n",
      "[nltk_data]     /Users/hienanh/nltk_data...\n",
      "[nltk_data]   Package twitter_samples is already up-to-date!\n",
      "[nltk_data] Downloading package stopwords to\n",
      "[nltk_data]     /Users/hienanh/nltk_data...\n",
      "[nltk_data]   Package stopwords is already up-to-date!\n"
     ]
    }
   ],
   "source": [
    "import nltk \n",
    "nltk.download('twitter_samples')\n",
    "from nltk.corpus import twitter_samples\n",
    "from nltk.corpus import stopwords          # module for stop words that come with NLTK\n",
    "nltk.download('stopwords')\n",
    "from nltk.stem import PorterStemmer        # module for stemming\n",
    "from nltk.tokenize import TweetTokenizer   # module for tokenizing strings"
   ]
  },
  {
   "cell_type": "markdown",
   "id": "1a2d8164",
   "metadata": {
    "id": "iunjgx1U7d5U"
   },
   "source": [
    "# prepare data"
   ]
  },
  {
   "cell_type": "code",
   "execution_count": 3,
   "id": "f6b215f9",
   "metadata": {
    "ExecuteTime": {
     "end_time": "2022-07-11T08:34:29.749175Z",
     "start_time": "2022-07-11T08:34:29.743469Z"
    },
    "colab": {
     "base_uri": "https://localhost:8080/"
    },
    "id": "oYvfU-ZO4rak",
    "outputId": "b9dec906-9296-46fa-f972-c90ae1a36541"
   },
   "outputs": [
    {
     "data": {
      "text/plain": [
       "['negative_tweets.json', 'positive_tweets.json', 'tweets.20150430-223406.json']"
      ]
     },
     "execution_count": 3,
     "metadata": {},
     "output_type": "execute_result"
    }
   ],
   "source": [
    "twitter_samples.fileids()"
   ]
  },
  {
   "cell_type": "code",
   "execution_count": 4,
   "id": "312e274c",
   "metadata": {
    "ExecuteTime": {
     "end_time": "2022-07-11T08:34:30.169657Z",
     "start_time": "2022-07-11T08:34:29.749979Z"
    },
    "colab": {
     "base_uri": "https://localhost:8080/"
    },
    "id": "0pbZIEVM7gL5",
    "outputId": "a20d82c5-df89-46a0-968e-1b51adcdbedd"
   },
   "outputs": [
    {
     "name": "stdout",
     "output_type": "stream",
     "text": [
      "There are 5000 negative sentences.\n",
      "There are 5000 positive sentences.\n"
     ]
    }
   ],
   "source": [
    "# documents\n",
    "docs_negative = [(t, \"neg\") for t in twitter_samples.strings(\"negative_tweets.json\")]\n",
    "docs_positive = [(t, \"pos\") for t in twitter_samples.strings(\"positive_tweets.json\")]\n",
    "print(f'There are {len(docs_negative)} negative sentences.')\n",
    "print(f'There are {len(docs_positive)} positive sentences.')"
   ]
  },
  {
   "cell_type": "code",
   "execution_count": 5,
   "id": "32b47913",
   "metadata": {
    "ExecuteTime": {
     "end_time": "2022-07-11T08:34:30.172549Z",
     "start_time": "2022-07-11T08:34:30.170576Z"
    },
    "id": "A4DqUiXg9BO1"
   },
   "outputs": [],
   "source": [
    "# spliting dataset \n",
    "train_set = docs_negative[:3500] + docs_positive[:3500]\n",
    "test_set = docs_negative[3500:4250] + docs_positive[3500:4250]\n",
    "valid_set = docs_negative[4250:] + docs_positive[4250:]"
   ]
  },
  {
   "cell_type": "code",
   "execution_count": 6,
   "id": "601e2644",
   "metadata": {
    "ExecuteTime": {
     "end_time": "2022-07-11T08:34:30.177878Z",
     "start_time": "2022-07-11T08:34:30.173385Z"
    },
    "id": "oXbyNau15TTA"
   },
   "outputs": [],
   "source": [
    "# clean text\n",
    "def process_text(text):\n",
    "    stemmer = PorterStemmer()\n",
    "    stopwords_english = stopwords.words('english')\n",
    "    #text = text.str\n",
    "    text = str(text)\n",
    "    text = re.sub(r'\\$\\w*', '', text)\n",
    "    text = re.sub(r'^RT[\\s]+', '', text)\n",
    "    text = re.sub(r'https?:\\/\\/.*[\\r\\n]*', '', text)\n",
    "    text = re.sub(r'#', '', text)\n",
    "    tokenizer = TweetTokenizer(preserve_case=False, strip_handles=True,reduce_len=True)\n",
    "    text_tokens = tokenizer.tokenize(text)\n",
    "\n",
    "    text_clean = []\n",
    "    for word in text_tokens:\n",
    "        if (word not in stopwords_english and  \n",
    "                word not in string.punctuation): \n",
    "            stem_word = stemmer.stem(word)  # stemming word\n",
    "            text_clean.append(stem_word)\n",
    "            \n",
    "    sentence = ' '.join(text_clean)\n",
    "    \n",
    "    return sentence\n",
    "\n",
    "# categorical label\n",
    "def cat_label(label):\n",
    "    if label == 'neg':\n",
    "        value = -1\n",
    "    elif label == 'pos':\n",
    "        value = 1\n",
    "    return value \n",
    "\n",
    "# split for x and y \n",
    "def xy(dataset):\n",
    "    df = pd.DataFrame(dataset, columns = ['text', 'label'])\n",
    "    df['text_clean'] = df['text'].apply(lambda r: process_text(r))\n",
    "    #df['categorical_label'] = df.label.factorize()[0]\n",
    "    df['categorical_label'] = df['label'].apply(lambda r: cat_label(r))\n",
    "\n",
    "    x = df.text_clean\n",
    "    y = df.categorical_label\n",
    "\n",
    "    return x, y"
   ]
  },
  {
   "cell_type": "code",
   "execution_count": 7,
   "id": "d3a2ed47",
   "metadata": {
    "ExecuteTime": {
     "end_time": "2022-07-11T08:34:32.586325Z",
     "start_time": "2022-07-11T08:34:30.178953Z"
    },
    "id": "bcokYxZq9x3-"
   },
   "outputs": [],
   "source": [
    "# generate x and y for each set \n",
    "x_train, y_train = xy(train_set)\n",
    "x_test, y_test = xy(test_set)\n",
    "x_valid, y_valid = xy(valid_set)"
   ]
  },
  {
   "cell_type": "code",
   "execution_count": 8,
   "id": "25c95ee5",
   "metadata": {
    "ExecuteTime": {
     "end_time": "2022-07-11T08:34:32.589462Z",
     "start_time": "2022-07-11T08:34:32.587193Z"
    }
   },
   "outputs": [
    {
     "data": {
      "text/plain": [
       "\"realli good g idea i'm never go meet :(\""
      ]
     },
     "execution_count": 8,
     "metadata": {},
     "output_type": "execute_result"
    }
   ],
   "source": [
    "x_train[10]"
   ]
  },
  {
   "cell_type": "markdown",
   "id": "0e94bb54",
   "metadata": {
    "id": "65xcO6gbG_pA"
   },
   "source": [
    "# Naive Bayes"
   ]
  },
  {
   "cell_type": "code",
   "execution_count": 9,
   "id": "46ab1dda",
   "metadata": {
    "ExecuteTime": {
     "end_time": "2022-07-11T08:34:32.593397Z",
     "start_time": "2022-07-11T08:34:32.591615Z"
    },
    "id": "EoqWq5DDAIQs"
   },
   "outputs": [],
   "source": [
    "model = Pipeline([\n",
    "    ('bow',CountVectorizer()),  # strings to token integer counts\n",
    "    ('tfidf', TfidfTransformer()),  # integer counts to weighted TF-IDF scores\n",
    "    ('classifier', MultinomialNB()),  # train on TF-IDF vectors w/ Naive Bayes classifier\n",
    "])"
   ]
  },
  {
   "cell_type": "code",
   "execution_count": 10,
   "id": "707ec8b3",
   "metadata": {
    "ExecuteTime": {
     "end_time": "2022-07-11T08:34:32.647601Z",
     "start_time": "2022-07-11T08:34:32.594168Z"
    },
    "colab": {
     "base_uri": "https://localhost:8080/"
    },
    "id": "F592LZaKAITK",
    "outputId": "8e655e13-4b6d-44ee-fe97-aa121a1bd111"
   },
   "outputs": [
    {
     "data": {
      "text/plain": [
       "Pipeline(steps=[('bow', CountVectorizer()), ('tfidf', TfidfTransformer()),\n",
       "                ('classifier', MultinomialNB())])"
      ]
     },
     "execution_count": 10,
     "metadata": {},
     "output_type": "execute_result"
    }
   ],
   "source": [
    "model.fit(x_train, y_train)"
   ]
  },
  {
   "cell_type": "code",
   "execution_count": 11,
   "id": "2d4e4d17",
   "metadata": {
    "ExecuteTime": {
     "end_time": "2022-07-11T08:34:32.664475Z",
     "start_time": "2022-07-11T08:34:32.648438Z"
    },
    "colab": {
     "base_uri": "https://localhost:8080/"
    },
    "id": "WcROg1lpAIVd",
    "outputId": "14bc1d59-902c-48a2-fe40-4402f57acad5",
    "scrolled": true
   },
   "outputs": [
    {
     "name": "stdout",
     "output_type": "stream",
     "text": [
      "Confusion_matrix:\n",
      "[[593 235]\n",
      " [157 515]]\n",
      "              precision    recall  f1-score   support\n",
      "\n",
      "          -1       0.79      0.72      0.75       828\n",
      "           1       0.69      0.77      0.72       672\n",
      "\n",
      "    accuracy                           0.74      1500\n",
      "   macro avg       0.74      0.74      0.74      1500\n",
      "weighted avg       0.74      0.74      0.74      1500\n",
      "\n",
      "0.7386666666666667\n"
     ]
    }
   ],
   "source": [
    "y_pred = model.predict(x_test)\n",
    "print(\"Confusion_matrix:\")\n",
    "print(confusion_matrix(y_pred,y_test))\n",
    "print(classification_report(y_pred,y_test))\n",
    "print(accuracy_score(y_pred,y_test))"
   ]
  },
  {
   "cell_type": "markdown",
   "id": "221ef395",
   "metadata": {},
   "source": [
    "# Save model"
   ]
  },
  {
   "cell_type": "code",
   "execution_count": 12,
   "id": "a7cbdd4e",
   "metadata": {
    "ExecuteTime": {
     "end_time": "2022-07-11T08:34:32.669105Z",
     "start_time": "2022-07-11T08:34:32.665377Z"
    }
   },
   "outputs": [],
   "source": [
    "import pickle\n",
    "pickle.dump(model, open('sentiment_model.pkl', 'wb'))"
   ]
  },
  {
   "cell_type": "code",
   "execution_count": 13,
   "id": "8a4cfdf0",
   "metadata": {
    "ExecuteTime": {
     "end_time": "2022-07-11T08:34:32.671495Z",
     "start_time": "2022-07-11T08:34:32.670047Z"
    }
   },
   "outputs": [],
   "source": [
    "#pickle.dump(model, open('model.pkl', 'wb'))"
   ]
  },
  {
   "cell_type": "code",
   "execution_count": null,
   "id": "ee11ac40",
   "metadata": {},
   "outputs": [],
   "source": []
  },
  {
   "cell_type": "code",
   "execution_count": null,
   "id": "b5e8853c",
   "metadata": {},
   "outputs": [],
   "source": []
  },
  {
   "cell_type": "code",
   "execution_count": null,
   "id": "31d6729c",
   "metadata": {},
   "outputs": [],
   "source": []
  }
 ],
 "metadata": {
  "kernelspec": {
   "display_name": "Python 3.8.13 ('ARP')",
   "language": "python",
   "name": "python3"
  },
  "language_info": {
   "codemirror_mode": {
    "name": "ipython",
    "version": 3
   },
   "file_extension": ".py",
   "mimetype": "text/x-python",
   "name": "python",
   "nbconvert_exporter": "python",
   "pygments_lexer": "ipython3",
   "version": "3.8.13"
  },
  "toc": {
   "base_numbering": 1,
   "nav_menu": {},
   "number_sections": true,
   "sideBar": true,
   "skip_h1_title": false,
   "title_cell": "Table of Contents",
   "title_sidebar": "Contents",
   "toc_cell": false,
   "toc_position": {},
   "toc_section_display": true,
   "toc_window_display": false
  },
  "varInspector": {
   "cols": {
    "lenName": 16,
    "lenType": 16,
    "lenVar": 40
   },
   "kernels_config": {
    "python": {
     "delete_cmd_postfix": "",
     "delete_cmd_prefix": "del ",
     "library": "var_list.py",
     "varRefreshCmd": "print(var_dic_list())"
    },
    "r": {
     "delete_cmd_postfix": ") ",
     "delete_cmd_prefix": "rm(",
     "library": "var_list.r",
     "varRefreshCmd": "cat(var_dic_list()) "
    }
   },
   "types_to_exclude": [
    "module",
    "function",
    "builtin_function_or_method",
    "instance",
    "_Feature"
   ],
   "window_display": false
  },
  "vscode": {
   "interpreter": {
    "hash": "1ce6e105562a8cb3fed6b8c23b17d1f7b9ed997507fe8f705f5f3f07a92a5335"
   }
  }
 },
 "nbformat": 4,
 "nbformat_minor": 5
}
