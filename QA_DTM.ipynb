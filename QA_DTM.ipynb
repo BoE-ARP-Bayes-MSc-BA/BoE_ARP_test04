{
 "cells": [
  {
   "cell_type": "code",
   "execution_count": 27,
   "metadata": {},
   "outputs": [
    {
     "name": "stderr",
     "output_type": "stream",
     "text": [
      "[nltk_data] Downloading package twitter_samples to\n",
      "[nltk_data]     /Users/timliu/nltk_data...\n",
      "[nltk_data]   Package twitter_samples is already up-to-date!\n",
      "[nltk_data] Downloading package stopwords to\n",
      "[nltk_data]     /Users/timliu/nltk_data...\n",
      "[nltk_data]   Package stopwords is already up-to-date!\n"
     ]
    }
   ],
   "source": [
    "# self-define function\n",
    "from data_cleaning import cleaning_text_MD, sentence_df\n",
    "from participant_function import participants_list, clean_participants_list\n",
    "# from stock_price_info import stock_price_change\\\n",
    "# read and saving path\n",
    "path = \"./meeting_transcript\"\n",
    "text_save_path = \"./output_MD\"\n",
    "# other packages\n",
    "import pdftotext\n",
    "import pandas as pd\n",
    "import numpy as np\n",
    "import matplotlib.pyplot as plt\n",
    "import seaborn as sns\n",
    "import re\n",
    "import os\n",
    "import string\n",
    "# nlp\n",
    "import nltk \n",
    "nltk.download('twitter_samples')\n",
    "from nltk.corpus import twitter_samples\n",
    "from nltk.corpus import stopwords          # module for stop words that come with NLTK\n",
    "nltk.download('stopwords')\n",
    "from nltk.stem import PorterStemmer        # module for stemming\n",
    "from nltk.tokenize import TweetTokenizer   # module for tokenizing strings\n",
    "\n",
    "import warnings\n",
    "from pandas.core.common import SettingWithCopyWarning\n",
    "warnings.simplefilter(action=\"ignore\", category=SettingWithCopyWarning)\n",
    "import spacy \n",
    "nlp = spacy.load(\"en_core_web_lg\")\n",
    "from tqdm import tqdm\n",
    "# tp_modelling packages\n",
    "from collections import Counter, OrderedDict\n",
    "from gensim.models import Phrases\n",
    "import tomotopy as tp\n"
   ]
  },
  {
   "cell_type": "code",
   "execution_count": 28,
   "metadata": {},
   "outputs": [
    {
     "data": {
      "text/html": [
       "<div>\n",
       "<style scoped>\n",
       "    .dataframe tbody tr th:only-of-type {\n",
       "        vertical-align: middle;\n",
       "    }\n",
       "\n",
       "    .dataframe tbody tr th {\n",
       "        vertical-align: top;\n",
       "    }\n",
       "\n",
       "    .dataframe thead th {\n",
       "        text-align: right;\n",
       "    }\n",
       "</style>\n",
       "<table border=\"1\" class=\"dataframe\">\n",
       "  <thead>\n",
       "    <tr style=\"text-align: right;\">\n",
       "      <th></th>\n",
       "      <th>participants</th>\n",
       "      <th>file_name</th>\n",
       "      <th>date</th>\n",
       "      <th>idx</th>\n",
       "      <th>company_paticipants_yes</th>\n",
       "      <th>other_paticipants_yes</th>\n",
       "      <th>company_name</th>\n",
       "      <th>paraghrph</th>\n",
       "      <th>paraghrph_clean</th>\n",
       "      <th>paraghrph_noun</th>\n",
       "      <th>token</th>\n",
       "      <th>word_count</th>\n",
       "      <th>char_count</th>\n",
       "      <th>sentence_count</th>\n",
       "      <th>avg_word_length</th>\n",
       "      <th>avg_sentence_length</th>\n",
       "    </tr>\n",
       "  </thead>\n",
       "  <tbody>\n",
       "    <tr>\n",
       "      <th>0</th>\n",
       "      <td>Operator</td>\n",
       "      <td>20110202 _Mapfre_SA_Earnings_Call_SD0000000027...</td>\n",
       "      <td>2011-02-02</td>\n",
       "      <td>0.0</td>\n",
       "      <td>1</td>\n",
       "      <td>1</td>\n",
       "      <td>Mapfre SA</td>\n",
       "      <td>James Quin, Citigroup. James Quin  3878205...</td>\n",
       "      <td>James Quin Citigroup James Quin    Three n...</td>\n",
       "      <td>number question one call sense release contrib...</td>\n",
       "      <td>['number', 'question', 'sense', 'release', 'co...</td>\n",
       "      <td>191</td>\n",
       "      <td>1335</td>\n",
       "      <td>92</td>\n",
       "      <td>6.989529</td>\n",
       "      <td>2.076087</td>\n",
       "    </tr>\n",
       "    <tr>\n",
       "      <th>1</th>\n",
       "      <td>Operator</td>\n",
       "      <td>20110202_LEGAL_-_GEN_GRP-_Guidance_Call_2011-2...</td>\n",
       "      <td>2011-02-02</td>\n",
       "      <td>134.0</td>\n",
       "      <td>1</td>\n",
       "      <td>1</td>\n",
       "      <td>LEGAL -</td>\n",
       "      <td>Andy Hughes, Exane BNP Paribas. Andy Hughes  1...</td>\n",
       "      <td>Andy Hughes Exane BNP Paribas Andy Hughes    T...</td>\n",
       "      <td>question benefit fact chunk par term credit sp...</td>\n",
       "      <td>['question', 'benefit', 'fact', 'chunk', 'term...</td>\n",
       "      <td>99</td>\n",
       "      <td>663</td>\n",
       "      <td>52</td>\n",
       "      <td>6.696970</td>\n",
       "      <td>1.903846</td>\n",
       "    </tr>\n",
       "    <tr>\n",
       "      <th>2</th>\n",
       "      <td>Operator</td>\n",
       "      <td>20110202_LEGAL_-_GEN_GRP-_Guidance_Call_2011-2...</td>\n",
       "      <td>2011-02-02</td>\n",
       "      <td>318.0</td>\n",
       "      <td>1</td>\n",
       "      <td>1</td>\n",
       "      <td>LEGAL -</td>\n",
       "      <td>Oliver Steel, Deutsche Bank. Oliver Steel  606...</td>\n",
       "      <td>Oliver Steel Deutsche Bank Oliver Steel    Jus...</td>\n",
       "      <td>question surplus profit stage solvency financi...</td>\n",
       "      <td>['question', 'surplus', 'profit', 'stage', 'so...</td>\n",
       "      <td>37</td>\n",
       "      <td>251</td>\n",
       "      <td>23</td>\n",
       "      <td>6.783784</td>\n",
       "      <td>1.608696</td>\n",
       "    </tr>\n",
       "    <tr>\n",
       "      <th>3</th>\n",
       "      <td>Operator</td>\n",
       "      <td>20110202_LEGAL_-_GEN_GRP-_Guidance_Call_2011-2...</td>\n",
       "      <td>2011-02-02</td>\n",
       "      <td>255.0</td>\n",
       "      <td>1</td>\n",
       "      <td>1</td>\n",
       "      <td>LEGAL -</td>\n",
       "      <td>Marcus Barnard, Oriel Securities. Marcus Barna...</td>\n",
       "      <td>Marcus Barnard Oriel Securities Marcus Barnard...</td>\n",
       "      <td>question one capital speaker question second s...</td>\n",
       "      <td>['question', 'capital', 'speaker', 'question',...</td>\n",
       "      <td>54</td>\n",
       "      <td>390</td>\n",
       "      <td>38</td>\n",
       "      <td>7.222222</td>\n",
       "      <td>1.421053</td>\n",
       "    </tr>\n",
       "    <tr>\n",
       "      <th>4</th>\n",
       "      <td>Operator</td>\n",
       "      <td>20110202_LEGAL_-_GEN_GRP-_Guidance_Call_2011-2...</td>\n",
       "      <td>2011-02-02</td>\n",
       "      <td>217.0</td>\n",
       "      <td>1</td>\n",
       "      <td>1</td>\n",
       "      <td>LEGAL -</td>\n",
       "      <td>Andrew Crean, Autonomous Research LLP. Andrew ...</td>\n",
       "      <td>Andrew Crean Autonomous Research LLP Andrew Cr...</td>\n",
       "      <td>question level reserve transaction transaction...</td>\n",
       "      <td>['question', 'level', 'reserve', 'transaction'...</td>\n",
       "      <td>21</td>\n",
       "      <td>162</td>\n",
       "      <td>13</td>\n",
       "      <td>7.714286</td>\n",
       "      <td>1.615385</td>\n",
       "    </tr>\n",
       "    <tr>\n",
       "      <th>...</th>\n",
       "      <td>...</td>\n",
       "      <td>...</td>\n",
       "      <td>...</td>\n",
       "      <td>...</td>\n",
       "      <td>...</td>\n",
       "      <td>...</td>\n",
       "      <td>...</td>\n",
       "      <td>...</td>\n",
       "      <td>...</td>\n",
       "      <td>...</td>\n",
       "      <td>...</td>\n",
       "      <td>...</td>\n",
       "      <td>...</td>\n",
       "      <td>...</td>\n",
       "      <td>...</td>\n",
       "      <td>...</td>\n",
       "    </tr>\n",
       "    <tr>\n",
       "      <th>13271</th>\n",
       "      <td>Operator</td>\n",
       "      <td>20220427_GJENSIDIGE_FORSI-_Earnings_Call_2022-...</td>\n",
       "      <td>2022-04-27</td>\n",
       "      <td>163.0</td>\n",
       "      <td>1</td>\n",
       "      <td>1</td>\n",
       "      <td>GJENSIDIGE FORSI-</td>\n",
       "      <td>We will take our next question from Ulrik Zurc...</td>\n",
       "      <td>We will take our next question from Ulrik Zurc...</td>\n",
       "      <td>question line question inﬂation supply chain i...</td>\n",
       "      <td>['question', 'question', 'inﬂation', 'supply',...</td>\n",
       "      <td>101</td>\n",
       "      <td>694</td>\n",
       "      <td>30</td>\n",
       "      <td>6.871287</td>\n",
       "      <td>3.366667</td>\n",
       "    </tr>\n",
       "    <tr>\n",
       "      <th>13272</th>\n",
       "      <td>Operator</td>\n",
       "      <td>20220427_GJENSIDIGE_FORSI-_Earnings_Call_2022-...</td>\n",
       "      <td>2022-04-27</td>\n",
       "      <td>219.0</td>\n",
       "      <td>1</td>\n",
       "      <td>1</td>\n",
       "      <td>GJENSIDIGE FORSI-</td>\n",
       "      <td>We will take our next question from Hakon Astr...</td>\n",
       "      <td>We will take our next question from Hakon Astr...</td>\n",
       "      <td>question market line morning question question...</td>\n",
       "      <td>['question', 'market', 'morning', 'question', ...</td>\n",
       "      <td>109</td>\n",
       "      <td>720</td>\n",
       "      <td>31</td>\n",
       "      <td>6.605505</td>\n",
       "      <td>3.516129</td>\n",
       "    </tr>\n",
       "    <tr>\n",
       "      <th>13273</th>\n",
       "      <td>Operator</td>\n",
       "      <td>20220427_GJENSIDIGE_FORSI-_Earnings_Call_2022-...</td>\n",
       "      <td>2022-04-27</td>\n",
       "      <td>275.0</td>\n",
       "      <td>1</td>\n",
       "      <td>1</td>\n",
       "      <td>GJENSIDIGE FORSI-</td>\n",
       "      <td>We will take our next question from Jan Erik f...</td>\n",
       "      <td>We will take our next question from Jan Erik f...</td>\n",
       "      <td>question line question inﬂation question bit d...</td>\n",
       "      <td>['question', 'question', 'inﬂation', 'question...</td>\n",
       "      <td>82</td>\n",
       "      <td>563</td>\n",
       "      <td>40</td>\n",
       "      <td>6.865854</td>\n",
       "      <td>2.050000</td>\n",
       "    </tr>\n",
       "    <tr>\n",
       "      <th>13274</th>\n",
       "      <td>Operator</td>\n",
       "      <td>20220427_GJENSIDIGE_FORSI-_Earnings_Call_2022-...</td>\n",
       "      <td>2022-04-27</td>\n",
       "      <td>341.0</td>\n",
       "      <td>1</td>\n",
       "      <td>1</td>\n",
       "      <td>GJENSIDIGE FORSI-</td>\n",
       "      <td>Our next question comes from Thomas Svendsen f...</td>\n",
       "      <td>Our next question comes from Thomas Svendsen f...</td>\n",
       "      <td>question line morning question claim claim eﬀe...</td>\n",
       "      <td>['question', 'morning', 'question', 'claim', '...</td>\n",
       "      <td>77</td>\n",
       "      <td>493</td>\n",
       "      <td>20</td>\n",
       "      <td>6.402597</td>\n",
       "      <td>3.850000</td>\n",
       "    </tr>\n",
       "    <tr>\n",
       "      <th>13275</th>\n",
       "      <td>Operator</td>\n",
       "      <td>20220427_GJENSIDIGE_FORSI-_Earnings_Call_2022-...</td>\n",
       "      <td>2022-04-27</td>\n",
       "      <td>523.0</td>\n",
       "      <td>1</td>\n",
       "      <td>1</td>\n",
       "      <td>GJENSIDIGE FORSI-</td>\n",
       "      <td>Its appears there are no further questions at ...</td>\n",
       "      <td>Its appears there are no further questions at ...</td>\n",
       "      <td>question time question number roadshow meeting...</td>\n",
       "      <td>['question', 'time', 'question', 'number', 'ro...</td>\n",
       "      <td>45</td>\n",
       "      <td>341</td>\n",
       "      <td>19</td>\n",
       "      <td>7.577778</td>\n",
       "      <td>2.368421</td>\n",
       "    </tr>\n",
       "  </tbody>\n",
       "</table>\n",
       "<p>13276 rows × 16 columns</p>\n",
       "</div>"
      ],
      "text/plain": [
       "      participants                                          file_name  \\\n",
       "0         Operator  20110202 _Mapfre_SA_Earnings_Call_SD0000000027...   \n",
       "1         Operator  20110202_LEGAL_-_GEN_GRP-_Guidance_Call_2011-2...   \n",
       "2         Operator  20110202_LEGAL_-_GEN_GRP-_Guidance_Call_2011-2...   \n",
       "3         Operator  20110202_LEGAL_-_GEN_GRP-_Guidance_Call_2011-2...   \n",
       "4         Operator  20110202_LEGAL_-_GEN_GRP-_Guidance_Call_2011-2...   \n",
       "...            ...                                                ...   \n",
       "13271     Operator  20220427_GJENSIDIGE_FORSI-_Earnings_Call_2022-...   \n",
       "13272     Operator  20220427_GJENSIDIGE_FORSI-_Earnings_Call_2022-...   \n",
       "13273     Operator  20220427_GJENSIDIGE_FORSI-_Earnings_Call_2022-...   \n",
       "13274     Operator  20220427_GJENSIDIGE_FORSI-_Earnings_Call_2022-...   \n",
       "13275     Operator  20220427_GJENSIDIGE_FORSI-_Earnings_Call_2022-...   \n",
       "\n",
       "             date    idx  company_paticipants_yes  other_paticipants_yes  \\\n",
       "0      2011-02-02    0.0                        1                      1   \n",
       "1      2011-02-02  134.0                        1                      1   \n",
       "2      2011-02-02  318.0                        1                      1   \n",
       "3      2011-02-02  255.0                        1                      1   \n",
       "4      2011-02-02  217.0                        1                      1   \n",
       "...           ...    ...                      ...                    ...   \n",
       "13271  2022-04-27  163.0                        1                      1   \n",
       "13272  2022-04-27  219.0                        1                      1   \n",
       "13273  2022-04-27  275.0                        1                      1   \n",
       "13274  2022-04-27  341.0                        1                      1   \n",
       "13275  2022-04-27  523.0                        1                      1   \n",
       "\n",
       "            company_name                                          paraghrph  \\\n",
       "0              Mapfre SA      James Quin, Citigroup. James Quin  3878205...   \n",
       "1                LEGAL -  Andy Hughes, Exane BNP Paribas. Andy Hughes  1...   \n",
       "2                LEGAL -  Oliver Steel, Deutsche Bank. Oliver Steel  606...   \n",
       "3                LEGAL -  Marcus Barnard, Oriel Securities. Marcus Barna...   \n",
       "4                LEGAL -  Andrew Crean, Autonomous Research LLP. Andrew ...   \n",
       "...                  ...                                                ...   \n",
       "13271  GJENSIDIGE FORSI-  We will take our next question from Ulrik Zurc...   \n",
       "13272  GJENSIDIGE FORSI-  We will take our next question from Hakon Astr...   \n",
       "13273  GJENSIDIGE FORSI-  We will take our next question from Jan Erik f...   \n",
       "13274  GJENSIDIGE FORSI-  Our next question comes from Thomas Svendsen f...   \n",
       "13275  GJENSIDIGE FORSI-  Its appears there are no further questions at ...   \n",
       "\n",
       "                                         paraghrph_clean  \\\n",
       "0          James Quin Citigroup James Quin    Three n...   \n",
       "1      Andy Hughes Exane BNP Paribas Andy Hughes    T...   \n",
       "2      Oliver Steel Deutsche Bank Oliver Steel    Jus...   \n",
       "3      Marcus Barnard Oriel Securities Marcus Barnard...   \n",
       "4      Andrew Crean Autonomous Research LLP Andrew Cr...   \n",
       "...                                                  ...   \n",
       "13271  We will take our next question from Ulrik Zurc...   \n",
       "13272  We will take our next question from Hakon Astr...   \n",
       "13273  We will take our next question from Jan Erik f...   \n",
       "13274  Our next question comes from Thomas Svendsen f...   \n",
       "13275  Its appears there are no further questions at ...   \n",
       "\n",
       "                                          paraghrph_noun  \\\n",
       "0      number question one call sense release contrib...   \n",
       "1      question benefit fact chunk par term credit sp...   \n",
       "2      question surplus profit stage solvency financi...   \n",
       "3      question one capital speaker question second s...   \n",
       "4      question level reserve transaction transaction...   \n",
       "...                                                  ...   \n",
       "13271  question line question inﬂation supply chain i...   \n",
       "13272  question market line morning question question...   \n",
       "13273  question line question inﬂation question bit d...   \n",
       "13274  question line morning question claim claim eﬀe...   \n",
       "13275  question time question number roadshow meeting...   \n",
       "\n",
       "                                                   token  word_count  \\\n",
       "0      ['number', 'question', 'sense', 'release', 'co...         191   \n",
       "1      ['question', 'benefit', 'fact', 'chunk', 'term...          99   \n",
       "2      ['question', 'surplus', 'profit', 'stage', 'so...          37   \n",
       "3      ['question', 'capital', 'speaker', 'question',...          54   \n",
       "4      ['question', 'level', 'reserve', 'transaction'...          21   \n",
       "...                                                  ...         ...   \n",
       "13271  ['question', 'question', 'inﬂation', 'supply',...         101   \n",
       "13272  ['question', 'market', 'morning', 'question', ...         109   \n",
       "13273  ['question', 'question', 'inﬂation', 'question...          82   \n",
       "13274  ['question', 'morning', 'question', 'claim', '...          77   \n",
       "13275  ['question', 'time', 'question', 'number', 'ro...          45   \n",
       "\n",
       "       char_count  sentence_count  avg_word_length  avg_sentence_length  \n",
       "0            1335              92         6.989529             2.076087  \n",
       "1             663              52         6.696970             1.903846  \n",
       "2             251              23         6.783784             1.608696  \n",
       "3             390              38         7.222222             1.421053  \n",
       "4             162              13         7.714286             1.615385  \n",
       "...           ...             ...              ...                  ...  \n",
       "13271         694              30         6.871287             3.366667  \n",
       "13272         720              31         6.605505             3.516129  \n",
       "13273         563              40         6.865854             2.050000  \n",
       "13274         493              20         6.402597             3.850000  \n",
       "13275         341              19         7.577778             2.368421  \n",
       "\n",
       "[13276 rows x 16 columns]"
      ]
     },
     "execution_count": 28,
     "metadata": {},
     "output_type": "execute_result"
    }
   ],
   "source": [
    "# call out the model_df CSV\n",
    "model_df = pd.read_csv('./main_df_output/topic_modelling_QA_df.csv')\n",
    "# model_df sort by date\n",
    "model_df = model_df.sort_values(by=['date'])\n",
    "pd.set_option('display.max_columns', None)\n",
    "\n",
    "model_df.reset_index(drop=True, inplace=True)\n",
    "model_df"
   ]
  },
  {
   "cell_type": "markdown",
   "metadata": {},
   "source": [
    "# Tokenize"
   ]
  },
  {
   "cell_type": "code",
   "execution_count": 29,
   "metadata": {},
   "outputs": [],
   "source": [
    "def clean_tokens_nuon(text_series):\n",
    "    # step 1: convert text_series df to list\n",
    "    text_list = text_series.to_list()\n",
    "\n",
    "    # step 2: change the list to lower case\n",
    "    text_list = list(map(lambda x: x.lower(),text_list))\n",
    "\n",
    "    # step 3: remove whitespaces and trailing spaces\n",
    "    def remove_whitespace(text):\n",
    "        pattern = re.compile(r'\\s+') \n",
    "        Without_whitespace = re.sub(pattern, ' ', text)\n",
    "        text = Without_whitespace.replace('?', ' ? ').replace(')', ') ')\n",
    "        text = text.strip()\n",
    "        return text\n",
    "    text_list=list(map(lambda x: remove_whitespace(x),text_list))\n",
    "\n",
    "    # step 4: apply nlp pipeline remove stop words, numbers and lematize the words\n",
    "    # expand the list of stopwords\n",
    "    gist_file = open(\"./input/gist_stopwords.txt\", \"r\")\n",
    "    try:\n",
    "        content = gist_file.read()\n",
    "        stopwords = content.split(\",\")\n",
    "    finally:\n",
    "        gist_file.close()\n",
    "        \n",
    "    stopwords=[i.replace('\"',\"\").strip() for i in stopwords]\n",
    "    # add the stopwords to the list of stopwords\n",
    "    for i in stopwords:\n",
    "        nlp.Defaults.stop_words.add(i)\n",
    "\n",
    "    # create colloum for cleaned text_list\n",
    "    tokens, tmp_tokens = [], [] \n",
    "    for text in tqdm(text_list): # or tqdm.tqdm\n",
    "        tmp_tokens = [\n",
    "            token.lemma_\n",
    "            for token in nlp(text)\n",
    "            if not token.is_stop \n",
    "            and not token.like_num\n",
    "            and not token.is_punct\n",
    "            and token.is_alpha\n",
    "            ]\n",
    "        tokens.append(tmp_tokens)\n",
    "        tmp_tokens=[]\n",
    "    return tokens"
   ]
  },
  {
   "cell_type": "code",
   "execution_count": 30,
   "metadata": {},
   "outputs": [
    {
     "name": "stderr",
     "output_type": "stream",
     "text": [
      "/var/folders/sq/sxhsy98j6f57m406rd5lz1_r0000gn/T/ipykernel_15692/458752224.py:2: FutureWarning:\n",
      "\n",
      "The default value of regex will change from True to False in a future version.\n",
      "\n",
      "100%|██████████| 13276/13276 [04:27<00:00, 49.65it/s]\n"
     ]
    },
    {
     "data": {
      "text/html": [
       "<div>\n",
       "<style scoped>\n",
       "    .dataframe tbody tr th:only-of-type {\n",
       "        vertical-align: middle;\n",
       "    }\n",
       "\n",
       "    .dataframe tbody tr th {\n",
       "        vertical-align: top;\n",
       "    }\n",
       "\n",
       "    .dataframe thead th {\n",
       "        text-align: right;\n",
       "    }\n",
       "</style>\n",
       "<table border=\"1\" class=\"dataframe\">\n",
       "  <thead>\n",
       "    <tr style=\"text-align: right;\">\n",
       "      <th></th>\n",
       "      <th>participants</th>\n",
       "      <th>file_name</th>\n",
       "      <th>date</th>\n",
       "      <th>idx</th>\n",
       "      <th>company_paticipants_yes</th>\n",
       "      <th>other_paticipants_yes</th>\n",
       "      <th>company_name</th>\n",
       "      <th>paraghrph</th>\n",
       "      <th>paraghrph_clean</th>\n",
       "      <th>paraghrph_noun</th>\n",
       "      <th>token</th>\n",
       "      <th>word_count</th>\n",
       "      <th>char_count</th>\n",
       "      <th>sentence_count</th>\n",
       "      <th>avg_word_length</th>\n",
       "      <th>avg_sentence_length</th>\n",
       "    </tr>\n",
       "  </thead>\n",
       "  <tbody>\n",
       "    <tr>\n",
       "      <th>0</th>\n",
       "      <td>Operator</td>\n",
       "      <td>20110202 _Mapfre_SA_Earnings_Call_SD0000000027...</td>\n",
       "      <td>2011-02-02</td>\n",
       "      <td>0.0</td>\n",
       "      <td>1</td>\n",
       "      <td>1</td>\n",
       "      <td>Mapfre SA</td>\n",
       "      <td>James Quin, Citigroup. James Quin  3878205...</td>\n",
       "      <td>James Quin Citigroup James Quin    Three n...</td>\n",
       "      <td>number question one call sense release contrib...</td>\n",
       "      <td>[number, question, sense, release, contributio...</td>\n",
       "      <td>191</td>\n",
       "      <td>1335</td>\n",
       "      <td>92</td>\n",
       "      <td>6.989529</td>\n",
       "      <td>2.076087</td>\n",
       "    </tr>\n",
       "    <tr>\n",
       "      <th>1</th>\n",
       "      <td>Operator</td>\n",
       "      <td>20110202_LEGAL_-_GEN_GRP-_Guidance_Call_2011-2...</td>\n",
       "      <td>2011-02-02</td>\n",
       "      <td>134.0</td>\n",
       "      <td>1</td>\n",
       "      <td>1</td>\n",
       "      <td>LEGAL -</td>\n",
       "      <td>Andy Hughes, Exane BNP Paribas. Andy Hughes  1...</td>\n",
       "      <td>Andy Hughes Exane BNP Paribas Andy Hughes    T...</td>\n",
       "      <td>question benefit fact chunk par term credit sp...</td>\n",
       "      <td>[question, benefit, fact, chunk, term, credit,...</td>\n",
       "      <td>99</td>\n",
       "      <td>663</td>\n",
       "      <td>52</td>\n",
       "      <td>6.696970</td>\n",
       "      <td>1.903846</td>\n",
       "    </tr>\n",
       "    <tr>\n",
       "      <th>2</th>\n",
       "      <td>Operator</td>\n",
       "      <td>20110202_LEGAL_-_GEN_GRP-_Guidance_Call_2011-2...</td>\n",
       "      <td>2011-02-02</td>\n",
       "      <td>318.0</td>\n",
       "      <td>1</td>\n",
       "      <td>1</td>\n",
       "      <td>LEGAL -</td>\n",
       "      <td>Oliver Steel, Deutsche Bank. Oliver Steel  606...</td>\n",
       "      <td>Oliver Steel Deutsche Bank Oliver Steel    Jus...</td>\n",
       "      <td>question surplus profit stage solvency financi...</td>\n",
       "      <td>[question, surplus, profit, stage, solvency, f...</td>\n",
       "      <td>37</td>\n",
       "      <td>251</td>\n",
       "      <td>23</td>\n",
       "      <td>6.783784</td>\n",
       "      <td>1.608696</td>\n",
       "    </tr>\n",
       "    <tr>\n",
       "      <th>3</th>\n",
       "      <td>Operator</td>\n",
       "      <td>20110202_LEGAL_-_GEN_GRP-_Guidance_Call_2011-2...</td>\n",
       "      <td>2011-02-02</td>\n",
       "      <td>255.0</td>\n",
       "      <td>1</td>\n",
       "      <td>1</td>\n",
       "      <td>LEGAL -</td>\n",
       "      <td>Marcus Barnard, Oriel Securities. Marcus Barna...</td>\n",
       "      <td>Marcus Barnard Oriel Securities Marcus Barnard...</td>\n",
       "      <td>question one capital speaker question second s...</td>\n",
       "      <td>[question, capital, speaker, question, securit...</td>\n",
       "      <td>54</td>\n",
       "      <td>390</td>\n",
       "      <td>38</td>\n",
       "      <td>7.222222</td>\n",
       "      <td>1.421053</td>\n",
       "    </tr>\n",
       "    <tr>\n",
       "      <th>4</th>\n",
       "      <td>Operator</td>\n",
       "      <td>20110202_LEGAL_-_GEN_GRP-_Guidance_Call_2011-2...</td>\n",
       "      <td>2011-02-02</td>\n",
       "      <td>217.0</td>\n",
       "      <td>1</td>\n",
       "      <td>1</td>\n",
       "      <td>LEGAL -</td>\n",
       "      <td>Andrew Crean, Autonomous Research LLP. Andrew ...</td>\n",
       "      <td>Andrew Crean Autonomous Research LLP Andrew Cr...</td>\n",
       "      <td>question level reserve transaction transaction...</td>\n",
       "      <td>[question, level, reserve, transaction, transa...</td>\n",
       "      <td>21</td>\n",
       "      <td>162</td>\n",
       "      <td>13</td>\n",
       "      <td>7.714286</td>\n",
       "      <td>1.615385</td>\n",
       "    </tr>\n",
       "    <tr>\n",
       "      <th>...</th>\n",
       "      <td>...</td>\n",
       "      <td>...</td>\n",
       "      <td>...</td>\n",
       "      <td>...</td>\n",
       "      <td>...</td>\n",
       "      <td>...</td>\n",
       "      <td>...</td>\n",
       "      <td>...</td>\n",
       "      <td>...</td>\n",
       "      <td>...</td>\n",
       "      <td>...</td>\n",
       "      <td>...</td>\n",
       "      <td>...</td>\n",
       "      <td>...</td>\n",
       "      <td>...</td>\n",
       "      <td>...</td>\n",
       "    </tr>\n",
       "    <tr>\n",
       "      <th>13271</th>\n",
       "      <td>Operator</td>\n",
       "      <td>20220427_GJENSIDIGE_FORSI-_Earnings_Call_2022-...</td>\n",
       "      <td>2022-04-27</td>\n",
       "      <td>163.0</td>\n",
       "      <td>1</td>\n",
       "      <td>1</td>\n",
       "      <td>GJENSIDIGE FORSI-</td>\n",
       "      <td>We will take our next question from Ulrik Zurc...</td>\n",
       "      <td>We will take our next question from Ulrik Zurc...</td>\n",
       "      <td>question line question inﬂation supply chain i...</td>\n",
       "      <td>[question, question, inﬂation, supply, chain, ...</td>\n",
       "      <td>101</td>\n",
       "      <td>694</td>\n",
       "      <td>30</td>\n",
       "      <td>6.871287</td>\n",
       "      <td>3.366667</td>\n",
       "    </tr>\n",
       "    <tr>\n",
       "      <th>13272</th>\n",
       "      <td>Operator</td>\n",
       "      <td>20220427_GJENSIDIGE_FORSI-_Earnings_Call_2022-...</td>\n",
       "      <td>2022-04-27</td>\n",
       "      <td>219.0</td>\n",
       "      <td>1</td>\n",
       "      <td>1</td>\n",
       "      <td>GJENSIDIGE FORSI-</td>\n",
       "      <td>We will take our next question from Hakon Astr...</td>\n",
       "      <td>We will take our next question from Hakon Astr...</td>\n",
       "      <td>question market line morning question question...</td>\n",
       "      <td>[question, market, morning, question, question...</td>\n",
       "      <td>109</td>\n",
       "      <td>720</td>\n",
       "      <td>31</td>\n",
       "      <td>6.605505</td>\n",
       "      <td>3.516129</td>\n",
       "    </tr>\n",
       "    <tr>\n",
       "      <th>13273</th>\n",
       "      <td>Operator</td>\n",
       "      <td>20220427_GJENSIDIGE_FORSI-_Earnings_Call_2022-...</td>\n",
       "      <td>2022-04-27</td>\n",
       "      <td>275.0</td>\n",
       "      <td>1</td>\n",
       "      <td>1</td>\n",
       "      <td>GJENSIDIGE FORSI-</td>\n",
       "      <td>We will take our next question from Jan Erik f...</td>\n",
       "      <td>We will take our next question from Jan Erik f...</td>\n",
       "      <td>question line question inﬂation question bit d...</td>\n",
       "      <td>[question, question, inﬂation, question, bit, ...</td>\n",
       "      <td>82</td>\n",
       "      <td>563</td>\n",
       "      <td>40</td>\n",
       "      <td>6.865854</td>\n",
       "      <td>2.050000</td>\n",
       "    </tr>\n",
       "    <tr>\n",
       "      <th>13274</th>\n",
       "      <td>Operator</td>\n",
       "      <td>20220427_GJENSIDIGE_FORSI-_Earnings_Call_2022-...</td>\n",
       "      <td>2022-04-27</td>\n",
       "      <td>341.0</td>\n",
       "      <td>1</td>\n",
       "      <td>1</td>\n",
       "      <td>GJENSIDIGE FORSI-</td>\n",
       "      <td>Our next question comes from Thomas Svendsen f...</td>\n",
       "      <td>Our next question comes from Thomas Svendsen f...</td>\n",
       "      <td>question line morning question claim claim eﬀe...</td>\n",
       "      <td>[question, morning, question, claim, claim, eﬀ...</td>\n",
       "      <td>77</td>\n",
       "      <td>493</td>\n",
       "      <td>20</td>\n",
       "      <td>6.402597</td>\n",
       "      <td>3.850000</td>\n",
       "    </tr>\n",
       "    <tr>\n",
       "      <th>13275</th>\n",
       "      <td>Operator</td>\n",
       "      <td>20220427_GJENSIDIGE_FORSI-_Earnings_Call_2022-...</td>\n",
       "      <td>2022-04-27</td>\n",
       "      <td>523.0</td>\n",
       "      <td>1</td>\n",
       "      <td>1</td>\n",
       "      <td>GJENSIDIGE FORSI-</td>\n",
       "      <td>Its appears there are no further questions at ...</td>\n",
       "      <td>Its appears there are no further questions at ...</td>\n",
       "      <td>question time question number roadshow meeting...</td>\n",
       "      <td>[question, time, question, number, roadshow, m...</td>\n",
       "      <td>45</td>\n",
       "      <td>341</td>\n",
       "      <td>19</td>\n",
       "      <td>7.577778</td>\n",
       "      <td>2.368421</td>\n",
       "    </tr>\n",
       "  </tbody>\n",
       "</table>\n",
       "<p>13276 rows × 16 columns</p>\n",
       "</div>"
      ],
      "text/plain": [
       "      participants                                          file_name  \\\n",
       "0         Operator  20110202 _Mapfre_SA_Earnings_Call_SD0000000027...   \n",
       "1         Operator  20110202_LEGAL_-_GEN_GRP-_Guidance_Call_2011-2...   \n",
       "2         Operator  20110202_LEGAL_-_GEN_GRP-_Guidance_Call_2011-2...   \n",
       "3         Operator  20110202_LEGAL_-_GEN_GRP-_Guidance_Call_2011-2...   \n",
       "4         Operator  20110202_LEGAL_-_GEN_GRP-_Guidance_Call_2011-2...   \n",
       "...            ...                                                ...   \n",
       "13271     Operator  20220427_GJENSIDIGE_FORSI-_Earnings_Call_2022-...   \n",
       "13272     Operator  20220427_GJENSIDIGE_FORSI-_Earnings_Call_2022-...   \n",
       "13273     Operator  20220427_GJENSIDIGE_FORSI-_Earnings_Call_2022-...   \n",
       "13274     Operator  20220427_GJENSIDIGE_FORSI-_Earnings_Call_2022-...   \n",
       "13275     Operator  20220427_GJENSIDIGE_FORSI-_Earnings_Call_2022-...   \n",
       "\n",
       "             date    idx  company_paticipants_yes  other_paticipants_yes  \\\n",
       "0      2011-02-02    0.0                        1                      1   \n",
       "1      2011-02-02  134.0                        1                      1   \n",
       "2      2011-02-02  318.0                        1                      1   \n",
       "3      2011-02-02  255.0                        1                      1   \n",
       "4      2011-02-02  217.0                        1                      1   \n",
       "...           ...    ...                      ...                    ...   \n",
       "13271  2022-04-27  163.0                        1                      1   \n",
       "13272  2022-04-27  219.0                        1                      1   \n",
       "13273  2022-04-27  275.0                        1                      1   \n",
       "13274  2022-04-27  341.0                        1                      1   \n",
       "13275  2022-04-27  523.0                        1                      1   \n",
       "\n",
       "            company_name                                          paraghrph  \\\n",
       "0              Mapfre SA      James Quin, Citigroup. James Quin  3878205...   \n",
       "1                LEGAL -  Andy Hughes, Exane BNP Paribas. Andy Hughes  1...   \n",
       "2                LEGAL -  Oliver Steel, Deutsche Bank. Oliver Steel  606...   \n",
       "3                LEGAL -  Marcus Barnard, Oriel Securities. Marcus Barna...   \n",
       "4                LEGAL -  Andrew Crean, Autonomous Research LLP. Andrew ...   \n",
       "...                  ...                                                ...   \n",
       "13271  GJENSIDIGE FORSI-  We will take our next question from Ulrik Zurc...   \n",
       "13272  GJENSIDIGE FORSI-  We will take our next question from Hakon Astr...   \n",
       "13273  GJENSIDIGE FORSI-  We will take our next question from Jan Erik f...   \n",
       "13274  GJENSIDIGE FORSI-  Our next question comes from Thomas Svendsen f...   \n",
       "13275  GJENSIDIGE FORSI-  Its appears there are no further questions at ...   \n",
       "\n",
       "                                         paraghrph_clean  \\\n",
       "0          James Quin Citigroup James Quin    Three n...   \n",
       "1      Andy Hughes Exane BNP Paribas Andy Hughes    T...   \n",
       "2      Oliver Steel Deutsche Bank Oliver Steel    Jus...   \n",
       "3      Marcus Barnard Oriel Securities Marcus Barnard...   \n",
       "4      Andrew Crean Autonomous Research LLP Andrew Cr...   \n",
       "...                                                  ...   \n",
       "13271  We will take our next question from Ulrik Zurc...   \n",
       "13272  We will take our next question from Hakon Astr...   \n",
       "13273  We will take our next question from Jan Erik f...   \n",
       "13274  Our next question comes from Thomas Svendsen f...   \n",
       "13275  Its appears there are no further questions at ...   \n",
       "\n",
       "                                          paraghrph_noun  \\\n",
       "0      number question one call sense release contrib...   \n",
       "1      question benefit fact chunk par term credit sp...   \n",
       "2      question surplus profit stage solvency financi...   \n",
       "3      question one capital speaker question second s...   \n",
       "4      question level reserve transaction transaction...   \n",
       "...                                                  ...   \n",
       "13271  question line question inﬂation supply chain i...   \n",
       "13272  question market line morning question question...   \n",
       "13273  question line question inﬂation question bit d...   \n",
       "13274  question line morning question claim claim eﬀe...   \n",
       "13275  question time question number roadshow meeting...   \n",
       "\n",
       "                                                   token  word_count  \\\n",
       "0      [number, question, sense, release, contributio...         191   \n",
       "1      [question, benefit, fact, chunk, term, credit,...          99   \n",
       "2      [question, surplus, profit, stage, solvency, f...          37   \n",
       "3      [question, capital, speaker, question, securit...          54   \n",
       "4      [question, level, reserve, transaction, transa...          21   \n",
       "...                                                  ...         ...   \n",
       "13271  [question, question, inﬂation, supply, chain, ...         101   \n",
       "13272  [question, market, morning, question, question...         109   \n",
       "13273  [question, question, inﬂation, question, bit, ...          82   \n",
       "13274  [question, morning, question, claim, claim, eﬀ...          77   \n",
       "13275  [question, time, question, number, roadshow, m...          45   \n",
       "\n",
       "       char_count  sentence_count  avg_word_length  avg_sentence_length  \n",
       "0            1335              92         6.989529             2.076087  \n",
       "1             663              52         6.696970             1.903846  \n",
       "2             251              23         6.783784             1.608696  \n",
       "3             390              38         7.222222             1.421053  \n",
       "4             162              13         7.714286             1.615385  \n",
       "...           ...             ...              ...                  ...  \n",
       "13271         694              30         6.871287             3.366667  \n",
       "13272         720              31         6.605505             3.516129  \n",
       "13273         563              40         6.865854             2.050000  \n",
       "13274         493              20         6.402597             3.850000  \n",
       "13275         341              19         7.577778             2.368421  \n",
       "\n",
       "[13276 rows x 16 columns]"
      ]
     },
     "execution_count": 30,
     "metadata": {},
     "output_type": "execute_result"
    }
   ],
   "source": [
    "# remove the numeric values from the 'paraghrph_clean' column by str.replace('\\d+', '')\n",
    "model_df['paraghrph_noun'] = model_df['paraghrph_noun'].str.replace('\\d+', '')\n",
    "model_df['paraghrph_noun']= model_df['paraghrph_noun'].astype(str)\n",
    "# use apply to get the token of the paraghrph\n",
    "model_df['token'] = clean_tokens_nuon(model_df['paraghrph_noun']) # or paraghrph_clean\n",
    "model_df"
   ]
  },
  {
   "cell_type": "code",
   "execution_count": 31,
   "metadata": {},
   "outputs": [
    {
     "data": {
      "text/html": [
       "<div>\n",
       "<style scoped>\n",
       "    .dataframe tbody tr th:only-of-type {\n",
       "        vertical-align: middle;\n",
       "    }\n",
       "\n",
       "    .dataframe tbody tr th {\n",
       "        vertical-align: top;\n",
       "    }\n",
       "\n",
       "    .dataframe thead th {\n",
       "        text-align: right;\n",
       "    }\n",
       "</style>\n",
       "<table border=\"1\" class=\"dataframe\">\n",
       "  <thead>\n",
       "    <tr style=\"text-align: right;\">\n",
       "      <th></th>\n",
       "      <th>participants</th>\n",
       "      <th>file_name</th>\n",
       "      <th>date</th>\n",
       "      <th>idx</th>\n",
       "      <th>company_paticipants_yes</th>\n",
       "      <th>other_paticipants_yes</th>\n",
       "      <th>company_name</th>\n",
       "      <th>paraghrph</th>\n",
       "      <th>paraghrph_clean</th>\n",
       "      <th>paraghrph_noun</th>\n",
       "      <th>token</th>\n",
       "      <th>word_count</th>\n",
       "      <th>char_count</th>\n",
       "      <th>sentence_count</th>\n",
       "      <th>avg_word_length</th>\n",
       "      <th>avg_sentence_length</th>\n",
       "      <th>year</th>\n",
       "      <th>month</th>\n",
       "      <th>quater</th>\n",
       "      <th>year_quater</th>\n",
       "    </tr>\n",
       "  </thead>\n",
       "  <tbody>\n",
       "    <tr>\n",
       "      <th>0</th>\n",
       "      <td>Operator</td>\n",
       "      <td>20110202 _Mapfre_SA_Earnings_Call_SD0000000027...</td>\n",
       "      <td>2011-02-02</td>\n",
       "      <td>0.0</td>\n",
       "      <td>1</td>\n",
       "      <td>1</td>\n",
       "      <td>Mapfre SA</td>\n",
       "      <td>James Quin, Citigroup. James Quin  3878205...</td>\n",
       "      <td>James Quin Citigroup James Quin    Three n...</td>\n",
       "      <td>number question one call sense release contrib...</td>\n",
       "      <td>[number, question, sense, release, contributio...</td>\n",
       "      <td>191</td>\n",
       "      <td>1335</td>\n",
       "      <td>92</td>\n",
       "      <td>6.989529</td>\n",
       "      <td>2.076087</td>\n",
       "      <td>2011</td>\n",
       "      <td>2</td>\n",
       "      <td>1</td>\n",
       "      <td>2011-1</td>\n",
       "    </tr>\n",
       "    <tr>\n",
       "      <th>1</th>\n",
       "      <td>Operator</td>\n",
       "      <td>20110202_LEGAL_-_GEN_GRP-_Guidance_Call_2011-2...</td>\n",
       "      <td>2011-02-02</td>\n",
       "      <td>134.0</td>\n",
       "      <td>1</td>\n",
       "      <td>1</td>\n",
       "      <td>LEGAL -</td>\n",
       "      <td>Andy Hughes, Exane BNP Paribas. Andy Hughes  1...</td>\n",
       "      <td>Andy Hughes Exane BNP Paribas Andy Hughes    T...</td>\n",
       "      <td>question benefit fact chunk par term credit sp...</td>\n",
       "      <td>[question, benefit, fact, chunk, term, credit,...</td>\n",
       "      <td>99</td>\n",
       "      <td>663</td>\n",
       "      <td>52</td>\n",
       "      <td>6.696970</td>\n",
       "      <td>1.903846</td>\n",
       "      <td>2011</td>\n",
       "      <td>2</td>\n",
       "      <td>1</td>\n",
       "      <td>2011-1</td>\n",
       "    </tr>\n",
       "    <tr>\n",
       "      <th>2</th>\n",
       "      <td>Operator</td>\n",
       "      <td>20110202_LEGAL_-_GEN_GRP-_Guidance_Call_2011-2...</td>\n",
       "      <td>2011-02-02</td>\n",
       "      <td>318.0</td>\n",
       "      <td>1</td>\n",
       "      <td>1</td>\n",
       "      <td>LEGAL -</td>\n",
       "      <td>Oliver Steel, Deutsche Bank. Oliver Steel  606...</td>\n",
       "      <td>Oliver Steel Deutsche Bank Oliver Steel    Jus...</td>\n",
       "      <td>question surplus profit stage solvency financi...</td>\n",
       "      <td>[question, surplus, profit, stage, solvency, f...</td>\n",
       "      <td>37</td>\n",
       "      <td>251</td>\n",
       "      <td>23</td>\n",
       "      <td>6.783784</td>\n",
       "      <td>1.608696</td>\n",
       "      <td>2011</td>\n",
       "      <td>2</td>\n",
       "      <td>1</td>\n",
       "      <td>2011-1</td>\n",
       "    </tr>\n",
       "    <tr>\n",
       "      <th>3</th>\n",
       "      <td>Operator</td>\n",
       "      <td>20110202_LEGAL_-_GEN_GRP-_Guidance_Call_2011-2...</td>\n",
       "      <td>2011-02-02</td>\n",
       "      <td>255.0</td>\n",
       "      <td>1</td>\n",
       "      <td>1</td>\n",
       "      <td>LEGAL -</td>\n",
       "      <td>Marcus Barnard, Oriel Securities. Marcus Barna...</td>\n",
       "      <td>Marcus Barnard Oriel Securities Marcus Barnard...</td>\n",
       "      <td>question one capital speaker question second s...</td>\n",
       "      <td>[question, capital, speaker, question, securit...</td>\n",
       "      <td>54</td>\n",
       "      <td>390</td>\n",
       "      <td>38</td>\n",
       "      <td>7.222222</td>\n",
       "      <td>1.421053</td>\n",
       "      <td>2011</td>\n",
       "      <td>2</td>\n",
       "      <td>1</td>\n",
       "      <td>2011-1</td>\n",
       "    </tr>\n",
       "    <tr>\n",
       "      <th>4</th>\n",
       "      <td>Operator</td>\n",
       "      <td>20110202_LEGAL_-_GEN_GRP-_Guidance_Call_2011-2...</td>\n",
       "      <td>2011-02-02</td>\n",
       "      <td>217.0</td>\n",
       "      <td>1</td>\n",
       "      <td>1</td>\n",
       "      <td>LEGAL -</td>\n",
       "      <td>Andrew Crean, Autonomous Research LLP. Andrew ...</td>\n",
       "      <td>Andrew Crean Autonomous Research LLP Andrew Cr...</td>\n",
       "      <td>question level reserve transaction transaction...</td>\n",
       "      <td>[question, level, reserve, transaction, transa...</td>\n",
       "      <td>21</td>\n",
       "      <td>162</td>\n",
       "      <td>13</td>\n",
       "      <td>7.714286</td>\n",
       "      <td>1.615385</td>\n",
       "      <td>2011</td>\n",
       "      <td>2</td>\n",
       "      <td>1</td>\n",
       "      <td>2011-1</td>\n",
       "    </tr>\n",
       "    <tr>\n",
       "      <th>...</th>\n",
       "      <td>...</td>\n",
       "      <td>...</td>\n",
       "      <td>...</td>\n",
       "      <td>...</td>\n",
       "      <td>...</td>\n",
       "      <td>...</td>\n",
       "      <td>...</td>\n",
       "      <td>...</td>\n",
       "      <td>...</td>\n",
       "      <td>...</td>\n",
       "      <td>...</td>\n",
       "      <td>...</td>\n",
       "      <td>...</td>\n",
       "      <td>...</td>\n",
       "      <td>...</td>\n",
       "      <td>...</td>\n",
       "      <td>...</td>\n",
       "      <td>...</td>\n",
       "      <td>...</td>\n",
       "      <td>...</td>\n",
       "    </tr>\n",
       "    <tr>\n",
       "      <th>13271</th>\n",
       "      <td>Operator</td>\n",
       "      <td>20220427_GJENSIDIGE_FORSI-_Earnings_Call_2022-...</td>\n",
       "      <td>2022-04-27</td>\n",
       "      <td>163.0</td>\n",
       "      <td>1</td>\n",
       "      <td>1</td>\n",
       "      <td>GJENSIDIGE FORSI-</td>\n",
       "      <td>We will take our next question from Ulrik Zurc...</td>\n",
       "      <td>We will take our next question from Ulrik Zurc...</td>\n",
       "      <td>question line question inﬂation supply chain i...</td>\n",
       "      <td>[question, question, inﬂation, supply, chain, ...</td>\n",
       "      <td>101</td>\n",
       "      <td>694</td>\n",
       "      <td>30</td>\n",
       "      <td>6.871287</td>\n",
       "      <td>3.366667</td>\n",
       "      <td>2022</td>\n",
       "      <td>4</td>\n",
       "      <td>2</td>\n",
       "      <td>2022-2</td>\n",
       "    </tr>\n",
       "    <tr>\n",
       "      <th>13272</th>\n",
       "      <td>Operator</td>\n",
       "      <td>20220427_GJENSIDIGE_FORSI-_Earnings_Call_2022-...</td>\n",
       "      <td>2022-04-27</td>\n",
       "      <td>219.0</td>\n",
       "      <td>1</td>\n",
       "      <td>1</td>\n",
       "      <td>GJENSIDIGE FORSI-</td>\n",
       "      <td>We will take our next question from Hakon Astr...</td>\n",
       "      <td>We will take our next question from Hakon Astr...</td>\n",
       "      <td>question market line morning question question...</td>\n",
       "      <td>[question, market, morning, question, question...</td>\n",
       "      <td>109</td>\n",
       "      <td>720</td>\n",
       "      <td>31</td>\n",
       "      <td>6.605505</td>\n",
       "      <td>3.516129</td>\n",
       "      <td>2022</td>\n",
       "      <td>4</td>\n",
       "      <td>2</td>\n",
       "      <td>2022-2</td>\n",
       "    </tr>\n",
       "    <tr>\n",
       "      <th>13273</th>\n",
       "      <td>Operator</td>\n",
       "      <td>20220427_GJENSIDIGE_FORSI-_Earnings_Call_2022-...</td>\n",
       "      <td>2022-04-27</td>\n",
       "      <td>275.0</td>\n",
       "      <td>1</td>\n",
       "      <td>1</td>\n",
       "      <td>GJENSIDIGE FORSI-</td>\n",
       "      <td>We will take our next question from Jan Erik f...</td>\n",
       "      <td>We will take our next question from Jan Erik f...</td>\n",
       "      <td>question line question inﬂation question bit d...</td>\n",
       "      <td>[question, question, inﬂation, question, bit, ...</td>\n",
       "      <td>82</td>\n",
       "      <td>563</td>\n",
       "      <td>40</td>\n",
       "      <td>6.865854</td>\n",
       "      <td>2.050000</td>\n",
       "      <td>2022</td>\n",
       "      <td>4</td>\n",
       "      <td>2</td>\n",
       "      <td>2022-2</td>\n",
       "    </tr>\n",
       "    <tr>\n",
       "      <th>13274</th>\n",
       "      <td>Operator</td>\n",
       "      <td>20220427_GJENSIDIGE_FORSI-_Earnings_Call_2022-...</td>\n",
       "      <td>2022-04-27</td>\n",
       "      <td>341.0</td>\n",
       "      <td>1</td>\n",
       "      <td>1</td>\n",
       "      <td>GJENSIDIGE FORSI-</td>\n",
       "      <td>Our next question comes from Thomas Svendsen f...</td>\n",
       "      <td>Our next question comes from Thomas Svendsen f...</td>\n",
       "      <td>question line morning question claim claim eﬀe...</td>\n",
       "      <td>[question, morning, question, claim, claim, eﬀ...</td>\n",
       "      <td>77</td>\n",
       "      <td>493</td>\n",
       "      <td>20</td>\n",
       "      <td>6.402597</td>\n",
       "      <td>3.850000</td>\n",
       "      <td>2022</td>\n",
       "      <td>4</td>\n",
       "      <td>2</td>\n",
       "      <td>2022-2</td>\n",
       "    </tr>\n",
       "    <tr>\n",
       "      <th>13275</th>\n",
       "      <td>Operator</td>\n",
       "      <td>20220427_GJENSIDIGE_FORSI-_Earnings_Call_2022-...</td>\n",
       "      <td>2022-04-27</td>\n",
       "      <td>523.0</td>\n",
       "      <td>1</td>\n",
       "      <td>1</td>\n",
       "      <td>GJENSIDIGE FORSI-</td>\n",
       "      <td>Its appears there are no further questions at ...</td>\n",
       "      <td>Its appears there are no further questions at ...</td>\n",
       "      <td>question time question number roadshow meeting...</td>\n",
       "      <td>[question, time, question, number, roadshow, m...</td>\n",
       "      <td>45</td>\n",
       "      <td>341</td>\n",
       "      <td>19</td>\n",
       "      <td>7.577778</td>\n",
       "      <td>2.368421</td>\n",
       "      <td>2022</td>\n",
       "      <td>4</td>\n",
       "      <td>2</td>\n",
       "      <td>2022-2</td>\n",
       "    </tr>\n",
       "  </tbody>\n",
       "</table>\n",
       "<p>13276 rows × 20 columns</p>\n",
       "</div>"
      ],
      "text/plain": [
       "      participants                                          file_name  \\\n",
       "0         Operator  20110202 _Mapfre_SA_Earnings_Call_SD0000000027...   \n",
       "1         Operator  20110202_LEGAL_-_GEN_GRP-_Guidance_Call_2011-2...   \n",
       "2         Operator  20110202_LEGAL_-_GEN_GRP-_Guidance_Call_2011-2...   \n",
       "3         Operator  20110202_LEGAL_-_GEN_GRP-_Guidance_Call_2011-2...   \n",
       "4         Operator  20110202_LEGAL_-_GEN_GRP-_Guidance_Call_2011-2...   \n",
       "...            ...                                                ...   \n",
       "13271     Operator  20220427_GJENSIDIGE_FORSI-_Earnings_Call_2022-...   \n",
       "13272     Operator  20220427_GJENSIDIGE_FORSI-_Earnings_Call_2022-...   \n",
       "13273     Operator  20220427_GJENSIDIGE_FORSI-_Earnings_Call_2022-...   \n",
       "13274     Operator  20220427_GJENSIDIGE_FORSI-_Earnings_Call_2022-...   \n",
       "13275     Operator  20220427_GJENSIDIGE_FORSI-_Earnings_Call_2022-...   \n",
       "\n",
       "             date    idx  company_paticipants_yes  other_paticipants_yes  \\\n",
       "0      2011-02-02    0.0                        1                      1   \n",
       "1      2011-02-02  134.0                        1                      1   \n",
       "2      2011-02-02  318.0                        1                      1   \n",
       "3      2011-02-02  255.0                        1                      1   \n",
       "4      2011-02-02  217.0                        1                      1   \n",
       "...           ...    ...                      ...                    ...   \n",
       "13271  2022-04-27  163.0                        1                      1   \n",
       "13272  2022-04-27  219.0                        1                      1   \n",
       "13273  2022-04-27  275.0                        1                      1   \n",
       "13274  2022-04-27  341.0                        1                      1   \n",
       "13275  2022-04-27  523.0                        1                      1   \n",
       "\n",
       "            company_name                                          paraghrph  \\\n",
       "0              Mapfre SA      James Quin, Citigroup. James Quin  3878205...   \n",
       "1                LEGAL -  Andy Hughes, Exane BNP Paribas. Andy Hughes  1...   \n",
       "2                LEGAL -  Oliver Steel, Deutsche Bank. Oliver Steel  606...   \n",
       "3                LEGAL -  Marcus Barnard, Oriel Securities. Marcus Barna...   \n",
       "4                LEGAL -  Andrew Crean, Autonomous Research LLP. Andrew ...   \n",
       "...                  ...                                                ...   \n",
       "13271  GJENSIDIGE FORSI-  We will take our next question from Ulrik Zurc...   \n",
       "13272  GJENSIDIGE FORSI-  We will take our next question from Hakon Astr...   \n",
       "13273  GJENSIDIGE FORSI-  We will take our next question from Jan Erik f...   \n",
       "13274  GJENSIDIGE FORSI-  Our next question comes from Thomas Svendsen f...   \n",
       "13275  GJENSIDIGE FORSI-  Its appears there are no further questions at ...   \n",
       "\n",
       "                                         paraghrph_clean  \\\n",
       "0          James Quin Citigroup James Quin    Three n...   \n",
       "1      Andy Hughes Exane BNP Paribas Andy Hughes    T...   \n",
       "2      Oliver Steel Deutsche Bank Oliver Steel    Jus...   \n",
       "3      Marcus Barnard Oriel Securities Marcus Barnard...   \n",
       "4      Andrew Crean Autonomous Research LLP Andrew Cr...   \n",
       "...                                                  ...   \n",
       "13271  We will take our next question from Ulrik Zurc...   \n",
       "13272  We will take our next question from Hakon Astr...   \n",
       "13273  We will take our next question from Jan Erik f...   \n",
       "13274  Our next question comes from Thomas Svendsen f...   \n",
       "13275  Its appears there are no further questions at ...   \n",
       "\n",
       "                                          paraghrph_noun  \\\n",
       "0      number question one call sense release contrib...   \n",
       "1      question benefit fact chunk par term credit sp...   \n",
       "2      question surplus profit stage solvency financi...   \n",
       "3      question one capital speaker question second s...   \n",
       "4      question level reserve transaction transaction...   \n",
       "...                                                  ...   \n",
       "13271  question line question inﬂation supply chain i...   \n",
       "13272  question market line morning question question...   \n",
       "13273  question line question inﬂation question bit d...   \n",
       "13274  question line morning question claim claim eﬀe...   \n",
       "13275  question time question number roadshow meeting...   \n",
       "\n",
       "                                                   token  word_count  \\\n",
       "0      [number, question, sense, release, contributio...         191   \n",
       "1      [question, benefit, fact, chunk, term, credit,...          99   \n",
       "2      [question, surplus, profit, stage, solvency, f...          37   \n",
       "3      [question, capital, speaker, question, securit...          54   \n",
       "4      [question, level, reserve, transaction, transa...          21   \n",
       "...                                                  ...         ...   \n",
       "13271  [question, question, inﬂation, supply, chain, ...         101   \n",
       "13272  [question, market, morning, question, question...         109   \n",
       "13273  [question, question, inﬂation, question, bit, ...          82   \n",
       "13274  [question, morning, question, claim, claim, eﬀ...          77   \n",
       "13275  [question, time, question, number, roadshow, m...          45   \n",
       "\n",
       "       char_count  sentence_count  avg_word_length  avg_sentence_length  year  \\\n",
       "0            1335              92         6.989529             2.076087  2011   \n",
       "1             663              52         6.696970             1.903846  2011   \n",
       "2             251              23         6.783784             1.608696  2011   \n",
       "3             390              38         7.222222             1.421053  2011   \n",
       "4             162              13         7.714286             1.615385  2011   \n",
       "...           ...             ...              ...                  ...   ...   \n",
       "13271         694              30         6.871287             3.366667  2022   \n",
       "13272         720              31         6.605505             3.516129  2022   \n",
       "13273         563              40         6.865854             2.050000  2022   \n",
       "13274         493              20         6.402597             3.850000  2022   \n",
       "13275         341              19         7.577778             2.368421  2022   \n",
       "\n",
       "       month  quater year_quater  \n",
       "0          2       1      2011-1  \n",
       "1          2       1      2011-1  \n",
       "2          2       1      2011-1  \n",
       "3          2       1      2011-1  \n",
       "4          2       1      2011-1  \n",
       "...      ...     ...         ...  \n",
       "13271      4       2      2022-2  \n",
       "13272      4       2      2022-2  \n",
       "13273      4       2      2022-2  \n",
       "13274      4       2      2022-2  \n",
       "13275      4       2      2022-2  \n",
       "\n",
       "[13276 rows x 20 columns]"
      ]
     },
     "execution_count": 31,
     "metadata": {},
     "output_type": "execute_result"
    }
   ],
   "source": [
    "# DTM模型（Dynamic Topic Models: 加入时间因素，不同主题随着时间变动) 时间-主题词条矩阵、主题-时间词条矩阵、文档主题偏好、新文档预测、跨时间+主题属性的文档相似性\n",
    "# https://cloud.tencent.com/developer/article/1435976\n",
    "\n",
    "model_df['date'] = pd.to_datetime(model_df['date'])\n",
    "model_df['year'] = model_df['date'].apply(lambda x: x.year)\n",
    "model_df['month'] = model_df['date'].apply(lambda x: x.month)\n",
    "model_df['quater'] = model_df['date'].apply(lambda x: x.quarter)\n",
    "model_df['year_quater'] = model_df['year'].astype(str) + '-' + model_df['quater'].astype(str)\n",
    "# model_df['date'] to str\n",
    "model_df['date'] = model_df['date'].astype(str)\n",
    "model_df"
   ]
  },
  {
   "cell_type": "code",
   "execution_count": 32,
   "metadata": {},
   "outputs": [
    {
     "data": {
      "text/html": [
       "<div>\n",
       "<style scoped>\n",
       "    .dataframe tbody tr th:only-of-type {\n",
       "        vertical-align: middle;\n",
       "    }\n",
       "\n",
       "    .dataframe tbody tr th {\n",
       "        vertical-align: top;\n",
       "    }\n",
       "\n",
       "    .dataframe thead th {\n",
       "        text-align: right;\n",
       "    }\n",
       "</style>\n",
       "<table border=\"1\" class=\"dataframe\">\n",
       "  <thead>\n",
       "    <tr style=\"text-align: right;\">\n",
       "      <th></th>\n",
       "      <th>participants</th>\n",
       "      <th>file_name</th>\n",
       "      <th>date</th>\n",
       "      <th>idx</th>\n",
       "      <th>company_paticipants_yes</th>\n",
       "      <th>other_paticipants_yes</th>\n",
       "      <th>company_name</th>\n",
       "      <th>paraghrph</th>\n",
       "      <th>paraghrph_clean</th>\n",
       "      <th>paraghrph_noun</th>\n",
       "      <th>token</th>\n",
       "      <th>word_count</th>\n",
       "      <th>char_count</th>\n",
       "      <th>sentence_count</th>\n",
       "      <th>avg_word_length</th>\n",
       "      <th>avg_sentence_length</th>\n",
       "      <th>year</th>\n",
       "      <th>month</th>\n",
       "      <th>quater</th>\n",
       "      <th>year_quater</th>\n",
       "    </tr>\n",
       "  </thead>\n",
       "  <tbody>\n",
       "    <tr>\n",
       "      <th>0</th>\n",
       "      <td>Operator</td>\n",
       "      <td>20110202 _Mapfre_SA_Earnings_Call_SD0000000027...</td>\n",
       "      <td>2011-02-02</td>\n",
       "      <td>0.0</td>\n",
       "      <td>1</td>\n",
       "      <td>1</td>\n",
       "      <td>Mapfre SA</td>\n",
       "      <td>James Quin, Citigroup. James Quin  3878205...</td>\n",
       "      <td>James Quin Citigroup James Quin    Three n...</td>\n",
       "      <td>number question one call sense release contrib...</td>\n",
       "      <td>[release, contribution, debate, reinsurance, p...</td>\n",
       "      <td>191</td>\n",
       "      <td>1335</td>\n",
       "      <td>92</td>\n",
       "      <td>6.989529</td>\n",
       "      <td>2.076087</td>\n",
       "      <td>2011</td>\n",
       "      <td>2</td>\n",
       "      <td>1</td>\n",
       "      <td>2011-1</td>\n",
       "    </tr>\n",
       "    <tr>\n",
       "      <th>1</th>\n",
       "      <td>Operator</td>\n",
       "      <td>20110202_LEGAL_-_GEN_GRP-_Guidance_Call_2011-2...</td>\n",
       "      <td>2011-02-02</td>\n",
       "      <td>134.0</td>\n",
       "      <td>1</td>\n",
       "      <td>1</td>\n",
       "      <td>LEGAL -</td>\n",
       "      <td>Andy Hughes, Exane BNP Paribas. Andy Hughes  1...</td>\n",
       "      <td>Andy Hughes Exane BNP Paribas Andy Hughes    T...</td>\n",
       "      <td>question benefit fact chunk par term credit sp...</td>\n",
       "      <td>[benefit, chunk, credit, spread, gain, transac...</td>\n",
       "      <td>99</td>\n",
       "      <td>663</td>\n",
       "      <td>52</td>\n",
       "      <td>6.696970</td>\n",
       "      <td>1.903846</td>\n",
       "      <td>2011</td>\n",
       "      <td>2</td>\n",
       "      <td>1</td>\n",
       "      <td>2011-1</td>\n",
       "    </tr>\n",
       "    <tr>\n",
       "      <th>2</th>\n",
       "      <td>Operator</td>\n",
       "      <td>20110202_LEGAL_-_GEN_GRP-_Guidance_Call_2011-2...</td>\n",
       "      <td>2011-02-02</td>\n",
       "      <td>318.0</td>\n",
       "      <td>1</td>\n",
       "      <td>1</td>\n",
       "      <td>LEGAL -</td>\n",
       "      <td>Oliver Steel, Deutsche Bank. Oliver Steel  606...</td>\n",
       "      <td>Oliver Steel Deutsche Bank Oliver Steel    Jus...</td>\n",
       "      <td>question surplus profit stage solvency financi...</td>\n",
       "      <td>[surplus, profit, stage, solvency, financing, ...</td>\n",
       "      <td>37</td>\n",
       "      <td>251</td>\n",
       "      <td>23</td>\n",
       "      <td>6.783784</td>\n",
       "      <td>1.608696</td>\n",
       "      <td>2011</td>\n",
       "      <td>2</td>\n",
       "      <td>1</td>\n",
       "      <td>2011-1</td>\n",
       "    </tr>\n",
       "    <tr>\n",
       "      <th>3</th>\n",
       "      <td>Operator</td>\n",
       "      <td>20110202_LEGAL_-_GEN_GRP-_Guidance_Call_2011-2...</td>\n",
       "      <td>2011-02-02</td>\n",
       "      <td>255.0</td>\n",
       "      <td>1</td>\n",
       "      <td>1</td>\n",
       "      <td>LEGAL -</td>\n",
       "      <td>Marcus Barnard, Oriel Securities. Marcus Barna...</td>\n",
       "      <td>Marcus Barnard Oriel Securities Marcus Barnard...</td>\n",
       "      <td>question one capital speaker question second s...</td>\n",
       "      <td>[capital, speaker, security, river, river, riv...</td>\n",
       "      <td>54</td>\n",
       "      <td>390</td>\n",
       "      <td>38</td>\n",
       "      <td>7.222222</td>\n",
       "      <td>1.421053</td>\n",
       "      <td>2011</td>\n",
       "      <td>2</td>\n",
       "      <td>1</td>\n",
       "      <td>2011-1</td>\n",
       "    </tr>\n",
       "    <tr>\n",
       "      <th>4</th>\n",
       "      <td>Operator</td>\n",
       "      <td>20110202_LEGAL_-_GEN_GRP-_Guidance_Call_2011-2...</td>\n",
       "      <td>2011-02-02</td>\n",
       "      <td>217.0</td>\n",
       "      <td>1</td>\n",
       "      <td>1</td>\n",
       "      <td>LEGAL -</td>\n",
       "      <td>Andrew Crean, Autonomous Research LLP. Andrew ...</td>\n",
       "      <td>Andrew Crean Autonomous Research LLP Andrew Cr...</td>\n",
       "      <td>question level reserve transaction transaction...</td>\n",
       "      <td>[reserve, transaction, transaction, indication...</td>\n",
       "      <td>21</td>\n",
       "      <td>162</td>\n",
       "      <td>13</td>\n",
       "      <td>7.714286</td>\n",
       "      <td>1.615385</td>\n",
       "      <td>2011</td>\n",
       "      <td>2</td>\n",
       "      <td>1</td>\n",
       "      <td>2011-1</td>\n",
       "    </tr>\n",
       "    <tr>\n",
       "      <th>...</th>\n",
       "      <td>...</td>\n",
       "      <td>...</td>\n",
       "      <td>...</td>\n",
       "      <td>...</td>\n",
       "      <td>...</td>\n",
       "      <td>...</td>\n",
       "      <td>...</td>\n",
       "      <td>...</td>\n",
       "      <td>...</td>\n",
       "      <td>...</td>\n",
       "      <td>...</td>\n",
       "      <td>...</td>\n",
       "      <td>...</td>\n",
       "      <td>...</td>\n",
       "      <td>...</td>\n",
       "      <td>...</td>\n",
       "      <td>...</td>\n",
       "      <td>...</td>\n",
       "      <td>...</td>\n",
       "      <td>...</td>\n",
       "    </tr>\n",
       "    <tr>\n",
       "      <th>13271</th>\n",
       "      <td>Operator</td>\n",
       "      <td>20220427_GJENSIDIGE_FORSI-_Earnings_Call_2022-...</td>\n",
       "      <td>2022-04-27</td>\n",
       "      <td>163.0</td>\n",
       "      <td>1</td>\n",
       "      <td>1</td>\n",
       "      <td>GJENSIDIGE FORSI-</td>\n",
       "      <td>We will take our next question from Ulrik Zurc...</td>\n",
       "      <td>We will take our next question from Ulrik Zurc...</td>\n",
       "      <td>question line question inﬂation supply chain i...</td>\n",
       "      <td>[inﬂation, supply, chain, corporate, risk, cla...</td>\n",
       "      <td>101</td>\n",
       "      <td>694</td>\n",
       "      <td>30</td>\n",
       "      <td>6.871287</td>\n",
       "      <td>3.366667</td>\n",
       "      <td>2022</td>\n",
       "      <td>4</td>\n",
       "      <td>2</td>\n",
       "      <td>2022-2</td>\n",
       "    </tr>\n",
       "    <tr>\n",
       "      <th>13272</th>\n",
       "      <td>Operator</td>\n",
       "      <td>20220427_GJENSIDIGE_FORSI-_Earnings_Call_2022-...</td>\n",
       "      <td>2022-04-27</td>\n",
       "      <td>219.0</td>\n",
       "      <td>1</td>\n",
       "      <td>1</td>\n",
       "      <td>GJENSIDIGE FORSI-</td>\n",
       "      <td>We will take our next question from Hakon Astr...</td>\n",
       "      <td>We will take our next question from Hakon Astr...</td>\n",
       "      <td>question market line morning question question...</td>\n",
       "      <td>[color, environment, reserve, percentage, inﬂa...</td>\n",
       "      <td>109</td>\n",
       "      <td>720</td>\n",
       "      <td>31</td>\n",
       "      <td>6.605505</td>\n",
       "      <td>3.516129</td>\n",
       "      <td>2022</td>\n",
       "      <td>4</td>\n",
       "      <td>2</td>\n",
       "      <td>2022-2</td>\n",
       "    </tr>\n",
       "    <tr>\n",
       "      <th>13273</th>\n",
       "      <td>Operator</td>\n",
       "      <td>20220427_GJENSIDIGE_FORSI-_Earnings_Call_2022-...</td>\n",
       "      <td>2022-04-27</td>\n",
       "      <td>275.0</td>\n",
       "      <td>1</td>\n",
       "      <td>1</td>\n",
       "      <td>GJENSIDIGE FORSI-</td>\n",
       "      <td>We will take our next question from Jan Erik f...</td>\n",
       "      <td>We will take our next question from Jan Erik f...</td>\n",
       "      <td>question line question inﬂation question bit d...</td>\n",
       "      <td>[inﬂation, diﬀerent, price, increase, client, ...</td>\n",
       "      <td>82</td>\n",
       "      <td>563</td>\n",
       "      <td>40</td>\n",
       "      <td>6.865854</td>\n",
       "      <td>2.050000</td>\n",
       "      <td>2022</td>\n",
       "      <td>4</td>\n",
       "      <td>2</td>\n",
       "      <td>2022-2</td>\n",
       "    </tr>\n",
       "    <tr>\n",
       "      <th>13274</th>\n",
       "      <td>Operator</td>\n",
       "      <td>20220427_GJENSIDIGE_FORSI-_Earnings_Call_2022-...</td>\n",
       "      <td>2022-04-27</td>\n",
       "      <td>341.0</td>\n",
       "      <td>1</td>\n",
       "      <td>1</td>\n",
       "      <td>GJENSIDIGE FORSI-</td>\n",
       "      <td>Our next question comes from Thomas Svendsen f...</td>\n",
       "      <td>Our next question comes from Thomas Svendsen f...</td>\n",
       "      <td>question line morning question claim claim eﬀe...</td>\n",
       "      <td>[claim, claim, eﬀect, component, claim, column...</td>\n",
       "      <td>77</td>\n",
       "      <td>493</td>\n",
       "      <td>20</td>\n",
       "      <td>6.402597</td>\n",
       "      <td>3.850000</td>\n",
       "      <td>2022</td>\n",
       "      <td>4</td>\n",
       "      <td>2</td>\n",
       "      <td>2022-2</td>\n",
       "    </tr>\n",
       "    <tr>\n",
       "      <th>13275</th>\n",
       "      <td>Operator</td>\n",
       "      <td>20220427_GJENSIDIGE_FORSI-_Earnings_Call_2022-...</td>\n",
       "      <td>2022-04-27</td>\n",
       "      <td>523.0</td>\n",
       "      <td>1</td>\n",
       "      <td>1</td>\n",
       "      <td>GJENSIDIGE FORSI-</td>\n",
       "      <td>Its appears there are no further questions at ...</td>\n",
       "      <td>Its appears there are no further questions at ...</td>\n",
       "      <td>question time question number roadshow meeting...</td>\n",
       "      <td>[roadshow, meeting, majority, person, meeting,...</td>\n",
       "      <td>45</td>\n",
       "      <td>341</td>\n",
       "      <td>19</td>\n",
       "      <td>7.577778</td>\n",
       "      <td>2.368421</td>\n",
       "      <td>2022</td>\n",
       "      <td>4</td>\n",
       "      <td>2</td>\n",
       "      <td>2022-2</td>\n",
       "    </tr>\n",
       "  </tbody>\n",
       "</table>\n",
       "<p>13276 rows × 20 columns</p>\n",
       "</div>"
      ],
      "text/plain": [
       "      participants                                          file_name  \\\n",
       "0         Operator  20110202 _Mapfre_SA_Earnings_Call_SD0000000027...   \n",
       "1         Operator  20110202_LEGAL_-_GEN_GRP-_Guidance_Call_2011-2...   \n",
       "2         Operator  20110202_LEGAL_-_GEN_GRP-_Guidance_Call_2011-2...   \n",
       "3         Operator  20110202_LEGAL_-_GEN_GRP-_Guidance_Call_2011-2...   \n",
       "4         Operator  20110202_LEGAL_-_GEN_GRP-_Guidance_Call_2011-2...   \n",
       "...            ...                                                ...   \n",
       "13271     Operator  20220427_GJENSIDIGE_FORSI-_Earnings_Call_2022-...   \n",
       "13272     Operator  20220427_GJENSIDIGE_FORSI-_Earnings_Call_2022-...   \n",
       "13273     Operator  20220427_GJENSIDIGE_FORSI-_Earnings_Call_2022-...   \n",
       "13274     Operator  20220427_GJENSIDIGE_FORSI-_Earnings_Call_2022-...   \n",
       "13275     Operator  20220427_GJENSIDIGE_FORSI-_Earnings_Call_2022-...   \n",
       "\n",
       "             date    idx  company_paticipants_yes  other_paticipants_yes  \\\n",
       "0      2011-02-02    0.0                        1                      1   \n",
       "1      2011-02-02  134.0                        1                      1   \n",
       "2      2011-02-02  318.0                        1                      1   \n",
       "3      2011-02-02  255.0                        1                      1   \n",
       "4      2011-02-02  217.0                        1                      1   \n",
       "...           ...    ...                      ...                    ...   \n",
       "13271  2022-04-27  163.0                        1                      1   \n",
       "13272  2022-04-27  219.0                        1                      1   \n",
       "13273  2022-04-27  275.0                        1                      1   \n",
       "13274  2022-04-27  341.0                        1                      1   \n",
       "13275  2022-04-27  523.0                        1                      1   \n",
       "\n",
       "            company_name                                          paraghrph  \\\n",
       "0              Mapfre SA      James Quin, Citigroup. James Quin  3878205...   \n",
       "1                LEGAL -  Andy Hughes, Exane BNP Paribas. Andy Hughes  1...   \n",
       "2                LEGAL -  Oliver Steel, Deutsche Bank. Oliver Steel  606...   \n",
       "3                LEGAL -  Marcus Barnard, Oriel Securities. Marcus Barna...   \n",
       "4                LEGAL -  Andrew Crean, Autonomous Research LLP. Andrew ...   \n",
       "...                  ...                                                ...   \n",
       "13271  GJENSIDIGE FORSI-  We will take our next question from Ulrik Zurc...   \n",
       "13272  GJENSIDIGE FORSI-  We will take our next question from Hakon Astr...   \n",
       "13273  GJENSIDIGE FORSI-  We will take our next question from Jan Erik f...   \n",
       "13274  GJENSIDIGE FORSI-  Our next question comes from Thomas Svendsen f...   \n",
       "13275  GJENSIDIGE FORSI-  Its appears there are no further questions at ...   \n",
       "\n",
       "                                         paraghrph_clean  \\\n",
       "0          James Quin Citigroup James Quin    Three n...   \n",
       "1      Andy Hughes Exane BNP Paribas Andy Hughes    T...   \n",
       "2      Oliver Steel Deutsche Bank Oliver Steel    Jus...   \n",
       "3      Marcus Barnard Oriel Securities Marcus Barnard...   \n",
       "4      Andrew Crean Autonomous Research LLP Andrew Cr...   \n",
       "...                                                  ...   \n",
       "13271  We will take our next question from Ulrik Zurc...   \n",
       "13272  We will take our next question from Hakon Astr...   \n",
       "13273  We will take our next question from Jan Erik f...   \n",
       "13274  Our next question comes from Thomas Svendsen f...   \n",
       "13275  Its appears there are no further questions at ...   \n",
       "\n",
       "                                          paraghrph_noun  \\\n",
       "0      number question one call sense release contrib...   \n",
       "1      question benefit fact chunk par term credit sp...   \n",
       "2      question surplus profit stage solvency financi...   \n",
       "3      question one capital speaker question second s...   \n",
       "4      question level reserve transaction transaction...   \n",
       "...                                                  ...   \n",
       "13271  question line question inﬂation supply chain i...   \n",
       "13272  question market line morning question question...   \n",
       "13273  question line question inﬂation question bit d...   \n",
       "13274  question line morning question claim claim eﬀe...   \n",
       "13275  question time question number roadshow meeting...   \n",
       "\n",
       "                                                   token  word_count  \\\n",
       "0      [release, contribution, debate, reinsurance, p...         191   \n",
       "1      [benefit, chunk, credit, spread, gain, transac...          99   \n",
       "2      [surplus, profit, stage, solvency, financing, ...          37   \n",
       "3      [capital, speaker, security, river, river, riv...          54   \n",
       "4      [reserve, transaction, transaction, indication...          21   \n",
       "...                                                  ...         ...   \n",
       "13271  [inﬂation, supply, chain, corporate, risk, cla...         101   \n",
       "13272  [color, environment, reserve, percentage, inﬂa...         109   \n",
       "13273  [inﬂation, diﬀerent, price, increase, client, ...          82   \n",
       "13274  [claim, claim, eﬀect, component, claim, column...          77   \n",
       "13275  [roadshow, meeting, majority, person, meeting,...          45   \n",
       "\n",
       "       char_count  sentence_count  avg_word_length  avg_sentence_length  year  \\\n",
       "0            1335              92         6.989529             2.076087  2011   \n",
       "1             663              52         6.696970             1.903846  2011   \n",
       "2             251              23         6.783784             1.608696  2011   \n",
       "3             390              38         7.222222             1.421053  2011   \n",
       "4             162              13         7.714286             1.615385  2011   \n",
       "...           ...             ...              ...                  ...   ...   \n",
       "13271         694              30         6.871287             3.366667  2022   \n",
       "13272         720              31         6.605505             3.516129  2022   \n",
       "13273         563              40         6.865854             2.050000  2022   \n",
       "13274         493              20         6.402597             3.850000  2022   \n",
       "13275         341              19         7.577778             2.368421  2022   \n",
       "\n",
       "       month  quater year_quater  \n",
       "0          2       1      2011-1  \n",
       "1          2       1      2011-1  \n",
       "2          2       1      2011-1  \n",
       "3          2       1      2011-1  \n",
       "4          2       1      2011-1  \n",
       "...      ...     ...         ...  \n",
       "13271      4       2      2022-2  \n",
       "13272      4       2      2022-2  \n",
       "13273      4       2      2022-2  \n",
       "13274      4       2      2022-2  \n",
       "13275      4       2      2022-2  \n",
       "\n",
       "[13276 rows x 20 columns]"
      ]
     },
     "execution_count": 32,
     "metadata": {},
     "output_type": "execute_result"
    }
   ],
   "source": [
    "# drop the afternoon, morning, conference, today,lady, gentleman\n",
    "model_df['token'] = model_df['token'].apply(lambda x: [i for i in x if i not in [\n",
    "    'afternoon', 'morning', 'conference','today','lady', 'gentleman', 'presentation',\n",
    "    'question','answer', 'slide',\n",
    "    'proÔ¨Åt', 'eÔ¨Äect','proÔ¨Åtability','oÔ¨Ä','diÔ¨Äerent','eÔ¨Éciency','Ô¨Ågure','inÔ¨Çation','Ô¨Çow','conÔ¨Åt',\n",
    "    'mm', 'mm_mm','guy','sir',' ','host_sir','bb','ty','word', 'year', 'quer','month','period', 'day', 'time','result', 'investor','week', 'update',\n",
    "    'Ô¨Åre','diÔ¨Äerence','diÔ¨Écult','beneÔ¨Åt', 'business','lot','ratio','rate','quarter', 'number', 'point', 'term', 'thing', 'level', \n",
    "    'bit', 'sort', 'reason', 'management', 'fact', 'case', 'area', 'people', 'sense', 'item', 'issue','market'\n",
    "     ]])\n",
    "model_df"
   ]
  },
  {
   "cell_type": "markdown",
   "metadata": {},
   "source": [
    "# Word-Length Count"
   ]
  },
  {
   "cell_type": "code",
   "execution_count": 33,
   "metadata": {},
   "outputs": [
    {
     "data": {
      "image/png": "[encoded data removed]",
      "text/plain": [
       "<Figure size 6480x1296 with 1 Axes>"
      ]
     },
     "metadata": {
      "needs_background": "light"
     },
     "output_type": "display_data"
    },
    {
     "data": {
      "text/html": [
       "<div>\n",
       "<style scoped>\n",
       "    .dataframe tbody tr th:only-of-type {\n",
       "        vertical-align: middle;\n",
       "    }\n",
       "\n",
       "    .dataframe tbody tr th {\n",
       "        vertical-align: top;\n",
       "    }\n",
       "\n",
       "    .dataframe thead th {\n",
       "        text-align: right;\n",
       "    }\n",
       "</style>\n",
       "<table border=\"1\" class=\"dataframe\">\n",
       "  <thead>\n",
       "    <tr style=\"text-align: right;\">\n",
       "      <th></th>\n",
       "      <th>word</th>\n",
       "      <th>freq</th>\n",
       "    </tr>\n",
       "  </thead>\n",
       "  <tbody>\n",
       "    <tr>\n",
       "      <th>0</th>\n",
       "      <td>capital</td>\n",
       "      <td>4703</td>\n",
       "    </tr>\n",
       "    <tr>\n",
       "      <th>1</th>\n",
       "      <td>loss</td>\n",
       "      <td>4696</td>\n",
       "    </tr>\n",
       "    <tr>\n",
       "      <th>2</th>\n",
       "      <td>impact</td>\n",
       "      <td>4246</td>\n",
       "    </tr>\n",
       "    <tr>\n",
       "      <th>3</th>\n",
       "      <td>change</td>\n",
       "      <td>3811</td>\n",
       "    </tr>\n",
       "    <tr>\n",
       "      <th>4</th>\n",
       "      <td>risk</td>\n",
       "      <td>3806</td>\n",
       "    </tr>\n",
       "    <tr>\n",
       "      <th>...</th>\n",
       "      <td>...</td>\n",
       "      <td>...</td>\n",
       "    </tr>\n",
       "    <tr>\n",
       "      <th>6664</th>\n",
       "      <td>sometmie</td>\n",
       "      <td>1</td>\n",
       "    </tr>\n",
       "    <tr>\n",
       "      <th>6665</th>\n",
       "      <td>newswritten</td>\n",
       "      <td>1</td>\n",
       "    </tr>\n",
       "    <tr>\n",
       "      <th>6666</th>\n",
       "      <td>immunization</td>\n",
       "      <td>1</td>\n",
       "    </tr>\n",
       "    <tr>\n",
       "      <th>6667</th>\n",
       "      <td>stepdown</td>\n",
       "      <td>1</td>\n",
       "    </tr>\n",
       "    <tr>\n",
       "      <th>8893</th>\n",
       "      <td>cyclicity</td>\n",
       "      <td>1</td>\n",
       "    </tr>\n",
       "  </tbody>\n",
       "</table>\n",
       "<p>8894 rows × 2 columns</p>\n",
       "</div>"
      ],
      "text/plain": [
       "              word  freq\n",
       "0          capital  4703\n",
       "1             loss  4696\n",
       "2           impact  4246\n",
       "3           change  3811\n",
       "4             risk  3806\n",
       "...            ...   ...\n",
       "6664      sometmie     1\n",
       "6665   newswritten     1\n",
       "6666  immunization     1\n",
       "6667      stepdown     1\n",
       "8893     cyclicity     1\n",
       "\n",
       "[8894 rows x 2 columns]"
      ]
     },
     "execution_count": 33,
     "metadata": {},
     "output_type": "execute_result"
    }
   ],
   "source": [
    "# exclude the rows that the sentence_count is less than 3\n",
    "model_df = model_df[model_df['sentence_count']>4]\n",
    "# reset the index\n",
    "model_df = model_df.reset_index(drop=True)\n",
    "\n",
    "# high frequency words excluding\n",
    "temp_token = model_df['token'] # .apply(remove_brackets)\n",
    "docs_tokens = []\n",
    "for i in temp_token:\n",
    "    docs_tokens.append(i)\n",
    "    \n",
    "# word frequency\n",
    "# explore word frequencies\n",
    "word_freq = Counter(x for xs in docs_tokens for x in set(xs)).most_common()\n",
    "word_fr = pd.DataFrame(word_freq, columns=['word', 'freq']).sort_values(by='freq', ascending=False)\n",
    "\n",
    "# visualize word frequencies\n",
    "# figure size\n",
    "fig = plt.figure(figsize=(90, 18))\n",
    "plt.bar(word_fr.word[0:300], word_fr.freq[0:300], color='green')\n",
    "plt.xlabel(\"Word\")\n",
    "plt.ylabel(\"Count\")\n",
    "plt.title(\"Word Frequency\")\n",
    "plt.show()\n",
    "\n",
    "# remove 50 most frequent words which is known in this context\n",
    "word_list = word_fr.head(300)['word'].to_list()\n",
    "mdy_list, tmp=[],[]\n",
    "for review in docs_tokens:\n",
    "    for word in review:\n",
    "        if word not in word_list:\n",
    "            tmp.append(word)\n",
    "    mdy_list.append(tmp)\n",
    "    tmp=[]\n",
    "    \n",
    "word_fr"
   ]
  },
  {
   "cell_type": "code",
   "execution_count": 34,
   "metadata": {},
   "outputs": [],
   "source": [
    "original_model_df = model_df.copy()"
   ]
  },
  {
   "cell_type": "code",
   "execution_count": 35,
   "metadata": {},
   "outputs": [],
   "source": [
    "model_df['token'] = mdy_list"
   ]
  },
  {
   "cell_type": "code",
   "execution_count": 36,
   "metadata": {},
   "outputs": [],
   "source": [
    "# # exclude the rows that the sentence_count is less than 3\n",
    "# model_df = model_df[model_df['sentence_count']>4]\n",
    "# # reset the index\n",
    "# model_df = model_df.reset_index(drop=True)\n",
    "# model_df_original = model_df.copy()"
   ]
  },
  {
   "cell_type": "code",
   "execution_count": 37,
   "metadata": {},
   "outputs": [],
   "source": [
    "# # high frequency words excluding\n",
    "# temp_token = model_df_original['token'] # .apply(remove_brackets)\n",
    "# docs_tokens = []\n",
    "# for i in temp_token:\n",
    "#     docs_tokens.append(i)\n",
    "\n",
    "# # word frequency\n",
    "# # explore word frequencies\n",
    "# word_freq = Counter(x for xs in docs_tokens for x in set(xs)).most_common()\n",
    "# word_fr = pd.DataFrame(word_freq, columns=['word', 'freq']).sort_values(by='freq', ascending=False)\n",
    "\n",
    "# # visualize word frequencies\n",
    "# # figure size\n",
    "# fig = plt.figure(figsize=(90, 18))\n",
    "# plt.bar(word_fr.word[0:150], word_fr.freq[0:150], color='green')\n",
    "# plt.xlabel(\"Word\")\n",
    "# plt.ylabel(\"Count\")\n",
    "# plt.title(\"Word Frequency\")\n",
    "# plt.show()\n",
    "\n",
    "\n",
    "# # remove 50 most frequent words which is known in this context\n",
    "# word_list = word_fr.head(150)['word'].to_list()\n",
    "# mdy_list, tmp=[],[]\n",
    "# for review in docs_tokens:\n",
    "#     for word in review:\n",
    "#         if word not in word_list:\n",
    "#             tmp.append(word)\n",
    "#     mdy_list.append(tmp)\n",
    "#     tmp=[]\n",
    "\n",
    "# model_df['token'] = mdy_list\n",
    "# word_fr"
   ]
  },
  {
   "cell_type": "code",
   "execution_count": 38,
   "metadata": {},
   "outputs": [],
   "source": [
    "# # DTM模型（Dynamic Topic Models: 加入时间因素，不同主题随着时间变动) 时间-主题词条矩阵、主题-时间词条矩阵、文档主题偏好、新文档预测、跨时间+主题属性的文档相似性\n",
    "# # https://cloud.tencent.com/developer/article/1435976\n",
    "\n",
    "# model_df['date'] = pd.to_datetime(model_df['date'])\n",
    "# model_df['year'] = model_df['date'].apply(lambda x: x.year)\n",
    "# model_df['month'] = model_df['date'].apply(lambda x: x.month)\n",
    "# model_df['quater'] = model_df['date'].apply(lambda x: x.quarter)\n",
    "# model_df['year_quater'] = model_df['year'].astype(str) + '-' + model_df['quater'].astype(str)\n",
    "# # model_df['date'] to str\n",
    "# model_df['date'] = model_df['date'].astype(str)\n",
    "# model_df"
   ]
  },
  {
   "cell_type": "code",
   "execution_count": 39,
   "metadata": {},
   "outputs": [
    {
     "data": {
      "text/html": [
       "<div>\n",
       "<style scoped>\n",
       "    .dataframe tbody tr th:only-of-type {\n",
       "        vertical-align: middle;\n",
       "    }\n",
       "\n",
       "    .dataframe tbody tr th {\n",
       "        vertical-align: top;\n",
       "    }\n",
       "\n",
       "    .dataframe thead th {\n",
       "        text-align: right;\n",
       "    }\n",
       "</style>\n",
       "<table border=\"1\" class=\"dataframe\">\n",
       "  <thead>\n",
       "    <tr style=\"text-align: right;\">\n",
       "      <th></th>\n",
       "      <th>year_quater</th>\n",
       "      <th>token</th>\n",
       "    </tr>\n",
       "  </thead>\n",
       "  <tbody>\n",
       "    <tr>\n",
       "      <th>0</th>\n",
       "      <td>2011-1</td>\n",
       "      <td>[debate, phase, nonlife, triangle, tomorrow, t...</td>\n",
       "    </tr>\n",
       "    <tr>\n",
       "      <th>1</th>\n",
       "      <td>2011-2</td>\n",
       "      <td>[participation, reinstatement, quota, regime, ...</td>\n",
       "    </tr>\n",
       "    <tr>\n",
       "      <th>2</th>\n",
       "      <td>2011-3</td>\n",
       "      <td>[hearing, eurm, eurm, goodwill, goodwill, desc...</td>\n",
       "    </tr>\n",
       "    <tr>\n",
       "      <th>3</th>\n",
       "      <td>2011-4</td>\n",
       "      <td>[explanation, tornado, close, goodwill, impair...</td>\n",
       "    </tr>\n",
       "    <tr>\n",
       "      <th>4</th>\n",
       "      <td>2012-1</td>\n",
       "      <td>[downturn, economy, recession, crisis, underwr...</td>\n",
       "    </tr>\n",
       "    <tr>\n",
       "      <th>5</th>\n",
       "      <td>2012-2</td>\n",
       "      <td>[bunch, flood, certainty, variability, laughte...</td>\n",
       "    </tr>\n",
       "    <tr>\n",
       "      <th>6</th>\n",
       "      <td>2012-3</td>\n",
       "      <td>[longevity, transition, stad, clarification, s...</td>\n",
       "    </tr>\n",
       "    <tr>\n",
       "      <th>7</th>\n",
       "      <td>2012-4</td>\n",
       "      <td>[ground, ﬁgure, saving, dialogue, behavior, aﬀ...</td>\n",
       "    </tr>\n",
       "    <tr>\n",
       "      <th>8</th>\n",
       "      <td>2013-1</td>\n",
       "      <td>[surprise, conversion, pick, certificate, logi...</td>\n",
       "    </tr>\n",
       "    <tr>\n",
       "      <th>9</th>\n",
       "      <td>2013-2</td>\n",
       "      <td>[roe, thinking, certainty, analysis, teen, tee...</td>\n",
       "    </tr>\n",
       "    <tr>\n",
       "      <th>10</th>\n",
       "      <td>2013-3</td>\n",
       "      <td>[summer, holiday, road, show, tomorrow, access...</td>\n",
       "    </tr>\n",
       "    <tr>\n",
       "      <th>11</th>\n",
       "      <td>2013-4</td>\n",
       "      <td>[bonus, discount, oﬀs, turnaround, oﬀs, bonus,...</td>\n",
       "    </tr>\n",
       "    <tr>\n",
       "      <th>12</th>\n",
       "      <td>2014-1</td>\n",
       "      <td>[homeowner, combine, shape, homeowner, homeown...</td>\n",
       "    </tr>\n",
       "    <tr>\n",
       "      <th>13</th>\n",
       "      <td>2014-2</td>\n",
       "      <td>[tomorrow, copyright, lp, reproduction, redist...</td>\n",
       "    </tr>\n",
       "    <tr>\n",
       "      <th>14</th>\n",
       "      <td>2014-3</td>\n",
       "      <td>[disposal, mass, gear, strengthen, preference,...</td>\n",
       "    </tr>\n",
       "    <tr>\n",
       "      <th>15</th>\n",
       "      <td>2014-4</td>\n",
       "      <td>[content, analysis, building, saving, cloudbur...</td>\n",
       "    </tr>\n",
       "    <tr>\n",
       "      <th>16</th>\n",
       "      <td>2015-1</td>\n",
       "      <td>[geography, contrast, phrase, variability, var...</td>\n",
       "    </tr>\n",
       "    <tr>\n",
       "      <th>17</th>\n",
       "      <td>2015-2</td>\n",
       "      <td>[gdp, ambition, lærerstanden, cut, house, peri...</td>\n",
       "    </tr>\n",
       "    <tr>\n",
       "      <th>18</th>\n",
       "      <td>2015-3</td>\n",
       "      <td>[forma, efficiency, jurisdiction, domicile, ag...</td>\n",
       "    </tr>\n",
       "    <tr>\n",
       "      <th>19</th>\n",
       "      <td>2015-4</td>\n",
       "      <td>[economy, impression, macro, correlation, outp...</td>\n",
       "    </tr>\n",
       "    <tr>\n",
       "      <th>20</th>\n",
       "      <td>2016-1</td>\n",
       "      <td>[buffer, buffer, principle, buffer, capitaliza...</td>\n",
       "    </tr>\n",
       "    <tr>\n",
       "      <th>21</th>\n",
       "      <td>2016-2</td>\n",
       "      <td>[copyright, lp, reproduction, redistribution, ...</td>\n",
       "    </tr>\n",
       "    <tr>\n",
       "      <th>22</th>\n",
       "      <td>2016-3</td>\n",
       "      <td>[luck, function, head, department, house, depa...</td>\n",
       "    </tr>\n",
       "    <tr>\n",
       "      <th>23</th>\n",
       "      <td>2016-4</td>\n",
       "      <td>[manner, synergy, manner, history, agriculture...</td>\n",
       "    </tr>\n",
       "    <tr>\n",
       "      <th>24</th>\n",
       "      <td>2017-1</td>\n",
       "      <td>[clariﬁcation, restatement, curve, introductio...</td>\n",
       "    </tr>\n",
       "    <tr>\n",
       "      <th>25</th>\n",
       "      <td>2017-2</td>\n",
       "      <td>[headline, magnitude, mirror, fluctuation, mem...</td>\n",
       "    </tr>\n",
       "    <tr>\n",
       "      <th>26</th>\n",
       "      <td>2017-3</td>\n",
       "      <td>[background, marketing, syndicate, concentrati...</td>\n",
       "    </tr>\n",
       "    <tr>\n",
       "      <th>27</th>\n",
       "      <td>2017-4</td>\n",
       "      <td>[floor, framework, stake, total, hurricane, im...</td>\n",
       "    </tr>\n",
       "    <tr>\n",
       "      <th>28</th>\n",
       "      <td>2018-1</td>\n",
       "      <td>[qbe, globe, substance, form, qbe, block, qbe,...</td>\n",
       "    </tr>\n",
       "    <tr>\n",
       "      <th>29</th>\n",
       "      <td>2018-2</td>\n",
       "      <td>[house, pick, hike, hike, territory, membershi...</td>\n",
       "    </tr>\n",
       "    <tr>\n",
       "      <th>30</th>\n",
       "      <td>2018-3</td>\n",
       "      <td>[diﬃcult, white, branding, brand, participatio...</td>\n",
       "    </tr>\n",
       "    <tr>\n",
       "      <th>31</th>\n",
       "      <td>2018-4</td>\n",
       "      <td>[ease, continuum, digitalization, digitalizati...</td>\n",
       "    </tr>\n",
       "    <tr>\n",
       "      <th>32</th>\n",
       "      <td>2019-1</td>\n",
       "      <td>[deterioration, confidence, magnitude, slowdow...</td>\n",
       "    </tr>\n",
       "    <tr>\n",
       "      <th>33</th>\n",
       "      <td>2019-2</td>\n",
       "      <td>[instrument, quota, motivation, prospectus, pu...</td>\n",
       "    </tr>\n",
       "    <tr>\n",
       "      <th>34</th>\n",
       "      <td>2019-3</td>\n",
       "      <td>[mark, discount, ﬁrst, thumb, correlation, vic...</td>\n",
       "    </tr>\n",
       "    <tr>\n",
       "      <th>35</th>\n",
       "      <td>2019-4</td>\n",
       "      <td>[chance, copyright, lp, reproduction, redistri...</td>\n",
       "    </tr>\n",
       "    <tr>\n",
       "      <th>36</th>\n",
       "      <td>2020-1</td>\n",
       "      <td>[acceleration, eﬃciency, synergy, youdish, com...</td>\n",
       "    </tr>\n",
       "    <tr>\n",
       "      <th>37</th>\n",
       "      <td>2020-2</td>\n",
       "      <td>[travel, burn, pool, liquidity, resource, trav...</td>\n",
       "    </tr>\n",
       "    <tr>\n",
       "      <th>38</th>\n",
       "      <td>2020-3</td>\n",
       "      <td>[delay, repair, delay, repair, repair, safety,...</td>\n",
       "    </tr>\n",
       "    <tr>\n",
       "      <th>39</th>\n",
       "      <td>2020-4</td>\n",
       "      <td>[weekend, inaccuracy, warranty, curiosity, gra...</td>\n",
       "    </tr>\n",
       "    <tr>\n",
       "      <th>40</th>\n",
       "      <td>2021-1</td>\n",
       "      <td>[headphone, falloff, entry, audit, audit, phas...</td>\n",
       "    </tr>\n",
       "    <tr>\n",
       "      <th>41</th>\n",
       "      <td>2021-2</td>\n",
       "      <td>[disposal, sound, lift, advisor, quilter, qi, ...</td>\n",
       "    </tr>\n",
       "    <tr>\n",
       "      <th>42</th>\n",
       "      <td>2021-3</td>\n",
       "      <td>[check, hike, elasticity, churn, series, diﬀer...</td>\n",
       "    </tr>\n",
       "    <tr>\n",
       "      <th>43</th>\n",
       "      <td>2021-4</td>\n",
       "      <td>[congratulation, set, bridge, diﬀerence, terri...</td>\n",
       "    </tr>\n",
       "  </tbody>\n",
       "</table>\n",
       "</div>"
      ],
      "text/plain": [
       "   year_quater                                              token\n",
       "0       2011-1  [debate, phase, nonlife, triangle, tomorrow, t...\n",
       "1       2011-2  [participation, reinstatement, quota, regime, ...\n",
       "2       2011-3  [hearing, eurm, eurm, goodwill, goodwill, desc...\n",
       "3       2011-4  [explanation, tornado, close, goodwill, impair...\n",
       "4       2012-1  [downturn, economy, recession, crisis, underwr...\n",
       "5       2012-2  [bunch, flood, certainty, variability, laughte...\n",
       "6       2012-3  [longevity, transition, stad, clarification, s...\n",
       "7       2012-4  [ground, ﬁgure, saving, dialogue, behavior, aﬀ...\n",
       "8       2013-1  [surprise, conversion, pick, certificate, logi...\n",
       "9       2013-2  [roe, thinking, certainty, analysis, teen, tee...\n",
       "10      2013-3  [summer, holiday, road, show, tomorrow, access...\n",
       "11      2013-4  [bonus, discount, oﬀs, turnaround, oﬀs, bonus,...\n",
       "12      2014-1  [homeowner, combine, shape, homeowner, homeown...\n",
       "13      2014-2  [tomorrow, copyright, lp, reproduction, redist...\n",
       "14      2014-3  [disposal, mass, gear, strengthen, preference,...\n",
       "15      2014-4  [content, analysis, building, saving, cloudbur...\n",
       "16      2015-1  [geography, contrast, phrase, variability, var...\n",
       "17      2015-2  [gdp, ambition, lærerstanden, cut, house, peri...\n",
       "18      2015-3  [forma, efficiency, jurisdiction, domicile, ag...\n",
       "19      2015-4  [economy, impression, macro, correlation, outp...\n",
       "20      2016-1  [buffer, buffer, principle, buffer, capitaliza...\n",
       "21      2016-2  [copyright, lp, reproduction, redistribution, ...\n",
       "22      2016-3  [luck, function, head, department, house, depa...\n",
       "23      2016-4  [manner, synergy, manner, history, agriculture...\n",
       "24      2017-1  [clariﬁcation, restatement, curve, introductio...\n",
       "25      2017-2  [headline, magnitude, mirror, fluctuation, mem...\n",
       "26      2017-3  [background, marketing, syndicate, concentrati...\n",
       "27      2017-4  [floor, framework, stake, total, hurricane, im...\n",
       "28      2018-1  [qbe, globe, substance, form, qbe, block, qbe,...\n",
       "29      2018-2  [house, pick, hike, hike, territory, membershi...\n",
       "30      2018-3  [diﬃcult, white, branding, brand, participatio...\n",
       "31      2018-4  [ease, continuum, digitalization, digitalizati...\n",
       "32      2019-1  [deterioration, confidence, magnitude, slowdow...\n",
       "33      2019-2  [instrument, quota, motivation, prospectus, pu...\n",
       "34      2019-3  [mark, discount, ﬁrst, thumb, correlation, vic...\n",
       "35      2019-4  [chance, copyright, lp, reproduction, redistri...\n",
       "36      2020-1  [acceleration, eﬃciency, synergy, youdish, com...\n",
       "37      2020-2  [travel, burn, pool, liquidity, resource, trav...\n",
       "38      2020-3  [delay, repair, delay, repair, repair, safety,...\n",
       "39      2020-4  [weekend, inaccuracy, warranty, curiosity, gra...\n",
       "40      2021-1  [headphone, falloff, entry, audit, audit, phas...\n",
       "41      2021-2  [disposal, sound, lift, advisor, quilter, qi, ...\n",
       "42      2021-3  [check, hike, elasticity, churn, series, diﬀer...\n",
       "43      2021-4  [congratulation, set, bridge, diﬀerence, terri..."
      ]
     },
     "execution_count": 39,
     "metadata": {},
     "output_type": "execute_result"
    }
   ],
   "source": [
    "test_df = model_df.copy()\n",
    "date_list = test_df['year_quater'].unique().tolist()\n",
    "# if the date_list == test_df['date'], append to the dtm_list\n",
    "dtm_token_list = []\n",
    "dtm_token_df = []\n",
    "dtm_df = pd.DataFrame()\n",
    "for date in date_list:\n",
    "    tmp_df = test_df[test_df['year_quater']==date]\n",
    "\n",
    "    tmp_token_list = tmp_df['token'].to_list()\n",
    "    for i in tmp_token_list:\n",
    "        for k in i:\n",
    "            dtm_token_list.append(k)\n",
    "    dtm_token_df.append(dtm_token_list)\n",
    "    dtm_token_list = []\n",
    "    dtm_df['year_quater'] = date_list\n",
    "dtm_df['token'] = dtm_token_df\n",
    "# dtm_df drop the row 45\n",
    "dtm_df = dtm_df.drop(45)\n",
    "dtm_df = dtm_df.drop(44)\n",
    "dtm_df = dtm_df.reset_index(drop=True)\n",
    "dtm_df"
   ]
  },
  {
   "cell_type": "markdown",
   "metadata": {},
   "source": [
    "# Docs_tokens"
   ]
  },
  {
   "cell_type": "code",
   "execution_count": 40,
   "metadata": {},
   "outputs": [],
   "source": [
    "# https://github.com/bab2min/tomotopy\n",
    "# https://bab2min.github.io/tomotopy/v0.12.3/en/#tomotopy.DTModel\n",
    "# https://notebook.community/pombredanne/gensim/docs/notebooks/ldaseqmodel"
   ]
  },
  {
   "cell_type": "code",
   "execution_count": 41,
   "metadata": {},
   "outputs": [
    {
     "data": {
      "text/plain": [
       "44"
      ]
     },
     "execution_count": 41,
     "metadata": {},
     "output_type": "execute_result"
    }
   ],
   "source": [
    "# recrate again for getting the docs_tokens\n",
    "temp_token_dtm = dtm_df['token'] # .apply(remove_brackets)\n",
    "docs_tokens_dtm = []\n",
    "for i in temp_token_dtm:\n",
    "    docs_tokens_dtm.append(i)\n",
    "len(docs_tokens_dtm)"
   ]
  },
  {
   "cell_type": "markdown",
   "metadata": {},
   "source": [
    "# docs_phrased"
   ]
  },
  {
   "cell_type": "code",
   "execution_count": 42,
   "metadata": {},
   "outputs": [
    {
     "data": {
      "text/plain": [
       "44"
      ]
     },
     "execution_count": 42,
     "metadata": {},
     "output_type": "execute_result"
    }
   ],
   "source": [
    "# topic modeling\n",
    "common_terms = [\n",
    "u\"of\",u\"with\",u\"without\",u\"and\",u\"or\",u\"the\",\n",
    "u\"a\",u\"not\",u\"be\",u\"to\",u\"this\",u\"who\",u\"in\",\n",
    "]\n",
    "\n",
    "bigram_dtm = Phrases(                              \n",
    "    docs_tokens_dtm,\n",
    "    min_count=50, # 這邊可以調整字連起來\n",
    "    threshold=5,\n",
    "    max_vocab_size=50000,\n",
    "    common_terms=common_terms,\n",
    ")\n",
    "trigram_dtm = Phrases(                             \n",
    "    bigram_dtm[docs_tokens_dtm],\n",
    "    min_count=50,\n",
    "    threshold=5,\n",
    "    max_vocab_size=50000,\n",
    "    common_terms=common_terms,\n",
    ")\n",
    "# anks to these two models, \n",
    "# we can process the tokenized documents and join the tokens associated with bi- or tri-grams.\n",
    "docs_phrased_dtm = [trigram_dtm[bigram_dtm[line]] for line in docs_tokens_dtm]\n",
    "len(docs_tokens_dtm)"
   ]
  },
  {
   "cell_type": "markdown",
   "metadata": {},
   "source": [
    "# corpus"
   ]
  },
  {
   "cell_type": "code",
   "execution_count": 43,
   "metadata": {},
   "outputs": [
    {
     "name": "stdout",
     "output_type": "stream",
     "text": [
      "44\n"
     ]
    }
   ],
   "source": [
    "corpus_dtm = tp.utils.Corpus() \n",
    "for i in range(len(docs_tokens_dtm)):\n",
    "    # corpus_dtm.add_doc with timepoint\n",
    "    corpus_dtm.add_doc(words=docs_tokens_dtm[i], timepoint=i) # dtm_df['date'][i]\n",
    "print(len(corpus_dtm))"
   ]
  },
  {
   "cell_type": "markdown",
   "metadata": {},
   "source": [
    "# model base on the topic number we select (without time series)"
   ]
  },
  {
   "cell_type": "code",
   "execution_count": 52,
   "metadata": {},
   "outputs": [
    {
     "name": "stdout",
     "output_type": "stream",
     "text": [
      "Iteration: 0\tLog-likelihood: -6.891181439585579\n",
      "Iteration: 10\tLog-likelihood: -6.877297107782789\n",
      "Iteration: 20\tLog-likelihood: -6.863032094541854\n",
      "Iteration: 30\tLog-likelihood: -6.844870429922\n",
      "Iteration: 40\tLog-likelihood: -6.811337160566455\n",
      "Iteration: 50\tLog-likelihood: -6.763137730462274\n",
      "Iteration: 60\tLog-likelihood: -6.720357027600318\n",
      "Iteration: 70\tLog-likelihood: -6.664442737119772\n",
      "Iteration: 80\tLog-likelihood: -6.609480218384293\n",
      "Iteration: 90\tLog-likelihood: -6.546124522790914\n"
     ]
    }
   ],
   "source": [
    "best_mdl = tp.DTModel(\n",
    "    # tw= TermWeight.ONE, # term weighting scheme in TermWeight. The default value is TermWeight.ONE\n",
    "    # min_cf=0, # minimum collection frequency of words\n",
    "    # min_df=0, # minimum document frequency of words\n",
    "    # rm_top=0, # remove top frequency words\n",
    "    # transform=None, # transformation of the corpus\n",
    "    k=14,\n",
    "    t = len(corpus_dtm),\n",
    "    corpus=corpus_dtm,\n",
    "    seed = 1\n",
    "    )\n",
    "\n",
    "\n",
    "for i in range(0, 100, 10):\n",
    "    best_mdl.train(10)\n",
    "    print(\"Iteration: {}\\tLog-likelihood: {}\".format(i, best_mdl.ll_per_word))"
   ]
  },
  {
   "cell_type": "code",
   "execution_count": 53,
   "metadata": {},
   "outputs": [
    {
     "data": {
      "text/html": [
       "<div>\n",
       "<style scoped>\n",
       "    .dataframe tbody tr th:only-of-type {\n",
       "        vertical-align: middle;\n",
       "    }\n",
       "\n",
       "    .dataframe tbody tr th {\n",
       "        vertical-align: top;\n",
       "    }\n",
       "\n",
       "    .dataframe thead th {\n",
       "        text-align: right;\n",
       "    }\n",
       "</style>\n",
       "<table border=\"1\" class=\"dataframe\">\n",
       "  <thead>\n",
       "    <tr style=\"text-align: right;\">\n",
       "      <th></th>\n",
       "      <th>word</th>\n",
       "      <th>prob</th>\n",
       "      <th>timepoint</th>\n",
       "      <th>k</th>\n",
       "      <th>sort</th>\n",
       "    </tr>\n",
       "  </thead>\n",
       "  <tbody>\n",
       "    <tr>\n",
       "      <th>0</th>\n",
       "      <td>hedge</td>\n",
       "      <td>0.010</td>\n",
       "      <td>0</td>\n",
       "      <td>0</td>\n",
       "      <td>0</td>\n",
       "    </tr>\n",
       "    <tr>\n",
       "      <th>1</th>\n",
       "      <td>injury</td>\n",
       "      <td>0.010</td>\n",
       "      <td>0</td>\n",
       "      <td>0</td>\n",
       "      <td>1</td>\n",
       "    </tr>\n",
       "    <tr>\n",
       "      <th>2</th>\n",
       "      <td>trajectory</td>\n",
       "      <td>0.010</td>\n",
       "      <td>0</td>\n",
       "      <td>0</td>\n",
       "      <td>2</td>\n",
       "    </tr>\n",
       "    <tr>\n",
       "      <th>3</th>\n",
       "      <td>scheme</td>\n",
       "      <td>0.007</td>\n",
       "      <td>0</td>\n",
       "      <td>0</td>\n",
       "      <td>3</td>\n",
       "    </tr>\n",
       "    <tr>\n",
       "      <th>4</th>\n",
       "      <td>energy</td>\n",
       "      <td>0.007</td>\n",
       "      <td>0</td>\n",
       "      <td>0</td>\n",
       "      <td>4</td>\n",
       "    </tr>\n",
       "    <tr>\n",
       "      <th>...</th>\n",
       "      <td>...</td>\n",
       "      <td>...</td>\n",
       "      <td>...</td>\n",
       "      <td>...</td>\n",
       "      <td>...</td>\n",
       "    </tr>\n",
       "    <tr>\n",
       "      <th>435</th>\n",
       "      <td>confidence</td>\n",
       "      <td>0.004</td>\n",
       "      <td>43</td>\n",
       "      <td>13</td>\n",
       "      <td>435</td>\n",
       "    </tr>\n",
       "    <tr>\n",
       "      <th>436</th>\n",
       "      <td>shape</td>\n",
       "      <td>0.004</td>\n",
       "      <td>43</td>\n",
       "      <td>13</td>\n",
       "      <td>436</td>\n",
       "    </tr>\n",
       "    <tr>\n",
       "      <th>437</th>\n",
       "      <td>footprint</td>\n",
       "      <td>0.004</td>\n",
       "      <td>43</td>\n",
       "      <td>13</td>\n",
       "      <td>437</td>\n",
       "    </tr>\n",
       "    <tr>\n",
       "      <th>438</th>\n",
       "      <td>project</td>\n",
       "      <td>0.003</td>\n",
       "      <td>43</td>\n",
       "      <td>13</td>\n",
       "      <td>438</td>\n",
       "    </tr>\n",
       "    <tr>\n",
       "      <th>439</th>\n",
       "      <td>efficiency</td>\n",
       "      <td>0.003</td>\n",
       "      <td>43</td>\n",
       "      <td>13</td>\n",
       "      <td>439</td>\n",
       "    </tr>\n",
       "  </tbody>\n",
       "</table>\n",
       "<p>6160 rows × 5 columns</p>\n",
       "</div>"
      ],
      "text/plain": [
       "           word   prob  timepoint   k  sort\n",
       "0         hedge  0.010          0   0     0\n",
       "1        injury  0.010          0   0     1\n",
       "2    trajectory  0.010          0   0     2\n",
       "3        scheme  0.007          0   0     3\n",
       "4        energy  0.007          0   0     4\n",
       "..          ...    ...        ...  ..   ...\n",
       "435  confidence  0.004         43  13   435\n",
       "436       shape  0.004         43  13   436\n",
       "437   footprint  0.004         43  13   437\n",
       "438     project  0.003         43  13   438\n",
       "439  efficiency  0.003         43  13   439\n",
       "\n",
       "[6160 rows x 5 columns]"
      ]
     },
     "execution_count": 53,
     "metadata": {},
     "output_type": "execute_result"
    }
   ],
   "source": [
    "wt = pd.DataFrame()\n",
    "# 使用“get_topic_words”屬性，我們可以取得主題到詞彙概率的預測，with required argument 'timepoint' (pos 2)\n",
    "for k in range(best_mdl.k):\n",
    "    words, probs, timepoints = [], [], []\n",
    "    for t in range(len(corpus_dtm)):\n",
    "        for word, prob in best_mdl.get_topic_words(k ,timepoint=t):\n",
    "            timepoints.append(t)\n",
    "            words.append(word)\n",
    "            probs.append(prob)\n",
    "        tmp = pd.DataFrame(\n",
    "            {\n",
    "                \"word\": words,\n",
    "                \"prob\": np.round(probs, 3),\n",
    "                \"timepoint\": timepoints,\n",
    "                \"k\": np.repeat(k, len(words)),\n",
    "                \"sort\": np.arange(0, len(words)),\n",
    "            }\n",
    "        )\n",
    "    words, probs, timepoints = [], [], []\n",
    "    wt = wt.append(tmp)\n",
    "    del tmp\n",
    "\n",
    "wt"
   ]
  },
  {
   "cell_type": "code",
   "execution_count": 54,
   "metadata": {},
   "outputs": [
    {
     "data": {
      "text/html": [
       "<div>\n",
       "<style scoped>\n",
       "    .dataframe tbody tr th:only-of-type {\n",
       "        vertical-align: middle;\n",
       "    }\n",
       "\n",
       "    .dataframe tbody tr th {\n",
       "        vertical-align: top;\n",
       "    }\n",
       "\n",
       "    .dataframe thead th {\n",
       "        text-align: right;\n",
       "    }\n",
       "</style>\n",
       "<table border=\"1\" class=\"dataframe\">\n",
       "  <thead>\n",
       "    <tr style=\"text-align: right;\">\n",
       "      <th></th>\n",
       "      <th>topic_1</th>\n",
       "      <th>topic_2</th>\n",
       "      <th>topic_3</th>\n",
       "      <th>topic_4</th>\n",
       "      <th>topic_5</th>\n",
       "      <th>topic_6</th>\n",
       "      <th>topic_7</th>\n",
       "      <th>topic_8</th>\n",
       "      <th>topic_9</th>\n",
       "      <th>topic_10</th>\n",
       "      <th>topic_11</th>\n",
       "      <th>topic_12</th>\n",
       "      <th>topic_13</th>\n",
       "      <th>topic_14</th>\n",
       "      <th>timepoint</th>\n",
       "    </tr>\n",
       "  </thead>\n",
       "  <tbody>\n",
       "    <tr>\n",
       "      <th>0</th>\n",
       "      <td>0.084735</td>\n",
       "      <td>0.085903</td>\n",
       "      <td>0.055536</td>\n",
       "      <td>0.078311</td>\n",
       "      <td>0.073639</td>\n",
       "      <td>0.057288</td>\n",
       "      <td>0.063128</td>\n",
       "      <td>0.082399</td>\n",
       "      <td>0.081231</td>\n",
       "      <td>0.081815</td>\n",
       "      <td>0.064296</td>\n",
       "      <td>0.053200</td>\n",
       "      <td>0.055536</td>\n",
       "      <td>0.082983</td>\n",
       "      <td>0</td>\n",
       "    </tr>\n",
       "    <tr>\n",
       "      <th>1</th>\n",
       "      <td>0.085096</td>\n",
       "      <td>0.060020</td>\n",
       "      <td>0.067106</td>\n",
       "      <td>0.075283</td>\n",
       "      <td>0.081280</td>\n",
       "      <td>0.062745</td>\n",
       "      <td>0.062745</td>\n",
       "      <td>0.058384</td>\n",
       "      <td>0.074738</td>\n",
       "      <td>0.084006</td>\n",
       "      <td>0.074193</td>\n",
       "      <td>0.069287</td>\n",
       "      <td>0.069832</td>\n",
       "      <td>0.075283</td>\n",
       "      <td>1</td>\n",
       "    </tr>\n",
       "    <tr>\n",
       "      <th>2</th>\n",
       "      <td>0.058021</td>\n",
       "      <td>0.075135</td>\n",
       "      <td>0.060782</td>\n",
       "      <td>0.069615</td>\n",
       "      <td>0.065198</td>\n",
       "      <td>0.082312</td>\n",
       "      <td>0.076239</td>\n",
       "      <td>0.069615</td>\n",
       "      <td>0.076239</td>\n",
       "      <td>0.065198</td>\n",
       "      <td>0.077343</td>\n",
       "      <td>0.061886</td>\n",
       "      <td>0.079552</td>\n",
       "      <td>0.082864</td>\n",
       "      <td>2</td>\n",
       "    </tr>\n",
       "    <tr>\n",
       "      <th>3</th>\n",
       "      <td>0.058109</td>\n",
       "      <td>0.065981</td>\n",
       "      <td>0.094519</td>\n",
       "      <td>0.059093</td>\n",
       "      <td>0.071393</td>\n",
       "      <td>0.074838</td>\n",
       "      <td>0.071393</td>\n",
       "      <td>0.071393</td>\n",
       "      <td>0.081726</td>\n",
       "      <td>0.054172</td>\n",
       "      <td>0.069917</td>\n",
       "      <td>0.072870</td>\n",
       "      <td>0.060077</td>\n",
       "      <td>0.094519</td>\n",
       "      <td>3</td>\n",
       "    </tr>\n",
       "    <tr>\n",
       "      <th>4</th>\n",
       "      <td>0.066984</td>\n",
       "      <td>0.068166</td>\n",
       "      <td>0.076435</td>\n",
       "      <td>0.099275</td>\n",
       "      <td>0.054777</td>\n",
       "      <td>0.063834</td>\n",
       "      <td>0.061471</td>\n",
       "      <td>0.075254</td>\n",
       "      <td>0.075648</td>\n",
       "      <td>0.065015</td>\n",
       "      <td>0.060684</td>\n",
       "      <td>0.088249</td>\n",
       "      <td>0.059108</td>\n",
       "      <td>0.085099</td>\n",
       "      <td>4</td>\n",
       "    </tr>\n",
       "    <tr>\n",
       "      <th>5</th>\n",
       "      <td>0.062452</td>\n",
       "      <td>0.054274</td>\n",
       "      <td>0.074447</td>\n",
       "      <td>0.081534</td>\n",
       "      <td>0.073629</td>\n",
       "      <td>0.065996</td>\n",
       "      <td>0.065996</td>\n",
       "      <td>0.059181</td>\n",
       "      <td>0.070903</td>\n",
       "      <td>0.075264</td>\n",
       "      <td>0.068449</td>\n",
       "      <td>0.093801</td>\n",
       "      <td>0.077173</td>\n",
       "      <td>0.076900</td>\n",
       "      <td>5</td>\n",
       "    </tr>\n",
       "    <tr>\n",
       "      <th>6</th>\n",
       "      <td>0.078871</td>\n",
       "      <td>0.068614</td>\n",
       "      <td>0.062675</td>\n",
       "      <td>0.069154</td>\n",
       "      <td>0.083729</td>\n",
       "      <td>0.050799</td>\n",
       "      <td>0.065914</td>\n",
       "      <td>0.068614</td>\n",
       "      <td>0.092367</td>\n",
       "      <td>0.063755</td>\n",
       "      <td>0.077251</td>\n",
       "      <td>0.084269</td>\n",
       "      <td>0.066994</td>\n",
       "      <td>0.066994</td>\n",
       "      <td>6</td>\n",
       "    </tr>\n",
       "    <tr>\n",
       "      <th>7</th>\n",
       "      <td>0.074989</td>\n",
       "      <td>0.088815</td>\n",
       "      <td>0.081902</td>\n",
       "      <td>0.080811</td>\n",
       "      <td>0.056797</td>\n",
       "      <td>0.057888</td>\n",
       "      <td>0.065893</td>\n",
       "      <td>0.072078</td>\n",
       "      <td>0.088451</td>\n",
       "      <td>0.070623</td>\n",
       "      <td>0.065529</td>\n",
       "      <td>0.074625</td>\n",
       "      <td>0.049884</td>\n",
       "      <td>0.071714</td>\n",
       "      <td>7</td>\n",
       "    </tr>\n",
       "    <tr>\n",
       "      <th>8</th>\n",
       "      <td>0.087385</td>\n",
       "      <td>0.068800</td>\n",
       "      <td>0.082553</td>\n",
       "      <td>0.064340</td>\n",
       "      <td>0.062110</td>\n",
       "      <td>0.062853</td>\n",
       "      <td>0.074376</td>\n",
       "      <td>0.063968</td>\n",
       "      <td>0.070659</td>\n",
       "      <td>0.068428</td>\n",
       "      <td>0.069544</td>\n",
       "      <td>0.076606</td>\n",
       "      <td>0.073632</td>\n",
       "      <td>0.074747</td>\n",
       "      <td>8</td>\n",
       "    </tr>\n",
       "    <tr>\n",
       "      <th>9</th>\n",
       "      <td>0.058217</td>\n",
       "      <td>0.093917</td>\n",
       "      <td>0.064682</td>\n",
       "      <td>0.066650</td>\n",
       "      <td>0.064120</td>\n",
       "      <td>0.066369</td>\n",
       "      <td>0.064963</td>\n",
       "      <td>0.060466</td>\n",
       "      <td>0.080986</td>\n",
       "      <td>0.071710</td>\n",
       "      <td>0.063558</td>\n",
       "      <td>0.073396</td>\n",
       "      <td>0.074802</td>\n",
       "      <td>0.096166</td>\n",
       "      <td>9</td>\n",
       "    </tr>\n",
       "    <tr>\n",
       "      <th>10</th>\n",
       "      <td>0.065264</td>\n",
       "      <td>0.075796</td>\n",
       "      <td>0.067897</td>\n",
       "      <td>0.065557</td>\n",
       "      <td>0.069067</td>\n",
       "      <td>0.059121</td>\n",
       "      <td>0.057073</td>\n",
       "      <td>0.085742</td>\n",
       "      <td>0.090422</td>\n",
       "      <td>0.073163</td>\n",
       "      <td>0.065850</td>\n",
       "      <td>0.075503</td>\n",
       "      <td>0.061754</td>\n",
       "      <td>0.087790</td>\n",
       "      <td>10</td>\n",
       "    </tr>\n",
       "    <tr>\n",
       "      <th>11</th>\n",
       "      <td>0.106930</td>\n",
       "      <td>0.059103</td>\n",
       "      <td>0.071763</td>\n",
       "      <td>0.066371</td>\n",
       "      <td>0.058869</td>\n",
       "      <td>0.073873</td>\n",
       "      <td>0.061917</td>\n",
       "      <td>0.071763</td>\n",
       "      <td>0.083486</td>\n",
       "      <td>0.060979</td>\n",
       "      <td>0.071763</td>\n",
       "      <td>0.086065</td>\n",
       "      <td>0.071763</td>\n",
       "      <td>0.055352</td>\n",
       "      <td>11</td>\n",
       "    </tr>\n",
       "    <tr>\n",
       "      <th>12</th>\n",
       "      <td>0.064058</td>\n",
       "      <td>0.054453</td>\n",
       "      <td>0.070215</td>\n",
       "      <td>0.066521</td>\n",
       "      <td>0.076618</td>\n",
       "      <td>0.078096</td>\n",
       "      <td>0.063073</td>\n",
       "      <td>0.065043</td>\n",
       "      <td>0.081297</td>\n",
       "      <td>0.075387</td>\n",
       "      <td>0.068737</td>\n",
       "      <td>0.089178</td>\n",
       "      <td>0.080805</td>\n",
       "      <td>0.066521</td>\n",
       "      <td>12</td>\n",
       "    </tr>\n",
       "    <tr>\n",
       "      <th>13</th>\n",
       "      <td>0.095005</td>\n",
       "      <td>0.073184</td>\n",
       "      <td>0.090787</td>\n",
       "      <td>0.053563</td>\n",
       "      <td>0.078501</td>\n",
       "      <td>0.087303</td>\n",
       "      <td>0.065115</td>\n",
       "      <td>0.055397</td>\n",
       "      <td>0.062365</td>\n",
       "      <td>0.065665</td>\n",
       "      <td>0.079418</td>\n",
       "      <td>0.050996</td>\n",
       "      <td>0.071167</td>\n",
       "      <td>0.071533</td>\n",
       "      <td>13</td>\n",
       "    </tr>\n",
       "    <tr>\n",
       "      <th>14</th>\n",
       "      <td>0.068835</td>\n",
       "      <td>0.051676</td>\n",
       "      <td>0.061972</td>\n",
       "      <td>0.077686</td>\n",
       "      <td>0.056192</td>\n",
       "      <td>0.076241</td>\n",
       "      <td>0.084369</td>\n",
       "      <td>0.088343</td>\n",
       "      <td>0.087801</td>\n",
       "      <td>0.090691</td>\n",
       "      <td>0.059082</td>\n",
       "      <td>0.058901</td>\n",
       "      <td>0.071906</td>\n",
       "      <td>0.066307</td>\n",
       "      <td>14</td>\n",
       "    </tr>\n",
       "    <tr>\n",
       "      <th>15</th>\n",
       "      <td>0.064537</td>\n",
       "      <td>0.071989</td>\n",
       "      <td>0.061988</td>\n",
       "      <td>0.076891</td>\n",
       "      <td>0.059634</td>\n",
       "      <td>0.050418</td>\n",
       "      <td>0.073165</td>\n",
       "      <td>0.058262</td>\n",
       "      <td>0.069440</td>\n",
       "      <td>0.172393</td>\n",
       "      <td>0.050222</td>\n",
       "      <td>0.077480</td>\n",
       "      <td>0.058262</td>\n",
       "      <td>0.055320</td>\n",
       "      <td>15</td>\n",
       "    </tr>\n",
       "    <tr>\n",
       "      <th>16</th>\n",
       "      <td>0.073898</td>\n",
       "      <td>0.072881</td>\n",
       "      <td>0.086098</td>\n",
       "      <td>0.065256</td>\n",
       "      <td>0.069492</td>\n",
       "      <td>0.064239</td>\n",
       "      <td>0.051700</td>\n",
       "      <td>0.060511</td>\n",
       "      <td>0.058308</td>\n",
       "      <td>0.123039</td>\n",
       "      <td>0.043566</td>\n",
       "      <td>0.094401</td>\n",
       "      <td>0.071186</td>\n",
       "      <td>0.065425</td>\n",
       "      <td>16</td>\n",
       "    </tr>\n",
       "    <tr>\n",
       "      <th>17</th>\n",
       "      <td>0.058572</td>\n",
       "      <td>0.067234</td>\n",
       "      <td>0.072084</td>\n",
       "      <td>0.059092</td>\n",
       "      <td>0.093219</td>\n",
       "      <td>0.068793</td>\n",
       "      <td>0.086810</td>\n",
       "      <td>0.062383</td>\n",
       "      <td>0.075722</td>\n",
       "      <td>0.062556</td>\n",
       "      <td>0.042634</td>\n",
       "      <td>0.074510</td>\n",
       "      <td>0.111756</td>\n",
       "      <td>0.064635</td>\n",
       "      <td>17</td>\n",
       "    </tr>\n",
       "    <tr>\n",
       "      <th>18</th>\n",
       "      <td>0.065758</td>\n",
       "      <td>0.095168</td>\n",
       "      <td>0.063067</td>\n",
       "      <td>0.064605</td>\n",
       "      <td>0.072101</td>\n",
       "      <td>0.057300</td>\n",
       "      <td>0.094014</td>\n",
       "      <td>0.079406</td>\n",
       "      <td>0.065950</td>\n",
       "      <td>0.075177</td>\n",
       "      <td>0.051342</td>\n",
       "      <td>0.073062</td>\n",
       "      <td>0.082673</td>\n",
       "      <td>0.060376</td>\n",
       "      <td>18</td>\n",
       "    </tr>\n",
       "    <tr>\n",
       "      <th>19</th>\n",
       "      <td>0.045585</td>\n",
       "      <td>0.056901</td>\n",
       "      <td>0.054760</td>\n",
       "      <td>0.038245</td>\n",
       "      <td>0.060418</td>\n",
       "      <td>0.067759</td>\n",
       "      <td>0.165321</td>\n",
       "      <td>0.056748</td>\n",
       "      <td>0.070511</td>\n",
       "      <td>0.098342</td>\n",
       "      <td>0.059654</td>\n",
       "      <td>0.077240</td>\n",
       "      <td>0.071734</td>\n",
       "      <td>0.076781</td>\n",
       "      <td>19</td>\n",
       "    </tr>\n",
       "    <tr>\n",
       "      <th>20</th>\n",
       "      <td>0.051372</td>\n",
       "      <td>0.073981</td>\n",
       "      <td>0.050674</td>\n",
       "      <td>0.051232</td>\n",
       "      <td>0.069096</td>\n",
       "      <td>0.089611</td>\n",
       "      <td>0.114034</td>\n",
       "      <td>0.059466</td>\n",
       "      <td>0.129804</td>\n",
       "      <td>0.062118</td>\n",
       "      <td>0.076772</td>\n",
       "      <td>0.051511</td>\n",
       "      <td>0.059048</td>\n",
       "      <td>0.061281</td>\n",
       "      <td>20</td>\n",
       "    </tr>\n",
       "    <tr>\n",
       "      <th>21</th>\n",
       "      <td>0.064171</td>\n",
       "      <td>0.067575</td>\n",
       "      <td>0.087739</td>\n",
       "      <td>0.081062</td>\n",
       "      <td>0.062993</td>\n",
       "      <td>0.053042</td>\n",
       "      <td>0.090489</td>\n",
       "      <td>0.054875</td>\n",
       "      <td>0.068492</td>\n",
       "      <td>0.117069</td>\n",
       "      <td>0.067183</td>\n",
       "      <td>0.053827</td>\n",
       "      <td>0.081716</td>\n",
       "      <td>0.049768</td>\n",
       "      <td>21</td>\n",
       "    </tr>\n",
       "    <tr>\n",
       "      <th>22</th>\n",
       "      <td>0.069119</td>\n",
       "      <td>0.058286</td>\n",
       "      <td>0.073715</td>\n",
       "      <td>0.100141</td>\n",
       "      <td>0.066657</td>\n",
       "      <td>0.081593</td>\n",
       "      <td>0.061076</td>\n",
       "      <td>0.059763</td>\n",
       "      <td>0.120330</td>\n",
       "      <td>0.049586</td>\n",
       "      <td>0.073879</td>\n",
       "      <td>0.072073</td>\n",
       "      <td>0.058778</td>\n",
       "      <td>0.055003</td>\n",
       "      <td>22</td>\n",
       "    </tr>\n",
       "    <tr>\n",
       "      <th>23</th>\n",
       "      <td>0.071119</td>\n",
       "      <td>0.075625</td>\n",
       "      <td>0.097990</td>\n",
       "      <td>0.057766</td>\n",
       "      <td>0.069616</td>\n",
       "      <td>0.071619</td>\n",
       "      <td>0.072287</td>\n",
       "      <td>0.069283</td>\n",
       "      <td>0.071786</td>\n",
       "      <td>0.072454</td>\n",
       "      <td>0.090980</td>\n",
       "      <td>0.079965</td>\n",
       "      <td>0.051758</td>\n",
       "      <td>0.047752</td>\n",
       "      <td>23</td>\n",
       "    </tr>\n",
       "    <tr>\n",
       "      <th>24</th>\n",
       "      <td>0.067160</td>\n",
       "      <td>0.075652</td>\n",
       "      <td>0.062915</td>\n",
       "      <td>0.059613</td>\n",
       "      <td>0.058826</td>\n",
       "      <td>0.079426</td>\n",
       "      <td>0.079268</td>\n",
       "      <td>0.067318</td>\n",
       "      <td>0.064487</td>\n",
       "      <td>0.097981</td>\n",
       "      <td>0.092006</td>\n",
       "      <td>0.076281</td>\n",
       "      <td>0.057883</td>\n",
       "      <td>0.061185</td>\n",
       "      <td>24</td>\n",
       "    </tr>\n",
       "    <tr>\n",
       "      <th>25</th>\n",
       "      <td>0.065800</td>\n",
       "      <td>0.045931</td>\n",
       "      <td>0.054613</td>\n",
       "      <td>0.064798</td>\n",
       "      <td>0.054780</td>\n",
       "      <td>0.093849</td>\n",
       "      <td>0.095185</td>\n",
       "      <td>0.057952</td>\n",
       "      <td>0.080158</td>\n",
       "      <td>0.134755</td>\n",
       "      <td>0.088172</td>\n",
       "      <td>0.065299</td>\n",
       "      <td>0.047768</td>\n",
       "      <td>0.050940</td>\n",
       "      <td>25</td>\n",
       "    </tr>\n",
       "    <tr>\n",
       "      <th>26</th>\n",
       "      <td>0.050180</td>\n",
       "      <td>0.053562</td>\n",
       "      <td>0.084423</td>\n",
       "      <td>0.063004</td>\n",
       "      <td>0.093583</td>\n",
       "      <td>0.087664</td>\n",
       "      <td>0.061736</td>\n",
       "      <td>0.051167</td>\n",
       "      <td>0.052999</td>\n",
       "      <td>0.108238</td>\n",
       "      <td>0.115425</td>\n",
       "      <td>0.057226</td>\n",
       "      <td>0.072727</td>\n",
       "      <td>0.048067</td>\n",
       "      <td>26</td>\n",
       "    </tr>\n",
       "    <tr>\n",
       "      <th>27</th>\n",
       "      <td>0.067624</td>\n",
       "      <td>0.067502</td>\n",
       "      <td>0.167461</td>\n",
       "      <td>0.064949</td>\n",
       "      <td>0.075407</td>\n",
       "      <td>0.060814</td>\n",
       "      <td>0.045735</td>\n",
       "      <td>0.040750</td>\n",
       "      <td>0.056680</td>\n",
       "      <td>0.063246</td>\n",
       "      <td>0.070299</td>\n",
       "      <td>0.065435</td>\n",
       "      <td>0.065314</td>\n",
       "      <td>0.088783</td>\n",
       "      <td>27</td>\n",
       "    </tr>\n",
       "    <tr>\n",
       "      <th>28</th>\n",
       "      <td>0.064345</td>\n",
       "      <td>0.059141</td>\n",
       "      <td>0.055093</td>\n",
       "      <td>0.060586</td>\n",
       "      <td>0.099329</td>\n",
       "      <td>0.068393</td>\n",
       "      <td>0.067381</td>\n",
       "      <td>0.055093</td>\n",
       "      <td>0.054081</td>\n",
       "      <td>0.069405</td>\n",
       "      <td>0.108726</td>\n",
       "      <td>0.081837</td>\n",
       "      <td>0.042661</td>\n",
       "      <td>0.113930</td>\n",
       "      <td>28</td>\n",
       "    </tr>\n",
       "    <tr>\n",
       "      <th>29</th>\n",
       "      <td>0.053863</td>\n",
       "      <td>0.075546</td>\n",
       "      <td>0.066331</td>\n",
       "      <td>0.068137</td>\n",
       "      <td>0.066511</td>\n",
       "      <td>0.063801</td>\n",
       "      <td>0.081508</td>\n",
       "      <td>0.073739</td>\n",
       "      <td>0.054767</td>\n",
       "      <td>0.048442</td>\n",
       "      <td>0.049527</td>\n",
       "      <td>0.059826</td>\n",
       "      <td>0.062717</td>\n",
       "      <td>0.175285</td>\n",
       "      <td>29</td>\n",
       "    </tr>\n",
       "    <tr>\n",
       "      <th>30</th>\n",
       "      <td>0.067417</td>\n",
       "      <td>0.124676</td>\n",
       "      <td>0.058367</td>\n",
       "      <td>0.064764</td>\n",
       "      <td>0.054623</td>\n",
       "      <td>0.071941</td>\n",
       "      <td>0.064452</td>\n",
       "      <td>0.083331</td>\n",
       "      <td>0.051659</td>\n",
       "      <td>0.059928</td>\n",
       "      <td>0.071629</td>\n",
       "      <td>0.061488</td>\n",
       "      <td>0.053219</td>\n",
       "      <td>0.112507</td>\n",
       "      <td>30</td>\n",
       "    </tr>\n",
       "    <tr>\n",
       "      <th>31</th>\n",
       "      <td>0.063629</td>\n",
       "      <td>0.119208</td>\n",
       "      <td>0.059694</td>\n",
       "      <td>0.047070</td>\n",
       "      <td>0.058383</td>\n",
       "      <td>0.081008</td>\n",
       "      <td>0.050185</td>\n",
       "      <td>0.050513</td>\n",
       "      <td>0.062809</td>\n",
       "      <td>0.079860</td>\n",
       "      <td>0.110027</td>\n",
       "      <td>0.053956</td>\n",
       "      <td>0.061334</td>\n",
       "      <td>0.102322</td>\n",
       "      <td>31</td>\n",
       "    </tr>\n",
       "    <tr>\n",
       "      <th>32</th>\n",
       "      <td>0.060823</td>\n",
       "      <td>0.055530</td>\n",
       "      <td>0.043523</td>\n",
       "      <td>0.071797</td>\n",
       "      <td>0.065471</td>\n",
       "      <td>0.066117</td>\n",
       "      <td>0.090647</td>\n",
       "      <td>0.044685</td>\n",
       "      <td>0.109497</td>\n",
       "      <td>0.124861</td>\n",
       "      <td>0.084063</td>\n",
       "      <td>0.047654</td>\n",
       "      <td>0.057595</td>\n",
       "      <td>0.077736</td>\n",
       "      <td>32</td>\n",
       "    </tr>\n",
       "    <tr>\n",
       "      <th>33</th>\n",
       "      <td>0.083166</td>\n",
       "      <td>0.076073</td>\n",
       "      <td>0.070162</td>\n",
       "      <td>0.049080</td>\n",
       "      <td>0.081984</td>\n",
       "      <td>0.060311</td>\n",
       "      <td>0.055779</td>\n",
       "      <td>0.056173</td>\n",
       "      <td>0.105824</td>\n",
       "      <td>0.096367</td>\n",
       "      <td>0.072920</td>\n",
       "      <td>0.064448</td>\n",
       "      <td>0.049277</td>\n",
       "      <td>0.078437</td>\n",
       "      <td>33</td>\n",
       "    </tr>\n",
       "    <tr>\n",
       "      <th>34</th>\n",
       "      <td>0.051897</td>\n",
       "      <td>0.054674</td>\n",
       "      <td>0.067535</td>\n",
       "      <td>0.070896</td>\n",
       "      <td>0.082880</td>\n",
       "      <td>0.059204</td>\n",
       "      <td>0.057743</td>\n",
       "      <td>0.061689</td>\n",
       "      <td>0.098810</td>\n",
       "      <td>0.071919</td>\n",
       "      <td>0.123802</td>\n",
       "      <td>0.083465</td>\n",
       "      <td>0.038013</td>\n",
       "      <td>0.077473</td>\n",
       "      <td>34</td>\n",
       "    </tr>\n",
       "    <tr>\n",
       "      <th>35</th>\n",
       "      <td>0.059420</td>\n",
       "      <td>0.068855</td>\n",
       "      <td>0.060063</td>\n",
       "      <td>0.060921</td>\n",
       "      <td>0.058562</td>\n",
       "      <td>0.069284</td>\n",
       "      <td>0.062637</td>\n",
       "      <td>0.091371</td>\n",
       "      <td>0.084509</td>\n",
       "      <td>0.071000</td>\n",
       "      <td>0.081936</td>\n",
       "      <td>0.064781</td>\n",
       "      <td>0.071000</td>\n",
       "      <td>0.095660</td>\n",
       "      <td>35</td>\n",
       "    </tr>\n",
       "    <tr>\n",
       "      <th>36</th>\n",
       "      <td>0.045108</td>\n",
       "      <td>0.069813</td>\n",
       "      <td>0.059544</td>\n",
       "      <td>0.077105</td>\n",
       "      <td>0.061032</td>\n",
       "      <td>0.048531</td>\n",
       "      <td>0.066539</td>\n",
       "      <td>0.171459</td>\n",
       "      <td>0.063413</td>\n",
       "      <td>0.048085</td>\n",
       "      <td>0.106274</td>\n",
       "      <td>0.084993</td>\n",
       "      <td>0.054038</td>\n",
       "      <td>0.044066</td>\n",
       "      <td>36</td>\n",
       "    </tr>\n",
       "    <tr>\n",
       "      <th>37</th>\n",
       "      <td>0.065319</td>\n",
       "      <td>0.032410</td>\n",
       "      <td>0.044831</td>\n",
       "      <td>0.035995</td>\n",
       "      <td>0.057636</td>\n",
       "      <td>0.024471</td>\n",
       "      <td>0.044318</td>\n",
       "      <td>0.068392</td>\n",
       "      <td>0.080557</td>\n",
       "      <td>0.038812</td>\n",
       "      <td>0.308231</td>\n",
       "      <td>0.127167</td>\n",
       "      <td>0.035355</td>\n",
       "      <td>0.036507</td>\n",
       "      <td>37</td>\n",
       "    </tr>\n",
       "    <tr>\n",
       "      <th>38</th>\n",
       "      <td>0.010874</td>\n",
       "      <td>0.006567</td>\n",
       "      <td>0.007742</td>\n",
       "      <td>0.004120</td>\n",
       "      <td>0.004610</td>\n",
       "      <td>0.004610</td>\n",
       "      <td>0.009699</td>\n",
       "      <td>0.010482</td>\n",
       "      <td>0.007350</td>\n",
       "      <td>0.010971</td>\n",
       "      <td>0.007937</td>\n",
       "      <td>0.904545</td>\n",
       "      <td>0.005295</td>\n",
       "      <td>0.005197</td>\n",
       "      <td>38</td>\n",
       "    </tr>\n",
       "    <tr>\n",
       "      <th>39</th>\n",
       "      <td>0.079778</td>\n",
       "      <td>0.037732</td>\n",
       "      <td>0.043018</td>\n",
       "      <td>0.041216</td>\n",
       "      <td>0.050106</td>\n",
       "      <td>0.038093</td>\n",
       "      <td>0.071489</td>\n",
       "      <td>0.055632</td>\n",
       "      <td>0.074252</td>\n",
       "      <td>0.239429</td>\n",
       "      <td>0.045541</td>\n",
       "      <td>0.047343</td>\n",
       "      <td>0.040015</td>\n",
       "      <td>0.136358</td>\n",
       "      <td>39</td>\n",
       "    </tr>\n",
       "    <tr>\n",
       "      <th>40</th>\n",
       "      <td>0.031716</td>\n",
       "      <td>0.016862</td>\n",
       "      <td>0.016862</td>\n",
       "      <td>0.015558</td>\n",
       "      <td>0.012518</td>\n",
       "      <td>0.013647</td>\n",
       "      <td>0.052044</td>\n",
       "      <td>0.015037</td>\n",
       "      <td>0.013734</td>\n",
       "      <td>0.679770</td>\n",
       "      <td>0.015211</td>\n",
       "      <td>0.026678</td>\n",
       "      <td>0.019207</td>\n",
       "      <td>0.071156</td>\n",
       "      <td>40</td>\n",
       "    </tr>\n",
       "    <tr>\n",
       "      <th>41</th>\n",
       "      <td>0.051836</td>\n",
       "      <td>0.046878</td>\n",
       "      <td>0.042560</td>\n",
       "      <td>0.048158</td>\n",
       "      <td>0.051036</td>\n",
       "      <td>0.055675</td>\n",
       "      <td>0.261516</td>\n",
       "      <td>0.076627</td>\n",
       "      <td>0.068150</td>\n",
       "      <td>0.050557</td>\n",
       "      <td>0.051676</td>\n",
       "      <td>0.057434</td>\n",
       "      <td>0.053915</td>\n",
       "      <td>0.083984</td>\n",
       "      <td>41</td>\n",
       "    </tr>\n",
       "    <tr>\n",
       "      <th>42</th>\n",
       "      <td>0.002055</td>\n",
       "      <td>0.002334</td>\n",
       "      <td>0.002055</td>\n",
       "      <td>0.002520</td>\n",
       "      <td>0.002055</td>\n",
       "      <td>0.001962</td>\n",
       "      <td>0.968537</td>\n",
       "      <td>0.002706</td>\n",
       "      <td>0.002706</td>\n",
       "      <td>0.003729</td>\n",
       "      <td>0.003264</td>\n",
       "      <td>0.001962</td>\n",
       "      <td>0.001962</td>\n",
       "      <td>0.002148</td>\n",
       "      <td>42</td>\n",
       "    </tr>\n",
       "    <tr>\n",
       "      <th>43</th>\n",
       "      <td>0.067725</td>\n",
       "      <td>0.039532</td>\n",
       "      <td>0.065711</td>\n",
       "      <td>0.073514</td>\n",
       "      <td>0.058663</td>\n",
       "      <td>0.085219</td>\n",
       "      <td>0.082828</td>\n",
       "      <td>0.048720</td>\n",
       "      <td>0.041546</td>\n",
       "      <td>0.083583</td>\n",
       "      <td>0.108125</td>\n",
       "      <td>0.066214</td>\n",
       "      <td>0.095791</td>\n",
       "      <td>0.082828</td>\n",
       "      <td>43</td>\n",
       "    </tr>\n",
       "  </tbody>\n",
       "</table>\n",
       "</div>"
      ],
      "text/plain": [
       "     topic_1   topic_2   topic_3   topic_4   topic_5   topic_6   topic_7  \\\n",
       "0   0.084735  0.085903  0.055536  0.078311  0.073639  0.057288  0.063128   \n",
       "1   0.085096  0.060020  0.067106  0.075283  0.081280  0.062745  0.062745   \n",
       "2   0.058021  0.075135  0.060782  0.069615  0.065198  0.082312  0.076239   \n",
       "3   0.058109  0.065981  0.094519  0.059093  0.071393  0.074838  0.071393   \n",
       "4   0.066984  0.068166  0.076435  0.099275  0.054777  0.063834  0.061471   \n",
       "5   0.062452  0.054274  0.074447  0.081534  0.073629  0.065996  0.065996   \n",
       "6   0.078871  0.068614  0.062675  0.069154  0.083729  0.050799  0.065914   \n",
       "7   0.074989  0.088815  0.081902  0.080811  0.056797  0.057888  0.065893   \n",
       "8   0.087385  0.068800  0.082553  0.064340  0.062110  0.062853  0.074376   \n",
       "9   0.058217  0.093917  0.064682  0.066650  0.064120  0.066369  0.064963   \n",
       "10  0.065264  0.075796  0.067897  0.065557  0.069067  0.059121  0.057073   \n",
       "11  0.106930  0.059103  0.071763  0.066371  0.058869  0.073873  0.061917   \n",
       "12  0.064058  0.054453  0.070215  0.066521  0.076618  0.078096  0.063073   \n",
       "13  0.095005  0.073184  0.090787  0.053563  0.078501  0.087303  0.065115   \n",
       "14  0.068835  0.051676  0.061972  0.077686  0.056192  0.076241  0.084369   \n",
       "15  0.064537  0.071989  0.061988  0.076891  0.059634  0.050418  0.073165   \n",
       "16  0.073898  0.072881  0.086098  0.065256  0.069492  0.064239  0.051700   \n",
       "17  0.058572  0.067234  0.072084  0.059092  0.093219  0.068793  0.086810   \n",
       "18  0.065758  0.095168  0.063067  0.064605  0.072101  0.057300  0.094014   \n",
       "19  0.045585  0.056901  0.054760  0.038245  0.060418  0.067759  0.165321   \n",
       "20  0.051372  0.073981  0.050674  0.051232  0.069096  0.089611  0.114034   \n",
       "21  0.064171  0.067575  0.087739  0.081062  0.062993  0.053042  0.090489   \n",
       "22  0.069119  0.058286  0.073715  0.100141  0.066657  0.081593  0.061076   \n",
       "23  0.071119  0.075625  0.097990  0.057766  0.069616  0.071619  0.072287   \n",
       "24  0.067160  0.075652  0.062915  0.059613  0.058826  0.079426  0.079268   \n",
       "25  0.065800  0.045931  0.054613  0.064798  0.054780  0.093849  0.095185   \n",
       "26  0.050180  0.053562  0.084423  0.063004  0.093583  0.087664  0.061736   \n",
       "27  0.067624  0.067502  0.167461  0.064949  0.075407  0.060814  0.045735   \n",
       "28  0.064345  0.059141  0.055093  0.060586  0.099329  0.068393  0.067381   \n",
       "29  0.053863  0.075546  0.066331  0.068137  0.066511  0.063801  0.081508   \n",
       "30  0.067417  0.124676  0.058367  0.064764  0.054623  0.071941  0.064452   \n",
       "31  0.063629  0.119208  0.059694  0.047070  0.058383  0.081008  0.050185   \n",
       "32  0.060823  0.055530  0.043523  0.071797  0.065471  0.066117  0.090647   \n",
       "33  0.083166  0.076073  0.070162  0.049080  0.081984  0.060311  0.055779   \n",
       "34  0.051897  0.054674  0.067535  0.070896  0.082880  0.059204  0.057743   \n",
       "35  0.059420  0.068855  0.060063  0.060921  0.058562  0.069284  0.062637   \n",
       "36  0.045108  0.069813  0.059544  0.077105  0.061032  0.048531  0.066539   \n",
       "37  0.065319  0.032410  0.044831  0.035995  0.057636  0.024471  0.044318   \n",
       "38  0.010874  0.006567  0.007742  0.004120  0.004610  0.004610  0.009699   \n",
       "39  0.079778  0.037732  0.043018  0.041216  0.050106  0.038093  0.071489   \n",
       "40  0.031716  0.016862  0.016862  0.015558  0.012518  0.013647  0.052044   \n",
       "41  0.051836  0.046878  0.042560  0.048158  0.051036  0.055675  0.261516   \n",
       "42  0.002055  0.002334  0.002055  0.002520  0.002055  0.001962  0.968537   \n",
       "43  0.067725  0.039532  0.065711  0.073514  0.058663  0.085219  0.082828   \n",
       "\n",
       "     topic_8   topic_9  topic_10  topic_11  topic_12  topic_13  topic_14  \\\n",
       "0   0.082399  0.081231  0.081815  0.064296  0.053200  0.055536  0.082983   \n",
       "1   0.058384  0.074738  0.084006  0.074193  0.069287  0.069832  0.075283   \n",
       "2   0.069615  0.076239  0.065198  0.077343  0.061886  0.079552  0.082864   \n",
       "3   0.071393  0.081726  0.054172  0.069917  0.072870  0.060077  0.094519   \n",
       "4   0.075254  0.075648  0.065015  0.060684  0.088249  0.059108  0.085099   \n",
       "5   0.059181  0.070903  0.075264  0.068449  0.093801  0.077173  0.076900   \n",
       "6   0.068614  0.092367  0.063755  0.077251  0.084269  0.066994  0.066994   \n",
       "7   0.072078  0.088451  0.070623  0.065529  0.074625  0.049884  0.071714   \n",
       "8   0.063968  0.070659  0.068428  0.069544  0.076606  0.073632  0.074747   \n",
       "9   0.060466  0.080986  0.071710  0.063558  0.073396  0.074802  0.096166   \n",
       "10  0.085742  0.090422  0.073163  0.065850  0.075503  0.061754  0.087790   \n",
       "11  0.071763  0.083486  0.060979  0.071763  0.086065  0.071763  0.055352   \n",
       "12  0.065043  0.081297  0.075387  0.068737  0.089178  0.080805  0.066521   \n",
       "13  0.055397  0.062365  0.065665  0.079418  0.050996  0.071167  0.071533   \n",
       "14  0.088343  0.087801  0.090691  0.059082  0.058901  0.071906  0.066307   \n",
       "15  0.058262  0.069440  0.172393  0.050222  0.077480  0.058262  0.055320   \n",
       "16  0.060511  0.058308  0.123039  0.043566  0.094401  0.071186  0.065425   \n",
       "17  0.062383  0.075722  0.062556  0.042634  0.074510  0.111756  0.064635   \n",
       "18  0.079406  0.065950  0.075177  0.051342  0.073062  0.082673  0.060376   \n",
       "19  0.056748  0.070511  0.098342  0.059654  0.077240  0.071734  0.076781   \n",
       "20  0.059466  0.129804  0.062118  0.076772  0.051511  0.059048  0.061281   \n",
       "21  0.054875  0.068492  0.117069  0.067183  0.053827  0.081716  0.049768   \n",
       "22  0.059763  0.120330  0.049586  0.073879  0.072073  0.058778  0.055003   \n",
       "23  0.069283  0.071786  0.072454  0.090980  0.079965  0.051758  0.047752   \n",
       "24  0.067318  0.064487  0.097981  0.092006  0.076281  0.057883  0.061185   \n",
       "25  0.057952  0.080158  0.134755  0.088172  0.065299  0.047768  0.050940   \n",
       "26  0.051167  0.052999  0.108238  0.115425  0.057226  0.072727  0.048067   \n",
       "27  0.040750  0.056680  0.063246  0.070299  0.065435  0.065314  0.088783   \n",
       "28  0.055093  0.054081  0.069405  0.108726  0.081837  0.042661  0.113930   \n",
       "29  0.073739  0.054767  0.048442  0.049527  0.059826  0.062717  0.175285   \n",
       "30  0.083331  0.051659  0.059928  0.071629  0.061488  0.053219  0.112507   \n",
       "31  0.050513  0.062809  0.079860  0.110027  0.053956  0.061334  0.102322   \n",
       "32  0.044685  0.109497  0.124861  0.084063  0.047654  0.057595  0.077736   \n",
       "33  0.056173  0.105824  0.096367  0.072920  0.064448  0.049277  0.078437   \n",
       "34  0.061689  0.098810  0.071919  0.123802  0.083465  0.038013  0.077473   \n",
       "35  0.091371  0.084509  0.071000  0.081936  0.064781  0.071000  0.095660   \n",
       "36  0.171459  0.063413  0.048085  0.106274  0.084993  0.054038  0.044066   \n",
       "37  0.068392  0.080557  0.038812  0.308231  0.127167  0.035355  0.036507   \n",
       "38  0.010482  0.007350  0.010971  0.007937  0.904545  0.005295  0.005197   \n",
       "39  0.055632  0.074252  0.239429  0.045541  0.047343  0.040015  0.136358   \n",
       "40  0.015037  0.013734  0.679770  0.015211  0.026678  0.019207  0.071156   \n",
       "41  0.076627  0.068150  0.050557  0.051676  0.057434  0.053915  0.083984   \n",
       "42  0.002706  0.002706  0.003729  0.003264  0.001962  0.001962  0.002148   \n",
       "43  0.048720  0.041546  0.083583  0.108125  0.066214  0.095791  0.082828   \n",
       "\n",
       "    timepoint  \n",
       "0           0  \n",
       "1           1  \n",
       "2           2  \n",
       "3           3  \n",
       "4           4  \n",
       "5           5  \n",
       "6           6  \n",
       "7           7  \n",
       "8           8  \n",
       "9           9  \n",
       "10         10  \n",
       "11         11  \n",
       "12         12  \n",
       "13         13  \n",
       "14         14  \n",
       "15         15  \n",
       "16         16  \n",
       "17         17  \n",
       "18         18  \n",
       "19         19  \n",
       "20         20  \n",
       "21         21  \n",
       "22         22  \n",
       "23         23  \n",
       "24         24  \n",
       "25         25  \n",
       "26         26  \n",
       "27         27  \n",
       "28         28  \n",
       "29         29  \n",
       "30         30  \n",
       "31         31  \n",
       "32         32  \n",
       "33         33  \n",
       "34         34  \n",
       "35         35  \n",
       "36         36  \n",
       "37         37  \n",
       "38         38  \n",
       "39         39  \n",
       "40         40  \n",
       "41         41  \n",
       "42         42  \n",
       "43         43  "
      ]
     },
     "execution_count": 54,
     "metadata": {},
     "output_type": "execute_result"
    }
   ],
   "source": [
    "td = pd.DataFrame()\n",
    "for timepoint in range(best_mdl.num_timepoints):\n",
    "    td_tmp = pd.DataFrame(\n",
    "        np.stack([doc.get_topic_dist() for doc in best_mdl.docs if doc.timepoint == timepoint]),\n",
    "        columns=[\"topic_{}\".format(i + 1) for i in range(best_mdl.k)],\n",
    "    )\n",
    "    td_tmp[\"timepoint\"] = timepoint\n",
    "    td = pd.concat([td, td_tmp], ignore_index=True)\n",
    "    del td_tmp\n",
    "\n",
    "td"
   ]
  },
  {
   "cell_type": "code",
   "execution_count": 55,
   "metadata": {},
   "outputs": [],
   "source": [
    "# save td to csv\n",
    "td.to_csv('./main_df_output/QA_DTM_td_all_time.csv', index=False) \n",
    "wt.to_csv('./main_df_output/QA_DTM_wt_all_time.csv', index=False)"
   ]
  },
  {
   "cell_type": "code",
   "execution_count": 56,
   "metadata": {},
   "outputs": [
    {
     "data": {
      "application/vnd.plotly.v1+json": {
       "config": {
        "plotlyServerURL": "https://plot.ly"
       },
       "data": [
        {
         "hovertemplate": "variable=topic_1<br>timepoint=%{x}<br>value=%{y}<extra></extra>",
         "legendgroup": "topic_1",
         "line": {
          "color": "#636efa",
          "dash": "solid"
         },
         "marker": {
          "symbol": "circle"
         },
         "mode": "lines",
         "name": "topic_1",
         "orientation": "v",
         "showlegend": true,
         "type": "scatter",
         "x": [
          0,
          1,
          2,
          3,
          4,
          5,
          6,
          7,
          8,
          9,
          10,
          11,
          12,
          13,
          14,
          15,
          16,
          17,
          18,
          19,
          20,
          21,
          22,
          23,
          24,
          25,
          26,
          27,
          28,
          29,
          30,
          31,
          32,
          33,
          34,
          35,
          36,
          37,
          38,
          39,
          40,
          41,
          42,
          43
         ],
         "xaxis": "x",
         "y": [
          0.08473487943410873,
          0.08509594947099686,
          0.0580214187502861,
          0.05810863897204399,
          0.06698433309793472,
          0.062452297657728195,
          0.07887065410614014,
          0.07498908787965775,
          0.08738478273153305,
          0.058216679841279984,
          0.06526445597410202,
          0.1069301888346672,
          0.06405773013830185,
          0.09500494599342346,
          0.06883534789085388,
          0.06453700363636017,
          0.07389771938323975,
          0.05857182666659355,
          0.065758116543293,
          0.04558522254228592,
          0.051371872425079346,
          0.06417105346918106,
          0.06911890208721161,
          0.07111860811710358,
          0.06716042757034302,
          0.06579957902431488,
          0.05018037557601929,
          0.06762409210205078,
          0.06434498727321625,
          0.05386311188340187,
          0.06741660833358765,
          0.06362920999526978,
          0.06082319840788841,
          0.08316586166620255,
          0.051896996796131134,
          0.05942016839981079,
          0.04510819539427757,
          0.06531871855258942,
          0.010873607359826565,
          0.07977751642465591,
          0.03171638399362564,
          0.05183609575033188,
          0.002055355114862323,
          0.06772471964359283
         ],
         "yaxis": "y"
        },
        {
         "hovertemplate": "variable=topic_2<br>timepoint=%{x}<br>value=%{y}<extra></extra>",
         "legendgroup": "topic_2",
         "line": {
          "color": "#EF553B",
          "dash": "solid"
         },
         "marker": {
          "symbol": "circle"
         },
         "mode": "lines",
         "name": "topic_2",
         "orientation": "v",
         "showlegend": true,
         "type": "scatter",
         "x": [
          0,
          1,
          2,
          3,
          4,
          5,
          6,
          7,
          8,
          9,
          10,
          11,
          12,
          13,
          14,
          15,
          16,
          17,
          18,
          19,
          20,
          21,
          22,
          23,
          24,
          25,
          26,
          27,
          28,
          29,
          30,
          31,
          32,
          33,
          34,
          35,
          36,
          37,
          38,
          39,
          40,
          41,
          42,
          43
         ],
         "xaxis": "x",
         "y": [
          0.08590283244848251,
          0.06001962348818779,
          0.0751352533698082,
          0.06598110496997833,
          0.06816571205854416,
          0.05427434667944908,
          0.0686136856675148,
          0.08881531655788422,
          0.0688001811504364,
          0.09391690790653229,
          0.07579569518566132,
          0.05910348519682884,
          0.054452765733003616,
          0.07318370789289474,
          0.051676180213689804,
          0.07198886573314667,
          0.07288101315498352,
          0.06723373383283615,
          0.0951676145195961,
          0.056901246309280396,
          0.07398051768541336,
          0.0675753504037857,
          0.05828573554754257,
          0.07562506198883057,
          0.07565179467201233,
          0.045931145548820496,
          0.05356237292289734,
          0.06750248372554779,
          0.05914071947336197,
          0.07554568350315094,
          0.12467625737190247,
          0.1192084476351738,
          0.05552973598241806,
          0.0760728269815445,
          0.054673802107572556,
          0.06885534524917603,
          0.06981278210878372,
          0.0324096605181694,
          0.006567228119820356,
          0.03773244842886925,
          0.01686154678463936,
          0.04687799885869026,
          0.002334362594410777,
          0.03953230753540993
         ],
         "yaxis": "y"
        },
        {
         "hovertemplate": "variable=topic_3<br>timepoint=%{x}<br>value=%{y}<extra></extra>",
         "legendgroup": "topic_3",
         "line": {
          "color": "#00cc96",
          "dash": "solid"
         },
         "marker": {
          "symbol": "circle"
         },
         "mode": "lines",
         "name": "topic_3",
         "orientation": "v",
         "showlegend": true,
         "type": "scatter",
         "x": [
          0,
          1,
          2,
          3,
          4,
          5,
          6,
          7,
          8,
          9,
          10,
          11,
          12,
          13,
          14,
          15,
          16,
          17,
          18,
          19,
          20,
          21,
          22,
          23,
          24,
          25,
          26,
          27,
          28,
          29,
          30,
          31,
          32,
          33,
          34,
          35,
          36,
          37,
          38,
          39,
          40,
          41,
          42,
          43
         ],
         "xaxis": "x",
         "y": [
          0.05553608760237694,
          0.06710641086101532,
          0.06078171357512474,
          0.09451879560947418,
          0.076435387134552,
          0.07444662600755692,
          0.06267544627189636,
          0.08190220594406128,
          0.08255278319120407,
          0.06468207389116287,
          0.067897267639637,
          0.07176349312067032,
          0.07021476328372955,
          0.09078740328550339,
          0.06197167932987213,
          0.06198768690228462,
          0.08609821647405624,
          0.07208440452814102,
          0.06306704878807068,
          0.05476037785410881,
          0.05067407339811325,
          0.08773928135633469,
          0.07371479272842407,
          0.09799045324325562,
          0.06291474401950836,
          0.0546131506562233,
          0.08442308753728867,
          0.16746114194393158,
          0.055092956870794296,
          0.06633058935403824,
          0.058367401361465454,
          0.05969439819455147,
          0.043522607535123825,
          0.07016196101903915,
          0.06753478199243546,
          0.060063473880290985,
          0.05954400822520256,
          0.04483059048652649,
          0.007741695269942284,
          0.04301811382174492,
          0.01686154678463936,
          0.042559657245874405,
          0.002055355114862323,
          0.06571097671985626
         ],
         "yaxis": "y"
        },
        {
         "hovertemplate": "variable=topic_4<br>timepoint=%{x}<br>value=%{y}<extra></extra>",
         "legendgroup": "topic_4",
         "line": {
          "color": "#ab63fa",
          "dash": "solid"
         },
         "marker": {
          "symbol": "circle"
         },
         "mode": "lines",
         "name": "topic_4",
         "orientation": "v",
         "showlegend": true,
         "type": "scatter",
         "x": [
          0,
          1,
          2,
          3,
          4,
          5,
          6,
          7,
          8,
          9,
          10,
          11,
          12,
          13,
          14,
          15,
          16,
          17,
          18,
          19,
          20,
          21,
          22,
          23,
          24,
          25,
          26,
          27,
          28,
          29,
          30,
          31,
          32,
          33,
          34,
          35,
          36,
          37,
          38,
          39,
          40,
          41,
          42,
          43
         ],
         "xaxis": "x",
         "y": [
          0.07831114530563354,
          0.0752834752202034,
          0.06961466372013092,
          0.059092696756124496,
          0.09927542507648468,
          0.08153418451547623,
          0.06915353238582611,
          0.08081065863370895,
          0.06433987617492676,
          0.06664980202913284,
          0.06555698812007904,
          0.06637126952409744,
          0.06652054190635681,
          0.053562916815280914,
          0.07768586277961731,
          0.07689139991998672,
          0.06525570154190063,
          0.05909154191613197,
          0.06460479646921158,
          0.038245100528001785,
          0.05123231187462807,
          0.08106161653995514,
          0.10014116019010544,
          0.057766132056713104,
          0.059612542390823364,
          0.06479781121015549,
          0.0630037784576416,
          0.06494879722595215,
          0.0605863481760025,
          0.06813746690750122,
          0.06476425379514694,
          0.047070205211639404,
          0.0717974528670311,
          0.04907987639307976,
          0.07089617848396301,
          0.06092121824622154,
          0.0771050974726677,
          0.035995084792375565,
          0.0041204215958714485,
          0.041216183453798294,
          0.015558489598333836,
          0.04815750941634178,
          0.0025203675031661987,
          0.07351423054933548
         ],
         "yaxis": "y"
        },
        {
         "hovertemplate": "variable=topic_5<br>timepoint=%{x}<br>value=%{y}<extra></extra>",
         "legendgroup": "topic_5",
         "line": {
          "color": "#FFA15A",
          "dash": "solid"
         },
         "marker": {
          "symbol": "circle"
         },
         "mode": "lines",
         "name": "topic_5",
         "orientation": "v",
         "showlegend": true,
         "type": "scatter",
         "x": [
          0,
          1,
          2,
          3,
          4,
          5,
          6,
          7,
          8,
          9,
          10,
          11,
          12,
          13,
          14,
          15,
          16,
          17,
          18,
          19,
          20,
          21,
          22,
          23,
          24,
          25,
          26,
          27,
          28,
          29,
          30,
          31,
          32,
          33,
          34,
          35,
          36,
          37,
          38,
          39,
          40,
          41,
          42,
          43
         ],
         "xaxis": "x",
         "y": [
          0.07363933324813843,
          0.08127998560667038,
          0.06519819051027298,
          0.07139343023300171,
          0.05477672442793846,
          0.07362883538007736,
          0.08372921496629715,
          0.056796684861183167,
          0.062109727412462234,
          0.0641198679804802,
          0.06906740367412567,
          0.05886904150247574,
          0.07661806792020798,
          0.07850148528814316,
          0.05619174987077713,
          0.05963446944952011,
          0.06949198991060257,
          0.09321945905685425,
          0.07210133969783783,
          0.06041838973760605,
          0.06909593194723129,
          0.0629926398396492,
          0.06665682047605515,
          0.06961645185947418,
          0.05882630497217178,
          0.05478011444211006,
          0.09358265995979309,
          0.0754067599773407,
          0.09932922571897507,
          0.06651128083467484,
          0.05462289974093437,
          0.0583827942609787,
          0.0654711201786995,
          0.08198368549346924,
          0.08288027346134186,
          0.058562424033880234,
          0.061032235622406006,
          0.05763567239046097,
          0.0046097831800580025,
          0.05010571330785751,
          0.012518025934696198,
          0.05103640258312225,
          0.002055355114862323,
          0.05866287648677826
         ],
         "yaxis": "y"
        },
        {
         "hovertemplate": "variable=topic_6<br>timepoint=%{x}<br>value=%{y}<extra></extra>",
         "legendgroup": "topic_6",
         "line": {
          "color": "#19d3f3",
          "dash": "solid"
         },
         "marker": {
          "symbol": "circle"
         },
         "mode": "lines",
         "name": "topic_6",
         "orientation": "v",
         "showlegend": true,
         "type": "scatter",
         "x": [
          0,
          1,
          2,
          3,
          4,
          5,
          6,
          7,
          8,
          9,
          10,
          11,
          12,
          13,
          14,
          15,
          16,
          17,
          18,
          19,
          20,
          21,
          22,
          23,
          24,
          25,
          26,
          27,
          28,
          29,
          30,
          31,
          32,
          33,
          34,
          35,
          36,
          37,
          38,
          39,
          40,
          41,
          42,
          43
         ],
         "xaxis": "x",
         "y": [
          0.05728801339864731,
          0.06274531036615372,
          0.08231202512979507,
          0.07483763247728348,
          0.06383398175239563,
          0.06599608063697815,
          0.050798963755369186,
          0.057888228446245193,
          0.06285311281681061,
          0.0663686990737915,
          0.059121228754520416,
          0.07387349754571915,
          0.07809575647115707,
          0.08730333298444748,
          0.07624088227748871,
          0.0504176989197731,
          0.06423899531364441,
          0.06879287958145142,
          0.05730047821998596,
          0.06775851547718048,
          0.08961118757724762,
          0.05304161086678505,
          0.08159346133470535,
          0.07161932438611984,
          0.07942573726177216,
          0.09384912997484207,
          0.0876641646027565,
          0.0608142614364624,
          0.06839275360107422,
          0.06380095332860947,
          0.07194121181964874,
          0.08100797235965729,
          0.06611666083335876,
          0.060310520231723785,
          0.05920437350869179,
          0.06928421556949615,
          0.04853111878037453,
          0.024470511823892593,
          0.0046097831800580025,
          0.03809283301234245,
          0.013647341169416904,
          0.05567462369799614,
          0.00196235254406929,
          0.0852191150188446
         ],
         "yaxis": "y"
        },
        {
         "hovertemplate": "variable=topic_7<br>timepoint=%{x}<br>value=%{y}<extra></extra>",
         "legendgroup": "topic_7",
         "line": {
          "color": "#FF6692",
          "dash": "solid"
         },
         "marker": {
          "symbol": "circle"
         },
         "mode": "lines",
         "name": "topic_7",
         "orientation": "v",
         "showlegend": true,
         "type": "scatter",
         "x": [
          0,
          1,
          2,
          3,
          4,
          5,
          6,
          7,
          8,
          9,
          10,
          11,
          12,
          13,
          14,
          15,
          16,
          17,
          18,
          19,
          20,
          21,
          22,
          23,
          24,
          25,
          26,
          27,
          28,
          29,
          30,
          31,
          32,
          33,
          34,
          35,
          36,
          37,
          38,
          39,
          40,
          41,
          42,
          43
         ],
         "xaxis": "x",
         "y": [
          0.06312777101993561,
          0.06274531036615372,
          0.07623937726020813,
          0.07139343023300171,
          0.06147122010588646,
          0.06599608063697815,
          0.06591448932886124,
          0.06589289009571075,
          0.07437556236982346,
          0.06496317684650421,
          0.05707348883152008,
          0.06191682070493698,
          0.06307260692119598,
          0.06511534005403519,
          0.08436890691518784,
          0.07316547632217407,
          0.051699597388505936,
          0.08680965006351471,
          0.09401430189609528,
          0.1653209775686264,
          0.11403410881757736,
          0.09048891067504883,
          0.061076097190380096,
          0.0722869485616684,
          0.07926848530769348,
          0.095184825360775,
          0.06173552945256233,
          0.04573534056544304,
          0.06738080829381943,
          0.08150838315486908,
          0.06445221602916718,
          0.05018526688218117,
          0.09064734727144241,
          0.055778857320547104,
          0.0577428974211216,
          0.06263670325279236,
          0.06653868407011032,
          0.04431838542222977,
          0.00969913974404335,
          0.0714886263012886,
          0.05204405635595322,
          0.2615155875682831,
          0.9685372114181519,
          0.08282779902219772
         ],
         "yaxis": "y"
        },
        {
         "hovertemplate": "variable=topic_8<br>timepoint=%{x}<br>value=%{y}<extra></extra>",
         "legendgroup": "topic_8",
         "line": {
          "color": "#B6E880",
          "dash": "solid"
         },
         "marker": {
          "symbol": "circle"
         },
         "mode": "lines",
         "name": "topic_8",
         "orientation": "v",
         "showlegend": true,
         "type": "scatter",
         "x": [
          0,
          1,
          2,
          3,
          4,
          5,
          6,
          7,
          8,
          9,
          10,
          11,
          12,
          13,
          14,
          15,
          16,
          17,
          18,
          19,
          20,
          21,
          22,
          23,
          24,
          25,
          26,
          27,
          28,
          29,
          30,
          31,
          32,
          33,
          34,
          35,
          36,
          37,
          38,
          39,
          40,
          41,
          42,
          43
         ],
         "xaxis": "x",
         "y": [
          0.08239897340536118,
          0.058384209871292114,
          0.06961466372013092,
          0.07139343023300171,
          0.07525400072336197,
          0.05918111652135849,
          0.0686136856675148,
          0.07207830250263214,
          0.06396818906068802,
          0.06046551093459129,
          0.08574187010526657,
          0.07176349312067032,
          0.06504285335540771,
          0.055396635085344315,
          0.08834260702133179,
          0.05826175957918167,
          0.060511067509651184,
          0.06238306686282158,
          0.07940565794706345,
          0.05674832686781883,
          0.059466324746608734,
          0.05487469583749771,
          0.05976298451423645,
          0.0692826434969902,
          0.0673176720738411,
          0.057952385395765305,
          0.05116679146885872,
          0.04074956849217415,
          0.055092956870794296,
          0.07373879849910736,
          0.08333072811365128,
          0.050513166934251785,
          0.04468458890914917,
          0.05617291480302811,
          0.06168888136744499,
          0.09137110412120819,
          0.17145876586437225,
          0.06839193403720856,
          0.010482118465006351,
          0.05563163384795189,
          0.015037267468869686,
          0.07662657648324966,
          0.0027063724119216204,
          0.048720017075538635
         ],
         "yaxis": "y"
        },
        {
         "hovertemplate": "variable=topic_9<br>timepoint=%{x}<br>value=%{y}<extra></extra>",
         "legendgroup": "topic_9",
         "line": {
          "color": "#FF97FF",
          "dash": "solid"
         },
         "marker": {
          "symbol": "circle"
         },
         "mode": "lines",
         "name": "topic_9",
         "orientation": "v",
         "showlegend": true,
         "type": "scatter",
         "x": [
          0,
          1,
          2,
          3,
          4,
          5,
          6,
          7,
          8,
          9,
          10,
          11,
          12,
          13,
          14,
          15,
          16,
          17,
          18,
          19,
          20,
          21,
          22,
          23,
          24,
          25,
          26,
          27,
          28,
          29,
          30,
          31,
          32,
          33,
          34,
          35,
          36,
          37,
          38,
          39,
          40,
          41,
          42,
          43
         ],
         "xaxis": "x",
         "y": [
          0.0812310203909874,
          0.07473833858966827,
          0.07623937726020813,
          0.08172603696584702,
          0.07564779371023178,
          0.07090284675359726,
          0.09236665815114975,
          0.08845146745443344,
          0.07065864652395248,
          0.08098611980676651,
          0.09042242169380188,
          0.08348572254180908,
          0.08129741251468658,
          0.062364764511585236,
          0.08780074119567871,
          0.06943954527378082,
          0.0583081990480423,
          0.07572240382432938,
          0.06595033407211304,
          0.07051105797290802,
          0.1298043429851532,
          0.06849189102649689,
          0.12033024430274963,
          0.07178623229265213,
          0.06448721885681152,
          0.0801582783460617,
          0.052998706698417664,
          0.05667971819639206,
          0.0540810152888298,
          0.05476655438542366,
          0.0516585037112236,
          0.06280945986509323,
          0.10949724912643433,
          0.10582416504621506,
          0.0988103598356247,
          0.08450915664434433,
          0.06341340392827988,
          0.08055676519870758,
          0.007350205909460783,
          0.07425159215927124,
          0.013734211213886738,
          0.06814983487129211,
          0.0027063724119216204,
          0.0415460541844368
         ],
         "yaxis": "y"
        },
        {
         "hovertemplate": "variable=topic_10<br>timepoint=%{x}<br>value=%{y}<extra></extra>",
         "legendgroup": "topic_10",
         "line": {
          "color": "#FECB52",
          "dash": "solid"
         },
         "marker": {
          "symbol": "circle"
         },
         "mode": "lines",
         "name": "topic_10",
         "orientation": "v",
         "showlegend": true,
         "type": "scatter",
         "x": [
          0,
          1,
          2,
          3,
          4,
          5,
          6,
          7,
          8,
          9,
          10,
          11,
          12,
          13,
          14,
          15,
          16,
          17,
          18,
          19,
          20,
          21,
          22,
          23,
          24,
          25,
          26,
          27,
          28,
          29,
          30,
          31,
          32,
          33,
          34,
          35,
          36,
          37,
          38,
          39,
          40,
          41,
          42,
          43
         ],
         "xaxis": "x",
         "y": [
          0.08181499689817429,
          0.08400566875934601,
          0.06519819051027298,
          0.05417240411043167,
          0.06501536071300507,
          0.07526442408561707,
          0.06375512480735779,
          0.07062291353940964,
          0.06842849403619766,
          0.07170967757701874,
          0.07316288352012634,
          0.06097904220223427,
          0.0753866657614708,
          0.06566546112298965,
          0.09069070219993591,
          0.1723928302526474,
          0.12303859740495682,
          0.06255630403757095,
          0.07517684251070023,
          0.09834235161542892,
          0.06211795657873154,
          0.11706863343715668,
          0.04958637058734894,
          0.07245384901762009,
          0.09798093885183334,
          0.1347547322511673,
          0.10823797434568405,
          0.06324633955955505,
          0.06940469145774841,
          0.04844247177243233,
          0.05992760881781578,
          0.07986031472682953,
          0.1248612031340599,
          0.09636679291725159,
          0.07191921025514603,
          0.07099970430135727,
          0.048084650188684464,
          0.03881220147013664,
          0.01097147911787033,
          0.23942865431308746,
          0.6797695755958557,
          0.05055658891797066,
          0.003729399759322405,
          0.08358295261859894
         ],
         "yaxis": "y"
        },
        {
         "hovertemplate": "variable=topic_11<br>timepoint=%{x}<br>value=%{y}<extra></extra>",
         "legendgroup": "topic_11",
         "line": {
          "color": "#636efa",
          "dash": "solid"
         },
         "marker": {
          "symbol": "circle"
         },
         "mode": "lines",
         "name": "topic_11",
         "orientation": "v",
         "showlegend": true,
         "type": "scatter",
         "x": [
          0,
          1,
          2,
          3,
          4,
          5,
          6,
          7,
          8,
          9,
          10,
          11,
          12,
          13,
          14,
          15,
          16,
          17,
          18,
          19,
          20,
          21,
          22,
          23,
          24,
          25,
          26,
          27,
          28,
          29,
          30,
          31,
          32,
          33,
          34,
          35,
          36,
          37,
          38,
          39,
          40,
          41,
          42,
          43
         ],
         "xaxis": "x",
         "y": [
          0.06429572403430939,
          0.07419320195913315,
          0.07734349370002747,
          0.06991734355688095,
          0.06068363040685654,
          0.068449467420578,
          0.077251136302948,
          0.06552904099225998,
          0.06954357028007507,
          0.06355765461921692,
          0.06584952026605606,
          0.07176349312067032,
          0.06873707473278046,
          0.07941834628582001,
          0.05908171460032463,
          0.05022159591317177,
          0.043565936386585236,
          0.042633913457393646,
          0.05134169012308121,
          0.05965379253029823,
          0.07677170634269714,
          0.06718254834413528,
          0.0738789364695549,
          0.0909804031252861,
          0.09200553596019745,
          0.08817243576049805,
          0.11542472243309021,
          0.07029937952756882,
          0.10872582346200943,
          0.04952659830451012,
          0.07162917405366898,
          0.11002721637487411,
          0.08406279981136322,
          0.07292036712169647,
          0.123801589012146,
          0.08193592727184296,
          0.10627436637878418,
          0.3082311153411865,
          0.00793743971735239,
          0.04554081708192825,
          0.015211008489131927,
          0.05167615786194801,
          0.0032643871381878853,
          0.10812545567750931
         ],
         "yaxis": "y"
        },
        {
         "hovertemplate": "variable=topic_12<br>timepoint=%{x}<br>value=%{y}<extra></extra>",
         "legendgroup": "topic_12",
         "line": {
          "color": "#EF553B",
          "dash": "solid"
         },
         "marker": {
          "symbol": "circle"
         },
         "mode": "lines",
         "name": "topic_12",
         "orientation": "v",
         "showlegend": true,
         "type": "scatter",
         "x": [
          0,
          1,
          2,
          3,
          4,
          5,
          6,
          7,
          8,
          9,
          10,
          11,
          12,
          13,
          14,
          15,
          16,
          17,
          18,
          19,
          20,
          21,
          22,
          23,
          24,
          25,
          26,
          27,
          28,
          29,
          30,
          31,
          32,
          33,
          34,
          35,
          36,
          37,
          38,
          39,
          40,
          41,
          42,
          43
         ],
         "xaxis": "x",
         "y": [
          0.05320018529891968,
          0.06928695738315582,
          0.061885833740234375,
          0.07286951690912247,
          0.08824919909238815,
          0.0938011184334755,
          0.08426906168460846,
          0.07462523877620697,
          0.07660571485757828,
          0.07339630275964737,
          0.0755031630396843,
          0.08606461435556412,
          0.0891784131526947,
          0.050995711237192154,
          0.058901093900203705,
          0.07747970521450043,
          0.09440132230520248,
          0.07450973987579346,
          0.07306243479251862,
          0.0772395059466362,
          0.051511432975530624,
          0.05382721871137619,
          0.07207340747117996,
          0.07996461540460587,
          0.07628078013658524,
          0.06529869884252548,
          0.05722619965672493,
          0.06543521583080292,
          0.08183710277080536,
          0.05982581898570061,
          0.06148781627416611,
          0.053956128656864166,
          0.04765409231185913,
          0.06444812566041946,
          0.0834648609161377,
          0.0647810623049736,
          0.08499270677566528,
          0.1271672546863556,
          0.9045451283454895,
          0.047342751175165176,
          0.026677900925278664,
          0.057433947920799255,
          0.00196235254406929,
          0.0662144124507904
         ],
         "yaxis": "y"
        },
        {
         "hovertemplate": "variable=topic_13<br>timepoint=%{x}<br>value=%{y}<extra></extra>",
         "legendgroup": "topic_13",
         "line": {
          "color": "#00cc96",
          "dash": "solid"
         },
         "marker": {
          "symbol": "circle"
         },
         "mode": "lines",
         "name": "topic_13",
         "orientation": "v",
         "showlegend": true,
         "type": "scatter",
         "x": [
          0,
          1,
          2,
          3,
          4,
          5,
          6,
          7,
          8,
          9,
          10,
          11,
          12,
          13,
          14,
          15,
          16,
          17,
          18,
          19,
          20,
          21,
          22,
          23,
          24,
          25,
          26,
          27,
          28,
          29,
          30,
          31,
          32,
          33,
          34,
          35,
          36,
          37,
          38,
          39,
          40,
          41,
          42,
          43
         ],
         "xaxis": "x",
         "y": [
          0.05553608760237694,
          0.06983210146427155,
          0.07955172657966614,
          0.060076754540205,
          0.05910845473408699,
          0.07717261463403702,
          0.06699416786432266,
          0.04988357424736023,
          0.07363218069076538,
          0.07480182498693466,
          0.06175404042005539,
          0.07176349312067032,
          0.08080484718084335,
          0.07116661220788956,
          0.07190593332052231,
          0.05826175957918167,
          0.07118649780750275,
          0.11175593733787537,
          0.08267338573932648,
          0.07173441350460052,
          0.0590476468205452,
          0.08171629160642624,
          0.058778151869773865,
          0.05175752192735672,
          0.05788281932473183,
          0.047767724841833115,
          0.0727270171046257,
          0.06531360745429993,
          0.042660538107156754,
          0.06271682679653168,
          0.05321871116757393,
          0.061333902180194855,
          0.057595476508140564,
          0.04927690699696541,
          0.03801297768950462,
          0.07099970430135727,
          0.054037563502788544,
          0.03535483032464981,
          0.005294888745993376,
          0.04001489654183388,
          0.019207047298550606,
          0.053915299475193024,
          0.00196235254406929,
          0.0957912728190422
         ],
         "yaxis": "y"
        },
        {
         "hovertemplate": "variable=topic_14<br>timepoint=%{x}<br>value=%{y}<extra></extra>",
         "legendgroup": "topic_14",
         "line": {
          "color": "#ab63fa",
          "dash": "solid"
         },
         "marker": {
          "symbol": "circle"
         },
         "mode": "lines",
         "name": "topic_14",
         "orientation": "v",
         "showlegend": true,
         "type": "scatter",
         "x": [
          0,
          1,
          2,
          3,
          4,
          5,
          6,
          7,
          8,
          9,
          10,
          11,
          12,
          13,
          14,
          15,
          16,
          17,
          18,
          19,
          20,
          21,
          22,
          23,
          24,
          25,
          26,
          27,
          28,
          29,
          30,
          31,
          32,
          33,
          34,
          35,
          36,
          37,
          38,
          39,
          40,
          41,
          42,
          43
         ],
         "xaxis": "x",
         "y": [
          0.08298294991254807,
          0.0752834752202034,
          0.08286408334970474,
          0.09451879560947418,
          0.08509884774684906,
          0.07690001279115677,
          0.06699416786432266,
          0.07171445339918137,
          0.07474725693464279,
          0.0961657464504242,
          0.0877896100282669,
          0.05535237118601799,
          0.06652054190635681,
          0.07153335958719254,
          0.06630662828683853,
          0.05532023683190346,
          0.06542515754699707,
          0.06463516503572464,
          0.06037598103284836,
          0.07678074389696121,
          0.06128060072660446,
          0.049768246710300446,
          0.055002957582473755,
          0.0477517805993557,
          0.061185020953416824,
          0.05093999579548836,
          0.048066627234220505,
          0.08878321945667267,
          0.11393008381128311,
          0.1752854883670807,
          0.11250662803649902,
          0.10232153534889221,
          0.07773645967245102,
          0.07843717187643051,
          0.07747281342744827,
          0.09565982222557068,
          0.04406643658876419,
          0.03650728613138199,
          0.0051970165222883224,
          0.13635817170143127,
          0.07115554809570312,
          0.08398374915122986,
          0.002148357452824712,
          0.08282779902219772
         ],
         "yaxis": "y"
        }
       ],
       "layout": {
        "legend": {
         "title": {
          "text": "variable"
         },
         "tracegroupgap": 0
        },
        "template": {
         "data": {
          "bar": [
           {
            "error_x": {
             "color": "#2a3f5f"
            },
            "error_y": {
             "color": "#2a3f5f"
            },
            "marker": {
             "line": {
              "color": "#E5ECF6",
              "width": 0.5
             },
             "pattern": {
              "fillmode": "overlay",
              "size": 10,
              "solidity": 0.2
             }
            },
            "type": "bar"
           }
          ],
          "barpolar": [
           {
            "marker": {
             "line": {
              "color": "#E5ECF6",
              "width": 0.5
             },
             "pattern": {
              "fillmode": "overlay",
              "size": 10,
              "solidity": 0.2
             }
            },
            "type": "barpolar"
           }
          ],
          "carpet": [
           {
            "aaxis": {
             "endlinecolor": "#2a3f5f",
             "gridcolor": "white",
             "linecolor": "white",
             "minorgridcolor": "white",
             "startlinecolor": "#2a3f5f"
            },
            "baxis": {
             "endlinecolor": "#2a3f5f",
             "gridcolor": "white",
             "linecolor": "white",
             "minorgridcolor": "white",
             "startlinecolor": "#2a3f5f"
            },
            "type": "carpet"
           }
          ],
          "choropleth": [
           {
            "colorbar": {
             "outlinewidth": 0,
             "ticks": ""
            },
            "type": "choropleth"
           }
          ],
          "contour": [
           {
            "colorbar": {
             "outlinewidth": 0,
             "ticks": ""
            },
            "colorscale": [
             [
              0,
              "#0d0887"
             ],
             [
              0.1111111111111111,
              "#46039f"
             ],
             [
              0.2222222222222222,
              "#7201a8"
             ],
             [
              0.3333333333333333,
              "#9c179e"
             ],
             [
              0.4444444444444444,
              "#bd3786"
             ],
             [
              0.5555555555555556,
              "#d8576b"
             ],
             [
              0.6666666666666666,
              "#ed7953"
             ],
             [
              0.7777777777777778,
              "#fb9f3a"
             ],
             [
              0.8888888888888888,
              "#fdca26"
             ],
             [
              1,
              "#f0f921"
             ]
            ],
            "type": "contour"
           }
          ],
          "contourcarpet": [
           {
            "colorbar": {
             "outlinewidth": 0,
             "ticks": ""
            },
            "type": "contourcarpet"
           }
          ],
          "heatmap": [
           {
            "colorbar": {
             "outlinewidth": 0,
             "ticks": ""
            },
            "colorscale": [
             [
              0,
              "#0d0887"
             ],
             [
              0.1111111111111111,
              "#46039f"
             ],
             [
              0.2222222222222222,
              "#7201a8"
             ],
             [
              0.3333333333333333,
              "#9c179e"
             ],
             [
              0.4444444444444444,
              "#bd3786"
             ],
             [
              0.5555555555555556,
              "#d8576b"
             ],
             [
              0.6666666666666666,
              "#ed7953"
             ],
             [
              0.7777777777777778,
              "#fb9f3a"
             ],
             [
              0.8888888888888888,
              "#fdca26"
             ],
             [
              1,
              "#f0f921"
             ]
            ],
            "type": "heatmap"
           }
          ],
          "heatmapgl": [
           {
            "colorbar": {
             "outlinewidth": 0,
             "ticks": ""
            },
            "colorscale": [
             [
              0,
              "#0d0887"
             ],
             [
              0.1111111111111111,
              "#46039f"
             ],
             [
              0.2222222222222222,
              "#7201a8"
             ],
             [
              0.3333333333333333,
              "#9c179e"
             ],
             [
              0.4444444444444444,
              "#bd3786"
             ],
             [
              0.5555555555555556,
              "#d8576b"
             ],
             [
              0.6666666666666666,
              "#ed7953"
             ],
             [
              0.7777777777777778,
              "#fb9f3a"
             ],
             [
              0.8888888888888888,
              "#fdca26"
             ],
             [
              1,
              "#f0f921"
             ]
            ],
            "type": "heatmapgl"
           }
          ],
          "histogram": [
           {
            "marker": {
             "pattern": {
              "fillmode": "overlay",
              "size": 10,
              "solidity": 0.2
             }
            },
            "type": "histogram"
           }
          ],
          "histogram2d": [
           {
            "colorbar": {
             "outlinewidth": 0,
             "ticks": ""
            },
            "colorscale": [
             [
              0,
              "#0d0887"
             ],
             [
              0.1111111111111111,
              "#46039f"
             ],
             [
              0.2222222222222222,
              "#7201a8"
             ],
             [
              0.3333333333333333,
              "#9c179e"
             ],
             [
              0.4444444444444444,
              "#bd3786"
             ],
             [
              0.5555555555555556,
              "#d8576b"
             ],
             [
              0.6666666666666666,
              "#ed7953"
             ],
             [
              0.7777777777777778,
              "#fb9f3a"
             ],
             [
              0.8888888888888888,
              "#fdca26"
             ],
             [
              1,
              "#f0f921"
             ]
            ],
            "type": "histogram2d"
           }
          ],
          "histogram2dcontour": [
           {
            "colorbar": {
             "outlinewidth": 0,
             "ticks": ""
            },
            "colorscale": [
             [
              0,
              "#0d0887"
             ],
             [
              0.1111111111111111,
              "#46039f"
             ],
             [
              0.2222222222222222,
              "#7201a8"
             ],
             [
              0.3333333333333333,
              "#9c179e"
             ],
             [
              0.4444444444444444,
              "#bd3786"
             ],
             [
              0.5555555555555556,
              "#d8576b"
             ],
             [
              0.6666666666666666,
              "#ed7953"
             ],
             [
              0.7777777777777778,
              "#fb9f3a"
             ],
             [
              0.8888888888888888,
              "#fdca26"
             ],
             [
              1,
              "#f0f921"
             ]
            ],
            "type": "histogram2dcontour"
           }
          ],
          "mesh3d": [
           {
            "colorbar": {
             "outlinewidth": 0,
             "ticks": ""
            },
            "type": "mesh3d"
           }
          ],
          "parcoords": [
           {
            "line": {
             "colorbar": {
              "outlinewidth": 0,
              "ticks": ""
             }
            },
            "type": "parcoords"
           }
          ],
          "pie": [
           {
            "automargin": true,
            "type": "pie"
           }
          ],
          "scatter": [
           {
            "fillpattern": {
             "fillmode": "overlay",
             "size": 10,
             "solidity": 0.2
            },
            "type": "scatter"
           }
          ],
          "scatter3d": [
           {
            "line": {
             "colorbar": {
              "outlinewidth": 0,
              "ticks": ""
             }
            },
            "marker": {
             "colorbar": {
              "outlinewidth": 0,
              "ticks": ""
             }
            },
            "type": "scatter3d"
           }
          ],
          "scattercarpet": [
           {
            "marker": {
             "colorbar": {
              "outlinewidth": 0,
              "ticks": ""
             }
            },
            "type": "scattercarpet"
           }
          ],
          "scattergeo": [
           {
            "marker": {
             "colorbar": {
              "outlinewidth": 0,
              "ticks": ""
             }
            },
            "type": "scattergeo"
           }
          ],
          "scattergl": [
           {
            "marker": {
             "colorbar": {
              "outlinewidth": 0,
              "ticks": ""
             }
            },
            "type": "scattergl"
           }
          ],
          "scattermapbox": [
           {
            "marker": {
             "colorbar": {
              "outlinewidth": 0,
              "ticks": ""
             }
            },
            "type": "scattermapbox"
           }
          ],
          "scatterpolar": [
           {
            "marker": {
             "colorbar": {
              "outlinewidth": 0,
              "ticks": ""
             }
            },
            "type": "scatterpolar"
           }
          ],
          "scatterpolargl": [
           {
            "marker": {
             "colorbar": {
              "outlinewidth": 0,
              "ticks": ""
             }
            },
            "type": "scatterpolargl"
           }
          ],
          "scatterternary": [
           {
            "marker": {
             "colorbar": {
              "outlinewidth": 0,
              "ticks": ""
             }
            },
            "type": "scatterternary"
           }
          ],
          "surface": [
           {
            "colorbar": {
             "outlinewidth": 0,
             "ticks": ""
            },
            "colorscale": [
             [
              0,
              "#0d0887"
             ],
             [
              0.1111111111111111,
              "#46039f"
             ],
             [
              0.2222222222222222,
              "#7201a8"
             ],
             [
              0.3333333333333333,
              "#9c179e"
             ],
             [
              0.4444444444444444,
              "#bd3786"
             ],
             [
              0.5555555555555556,
              "#d8576b"
             ],
             [
              0.6666666666666666,
              "#ed7953"
             ],
             [
              0.7777777777777778,
              "#fb9f3a"
             ],
             [
              0.8888888888888888,
              "#fdca26"
             ],
             [
              1,
              "#f0f921"
             ]
            ],
            "type": "surface"
           }
          ],
          "table": [
           {
            "cells": {
             "fill": {
              "color": "#EBF0F8"
             },
             "line": {
              "color": "white"
             }
            },
            "header": {
             "fill": {
              "color": "#C8D4E3"
             },
             "line": {
              "color": "white"
             }
            },
            "type": "table"
           }
          ]
         },
         "layout": {
          "annotationdefaults": {
           "arrowcolor": "#2a3f5f",
           "arrowhead": 0,
           "arrowwidth": 1
          },
          "autotypenumbers": "strict",
          "coloraxis": {
           "colorbar": {
            "outlinewidth": 0,
            "ticks": ""
           }
          },
          "colorscale": {
           "diverging": [
            [
             0,
             "#8e0152"
            ],
            [
             0.1,
             "#c51b7d"
            ],
            [
             0.2,
             "#de77ae"
            ],
            [
             0.3,
             "#f1b6da"
            ],
            [
             0.4,
             "#fde0ef"
            ],
            [
             0.5,
             "#f7f7f7"
            ],
            [
             0.6,
             "#e6f5d0"
            ],
            [
             0.7,
             "#b8e186"
            ],
            [
             0.8,
             "#7fbc41"
            ],
            [
             0.9,
             "#4d9221"
            ],
            [
             1,
             "#276419"
            ]
           ],
           "sequential": [
            [
             0,
             "#0d0887"
            ],
            [
             0.1111111111111111,
             "#46039f"
            ],
            [
             0.2222222222222222,
             "#7201a8"
            ],
            [
             0.3333333333333333,
             "#9c179e"
            ],
            [
             0.4444444444444444,
             "#bd3786"
            ],
            [
             0.5555555555555556,
             "#d8576b"
            ],
            [
             0.6666666666666666,
             "#ed7953"
            ],
            [
             0.7777777777777778,
             "#fb9f3a"
            ],
            [
             0.8888888888888888,
             "#fdca26"
            ],
            [
             1,
             "#f0f921"
            ]
           ],
           "sequentialminus": [
            [
             0,
             "#0d0887"
            ],
            [
             0.1111111111111111,
             "#46039f"
            ],
            [
             0.2222222222222222,
             "#7201a8"
            ],
            [
             0.3333333333333333,
             "#9c179e"
            ],
            [
             0.4444444444444444,
             "#bd3786"
            ],
            [
             0.5555555555555556,
             "#d8576b"
            ],
            [
             0.6666666666666666,
             "#ed7953"
            ],
            [
             0.7777777777777778,
             "#fb9f3a"
            ],
            [
             0.8888888888888888,
             "#fdca26"
            ],
            [
             1,
             "#f0f921"
            ]
           ]
          },
          "colorway": [
           "#636efa",
           "#EF553B",
           "#00cc96",
           "#ab63fa",
           "#FFA15A",
           "#19d3f3",
           "#FF6692",
           "#B6E880",
           "#FF97FF",
           "#FECB52"
          ],
          "font": {
           "color": "#2a3f5f"
          },
          "geo": {
           "bgcolor": "white",
           "lakecolor": "white",
           "landcolor": "#E5ECF6",
           "showlakes": true,
           "showland": true,
           "subunitcolor": "white"
          },
          "hoverlabel": {
           "align": "left"
          },
          "hovermode": "closest",
          "mapbox": {
           "style": "light"
          },
          "paper_bgcolor": "white",
          "plot_bgcolor": "#E5ECF6",
          "polar": {
           "angularaxis": {
            "gridcolor": "white",
            "linecolor": "white",
            "ticks": ""
           },
           "bgcolor": "#E5ECF6",
           "radialaxis": {
            "gridcolor": "white",
            "linecolor": "white",
            "ticks": ""
           }
          },
          "scene": {
           "xaxis": {
            "backgroundcolor": "#E5ECF6",
            "gridcolor": "white",
            "gridwidth": 2,
            "linecolor": "white",
            "showbackground": true,
            "ticks": "",
            "zerolinecolor": "white"
           },
           "yaxis": {
            "backgroundcolor": "#E5ECF6",
            "gridcolor": "white",
            "gridwidth": 2,
            "linecolor": "white",
            "showbackground": true,
            "ticks": "",
            "zerolinecolor": "white"
           },
           "zaxis": {
            "backgroundcolor": "#E5ECF6",
            "gridcolor": "white",
            "gridwidth": 2,
            "linecolor": "white",
            "showbackground": true,
            "ticks": "",
            "zerolinecolor": "white"
           }
          },
          "shapedefaults": {
           "line": {
            "color": "#2a3f5f"
           }
          },
          "ternary": {
           "aaxis": {
            "gridcolor": "white",
            "linecolor": "white",
            "ticks": ""
           },
           "baxis": {
            "gridcolor": "white",
            "linecolor": "white",
            "ticks": ""
           },
           "bgcolor": "#E5ECF6",
           "caxis": {
            "gridcolor": "white",
            "linecolor": "white",
            "ticks": ""
           }
          },
          "title": {
           "x": 0.05
          },
          "xaxis": {
           "automargin": true,
           "gridcolor": "white",
           "linecolor": "white",
           "ticks": "",
           "title": {
            "standoff": 15
           },
           "zerolinecolor": "white",
           "zerolinewidth": 2
          },
          "yaxis": {
           "automargin": true,
           "gridcolor": "white",
           "linecolor": "white",
           "ticks": "",
           "title": {
            "standoff": 15
           },
           "zerolinecolor": "white",
           "zerolinewidth": 2
          }
         }
        },
        "title": {
         "text": "All Time Period Common Topics"
        },
        "xaxis": {
         "anchor": "y",
         "domain": [
          0,
          1
         ],
         "dtick": "M1",
         "tickformat": "%b %d",
         "ticklabelmode": "period",
         "title": {
          "text": "timepoint"
         }
        },
        "yaxis": {
         "anchor": "x",
         "domain": [
          0,
          1
         ],
         "title": {
          "text": "value"
         }
        }
       }
      }
     },
     "metadata": {},
     "output_type": "display_data"
    }
   ],
   "source": [
    "td = pd.DataFrame()\n",
    "for timepoint in range(best_mdl.num_timepoints):\n",
    "    td_tmp = pd.DataFrame(\n",
    "        np.stack([doc.get_topic_dist() for doc in best_mdl.docs if doc.timepoint == timepoint]),\n",
    "        columns=[\"topic_{}\".format(i + 1) for i in range(best_mdl.k)],\n",
    "    )\n",
    "    td_tmp[\"timepoint\"] = timepoint\n",
    "    td = pd.concat([td, td_tmp], ignore_index=True)\n",
    "    del td_tmp\n",
    "\n",
    "import plotly.express as px\n",
    "fig = px.line(td, x=\"timepoint\", y=td.columns,\n",
    "            #   hover_data={\"timepoint\": \"|%B %d, %Y\"},\n",
    "              title='All Time Period Common Topics')\n",
    "fig.update_xaxes(\n",
    "    dtick=\"M1\",\n",
    "    tickformat=\"%b %d\",\n",
    "    ticklabelmode=\"period\")\n",
    "fig.show()\n",
    "\n",
    "# save the figure to html\n",
    "fig.write_html('./main_df_output/QA_DTM_topic_plot.html')"
   ]
  },
  {
   "cell_type": "code",
   "execution_count": 60,
   "metadata": {},
   "outputs": [
    {
     "data": {
      "text/html": [
       "<div>\n",
       "<style scoped>\n",
       "    .dataframe tbody tr th:only-of-type {\n",
       "        vertical-align: middle;\n",
       "    }\n",
       "\n",
       "    .dataframe tbody tr th {\n",
       "        vertical-align: top;\n",
       "    }\n",
       "\n",
       "    .dataframe thead th {\n",
       "        text-align: right;\n",
       "    }\n",
       "</style>\n",
       "<table border=\"1\" class=\"dataframe\">\n",
       "  <thead>\n",
       "    <tr style=\"text-align: right;\">\n",
       "      <th></th>\n",
       "      <th>0</th>\n",
       "      <th>8</th>\n",
       "      <th>1</th>\n",
       "      <th>3</th>\n",
       "      <th>4</th>\n",
       "      <th>6</th>\n",
       "      <th>9</th>\n",
       "      <th>2</th>\n",
       "      <th>5</th>\n",
       "      <th>7</th>\n",
       "    </tr>\n",
       "  </thead>\n",
       "  <tbody>\n",
       "    <tr>\n",
       "      <th>word</th>\n",
       "      <td>buffer</td>\n",
       "      <td>segmentation</td>\n",
       "      <td>conversation</td>\n",
       "      <td>hedge</td>\n",
       "      <td>layer</td>\n",
       "      <td>proposition</td>\n",
       "      <td>transition</td>\n",
       "      <td>energy</td>\n",
       "      <td>loan</td>\n",
       "      <td>repurchase</td>\n",
       "    </tr>\n",
       "    <tr>\n",
       "      <th>prob</th>\n",
       "      <td>0.006</td>\n",
       "      <td>0.006</td>\n",
       "      <td>0.004</td>\n",
       "      <td>0.004</td>\n",
       "      <td>0.004</td>\n",
       "      <td>0.004</td>\n",
       "      <td>0.004</td>\n",
       "      <td>0.003</td>\n",
       "      <td>0.003</td>\n",
       "      <td>0.003</td>\n",
       "    </tr>\n",
       "  </tbody>\n",
       "</table>\n",
       "</div>"
      ],
      "text/plain": [
       "           0             8             1      3      4            6  \\\n",
       "word  buffer  segmentation  conversation  hedge  layer  proposition   \n",
       "prob   0.006         0.006         0.004  0.004  0.004        0.004   \n",
       "\n",
       "               9       2      5           7  \n",
       "word  transition  energy   loan  repurchase  \n",
       "prob       0.004   0.003  0.003       0.003  "
      ]
     },
     "execution_count": 60,
     "metadata": {},
     "output_type": "execute_result"
    }
   ],
   "source": [
    "test = wt[wt['k']==0]\n",
    "time_list = [11]\n",
    "test = test[test['timepoint'].isin(time_list)]\n",
    "# groupby word and get the average of prob\n",
    "test = test.groupby(['word'])['prob'].mean().reset_index()\n",
    "# sort by prob\n",
    "test.sort_values(by='prob', ascending=False, inplace=True)\n",
    "test.T"
   ]
  },
  {
   "cell_type": "code",
   "execution_count": null,
   "metadata": {},
   "outputs": [],
   "source": []
  },
  {
   "cell_type": "code",
   "execution_count": null,
   "metadata": {},
   "outputs": [],
   "source": []
  },
  {
   "cell_type": "code",
   "execution_count": null,
   "metadata": {},
   "outputs": [],
   "source": []
  },
  {
   "cell_type": "code",
   "execution_count": null,
   "metadata": {},
   "outputs": [],
   "source": []
  },
  {
   "cell_type": "code",
   "execution_count": null,
   "metadata": {},
   "outputs": [],
   "source": []
  },
  {
   "cell_type": "code",
   "execution_count": null,
   "metadata": {},
   "outputs": [],
   "source": []
  },
  {
   "cell_type": "markdown",
   "metadata": {},
   "source": [
    "# Early Time"
   ]
  },
  {
   "cell_type": "code",
   "execution_count": 40,
   "metadata": {},
   "outputs": [
    {
     "data": {
      "application/vnd.plotly.v1+json": {
       "config": {
        "plotlyServerURL": "https://plot.ly"
       },
       "data": [
        {
         "hovertemplate": "variable=topic_1<br>timepoint=%{x}<br>value=%{y}<extra></extra>",
         "legendgroup": "topic_1",
         "line": {
          "color": "#636efa",
          "dash": "solid"
         },
         "marker": {
          "symbol": "circle"
         },
         "mode": "lines",
         "name": "topic_1",
         "orientation": "v",
         "showlegend": true,
         "type": "scatter",
         "x": [
          0,
          1,
          2,
          3,
          4,
          5,
          6,
          7,
          8,
          9,
          10,
          11,
          12,
          13,
          14,
          15
         ],
         "xaxis": "x",
         "y": [
          0.18732711672782898,
          0.18845075368881226,
          0.16600878536701202,
          0.10350219160318375,
          0.14885354042053223,
          0.04733111336827278,
          0.1454378068447113,
          0.12508058547973633,
          0.04357295110821724,
          0.8505785465240479,
          0.029001155868172646,
          0.0020957584492862225,
          0.005209175404161215,
          0.0011522496351972222,
          0.0005622907192446291,
          0.0006141677149571478
         ],
         "yaxis": "y"
        },
        {
         "hovertemplate": "variable=topic_3<br>timepoint=%{x}<br>value=%{y}<extra></extra>",
         "legendgroup": "topic_3",
         "line": {
          "color": "#EF553B",
          "dash": "solid"
         },
         "marker": {
          "symbol": "circle"
         },
         "mode": "lines",
         "name": "topic_3",
         "orientation": "v",
         "showlegend": true,
         "type": "scatter",
         "x": [
          0,
          1,
          2,
          3,
          4,
          5,
          6,
          7,
          8,
          9,
          10,
          11,
          12,
          13,
          14,
          15
         ],
         "xaxis": "x",
         "y": [
          0.14841295778751373,
          0.11262007057666779,
          0.1158599704504013,
          0.0978168174624443,
          0.101657435297966,
          0.027603132650256157,
          0.15146993100643158,
          0.07673300057649612,
          0.028247404843568802,
          0.0184145737439394,
          0.8148866295814514,
          0.004076823592185974,
          0.008096745237708092,
          0.0012285575503483415,
          0.000315129931550473,
          0.00020922196563333273
         ],
         "yaxis": "y"
        },
        {
         "hovertemplate": "variable=topic_4<br>timepoint=%{x}<br>value=%{y}<extra></extra>",
         "legendgroup": "topic_4",
         "line": {
          "color": "#00cc96",
          "dash": "solid"
         },
         "marker": {
          "symbol": "circle"
         },
         "mode": "lines",
         "name": "topic_4",
         "orientation": "v",
         "showlegend": true,
         "type": "scatter",
         "x": [
          0,
          1,
          2,
          3,
          4,
          5,
          6,
          7,
          8,
          9,
          10,
          11,
          12,
          13,
          14,
          15
         ],
         "xaxis": "x",
         "y": [
          0.09097941964864731,
          0.08688359707593918,
          0.09321211278438568,
          0.10918755829334259,
          0.21425917744636536,
          0.020385578274726868,
          0.08924376219511032,
          0.17686621844768524,
          0.027924761176109314,
          0.01709073781967163,
          0.029296934604644775,
          0.005223756190389395,
          0.9482893943786621,
          0.9924684166908264,
          0.0007476612809114158,
          0.9971855878829956
         ],
         "yaxis": "y"
        },
        {
         "hovertemplate": "variable=topic_5<br>timepoint=%{x}<br>value=%{y}<extra></extra>",
         "legendgroup": "topic_5",
         "line": {
          "color": "#ab63fa",
          "dash": "solid"
         },
         "marker": {
          "symbol": "circle"
         },
         "mode": "lines",
         "name": "topic_5",
         "orientation": "v",
         "showlegend": true,
         "type": "scatter",
         "x": [
          0,
          1,
          2,
          3,
          4,
          5,
          6,
          7,
          8,
          9,
          10,
          11,
          12,
          13,
          14,
          15
         ],
         "xaxis": "x",
         "y": [
          0.1477096974849701,
          0.11124133318662643,
          0.13721366226673126,
          0.2129455804824829,
          0.16929280757904053,
          0.026640791445970535,
          0.13527843356132507,
          0.091129831969738,
          0.028247404843568802,
          0.06329265236854553,
          0.04024076461791992,
          0.0038682904560118914,
          0.007288225460797548,
          0.0014574812958016992,
          0.9964964985847473,
          0.0004116948402952403
         ],
         "yaxis": "y"
        },
        {
         "hovertemplate": "variable=topic_7<br>timepoint=%{x}<br>value=%{y}<extra></extra>",
         "legendgroup": "topic_7",
         "line": {
          "color": "#FFA15A",
          "dash": "solid"
         },
         "marker": {
          "symbol": "circle"
         },
         "mode": "lines",
         "name": "topic_7",
         "orientation": "v",
         "showlegend": true,
         "type": "scatter",
         "x": [
          0,
          1,
          2,
          3,
          4,
          5,
          6,
          7,
          8,
          9,
          10,
          11,
          12,
          13,
          14,
          15
         ],
         "xaxis": "x",
         "y": [
          0.08652539551258087,
          0.1981019377708435,
          0.0954769030213356,
          0.14358405768871307,
          0.10481622815132141,
          0.02583884261548519,
          0.1067051887512207,
          0.16461816430091858,
          0.8214654922485352,
          0.013781143352389336,
          0.022641900926828384,
          0.9774054288864136,
          0.008443253114819527,
          0.0012285575503483415,
          0.000376920128474012,
          0.0003442038723733276
         ],
         "yaxis": "y"
        },
        {
         "hovertemplate": "variable=topic_8<br>timepoint=%{x}<br>value=%{y}<extra></extra>",
         "legendgroup": "topic_8",
         "line": {
          "color": "#19d3f3",
          "dash": "solid"
         },
         "marker": {
          "symbol": "circle"
         },
         "mode": "lines",
         "name": "topic_8",
         "orientation": "v",
         "showlegend": true,
         "type": "scatter",
         "x": [
          0,
          1,
          2,
          3,
          4,
          5,
          6,
          7,
          8,
          9,
          10,
          11,
          12,
          13,
          14,
          15
         ],
         "xaxis": "x",
         "y": [
          0.09191711246967316,
          0.08274737745523453,
          0.14465510845184326,
          0.15751321613788605,
          0.12098182737827301,
          0.8008437156677246,
          0.16067686676979065,
          0.0947827622294426,
          0.016470929607748985,
          0.01298684161156416,
          0.01850099116563797,
          0.002929891226813197,
          0.008096745237708092,
          0.001075941720046103,
          0.0006240808870643377,
          0.0006141677149571478
         ],
         "yaxis": "y"
        }
       ],
       "layout": {
        "legend": {
         "title": {
          "text": "variable"
         },
         "tracegroupgap": 0
        },
        "template": {
         "data": {
          "bar": [
           {
            "error_x": {
             "color": "#2a3f5f"
            },
            "error_y": {
             "color": "#2a3f5f"
            },
            "marker": {
             "line": {
              "color": "#E5ECF6",
              "width": 0.5
             },
             "pattern": {
              "fillmode": "overlay",
              "size": 10,
              "solidity": 0.2
             }
            },
            "type": "bar"
           }
          ],
          "barpolar": [
           {
            "marker": {
             "line": {
              "color": "#E5ECF6",
              "width": 0.5
             },
             "pattern": {
              "fillmode": "overlay",
              "size": 10,
              "solidity": 0.2
             }
            },
            "type": "barpolar"
           }
          ],
          "carpet": [
           {
            "aaxis": {
             "endlinecolor": "#2a3f5f",
             "gridcolor": "white",
             "linecolor": "white",
             "minorgridcolor": "white",
             "startlinecolor": "#2a3f5f"
            },
            "baxis": {
             "endlinecolor": "#2a3f5f",
             "gridcolor": "white",
             "linecolor": "white",
             "minorgridcolor": "white",
             "startlinecolor": "#2a3f5f"
            },
            "type": "carpet"
           }
          ],
          "choropleth": [
           {
            "colorbar": {
             "outlinewidth": 0,
             "ticks": ""
            },
            "type": "choropleth"
           }
          ],
          "contour": [
           {
            "colorbar": {
             "outlinewidth": 0,
             "ticks": ""
            },
            "colorscale": [
             [
              0,
              "#0d0887"
             ],
             [
              0.1111111111111111,
              "#46039f"
             ],
             [
              0.2222222222222222,
              "#7201a8"
             ],
             [
              0.3333333333333333,
              "#9c179e"
             ],
             [
              0.4444444444444444,
              "#bd3786"
             ],
             [
              0.5555555555555556,
              "#d8576b"
             ],
             [
              0.6666666666666666,
              "#ed7953"
             ],
             [
              0.7777777777777778,
              "#fb9f3a"
             ],
             [
              0.8888888888888888,
              "#fdca26"
             ],
             [
              1,
              "#f0f921"
             ]
            ],
            "type": "contour"
           }
          ],
          "contourcarpet": [
           {
            "colorbar": {
             "outlinewidth": 0,
             "ticks": ""
            },
            "type": "contourcarpet"
           }
          ],
          "heatmap": [
           {
            "colorbar": {
             "outlinewidth": 0,
             "ticks": ""
            },
            "colorscale": [
             [
              0,
              "#0d0887"
             ],
             [
              0.1111111111111111,
              "#46039f"
             ],
             [
              0.2222222222222222,
              "#7201a8"
             ],
             [
              0.3333333333333333,
              "#9c179e"
             ],
             [
              0.4444444444444444,
              "#bd3786"
             ],
             [
              0.5555555555555556,
              "#d8576b"
             ],
             [
              0.6666666666666666,
              "#ed7953"
             ],
             [
              0.7777777777777778,
              "#fb9f3a"
             ],
             [
              0.8888888888888888,
              "#fdca26"
             ],
             [
              1,
              "#f0f921"
             ]
            ],
            "type": "heatmap"
           }
          ],
          "heatmapgl": [
           {
            "colorbar": {
             "outlinewidth": 0,
             "ticks": ""
            },
            "colorscale": [
             [
              0,
              "#0d0887"
             ],
             [
              0.1111111111111111,
              "#46039f"
             ],
             [
              0.2222222222222222,
              "#7201a8"
             ],
             [
              0.3333333333333333,
              "#9c179e"
             ],
             [
              0.4444444444444444,
              "#bd3786"
             ],
             [
              0.5555555555555556,
              "#d8576b"
             ],
             [
              0.6666666666666666,
              "#ed7953"
             ],
             [
              0.7777777777777778,
              "#fb9f3a"
             ],
             [
              0.8888888888888888,
              "#fdca26"
             ],
             [
              1,
              "#f0f921"
             ]
            ],
            "type": "heatmapgl"
           }
          ],
          "histogram": [
           {
            "marker": {
             "pattern": {
              "fillmode": "overlay",
              "size": 10,
              "solidity": 0.2
             }
            },
            "type": "histogram"
           }
          ],
          "histogram2d": [
           {
            "colorbar": {
             "outlinewidth": 0,
             "ticks": ""
            },
            "colorscale": [
             [
              0,
              "#0d0887"
             ],
             [
              0.1111111111111111,
              "#46039f"
             ],
             [
              0.2222222222222222,
              "#7201a8"
             ],
             [
              0.3333333333333333,
              "#9c179e"
             ],
             [
              0.4444444444444444,
              "#bd3786"
             ],
             [
              0.5555555555555556,
              "#d8576b"
             ],
             [
              0.6666666666666666,
              "#ed7953"
             ],
             [
              0.7777777777777778,
              "#fb9f3a"
             ],
             [
              0.8888888888888888,
              "#fdca26"
             ],
             [
              1,
              "#f0f921"
             ]
            ],
            "type": "histogram2d"
           }
          ],
          "histogram2dcontour": [
           {
            "colorbar": {
             "outlinewidth": 0,
             "ticks": ""
            },
            "colorscale": [
             [
              0,
              "#0d0887"
             ],
             [
              0.1111111111111111,
              "#46039f"
             ],
             [
              0.2222222222222222,
              "#7201a8"
             ],
             [
              0.3333333333333333,
              "#9c179e"
             ],
             [
              0.4444444444444444,
              "#bd3786"
             ],
             [
              0.5555555555555556,
              "#d8576b"
             ],
             [
              0.6666666666666666,
              "#ed7953"
             ],
             [
              0.7777777777777778,
              "#fb9f3a"
             ],
             [
              0.8888888888888888,
              "#fdca26"
             ],
             [
              1,
              "#f0f921"
             ]
            ],
            "type": "histogram2dcontour"
           }
          ],
          "mesh3d": [
           {
            "colorbar": {
             "outlinewidth": 0,
             "ticks": ""
            },
            "type": "mesh3d"
           }
          ],
          "parcoords": [
           {
            "line": {
             "colorbar": {
              "outlinewidth": 0,
              "ticks": ""
             }
            },
            "type": "parcoords"
           }
          ],
          "pie": [
           {
            "automargin": true,
            "type": "pie"
           }
          ],
          "scatter": [
           {
            "fillpattern": {
             "fillmode": "overlay",
             "size": 10,
             "solidity": 0.2
            },
            "type": "scatter"
           }
          ],
          "scatter3d": [
           {
            "line": {
             "colorbar": {
              "outlinewidth": 0,
              "ticks": ""
             }
            },
            "marker": {
             "colorbar": {
              "outlinewidth": 0,
              "ticks": ""
             }
            },
            "type": "scatter3d"
           }
          ],
          "scattercarpet": [
           {
            "marker": {
             "colorbar": {
              "outlinewidth": 0,
              "ticks": ""
             }
            },
            "type": "scattercarpet"
           }
          ],
          "scattergeo": [
           {
            "marker": {
             "colorbar": {
              "outlinewidth": 0,
              "ticks": ""
             }
            },
            "type": "scattergeo"
           }
          ],
          "scattergl": [
           {
            "marker": {
             "colorbar": {
              "outlinewidth": 0,
              "ticks": ""
             }
            },
            "type": "scattergl"
           }
          ],
          "scattermapbox": [
           {
            "marker": {
             "colorbar": {
              "outlinewidth": 0,
              "ticks": ""
             }
            },
            "type": "scattermapbox"
           }
          ],
          "scatterpolar": [
           {
            "marker": {
             "colorbar": {
              "outlinewidth": 0,
              "ticks": ""
             }
            },
            "type": "scatterpolar"
           }
          ],
          "scatterpolargl": [
           {
            "marker": {
             "colorbar": {
              "outlinewidth": 0,
              "ticks": ""
             }
            },
            "type": "scatterpolargl"
           }
          ],
          "scatterternary": [
           {
            "marker": {
             "colorbar": {
              "outlinewidth": 0,
              "ticks": ""
             }
            },
            "type": "scatterternary"
           }
          ],
          "surface": [
           {
            "colorbar": {
             "outlinewidth": 0,
             "ticks": ""
            },
            "colorscale": [
             [
              0,
              "#0d0887"
             ],
             [
              0.1111111111111111,
              "#46039f"
             ],
             [
              0.2222222222222222,
              "#7201a8"
             ],
             [
              0.3333333333333333,
              "#9c179e"
             ],
             [
              0.4444444444444444,
              "#bd3786"
             ],
             [
              0.5555555555555556,
              "#d8576b"
             ],
             [
              0.6666666666666666,
              "#ed7953"
             ],
             [
              0.7777777777777778,
              "#fb9f3a"
             ],
             [
              0.8888888888888888,
              "#fdca26"
             ],
             [
              1,
              "#f0f921"
             ]
            ],
            "type": "surface"
           }
          ],
          "table": [
           {
            "cells": {
             "fill": {
              "color": "#EBF0F8"
             },
             "line": {
              "color": "white"
             }
            },
            "header": {
             "fill": {
              "color": "#C8D4E3"
             },
             "line": {
              "color": "white"
             }
            },
            "type": "table"
           }
          ]
         },
         "layout": {
          "annotationdefaults": {
           "arrowcolor": "#2a3f5f",
           "arrowhead": 0,
           "arrowwidth": 1
          },
          "autotypenumbers": "strict",
          "coloraxis": {
           "colorbar": {
            "outlinewidth": 0,
            "ticks": ""
           }
          },
          "colorscale": {
           "diverging": [
            [
             0,
             "#8e0152"
            ],
            [
             0.1,
             "#c51b7d"
            ],
            [
             0.2,
             "#de77ae"
            ],
            [
             0.3,
             "#f1b6da"
            ],
            [
             0.4,
             "#fde0ef"
            ],
            [
             0.5,
             "#f7f7f7"
            ],
            [
             0.6,
             "#e6f5d0"
            ],
            [
             0.7,
             "#b8e186"
            ],
            [
             0.8,
             "#7fbc41"
            ],
            [
             0.9,
             "#4d9221"
            ],
            [
             1,
             "#276419"
            ]
           ],
           "sequential": [
            [
             0,
             "#0d0887"
            ],
            [
             0.1111111111111111,
             "#46039f"
            ],
            [
             0.2222222222222222,
             "#7201a8"
            ],
            [
             0.3333333333333333,
             "#9c179e"
            ],
            [
             0.4444444444444444,
             "#bd3786"
            ],
            [
             0.5555555555555556,
             "#d8576b"
            ],
            [
             0.6666666666666666,
             "#ed7953"
            ],
            [
             0.7777777777777778,
             "#fb9f3a"
            ],
            [
             0.8888888888888888,
             "#fdca26"
            ],
            [
             1,
             "#f0f921"
            ]
           ],
           "sequentialminus": [
            [
             0,
             "#0d0887"
            ],
            [
             0.1111111111111111,
             "#46039f"
            ],
            [
             0.2222222222222222,
             "#7201a8"
            ],
            [
             0.3333333333333333,
             "#9c179e"
            ],
            [
             0.4444444444444444,
             "#bd3786"
            ],
            [
             0.5555555555555556,
             "#d8576b"
            ],
            [
             0.6666666666666666,
             "#ed7953"
            ],
            [
             0.7777777777777778,
             "#fb9f3a"
            ],
            [
             0.8888888888888888,
             "#fdca26"
            ],
            [
             1,
             "#f0f921"
            ]
           ]
          },
          "colorway": [
           "#636efa",
           "#EF553B",
           "#00cc96",
           "#ab63fa",
           "#FFA15A",
           "#19d3f3",
           "#FF6692",
           "#B6E880",
           "#FF97FF",
           "#FECB52"
          ],
          "font": {
           "color": "#2a3f5f"
          },
          "geo": {
           "bgcolor": "white",
           "lakecolor": "white",
           "landcolor": "#E5ECF6",
           "showlakes": true,
           "showland": true,
           "subunitcolor": "white"
          },
          "hoverlabel": {
           "align": "left"
          },
          "hovermode": "closest",
          "mapbox": {
           "style": "light"
          },
          "paper_bgcolor": "white",
          "plot_bgcolor": "#E5ECF6",
          "polar": {
           "angularaxis": {
            "gridcolor": "white",
            "linecolor": "white",
            "ticks": ""
           },
           "bgcolor": "#E5ECF6",
           "radialaxis": {
            "gridcolor": "white",
            "linecolor": "white",
            "ticks": ""
           }
          },
          "scene": {
           "xaxis": {
            "backgroundcolor": "#E5ECF6",
            "gridcolor": "white",
            "gridwidth": 2,
            "linecolor": "white",
            "showbackground": true,
            "ticks": "",
            "zerolinecolor": "white"
           },
           "yaxis": {
            "backgroundcolor": "#E5ECF6",
            "gridcolor": "white",
            "gridwidth": 2,
            "linecolor": "white",
            "showbackground": true,
            "ticks": "",
            "zerolinecolor": "white"
           },
           "zaxis": {
            "backgroundcolor": "#E5ECF6",
            "gridcolor": "white",
            "gridwidth": 2,
            "linecolor": "white",
            "showbackground": true,
            "ticks": "",
            "zerolinecolor": "white"
           }
          },
          "shapedefaults": {
           "line": {
            "color": "#2a3f5f"
           }
          },
          "ternary": {
           "aaxis": {
            "gridcolor": "white",
            "linecolor": "white",
            "ticks": ""
           },
           "baxis": {
            "gridcolor": "white",
            "linecolor": "white",
            "ticks": ""
           },
           "bgcolor": "#E5ECF6",
           "caxis": {
            "gridcolor": "white",
            "linecolor": "white",
            "ticks": ""
           }
          },
          "title": {
           "x": 0.05
          },
          "xaxis": {
           "automargin": true,
           "gridcolor": "white",
           "linecolor": "white",
           "ticks": "",
           "title": {
            "standoff": 15
           },
           "zerolinecolor": "white",
           "zerolinewidth": 2
          },
          "yaxis": {
           "automargin": true,
           "gridcolor": "white",
           "linecolor": "white",
           "ticks": "",
           "title": {
            "standoff": 15
           },
           "zerolinecolor": "white",
           "zerolinewidth": 2
          }
         }
        },
        "title": {
         "text": "Early Time Period Common Topics"
        },
        "xaxis": {
         "anchor": "y",
         "domain": [
          0,
          1
         ],
         "dtick": "M1",
         "tickformat": "%b %d",
         "ticklabelmode": "period",
         "title": {
          "text": "timepoint"
         }
        },
        "yaxis": {
         "anchor": "x",
         "domain": [
          0,
          1
         ],
         "title": {
          "text": "value"
         }
        }
       }
      }
     },
     "metadata": {},
     "output_type": "display_data"
    }
   ],
   "source": [
    "td = pd.DataFrame()\n",
    "for timepoint in range(best_mdl.num_timepoints):\n",
    "    td_tmp = pd.DataFrame(\n",
    "        np.stack([doc.get_topic_dist() for doc in best_mdl.docs if doc.timepoint == timepoint]),\n",
    "        columns=[\"topic_{}\".format(i + 1) for i in range(best_mdl.k)],\n",
    "    )\n",
    "    td_tmp[\"timepoint\"] = timepoint\n",
    "    td = pd.concat([td, td_tmp], ignore_index=True)\n",
    "    del td_tmp\n",
    "\n",
    "td_early = td[td['timepoint']<=15]\n",
    "\n",
    "import plotly.express as px\n",
    "fig = px.line(td_early, x=\"timepoint\", y=['topic_1', 'topic_3', 'topic_4', 'topic_5', 'topic_7', 'topic_8'],\n",
    "            #   hover_data={\"timepoint\": \"|%B %d, %Y\"},\n",
    "              title='Early Time Period Common Topics')\n",
    "fig.update_xaxes(\n",
    "    dtick=\"M1\",\n",
    "    tickformat=\"%b %d\",\n",
    "    ticklabelmode=\"period\")\n",
    "fig.show()"
   ]
  },
  {
   "cell_type": "code",
   "execution_count": 25,
   "metadata": {},
   "outputs": [],
   "source": [
    "# - 1 > timep 9\n",
    "# - 3 > timep 10\n",
    "# - 4 > timep 13\n",
    "# - 5 > timep 14\n",
    "# - 7 > timep 8, 11\n",
    "# - 8 > timep 5\n",
    "\n",
    "# topic_1\n",
    "topic_1 = wt[wt['k']==0] # start with 0\n",
    "# select timepoint\n",
    "topic_1_9 = topic_1[topic_1['timepoint']==9]\n",
    "# concat\n",
    "topic_1_concate = topic_1_9.copy()\n",
    "topic_1_concate.sort_values(by='prob', ascending=False, inplace=True)\n",
    "\n",
    "# topic_3\n",
    "topic_3 = wt[wt['k']==2] # start with 0\n",
    "# select timepoint\n",
    "topic_3_9 = topic_3[topic_3['timepoint']==10]\n",
    "# concat\n",
    "topic_3_concate = topic_3_9.copy()\n",
    "topic_3_concate.sort_values(by='prob', ascending=False, inplace=True)\n",
    "\n",
    "# topic_4\n",
    "topic_4 = wt[wt['k']==3] # start with 0\n",
    "# select timepoint\n",
    "topic_4_13 = topic_4[topic_4['timepoint']==13]\n",
    "# concat\n",
    "topic_4_concate = topic_4_13.copy()\n",
    "topic_4_concate.sort_values(by='prob', ascending=False, inplace=True)\n",
    "\n",
    "# topic_5\n",
    "topic_5= wt[wt['k']==4] # start with 0\n",
    "# select timepoint\n",
    "topic_5_14 = topic_5[topic_5['timepoint']==14]\n",
    "# concat \n",
    "topic_5_concat = topic_5_14.copy()\n",
    "topic_5_concat.sort_values(by='prob', ascending=False, inplace=True)\n",
    "\n",
    "# topic_7\n",
    "topic_7= wt[wt['k']==6] # start with 0\n",
    "# select timepoint\n",
    "topic_7_8 = topic_7[topic_7['timepoint']==8]\n",
    "topic_7_11 = topic_7[topic_7['timepoint']==11]\n",
    "# concat \n",
    "topic_7_concat = pd.concat([topic_7_8, topic_7_11], ignore_index=True)\n",
    "topic_7_concat.sort_values(by='prob', ascending=False, inplace=True)\n",
    "\n",
    "# topic_8\n",
    "topic_8 = wt[wt['k']==7] # start with 0\n",
    "# select timepoint\n",
    "topic_8_5 = topic_8[topic_8['timepoint']==5]\n",
    "# concat\n",
    "topic_8_concate = topic_8_5.copy()\n",
    "topic_8_concate.sort_values(by='prob', ascending=False, inplace=True)"
   ]
  },
  {
   "cell_type": "code",
   "execution_count": 26,
   "metadata": {},
   "outputs": [
    {
     "data": {
      "text/html": [
       "<div>\n",
       "<style scoped>\n",
       "    .dataframe tbody tr th:only-of-type {\n",
       "        vertical-align: middle;\n",
       "    }\n",
       "\n",
       "    .dataframe tbody tr th {\n",
       "        vertical-align: top;\n",
       "    }\n",
       "\n",
       "    .dataframe thead th {\n",
       "        text-align: right;\n",
       "    }\n",
       "</style>\n",
       "<table border=\"1\" class=\"dataframe\">\n",
       "  <thead>\n",
       "    <tr style=\"text-align: right;\">\n",
       "      <th></th>\n",
       "      <th>36</th>\n",
       "      <th>32</th>\n",
       "      <th>2</th>\n",
       "      <th>3</th>\n",
       "      <th>1</th>\n",
       "      <th>23</th>\n",
       "      <th>22</th>\n",
       "      <th>28</th>\n",
       "      <th>4</th>\n",
       "      <th>13</th>\n",
       "      <th>38</th>\n",
       "      <th>33</th>\n",
       "      <th>24</th>\n",
       "      <th>31</th>\n",
       "      <th>17</th>\n",
       "      <th>39</th>\n",
       "      <th>15</th>\n",
       "      <th>14</th>\n",
       "      <th>26</th>\n",
       "      <th>34</th>\n",
       "      <th>10</th>\n",
       "      <th>9</th>\n",
       "      <th>8</th>\n",
       "      <th>7</th>\n",
       "      <th>6</th>\n",
       "      <th>27</th>\n",
       "      <th>20</th>\n",
       "      <th>11</th>\n",
       "      <th>35</th>\n",
       "      <th>37</th>\n",
       "      <th>25</th>\n",
       "      <th>21</th>\n",
       "      <th>29</th>\n",
       "      <th>30</th>\n",
       "      <th>19</th>\n",
       "      <th>18</th>\n",
       "      <th>16</th>\n",
       "      <th>12</th>\n",
       "      <th>5</th>\n",
       "      <th>0</th>\n",
       "    </tr>\n",
       "  </thead>\n",
       "  <tbody>\n",
       "    <tr>\n",
       "      <th>word</th>\n",
       "      <td>stock</td>\n",
       "      <td>scheme</td>\n",
       "      <td>annuity</td>\n",
       "      <td>auto</td>\n",
       "      <td>agent</td>\n",
       "      <td>platform</td>\n",
       "      <td>pension</td>\n",
       "      <td>rating</td>\n",
       "      <td>bank</td>\n",
       "      <td>fee</td>\n",
       "      <td>transcript</td>\n",
       "      <td>security</td>\n",
       "      <td>player</td>\n",
       "      <td>respect</td>\n",
       "      <td>investor</td>\n",
       "      <td>weather</td>\n",
       "      <td>guarantee</td>\n",
       "      <td>government</td>\n",
       "      <td>projection</td>\n",
       "      <td>size</td>\n",
       "      <td>competitor</td>\n",
       "      <td>competition</td>\n",
       "      <td>charge</td>\n",
       "      <td>channel</td>\n",
       "      <td>capacity</td>\n",
       "      <td>protection</td>\n",
       "      <td>operation</td>\n",
       "      <td>datum</td>\n",
       "      <td>space</td>\n",
       "      <td>structure</td>\n",
       "      <td>problem</td>\n",
       "      <td>option</td>\n",
       "      <td>relationship</td>\n",
       "      <td>requirement</td>\n",
       "      <td>motor</td>\n",
       "      <td>measure</td>\n",
       "      <td>idea</td>\n",
       "      <td>employee</td>\n",
       "      <td>capability</td>\n",
       "      <td>adtage</td>\n",
       "    </tr>\n",
       "    <tr>\n",
       "      <th>prob</th>\n",
       "      <td>0.007333</td>\n",
       "      <td>0.005</td>\n",
       "      <td>0.00475</td>\n",
       "      <td>0.004</td>\n",
       "      <td>0.004</td>\n",
       "      <td>0.003667</td>\n",
       "      <td>0.003667</td>\n",
       "      <td>0.0035</td>\n",
       "      <td>0.0032</td>\n",
       "      <td>0.003</td>\n",
       "      <td>0.003</td>\n",
       "      <td>0.003</td>\n",
       "      <td>0.003</td>\n",
       "      <td>0.003</td>\n",
       "      <td>0.003</td>\n",
       "      <td>0.003</td>\n",
       "      <td>0.003</td>\n",
       "      <td>0.003</td>\n",
       "      <td>0.003</td>\n",
       "      <td>0.003</td>\n",
       "      <td>0.003</td>\n",
       "      <td>0.003</td>\n",
       "      <td>0.003</td>\n",
       "      <td>0.003</td>\n",
       "      <td>0.003</td>\n",
       "      <td>0.003</td>\n",
       "      <td>0.00275</td>\n",
       "      <td>0.00275</td>\n",
       "      <td>0.0025</td>\n",
       "      <td>0.0025</td>\n",
       "      <td>0.002</td>\n",
       "      <td>0.002</td>\n",
       "      <td>0.002</td>\n",
       "      <td>0.002</td>\n",
       "      <td>0.002</td>\n",
       "      <td>0.002</td>\n",
       "      <td>0.002</td>\n",
       "      <td>0.002</td>\n",
       "      <td>0.002</td>\n",
       "      <td>0.002</td>\n",
       "    </tr>\n",
       "  </tbody>\n",
       "</table>\n",
       "</div>"
      ],
      "text/plain": [
       "            36      32       2      3      1         23        22      28  \\\n",
       "word     stock  scheme  annuity   auto  agent  platform   pension  rating   \n",
       "prob  0.007333   0.005  0.00475  0.004  0.004  0.003667  0.003667  0.0035   \n",
       "\n",
       "          4      13          38        33      24       31        17       39  \\\n",
       "word    bank    fee  transcript  security  player  respect  investor  weather   \n",
       "prob  0.0032  0.003       0.003     0.003   0.003    0.003     0.003    0.003   \n",
       "\n",
       "             15          14          26     34          10           9   \\\n",
       "word  guarantee  government  projection   size  competitor  competition   \n",
       "prob      0.003       0.003       0.003  0.003       0.003        0.003   \n",
       "\n",
       "          8        7         6           27         20       11      35  \\\n",
       "word  charge  channel  capacity  protection  operation    datum   space   \n",
       "prob   0.003    0.003     0.003       0.003    0.00275  0.00275  0.0025   \n",
       "\n",
       "             37       25      21            29           30     19       18  \\\n",
       "word  structure  problem  option  relationship  requirement  motor  measure   \n",
       "prob     0.0025    0.002   0.002         0.002        0.002  0.002    0.002   \n",
       "\n",
       "         16        12          5       0   \n",
       "word   idea  employee  capability  adtage  \n",
       "prob  0.002     0.002       0.002   0.002  "
      ]
     },
     "execution_count": 26,
     "metadata": {},
     "output_type": "execute_result"
    }
   ],
   "source": [
    "# concat\n",
    "topic_all_early = pd.concat([topic_1_concate, topic_3_concate, topic_4_concate, topic_5_concat, topic_7_concat, topic_8_concate], ignore_index=True)\n",
    "# groupby word and get the average of prob\n",
    "topic_all_early = topic_all_early.groupby(['word'])['prob'].mean().reset_index()\n",
    "# sort by prob\n",
    "topic_all_early.sort_values(by='prob', ascending=False, inplace=True)\n",
    "topic_all_early.T"
   ]
  },
  {
   "cell_type": "markdown",
   "metadata": {},
   "source": [
    "# Middle Time"
   ]
  },
  {
   "cell_type": "code",
   "execution_count": 39,
   "metadata": {},
   "outputs": [
    {
     "data": {
      "application/vnd.plotly.v1+json": {
       "config": {
        "plotlyServerURL": "https://plot.ly"
       },
       "data": [
        {
         "hovertemplate": "variable=topic_1<br>timepoint=%{x}<br>value=%{y}<extra></extra>",
         "legendgroup": "topic_1",
         "line": {
          "color": "#636efa",
          "dash": "solid"
         },
         "marker": {
          "symbol": "circle"
         },
         "mode": "lines",
         "name": "topic_1",
         "orientation": "v",
         "showlegend": true,
         "type": "scatter",
         "x": [
          16,
          17,
          18,
          19,
          20,
          21,
          22,
          23,
          24,
          25,
          26,
          27,
          28,
          29,
          30
         ],
         "xaxis": "x",
         "y": [
          0.0007642628042958677,
          0.0011300873011350632,
          0.0010455036535859108,
          0.9958539605140686,
          0.0004441568744368851,
          0.00024502770975232124,
          0.00037333444925025105,
          0.00034101452911272645,
          0.0005248950328677893,
          0.0003031752130482346,
          0.00023269274970516562,
          0.0001452983560739085,
          0.00024160539032891393,
          0.00027916222461499274,
          0.0003961306356359273
         ],
         "yaxis": "y"
        },
        {
         "hovertemplate": "variable=topic_3<br>timepoint=%{x}<br>value=%{y}<extra></extra>",
         "legendgroup": "topic_3",
         "line": {
          "color": "#EF553B",
          "dash": "solid"
         },
         "marker": {
          "symbol": "circle"
         },
         "mode": "lines",
         "name": "topic_3",
         "orientation": "v",
         "showlegend": true,
         "type": "scatter",
         "x": [
          16,
          17,
          18,
          19,
          20,
          21,
          22,
          23,
          24,
          25,
          26,
          27,
          28,
          29,
          30
         ],
         "xaxis": "x",
         "y": [
          0.00021344276319723576,
          0.0006810459890402853,
          0.0006993104470893741,
          0.0006185390520840883,
          0.0001699859567452222,
          0.00030479056295007467,
          0.00037333444925025105,
          0.000396918534534052,
          0.9973639249801636,
          0.9980912208557129,
          0.0006867274059914052,
          0.0001452983560739085,
          0.0004310998192522675,
          0.0006876923725940287,
          0.0005428456934168935
         ],
         "yaxis": "y"
        },
        {
         "hovertemplate": "variable=topic_4<br>timepoint=%{x}<br>value=%{y}<extra></extra>",
         "legendgroup": "topic_4",
         "line": {
          "color": "#00cc96",
          "dash": "solid"
         },
         "marker": {
          "symbol": "circle"
         },
         "mode": "lines",
         "name": "topic_4",
         "orientation": "v",
         "showlegend": true,
         "type": "scatter",
         "x": [
          16,
          17,
          18,
          19,
          20,
          21,
          22,
          23,
          24,
          25,
          26,
          27,
          28,
          29,
          30
         ],
         "xaxis": "x",
         "y": [
          0.9965091347694397,
          0.0018036492401733994,
          0.0010455036535859108,
          0.0006185390520840883,
          0.0007183277630247176,
          0.0010219449177384377,
          0.9979124069213867,
          0.9984514117240906,
          0.0006402565632015467,
          0.00013237226812634617,
          0.000062429768149741,
          0.00010985972767230123,
          0.00019423177582211792,
          0.0004834272840525955,
          0.00010270052734995261
         ],
         "yaxis": "y"
        },
        {
         "hovertemplate": "variable=topic_5<br>timepoint=%{x}<br>value=%{y}<extra></extra>",
         "legendgroup": "topic_5",
         "line": {
          "color": "#ab63fa",
          "dash": "solid"
         },
         "marker": {
          "symbol": "circle"
         },
         "mode": "lines",
         "name": "topic_5",
         "orientation": "v",
         "showlegend": true,
         "type": "scatter",
         "x": [
          16,
          17,
          18,
          19,
          20,
          21,
          22,
          23,
          24,
          25,
          26,
          27,
          28,
          29,
          30
         ],
         "xaxis": "x",
         "y": [
          0.0008331153658218682,
          0.0012049275683239102,
          0.9935123324394226,
          0.0004960561054758728,
          0.0001699859567452222,
          0.0010219449177384377,
          0.00021558748267125338,
          0.00006149442197056487,
          0.00029417191399261355,
          0.0005166789051145315,
          0.000062429768149741,
          0.00007442110654665157,
          0.00028897897573187947,
          0.0005515156663022935,
          0.0005428456934168935
         ],
         "yaxis": "y"
        },
        {
         "hovertemplate": "variable=topic_7<br>timepoint=%{x}<br>value=%{y}<extra></extra>",
         "legendgroup": "topic_7",
         "line": {
          "color": "#FFA15A",
          "dash": "solid"
         },
         "marker": {
          "symbol": "circle"
         },
         "mode": "lines",
         "name": "topic_7",
         "orientation": "v",
         "showlegend": true,
         "type": "scatter",
         "x": [
          16,
          17,
          18,
          19,
          20,
          21,
          22,
          23,
          24,
          25,
          26,
          27,
          28,
          29,
          30
         ],
         "xaxis": "x",
         "y": [
          0.00042000028770416975,
          0.00157912855502218,
          0.0010455036535859108,
          0.0004960561054758728,
          0.9976036548614502,
          0.0011414706241339445,
          0.0002681697951629758,
          0.00022920648916624486,
          0.00029417191399261355,
          0.0003031752130482346,
          0.9983710646629333,
          0.9991600513458252,
          0.0010943303350359201,
          0.9958670139312744,
          0.9975693821907043
         ],
         "yaxis": "y"
        },
        {
         "hovertemplate": "variable=topic_8<br>timepoint=%{x}<br>value=%{y}<extra></extra>",
         "legendgroup": "topic_8",
         "line": {
          "color": "#19d3f3",
          "dash": "solid"
         },
         "marker": {
          "symbol": "circle"
         },
         "mode": "lines",
         "name": "topic_8",
         "orientation": "v",
         "showlegend": true,
         "type": "scatter",
         "x": [
          16,
          17,
          18,
          19,
          20,
          21,
          22,
          23,
          24,
          25,
          26,
          27,
          28,
          29,
          30
         ],
         "xaxis": "x",
         "y": [
          0.0005577052943408489,
          0.0009804068831726909,
          0.0013916969764977694,
          0.0004960561054758728,
          0.0003344884898979217,
          0.00030479056295007467,
          0.0002681697951629758,
          0.00011739844194380566,
          0.0005248950328677893,
          0.0002604744804557413,
          0.0004029557458125055,
          0.00018073696992360055,
          0.9975507259368896,
          0.0010281341383233666,
          0.00015160553448367864
         ],
         "yaxis": "y"
        }
       ],
       "layout": {
        "legend": {
         "title": {
          "text": "variable"
         },
         "tracegroupgap": 0
        },
        "template": {
         "data": {
          "bar": [
           {
            "error_x": {
             "color": "#2a3f5f"
            },
            "error_y": {
             "color": "#2a3f5f"
            },
            "marker": {
             "line": {
              "color": "#E5ECF6",
              "width": 0.5
             },
             "pattern": {
              "fillmode": "overlay",
              "size": 10,
              "solidity": 0.2
             }
            },
            "type": "bar"
           }
          ],
          "barpolar": [
           {
            "marker": {
             "line": {
              "color": "#E5ECF6",
              "width": 0.5
             },
             "pattern": {
              "fillmode": "overlay",
              "size": 10,
              "solidity": 0.2
             }
            },
            "type": "barpolar"
           }
          ],
          "carpet": [
           {
            "aaxis": {
             "endlinecolor": "#2a3f5f",
             "gridcolor": "white",
             "linecolor": "white",
             "minorgridcolor": "white",
             "startlinecolor": "#2a3f5f"
            },
            "baxis": {
             "endlinecolor": "#2a3f5f",
             "gridcolor": "white",
             "linecolor": "white",
             "minorgridcolor": "white",
             "startlinecolor": "#2a3f5f"
            },
            "type": "carpet"
           }
          ],
          "choropleth": [
           {
            "colorbar": {
             "outlinewidth": 0,
             "ticks": ""
            },
            "type": "choropleth"
           }
          ],
          "contour": [
           {
            "colorbar": {
             "outlinewidth": 0,
             "ticks": ""
            },
            "colorscale": [
             [
              0,
              "#0d0887"
             ],
             [
              0.1111111111111111,
              "#46039f"
             ],
             [
              0.2222222222222222,
              "#7201a8"
             ],
             [
              0.3333333333333333,
              "#9c179e"
             ],
             [
              0.4444444444444444,
              "#bd3786"
             ],
             [
              0.5555555555555556,
              "#d8576b"
             ],
             [
              0.6666666666666666,
              "#ed7953"
             ],
             [
              0.7777777777777778,
              "#fb9f3a"
             ],
             [
              0.8888888888888888,
              "#fdca26"
             ],
             [
              1,
              "#f0f921"
             ]
            ],
            "type": "contour"
           }
          ],
          "contourcarpet": [
           {
            "colorbar": {
             "outlinewidth": 0,
             "ticks": ""
            },
            "type": "contourcarpet"
           }
          ],
          "heatmap": [
           {
            "colorbar": {
             "outlinewidth": 0,
             "ticks": ""
            },
            "colorscale": [
             [
              0,
              "#0d0887"
             ],
             [
              0.1111111111111111,
              "#46039f"
             ],
             [
              0.2222222222222222,
              "#7201a8"
             ],
             [
              0.3333333333333333,
              "#9c179e"
             ],
             [
              0.4444444444444444,
              "#bd3786"
             ],
             [
              0.5555555555555556,
              "#d8576b"
             ],
             [
              0.6666666666666666,
              "#ed7953"
             ],
             [
              0.7777777777777778,
              "#fb9f3a"
             ],
             [
              0.8888888888888888,
              "#fdca26"
             ],
             [
              1,
              "#f0f921"
             ]
            ],
            "type": "heatmap"
           }
          ],
          "heatmapgl": [
           {
            "colorbar": {
             "outlinewidth": 0,
             "ticks": ""
            },
            "colorscale": [
             [
              0,
              "#0d0887"
             ],
             [
              0.1111111111111111,
              "#46039f"
             ],
             [
              0.2222222222222222,
              "#7201a8"
             ],
             [
              0.3333333333333333,
              "#9c179e"
             ],
             [
              0.4444444444444444,
              "#bd3786"
             ],
             [
              0.5555555555555556,
              "#d8576b"
             ],
             [
              0.6666666666666666,
              "#ed7953"
             ],
             [
              0.7777777777777778,
              "#fb9f3a"
             ],
             [
              0.8888888888888888,
              "#fdca26"
             ],
             [
              1,
              "#f0f921"
             ]
            ],
            "type": "heatmapgl"
           }
          ],
          "histogram": [
           {
            "marker": {
             "pattern": {
              "fillmode": "overlay",
              "size": 10,
              "solidity": 0.2
             }
            },
            "type": "histogram"
           }
          ],
          "histogram2d": [
           {
            "colorbar": {
             "outlinewidth": 0,
             "ticks": ""
            },
            "colorscale": [
             [
              0,
              "#0d0887"
             ],
             [
              0.1111111111111111,
              "#46039f"
             ],
             [
              0.2222222222222222,
              "#7201a8"
             ],
             [
              0.3333333333333333,
              "#9c179e"
             ],
             [
              0.4444444444444444,
              "#bd3786"
             ],
             [
              0.5555555555555556,
              "#d8576b"
             ],
             [
              0.6666666666666666,
              "#ed7953"
             ],
             [
              0.7777777777777778,
              "#fb9f3a"
             ],
             [
              0.8888888888888888,
              "#fdca26"
             ],
             [
              1,
              "#f0f921"
             ]
            ],
            "type": "histogram2d"
           }
          ],
          "histogram2dcontour": [
           {
            "colorbar": {
             "outlinewidth": 0,
             "ticks": ""
            },
            "colorscale": [
             [
              0,
              "#0d0887"
             ],
             [
              0.1111111111111111,
              "#46039f"
             ],
             [
              0.2222222222222222,
              "#7201a8"
             ],
             [
              0.3333333333333333,
              "#9c179e"
             ],
             [
              0.4444444444444444,
              "#bd3786"
             ],
             [
              0.5555555555555556,
              "#d8576b"
             ],
             [
              0.6666666666666666,
              "#ed7953"
             ],
             [
              0.7777777777777778,
              "#fb9f3a"
             ],
             [
              0.8888888888888888,
              "#fdca26"
             ],
             [
              1,
              "#f0f921"
             ]
            ],
            "type": "histogram2dcontour"
           }
          ],
          "mesh3d": [
           {
            "colorbar": {
             "outlinewidth": 0,
             "ticks": ""
            },
            "type": "mesh3d"
           }
          ],
          "parcoords": [
           {
            "line": {
             "colorbar": {
              "outlinewidth": 0,
              "ticks": ""
             }
            },
            "type": "parcoords"
           }
          ],
          "pie": [
           {
            "automargin": true,
            "type": "pie"
           }
          ],
          "scatter": [
           {
            "fillpattern": {
             "fillmode": "overlay",
             "size": 10,
             "solidity": 0.2
            },
            "type": "scatter"
           }
          ],
          "scatter3d": [
           {
            "line": {
             "colorbar": {
              "outlinewidth": 0,
              "ticks": ""
             }
            },
            "marker": {
             "colorbar": {
              "outlinewidth": 0,
              "ticks": ""
             }
            },
            "type": "scatter3d"
           }
          ],
          "scattercarpet": [
           {
            "marker": {
             "colorbar": {
              "outlinewidth": 0,
              "ticks": ""
             }
            },
            "type": "scattercarpet"
           }
          ],
          "scattergeo": [
           {
            "marker": {
             "colorbar": {
              "outlinewidth": 0,
              "ticks": ""
             }
            },
            "type": "scattergeo"
           }
          ],
          "scattergl": [
           {
            "marker": {
             "colorbar": {
              "outlinewidth": 0,
              "ticks": ""
             }
            },
            "type": "scattergl"
           }
          ],
          "scattermapbox": [
           {
            "marker": {
             "colorbar": {
              "outlinewidth": 0,
              "ticks": ""
             }
            },
            "type": "scattermapbox"
           }
          ],
          "scatterpolar": [
           {
            "marker": {
             "colorbar": {
              "outlinewidth": 0,
              "ticks": ""
             }
            },
            "type": "scatterpolar"
           }
          ],
          "scatterpolargl": [
           {
            "marker": {
             "colorbar": {
              "outlinewidth": 0,
              "ticks": ""
             }
            },
            "type": "scatterpolargl"
           }
          ],
          "scatterternary": [
           {
            "marker": {
             "colorbar": {
              "outlinewidth": 0,
              "ticks": ""
             }
            },
            "type": "scatterternary"
           }
          ],
          "surface": [
           {
            "colorbar": {
             "outlinewidth": 0,
             "ticks": ""
            },
            "colorscale": [
             [
              0,
              "#0d0887"
             ],
             [
              0.1111111111111111,
              "#46039f"
             ],
             [
              0.2222222222222222,
              "#7201a8"
             ],
             [
              0.3333333333333333,
              "#9c179e"
             ],
             [
              0.4444444444444444,
              "#bd3786"
             ],
             [
              0.5555555555555556,
              "#d8576b"
             ],
             [
              0.6666666666666666,
              "#ed7953"
             ],
             [
              0.7777777777777778,
              "#fb9f3a"
             ],
             [
              0.8888888888888888,
              "#fdca26"
             ],
             [
              1,
              "#f0f921"
             ]
            ],
            "type": "surface"
           }
          ],
          "table": [
           {
            "cells": {
             "fill": {
              "color": "#EBF0F8"
             },
             "line": {
              "color": "white"
             }
            },
            "header": {
             "fill": {
              "color": "#C8D4E3"
             },
             "line": {
              "color": "white"
             }
            },
            "type": "table"
           }
          ]
         },
         "layout": {
          "annotationdefaults": {
           "arrowcolor": "#2a3f5f",
           "arrowhead": 0,
           "arrowwidth": 1
          },
          "autotypenumbers": "strict",
          "coloraxis": {
           "colorbar": {
            "outlinewidth": 0,
            "ticks": ""
           }
          },
          "colorscale": {
           "diverging": [
            [
             0,
             "#8e0152"
            ],
            [
             0.1,
             "#c51b7d"
            ],
            [
             0.2,
             "#de77ae"
            ],
            [
             0.3,
             "#f1b6da"
            ],
            [
             0.4,
             "#fde0ef"
            ],
            [
             0.5,
             "#f7f7f7"
            ],
            [
             0.6,
             "#e6f5d0"
            ],
            [
             0.7,
             "#b8e186"
            ],
            [
             0.8,
             "#7fbc41"
            ],
            [
             0.9,
             "#4d9221"
            ],
            [
             1,
             "#276419"
            ]
           ],
           "sequential": [
            [
             0,
             "#0d0887"
            ],
            [
             0.1111111111111111,
             "#46039f"
            ],
            [
             0.2222222222222222,
             "#7201a8"
            ],
            [
             0.3333333333333333,
             "#9c179e"
            ],
            [
             0.4444444444444444,
             "#bd3786"
            ],
            [
             0.5555555555555556,
             "#d8576b"
            ],
            [
             0.6666666666666666,
             "#ed7953"
            ],
            [
             0.7777777777777778,
             "#fb9f3a"
            ],
            [
             0.8888888888888888,
             "#fdca26"
            ],
            [
             1,
             "#f0f921"
            ]
           ],
           "sequentialminus": [
            [
             0,
             "#0d0887"
            ],
            [
             0.1111111111111111,
             "#46039f"
            ],
            [
             0.2222222222222222,
             "#7201a8"
            ],
            [
             0.3333333333333333,
             "#9c179e"
            ],
            [
             0.4444444444444444,
             "#bd3786"
            ],
            [
             0.5555555555555556,
             "#d8576b"
            ],
            [
             0.6666666666666666,
             "#ed7953"
            ],
            [
             0.7777777777777778,
             "#fb9f3a"
            ],
            [
             0.8888888888888888,
             "#fdca26"
            ],
            [
             1,
             "#f0f921"
            ]
           ]
          },
          "colorway": [
           "#636efa",
           "#EF553B",
           "#00cc96",
           "#ab63fa",
           "#FFA15A",
           "#19d3f3",
           "#FF6692",
           "#B6E880",
           "#FF97FF",
           "#FECB52"
          ],
          "font": {
           "color": "#2a3f5f"
          },
          "geo": {
           "bgcolor": "white",
           "lakecolor": "white",
           "landcolor": "#E5ECF6",
           "showlakes": true,
           "showland": true,
           "subunitcolor": "white"
          },
          "hoverlabel": {
           "align": "left"
          },
          "hovermode": "closest",
          "mapbox": {
           "style": "light"
          },
          "paper_bgcolor": "white",
          "plot_bgcolor": "#E5ECF6",
          "polar": {
           "angularaxis": {
            "gridcolor": "white",
            "linecolor": "white",
            "ticks": ""
           },
           "bgcolor": "#E5ECF6",
           "radialaxis": {
            "gridcolor": "white",
            "linecolor": "white",
            "ticks": ""
           }
          },
          "scene": {
           "xaxis": {
            "backgroundcolor": "#E5ECF6",
            "gridcolor": "white",
            "gridwidth": 2,
            "linecolor": "white",
            "showbackground": true,
            "ticks": "",
            "zerolinecolor": "white"
           },
           "yaxis": {
            "backgroundcolor": "#E5ECF6",
            "gridcolor": "white",
            "gridwidth": 2,
            "linecolor": "white",
            "showbackground": true,
            "ticks": "",
            "zerolinecolor": "white"
           },
           "zaxis": {
            "backgroundcolor": "#E5ECF6",
            "gridcolor": "white",
            "gridwidth": 2,
            "linecolor": "white",
            "showbackground": true,
            "ticks": "",
            "zerolinecolor": "white"
           }
          },
          "shapedefaults": {
           "line": {
            "color": "#2a3f5f"
           }
          },
          "ternary": {
           "aaxis": {
            "gridcolor": "white",
            "linecolor": "white",
            "ticks": ""
           },
           "baxis": {
            "gridcolor": "white",
            "linecolor": "white",
            "ticks": ""
           },
           "bgcolor": "#E5ECF6",
           "caxis": {
            "gridcolor": "white",
            "linecolor": "white",
            "ticks": ""
           }
          },
          "title": {
           "x": 0.05
          },
          "xaxis": {
           "automargin": true,
           "gridcolor": "white",
           "linecolor": "white",
           "ticks": "",
           "title": {
            "standoff": 15
           },
           "zerolinecolor": "white",
           "zerolinewidth": 2
          },
          "yaxis": {
           "automargin": true,
           "gridcolor": "white",
           "linecolor": "white",
           "ticks": "",
           "title": {
            "standoff": 15
           },
           "zerolinecolor": "white",
           "zerolinewidth": 2
          }
         }
        },
        "title": {
         "text": "Middle Time Period Common Topics"
        },
        "xaxis": {
         "anchor": "y",
         "domain": [
          0,
          1
         ],
         "dtick": "M1",
         "tickformat": "%b %d",
         "ticklabelmode": "period",
         "title": {
          "text": "timepoint"
         }
        },
        "yaxis": {
         "anchor": "x",
         "domain": [
          0,
          1
         ],
         "title": {
          "text": "value"
         }
        }
       }
      }
     },
     "metadata": {},
     "output_type": "display_data"
    }
   ],
   "source": [
    "td = pd.DataFrame()\n",
    "for timepoint in range(best_mdl.num_timepoints):\n",
    "    td_tmp = pd.DataFrame(\n",
    "        np.stack([doc.get_topic_dist() for doc in best_mdl.docs if doc.timepoint == timepoint]),\n",
    "        columns=[\"topic_{}\".format(i + 1) for i in range(best_mdl.k)],\n",
    "    )\n",
    "    td_tmp[\"timepoint\"] = timepoint\n",
    "    td = pd.concat([td, td_tmp], ignore_index=True)\n",
    "    del td_tmp\n",
    "\n",
    "td_middle = td[td['timepoint']>15]\n",
    "td_middle = td_middle[td_middle['timepoint']<=30]\n",
    "\n",
    "import plotly.express as px\n",
    "fig = px.line(td_middle, x=\"timepoint\", y=['topic_1', 'topic_3', 'topic_4', 'topic_5', 'topic_7', 'topic_8'],\n",
    "            #   hover_data={\"timepoint\": \"|%B %d, %Y\"},\n",
    "              title='Middle Time Period Common Topics')\n",
    "fig.update_xaxes(\n",
    "    dtick=\"M1\",\n",
    "    tickformat=\"%b %d\",\n",
    "    ticklabelmode=\"period\")\n",
    "fig.show()"
   ]
  },
  {
   "cell_type": "code",
   "execution_count": 35,
   "metadata": {},
   "outputs": [],
   "source": [
    "# - 1 > timep 19\n",
    "# - 3 > timep 24, 25\n",
    "# - 4 > timep 16, 22, 23\n",
    "# - 5 > timep 18\n",
    "# - 7 > timep 20, 26, 27, 29, 30\n",
    "# - 8 > timep 28\n",
    "\n",
    "# topic_1\n",
    "topic_1 = wt[wt['k']==0] # start with 0\n",
    "# select timepoint\n",
    "topic_1_19 = topic_1[topic_1['timepoint']==19]\n",
    "# concat\n",
    "topic_1_concate = topic_1_19.copy()\n",
    "topic_1_concate.sort_values(by='prob', ascending=False, inplace=True)\n",
    "\n",
    "# topic_3\n",
    "topic_3= wt[wt['k']==2] # start with 0\n",
    "# select timepoint\n",
    "topic_3_24 = topic_3[topic_3['timepoint']==24]\n",
    "topic_3_25 = topic_3[topic_3['timepoint']==25]\n",
    "# concat \n",
    "topic_3_concat = pd.concat([topic_3_24, topic_3_25], ignore_index=True)\n",
    "topic_3_concat.sort_values(by='prob', ascending=False, inplace=True)\n",
    "\n",
    "# topic_4\n",
    "topic_4= wt[wt['k']==3] # start with 0\n",
    "# select timepoint\n",
    "topic_4_16 = topic_4[topic_4['timepoint']==16]\n",
    "topic_4_22 = topic_4[topic_4['timepoint']==22]\n",
    "topic_4_23 = topic_4[topic_4['timepoint']==23]\n",
    "# concat \n",
    "topic_4_concat = pd.concat([topic_4_16, topic_4_22, topic_4_23], ignore_index=True)\n",
    "topic_4_concat.sort_values(by='prob', ascending=False, inplace=True)\n",
    "\n",
    "# topic_5\n",
    "topic_5 = wt[wt['k']==4] # start with 0\n",
    "# select timepoint\n",
    "topic_5_18 = topic_5[topic_5['timepoint']==18]\n",
    "# concat\n",
    "topic_5_concate = topic_5_18.copy()\n",
    "topic_5_concate.sort_values(by='prob', ascending=False, inplace=True)\n",
    "\n",
    "# topic_7\n",
    "topic_7= wt[wt['k']==6] # start with 0\n",
    "# select timepoint\n",
    "topic_7_20 = topic_7[topic_7['timepoint']==20]\n",
    "topic_7_26 = topic_7[topic_7['timepoint']==26]\n",
    "topic_7_27 = topic_7[topic_7['timepoint']==27]\n",
    "topic_7_29 = topic_7[topic_7['timepoint']==29]\n",
    "topic_7_30 = topic_7[topic_7['timepoint']==30]\n",
    "# concat \n",
    "topic_7_concat = pd.concat([topic_7_20, topic_7_26, topic_7_27, topic_7_29, topic_7_30], ignore_index=True)\n",
    "topic_7_concat.sort_values(by='prob', ascending=False, inplace=True)\n",
    "\n",
    "# topic_8\n",
    "topic_8 = wt[wt['k']==7] # start with 0\n",
    "# select timepoint\n",
    "topic_8_28 = topic_8[topic_8['timepoint']==28]\n",
    "# concat\n",
    "topic_8_concate = topic_8_28.copy()\n",
    "topic_8_concate.sort_values(by='prob', ascending=False, inplace=True)"
   ]
  },
  {
   "cell_type": "code",
   "execution_count": 36,
   "metadata": {},
   "outputs": [
    {
     "data": {
      "text/html": [
       "<div>\n",
       "<style scoped>\n",
       "    .dataframe tbody tr th:only-of-type {\n",
       "        vertical-align: middle;\n",
       "    }\n",
       "\n",
       "    .dataframe tbody tr th {\n",
       "        vertical-align: top;\n",
       "    }\n",
       "\n",
       "    .dataframe thead th {\n",
       "        text-align: right;\n",
       "    }\n",
       "</style>\n",
       "<table border=\"1\" class=\"dataframe\">\n",
       "  <thead>\n",
       "    <tr style=\"text-align: right;\">\n",
       "      <th></th>\n",
       "      <th>47</th>\n",
       "      <th>36</th>\n",
       "      <th>24</th>\n",
       "      <th>28</th>\n",
       "      <th>49</th>\n",
       "      <th>10</th>\n",
       "      <th>32</th>\n",
       "      <th>58</th>\n",
       "      <th>50</th>\n",
       "      <th>60</th>\n",
       "      <th>20</th>\n",
       "      <th>54</th>\n",
       "      <th>8</th>\n",
       "      <th>6</th>\n",
       "      <th>61</th>\n",
       "      <th>52</th>\n",
       "      <th>35</th>\n",
       "      <th>41</th>\n",
       "      <th>1</th>\n",
       "      <th>33</th>\n",
       "      <th>53</th>\n",
       "      <th>55</th>\n",
       "      <th>37</th>\n",
       "      <th>9</th>\n",
       "      <th>7</th>\n",
       "      <th>4</th>\n",
       "      <th>3</th>\n",
       "      <th>59</th>\n",
       "      <th>2</th>\n",
       "      <th>16</th>\n",
       "      <th>43</th>\n",
       "      <th>44</th>\n",
       "      <th>0</th>\n",
       "      <th>45</th>\n",
       "      <th>46</th>\n",
       "      <th>48</th>\n",
       "      <th>51</th>\n",
       "      <th>56</th>\n",
       "      <th>57</th>\n",
       "      <th>42</th>\n",
       "      <th>31</th>\n",
       "      <th>40</th>\n",
       "      <th>39</th>\n",
       "      <th>5</th>\n",
       "      <th>11</th>\n",
       "      <th>12</th>\n",
       "      <th>13</th>\n",
       "      <th>14</th>\n",
       "      <th>15</th>\n",
       "      <th>17</th>\n",
       "      <th>18</th>\n",
       "      <th>19</th>\n",
       "      <th>21</th>\n",
       "      <th>22</th>\n",
       "      <th>23</th>\n",
       "      <th>25</th>\n",
       "      <th>26</th>\n",
       "      <th>29</th>\n",
       "      <th>38</th>\n",
       "      <th>62</th>\n",
       "      <th>27</th>\n",
       "      <th>30</th>\n",
       "      <th>34</th>\n",
       "    </tr>\n",
       "  </thead>\n",
       "  <tbody>\n",
       "    <tr>\n",
       "      <th>word</th>\n",
       "      <td>rule</td>\n",
       "      <td>platform</td>\n",
       "      <td>inflation</td>\n",
       "      <td>meeting</td>\n",
       "      <td>sensitivity</td>\n",
       "      <td>car</td>\n",
       "      <td>motor</td>\n",
       "      <td>technology</td>\n",
       "      <td>service</td>\n",
       "      <td>unwriter</td>\n",
       "      <td>fee</td>\n",
       "      <td>state</td>\n",
       "      <td>capability</td>\n",
       "      <td>board</td>\n",
       "      <td>vote</td>\n",
       "      <td>solution</td>\n",
       "      <td>pension</td>\n",
       "      <td>regard</td>\n",
       "      <td>agent</td>\n",
       "      <td>operation</td>\n",
       "      <td>spread</td>\n",
       "      <td>stock</td>\n",
       "      <td>pner</td>\n",
       "      <td>capacity</td>\n",
       "      <td>buyback</td>\n",
       "      <td>bank</td>\n",
       "      <td>auto</td>\n",
       "      <td>transcript</td>\n",
       "      <td>annuity</td>\n",
       "      <td>datum</td>\n",
       "      <td>relationship</td>\n",
       "      <td>remittance</td>\n",
       "      <td>adjustment</td>\n",
       "      <td>report</td>\n",
       "      <td>requirement</td>\n",
       "      <td>scale</td>\n",
       "      <td>size</td>\n",
       "      <td>structure</td>\n",
       "      <td>synergy</td>\n",
       "      <td>regulator</td>\n",
       "      <td>mortgage</td>\n",
       "      <td>quality</td>\n",
       "      <td>proﬁt</td>\n",
       "      <td>bb</td>\n",
       "      <td>casualty</td>\n",
       "      <td>competitor</td>\n",
       "      <td>condition</td>\n",
       "      <td>contract</td>\n",
       "      <td>contribution</td>\n",
       "      <td>duration</td>\n",
       "      <td>energy</td>\n",
       "      <td>entity</td>\n",
       "      <td>frequency</td>\n",
       "      <td>guarantee</td>\n",
       "      <td>hand</td>\n",
       "      <td>investor</td>\n",
       "      <td>item</td>\n",
       "      <td>member</td>\n",
       "      <td>protection</td>\n",
       "      <td>weather</td>\n",
       "      <td>marketplace</td>\n",
       "      <td>mortality</td>\n",
       "      <td>opinion</td>\n",
       "    </tr>\n",
       "    <tr>\n",
       "      <th>prob</th>\n",
       "      <td>0.007</td>\n",
       "      <td>0.0055</td>\n",
       "      <td>0.005333</td>\n",
       "      <td>0.005</td>\n",
       "      <td>0.004167</td>\n",
       "      <td>0.004</td>\n",
       "      <td>0.004</td>\n",
       "      <td>0.004</td>\n",
       "      <td>0.004</td>\n",
       "      <td>0.004</td>\n",
       "      <td>0.004</td>\n",
       "      <td>0.004</td>\n",
       "      <td>0.004</td>\n",
       "      <td>0.004</td>\n",
       "      <td>0.004</td>\n",
       "      <td>0.003667</td>\n",
       "      <td>0.003667</td>\n",
       "      <td>0.003667</td>\n",
       "      <td>0.003667</td>\n",
       "      <td>0.0036</td>\n",
       "      <td>0.0035</td>\n",
       "      <td>0.0035</td>\n",
       "      <td>0.0035</td>\n",
       "      <td>0.0035</td>\n",
       "      <td>0.0035</td>\n",
       "      <td>0.0035</td>\n",
       "      <td>0.003333</td>\n",
       "      <td>0.003273</td>\n",
       "      <td>0.00325</td>\n",
       "      <td>0.003</td>\n",
       "      <td>0.003</td>\n",
       "      <td>0.003</td>\n",
       "      <td>0.003</td>\n",
       "      <td>0.003</td>\n",
       "      <td>0.003</td>\n",
       "      <td>0.003</td>\n",
       "      <td>0.003</td>\n",
       "      <td>0.003</td>\n",
       "      <td>0.003</td>\n",
       "      <td>0.003</td>\n",
       "      <td>0.003</td>\n",
       "      <td>0.003</td>\n",
       "      <td>0.003</td>\n",
       "      <td>0.003</td>\n",
       "      <td>0.003</td>\n",
       "      <td>0.003</td>\n",
       "      <td>0.003</td>\n",
       "      <td>0.003</td>\n",
       "      <td>0.003</td>\n",
       "      <td>0.003</td>\n",
       "      <td>0.003</td>\n",
       "      <td>0.003</td>\n",
       "      <td>0.003</td>\n",
       "      <td>0.003</td>\n",
       "      <td>0.003</td>\n",
       "      <td>0.003</td>\n",
       "      <td>0.003</td>\n",
       "      <td>0.003</td>\n",
       "      <td>0.003</td>\n",
       "      <td>0.003</td>\n",
       "      <td>0.002</td>\n",
       "      <td>0.002</td>\n",
       "      <td>0.002</td>\n",
       "    </tr>\n",
       "  </tbody>\n",
       "</table>\n",
       "</div>"
      ],
      "text/plain": [
       "         47        36         24       28           49     10     32  \\\n",
       "word   rule  platform  inflation  meeting  sensitivity    car  motor   \n",
       "prob  0.007    0.0055   0.005333    0.005     0.004167  0.004  0.004   \n",
       "\n",
       "              58       50        60     20     54          8      6      61  \\\n",
       "word  technology  service  unwriter    fee  state  capability  board   vote   \n",
       "prob       0.004    0.004     0.004  0.004  0.004       0.004  0.004  0.004   \n",
       "\n",
       "            52        35        41        1          33      53      55  \\\n",
       "word  solution   pension    regard     agent  operation  spread   stock   \n",
       "prob  0.003667  0.003667  0.003667  0.003667     0.0036  0.0035  0.0035   \n",
       "\n",
       "          37        9        7       4         3           59       2      16  \\\n",
       "word    pner  capacity  buyback    bank      auto  transcript  annuity  datum   \n",
       "prob  0.0035    0.0035   0.0035  0.0035  0.003333    0.003273  0.00325  0.003   \n",
       "\n",
       "                43          44          0       45           46     48     51  \\\n",
       "word  relationship  remittance  adjustment  report  requirement  scale   size   \n",
       "prob         0.003       0.003       0.003   0.003        0.003  0.003  0.003   \n",
       "\n",
       "             56       57         42        31       40     39     5   \\\n",
       "word  structure  synergy  regulator  mortgage  quality  proﬁt     bb   \n",
       "prob      0.003    0.003      0.003     0.003    0.003  0.003  0.003   \n",
       "\n",
       "            11          12         13        14            15        17  \\\n",
       "word  casualty  competitor  condition  contract  contribution  duration   \n",
       "prob     0.003       0.003      0.003     0.003         0.003     0.003   \n",
       "\n",
       "          18      19         21         22     23        25     26      29  \\\n",
       "word  energy  entity  frequency  guarantee   hand  investor   item  member   \n",
       "prob   0.003   0.003      0.003      0.003  0.003     0.003  0.003   0.003   \n",
       "\n",
       "              38       62           27         30       34  \n",
       "word  protection  weather  marketplace  mortality  opinion  \n",
       "prob       0.003    0.003        0.002      0.002    0.002  "
      ]
     },
     "execution_count": 36,
     "metadata": {},
     "output_type": "execute_result"
    }
   ],
   "source": [
    "# concat\n",
    "topic_all_middle = pd.concat([topic_1_concate, topic_3_concat, topic_4_concat, topic_5_concate, topic_7_concat, topic_8_concate], ignore_index=True)\n",
    "# groupby word and get the average of prob\n",
    "topic_all_middle = topic_all_middle.groupby(['word'])['prob'].mean().reset_index()\n",
    "# sort by prob\n",
    "topic_all_middle.sort_values(by='prob', ascending=False, inplace=True)\n",
    "topic_all_middle.T"
   ]
  },
  {
   "cell_type": "markdown",
   "metadata": {},
   "source": [
    "# Recent Time"
   ]
  },
  {
   "cell_type": "code",
   "execution_count": 43,
   "metadata": {},
   "outputs": [
    {
     "data": {
      "application/vnd.plotly.v1+json": {
       "config": {
        "plotlyServerURL": "https://plot.ly"
       },
       "data": [
        {
         "hovertemplate": "variable=topic_1<br>timepoint=%{x}<br>value=%{y}<extra></extra>",
         "legendgroup": "topic_1",
         "line": {
          "color": "#636efa",
          "dash": "solid"
         },
         "marker": {
          "symbol": "circle"
         },
         "mode": "lines",
         "name": "topic_1",
         "orientation": "v",
         "showlegend": true,
         "type": "scatter",
         "x": [
          31,
          32,
          33,
          34,
          35,
          36,
          37,
          38,
          39,
          40,
          41,
          42,
          43,
          44,
          45
         ],
         "xaxis": "x",
         "y": [
          0.00021721722441725433,
          0.0006192956934683025,
          0.9966077208518982,
          0.0006961124017834663,
          0.00070185586810112,
          0.0003955952706746757,
          0.00024519464932382107,
          0.00037950053228996694,
          0.0002180526207666844,
          0.00005154929021955468,
          0.0003089733945671469,
          0.00020341538765933365,
          0.0002109183551510796,
          0.006028143223375082,
          0.13138988614082336
         ],
         "yaxis": "y"
        },
        {
         "hovertemplate": "variable=topic_3<br>timepoint=%{x}<br>value=%{y}<extra></extra>",
         "legendgroup": "topic_3",
         "line": {
          "color": "#EF553B",
          "dash": "solid"
         },
         "marker": {
          "symbol": "circle"
         },
         "mode": "lines",
         "name": "topic_3",
         "orientation": "v",
         "showlegend": true,
         "type": "scatter",
         "x": [
          31,
          32,
          33,
          34,
          35,
          36,
          37,
          38,
          39,
          40,
          41,
          42,
          43,
          44,
          45
         ],
         "xaxis": "x",
         "y": [
          0.9976276159286499,
          0.0002679222379811108,
          0.00014873954933136702,
          0.00011159052519360557,
          0.0004339719598647207,
          0.0003955952706746757,
          0.00024519464932382107,
          0.00048640213208273053,
          0.0002180526207666844,
          0.00009841227438300848,
          0.000916789926122874,
          0.0003522559127304703,
          0.9966201186180115,
          0.013983170501887798,
          0.12724509835243225
         ],
         "yaxis": "y"
        },
        {
         "hovertemplate": "variable=topic_4<br>timepoint=%{x}<br>value=%{y}<extra></extra>",
         "legendgroup": "topic_4",
         "line": {
          "color": "#00cc96",
          "dash": "solid"
         },
         "marker": {
          "symbol": "circle"
         },
         "mode": "lines",
         "name": "topic_4",
         "orientation": "v",
         "showlegend": true,
         "type": "scatter",
         "x": [
          31,
          32,
          33,
          34,
          35,
          36,
          37,
          38,
          39,
          40,
          41,
          42,
          43,
          44,
          45
         ],
         "xaxis": "x",
         "y": [
          0.0003024004399776459,
          0.00022400055604521185,
          0.00043662256211973727,
          0.0005898356903344393,
          0.00021966481290291995,
          0.00033074358361773193,
          0.00029327202355489135,
          0.00016569742001593113,
          0.00005850192246725783,
          0.0001452752621844411,
          0.000562230299692601,
          0.0005010964814573526,
          0.0002109183551510796,
          0.004083580803126097,
          0.11895551532506943
         ],
         "yaxis": "y"
        },
        {
         "hovertemplate": "variable=topic_5<br>timepoint=%{x}<br>value=%{y}<extra></extra>",
         "legendgroup": "topic_5",
         "line": {
          "color": "#ab63fa",
          "dash": "solid"
         },
         "marker": {
          "symbol": "circle"
         },
         "mode": "lines",
         "name": "topic_5",
         "orientation": "v",
         "showlegend": true,
         "type": "scatter",
         "x": [
          31,
          32,
          33,
          34,
          35,
          36,
          37,
          38,
          39,
          40,
          41,
          42,
          43,
          44,
          45
         ],
         "xaxis": "x",
         "y": [
          0.00017462561663705856,
          0.9980366230010986,
          0.0010603690752759576,
          0.9966681599617004,
          0.0028449271339923143,
          0.0005901503609493375,
          0.00014903988630976528,
          0.00011224663467146456,
          0.00005850192246725783,
          0.0001452752621844411,
          0.0003596247697714716,
          0.00030264240922406316,
          0.00015947484644129872,
          0.0042603593319654465,
          0.13691627979278564
         ],
         "yaxis": "y"
        },
        {
         "hovertemplate": "variable=topic_7<br>timepoint=%{x}<br>value=%{y}<extra></extra>",
         "legendgroup": "topic_7",
         "line": {
          "color": "#FFA15A",
          "dash": "solid"
         },
         "marker": {
          "symbol": "circle"
         },
         "mode": "lines",
         "name": "topic_7",
         "orientation": "v",
         "showlegend": true,
         "type": "scatter",
         "x": [
          31,
          32,
          33,
          34,
          35,
          36,
          37,
          38,
          39,
          40,
          41,
          42,
          43,
          44,
          45
         ],
         "xaxis": "x",
         "y": [
          0.000643133360426873,
          0.00022400055604521185,
          0.0004846030496992171,
          0.0005898356903344393,
          0.0010768934153020382,
          0.997425377368927,
          0.9981874227523804,
          0.002891687210649252,
          0.9988458752632141,
          0.998701810836792,
          0.0016259090043604374,
          0.00020341538765933365,
          0.0004166924045421183,
          0.004790694452822208,
          0.0968499556183815
         ],
         "yaxis": "y"
        },
        {
         "hovertemplate": "variable=topic_8<br>timepoint=%{x}<br>value=%{y}<extra></extra>",
         "legendgroup": "topic_8",
         "line": {
          "color": "#19d3f3",
          "dash": "solid"
         },
         "marker": {
          "symbol": "circle"
         },
         "mode": "lines",
         "name": "topic_8",
         "orientation": "v",
         "showlegend": true,
         "type": "scatter",
         "x": [
          31,
          32,
          33,
          34,
          35,
          36,
          37,
          38,
          39,
          40,
          41,
          42,
          43,
          44,
          45
         ],
         "xaxis": "x",
         "y": [
          0.00034499209141358733,
          0.00022400055604521185,
          0.0003406615287531167,
          0.00011159052519360557,
          0.0003268183791078627,
          0.00007133685721782967,
          0.0001971172750927508,
          0.00016569742001593113,
          0.00011168548371642828,
          0.0001921382499858737,
          0.0012206981191411614,
          0.9973853230476379,
          0.0005195793928578496,
          0.006558478344231844,
          0.1341530829668045
         ],
         "yaxis": "y"
        }
       ],
       "layout": {
        "legend": {
         "title": {
          "text": "variable"
         },
         "tracegroupgap": 0
        },
        "template": {
         "data": {
          "bar": [
           {
            "error_x": {
             "color": "#2a3f5f"
            },
            "error_y": {
             "color": "#2a3f5f"
            },
            "marker": {
             "line": {
              "color": "#E5ECF6",
              "width": 0.5
             },
             "pattern": {
              "fillmode": "overlay",
              "size": 10,
              "solidity": 0.2
             }
            },
            "type": "bar"
           }
          ],
          "barpolar": [
           {
            "marker": {
             "line": {
              "color": "#E5ECF6",
              "width": 0.5
             },
             "pattern": {
              "fillmode": "overlay",
              "size": 10,
              "solidity": 0.2
             }
            },
            "type": "barpolar"
           }
          ],
          "carpet": [
           {
            "aaxis": {
             "endlinecolor": "#2a3f5f",
             "gridcolor": "white",
             "linecolor": "white",
             "minorgridcolor": "white",
             "startlinecolor": "#2a3f5f"
            },
            "baxis": {
             "endlinecolor": "#2a3f5f",
             "gridcolor": "white",
             "linecolor": "white",
             "minorgridcolor": "white",
             "startlinecolor": "#2a3f5f"
            },
            "type": "carpet"
           }
          ],
          "choropleth": [
           {
            "colorbar": {
             "outlinewidth": 0,
             "ticks": ""
            },
            "type": "choropleth"
           }
          ],
          "contour": [
           {
            "colorbar": {
             "outlinewidth": 0,
             "ticks": ""
            },
            "colorscale": [
             [
              0,
              "#0d0887"
             ],
             [
              0.1111111111111111,
              "#46039f"
             ],
             [
              0.2222222222222222,
              "#7201a8"
             ],
             [
              0.3333333333333333,
              "#9c179e"
             ],
             [
              0.4444444444444444,
              "#bd3786"
             ],
             [
              0.5555555555555556,
              "#d8576b"
             ],
             [
              0.6666666666666666,
              "#ed7953"
             ],
             [
              0.7777777777777778,
              "#fb9f3a"
             ],
             [
              0.8888888888888888,
              "#fdca26"
             ],
             [
              1,
              "#f0f921"
             ]
            ],
            "type": "contour"
           }
          ],
          "contourcarpet": [
           {
            "colorbar": {
             "outlinewidth": 0,
             "ticks": ""
            },
            "type": "contourcarpet"
           }
          ],
          "heatmap": [
           {
            "colorbar": {
             "outlinewidth": 0,
             "ticks": ""
            },
            "colorscale": [
             [
              0,
              "#0d0887"
             ],
             [
              0.1111111111111111,
              "#46039f"
             ],
             [
              0.2222222222222222,
              "#7201a8"
             ],
             [
              0.3333333333333333,
              "#9c179e"
             ],
             [
              0.4444444444444444,
              "#bd3786"
             ],
             [
              0.5555555555555556,
              "#d8576b"
             ],
             [
              0.6666666666666666,
              "#ed7953"
             ],
             [
              0.7777777777777778,
              "#fb9f3a"
             ],
             [
              0.8888888888888888,
              "#fdca26"
             ],
             [
              1,
              "#f0f921"
             ]
            ],
            "type": "heatmap"
           }
          ],
          "heatmapgl": [
           {
            "colorbar": {
             "outlinewidth": 0,
             "ticks": ""
            },
            "colorscale": [
             [
              0,
              "#0d0887"
             ],
             [
              0.1111111111111111,
              "#46039f"
             ],
             [
              0.2222222222222222,
              "#7201a8"
             ],
             [
              0.3333333333333333,
              "#9c179e"
             ],
             [
              0.4444444444444444,
              "#bd3786"
             ],
             [
              0.5555555555555556,
              "#d8576b"
             ],
             [
              0.6666666666666666,
              "#ed7953"
             ],
             [
              0.7777777777777778,
              "#fb9f3a"
             ],
             [
              0.8888888888888888,
              "#fdca26"
             ],
             [
              1,
              "#f0f921"
             ]
            ],
            "type": "heatmapgl"
           }
          ],
          "histogram": [
           {
            "marker": {
             "pattern": {
              "fillmode": "overlay",
              "size": 10,
              "solidity": 0.2
             }
            },
            "type": "histogram"
           }
          ],
          "histogram2d": [
           {
            "colorbar": {
             "outlinewidth": 0,
             "ticks": ""
            },
            "colorscale": [
             [
              0,
              "#0d0887"
             ],
             [
              0.1111111111111111,
              "#46039f"
             ],
             [
              0.2222222222222222,
              "#7201a8"
             ],
             [
              0.3333333333333333,
              "#9c179e"
             ],
             [
              0.4444444444444444,
              "#bd3786"
             ],
             [
              0.5555555555555556,
              "#d8576b"
             ],
             [
              0.6666666666666666,
              "#ed7953"
             ],
             [
              0.7777777777777778,
              "#fb9f3a"
             ],
             [
              0.8888888888888888,
              "#fdca26"
             ],
             [
              1,
              "#f0f921"
             ]
            ],
            "type": "histogram2d"
           }
          ],
          "histogram2dcontour": [
           {
            "colorbar": {
             "outlinewidth": 0,
             "ticks": ""
            },
            "colorscale": [
             [
              0,
              "#0d0887"
             ],
             [
              0.1111111111111111,
              "#46039f"
             ],
             [
              0.2222222222222222,
              "#7201a8"
             ],
             [
              0.3333333333333333,
              "#9c179e"
             ],
             [
              0.4444444444444444,
              "#bd3786"
             ],
             [
              0.5555555555555556,
              "#d8576b"
             ],
             [
              0.6666666666666666,
              "#ed7953"
             ],
             [
              0.7777777777777778,
              "#fb9f3a"
             ],
             [
              0.8888888888888888,
              "#fdca26"
             ],
             [
              1,
              "#f0f921"
             ]
            ],
            "type": "histogram2dcontour"
           }
          ],
          "mesh3d": [
           {
            "colorbar": {
             "outlinewidth": 0,
             "ticks": ""
            },
            "type": "mesh3d"
           }
          ],
          "parcoords": [
           {
            "line": {
             "colorbar": {
              "outlinewidth": 0,
              "ticks": ""
             }
            },
            "type": "parcoords"
           }
          ],
          "pie": [
           {
            "automargin": true,
            "type": "pie"
           }
          ],
          "scatter": [
           {
            "fillpattern": {
             "fillmode": "overlay",
             "size": 10,
             "solidity": 0.2
            },
            "type": "scatter"
           }
          ],
          "scatter3d": [
           {
            "line": {
             "colorbar": {
              "outlinewidth": 0,
              "ticks": ""
             }
            },
            "marker": {
             "colorbar": {
              "outlinewidth": 0,
              "ticks": ""
             }
            },
            "type": "scatter3d"
           }
          ],
          "scattercarpet": [
           {
            "marker": {
             "colorbar": {
              "outlinewidth": 0,
              "ticks": ""
             }
            },
            "type": "scattercarpet"
           }
          ],
          "scattergeo": [
           {
            "marker": {
             "colorbar": {
              "outlinewidth": 0,
              "ticks": ""
             }
            },
            "type": "scattergeo"
           }
          ],
          "scattergl": [
           {
            "marker": {
             "colorbar": {
              "outlinewidth": 0,
              "ticks": ""
             }
            },
            "type": "scattergl"
           }
          ],
          "scattermapbox": [
           {
            "marker": {
             "colorbar": {
              "outlinewidth": 0,
              "ticks": ""
             }
            },
            "type": "scattermapbox"
           }
          ],
          "scatterpolar": [
           {
            "marker": {
             "colorbar": {
              "outlinewidth": 0,
              "ticks": ""
             }
            },
            "type": "scatterpolar"
           }
          ],
          "scatterpolargl": [
           {
            "marker": {
             "colorbar": {
              "outlinewidth": 0,
              "ticks": ""
             }
            },
            "type": "scatterpolargl"
           }
          ],
          "scatterternary": [
           {
            "marker": {
             "colorbar": {
              "outlinewidth": 0,
              "ticks": ""
             }
            },
            "type": "scatterternary"
           }
          ],
          "surface": [
           {
            "colorbar": {
             "outlinewidth": 0,
             "ticks": ""
            },
            "colorscale": [
             [
              0,
              "#0d0887"
             ],
             [
              0.1111111111111111,
              "#46039f"
             ],
             [
              0.2222222222222222,
              "#7201a8"
             ],
             [
              0.3333333333333333,
              "#9c179e"
             ],
             [
              0.4444444444444444,
              "#bd3786"
             ],
             [
              0.5555555555555556,
              "#d8576b"
             ],
             [
              0.6666666666666666,
              "#ed7953"
             ],
             [
              0.7777777777777778,
              "#fb9f3a"
             ],
             [
              0.8888888888888888,
              "#fdca26"
             ],
             [
              1,
              "#f0f921"
             ]
            ],
            "type": "surface"
           }
          ],
          "table": [
           {
            "cells": {
             "fill": {
              "color": "#EBF0F8"
             },
             "line": {
              "color": "white"
             }
            },
            "header": {
             "fill": {
              "color": "#C8D4E3"
             },
             "line": {
              "color": "white"
             }
            },
            "type": "table"
           }
          ]
         },
         "layout": {
          "annotationdefaults": {
           "arrowcolor": "#2a3f5f",
           "arrowhead": 0,
           "arrowwidth": 1
          },
          "autotypenumbers": "strict",
          "coloraxis": {
           "colorbar": {
            "outlinewidth": 0,
            "ticks": ""
           }
          },
          "colorscale": {
           "diverging": [
            [
             0,
             "#8e0152"
            ],
            [
             0.1,
             "#c51b7d"
            ],
            [
             0.2,
             "#de77ae"
            ],
            [
             0.3,
             "#f1b6da"
            ],
            [
             0.4,
             "#fde0ef"
            ],
            [
             0.5,
             "#f7f7f7"
            ],
            [
             0.6,
             "#e6f5d0"
            ],
            [
             0.7,
             "#b8e186"
            ],
            [
             0.8,
             "#7fbc41"
            ],
            [
             0.9,
             "#4d9221"
            ],
            [
             1,
             "#276419"
            ]
           ],
           "sequential": [
            [
             0,
             "#0d0887"
            ],
            [
             0.1111111111111111,
             "#46039f"
            ],
            [
             0.2222222222222222,
             "#7201a8"
            ],
            [
             0.3333333333333333,
             "#9c179e"
            ],
            [
             0.4444444444444444,
             "#bd3786"
            ],
            [
             0.5555555555555556,
             "#d8576b"
            ],
            [
             0.6666666666666666,
             "#ed7953"
            ],
            [
             0.7777777777777778,
             "#fb9f3a"
            ],
            [
             0.8888888888888888,
             "#fdca26"
            ],
            [
             1,
             "#f0f921"
            ]
           ],
           "sequentialminus": [
            [
             0,
             "#0d0887"
            ],
            [
             0.1111111111111111,
             "#46039f"
            ],
            [
             0.2222222222222222,
             "#7201a8"
            ],
            [
             0.3333333333333333,
             "#9c179e"
            ],
            [
             0.4444444444444444,
             "#bd3786"
            ],
            [
             0.5555555555555556,
             "#d8576b"
            ],
            [
             0.6666666666666666,
             "#ed7953"
            ],
            [
             0.7777777777777778,
             "#fb9f3a"
            ],
            [
             0.8888888888888888,
             "#fdca26"
            ],
            [
             1,
             "#f0f921"
            ]
           ]
          },
          "colorway": [
           "#636efa",
           "#EF553B",
           "#00cc96",
           "#ab63fa",
           "#FFA15A",
           "#19d3f3",
           "#FF6692",
           "#B6E880",
           "#FF97FF",
           "#FECB52"
          ],
          "font": {
           "color": "#2a3f5f"
          },
          "geo": {
           "bgcolor": "white",
           "lakecolor": "white",
           "landcolor": "#E5ECF6",
           "showlakes": true,
           "showland": true,
           "subunitcolor": "white"
          },
          "hoverlabel": {
           "align": "left"
          },
          "hovermode": "closest",
          "mapbox": {
           "style": "light"
          },
          "paper_bgcolor": "white",
          "plot_bgcolor": "#E5ECF6",
          "polar": {
           "angularaxis": {
            "gridcolor": "white",
            "linecolor": "white",
            "ticks": ""
           },
           "bgcolor": "#E5ECF6",
           "radialaxis": {
            "gridcolor": "white",
            "linecolor": "white",
            "ticks": ""
           }
          },
          "scene": {
           "xaxis": {
            "backgroundcolor": "#E5ECF6",
            "gridcolor": "white",
            "gridwidth": 2,
            "linecolor": "white",
            "showbackground": true,
            "ticks": "",
            "zerolinecolor": "white"
           },
           "yaxis": {
            "backgroundcolor": "#E5ECF6",
            "gridcolor": "white",
            "gridwidth": 2,
            "linecolor": "white",
            "showbackground": true,
            "ticks": "",
            "zerolinecolor": "white"
           },
           "zaxis": {
            "backgroundcolor": "#E5ECF6",
            "gridcolor": "white",
            "gridwidth": 2,
            "linecolor": "white",
            "showbackground": true,
            "ticks": "",
            "zerolinecolor": "white"
           }
          },
          "shapedefaults": {
           "line": {
            "color": "#2a3f5f"
           }
          },
          "ternary": {
           "aaxis": {
            "gridcolor": "white",
            "linecolor": "white",
            "ticks": ""
           },
           "baxis": {
            "gridcolor": "white",
            "linecolor": "white",
            "ticks": ""
           },
           "bgcolor": "#E5ECF6",
           "caxis": {
            "gridcolor": "white",
            "linecolor": "white",
            "ticks": ""
           }
          },
          "title": {
           "x": 0.05
          },
          "xaxis": {
           "automargin": true,
           "gridcolor": "white",
           "linecolor": "white",
           "ticks": "",
           "title": {
            "standoff": 15
           },
           "zerolinecolor": "white",
           "zerolinewidth": 2
          },
          "yaxis": {
           "automargin": true,
           "gridcolor": "white",
           "linecolor": "white",
           "ticks": "",
           "title": {
            "standoff": 15
           },
           "zerolinecolor": "white",
           "zerolinewidth": 2
          }
         }
        },
        "title": {
         "text": "Recent Time Period Common Topics"
        },
        "xaxis": {
         "anchor": "y",
         "domain": [
          0,
          1
         ],
         "dtick": "M1",
         "tickformat": "%b %d",
         "ticklabelmode": "period",
         "title": {
          "text": "timepoint"
         }
        },
        "yaxis": {
         "anchor": "x",
         "domain": [
          0,
          1
         ],
         "title": {
          "text": "value"
         }
        }
       }
      }
     },
     "metadata": {},
     "output_type": "display_data"
    }
   ],
   "source": [
    "td = pd.DataFrame()\n",
    "for timepoint in range(best_mdl.num_timepoints):\n",
    "    td_tmp = pd.DataFrame(\n",
    "        np.stack([doc.get_topic_dist() for doc in best_mdl.docs if doc.timepoint == timepoint]),\n",
    "        columns=[\"topic_{}\".format(i + 1) for i in range(best_mdl.k)],\n",
    "    )\n",
    "    td_tmp[\"timepoint\"] = timepoint\n",
    "    td = pd.concat([td, td_tmp], ignore_index=True)\n",
    "    del td_tmp\n",
    "\n",
    "td_recent = td[td['timepoint']>30]\n",
    "\n",
    "import plotly.express as px\n",
    "fig = px.line(td_recent, x=\"timepoint\", y=['topic_1', 'topic_3', 'topic_4', 'topic_5', 'topic_7', 'topic_8'],\n",
    "            #   hover_data={\"timepoint\": \"|%B %d, %Y\"},\n",
    "              title='Recent Time Period Common Topics')\n",
    "fig.update_xaxes(\n",
    "    dtick=\"M1\",\n",
    "    tickformat=\"%b %d\",\n",
    "    ticklabelmode=\"period\")\n",
    "fig.show()\n"
   ]
  },
  {
   "cell_type": "code",
   "execution_count": 44,
   "metadata": {},
   "outputs": [],
   "source": [
    "# - 1 > timep 33\n",
    "# - 3 > timep 31, 43\n",
    "# - 4 > timep 45\n",
    "# - 5 > timep 32, 34\n",
    "# - 7 > timep 36, 37, 39, 40 \n",
    "# - 8 > timep 42\n",
    "\n",
    "# topic_1\n",
    "topic_1 = wt[wt['k']==0] # start with 0\n",
    "# select timepoint\n",
    "topic_1_33 = topic_1[topic_1['timepoint']==33]\n",
    "# concat\n",
    "topic_1_concate = topic_1_33.copy()\n",
    "topic_1_concate.sort_values(by='prob', ascending=False, inplace=True)\n",
    "\n",
    "# topic_3\n",
    "topic_3= wt[wt['k']==2] # start with 0\n",
    "# select timepoint\n",
    "topic_3_31 = topic_3[topic_3['timepoint']==31]\n",
    "topic_3_43 = topic_3[topic_3['timepoint']==43]\n",
    "# concat \n",
    "topic_3_concat = pd.concat([topic_3_31, topic_3_43], ignore_index=True)\n",
    "topic_3_concat.sort_values(by='prob', ascending=False, inplace=True)\n",
    "\n",
    "# topic_4\n",
    "topic_4 = wt[wt['k']==3] # start with 0\n",
    "# select timepoint\n",
    "topic_4_45 = topic_4[topic_4['timepoint']==45]\n",
    "# concat\n",
    "topic_4_concate = topic_4_45.copy()\n",
    "topic_4_concate.sort_values(by='prob', ascending=False, inplace=True)\n",
    "\n",
    "# topic_5\n",
    "topic_5= wt[wt['k']==4] # start with 0\n",
    "# select timepoint\n",
    "topic_5_32 = topic_5[topic_5['timepoint']==32]\n",
    "topic_5_34 = topic_5[topic_5['timepoint']==34]\n",
    "# concat \n",
    "topic_5_concat = pd.concat([topic_5_32, topic_5_34], ignore_index=True)\n",
    "topic_5_concat.sort_values(by='prob', ascending=False, inplace=True)\n",
    "\n",
    "# topic_7\n",
    "topic_7= wt[wt['k']==6] # start with 0\n",
    "# select timepoint\n",
    "topic_7_36 = topic_7[topic_7['timepoint']==36]\n",
    "topic_7_37 = topic_7[topic_7['timepoint']==37]\n",
    "topic_7_39 = topic_7[topic_7['timepoint']==39]\n",
    "topic_7_40 = topic_7[topic_7['timepoint']==40]\n",
    "# concat \n",
    "topic_7_concat = pd.concat([topic_7_36, topic_7_37, topic_7_39, topic_7_40], ignore_index=True)\n",
    "topic_7_concat.sort_values(by='prob', ascending=False, inplace=True)\n",
    "\n",
    "# topic_8\n",
    "topic_8 = wt[wt['k']==7] # start with 0\n",
    "# select timepoint\n",
    "topic_8_42 = topic_8[topic_8['timepoint']==42]\n",
    "# concat\n",
    "topic_8_concate = topic_8_42.copy()\n",
    "topic_8_concate.sort_values(by='prob', ascending=False, inplace=True)\n"
   ]
  },
  {
   "cell_type": "code",
   "execution_count": 45,
   "metadata": {},
   "outputs": [
    {
     "data": {
      "text/html": [
       "<div>\n",
       "<style scoped>\n",
       "    .dataframe tbody tr th:only-of-type {\n",
       "        vertical-align: middle;\n",
       "    }\n",
       "\n",
       "    .dataframe tbody tr th {\n",
       "        vertical-align: top;\n",
       "    }\n",
       "\n",
       "    .dataframe thead th {\n",
       "        text-align: right;\n",
       "    }\n",
       "</style>\n",
       "<table border=\"1\" class=\"dataframe\">\n",
       "  <thead>\n",
       "    <tr style=\"text-align: right;\">\n",
       "      <th></th>\n",
       "      <th>47</th>\n",
       "      <th>23</th>\n",
       "      <th>27</th>\n",
       "      <th>63</th>\n",
       "      <th>5</th>\n",
       "      <th>15</th>\n",
       "      <th>43</th>\n",
       "      <th>17</th>\n",
       "      <th>24</th>\n",
       "      <th>51</th>\n",
       "      <th>29</th>\n",
       "      <th>0</th>\n",
       "      <th>10</th>\n",
       "      <th>37</th>\n",
       "      <th>50</th>\n",
       "      <th>49</th>\n",
       "      <th>54</th>\n",
       "      <th>41</th>\n",
       "      <th>60</th>\n",
       "      <th>62</th>\n",
       "      <th>36</th>\n",
       "      <th>32</th>\n",
       "      <th>31</th>\n",
       "      <th>28</th>\n",
       "      <th>64</th>\n",
       "      <th>65</th>\n",
       "      <th>16</th>\n",
       "      <th>9</th>\n",
       "      <th>21</th>\n",
       "      <th>6</th>\n",
       "      <th>58</th>\n",
       "      <th>33</th>\n",
       "      <th>12</th>\n",
       "      <th>59</th>\n",
       "      <th>1</th>\n",
       "      <th>53</th>\n",
       "      <th>2</th>\n",
       "      <th>34</th>\n",
       "      <th>61</th>\n",
       "      <th>4</th>\n",
       "      <th>11</th>\n",
       "      <th>3</th>\n",
       "      <th>57</th>\n",
       "      <th>56</th>\n",
       "      <th>55</th>\n",
       "      <th>7</th>\n",
       "      <th>52</th>\n",
       "      <th>8</th>\n",
       "      <th>46</th>\n",
       "      <th>48</th>\n",
       "      <th>25</th>\n",
       "      <th>30</th>\n",
       "      <th>20</th>\n",
       "      <th>19</th>\n",
       "      <th>35</th>\n",
       "      <th>18</th>\n",
       "      <th>38</th>\n",
       "      <th>39</th>\n",
       "      <th>40</th>\n",
       "      <th>14</th>\n",
       "      <th>42</th>\n",
       "      <th>13</th>\n",
       "      <th>44</th>\n",
       "      <th>45</th>\n",
       "      <th>22</th>\n",
       "      <th>26</th>\n",
       "    </tr>\n",
       "  </thead>\n",
       "  <tbody>\n",
       "    <tr>\n",
       "      <th>word</th>\n",
       "      <td>rule</td>\n",
       "      <td>fee</td>\n",
       "      <td>inflation</td>\n",
       "      <td>vote</td>\n",
       "      <td>board</td>\n",
       "      <td>coverage</td>\n",
       "      <td>report</td>\n",
       "      <td>datum</td>\n",
       "      <td>frequency</td>\n",
       "      <td>service</td>\n",
       "      <td>inﬂation</td>\n",
       "      <td>agent</td>\n",
       "      <td>casualty</td>\n",
       "      <td>platform</td>\n",
       "      <td>sensitivity</td>\n",
       "      <td>scenario</td>\n",
       "      <td>space</td>\n",
       "      <td>regulator</td>\n",
       "      <td>travel</td>\n",
       "      <td>unwriter</td>\n",
       "      <td>pension</td>\n",
       "      <td>mortality</td>\n",
       "      <td>meeting</td>\n",
       "      <td>interruption</td>\n",
       "      <td>week</td>\n",
       "      <td>worker</td>\n",
       "      <td>crisis</td>\n",
       "      <td>car</td>\n",
       "      <td>estate</td>\n",
       "      <td>buyback</td>\n",
       "      <td>synergy</td>\n",
       "      <td>mortgage</td>\n",
       "      <td>condition</td>\n",
       "      <td>transcript</td>\n",
       "      <td>annuity</td>\n",
       "      <td>solution</td>\n",
       "      <td>approach</td>\n",
       "      <td>motor</td>\n",
       "      <td>uncertainty</td>\n",
       "      <td>bank</td>\n",
       "      <td>competitor</td>\n",
       "      <td>audit</td>\n",
       "      <td>stock</td>\n",
       "      <td>statement</td>\n",
       "      <td>spread</td>\n",
       "      <td>capability</td>\n",
       "      <td>severity</td>\n",
       "      <td>capacity</td>\n",
       "      <td>revenue</td>\n",
       "      <td>scale</td>\n",
       "      <td>guarantee</td>\n",
       "      <td>item</td>\n",
       "      <td>duration</td>\n",
       "      <td>diﬀerent</td>\n",
       "      <td>operation</td>\n",
       "      <td>digit</td>\n",
       "      <td>pner</td>\n",
       "      <td>protection</td>\n",
       "      <td>quality</td>\n",
       "      <td>contribution</td>\n",
       "      <td>relationship</td>\n",
       "      <td>contract</td>\n",
       "      <td>requirement</td>\n",
       "      <td>respect</td>\n",
       "      <td>estimate</td>\n",
       "      <td>hand</td>\n",
       "    </tr>\n",
       "    <tr>\n",
       "      <th>prob</th>\n",
       "      <td>0.007</td>\n",
       "      <td>0.007</td>\n",
       "      <td>0.006714</td>\n",
       "      <td>0.005</td>\n",
       "      <td>0.005</td>\n",
       "      <td>0.005</td>\n",
       "      <td>0.005</td>\n",
       "      <td>0.004667</td>\n",
       "      <td>0.004667</td>\n",
       "      <td>0.0045</td>\n",
       "      <td>0.0045</td>\n",
       "      <td>0.0045</td>\n",
       "      <td>0.004333</td>\n",
       "      <td>0.004333</td>\n",
       "      <td>0.0042</td>\n",
       "      <td>0.004</td>\n",
       "      <td>0.004</td>\n",
       "      <td>0.004</td>\n",
       "      <td>0.004</td>\n",
       "      <td>0.004</td>\n",
       "      <td>0.004</td>\n",
       "      <td>0.004</td>\n",
       "      <td>0.004</td>\n",
       "      <td>0.004</td>\n",
       "      <td>0.004</td>\n",
       "      <td>0.004</td>\n",
       "      <td>0.004</td>\n",
       "      <td>0.004</td>\n",
       "      <td>0.004</td>\n",
       "      <td>0.003833</td>\n",
       "      <td>0.0035</td>\n",
       "      <td>0.0035</td>\n",
       "      <td>0.0035</td>\n",
       "      <td>0.003444</td>\n",
       "      <td>0.003333</td>\n",
       "      <td>0.003333</td>\n",
       "      <td>0.003333</td>\n",
       "      <td>0.003</td>\n",
       "      <td>0.003</td>\n",
       "      <td>0.003</td>\n",
       "      <td>0.003</td>\n",
       "      <td>0.003</td>\n",
       "      <td>0.003</td>\n",
       "      <td>0.003</td>\n",
       "      <td>0.003</td>\n",
       "      <td>0.003</td>\n",
       "      <td>0.003</td>\n",
       "      <td>0.003</td>\n",
       "      <td>0.003</td>\n",
       "      <td>0.003</td>\n",
       "      <td>0.003</td>\n",
       "      <td>0.003</td>\n",
       "      <td>0.003</td>\n",
       "      <td>0.003</td>\n",
       "      <td>0.003</td>\n",
       "      <td>0.003</td>\n",
       "      <td>0.003</td>\n",
       "      <td>0.003</td>\n",
       "      <td>0.003</td>\n",
       "      <td>0.003</td>\n",
       "      <td>0.003</td>\n",
       "      <td>0.003</td>\n",
       "      <td>0.003</td>\n",
       "      <td>0.003</td>\n",
       "      <td>0.002667</td>\n",
       "      <td>0.002667</td>\n",
       "    </tr>\n",
       "  </tbody>\n",
       "</table>\n",
       "</div>"
      ],
      "text/plain": [
       "         47     23         27     63     5         15      43        17  \\\n",
       "word   rule    fee  inflation   vote  board  coverage  report     datum   \n",
       "prob  0.007  0.007   0.006714  0.005  0.005     0.005   0.005  0.004667   \n",
       "\n",
       "             24       51        29      0         10        37           50  \\\n",
       "word  frequency  service  inﬂation   agent  casualty  platform  sensitivity   \n",
       "prob   0.004667   0.0045    0.0045  0.0045  0.004333  0.004333       0.0042   \n",
       "\n",
       "            49     54         41      60        62       36         32  \\\n",
       "word  scenario  space  regulator  travel  unwriter  pension  mortality   \n",
       "prob     0.004  0.004      0.004   0.004     0.004    0.004      0.004   \n",
       "\n",
       "           31            28     64      65      16     9       21        6   \\\n",
       "word  meeting  interruption   week  worker  crisis    car  estate   buyback   \n",
       "prob    0.004         0.004  0.004   0.004   0.004  0.004   0.004  0.003833   \n",
       "\n",
       "           58        33         12          59        1         53        2   \\\n",
       "word  synergy  mortgage  condition  transcript   annuity  solution  approach   \n",
       "prob   0.0035    0.0035     0.0035    0.003444  0.003333  0.003333  0.003333   \n",
       "\n",
       "         34           61     4           11     3      57         56      55  \\\n",
       "word  motor  uncertainty   bank  competitor  audit  stock  statement  spread   \n",
       "prob  0.003        0.003  0.003       0.003  0.003  0.003      0.003   0.003   \n",
       "\n",
       "              7         52        8        46     48         25     30  \\\n",
       "word  capability  severity  capacity  revenue  scale  guarantee   item   \n",
       "prob       0.003     0.003     0.003    0.003  0.003      0.003  0.003   \n",
       "\n",
       "            20        19         35     18     38          39       40  \\\n",
       "word  duration  diﬀerent  operation  digit   pner  protection  quality   \n",
       "prob     0.003     0.003      0.003  0.003  0.003       0.003    0.003   \n",
       "\n",
       "                14            42        13           44       45        22  \\\n",
       "word  contribution  relationship  contract  requirement  respect  estimate   \n",
       "prob         0.003         0.003     0.003        0.003    0.003  0.002667   \n",
       "\n",
       "            26  \n",
       "word      hand  \n",
       "prob  0.002667  "
      ]
     },
     "execution_count": 45,
     "metadata": {},
     "output_type": "execute_result"
    }
   ],
   "source": [
    "# concat\n",
    "topic_all_recent = pd.concat([ topic_1_concate, topic_3_concat, topic_4_concat, topic_5_concat, topic_7_concat, topic_8_concate], ignore_index=True)\n",
    "# groupby word and get the average of prob\n",
    "topic_all_recent = topic_all_recent.groupby(['word'])['prob'].mean().reset_index()\n",
    "# sort by prob\n",
    "topic_all_recent.sort_values(by='prob', ascending=False, inplace=True)\n",
    "topic_all_recent.T"
   ]
  },
  {
   "cell_type": "code",
   "execution_count": 46,
   "metadata": {},
   "outputs": [],
   "source": [
    "# topic_all_recently to csv\n",
    "topic_all_recent.to_csv('./main_df_output/QA_topic_all_recently.csv')\n",
    "topic_all_early.to_csv('./main_df_output/QA_topic_all_early.csv')\n",
    "topic_all_middle.to_csv('./main_df_output/QA_topic_all_middle.csv')"
   ]
  }
 ],
 "metadata": {
  "kernelspec": {
   "display_name": "Python 3.9.7",
   "language": "python",
   "name": "python3"
  },
  "language_info": {
   "codemirror_mode": {
    "name": "ipython",
    "version": 3
   },
   "file_extension": ".py",
   "mimetype": "text/x-python",
   "name": "python",
   "nbconvert_exporter": "python",
   "pygments_lexer": "ipython3",
   "version": "3.9.7"
  },
  "orig_nbformat": 4,
  "vscode": {
   "interpreter": {
    "hash": "40d3a090f54c6569ab1632332b64b2c03c39dcf918b08424e98f38b5ae0af88f"
   }
  }
 },
 "nbformat": 4,
 "nbformat_minor": 2
}
