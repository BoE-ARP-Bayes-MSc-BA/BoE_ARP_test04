{
 "cells": [
  {
   "cell_type": "code",
   "execution_count": 1,
   "metadata": {},
   "outputs": [],
   "source": [
    "import pandas as pd\n",
    "import plotly.express as px"
   ]
  },
  {
   "cell_type": "code",
   "execution_count": 87,
   "metadata": {},
   "outputs": [],
   "source": [
    "md_dtm_td = pd.read_csv(\"/Users/siradachuntararuangnapa/Desktop/DTM/MD_DTM_td_all_time.csv\")\n",
    "md_dtm_wt = pd.read_csv(\"/Users/siradachuntararuangnapa/Desktop/DTM/MD_DTM_wt_all_time.csv\")"
   ]
  },
  {
   "cell_type": "markdown",
   "metadata": {},
   "source": [
    "## MD: All Time Period Common Topics"
   ]
  },
  {
   "cell_type": "code",
   "execution_count": 4,
   "metadata": {},
   "outputs": [
    {
     "data": {
      "application/vnd.plotly.v1+json": {
       "config": {
        "plotlyServerURL": "https://plot.ly"
       },
       "data": [
        {
         "hovertemplate": "variable=topic_1<br>timepoint=%{x}<br>value=%{y}<extra></extra>",
         "legendgroup": "topic_1",
         "line": {
          "color": "#636efa",
          "dash": "solid"
         },
         "marker": {
          "symbol": "circle"
         },
         "mode": "lines",
         "name": "topic_1",
         "orientation": "v",
         "showlegend": true,
         "type": "scatter",
         "x": [
          0,
          1,
          2,
          3,
          4,
          5,
          6,
          7,
          8,
          9,
          10,
          11,
          12,
          13,
          14,
          15,
          16,
          17,
          18,
          19,
          20,
          21,
          22,
          23,
          24,
          25,
          26,
          27,
          28,
          29,
          30,
          31,
          32,
          33,
          34,
          35,
          36,
          37,
          38,
          39,
          40,
          41,
          42,
          43
         ],
         "xaxis": "x",
         "y": [
          0.12054928,
          0.07717061,
          0.073793106,
          0.09732523,
          0.08263814,
          0.08095238,
          0.07174775,
          0.14242922,
          0.15910436,
          0.09251568,
          0.13318457,
          0.09394713,
          0.087877415,
          0.04988257,
          0.04695306,
          0.0413504,
          0.0032202613,
          0.081649795,
          0.08099963,
          0.120893344,
          0.0020931498,
          0.08280415,
          0.017547235,
          0.11176738,
          0.002527694,
          0.0020226624,
          0.0042718654,
          0.9857154,
          0.0011432465,
          0.005446346,
          0.034834057,
          0.0014577894,
          0.0016551828,
          0.0028690037,
          0.0043979757,
          0.008272251,
          0.1734554,
          0.0014923898,
          0.0009189337,
          0.0028746803,
          0.0011017347,
          0.0023814656,
          0.0024016518,
          0.009588464
         ],
         "yaxis": "y"
        },
        {
         "hovertemplate": "variable=topic_2<br>timepoint=%{x}<br>value=%{y}<extra></extra>",
         "legendgroup": "topic_2",
         "line": {
          "color": "#EF553B",
          "dash": "solid"
         },
         "marker": {
          "symbol": "circle"
         },
         "mode": "lines",
         "name": "topic_2",
         "orientation": "v",
         "showlegend": true,
         "type": "scatter",
         "x": [
          0,
          1,
          2,
          3,
          4,
          5,
          6,
          7,
          8,
          9,
          10,
          11,
          12,
          13,
          14,
          15,
          16,
          17,
          18,
          19,
          20,
          21,
          22,
          23,
          24,
          25,
          26,
          27,
          28,
          29,
          30,
          31,
          32,
          33,
          34,
          35,
          36,
          37,
          38,
          39,
          40,
          41,
          42,
          43
         ],
         "xaxis": "x",
         "y": [
          0.13799678,
          0.09720705,
          0.10767616,
          0.11677812,
          0.07695016,
          0.08453661,
          0.09409009,
          0.08949529,
          0.059435442,
          0.09956897,
          0.089450195,
          0.16189702,
          0.12969504,
          0.11438121,
          0.06331826,
          0.039143868,
          0.0018450607,
          0.07174241,
          0.1292447,
          0.078596175,
          0.0023649873,
          0.030875372,
          0.008948976,
          0.07441543,
          0.0057502515,
          0.97554797,
          0.0043783956,
          0.0016230621,
          0.00084039976,
          0.0059088804,
          0.035411257,
          0.0005874674,
          0.0012807071,
          0.00351476,
          0.00343057,
          0.904491,
          0.05674006,
          0.0020853924,
          0.0008279502,
          0.0032838874,
          0.0010235974,
          0.0018426725,
          0.002618996,
          0.006536154
         ],
         "yaxis": "y"
        },
        {
         "hovertemplate": "variable=topic_3<br>timepoint=%{x}<br>value=%{y}<extra></extra>",
         "legendgroup": "topic_3",
         "line": {
          "color": "#00cc96",
          "dash": "solid"
         },
         "marker": {
          "symbol": "circle"
         },
         "mode": "lines",
         "name": "topic_3",
         "orientation": "v",
         "showlegend": true,
         "type": "scatter",
         "x": [
          0,
          1,
          2,
          3,
          4,
          5,
          6,
          7,
          8,
          9,
          10,
          11,
          12,
          13,
          14,
          15,
          16,
          17,
          18,
          19,
          20,
          21,
          22,
          23,
          24,
          25,
          26,
          27,
          28,
          29,
          30,
          31,
          32,
          33,
          34,
          35,
          36,
          37,
          38,
          39,
          40,
          41,
          42,
          43
         ],
         "xaxis": "x",
         "y": [
          0.09567044,
          0.08445659,
          0.09688156,
          0.09671733,
          0.10999458,
          0.11269841,
          0.083639644,
          0.093598686,
          0.0735494,
          0.13561912,
          0.07499108,
          0.1338358,
          0.1017663,
          0.046811204,
          0.057934966,
          0.03929097,
          0.002761861,
          0.077557616,
          0.08211584,
          0.10886052,
          0.0034523376,
          0.047195848,
          0.006460007,
          0.066216215,
          0.002426989,
          0.0026580535,
          0.0029935017,
          0.00073481916,
          0.0010675349,
          0.004983811,
          0.016459838,
          0.0010951553,
          0.0014304974,
          0.0022232472,
          0.0029096592,
          0.00547993,
          0.061570432,
          0.0018877249,
          0.0012828679,
          0.003079284,
          0.0005547742,
          0.002273707,
          0.003053684,
          0.010114725
         ],
         "yaxis": "y"
        },
        {
         "hovertemplate": "variable=topic_4<br>timepoint=%{x}<br>value=%{y}<extra></extra>",
         "legendgroup": "topic_4",
         "line": {
          "color": "#ab63fa",
          "dash": "solid"
         },
         "marker": {
          "symbol": "circle"
         },
         "mode": "lines",
         "name": "topic_4",
         "orientation": "v",
         "showlegend": true,
         "type": "scatter",
         "x": [
          0,
          1,
          2,
          3,
          4,
          5,
          6,
          7,
          8,
          9,
          10,
          11,
          12,
          13,
          14,
          15,
          16,
          17,
          18,
          19,
          20,
          21,
          22,
          23,
          24,
          25,
          26,
          27,
          28,
          29,
          30,
          31,
          32,
          33,
          34,
          35,
          36,
          37,
          38,
          39,
          40,
          41,
          42,
          43
         ],
         "xaxis": "x",
         "y": [
          0.08533118,
          0.111171834,
          0.14515743,
          0.07422493,
          0.10647346,
          0.109114185,
          0.12111712,
          0.10139516,
          0.09184527,
          0.10975706,
          0.09873259,
          0.078177184,
          0.06810085,
          0.046811204,
          0.056212313,
          0.04076199,
          0.0017304608,
          0.0659272,
          0.039699864,
          0.060546946,
          0.001640087,
          0.05416914,
          0.0072519514,
          0.15883692,
          0.0020241693,
          0.0019167638,
          0.00235432,
          0.001138566,
          0.00068897643,
          0.0032493062,
          0.014920635,
          0.0009501016,
          0.98090917,
          0.002592251,
          0.0030584908,
          0.009086678,
          0.091451354,
          0.0021842262,
          0.0019197526,
          0.0045115086,
          0.001570558,
          0.0020581896,
          0.002618996,
          0.0035890958
         ],
         "yaxis": "y"
        },
        {
         "hovertemplate": "variable=topic_5<br>timepoint=%{x}<br>value=%{y}<extra></extra>",
         "legendgroup": "topic_5",
         "line": {
          "color": "#FFA15A",
          "dash": "solid"
         },
         "marker": {
          "symbol": "circle"
         },
         "mode": "lines",
         "name": "topic_5",
         "orientation": "v",
         "showlegend": true,
         "type": "scatter",
         "x": [
          0,
          1,
          2,
          3,
          4,
          5,
          6,
          7,
          8,
          9,
          10,
          11,
          12,
          13,
          14,
          15,
          16,
          17,
          18,
          19,
          20,
          21,
          22,
          23,
          24,
          25,
          26,
          27,
          28,
          29,
          30,
          31,
          32,
          33,
          34,
          35,
          36,
          37,
          38,
          39,
          40,
          41,
          42,
          43
         ],
         "xaxis": "x",
         "y": [
          0.11247173,
          0.12999393,
          0.09058471,
          0.11860183,
          0.09591008,
          0.085048646,
          0.10345946,
          0.11247436,
          0.16764244,
          0.071355805,
          0.06588718,
          0.076089986,
          0.07776268,
          0.04265583,
          0.3743648,
          0.45367756,
          0.9768622,
          0.24555244,
          0.19485302,
          0.06802188,
          0.0009151867,
          0.057581604,
          0.009967191,
          0.11404494,
          0.0026283988,
          0.0014931696,
          0.0018216684,
          0.0010578166,
          0.0010675349,
          0.003943108,
          0.025598846,
          0.0008775747,
          0.003452666,
          0.0136623625,
          0.006407203,
          0.012111693,
          0.05471804,
          0.0016900573,
          0.0009189337,
          0.0028746803,
          0.0008673231,
          0.001950431,
          0.004249076,
          0.012746027
         ],
         "yaxis": "y"
        },
        {
         "hovertemplate": "variable=topic_6<br>timepoint=%{x}<br>value=%{y}<extra></extra>",
         "legendgroup": "topic_6",
         "line": {
          "color": "#19d3f3",
          "dash": "solid"
         },
         "marker": {
          "symbol": "circle"
         },
         "mode": "lines",
         "name": "topic_6",
         "orientation": "v",
         "showlegend": true,
         "type": "scatter",
         "x": [
          0,
          1,
          2,
          3,
          4,
          5,
          6,
          7,
          8,
          9,
          10,
          11,
          12,
          13,
          14,
          15,
          16,
          17,
          18,
          19,
          20,
          21,
          22,
          23,
          24,
          25,
          26,
          27,
          28,
          29,
          30,
          31,
          32,
          33,
          34,
          35,
          36,
          37,
          38,
          39,
          40,
          41,
          42,
          43
         ],
         "xaxis": "x",
         "y": [
          0.09017771,
          0.08992107,
          0.10347826,
          0.086990885,
          0.12787108,
          0.11628264,
          0.12363964,
          0.109191634,
          0.09445896,
          0.08467869,
          0.092306316,
          0.069132656,
          0.06644022,
          0.061084013,
          0.07709948,
          0.07268314,
          0.002761861,
          0.11912556,
          0.07740295,
          0.0718505,
          0.0019119247,
          0.04482196,
          0.011890485,
          0.080185235,
          0.0041389726,
          0.0014931696,
          0.0025673804,
          0.0009770672,
          0.0016732283,
          0.006140148,
          0.7667244,
          0.98956335,
          0.0035275612,
          0.9608948,
          0.0040258965,
          0.011762653,
          0.14750618,
          0.98014426,
          0.9899099,
          0.006352941,
          0.0008673231,
          0.0013038793,
          0.002727668,
          0.0036943478
         ],
         "yaxis": "y"
        },
        {
         "hovertemplate": "variable=topic_7<br>timepoint=%{x}<br>value=%{y}<extra></extra>",
         "legendgroup": "topic_7",
         "line": {
          "color": "#FF6692",
          "dash": "solid"
         },
         "marker": {
          "symbol": "circle"
         },
         "mode": "lines",
         "name": "topic_7",
         "orientation": "v",
         "showlegend": true,
         "type": "scatter",
         "x": [
          0,
          1,
          2,
          3,
          4,
          5,
          6,
          7,
          8,
          9,
          10,
          11,
          12,
          13,
          14,
          15,
          16,
          17,
          18,
          19,
          20,
          21,
          22,
          23,
          24,
          25,
          26,
          27,
          28,
          29,
          30,
          31,
          32,
          33,
          34,
          35,
          36,
          37,
          38,
          39,
          40,
          41,
          42,
          43
         ],
         "xaxis": "x",
         "y": [
          0.0698223,
          0.09477839,
          0.081889056,
          0.122249246,
          0.1037649,
          0.09887353,
          0.108864866,
          0.09729175,
          0.09201951,
          0.09839342,
          0.22029632,
          0.10322356,
          0.27492452,
          0.45476064,
          0.12705642,
          0.06356281,
          0.002761861,
          0.07045014,
          0.12242341,
          0.26802188,
          0.98043674,
          0.54689914,
          0.01155108,
          0.06803826,
          0.0017220544,
          0.0017049666,
          0.0019281986,
          0.0027535527,
          0.0014460933,
          0.015390842,
          0.02030784,
          0.0019654774,
          0.0018049731,
          0.0043450184,
          0.9589299,
          0.007574171,
          0.058762074,
          0.0019865585,
          0.0011918843,
          0.0024654733,
          0.0014924207,
          0.0017349138,
          0.0024016518,
          0.007062414
         ],
         "yaxis": "y"
        },
        {
         "hovertemplate": "variable=topic_8<br>timepoint=%{x}<br>value=%{y}<extra></extra>",
         "legendgroup": "topic_8",
         "line": {
          "color": "#B6E880",
          "dash": "solid"
         },
         "marker": {
          "symbol": "circle"
         },
         "mode": "lines",
         "name": "topic_8",
         "orientation": "v",
         "showlegend": true,
         "type": "scatter",
         "x": [
          0,
          1,
          2,
          3,
          4,
          5,
          6,
          7,
          8,
          9,
          10,
          11,
          12,
          13,
          14,
          15,
          16,
          17,
          18,
          19,
          20,
          21,
          22,
          23,
          24,
          25,
          26,
          27,
          28,
          29,
          30,
          31,
          32,
          33,
          34,
          35,
          36,
          37,
          38,
          39,
          40,
          41,
          42,
          43
         ],
         "xaxis": "x",
         "y": [
          0.10051697,
          0.111779,
          0.08248876,
          0.0912462,
          0.09916035,
          0.09119304,
          0.08255856,
          0.10755027,
          0.08226172,
          0.099177115,
          0.0662442,
          0.095570505,
          0.054664858,
          0.06740741,
          0.04350775,
          0.03296558,
          0.0026472611,
          0.08294206,
          0.07802307,
          0.054165907,
          0.0036335627,
          0.0418546,
          0.008043896,
          0.08944731,
          0.0031319235,
          0.0017049666,
          0.003526153,
          0.0028343021,
          0.9898622,
          0.9434667,
          0.027138047,
          0.0010226284,
          0.0011309168,
          0.0031457564,
          0.005142134,
          0.02211751,
          0.1305437,
          0.0020853924,
          0.0010099172,
          0.00911509,
          0.9898499,
          0.98223054,
          0.0054444685,
          0.011167245
         ],
         "yaxis": "y"
        },
        {
         "hovertemplate": "variable=topic_9<br>timepoint=%{x}<br>value=%{y}<extra></extra>",
         "legendgroup": "topic_9",
         "line": {
          "color": "#FF97FF",
          "dash": "solid"
         },
         "marker": {
          "symbol": "circle"
         },
         "mode": "lines",
         "name": "topic_9",
         "orientation": "v",
         "showlegend": true,
         "type": "scatter",
         "x": [
          0,
          1,
          2,
          3,
          4,
          5,
          6,
          7,
          8,
          9,
          10,
          11,
          12,
          13,
          14,
          15,
          16,
          17,
          18,
          19,
          20,
          21,
          22,
          23,
          24,
          25,
          26,
          27,
          28,
          29,
          30,
          31,
          32,
          33,
          34,
          35,
          36,
          37,
          38,
          39,
          40,
          41,
          42,
          43
         ],
         "xaxis": "x",
         "y": [
          0.0698223,
          0.111779,
          0.09118441,
          0.09732523,
          0.07667931,
          0.10450589,
          0.09445045,
          0.067747235,
          0.075814605,
          0.110540755,
          0.08070332,
          0.06634972,
          0.060250606,
          0.052953932,
          0.087435395,
          0.09739629,
          0.0026472611,
          0.09457248,
          0.13383356,
          0.065469466,
          0.0012776369,
          0.051646885,
          0.90690124,
          0.09825387,
          0.0033333332,
          0.0032934449,
          0.9725258,
          0.0023498063,
          0.0011432465,
          0.00683395,
          0.035892256,
          0.0010226284,
          0.0030781904,
          0.0029612544,
          0.004844471,
          0.009901105,
          0.16750169,
          0.0031725636,
          0.0007369667,
          0.0029769822,
          0.0010235974,
          0.0023814656,
          0.00392306,
          0.010009472
         ],
         "yaxis": "y"
        },
        {
         "hovertemplate": "variable=topic_10<br>timepoint=%{x}<br>value=%{y}<extra></extra>",
         "legendgroup": "topic_10",
         "line": {
          "color": "#FECB52",
          "dash": "solid"
         },
         "marker": {
          "symbol": "circle"
         },
         "mode": "lines",
         "name": "topic_10",
         "orientation": "v",
         "showlegend": true,
         "type": "scatter",
         "x": [
          0,
          1,
          2,
          3,
          4,
          5,
          6,
          7,
          8,
          9,
          10,
          11,
          12,
          13,
          14,
          15,
          16,
          17,
          18,
          19,
          20,
          21,
          22,
          23,
          24,
          25,
          26,
          27,
          28,
          29,
          30,
          31,
          32,
          33,
          34,
          35,
          36,
          37,
          38,
          39,
          40,
          41,
          42,
          43
         ],
         "xaxis": "x",
         "y": [
          0.11764136,
          0.09174257,
          0.12686656,
          0.098541036,
          0.120557964,
          0.116794676,
          0.116432436,
          0.07882643,
          0.10386827,
          0.09839342,
          0.078204215,
          0.12177643,
          0.07851751,
          0.06325203,
          0.06611757,
          0.119167395,
          0.002761861,
          0.0904803,
          0.061403945,
          0.103573374,
          0.0022743747,
          0.042151336,
          0.011437945,
          0.1387944,
          0.97231615,
          0.008164778,
          0.0036326833,
          0.0008155685,
          0.0010675349,
          0.0046369103,
          0.022712843,
          0.0014577894,
          0.0017300779,
          0.0037915127,
          0.0068536983,
          0.009203025,
          0.057751063,
          0.0032713974,
          0.0012828679,
          0.9624654,
          0.0016486951,
          0.0018426725,
          0.9705607,
          0.925492
         ],
         "yaxis": "y"
        }
       ],
       "layout": {
        "legend": {
         "title": {
          "text": "variable"
         },
         "tracegroupgap": 0
        },
        "template": {
         "data": {
          "bar": [
           {
            "error_x": {
             "color": "#2a3f5f"
            },
            "error_y": {
             "color": "#2a3f5f"
            },
            "marker": {
             "line": {
              "color": "#E5ECF6",
              "width": 0.5
             },
             "pattern": {
              "fillmode": "overlay",
              "size": 10,
              "solidity": 0.2
             }
            },
            "type": "bar"
           }
          ],
          "barpolar": [
           {
            "marker": {
             "line": {
              "color": "#E5ECF6",
              "width": 0.5
             },
             "pattern": {
              "fillmode": "overlay",
              "size": 10,
              "solidity": 0.2
             }
            },
            "type": "barpolar"
           }
          ],
          "carpet": [
           {
            "aaxis": {
             "endlinecolor": "#2a3f5f",
             "gridcolor": "white",
             "linecolor": "white",
             "minorgridcolor": "white",
             "startlinecolor": "#2a3f5f"
            },
            "baxis": {
             "endlinecolor": "#2a3f5f",
             "gridcolor": "white",
             "linecolor": "white",
             "minorgridcolor": "white",
             "startlinecolor": "#2a3f5f"
            },
            "type": "carpet"
           }
          ],
          "choropleth": [
           {
            "colorbar": {
             "outlinewidth": 0,
             "ticks": ""
            },
            "type": "choropleth"
           }
          ],
          "contour": [
           {
            "colorbar": {
             "outlinewidth": 0,
             "ticks": ""
            },
            "colorscale": [
             [
              0,
              "#0d0887"
             ],
             [
              0.1111111111111111,
              "#46039f"
             ],
             [
              0.2222222222222222,
              "#7201a8"
             ],
             [
              0.3333333333333333,
              "#9c179e"
             ],
             [
              0.4444444444444444,
              "#bd3786"
             ],
             [
              0.5555555555555556,
              "#d8576b"
             ],
             [
              0.6666666666666666,
              "#ed7953"
             ],
             [
              0.7777777777777778,
              "#fb9f3a"
             ],
             [
              0.8888888888888888,
              "#fdca26"
             ],
             [
              1,
              "#f0f921"
             ]
            ],
            "type": "contour"
           }
          ],
          "contourcarpet": [
           {
            "colorbar": {
             "outlinewidth": 0,
             "ticks": ""
            },
            "type": "contourcarpet"
           }
          ],
          "heatmap": [
           {
            "colorbar": {
             "outlinewidth": 0,
             "ticks": ""
            },
            "colorscale": [
             [
              0,
              "#0d0887"
             ],
             [
              0.1111111111111111,
              "#46039f"
             ],
             [
              0.2222222222222222,
              "#7201a8"
             ],
             [
              0.3333333333333333,
              "#9c179e"
             ],
             [
              0.4444444444444444,
              "#bd3786"
             ],
             [
              0.5555555555555556,
              "#d8576b"
             ],
             [
              0.6666666666666666,
              "#ed7953"
             ],
             [
              0.7777777777777778,
              "#fb9f3a"
             ],
             [
              0.8888888888888888,
              "#fdca26"
             ],
             [
              1,
              "#f0f921"
             ]
            ],
            "type": "heatmap"
           }
          ],
          "heatmapgl": [
           {
            "colorbar": {
             "outlinewidth": 0,
             "ticks": ""
            },
            "colorscale": [
             [
              0,
              "#0d0887"
             ],
             [
              0.1111111111111111,
              "#46039f"
             ],
             [
              0.2222222222222222,
              "#7201a8"
             ],
             [
              0.3333333333333333,
              "#9c179e"
             ],
             [
              0.4444444444444444,
              "#bd3786"
             ],
             [
              0.5555555555555556,
              "#d8576b"
             ],
             [
              0.6666666666666666,
              "#ed7953"
             ],
             [
              0.7777777777777778,
              "#fb9f3a"
             ],
             [
              0.8888888888888888,
              "#fdca26"
             ],
             [
              1,
              "#f0f921"
             ]
            ],
            "type": "heatmapgl"
           }
          ],
          "histogram": [
           {
            "marker": {
             "pattern": {
              "fillmode": "overlay",
              "size": 10,
              "solidity": 0.2
             }
            },
            "type": "histogram"
           }
          ],
          "histogram2d": [
           {
            "colorbar": {
             "outlinewidth": 0,
             "ticks": ""
            },
            "colorscale": [
             [
              0,
              "#0d0887"
             ],
             [
              0.1111111111111111,
              "#46039f"
             ],
             [
              0.2222222222222222,
              "#7201a8"
             ],
             [
              0.3333333333333333,
              "#9c179e"
             ],
             [
              0.4444444444444444,
              "#bd3786"
             ],
             [
              0.5555555555555556,
              "#d8576b"
             ],
             [
              0.6666666666666666,
              "#ed7953"
             ],
             [
              0.7777777777777778,
              "#fb9f3a"
             ],
             [
              0.8888888888888888,
              "#fdca26"
             ],
             [
              1,
              "#f0f921"
             ]
            ],
            "type": "histogram2d"
           }
          ],
          "histogram2dcontour": [
           {
            "colorbar": {
             "outlinewidth": 0,
             "ticks": ""
            },
            "colorscale": [
             [
              0,
              "#0d0887"
             ],
             [
              0.1111111111111111,
              "#46039f"
             ],
             [
              0.2222222222222222,
              "#7201a8"
             ],
             [
              0.3333333333333333,
              "#9c179e"
             ],
             [
              0.4444444444444444,
              "#bd3786"
             ],
             [
              0.5555555555555556,
              "#d8576b"
             ],
             [
              0.6666666666666666,
              "#ed7953"
             ],
             [
              0.7777777777777778,
              "#fb9f3a"
             ],
             [
              0.8888888888888888,
              "#fdca26"
             ],
             [
              1,
              "#f0f921"
             ]
            ],
            "type": "histogram2dcontour"
           }
          ],
          "mesh3d": [
           {
            "colorbar": {
             "outlinewidth": 0,
             "ticks": ""
            },
            "type": "mesh3d"
           }
          ],
          "parcoords": [
           {
            "line": {
             "colorbar": {
              "outlinewidth": 0,
              "ticks": ""
             }
            },
            "type": "parcoords"
           }
          ],
          "pie": [
           {
            "automargin": true,
            "type": "pie"
           }
          ],
          "scatter": [
           {
            "fillpattern": {
             "fillmode": "overlay",
             "size": 10,
             "solidity": 0.2
            },
            "type": "scatter"
           }
          ],
          "scatter3d": [
           {
            "line": {
             "colorbar": {
              "outlinewidth": 0,
              "ticks": ""
             }
            },
            "marker": {
             "colorbar": {
              "outlinewidth": 0,
              "ticks": ""
             }
            },
            "type": "scatter3d"
           }
          ],
          "scattercarpet": [
           {
            "marker": {
             "colorbar": {
              "outlinewidth": 0,
              "ticks": ""
             }
            },
            "type": "scattercarpet"
           }
          ],
          "scattergeo": [
           {
            "marker": {
             "colorbar": {
              "outlinewidth": 0,
              "ticks": ""
             }
            },
            "type": "scattergeo"
           }
          ],
          "scattergl": [
           {
            "marker": {
             "colorbar": {
              "outlinewidth": 0,
              "ticks": ""
             }
            },
            "type": "scattergl"
           }
          ],
          "scattermapbox": [
           {
            "marker": {
             "colorbar": {
              "outlinewidth": 0,
              "ticks": ""
             }
            },
            "type": "scattermapbox"
           }
          ],
          "scatterpolar": [
           {
            "marker": {
             "colorbar": {
              "outlinewidth": 0,
              "ticks": ""
             }
            },
            "type": "scatterpolar"
           }
          ],
          "scatterpolargl": [
           {
            "marker": {
             "colorbar": {
              "outlinewidth": 0,
              "ticks": ""
             }
            },
            "type": "scatterpolargl"
           }
          ],
          "scatterternary": [
           {
            "marker": {
             "colorbar": {
              "outlinewidth": 0,
              "ticks": ""
             }
            },
            "type": "scatterternary"
           }
          ],
          "surface": [
           {
            "colorbar": {
             "outlinewidth": 0,
             "ticks": ""
            },
            "colorscale": [
             [
              0,
              "#0d0887"
             ],
             [
              0.1111111111111111,
              "#46039f"
             ],
             [
              0.2222222222222222,
              "#7201a8"
             ],
             [
              0.3333333333333333,
              "#9c179e"
             ],
             [
              0.4444444444444444,
              "#bd3786"
             ],
             [
              0.5555555555555556,
              "#d8576b"
             ],
             [
              0.6666666666666666,
              "#ed7953"
             ],
             [
              0.7777777777777778,
              "#fb9f3a"
             ],
             [
              0.8888888888888888,
              "#fdca26"
             ],
             [
              1,
              "#f0f921"
             ]
            ],
            "type": "surface"
           }
          ],
          "table": [
           {
            "cells": {
             "fill": {
              "color": "#EBF0F8"
             },
             "line": {
              "color": "white"
             }
            },
            "header": {
             "fill": {
              "color": "#C8D4E3"
             },
             "line": {
              "color": "white"
             }
            },
            "type": "table"
           }
          ]
         },
         "layout": {
          "annotationdefaults": {
           "arrowcolor": "#2a3f5f",
           "arrowhead": 0,
           "arrowwidth": 1
          },
          "autotypenumbers": "strict",
          "coloraxis": {
           "colorbar": {
            "outlinewidth": 0,
            "ticks": ""
           }
          },
          "colorscale": {
           "diverging": [
            [
             0,
             "#8e0152"
            ],
            [
             0.1,
             "#c51b7d"
            ],
            [
             0.2,
             "#de77ae"
            ],
            [
             0.3,
             "#f1b6da"
            ],
            [
             0.4,
             "#fde0ef"
            ],
            [
             0.5,
             "#f7f7f7"
            ],
            [
             0.6,
             "#e6f5d0"
            ],
            [
             0.7,
             "#b8e186"
            ],
            [
             0.8,
             "#7fbc41"
            ],
            [
             0.9,
             "#4d9221"
            ],
            [
             1,
             "#276419"
            ]
           ],
           "sequential": [
            [
             0,
             "#0d0887"
            ],
            [
             0.1111111111111111,
             "#46039f"
            ],
            [
             0.2222222222222222,
             "#7201a8"
            ],
            [
             0.3333333333333333,
             "#9c179e"
            ],
            [
             0.4444444444444444,
             "#bd3786"
            ],
            [
             0.5555555555555556,
             "#d8576b"
            ],
            [
             0.6666666666666666,
             "#ed7953"
            ],
            [
             0.7777777777777778,
             "#fb9f3a"
            ],
            [
             0.8888888888888888,
             "#fdca26"
            ],
            [
             1,
             "#f0f921"
            ]
           ],
           "sequentialminus": [
            [
             0,
             "#0d0887"
            ],
            [
             0.1111111111111111,
             "#46039f"
            ],
            [
             0.2222222222222222,
             "#7201a8"
            ],
            [
             0.3333333333333333,
             "#9c179e"
            ],
            [
             0.4444444444444444,
             "#bd3786"
            ],
            [
             0.5555555555555556,
             "#d8576b"
            ],
            [
             0.6666666666666666,
             "#ed7953"
            ],
            [
             0.7777777777777778,
             "#fb9f3a"
            ],
            [
             0.8888888888888888,
             "#fdca26"
            ],
            [
             1,
             "#f0f921"
            ]
           ]
          },
          "colorway": [
           "#636efa",
           "#EF553B",
           "#00cc96",
           "#ab63fa",
           "#FFA15A",
           "#19d3f3",
           "#FF6692",
           "#B6E880",
           "#FF97FF",
           "#FECB52"
          ],
          "font": {
           "color": "#2a3f5f"
          },
          "geo": {
           "bgcolor": "white",
           "lakecolor": "white",
           "landcolor": "#E5ECF6",
           "showlakes": true,
           "showland": true,
           "subunitcolor": "white"
          },
          "hoverlabel": {
           "align": "left"
          },
          "hovermode": "closest",
          "mapbox": {
           "style": "light"
          },
          "paper_bgcolor": "white",
          "plot_bgcolor": "#E5ECF6",
          "polar": {
           "angularaxis": {
            "gridcolor": "white",
            "linecolor": "white",
            "ticks": ""
           },
           "bgcolor": "#E5ECF6",
           "radialaxis": {
            "gridcolor": "white",
            "linecolor": "white",
            "ticks": ""
           }
          },
          "scene": {
           "xaxis": {
            "backgroundcolor": "#E5ECF6",
            "gridcolor": "white",
            "gridwidth": 2,
            "linecolor": "white",
            "showbackground": true,
            "ticks": "",
            "zerolinecolor": "white"
           },
           "yaxis": {
            "backgroundcolor": "#E5ECF6",
            "gridcolor": "white",
            "gridwidth": 2,
            "linecolor": "white",
            "showbackground": true,
            "ticks": "",
            "zerolinecolor": "white"
           },
           "zaxis": {
            "backgroundcolor": "#E5ECF6",
            "gridcolor": "white",
            "gridwidth": 2,
            "linecolor": "white",
            "showbackground": true,
            "ticks": "",
            "zerolinecolor": "white"
           }
          },
          "shapedefaults": {
           "line": {
            "color": "#2a3f5f"
           }
          },
          "ternary": {
           "aaxis": {
            "gridcolor": "white",
            "linecolor": "white",
            "ticks": ""
           },
           "baxis": {
            "gridcolor": "white",
            "linecolor": "white",
            "ticks": ""
           },
           "bgcolor": "#E5ECF6",
           "caxis": {
            "gridcolor": "white",
            "linecolor": "white",
            "ticks": ""
           }
          },
          "title": {
           "x": 0.05
          },
          "xaxis": {
           "automargin": true,
           "gridcolor": "white",
           "linecolor": "white",
           "ticks": "",
           "title": {
            "standoff": 15
           },
           "zerolinecolor": "white",
           "zerolinewidth": 2
          },
          "yaxis": {
           "automargin": true,
           "gridcolor": "white",
           "linecolor": "white",
           "ticks": "",
           "title": {
            "standoff": 15
           },
           "zerolinecolor": "white",
           "zerolinewidth": 2
          }
         }
        },
        "title": {
         "text": "MD: All Time Period Common Topics"
        },
        "xaxis": {
         "anchor": "y",
         "domain": [
          0,
          1
         ],
         "dtick": "M1",
         "tickformat": "%b %d",
         "ticklabelmode": "period",
         "title": {
          "text": "timepoint"
         }
        },
        "yaxis": {
         "anchor": "x",
         "domain": [
          0,
          1
         ],
         "title": {
          "text": "value"
         }
        }
       }
      }
     },
     "metadata": {},
     "output_type": "display_data"
    }
   ],
   "source": [
    "fig = px.line(md_dtm_td, x=\"timepoint\", y=md_dtm_td.columns,\n",
    "              title='MD: All Time Period Common Topics')\n",
    "fig.update_xaxes(\n",
    "    dtick=\"M1\",\n",
    "    tickformat=\"%b %d\",\n",
    "    ticklabelmode=\"period\")\n",
    "fig.show()"
   ]
  },
  {
   "cell_type": "markdown",
   "metadata": {},
   "source": [
    "## MD: Early Time Period Common Topics 1 (Year 2011-2012)"
   ]
  },
  {
   "cell_type": "code",
   "execution_count": 40,
   "metadata": {},
   "outputs": [
    {
     "data": {
      "application/vnd.plotly.v1+json": {
       "config": {
        "plotlyServerURL": "https://plot.ly"
       },
       "data": [
        {
         "hovertemplate": "variable=topic_3<br>timepoint=%{x}<br>value=%{y}<extra></extra>",
         "legendgroup": "topic_3",
         "line": {
          "color": "#636efa",
          "dash": "solid"
         },
         "marker": {
          "symbol": "circle"
         },
         "mode": "lines",
         "name": "topic_3",
         "orientation": "v",
         "showlegend": true,
         "type": "scatter",
         "x": [
          0,
          1,
          2,
          3,
          4,
          5,
          6,
          7,
          8,
          9,
          10,
          11,
          12,
          13,
          14,
          15,
          16,
          17,
          18,
          19,
          20,
          21,
          22,
          23,
          24,
          25,
          26,
          27,
          28,
          29,
          30,
          31,
          32,
          33,
          34,
          35,
          36,
          37,
          38,
          39,
          40,
          41,
          42,
          43
         ],
         "xaxis": "x",
         "y": [
          0.09567044,
          0.08445659,
          0.09688156,
          0.09671733,
          0.10999458,
          0.11269841,
          0.083639644,
          0.093598686,
          0.0735494,
          0.13561912,
          0.07499108,
          0.1338358,
          0.1017663,
          0.046811204,
          0.057934966,
          0.03929097,
          0.002761861,
          0.077557616,
          0.08211584,
          0.10886052,
          0.0034523376,
          0.047195848,
          0.006460007,
          0.066216215,
          0.002426989,
          0.0026580535,
          0.0029935017,
          0.00073481916,
          0.0010675349,
          0.004983811,
          0.016459838,
          0.0010951553,
          0.0014304974,
          0.0022232472,
          0.0029096592,
          0.00547993,
          0.061570432,
          0.0018877249,
          0.0012828679,
          0.003079284,
          0.0005547742,
          0.002273707,
          0.003053684,
          0.010114725
         ],
         "yaxis": "y"
        }
       ],
       "layout": {
        "legend": {
         "title": {
          "text": "variable"
         },
         "tracegroupgap": 0
        },
        "template": {
         "data": {
          "bar": [
           {
            "error_x": {
             "color": "#2a3f5f"
            },
            "error_y": {
             "color": "#2a3f5f"
            },
            "marker": {
             "line": {
              "color": "#E5ECF6",
              "width": 0.5
             },
             "pattern": {
              "fillmode": "overlay",
              "size": 10,
              "solidity": 0.2
             }
            },
            "type": "bar"
           }
          ],
          "barpolar": [
           {
            "marker": {
             "line": {
              "color": "#E5ECF6",
              "width": 0.5
             },
             "pattern": {
              "fillmode": "overlay",
              "size": 10,
              "solidity": 0.2
             }
            },
            "type": "barpolar"
           }
          ],
          "carpet": [
           {
            "aaxis": {
             "endlinecolor": "#2a3f5f",
             "gridcolor": "white",
             "linecolor": "white",
             "minorgridcolor": "white",
             "startlinecolor": "#2a3f5f"
            },
            "baxis": {
             "endlinecolor": "#2a3f5f",
             "gridcolor": "white",
             "linecolor": "white",
             "minorgridcolor": "white",
             "startlinecolor": "#2a3f5f"
            },
            "type": "carpet"
           }
          ],
          "choropleth": [
           {
            "colorbar": {
             "outlinewidth": 0,
             "ticks": ""
            },
            "type": "choropleth"
           }
          ],
          "contour": [
           {
            "colorbar": {
             "outlinewidth": 0,
             "ticks": ""
            },
            "colorscale": [
             [
              0,
              "#0d0887"
             ],
             [
              0.1111111111111111,
              "#46039f"
             ],
             [
              0.2222222222222222,
              "#7201a8"
             ],
             [
              0.3333333333333333,
              "#9c179e"
             ],
             [
              0.4444444444444444,
              "#bd3786"
             ],
             [
              0.5555555555555556,
              "#d8576b"
             ],
             [
              0.6666666666666666,
              "#ed7953"
             ],
             [
              0.7777777777777778,
              "#fb9f3a"
             ],
             [
              0.8888888888888888,
              "#fdca26"
             ],
             [
              1,
              "#f0f921"
             ]
            ],
            "type": "contour"
           }
          ],
          "contourcarpet": [
           {
            "colorbar": {
             "outlinewidth": 0,
             "ticks": ""
            },
            "type": "contourcarpet"
           }
          ],
          "heatmap": [
           {
            "colorbar": {
             "outlinewidth": 0,
             "ticks": ""
            },
            "colorscale": [
             [
              0,
              "#0d0887"
             ],
             [
              0.1111111111111111,
              "#46039f"
             ],
             [
              0.2222222222222222,
              "#7201a8"
             ],
             [
              0.3333333333333333,
              "#9c179e"
             ],
             [
              0.4444444444444444,
              "#bd3786"
             ],
             [
              0.5555555555555556,
              "#d8576b"
             ],
             [
              0.6666666666666666,
              "#ed7953"
             ],
             [
              0.7777777777777778,
              "#fb9f3a"
             ],
             [
              0.8888888888888888,
              "#fdca26"
             ],
             [
              1,
              "#f0f921"
             ]
            ],
            "type": "heatmap"
           }
          ],
          "heatmapgl": [
           {
            "colorbar": {
             "outlinewidth": 0,
             "ticks": ""
            },
            "colorscale": [
             [
              0,
              "#0d0887"
             ],
             [
              0.1111111111111111,
              "#46039f"
             ],
             [
              0.2222222222222222,
              "#7201a8"
             ],
             [
              0.3333333333333333,
              "#9c179e"
             ],
             [
              0.4444444444444444,
              "#bd3786"
             ],
             [
              0.5555555555555556,
              "#d8576b"
             ],
             [
              0.6666666666666666,
              "#ed7953"
             ],
             [
              0.7777777777777778,
              "#fb9f3a"
             ],
             [
              0.8888888888888888,
              "#fdca26"
             ],
             [
              1,
              "#f0f921"
             ]
            ],
            "type": "heatmapgl"
           }
          ],
          "histogram": [
           {
            "marker": {
             "pattern": {
              "fillmode": "overlay",
              "size": 10,
              "solidity": 0.2
             }
            },
            "type": "histogram"
           }
          ],
          "histogram2d": [
           {
            "colorbar": {
             "outlinewidth": 0,
             "ticks": ""
            },
            "colorscale": [
             [
              0,
              "#0d0887"
             ],
             [
              0.1111111111111111,
              "#46039f"
             ],
             [
              0.2222222222222222,
              "#7201a8"
             ],
             [
              0.3333333333333333,
              "#9c179e"
             ],
             [
              0.4444444444444444,
              "#bd3786"
             ],
             [
              0.5555555555555556,
              "#d8576b"
             ],
             [
              0.6666666666666666,
              "#ed7953"
             ],
             [
              0.7777777777777778,
              "#fb9f3a"
             ],
             [
              0.8888888888888888,
              "#fdca26"
             ],
             [
              1,
              "#f0f921"
             ]
            ],
            "type": "histogram2d"
           }
          ],
          "histogram2dcontour": [
           {
            "colorbar": {
             "outlinewidth": 0,
             "ticks": ""
            },
            "colorscale": [
             [
              0,
              "#0d0887"
             ],
             [
              0.1111111111111111,
              "#46039f"
             ],
             [
              0.2222222222222222,
              "#7201a8"
             ],
             [
              0.3333333333333333,
              "#9c179e"
             ],
             [
              0.4444444444444444,
              "#bd3786"
             ],
             [
              0.5555555555555556,
              "#d8576b"
             ],
             [
              0.6666666666666666,
              "#ed7953"
             ],
             [
              0.7777777777777778,
              "#fb9f3a"
             ],
             [
              0.8888888888888888,
              "#fdca26"
             ],
             [
              1,
              "#f0f921"
             ]
            ],
            "type": "histogram2dcontour"
           }
          ],
          "mesh3d": [
           {
            "colorbar": {
             "outlinewidth": 0,
             "ticks": ""
            },
            "type": "mesh3d"
           }
          ],
          "parcoords": [
           {
            "line": {
             "colorbar": {
              "outlinewidth": 0,
              "ticks": ""
             }
            },
            "type": "parcoords"
           }
          ],
          "pie": [
           {
            "automargin": true,
            "type": "pie"
           }
          ],
          "scatter": [
           {
            "fillpattern": {
             "fillmode": "overlay",
             "size": 10,
             "solidity": 0.2
            },
            "type": "scatter"
           }
          ],
          "scatter3d": [
           {
            "line": {
             "colorbar": {
              "outlinewidth": 0,
              "ticks": ""
             }
            },
            "marker": {
             "colorbar": {
              "outlinewidth": 0,
              "ticks": ""
             }
            },
            "type": "scatter3d"
           }
          ],
          "scattercarpet": [
           {
            "marker": {
             "colorbar": {
              "outlinewidth": 0,
              "ticks": ""
             }
            },
            "type": "scattercarpet"
           }
          ],
          "scattergeo": [
           {
            "marker": {
             "colorbar": {
              "outlinewidth": 0,
              "ticks": ""
             }
            },
            "type": "scattergeo"
           }
          ],
          "scattergl": [
           {
            "marker": {
             "colorbar": {
              "outlinewidth": 0,
              "ticks": ""
             }
            },
            "type": "scattergl"
           }
          ],
          "scattermapbox": [
           {
            "marker": {
             "colorbar": {
              "outlinewidth": 0,
              "ticks": ""
             }
            },
            "type": "scattermapbox"
           }
          ],
          "scatterpolar": [
           {
            "marker": {
             "colorbar": {
              "outlinewidth": 0,
              "ticks": ""
             }
            },
            "type": "scatterpolar"
           }
          ],
          "scatterpolargl": [
           {
            "marker": {
             "colorbar": {
              "outlinewidth": 0,
              "ticks": ""
             }
            },
            "type": "scatterpolargl"
           }
          ],
          "scatterternary": [
           {
            "marker": {
             "colorbar": {
              "outlinewidth": 0,
              "ticks": ""
             }
            },
            "type": "scatterternary"
           }
          ],
          "surface": [
           {
            "colorbar": {
             "outlinewidth": 0,
             "ticks": ""
            },
            "colorscale": [
             [
              0,
              "#0d0887"
             ],
             [
              0.1111111111111111,
              "#46039f"
             ],
             [
              0.2222222222222222,
              "#7201a8"
             ],
             [
              0.3333333333333333,
              "#9c179e"
             ],
             [
              0.4444444444444444,
              "#bd3786"
             ],
             [
              0.5555555555555556,
              "#d8576b"
             ],
             [
              0.6666666666666666,
              "#ed7953"
             ],
             [
              0.7777777777777778,
              "#fb9f3a"
             ],
             [
              0.8888888888888888,
              "#fdca26"
             ],
             [
              1,
              "#f0f921"
             ]
            ],
            "type": "surface"
           }
          ],
          "table": [
           {
            "cells": {
             "fill": {
              "color": "#EBF0F8"
             },
             "line": {
              "color": "white"
             }
            },
            "header": {
             "fill": {
              "color": "#C8D4E3"
             },
             "line": {
              "color": "white"
             }
            },
            "type": "table"
           }
          ]
         },
         "layout": {
          "annotationdefaults": {
           "arrowcolor": "#2a3f5f",
           "arrowhead": 0,
           "arrowwidth": 1
          },
          "autotypenumbers": "strict",
          "coloraxis": {
           "colorbar": {
            "outlinewidth": 0,
            "ticks": ""
           }
          },
          "colorscale": {
           "diverging": [
            [
             0,
             "#8e0152"
            ],
            [
             0.1,
             "#c51b7d"
            ],
            [
             0.2,
             "#de77ae"
            ],
            [
             0.3,
             "#f1b6da"
            ],
            [
             0.4,
             "#fde0ef"
            ],
            [
             0.5,
             "#f7f7f7"
            ],
            [
             0.6,
             "#e6f5d0"
            ],
            [
             0.7,
             "#b8e186"
            ],
            [
             0.8,
             "#7fbc41"
            ],
            [
             0.9,
             "#4d9221"
            ],
            [
             1,
             "#276419"
            ]
           ],
           "sequential": [
            [
             0,
             "#0d0887"
            ],
            [
             0.1111111111111111,
             "#46039f"
            ],
            [
             0.2222222222222222,
             "#7201a8"
            ],
            [
             0.3333333333333333,
             "#9c179e"
            ],
            [
             0.4444444444444444,
             "#bd3786"
            ],
            [
             0.5555555555555556,
             "#d8576b"
            ],
            [
             0.6666666666666666,
             "#ed7953"
            ],
            [
             0.7777777777777778,
             "#fb9f3a"
            ],
            [
             0.8888888888888888,
             "#fdca26"
            ],
            [
             1,
             "#f0f921"
            ]
           ],
           "sequentialminus": [
            [
             0,
             "#0d0887"
            ],
            [
             0.1111111111111111,
             "#46039f"
            ],
            [
             0.2222222222222222,
             "#7201a8"
            ],
            [
             0.3333333333333333,
             "#9c179e"
            ],
            [
             0.4444444444444444,
             "#bd3786"
            ],
            [
             0.5555555555555556,
             "#d8576b"
            ],
            [
             0.6666666666666666,
             "#ed7953"
            ],
            [
             0.7777777777777778,
             "#fb9f3a"
            ],
            [
             0.8888888888888888,
             "#fdca26"
            ],
            [
             1,
             "#f0f921"
            ]
           ]
          },
          "colorway": [
           "#636efa",
           "#EF553B",
           "#00cc96",
           "#ab63fa",
           "#FFA15A",
           "#19d3f3",
           "#FF6692",
           "#B6E880",
           "#FF97FF",
           "#FECB52"
          ],
          "font": {
           "color": "#2a3f5f"
          },
          "geo": {
           "bgcolor": "white",
           "lakecolor": "white",
           "landcolor": "#E5ECF6",
           "showlakes": true,
           "showland": true,
           "subunitcolor": "white"
          },
          "hoverlabel": {
           "align": "left"
          },
          "hovermode": "closest",
          "mapbox": {
           "style": "light"
          },
          "paper_bgcolor": "white",
          "plot_bgcolor": "#E5ECF6",
          "polar": {
           "angularaxis": {
            "gridcolor": "white",
            "linecolor": "white",
            "ticks": ""
           },
           "bgcolor": "#E5ECF6",
           "radialaxis": {
            "gridcolor": "white",
            "linecolor": "white",
            "ticks": ""
           }
          },
          "scene": {
           "xaxis": {
            "backgroundcolor": "#E5ECF6",
            "gridcolor": "white",
            "gridwidth": 2,
            "linecolor": "white",
            "showbackground": true,
            "ticks": "",
            "zerolinecolor": "white"
           },
           "yaxis": {
            "backgroundcolor": "#E5ECF6",
            "gridcolor": "white",
            "gridwidth": 2,
            "linecolor": "white",
            "showbackground": true,
            "ticks": "",
            "zerolinecolor": "white"
           },
           "zaxis": {
            "backgroundcolor": "#E5ECF6",
            "gridcolor": "white",
            "gridwidth": 2,
            "linecolor": "white",
            "showbackground": true,
            "ticks": "",
            "zerolinecolor": "white"
           }
          },
          "shapedefaults": {
           "line": {
            "color": "#2a3f5f"
           }
          },
          "ternary": {
           "aaxis": {
            "gridcolor": "white",
            "linecolor": "white",
            "ticks": ""
           },
           "baxis": {
            "gridcolor": "white",
            "linecolor": "white",
            "ticks": ""
           },
           "bgcolor": "#E5ECF6",
           "caxis": {
            "gridcolor": "white",
            "linecolor": "white",
            "ticks": ""
           }
          },
          "title": {
           "x": 0.05
          },
          "xaxis": {
           "automargin": true,
           "gridcolor": "white",
           "linecolor": "white",
           "ticks": "",
           "title": {
            "standoff": 15
           },
           "zerolinecolor": "white",
           "zerolinewidth": 2
          },
          "yaxis": {
           "automargin": true,
           "gridcolor": "white",
           "linecolor": "white",
           "ticks": "",
           "title": {
            "standoff": 15
           },
           "zerolinecolor": "white",
           "zerolinewidth": 2
          }
         }
        },
        "title": {
         "text": "MD: Early Time Period Common Topics 1 (Year 2011-2012)"
        },
        "xaxis": {
         "anchor": "y",
         "domain": [
          0,
          1
         ],
         "dtick": "M1",
         "tickformat": "%b %d",
         "ticklabelmode": "period",
         "title": {
          "text": "timepoint"
         }
        },
        "yaxis": {
         "anchor": "x",
         "domain": [
          0,
          1
         ],
         "title": {
          "text": "value"
         }
        }
       }
      }
     },
     "metadata": {},
     "output_type": "display_data"
    }
   ],
   "source": [
    "\n",
    "fig = px.line(md_dtm_td, x=\"timepoint\", y=['topic_3'],\n",
    "              title='MD: Early Time Period Common Topics 1 (Year 2011-2012)')\n",
    "fig.update_xaxes(\n",
    "    dtick=\"M1\",\n",
    "    tickformat=\"%b %d\",\n",
    "    ticklabelmode=\"period\")\n",
    "fig.show()"
   ]
  },
  {
   "cell_type": "code",
   "execution_count": 90,
   "metadata": {},
   "outputs": [
    {
     "data": {
      "text/html": [
       "<div>\n",
       "<style scoped>\n",
       "    .dataframe tbody tr th:only-of-type {\n",
       "        vertical-align: middle;\n",
       "    }\n",
       "\n",
       "    .dataframe tbody tr th {\n",
       "        vertical-align: top;\n",
       "    }\n",
       "\n",
       "    .dataframe thead th {\n",
       "        text-align: right;\n",
       "    }\n",
       "</style>\n",
       "<table border=\"1\" class=\"dataframe\">\n",
       "  <thead>\n",
       "    <tr style=\"text-align: right;\">\n",
       "      <th></th>\n",
       "      <th>58</th>\n",
       "      <th>29</th>\n",
       "      <th>6</th>\n",
       "      <th>12</th>\n",
       "      <th>13</th>\n",
       "      <th>27</th>\n",
       "      <th>22</th>\n",
       "      <th>31</th>\n",
       "      <th>30</th>\n",
       "      <th>55</th>\n",
       "      <th>...</th>\n",
       "      <th>20</th>\n",
       "      <th>48</th>\n",
       "      <th>47</th>\n",
       "      <th>1</th>\n",
       "      <th>26</th>\n",
       "      <th>44</th>\n",
       "      <th>17</th>\n",
       "      <th>5</th>\n",
       "      <th>41</th>\n",
       "      <th>33</th>\n",
       "    </tr>\n",
       "  </thead>\n",
       "  <tbody>\n",
       "    <tr>\n",
       "      <th>word</th>\n",
       "      <td>yen</td>\n",
       "      <td>jpyb</td>\n",
       "      <td>crop</td>\n",
       "      <td>ehquake</td>\n",
       "      <td>eﬀect</td>\n",
       "      <td>injury</td>\n",
       "      <td>impairment</td>\n",
       "      <td>lapse</td>\n",
       "      <td>jpyb</td>\n",
       "      <td>vitality</td>\n",
       "      <td>...</td>\n",
       "      <td>guarantee</td>\n",
       "      <td>revision</td>\n",
       "      <td>retro</td>\n",
       "      <td>breakdown</td>\n",
       "      <td>inflow</td>\n",
       "      <td>reinsurer</td>\n",
       "      <td>flood</td>\n",
       "      <td>crop</td>\n",
       "      <td>power</td>\n",
       "      <td>member</td>\n",
       "    </tr>\n",
       "    <tr>\n",
       "      <th>timepoint</th>\n",
       "      <td>5</td>\n",
       "      <td>5</td>\n",
       "      <td>7</td>\n",
       "      <td>7</td>\n",
       "      <td>0</td>\n",
       "      <td>3</td>\n",
       "      <td>3</td>\n",
       "      <td>2</td>\n",
       "      <td>7</td>\n",
       "      <td>2</td>\n",
       "      <td>...</td>\n",
       "      <td>5</td>\n",
       "      <td>5</td>\n",
       "      <td>5</td>\n",
       "      <td>5</td>\n",
       "      <td>5</td>\n",
       "      <td>5</td>\n",
       "      <td>5</td>\n",
       "      <td>4</td>\n",
       "      <td>4</td>\n",
       "      <td>4</td>\n",
       "    </tr>\n",
       "    <tr>\n",
       "      <th>prob</th>\n",
       "      <td>0.01597</td>\n",
       "      <td>0.01142</td>\n",
       "      <td>0.01103</td>\n",
       "      <td>0.01102</td>\n",
       "      <td>0.0102</td>\n",
       "      <td>0.00949</td>\n",
       "      <td>0.00949</td>\n",
       "      <td>0.00935</td>\n",
       "      <td>0.00883</td>\n",
       "      <td>0.0078</td>\n",
       "      <td>...</td>\n",
       "      <td>0.00461</td>\n",
       "      <td>0.0046</td>\n",
       "      <td>0.0046</td>\n",
       "      <td>0.0046</td>\n",
       "      <td>0.0046</td>\n",
       "      <td>0.0046</td>\n",
       "      <td>0.0046</td>\n",
       "      <td>0.00375</td>\n",
       "      <td>0.00375</td>\n",
       "      <td>0.00375</td>\n",
       "    </tr>\n",
       "  </tbody>\n",
       "</table>\n",
       "<p>3 rows × 60 columns</p>\n",
       "</div>"
      ],
      "text/plain": [
       "                58       29       6        12      13       27          22  \\\n",
       "word           yen     jpyb     crop  ehquake   eﬀect   injury  impairment   \n",
       "timepoint        5        5        7        7       0        3           3   \n",
       "prob       0.01597  0.01142  0.01103  0.01102  0.0102  0.00949     0.00949   \n",
       "\n",
       "                31       30        55  ...         20        48      47  \\\n",
       "word         lapse     jpyb  vitality  ...  guarantee  revision   retro   \n",
       "timepoint        2        7         2  ...          5         5       5   \n",
       "prob       0.00935  0.00883    0.0078  ...    0.00461    0.0046  0.0046   \n",
       "\n",
       "                  1       26         44      17       5        41       33  \n",
       "word       breakdown  inflow  reinsurer   flood     crop    power   member  \n",
       "timepoint          5       5          5       5        4        4        4  \n",
       "prob          0.0046  0.0046     0.0046  0.0046  0.00375  0.00375  0.00375  \n",
       "\n",
       "[3 rows x 60 columns]"
      ]
     },
     "execution_count": 90,
     "metadata": {},
     "output_type": "execute_result"
    }
   ],
   "source": [
    "# topic_3\n",
    "topic_3 = md_dtm_wt[md_dtm_wt['k']==2] # start with 0\n",
    "# select timepoint\n",
    "topic_3_0 = topic_3[topic_3['timepoint']==0]\n",
    "topic_3_2 = topic_3[topic_3['timepoint']==2]\n",
    "topic_3_3 = topic_3[topic_3['timepoint']==3]\n",
    "topic_3_4 = topic_3[topic_3['timepoint']==4]\n",
    "topic_3_5 = topic_3[topic_3['timepoint']==5]\n",
    "topic_3_7 = topic_3[topic_3['timepoint']==7]\n",
    "\n",
    "# concat\n",
    "topic_3_concat = pd.concat([topic_3_0, topic_3_2, topic_3_3, topic_3_4,topic_3_5,topic_3_7], ignore_index=True)\n",
    "topic_all_early1 = topic_3_concate.groupby(['word','timepoint'])['prob'].mean().reset_index()\n",
    "topic_all_early1.sort_values(by='prob', ascending=False, inplace=True)\n",
    "topic_all_early1.T"
   ]
  },
  {
   "cell_type": "markdown",
   "metadata": {},
   "source": [
    "## MD: Early Time Period Common Topics 2 (Year 2013-201)"
   ]
  },
  {
   "cell_type": "code",
   "execution_count": 38,
   "metadata": {},
   "outputs": [
    {
     "data": {
      "application/vnd.plotly.v1+json": {
       "config": {
        "plotlyServerURL": "https://plot.ly"
       },
       "data": [
        {
         "hovertemplate": "variable=topic_1<br>timepoint=%{x}<br>value=%{y}<extra></extra>",
         "legendgroup": "topic_1",
         "line": {
          "color": "#636efa",
          "dash": "solid"
         },
         "marker": {
          "symbol": "circle"
         },
         "mode": "lines",
         "name": "topic_1",
         "orientation": "v",
         "showlegend": true,
         "type": "scatter",
         "x": [
          0,
          1,
          2,
          3,
          4,
          5,
          6,
          7,
          8,
          9,
          10,
          11,
          12,
          13,
          14,
          15,
          16,
          17,
          18,
          19,
          20,
          21,
          22,
          23,
          24,
          25,
          26,
          27,
          28,
          29,
          30,
          31,
          32,
          33,
          34,
          35,
          36,
          37,
          38,
          39,
          40,
          41,
          42,
          43
         ],
         "xaxis": "x",
         "y": [
          0.12054928,
          0.07717061,
          0.073793106,
          0.09732523,
          0.08263814,
          0.08095238,
          0.07174775,
          0.14242922,
          0.15910436,
          0.09251568,
          0.13318457,
          0.09394713,
          0.087877415,
          0.04988257,
          0.04695306,
          0.0413504,
          0.0032202613,
          0.081649795,
          0.08099963,
          0.120893344,
          0.0020931498,
          0.08280415,
          0.017547235,
          0.11176738,
          0.002527694,
          0.0020226624,
          0.0042718654,
          0.9857154,
          0.0011432465,
          0.005446346,
          0.034834057,
          0.0014577894,
          0.0016551828,
          0.0028690037,
          0.0043979757,
          0.008272251,
          0.1734554,
          0.0014923898,
          0.0009189337,
          0.0028746803,
          0.0011017347,
          0.0023814656,
          0.0024016518,
          0.009588464
         ],
         "yaxis": "y"
        },
        {
         "hovertemplate": "variable=topic_2<br>timepoint=%{x}<br>value=%{y}<extra></extra>",
         "legendgroup": "topic_2",
         "line": {
          "color": "#EF553B",
          "dash": "solid"
         },
         "marker": {
          "symbol": "circle"
         },
         "mode": "lines",
         "name": "topic_2",
         "orientation": "v",
         "showlegend": true,
         "type": "scatter",
         "x": [
          0,
          1,
          2,
          3,
          4,
          5,
          6,
          7,
          8,
          9,
          10,
          11,
          12,
          13,
          14,
          15,
          16,
          17,
          18,
          19,
          20,
          21,
          22,
          23,
          24,
          25,
          26,
          27,
          28,
          29,
          30,
          31,
          32,
          33,
          34,
          35,
          36,
          37,
          38,
          39,
          40,
          41,
          42,
          43
         ],
         "xaxis": "x",
         "y": [
          0.13799678,
          0.09720705,
          0.10767616,
          0.11677812,
          0.07695016,
          0.08453661,
          0.09409009,
          0.08949529,
          0.059435442,
          0.09956897,
          0.089450195,
          0.16189702,
          0.12969504,
          0.11438121,
          0.06331826,
          0.039143868,
          0.0018450607,
          0.07174241,
          0.1292447,
          0.078596175,
          0.0023649873,
          0.030875372,
          0.008948976,
          0.07441543,
          0.0057502515,
          0.97554797,
          0.0043783956,
          0.0016230621,
          0.00084039976,
          0.0059088804,
          0.035411257,
          0.0005874674,
          0.0012807071,
          0.00351476,
          0.00343057,
          0.904491,
          0.05674006,
          0.0020853924,
          0.0008279502,
          0.0032838874,
          0.0010235974,
          0.0018426725,
          0.002618996,
          0.006536154
         ],
         "yaxis": "y"
        },
        {
         "hovertemplate": "variable=topic_3<br>timepoint=%{x}<br>value=%{y}<extra></extra>",
         "legendgroup": "topic_3",
         "line": {
          "color": "#00cc96",
          "dash": "solid"
         },
         "marker": {
          "symbol": "circle"
         },
         "mode": "lines",
         "name": "topic_3",
         "orientation": "v",
         "showlegend": true,
         "type": "scatter",
         "x": [
          0,
          1,
          2,
          3,
          4,
          5,
          6,
          7,
          8,
          9,
          10,
          11,
          12,
          13,
          14,
          15,
          16,
          17,
          18,
          19,
          20,
          21,
          22,
          23,
          24,
          25,
          26,
          27,
          28,
          29,
          30,
          31,
          32,
          33,
          34,
          35,
          36,
          37,
          38,
          39,
          40,
          41,
          42,
          43
         ],
         "xaxis": "x",
         "y": [
          0.09567044,
          0.08445659,
          0.09688156,
          0.09671733,
          0.10999458,
          0.11269841,
          0.083639644,
          0.093598686,
          0.0735494,
          0.13561912,
          0.07499108,
          0.1338358,
          0.1017663,
          0.046811204,
          0.057934966,
          0.03929097,
          0.002761861,
          0.077557616,
          0.08211584,
          0.10886052,
          0.0034523376,
          0.047195848,
          0.006460007,
          0.066216215,
          0.002426989,
          0.0026580535,
          0.0029935017,
          0.00073481916,
          0.0010675349,
          0.004983811,
          0.016459838,
          0.0010951553,
          0.0014304974,
          0.0022232472,
          0.0029096592,
          0.00547993,
          0.061570432,
          0.0018877249,
          0.0012828679,
          0.003079284,
          0.0005547742,
          0.002273707,
          0.003053684,
          0.010114725
         ],
         "yaxis": "y"
        },
        {
         "hovertemplate": "variable=topic_5<br>timepoint=%{x}<br>value=%{y}<extra></extra>",
         "legendgroup": "topic_5",
         "line": {
          "color": "#ab63fa",
          "dash": "solid"
         },
         "marker": {
          "symbol": "circle"
         },
         "mode": "lines",
         "name": "topic_5",
         "orientation": "v",
         "showlegend": true,
         "type": "scatter",
         "x": [
          0,
          1,
          2,
          3,
          4,
          5,
          6,
          7,
          8,
          9,
          10,
          11,
          12,
          13,
          14,
          15,
          16,
          17,
          18,
          19,
          20,
          21,
          22,
          23,
          24,
          25,
          26,
          27,
          28,
          29,
          30,
          31,
          32,
          33,
          34,
          35,
          36,
          37,
          38,
          39,
          40,
          41,
          42,
          43
         ],
         "xaxis": "x",
         "y": [
          0.11247173,
          0.12999393,
          0.09058471,
          0.11860183,
          0.09591008,
          0.085048646,
          0.10345946,
          0.11247436,
          0.16764244,
          0.071355805,
          0.06588718,
          0.076089986,
          0.07776268,
          0.04265583,
          0.3743648,
          0.45367756,
          0.9768622,
          0.24555244,
          0.19485302,
          0.06802188,
          0.0009151867,
          0.057581604,
          0.009967191,
          0.11404494,
          0.0026283988,
          0.0014931696,
          0.0018216684,
          0.0010578166,
          0.0010675349,
          0.003943108,
          0.025598846,
          0.0008775747,
          0.003452666,
          0.0136623625,
          0.006407203,
          0.012111693,
          0.05471804,
          0.0016900573,
          0.0009189337,
          0.0028746803,
          0.0008673231,
          0.001950431,
          0.004249076,
          0.012746027
         ],
         "yaxis": "y"
        },
        {
         "hovertemplate": "variable=topic_7<br>timepoint=%{x}<br>value=%{y}<extra></extra>",
         "legendgroup": "topic_7",
         "line": {
          "color": "#FFA15A",
          "dash": "solid"
         },
         "marker": {
          "symbol": "circle"
         },
         "mode": "lines",
         "name": "topic_7",
         "orientation": "v",
         "showlegend": true,
         "type": "scatter",
         "x": [
          0,
          1,
          2,
          3,
          4,
          5,
          6,
          7,
          8,
          9,
          10,
          11,
          12,
          13,
          14,
          15,
          16,
          17,
          18,
          19,
          20,
          21,
          22,
          23,
          24,
          25,
          26,
          27,
          28,
          29,
          30,
          31,
          32,
          33,
          34,
          35,
          36,
          37,
          38,
          39,
          40,
          41,
          42,
          43
         ],
         "xaxis": "x",
         "y": [
          0.0698223,
          0.09477839,
          0.081889056,
          0.122249246,
          0.1037649,
          0.09887353,
          0.108864866,
          0.09729175,
          0.09201951,
          0.09839342,
          0.22029632,
          0.10322356,
          0.27492452,
          0.45476064,
          0.12705642,
          0.06356281,
          0.002761861,
          0.07045014,
          0.12242341,
          0.26802188,
          0.98043674,
          0.54689914,
          0.01155108,
          0.06803826,
          0.0017220544,
          0.0017049666,
          0.0019281986,
          0.0027535527,
          0.0014460933,
          0.015390842,
          0.02030784,
          0.0019654774,
          0.0018049731,
          0.0043450184,
          0.9589299,
          0.007574171,
          0.058762074,
          0.0019865585,
          0.0011918843,
          0.0024654733,
          0.0014924207,
          0.0017349138,
          0.0024016518,
          0.007062414
         ],
         "yaxis": "y"
        }
       ],
       "layout": {
        "legend": {
         "title": {
          "text": "variable"
         },
         "tracegroupgap": 0
        },
        "template": {
         "data": {
          "bar": [
           {
            "error_x": {
             "color": "#2a3f5f"
            },
            "error_y": {
             "color": "#2a3f5f"
            },
            "marker": {
             "line": {
              "color": "#E5ECF6",
              "width": 0.5
             },
             "pattern": {
              "fillmode": "overlay",
              "size": 10,
              "solidity": 0.2
             }
            },
            "type": "bar"
           }
          ],
          "barpolar": [
           {
            "marker": {
             "line": {
              "color": "#E5ECF6",
              "width": 0.5
             },
             "pattern": {
              "fillmode": "overlay",
              "size": 10,
              "solidity": 0.2
             }
            },
            "type": "barpolar"
           }
          ],
          "carpet": [
           {
            "aaxis": {
             "endlinecolor": "#2a3f5f",
             "gridcolor": "white",
             "linecolor": "white",
             "minorgridcolor": "white",
             "startlinecolor": "#2a3f5f"
            },
            "baxis": {
             "endlinecolor": "#2a3f5f",
             "gridcolor": "white",
             "linecolor": "white",
             "minorgridcolor": "white",
             "startlinecolor": "#2a3f5f"
            },
            "type": "carpet"
           }
          ],
          "choropleth": [
           {
            "colorbar": {
             "outlinewidth": 0,
             "ticks": ""
            },
            "type": "choropleth"
           }
          ],
          "contour": [
           {
            "colorbar": {
             "outlinewidth": 0,
             "ticks": ""
            },
            "colorscale": [
             [
              0,
              "#0d0887"
             ],
             [
              0.1111111111111111,
              "#46039f"
             ],
             [
              0.2222222222222222,
              "#7201a8"
             ],
             [
              0.3333333333333333,
              "#9c179e"
             ],
             [
              0.4444444444444444,
              "#bd3786"
             ],
             [
              0.5555555555555556,
              "#d8576b"
             ],
             [
              0.6666666666666666,
              "#ed7953"
             ],
             [
              0.7777777777777778,
              "#fb9f3a"
             ],
             [
              0.8888888888888888,
              "#fdca26"
             ],
             [
              1,
              "#f0f921"
             ]
            ],
            "type": "contour"
           }
          ],
          "contourcarpet": [
           {
            "colorbar": {
             "outlinewidth": 0,
             "ticks": ""
            },
            "type": "contourcarpet"
           }
          ],
          "heatmap": [
           {
            "colorbar": {
             "outlinewidth": 0,
             "ticks": ""
            },
            "colorscale": [
             [
              0,
              "#0d0887"
             ],
             [
              0.1111111111111111,
              "#46039f"
             ],
             [
              0.2222222222222222,
              "#7201a8"
             ],
             [
              0.3333333333333333,
              "#9c179e"
             ],
             [
              0.4444444444444444,
              "#bd3786"
             ],
             [
              0.5555555555555556,
              "#d8576b"
             ],
             [
              0.6666666666666666,
              "#ed7953"
             ],
             [
              0.7777777777777778,
              "#fb9f3a"
             ],
             [
              0.8888888888888888,
              "#fdca26"
             ],
             [
              1,
              "#f0f921"
             ]
            ],
            "type": "heatmap"
           }
          ],
          "heatmapgl": [
           {
            "colorbar": {
             "outlinewidth": 0,
             "ticks": ""
            },
            "colorscale": [
             [
              0,
              "#0d0887"
             ],
             [
              0.1111111111111111,
              "#46039f"
             ],
             [
              0.2222222222222222,
              "#7201a8"
             ],
             [
              0.3333333333333333,
              "#9c179e"
             ],
             [
              0.4444444444444444,
              "#bd3786"
             ],
             [
              0.5555555555555556,
              "#d8576b"
             ],
             [
              0.6666666666666666,
              "#ed7953"
             ],
             [
              0.7777777777777778,
              "#fb9f3a"
             ],
             [
              0.8888888888888888,
              "#fdca26"
             ],
             [
              1,
              "#f0f921"
             ]
            ],
            "type": "heatmapgl"
           }
          ],
          "histogram": [
           {
            "marker": {
             "pattern": {
              "fillmode": "overlay",
              "size": 10,
              "solidity": 0.2
             }
            },
            "type": "histogram"
           }
          ],
          "histogram2d": [
           {
            "colorbar": {
             "outlinewidth": 0,
             "ticks": ""
            },
            "colorscale": [
             [
              0,
              "#0d0887"
             ],
             [
              0.1111111111111111,
              "#46039f"
             ],
             [
              0.2222222222222222,
              "#7201a8"
             ],
             [
              0.3333333333333333,
              "#9c179e"
             ],
             [
              0.4444444444444444,
              "#bd3786"
             ],
             [
              0.5555555555555556,
              "#d8576b"
             ],
             [
              0.6666666666666666,
              "#ed7953"
             ],
             [
              0.7777777777777778,
              "#fb9f3a"
             ],
             [
              0.8888888888888888,
              "#fdca26"
             ],
             [
              1,
              "#f0f921"
             ]
            ],
            "type": "histogram2d"
           }
          ],
          "histogram2dcontour": [
           {
            "colorbar": {
             "outlinewidth": 0,
             "ticks": ""
            },
            "colorscale": [
             [
              0,
              "#0d0887"
             ],
             [
              0.1111111111111111,
              "#46039f"
             ],
             [
              0.2222222222222222,
              "#7201a8"
             ],
             [
              0.3333333333333333,
              "#9c179e"
             ],
             [
              0.4444444444444444,
              "#bd3786"
             ],
             [
              0.5555555555555556,
              "#d8576b"
             ],
             [
              0.6666666666666666,
              "#ed7953"
             ],
             [
              0.7777777777777778,
              "#fb9f3a"
             ],
             [
              0.8888888888888888,
              "#fdca26"
             ],
             [
              1,
              "#f0f921"
             ]
            ],
            "type": "histogram2dcontour"
           }
          ],
          "mesh3d": [
           {
            "colorbar": {
             "outlinewidth": 0,
             "ticks": ""
            },
            "type": "mesh3d"
           }
          ],
          "parcoords": [
           {
            "line": {
             "colorbar": {
              "outlinewidth": 0,
              "ticks": ""
             }
            },
            "type": "parcoords"
           }
          ],
          "pie": [
           {
            "automargin": true,
            "type": "pie"
           }
          ],
          "scatter": [
           {
            "fillpattern": {
             "fillmode": "overlay",
             "size": 10,
             "solidity": 0.2
            },
            "type": "scatter"
           }
          ],
          "scatter3d": [
           {
            "line": {
             "colorbar": {
              "outlinewidth": 0,
              "ticks": ""
             }
            },
            "marker": {
             "colorbar": {
              "outlinewidth": 0,
              "ticks": ""
             }
            },
            "type": "scatter3d"
           }
          ],
          "scattercarpet": [
           {
            "marker": {
             "colorbar": {
              "outlinewidth": 0,
              "ticks": ""
             }
            },
            "type": "scattercarpet"
           }
          ],
          "scattergeo": [
           {
            "marker": {
             "colorbar": {
              "outlinewidth": 0,
              "ticks": ""
             }
            },
            "type": "scattergeo"
           }
          ],
          "scattergl": [
           {
            "marker": {
             "colorbar": {
              "outlinewidth": 0,
              "ticks": ""
             }
            },
            "type": "scattergl"
           }
          ],
          "scattermapbox": [
           {
            "marker": {
             "colorbar": {
              "outlinewidth": 0,
              "ticks": ""
             }
            },
            "type": "scattermapbox"
           }
          ],
          "scatterpolar": [
           {
            "marker": {
             "colorbar": {
              "outlinewidth": 0,
              "ticks": ""
             }
            },
            "type": "scatterpolar"
           }
          ],
          "scatterpolargl": [
           {
            "marker": {
             "colorbar": {
              "outlinewidth": 0,
              "ticks": ""
             }
            },
            "type": "scatterpolargl"
           }
          ],
          "scatterternary": [
           {
            "marker": {
             "colorbar": {
              "outlinewidth": 0,
              "ticks": ""
             }
            },
            "type": "scatterternary"
           }
          ],
          "surface": [
           {
            "colorbar": {
             "outlinewidth": 0,
             "ticks": ""
            },
            "colorscale": [
             [
              0,
              "#0d0887"
             ],
             [
              0.1111111111111111,
              "#46039f"
             ],
             [
              0.2222222222222222,
              "#7201a8"
             ],
             [
              0.3333333333333333,
              "#9c179e"
             ],
             [
              0.4444444444444444,
              "#bd3786"
             ],
             [
              0.5555555555555556,
              "#d8576b"
             ],
             [
              0.6666666666666666,
              "#ed7953"
             ],
             [
              0.7777777777777778,
              "#fb9f3a"
             ],
             [
              0.8888888888888888,
              "#fdca26"
             ],
             [
              1,
              "#f0f921"
             ]
            ],
            "type": "surface"
           }
          ],
          "table": [
           {
            "cells": {
             "fill": {
              "color": "#EBF0F8"
             },
             "line": {
              "color": "white"
             }
            },
            "header": {
             "fill": {
              "color": "#C8D4E3"
             },
             "line": {
              "color": "white"
             }
            },
            "type": "table"
           }
          ]
         },
         "layout": {
          "annotationdefaults": {
           "arrowcolor": "#2a3f5f",
           "arrowhead": 0,
           "arrowwidth": 1
          },
          "autotypenumbers": "strict",
          "coloraxis": {
           "colorbar": {
            "outlinewidth": 0,
            "ticks": ""
           }
          },
          "colorscale": {
           "diverging": [
            [
             0,
             "#8e0152"
            ],
            [
             0.1,
             "#c51b7d"
            ],
            [
             0.2,
             "#de77ae"
            ],
            [
             0.3,
             "#f1b6da"
            ],
            [
             0.4,
             "#fde0ef"
            ],
            [
             0.5,
             "#f7f7f7"
            ],
            [
             0.6,
             "#e6f5d0"
            ],
            [
             0.7,
             "#b8e186"
            ],
            [
             0.8,
             "#7fbc41"
            ],
            [
             0.9,
             "#4d9221"
            ],
            [
             1,
             "#276419"
            ]
           ],
           "sequential": [
            [
             0,
             "#0d0887"
            ],
            [
             0.1111111111111111,
             "#46039f"
            ],
            [
             0.2222222222222222,
             "#7201a8"
            ],
            [
             0.3333333333333333,
             "#9c179e"
            ],
            [
             0.4444444444444444,
             "#bd3786"
            ],
            [
             0.5555555555555556,
             "#d8576b"
            ],
            [
             0.6666666666666666,
             "#ed7953"
            ],
            [
             0.7777777777777778,
             "#fb9f3a"
            ],
            [
             0.8888888888888888,
             "#fdca26"
            ],
            [
             1,
             "#f0f921"
            ]
           ],
           "sequentialminus": [
            [
             0,
             "#0d0887"
            ],
            [
             0.1111111111111111,
             "#46039f"
            ],
            [
             0.2222222222222222,
             "#7201a8"
            ],
            [
             0.3333333333333333,
             "#9c179e"
            ],
            [
             0.4444444444444444,
             "#bd3786"
            ],
            [
             0.5555555555555556,
             "#d8576b"
            ],
            [
             0.6666666666666666,
             "#ed7953"
            ],
            [
             0.7777777777777778,
             "#fb9f3a"
            ],
            [
             0.8888888888888888,
             "#fdca26"
            ],
            [
             1,
             "#f0f921"
            ]
           ]
          },
          "colorway": [
           "#636efa",
           "#EF553B",
           "#00cc96",
           "#ab63fa",
           "#FFA15A",
           "#19d3f3",
           "#FF6692",
           "#B6E880",
           "#FF97FF",
           "#FECB52"
          ],
          "font": {
           "color": "#2a3f5f"
          },
          "geo": {
           "bgcolor": "white",
           "lakecolor": "white",
           "landcolor": "#E5ECF6",
           "showlakes": true,
           "showland": true,
           "subunitcolor": "white"
          },
          "hoverlabel": {
           "align": "left"
          },
          "hovermode": "closest",
          "mapbox": {
           "style": "light"
          },
          "paper_bgcolor": "white",
          "plot_bgcolor": "#E5ECF6",
          "polar": {
           "angularaxis": {
            "gridcolor": "white",
            "linecolor": "white",
            "ticks": ""
           },
           "bgcolor": "#E5ECF6",
           "radialaxis": {
            "gridcolor": "white",
            "linecolor": "white",
            "ticks": ""
           }
          },
          "scene": {
           "xaxis": {
            "backgroundcolor": "#E5ECF6",
            "gridcolor": "white",
            "gridwidth": 2,
            "linecolor": "white",
            "showbackground": true,
            "ticks": "",
            "zerolinecolor": "white"
           },
           "yaxis": {
            "backgroundcolor": "#E5ECF6",
            "gridcolor": "white",
            "gridwidth": 2,
            "linecolor": "white",
            "showbackground": true,
            "ticks": "",
            "zerolinecolor": "white"
           },
           "zaxis": {
            "backgroundcolor": "#E5ECF6",
            "gridcolor": "white",
            "gridwidth": 2,
            "linecolor": "white",
            "showbackground": true,
            "ticks": "",
            "zerolinecolor": "white"
           }
          },
          "shapedefaults": {
           "line": {
            "color": "#2a3f5f"
           }
          },
          "ternary": {
           "aaxis": {
            "gridcolor": "white",
            "linecolor": "white",
            "ticks": ""
           },
           "baxis": {
            "gridcolor": "white",
            "linecolor": "white",
            "ticks": ""
           },
           "bgcolor": "#E5ECF6",
           "caxis": {
            "gridcolor": "white",
            "linecolor": "white",
            "ticks": ""
           }
          },
          "title": {
           "x": 0.05
          },
          "xaxis": {
           "automargin": true,
           "gridcolor": "white",
           "linecolor": "white",
           "ticks": "",
           "title": {
            "standoff": 15
           },
           "zerolinecolor": "white",
           "zerolinewidth": 2
          },
          "yaxis": {
           "automargin": true,
           "gridcolor": "white",
           "linecolor": "white",
           "ticks": "",
           "title": {
            "standoff": 15
           },
           "zerolinecolor": "white",
           "zerolinewidth": 2
          }
         }
        },
        "title": {
         "text": "MD: Early Time Period Common Topics 2 (Year 2013-2014)"
        },
        "xaxis": {
         "anchor": "y",
         "domain": [
          0,
          1
         ],
         "dtick": "M1",
         "tickformat": "%b %d",
         "ticklabelmode": "period",
         "title": {
          "text": "timepoint"
         }
        },
        "yaxis": {
         "anchor": "x",
         "domain": [
          0,
          1
         ],
         "title": {
          "text": "value"
         }
        }
       }
      }
     },
     "metadata": {},
     "output_type": "display_data"
    }
   ],
   "source": [
    "fig = px.line(md_dtm_td, x=\"timepoint\", y=['topic_1', 'topic_2', 'topic_3', 'topic_5', 'topic_7'],\n",
    "              title='MD: Early Time Period Common Topics 2 (Year 2013-2014)')\n",
    "fig.update_xaxes(\n",
    "    dtick=\"M1\",\n",
    "    tickformat=\"%b %d\",\n",
    "    ticklabelmode=\"period\")\n",
    "fig.show()"
   ]
  },
  {
   "cell_type": "code",
   "execution_count": 91,
   "metadata": {},
   "outputs": [
    {
     "data": {
      "text/html": [
       "<div>\n",
       "<style scoped>\n",
       "    .dataframe tbody tr th:only-of-type {\n",
       "        vertical-align: middle;\n",
       "    }\n",
       "\n",
       "    .dataframe tbody tr th {\n",
       "        vertical-align: top;\n",
       "    }\n",
       "\n",
       "    .dataframe thead th {\n",
       "        text-align: right;\n",
       "    }\n",
       "</style>\n",
       "<table border=\"1\" class=\"dataframe\">\n",
       "  <thead>\n",
       "    <tr style=\"text-align: right;\">\n",
       "      <th></th>\n",
       "      <th>63</th>\n",
       "      <th>28</th>\n",
       "      <th>19</th>\n",
       "      <th>18</th>\n",
       "      <th>35</th>\n",
       "      <th>4</th>\n",
       "      <th>61</th>\n",
       "      <th>38</th>\n",
       "      <th>29</th>\n",
       "      <th>39</th>\n",
       "      <th>...</th>\n",
       "      <th>50</th>\n",
       "      <th>48</th>\n",
       "      <th>40</th>\n",
       "      <th>57</th>\n",
       "      <th>47</th>\n",
       "      <th>16</th>\n",
       "      <th>64</th>\n",
       "      <th>21</th>\n",
       "      <th>3</th>\n",
       "      <th>31</th>\n",
       "    </tr>\n",
       "  </thead>\n",
       "  <tbody>\n",
       "    <tr>\n",
       "      <th>word</th>\n",
       "      <td>surplus</td>\n",
       "      <td>friend</td>\n",
       "      <td>crop</td>\n",
       "      <td>corresding</td>\n",
       "      <td>indication</td>\n",
       "      <td>agency</td>\n",
       "      <td>surplus</td>\n",
       "      <td>inflow</td>\n",
       "      <td>healthcare</td>\n",
       "      <td>inflow</td>\n",
       "      <td>...</td>\n",
       "      <td>proﬁtability</td>\n",
       "      <td>production</td>\n",
       "      <td>inflow</td>\n",
       "      <td>revision</td>\n",
       "      <td>portion</td>\n",
       "      <td>consumer</td>\n",
       "      <td>surplus</td>\n",
       "      <td>description</td>\n",
       "      <td>agency</td>\n",
       "      <td>hedge</td>\n",
       "    </tr>\n",
       "    <tr>\n",
       "      <th>timepoint</th>\n",
       "      <td>11</td>\n",
       "      <td>15</td>\n",
       "      <td>9</td>\n",
       "      <td>9</td>\n",
       "      <td>9</td>\n",
       "      <td>15</td>\n",
       "      <td>8</td>\n",
       "      <td>11</td>\n",
       "      <td>8</td>\n",
       "      <td>13</td>\n",
       "      <td>...</td>\n",
       "      <td>14</td>\n",
       "      <td>15</td>\n",
       "      <td>14</td>\n",
       "      <td>15</td>\n",
       "      <td>10</td>\n",
       "      <td>10</td>\n",
       "      <td>14</td>\n",
       "      <td>14</td>\n",
       "      <td>14</td>\n",
       "      <td>15</td>\n",
       "    </tr>\n",
       "    <tr>\n",
       "      <th>prob</th>\n",
       "      <td>0.00868</td>\n",
       "      <td>0.00658</td>\n",
       "      <td>0.00584</td>\n",
       "      <td>0.00584</td>\n",
       "      <td>0.00583</td>\n",
       "      <td>0.0058</td>\n",
       "      <td>0.005615</td>\n",
       "      <td>0.00509</td>\n",
       "      <td>0.00489</td>\n",
       "      <td>0.00466</td>\n",
       "      <td>...</td>\n",
       "      <td>0.00252</td>\n",
       "      <td>0.00252</td>\n",
       "      <td>0.00252</td>\n",
       "      <td>0.0025</td>\n",
       "      <td>0.00249</td>\n",
       "      <td>0.00249</td>\n",
       "      <td>0.00239</td>\n",
       "      <td>0.00238</td>\n",
       "      <td>0.00238</td>\n",
       "      <td>0.00236</td>\n",
       "    </tr>\n",
       "  </tbody>\n",
       "</table>\n",
       "<p>3 rows × 75 columns</p>\n",
       "</div>"
      ],
      "text/plain": [
       "                63       28       19          18          35      4   \\\n",
       "word       surplus   friend     crop  corresding  indication  agency   \n",
       "timepoint       11       15        9           9           9      15   \n",
       "prob       0.00868  0.00658  0.00584     0.00584     0.00583  0.0058   \n",
       "\n",
       "                 61       38          29       39  ...            50  \\\n",
       "word        surplus   inflow  healthcare   inflow  ...  proﬁtability   \n",
       "timepoint         8       11           8       13  ...            14   \n",
       "prob       0.005615  0.00509     0.00489  0.00466  ...       0.00252   \n",
       "\n",
       "                   48       40        57       47        16       64  \\\n",
       "word       production   inflow  revision  portion  consumer  surplus   \n",
       "timepoint          15       14        15       10        10       14   \n",
       "prob          0.00252  0.00252    0.0025  0.00249   0.00249  0.00239   \n",
       "\n",
       "                    21       3        31  \n",
       "word       description   agency    hedge  \n",
       "timepoint           14       14       15  \n",
       "prob           0.00238  0.00238  0.00236  \n",
       "\n",
       "[3 rows x 75 columns]"
      ]
     },
     "execution_count": 91,
     "metadata": {},
     "output_type": "execute_result"
    }
   ],
   "source": [
    "# topic_1\n",
    "topic_1 = md_dtm_wt[md_dtm_wt['k']==0] # start with 0\n",
    "# select timepoint\n",
    "topic_1_8 = topic_1[topic_1['timepoint']==8]\n",
    "# concat \n",
    "topic_1_concat = topic_1_8.copy()\n",
    "topic_1_concat.sort_values(by='prob', ascending=False, inplace=True)\n",
    "#print(topic_1_concat.T)\n",
    "\n",
    "# topic_2\n",
    "topic_2 = md_dtm_wt[md_dtm_wt['k']==1] # start with 0\n",
    "# select timepoint\n",
    "topic_2_11 = topic_2[topic_2['timepoint']==11]\n",
    "# concat \n",
    "topic_2_concat = topic_2_11.copy()\n",
    "topic_2_concat.sort_values(by='prob', ascending=False, inplace=True)\n",
    "#print(topic_2_concat.T)\n",
    "\n",
    "# topic_3\n",
    "topic_3 = md_dtm_wt[md_dtm_wt['k']==2] # start with 0\n",
    "# select timepoint\n",
    "topic_3_9 = topic_3[topic_3['timepoint']==9]\n",
    "# concat \n",
    "topic_3_concat = topic_3_9.copy()\n",
    "topic_3_concat.sort_values(by='prob', ascending=False, inplace=True)\n",
    "#print(topic_3_concat.T)\n",
    "\n",
    "# topic_5\n",
    "topic_5 = md_dtm_wt[md_dtm_wt['k']==4] # start with 0\n",
    "# select timepoint\n",
    "topic_5_8 = topic_5[topic_5['timepoint']==8]\n",
    "topic_5_14 = topic_5[topic_5['timepoint']==14]\n",
    "topic_5_15 = topic_5[topic_5['timepoint']==15]\n",
    "# concat\n",
    "topic_5_concat = pd.concat([topic_5_8, topic_5_14, topic_5_15], ignore_index=True)\n",
    "topic_5_concat.sort_values(by='prob', ascending=False, inplace=True)\n",
    "#print(topic_5_concat.T)\n",
    "\n",
    "# topic_7\n",
    "topic_7 = md_dtm_wt[md_dtm_wt['k']==6] # start with 0\n",
    "# select timepoint\n",
    "topic_7_10 = topic_7[topic_7['timepoint']==10]\n",
    "topic_7_13 = topic_7[topic_7['timepoint']==13]\n",
    "# concat\n",
    "topic_7_concat = pd.concat([topic_7_10, topic_7_13], ignore_index=True)\n",
    "topic_7_concat.sort_values(by='prob', ascending=False, inplace=True)\n",
    "#print(topic_7_concat.T)\n",
    "\n",
    "# concat all together\n",
    "topic_all_early2 = pd.concat([topic_1_concat, topic_2_concat, topic_3_concat, topic_5_concat, topic_7_concat], ignore_index=True)\n",
    "\n",
    "# groupby word and get the average of prob\n",
    "topic_all_early2 = topic_all_early2.groupby(['word', 'timepoint'])['prob'].mean().reset_index()\n",
    "# sort by prob\n",
    "topic_all_early2.sort_values(by='prob', ascending=False, inplace=True)\n",
    "topic_all_early2.T"
   ]
  },
  {
   "cell_type": "code",
   "execution_count": 9,
   "metadata": {},
   "outputs": [],
   "source": [
    "#old early\n",
    "\n",
    "# # topic_3\n",
    "# topic_3 = md_dtm_wt[md_dtm_wt['k']==2] # start with 0\n",
    "# # select timepoint\n",
    "# topic_3_0 = topic_3[topic_3['timepoint']==0]\n",
    "# topic_3_2 = topic_3[topic_3['timepoint']==2]\n",
    "# topic_3_4 = topic_3[topic_3['timepoint']==4]\n",
    "# topic_3_5 = topic_3[topic_3['timepoint']==5]\n",
    "# topic_3_7 = topic_3[topic_3['timepoint']==7]\n",
    "# topic_3_9 = topic_3[topic_3['timepoint']==9]\n",
    "# topic_3_11 = topic_3[topic_3['timepoint']==11]\n",
    "# topic_3_14 = topic_3[topic_3['timepoint']==14]\n",
    "\n",
    "# # concat\n",
    "# topic_3_concate = pd.concat([topic_3_0, topic_3_2,topic_3_4,topic_3_5,topic_3_7,topic_3_9, topic_3_11, topic_3_14], ignore_index=True)\n",
    "# topic_3_concate.sort_values(by='prob', ascending=False, inplace=True)\n",
    "\n",
    "# # topic_5\n",
    "# topic_5 = md_dtm_wt[md_dtm_wt['k']==4] # start with 0\n",
    "# # select timepoint\n",
    "# topic_5_8 = topic_5[topic_5['timepoint']==8]\n",
    "# topic_5_14 = topic_5[topic_5['timepoint']==14]\n",
    "\n",
    "# # concat\n",
    "# topic_5_concate = pd.concat([topic_5_8, topic_5_8], ignore_index=True)\n",
    "# topic_5_concate.sort_values(by='prob', ascending=False, inplace=True)\n",
    "\n",
    "# topic_5_concate.T\n",
    "\n",
    "# # topic_7\n",
    "# topic_7 = md_dtm_wt[md_dtm_wt['k']==6] # start with 0\n",
    "# # select timepoint\n",
    "# topic_7_10 = topic_7[topic_7['timepoint']==10]\n",
    "# topic_7_13 = topic_7[topic_7['timepoint']==13]\n",
    "\n",
    "# # concat\n",
    "# topic_7_concate = pd.concat([topic_7_10, topic_7_13], ignore_index=True)\n",
    "# topic_7_concate.sort_values(by='prob', ascending=False, inplace=True)\n",
    "\n",
    "# # concat all together\n",
    "# topic_all_early = pd.concat([topic_3_concate, topic_5_concate, topic_7_concate], ignore_index=True)\n",
    "\n",
    "# # groupby word and get the average of prob\n",
    "# topic_all_early = topic_all_early.groupby(['word'])['prob'].mean().reset_index()\n",
    "# # sort by prob\n",
    "# topic_all_early.sort_values(by='prob', ascending=False, inplace=True)\n",
    "# topic_all_early.T"
   ]
  },
  {
   "cell_type": "markdown",
   "metadata": {},
   "source": [
    "## MD: Middle Time Period Common Topics 1 (Year 2015-2016)"
   ]
  },
  {
   "cell_type": "code",
   "execution_count": 41,
   "metadata": {},
   "outputs": [
    {
     "data": {
      "application/vnd.plotly.v1+json": {
       "config": {
        "plotlyServerURL": "https://plot.ly"
       },
       "data": [
        {
         "hovertemplate": "variable=topic_5<br>timepoint=%{x}<br>value=%{y}<extra></extra>",
         "legendgroup": "topic_5",
         "line": {
          "color": "#636efa",
          "dash": "solid"
         },
         "marker": {
          "symbol": "circle"
         },
         "mode": "lines",
         "name": "topic_5",
         "orientation": "v",
         "showlegend": true,
         "type": "scatter",
         "x": [
          0,
          1,
          2,
          3,
          4,
          5,
          6,
          7,
          8,
          9,
          10,
          11,
          12,
          13,
          14,
          15,
          16,
          17,
          18,
          19,
          20,
          21,
          22,
          23,
          24,
          25,
          26,
          27,
          28,
          29,
          30,
          31,
          32,
          33,
          34,
          35,
          36,
          37,
          38,
          39,
          40,
          41,
          42,
          43
         ],
         "xaxis": "x",
         "y": [
          0.11247173,
          0.12999393,
          0.09058471,
          0.11860183,
          0.09591008,
          0.085048646,
          0.10345946,
          0.11247436,
          0.16764244,
          0.071355805,
          0.06588718,
          0.076089986,
          0.07776268,
          0.04265583,
          0.3743648,
          0.45367756,
          0.9768622,
          0.24555244,
          0.19485302,
          0.06802188,
          0.0009151867,
          0.057581604,
          0.009967191,
          0.11404494,
          0.0026283988,
          0.0014931696,
          0.0018216684,
          0.0010578166,
          0.0010675349,
          0.003943108,
          0.025598846,
          0.0008775747,
          0.003452666,
          0.0136623625,
          0.006407203,
          0.012111693,
          0.05471804,
          0.0016900573,
          0.0009189337,
          0.0028746803,
          0.0008673231,
          0.001950431,
          0.004249076,
          0.012746027
         ],
         "yaxis": "y"
        },
        {
         "hovertemplate": "variable=topic_7<br>timepoint=%{x}<br>value=%{y}<extra></extra>",
         "legendgroup": "topic_7",
         "line": {
          "color": "#EF553B",
          "dash": "solid"
         },
         "marker": {
          "symbol": "circle"
         },
         "mode": "lines",
         "name": "topic_7",
         "orientation": "v",
         "showlegend": true,
         "type": "scatter",
         "x": [
          0,
          1,
          2,
          3,
          4,
          5,
          6,
          7,
          8,
          9,
          10,
          11,
          12,
          13,
          14,
          15,
          16,
          17,
          18,
          19,
          20,
          21,
          22,
          23,
          24,
          25,
          26,
          27,
          28,
          29,
          30,
          31,
          32,
          33,
          34,
          35,
          36,
          37,
          38,
          39,
          40,
          41,
          42,
          43
         ],
         "xaxis": "x",
         "y": [
          0.0698223,
          0.09477839,
          0.081889056,
          0.122249246,
          0.1037649,
          0.09887353,
          0.108864866,
          0.09729175,
          0.09201951,
          0.09839342,
          0.22029632,
          0.10322356,
          0.27492452,
          0.45476064,
          0.12705642,
          0.06356281,
          0.002761861,
          0.07045014,
          0.12242341,
          0.26802188,
          0.98043674,
          0.54689914,
          0.01155108,
          0.06803826,
          0.0017220544,
          0.0017049666,
          0.0019281986,
          0.0027535527,
          0.0014460933,
          0.015390842,
          0.02030784,
          0.0019654774,
          0.0018049731,
          0.0043450184,
          0.9589299,
          0.007574171,
          0.058762074,
          0.0019865585,
          0.0011918843,
          0.0024654733,
          0.0014924207,
          0.0017349138,
          0.0024016518,
          0.007062414
         ],
         "yaxis": "y"
        },
        {
         "hovertemplate": "variable=topic_9<br>timepoint=%{x}<br>value=%{y}<extra></extra>",
         "legendgroup": "topic_9",
         "line": {
          "color": "#00cc96",
          "dash": "solid"
         },
         "marker": {
          "symbol": "circle"
         },
         "mode": "lines",
         "name": "topic_9",
         "orientation": "v",
         "showlegend": true,
         "type": "scatter",
         "x": [
          0,
          1,
          2,
          3,
          4,
          5,
          6,
          7,
          8,
          9,
          10,
          11,
          12,
          13,
          14,
          15,
          16,
          17,
          18,
          19,
          20,
          21,
          22,
          23,
          24,
          25,
          26,
          27,
          28,
          29,
          30,
          31,
          32,
          33,
          34,
          35,
          36,
          37,
          38,
          39,
          40,
          41,
          42,
          43
         ],
         "xaxis": "x",
         "y": [
          0.0698223,
          0.111779,
          0.09118441,
          0.09732523,
          0.07667931,
          0.10450589,
          0.09445045,
          0.067747235,
          0.075814605,
          0.110540755,
          0.08070332,
          0.06634972,
          0.060250606,
          0.052953932,
          0.087435395,
          0.09739629,
          0.0026472611,
          0.09457248,
          0.13383356,
          0.065469466,
          0.0012776369,
          0.051646885,
          0.90690124,
          0.09825387,
          0.0033333332,
          0.0032934449,
          0.9725258,
          0.0023498063,
          0.0011432465,
          0.00683395,
          0.035892256,
          0.0010226284,
          0.0030781904,
          0.0029612544,
          0.004844471,
          0.009901105,
          0.16750169,
          0.0031725636,
          0.0007369667,
          0.0029769822,
          0.0010235974,
          0.0023814656,
          0.00392306,
          0.010009472
         ],
         "yaxis": "y"
        }
       ],
       "layout": {
        "legend": {
         "title": {
          "text": "variable"
         },
         "tracegroupgap": 0
        },
        "template": {
         "data": {
          "bar": [
           {
            "error_x": {
             "color": "#2a3f5f"
            },
            "error_y": {
             "color": "#2a3f5f"
            },
            "marker": {
             "line": {
              "color": "#E5ECF6",
              "width": 0.5
             },
             "pattern": {
              "fillmode": "overlay",
              "size": 10,
              "solidity": 0.2
             }
            },
            "type": "bar"
           }
          ],
          "barpolar": [
           {
            "marker": {
             "line": {
              "color": "#E5ECF6",
              "width": 0.5
             },
             "pattern": {
              "fillmode": "overlay",
              "size": 10,
              "solidity": 0.2
             }
            },
            "type": "barpolar"
           }
          ],
          "carpet": [
           {
            "aaxis": {
             "endlinecolor": "#2a3f5f",
             "gridcolor": "white",
             "linecolor": "white",
             "minorgridcolor": "white",
             "startlinecolor": "#2a3f5f"
            },
            "baxis": {
             "endlinecolor": "#2a3f5f",
             "gridcolor": "white",
             "linecolor": "white",
             "minorgridcolor": "white",
             "startlinecolor": "#2a3f5f"
            },
            "type": "carpet"
           }
          ],
          "choropleth": [
           {
            "colorbar": {
             "outlinewidth": 0,
             "ticks": ""
            },
            "type": "choropleth"
           }
          ],
          "contour": [
           {
            "colorbar": {
             "outlinewidth": 0,
             "ticks": ""
            },
            "colorscale": [
             [
              0,
              "#0d0887"
             ],
             [
              0.1111111111111111,
              "#46039f"
             ],
             [
              0.2222222222222222,
              "#7201a8"
             ],
             [
              0.3333333333333333,
              "#9c179e"
             ],
             [
              0.4444444444444444,
              "#bd3786"
             ],
             [
              0.5555555555555556,
              "#d8576b"
             ],
             [
              0.6666666666666666,
              "#ed7953"
             ],
             [
              0.7777777777777778,
              "#fb9f3a"
             ],
             [
              0.8888888888888888,
              "#fdca26"
             ],
             [
              1,
              "#f0f921"
             ]
            ],
            "type": "contour"
           }
          ],
          "contourcarpet": [
           {
            "colorbar": {
             "outlinewidth": 0,
             "ticks": ""
            },
            "type": "contourcarpet"
           }
          ],
          "heatmap": [
           {
            "colorbar": {
             "outlinewidth": 0,
             "ticks": ""
            },
            "colorscale": [
             [
              0,
              "#0d0887"
             ],
             [
              0.1111111111111111,
              "#46039f"
             ],
             [
              0.2222222222222222,
              "#7201a8"
             ],
             [
              0.3333333333333333,
              "#9c179e"
             ],
             [
              0.4444444444444444,
              "#bd3786"
             ],
             [
              0.5555555555555556,
              "#d8576b"
             ],
             [
              0.6666666666666666,
              "#ed7953"
             ],
             [
              0.7777777777777778,
              "#fb9f3a"
             ],
             [
              0.8888888888888888,
              "#fdca26"
             ],
             [
              1,
              "#f0f921"
             ]
            ],
            "type": "heatmap"
           }
          ],
          "heatmapgl": [
           {
            "colorbar": {
             "outlinewidth": 0,
             "ticks": ""
            },
            "colorscale": [
             [
              0,
              "#0d0887"
             ],
             [
              0.1111111111111111,
              "#46039f"
             ],
             [
              0.2222222222222222,
              "#7201a8"
             ],
             [
              0.3333333333333333,
              "#9c179e"
             ],
             [
              0.4444444444444444,
              "#bd3786"
             ],
             [
              0.5555555555555556,
              "#d8576b"
             ],
             [
              0.6666666666666666,
              "#ed7953"
             ],
             [
              0.7777777777777778,
              "#fb9f3a"
             ],
             [
              0.8888888888888888,
              "#fdca26"
             ],
             [
              1,
              "#f0f921"
             ]
            ],
            "type": "heatmapgl"
           }
          ],
          "histogram": [
           {
            "marker": {
             "pattern": {
              "fillmode": "overlay",
              "size": 10,
              "solidity": 0.2
             }
            },
            "type": "histogram"
           }
          ],
          "histogram2d": [
           {
            "colorbar": {
             "outlinewidth": 0,
             "ticks": ""
            },
            "colorscale": [
             [
              0,
              "#0d0887"
             ],
             [
              0.1111111111111111,
              "#46039f"
             ],
             [
              0.2222222222222222,
              "#7201a8"
             ],
             [
              0.3333333333333333,
              "#9c179e"
             ],
             [
              0.4444444444444444,
              "#bd3786"
             ],
             [
              0.5555555555555556,
              "#d8576b"
             ],
             [
              0.6666666666666666,
              "#ed7953"
             ],
             [
              0.7777777777777778,
              "#fb9f3a"
             ],
             [
              0.8888888888888888,
              "#fdca26"
             ],
             [
              1,
              "#f0f921"
             ]
            ],
            "type": "histogram2d"
           }
          ],
          "histogram2dcontour": [
           {
            "colorbar": {
             "outlinewidth": 0,
             "ticks": ""
            },
            "colorscale": [
             [
              0,
              "#0d0887"
             ],
             [
              0.1111111111111111,
              "#46039f"
             ],
             [
              0.2222222222222222,
              "#7201a8"
             ],
             [
              0.3333333333333333,
              "#9c179e"
             ],
             [
              0.4444444444444444,
              "#bd3786"
             ],
             [
              0.5555555555555556,
              "#d8576b"
             ],
             [
              0.6666666666666666,
              "#ed7953"
             ],
             [
              0.7777777777777778,
              "#fb9f3a"
             ],
             [
              0.8888888888888888,
              "#fdca26"
             ],
             [
              1,
              "#f0f921"
             ]
            ],
            "type": "histogram2dcontour"
           }
          ],
          "mesh3d": [
           {
            "colorbar": {
             "outlinewidth": 0,
             "ticks": ""
            },
            "type": "mesh3d"
           }
          ],
          "parcoords": [
           {
            "line": {
             "colorbar": {
              "outlinewidth": 0,
              "ticks": ""
             }
            },
            "type": "parcoords"
           }
          ],
          "pie": [
           {
            "automargin": true,
            "type": "pie"
           }
          ],
          "scatter": [
           {
            "fillpattern": {
             "fillmode": "overlay",
             "size": 10,
             "solidity": 0.2
            },
            "type": "scatter"
           }
          ],
          "scatter3d": [
           {
            "line": {
             "colorbar": {
              "outlinewidth": 0,
              "ticks": ""
             }
            },
            "marker": {
             "colorbar": {
              "outlinewidth": 0,
              "ticks": ""
             }
            },
            "type": "scatter3d"
           }
          ],
          "scattercarpet": [
           {
            "marker": {
             "colorbar": {
              "outlinewidth": 0,
              "ticks": ""
             }
            },
            "type": "scattercarpet"
           }
          ],
          "scattergeo": [
           {
            "marker": {
             "colorbar": {
              "outlinewidth": 0,
              "ticks": ""
             }
            },
            "type": "scattergeo"
           }
          ],
          "scattergl": [
           {
            "marker": {
             "colorbar": {
              "outlinewidth": 0,
              "ticks": ""
             }
            },
            "type": "scattergl"
           }
          ],
          "scattermapbox": [
           {
            "marker": {
             "colorbar": {
              "outlinewidth": 0,
              "ticks": ""
             }
            },
            "type": "scattermapbox"
           }
          ],
          "scatterpolar": [
           {
            "marker": {
             "colorbar": {
              "outlinewidth": 0,
              "ticks": ""
             }
            },
            "type": "scatterpolar"
           }
          ],
          "scatterpolargl": [
           {
            "marker": {
             "colorbar": {
              "outlinewidth": 0,
              "ticks": ""
             }
            },
            "type": "scatterpolargl"
           }
          ],
          "scatterternary": [
           {
            "marker": {
             "colorbar": {
              "outlinewidth": 0,
              "ticks": ""
             }
            },
            "type": "scatterternary"
           }
          ],
          "surface": [
           {
            "colorbar": {
             "outlinewidth": 0,
             "ticks": ""
            },
            "colorscale": [
             [
              0,
              "#0d0887"
             ],
             [
              0.1111111111111111,
              "#46039f"
             ],
             [
              0.2222222222222222,
              "#7201a8"
             ],
             [
              0.3333333333333333,
              "#9c179e"
             ],
             [
              0.4444444444444444,
              "#bd3786"
             ],
             [
              0.5555555555555556,
              "#d8576b"
             ],
             [
              0.6666666666666666,
              "#ed7953"
             ],
             [
              0.7777777777777778,
              "#fb9f3a"
             ],
             [
              0.8888888888888888,
              "#fdca26"
             ],
             [
              1,
              "#f0f921"
             ]
            ],
            "type": "surface"
           }
          ],
          "table": [
           {
            "cells": {
             "fill": {
              "color": "#EBF0F8"
             },
             "line": {
              "color": "white"
             }
            },
            "header": {
             "fill": {
              "color": "#C8D4E3"
             },
             "line": {
              "color": "white"
             }
            },
            "type": "table"
           }
          ]
         },
         "layout": {
          "annotationdefaults": {
           "arrowcolor": "#2a3f5f",
           "arrowhead": 0,
           "arrowwidth": 1
          },
          "autotypenumbers": "strict",
          "coloraxis": {
           "colorbar": {
            "outlinewidth": 0,
            "ticks": ""
           }
          },
          "colorscale": {
           "diverging": [
            [
             0,
             "#8e0152"
            ],
            [
             0.1,
             "#c51b7d"
            ],
            [
             0.2,
             "#de77ae"
            ],
            [
             0.3,
             "#f1b6da"
            ],
            [
             0.4,
             "#fde0ef"
            ],
            [
             0.5,
             "#f7f7f7"
            ],
            [
             0.6,
             "#e6f5d0"
            ],
            [
             0.7,
             "#b8e186"
            ],
            [
             0.8,
             "#7fbc41"
            ],
            [
             0.9,
             "#4d9221"
            ],
            [
             1,
             "#276419"
            ]
           ],
           "sequential": [
            [
             0,
             "#0d0887"
            ],
            [
             0.1111111111111111,
             "#46039f"
            ],
            [
             0.2222222222222222,
             "#7201a8"
            ],
            [
             0.3333333333333333,
             "#9c179e"
            ],
            [
             0.4444444444444444,
             "#bd3786"
            ],
            [
             0.5555555555555556,
             "#d8576b"
            ],
            [
             0.6666666666666666,
             "#ed7953"
            ],
            [
             0.7777777777777778,
             "#fb9f3a"
            ],
            [
             0.8888888888888888,
             "#fdca26"
            ],
            [
             1,
             "#f0f921"
            ]
           ],
           "sequentialminus": [
            [
             0,
             "#0d0887"
            ],
            [
             0.1111111111111111,
             "#46039f"
            ],
            [
             0.2222222222222222,
             "#7201a8"
            ],
            [
             0.3333333333333333,
             "#9c179e"
            ],
            [
             0.4444444444444444,
             "#bd3786"
            ],
            [
             0.5555555555555556,
             "#d8576b"
            ],
            [
             0.6666666666666666,
             "#ed7953"
            ],
            [
             0.7777777777777778,
             "#fb9f3a"
            ],
            [
             0.8888888888888888,
             "#fdca26"
            ],
            [
             1,
             "#f0f921"
            ]
           ]
          },
          "colorway": [
           "#636efa",
           "#EF553B",
           "#00cc96",
           "#ab63fa",
           "#FFA15A",
           "#19d3f3",
           "#FF6692",
           "#B6E880",
           "#FF97FF",
           "#FECB52"
          ],
          "font": {
           "color": "#2a3f5f"
          },
          "geo": {
           "bgcolor": "white",
           "lakecolor": "white",
           "landcolor": "#E5ECF6",
           "showlakes": true,
           "showland": true,
           "subunitcolor": "white"
          },
          "hoverlabel": {
           "align": "left"
          },
          "hovermode": "closest",
          "mapbox": {
           "style": "light"
          },
          "paper_bgcolor": "white",
          "plot_bgcolor": "#E5ECF6",
          "polar": {
           "angularaxis": {
            "gridcolor": "white",
            "linecolor": "white",
            "ticks": ""
           },
           "bgcolor": "#E5ECF6",
           "radialaxis": {
            "gridcolor": "white",
            "linecolor": "white",
            "ticks": ""
           }
          },
          "scene": {
           "xaxis": {
            "backgroundcolor": "#E5ECF6",
            "gridcolor": "white",
            "gridwidth": 2,
            "linecolor": "white",
            "showbackground": true,
            "ticks": "",
            "zerolinecolor": "white"
           },
           "yaxis": {
            "backgroundcolor": "#E5ECF6",
            "gridcolor": "white",
            "gridwidth": 2,
            "linecolor": "white",
            "showbackground": true,
            "ticks": "",
            "zerolinecolor": "white"
           },
           "zaxis": {
            "backgroundcolor": "#E5ECF6",
            "gridcolor": "white",
            "gridwidth": 2,
            "linecolor": "white",
            "showbackground": true,
            "ticks": "",
            "zerolinecolor": "white"
           }
          },
          "shapedefaults": {
           "line": {
            "color": "#2a3f5f"
           }
          },
          "ternary": {
           "aaxis": {
            "gridcolor": "white",
            "linecolor": "white",
            "ticks": ""
           },
           "baxis": {
            "gridcolor": "white",
            "linecolor": "white",
            "ticks": ""
           },
           "bgcolor": "#E5ECF6",
           "caxis": {
            "gridcolor": "white",
            "linecolor": "white",
            "ticks": ""
           }
          },
          "title": {
           "x": 0.05
          },
          "xaxis": {
           "automargin": true,
           "gridcolor": "white",
           "linecolor": "white",
           "ticks": "",
           "title": {
            "standoff": 15
           },
           "zerolinecolor": "white",
           "zerolinewidth": 2
          },
          "yaxis": {
           "automargin": true,
           "gridcolor": "white",
           "linecolor": "white",
           "ticks": "",
           "title": {
            "standoff": 15
           },
           "zerolinecolor": "white",
           "zerolinewidth": 2
          }
         }
        },
        "title": {
         "text": "MD: Middle Time Period Common Topics 1 (Year 2015-2016)"
        },
        "xaxis": {
         "anchor": "y",
         "domain": [
          0,
          1
         ],
         "dtick": "M1",
         "tickformat": "%b %d",
         "ticklabelmode": "period",
         "title": {
          "text": "timepoint"
         }
        },
        "yaxis": {
         "anchor": "x",
         "domain": [
          0,
          1
         ],
         "title": {
          "text": "value"
         }
        }
       }
      }
     },
     "metadata": {},
     "output_type": "display_data"
    }
   ],
   "source": [
    "fig = px.line(md_dtm_td, x=\"timepoint\", y=['topic_5', 'topic_7', 'topic_9'],\n",
    "              title='MD: Middle Time Period Common Topics 1 (Year 2015-2016)')\n",
    "fig.update_xaxes(\n",
    "    dtick=\"M1\",\n",
    "    tickformat=\"%b %d\",\n",
    "    ticklabelmode=\"period\")\n",
    "fig.show()"
   ]
  },
  {
   "cell_type": "code",
   "execution_count": 93,
   "metadata": {},
   "outputs": [
    {
     "data": {
      "text/html": [
       "<div>\n",
       "<style scoped>\n",
       "    .dataframe tbody tr th:only-of-type {\n",
       "        vertical-align: middle;\n",
       "    }\n",
       "\n",
       "    .dataframe tbody tr th {\n",
       "        vertical-align: top;\n",
       "    }\n",
       "\n",
       "    .dataframe thead th {\n",
       "        text-align: right;\n",
       "    }\n",
       "</style>\n",
       "<table border=\"1\" class=\"dataframe\">\n",
       "  <thead>\n",
       "    <tr style=\"text-align: right;\">\n",
       "      <th></th>\n",
       "      <th>29</th>\n",
       "      <th>12</th>\n",
       "      <th>30</th>\n",
       "      <th>20</th>\n",
       "      <th>28</th>\n",
       "      <th>13</th>\n",
       "      <th>25</th>\n",
       "      <th>33</th>\n",
       "      <th>17</th>\n",
       "      <th>4</th>\n",
       "      <th>...</th>\n",
       "      <th>37</th>\n",
       "      <th>19</th>\n",
       "      <th>23</th>\n",
       "      <th>2</th>\n",
       "      <th>3</th>\n",
       "      <th>8</th>\n",
       "      <th>15</th>\n",
       "      <th>36</th>\n",
       "      <th>11</th>\n",
       "      <th>27</th>\n",
       "    </tr>\n",
       "  </thead>\n",
       "  <tbody>\n",
       "    <tr>\n",
       "      <th>word</th>\n",
       "      <td>surplus</td>\n",
       "      <td>inflow</td>\n",
       "      <td>surplus</td>\n",
       "      <td>oﬀ</td>\n",
       "      <td>surplus</td>\n",
       "      <td>legacy</td>\n",
       "      <td>sensitivity</td>\n",
       "      <td>treaty</td>\n",
       "      <td>merger</td>\n",
       "      <td>consumer</td>\n",
       "      <td>...</td>\n",
       "      <td>ytd</td>\n",
       "      <td>offer</td>\n",
       "      <td>scheme</td>\n",
       "      <td>budget</td>\n",
       "      <td>competition</td>\n",
       "      <td>eﬀect</td>\n",
       "      <td>longevity</td>\n",
       "      <td>wildfire</td>\n",
       "      <td>inflation</td>\n",
       "      <td>stress</td>\n",
       "    </tr>\n",
       "    <tr>\n",
       "      <th>timepoint</th>\n",
       "      <td>20</td>\n",
       "      <td>18</td>\n",
       "      <td>22</td>\n",
       "      <td>16</td>\n",
       "      <td>16</td>\n",
       "      <td>22</td>\n",
       "      <td>22</td>\n",
       "      <td>18</td>\n",
       "      <td>18</td>\n",
       "      <td>20</td>\n",
       "      <td>...</td>\n",
       "      <td>22</td>\n",
       "      <td>18</td>\n",
       "      <td>22</td>\n",
       "      <td>18</td>\n",
       "      <td>20</td>\n",
       "      <td>16</td>\n",
       "      <td>22</td>\n",
       "      <td>22</td>\n",
       "      <td>20</td>\n",
       "      <td>20</td>\n",
       "    </tr>\n",
       "    <tr>\n",
       "      <th>prob</th>\n",
       "      <td>0.00726</td>\n",
       "      <td>0.00485</td>\n",
       "      <td>0.00439</td>\n",
       "      <td>0.00364</td>\n",
       "      <td>0.00334</td>\n",
       "      <td>0.00299</td>\n",
       "      <td>0.00295</td>\n",
       "      <td>0.00294</td>\n",
       "      <td>0.00294</td>\n",
       "      <td>0.00291</td>\n",
       "      <td>...</td>\n",
       "      <td>0.0023</td>\n",
       "      <td>0.0023</td>\n",
       "      <td>0.00229</td>\n",
       "      <td>0.00229</td>\n",
       "      <td>0.00222</td>\n",
       "      <td>0.00221</td>\n",
       "      <td>0.00209</td>\n",
       "      <td>0.00209</td>\n",
       "      <td>0.00199</td>\n",
       "      <td>0.00199</td>\n",
       "    </tr>\n",
       "  </tbody>\n",
       "</table>\n",
       "<p>3 rows × 40 columns</p>\n",
       "</div>"
      ],
      "text/plain": [
       "                29       12       30       20       28       13           25  \\\n",
       "word       surplus   inflow  surplus       oﬀ  surplus   legacy  sensitivity   \n",
       "timepoint       20       18       22       16       16       22           22   \n",
       "prob       0.00726  0.00485  0.00439  0.00364  0.00334  0.00299      0.00295   \n",
       "\n",
       "                33       17        4   ...      37      19       23       2   \\\n",
       "word        treaty   merger  consumer  ...     ytd   offer   scheme   budget   \n",
       "timepoint       18       18        20  ...      22      18       22       18   \n",
       "prob       0.00294  0.00294   0.00291  ...  0.0023  0.0023  0.00229  0.00229   \n",
       "\n",
       "                    3        8          15        36         11       27  \n",
       "word       competition    eﬀect  longevity  wildfire  inflation   stress  \n",
       "timepoint           20       16         22        22         20       20  \n",
       "prob           0.00222  0.00221    0.00209   0.00209    0.00199  0.00199  \n",
       "\n",
       "[3 rows x 40 columns]"
      ]
     },
     "execution_count": 93,
     "metadata": {},
     "output_type": "execute_result"
    }
   ],
   "source": [
    "# topic_5\n",
    "topic_5 = md_dtm_wt[md_dtm_wt['k']==4] # start with 0\n",
    "# select timepoint\n",
    "topic_5_16 = topic_5[topic_5['timepoint']==16]\n",
    "topic_5_18 = topic_5[topic_5['timepoint']==18]\n",
    "# concat\n",
    "topic_5_concat = pd.concat([topic_5_16, topic_5_18], ignore_index=True)\n",
    "topic_5_concat.sort_values(by='prob', ascending=False, inplace=True)\n",
    "#print(topic_5_concat.T)\n",
    "\n",
    "# topic_7\n",
    "topic_7 = md_dtm_wt[md_dtm_wt['k']==6] # start with 0\n",
    "# select timepoint\n",
    "topic_7_20 = topic_7[topic_7['timepoint']==20]\n",
    "# concat \n",
    "topic_7_concat = topic_7_20.copy()\n",
    "topic_7_concat.sort_values(by='prob', ascending=False, inplace=True)\n",
    "#print(topic_7_concat.T)\n",
    "\n",
    "# topic_9\n",
    "topic_9 = md_dtm_wt[md_dtm_wt['k']==8] # start with 0\n",
    "# select timepoint\n",
    "topic_9_22 = topic_9[topic_9['timepoint']==22]\n",
    "# concat \n",
    "topic_9_concat = topic_9_22.copy()\n",
    "topic_9_concat.sort_values(by='prob', ascending=False, inplace=True)\n",
    "#print(topic_9_concat.T)\n",
    "\n",
    "# concat all together\n",
    "topic_all_middle1 = pd.concat([topic_5_concat, topic_7_concat, topic_9_concat,], ignore_index=True)\n",
    "\n",
    "# groupby word and get the average of prob\n",
    "topic_all_middle1 = topic_all_middle1.groupby(['word', 'timepoint'])['prob'].mean().reset_index()\n",
    "# sort by prob\n",
    "topic_all_middle1.sort_values(by='prob', ascending=False, inplace=True)\n",
    "topic_all_middle1.T"
   ]
  },
  {
   "cell_type": "markdown",
   "metadata": {},
   "source": [
    "## MD: Middle Time Period Common Topics 2 (Year 2017-2018)"
   ]
  },
  {
   "cell_type": "code",
   "execution_count": 42,
   "metadata": {},
   "outputs": [
    {
     "data": {
      "application/vnd.plotly.v1+json": {
       "config": {
        "plotlyServerURL": "https://plot.ly"
       },
       "data": [
        {
         "hovertemplate": "variable=topic_1<br>timepoint=%{x}<br>value=%{y}<extra></extra>",
         "legendgroup": "topic_1",
         "line": {
          "color": "#636efa",
          "dash": "solid"
         },
         "marker": {
          "symbol": "circle"
         },
         "mode": "lines",
         "name": "topic_1",
         "orientation": "v",
         "showlegend": true,
         "type": "scatter",
         "x": [
          0,
          1,
          2,
          3,
          4,
          5,
          6,
          7,
          8,
          9,
          10,
          11,
          12,
          13,
          14,
          15,
          16,
          17,
          18,
          19,
          20,
          21,
          22,
          23,
          24,
          25,
          26,
          27,
          28,
          29,
          30,
          31,
          32,
          33,
          34,
          35,
          36,
          37,
          38,
          39,
          40,
          41,
          42,
          43
         ],
         "xaxis": "x",
         "y": [
          0.12054928,
          0.07717061,
          0.073793106,
          0.09732523,
          0.08263814,
          0.08095238,
          0.07174775,
          0.14242922,
          0.15910436,
          0.09251568,
          0.13318457,
          0.09394713,
          0.087877415,
          0.04988257,
          0.04695306,
          0.0413504,
          0.0032202613,
          0.081649795,
          0.08099963,
          0.120893344,
          0.0020931498,
          0.08280415,
          0.017547235,
          0.11176738,
          0.002527694,
          0.0020226624,
          0.0042718654,
          0.9857154,
          0.0011432465,
          0.005446346,
          0.034834057,
          0.0014577894,
          0.0016551828,
          0.0028690037,
          0.0043979757,
          0.008272251,
          0.1734554,
          0.0014923898,
          0.0009189337,
          0.0028746803,
          0.0011017347,
          0.0023814656,
          0.0024016518,
          0.009588464
         ],
         "yaxis": "y"
        },
        {
         "hovertemplate": "variable=topic_2<br>timepoint=%{x}<br>value=%{y}<extra></extra>",
         "legendgroup": "topic_2",
         "line": {
          "color": "#EF553B",
          "dash": "solid"
         },
         "marker": {
          "symbol": "circle"
         },
         "mode": "lines",
         "name": "topic_2",
         "orientation": "v",
         "showlegend": true,
         "type": "scatter",
         "x": [
          0,
          1,
          2,
          3,
          4,
          5,
          6,
          7,
          8,
          9,
          10,
          11,
          12,
          13,
          14,
          15,
          16,
          17,
          18,
          19,
          20,
          21,
          22,
          23,
          24,
          25,
          26,
          27,
          28,
          29,
          30,
          31,
          32,
          33,
          34,
          35,
          36,
          37,
          38,
          39,
          40,
          41,
          42,
          43
         ],
         "xaxis": "x",
         "y": [
          0.13799678,
          0.09720705,
          0.10767616,
          0.11677812,
          0.07695016,
          0.08453661,
          0.09409009,
          0.08949529,
          0.059435442,
          0.09956897,
          0.089450195,
          0.16189702,
          0.12969504,
          0.11438121,
          0.06331826,
          0.039143868,
          0.0018450607,
          0.07174241,
          0.1292447,
          0.078596175,
          0.0023649873,
          0.030875372,
          0.008948976,
          0.07441543,
          0.0057502515,
          0.97554797,
          0.0043783956,
          0.0016230621,
          0.00084039976,
          0.0059088804,
          0.035411257,
          0.0005874674,
          0.0012807071,
          0.00351476,
          0.00343057,
          0.904491,
          0.05674006,
          0.0020853924,
          0.0008279502,
          0.0032838874,
          0.0010235974,
          0.0018426725,
          0.002618996,
          0.006536154
         ],
         "yaxis": "y"
        },
        {
         "hovertemplate": "variable=topic_6<br>timepoint=%{x}<br>value=%{y}<extra></extra>",
         "legendgroup": "topic_6",
         "line": {
          "color": "#00cc96",
          "dash": "solid"
         },
         "marker": {
          "symbol": "circle"
         },
         "mode": "lines",
         "name": "topic_6",
         "orientation": "v",
         "showlegend": true,
         "type": "scatter",
         "x": [
          0,
          1,
          2,
          3,
          4,
          5,
          6,
          7,
          8,
          9,
          10,
          11,
          12,
          13,
          14,
          15,
          16,
          17,
          18,
          19,
          20,
          21,
          22,
          23,
          24,
          25,
          26,
          27,
          28,
          29,
          30,
          31,
          32,
          33,
          34,
          35,
          36,
          37,
          38,
          39,
          40,
          41,
          42,
          43
         ],
         "xaxis": "x",
         "y": [
          0.09017771,
          0.08992107,
          0.10347826,
          0.086990885,
          0.12787108,
          0.11628264,
          0.12363964,
          0.109191634,
          0.09445896,
          0.08467869,
          0.092306316,
          0.069132656,
          0.06644022,
          0.061084013,
          0.07709948,
          0.07268314,
          0.002761861,
          0.11912556,
          0.07740295,
          0.0718505,
          0.0019119247,
          0.04482196,
          0.011890485,
          0.080185235,
          0.0041389726,
          0.0014931696,
          0.0025673804,
          0.0009770672,
          0.0016732283,
          0.006140148,
          0.7667244,
          0.98956335,
          0.0035275612,
          0.9608948,
          0.0040258965,
          0.011762653,
          0.14750618,
          0.98014426,
          0.9899099,
          0.006352941,
          0.0008673231,
          0.0013038793,
          0.002727668,
          0.0036943478
         ],
         "yaxis": "y"
        },
        {
         "hovertemplate": "variable=topic_8<br>timepoint=%{x}<br>value=%{y}<extra></extra>",
         "legendgroup": "topic_8",
         "line": {
          "color": "#ab63fa",
          "dash": "solid"
         },
         "marker": {
          "symbol": "circle"
         },
         "mode": "lines",
         "name": "topic_8",
         "orientation": "v",
         "showlegend": true,
         "type": "scatter",
         "x": [
          0,
          1,
          2,
          3,
          4,
          5,
          6,
          7,
          8,
          9,
          10,
          11,
          12,
          13,
          14,
          15,
          16,
          17,
          18,
          19,
          20,
          21,
          22,
          23,
          24,
          25,
          26,
          27,
          28,
          29,
          30,
          31,
          32,
          33,
          34,
          35,
          36,
          37,
          38,
          39,
          40,
          41,
          42,
          43
         ],
         "xaxis": "x",
         "y": [
          0.10051697,
          0.111779,
          0.08248876,
          0.0912462,
          0.09916035,
          0.09119304,
          0.08255856,
          0.10755027,
          0.08226172,
          0.099177115,
          0.0662442,
          0.095570505,
          0.054664858,
          0.06740741,
          0.04350775,
          0.03296558,
          0.0026472611,
          0.08294206,
          0.07802307,
          0.054165907,
          0.0036335627,
          0.0418546,
          0.008043896,
          0.08944731,
          0.0031319235,
          0.0017049666,
          0.003526153,
          0.0028343021,
          0.9898622,
          0.9434667,
          0.027138047,
          0.0010226284,
          0.0011309168,
          0.0031457564,
          0.005142134,
          0.02211751,
          0.1305437,
          0.0020853924,
          0.0010099172,
          0.00911509,
          0.9898499,
          0.98223054,
          0.0054444685,
          0.011167245
         ],
         "yaxis": "y"
        },
        {
         "hovertemplate": "variable=topic_9<br>timepoint=%{x}<br>value=%{y}<extra></extra>",
         "legendgroup": "topic_9",
         "line": {
          "color": "#FFA15A",
          "dash": "solid"
         },
         "marker": {
          "symbol": "circle"
         },
         "mode": "lines",
         "name": "topic_9",
         "orientation": "v",
         "showlegend": true,
         "type": "scatter",
         "x": [
          0,
          1,
          2,
          3,
          4,
          5,
          6,
          7,
          8,
          9,
          10,
          11,
          12,
          13,
          14,
          15,
          16,
          17,
          18,
          19,
          20,
          21,
          22,
          23,
          24,
          25,
          26,
          27,
          28,
          29,
          30,
          31,
          32,
          33,
          34,
          35,
          36,
          37,
          38,
          39,
          40,
          41,
          42,
          43
         ],
         "xaxis": "x",
         "y": [
          0.0698223,
          0.111779,
          0.09118441,
          0.09732523,
          0.07667931,
          0.10450589,
          0.09445045,
          0.067747235,
          0.075814605,
          0.110540755,
          0.08070332,
          0.06634972,
          0.060250606,
          0.052953932,
          0.087435395,
          0.09739629,
          0.0026472611,
          0.09457248,
          0.13383356,
          0.065469466,
          0.0012776369,
          0.051646885,
          0.90690124,
          0.09825387,
          0.0033333332,
          0.0032934449,
          0.9725258,
          0.0023498063,
          0.0011432465,
          0.00683395,
          0.035892256,
          0.0010226284,
          0.0030781904,
          0.0029612544,
          0.004844471,
          0.009901105,
          0.16750169,
          0.0031725636,
          0.0007369667,
          0.0029769822,
          0.0010235974,
          0.0023814656,
          0.00392306,
          0.010009472
         ],
         "yaxis": "y"
        },
        {
         "hovertemplate": "variable=topic_10<br>timepoint=%{x}<br>value=%{y}<extra></extra>",
         "legendgroup": "topic_10",
         "line": {
          "color": "#19d3f3",
          "dash": "solid"
         },
         "marker": {
          "symbol": "circle"
         },
         "mode": "lines",
         "name": "topic_10",
         "orientation": "v",
         "showlegend": true,
         "type": "scatter",
         "x": [
          0,
          1,
          2,
          3,
          4,
          5,
          6,
          7,
          8,
          9,
          10,
          11,
          12,
          13,
          14,
          15,
          16,
          17,
          18,
          19,
          20,
          21,
          22,
          23,
          24,
          25,
          26,
          27,
          28,
          29,
          30,
          31,
          32,
          33,
          34,
          35,
          36,
          37,
          38,
          39,
          40,
          41,
          42,
          43
         ],
         "xaxis": "x",
         "y": [
          0.11764136,
          0.09174257,
          0.12686656,
          0.098541036,
          0.120557964,
          0.116794676,
          0.116432436,
          0.07882643,
          0.10386827,
          0.09839342,
          0.078204215,
          0.12177643,
          0.07851751,
          0.06325203,
          0.06611757,
          0.119167395,
          0.002761861,
          0.0904803,
          0.061403945,
          0.103573374,
          0.0022743747,
          0.042151336,
          0.011437945,
          0.1387944,
          0.97231615,
          0.008164778,
          0.0036326833,
          0.0008155685,
          0.0010675349,
          0.0046369103,
          0.022712843,
          0.0014577894,
          0.0017300779,
          0.0037915127,
          0.0068536983,
          0.009203025,
          0.057751063,
          0.0032713974,
          0.0012828679,
          0.9624654,
          0.0016486951,
          0.0018426725,
          0.9705607,
          0.925492
         ],
         "yaxis": "y"
        }
       ],
       "layout": {
        "legend": {
         "title": {
          "text": "variable"
         },
         "tracegroupgap": 0
        },
        "template": {
         "data": {
          "bar": [
           {
            "error_x": {
             "color": "#2a3f5f"
            },
            "error_y": {
             "color": "#2a3f5f"
            },
            "marker": {
             "line": {
              "color": "#E5ECF6",
              "width": 0.5
             },
             "pattern": {
              "fillmode": "overlay",
              "size": 10,
              "solidity": 0.2
             }
            },
            "type": "bar"
           }
          ],
          "barpolar": [
           {
            "marker": {
             "line": {
              "color": "#E5ECF6",
              "width": 0.5
             },
             "pattern": {
              "fillmode": "overlay",
              "size": 10,
              "solidity": 0.2
             }
            },
            "type": "barpolar"
           }
          ],
          "carpet": [
           {
            "aaxis": {
             "endlinecolor": "#2a3f5f",
             "gridcolor": "white",
             "linecolor": "white",
             "minorgridcolor": "white",
             "startlinecolor": "#2a3f5f"
            },
            "baxis": {
             "endlinecolor": "#2a3f5f",
             "gridcolor": "white",
             "linecolor": "white",
             "minorgridcolor": "white",
             "startlinecolor": "#2a3f5f"
            },
            "type": "carpet"
           }
          ],
          "choropleth": [
           {
            "colorbar": {
             "outlinewidth": 0,
             "ticks": ""
            },
            "type": "choropleth"
           }
          ],
          "contour": [
           {
            "colorbar": {
             "outlinewidth": 0,
             "ticks": ""
            },
            "colorscale": [
             [
              0,
              "#0d0887"
             ],
             [
              0.1111111111111111,
              "#46039f"
             ],
             [
              0.2222222222222222,
              "#7201a8"
             ],
             [
              0.3333333333333333,
              "#9c179e"
             ],
             [
              0.4444444444444444,
              "#bd3786"
             ],
             [
              0.5555555555555556,
              "#d8576b"
             ],
             [
              0.6666666666666666,
              "#ed7953"
             ],
             [
              0.7777777777777778,
              "#fb9f3a"
             ],
             [
              0.8888888888888888,
              "#fdca26"
             ],
             [
              1,
              "#f0f921"
             ]
            ],
            "type": "contour"
           }
          ],
          "contourcarpet": [
           {
            "colorbar": {
             "outlinewidth": 0,
             "ticks": ""
            },
            "type": "contourcarpet"
           }
          ],
          "heatmap": [
           {
            "colorbar": {
             "outlinewidth": 0,
             "ticks": ""
            },
            "colorscale": [
             [
              0,
              "#0d0887"
             ],
             [
              0.1111111111111111,
              "#46039f"
             ],
             [
              0.2222222222222222,
              "#7201a8"
             ],
             [
              0.3333333333333333,
              "#9c179e"
             ],
             [
              0.4444444444444444,
              "#bd3786"
             ],
             [
              0.5555555555555556,
              "#d8576b"
             ],
             [
              0.6666666666666666,
              "#ed7953"
             ],
             [
              0.7777777777777778,
              "#fb9f3a"
             ],
             [
              0.8888888888888888,
              "#fdca26"
             ],
             [
              1,
              "#f0f921"
             ]
            ],
            "type": "heatmap"
           }
          ],
          "heatmapgl": [
           {
            "colorbar": {
             "outlinewidth": 0,
             "ticks": ""
            },
            "colorscale": [
             [
              0,
              "#0d0887"
             ],
             [
              0.1111111111111111,
              "#46039f"
             ],
             [
              0.2222222222222222,
              "#7201a8"
             ],
             [
              0.3333333333333333,
              "#9c179e"
             ],
             [
              0.4444444444444444,
              "#bd3786"
             ],
             [
              0.5555555555555556,
              "#d8576b"
             ],
             [
              0.6666666666666666,
              "#ed7953"
             ],
             [
              0.7777777777777778,
              "#fb9f3a"
             ],
             [
              0.8888888888888888,
              "#fdca26"
             ],
             [
              1,
              "#f0f921"
             ]
            ],
            "type": "heatmapgl"
           }
          ],
          "histogram": [
           {
            "marker": {
             "pattern": {
              "fillmode": "overlay",
              "size": 10,
              "solidity": 0.2
             }
            },
            "type": "histogram"
           }
          ],
          "histogram2d": [
           {
            "colorbar": {
             "outlinewidth": 0,
             "ticks": ""
            },
            "colorscale": [
             [
              0,
              "#0d0887"
             ],
             [
              0.1111111111111111,
              "#46039f"
             ],
             [
              0.2222222222222222,
              "#7201a8"
             ],
             [
              0.3333333333333333,
              "#9c179e"
             ],
             [
              0.4444444444444444,
              "#bd3786"
             ],
             [
              0.5555555555555556,
              "#d8576b"
             ],
             [
              0.6666666666666666,
              "#ed7953"
             ],
             [
              0.7777777777777778,
              "#fb9f3a"
             ],
             [
              0.8888888888888888,
              "#fdca26"
             ],
             [
              1,
              "#f0f921"
             ]
            ],
            "type": "histogram2d"
           }
          ],
          "histogram2dcontour": [
           {
            "colorbar": {
             "outlinewidth": 0,
             "ticks": ""
            },
            "colorscale": [
             [
              0,
              "#0d0887"
             ],
             [
              0.1111111111111111,
              "#46039f"
             ],
             [
              0.2222222222222222,
              "#7201a8"
             ],
             [
              0.3333333333333333,
              "#9c179e"
             ],
             [
              0.4444444444444444,
              "#bd3786"
             ],
             [
              0.5555555555555556,
              "#d8576b"
             ],
             [
              0.6666666666666666,
              "#ed7953"
             ],
             [
              0.7777777777777778,
              "#fb9f3a"
             ],
             [
              0.8888888888888888,
              "#fdca26"
             ],
             [
              1,
              "#f0f921"
             ]
            ],
            "type": "histogram2dcontour"
           }
          ],
          "mesh3d": [
           {
            "colorbar": {
             "outlinewidth": 0,
             "ticks": ""
            },
            "type": "mesh3d"
           }
          ],
          "parcoords": [
           {
            "line": {
             "colorbar": {
              "outlinewidth": 0,
              "ticks": ""
             }
            },
            "type": "parcoords"
           }
          ],
          "pie": [
           {
            "automargin": true,
            "type": "pie"
           }
          ],
          "scatter": [
           {
            "fillpattern": {
             "fillmode": "overlay",
             "size": 10,
             "solidity": 0.2
            },
            "type": "scatter"
           }
          ],
          "scatter3d": [
           {
            "line": {
             "colorbar": {
              "outlinewidth": 0,
              "ticks": ""
             }
            },
            "marker": {
             "colorbar": {
              "outlinewidth": 0,
              "ticks": ""
             }
            },
            "type": "scatter3d"
           }
          ],
          "scattercarpet": [
           {
            "marker": {
             "colorbar": {
              "outlinewidth": 0,
              "ticks": ""
             }
            },
            "type": "scattercarpet"
           }
          ],
          "scattergeo": [
           {
            "marker": {
             "colorbar": {
              "outlinewidth": 0,
              "ticks": ""
             }
            },
            "type": "scattergeo"
           }
          ],
          "scattergl": [
           {
            "marker": {
             "colorbar": {
              "outlinewidth": 0,
              "ticks": ""
             }
            },
            "type": "scattergl"
           }
          ],
          "scattermapbox": [
           {
            "marker": {
             "colorbar": {
              "outlinewidth": 0,
              "ticks": ""
             }
            },
            "type": "scattermapbox"
           }
          ],
          "scatterpolar": [
           {
            "marker": {
             "colorbar": {
              "outlinewidth": 0,
              "ticks": ""
             }
            },
            "type": "scatterpolar"
           }
          ],
          "scatterpolargl": [
           {
            "marker": {
             "colorbar": {
              "outlinewidth": 0,
              "ticks": ""
             }
            },
            "type": "scatterpolargl"
           }
          ],
          "scatterternary": [
           {
            "marker": {
             "colorbar": {
              "outlinewidth": 0,
              "ticks": ""
             }
            },
            "type": "scatterternary"
           }
          ],
          "surface": [
           {
            "colorbar": {
             "outlinewidth": 0,
             "ticks": ""
            },
            "colorscale": [
             [
              0,
              "#0d0887"
             ],
             [
              0.1111111111111111,
              "#46039f"
             ],
             [
              0.2222222222222222,
              "#7201a8"
             ],
             [
              0.3333333333333333,
              "#9c179e"
             ],
             [
              0.4444444444444444,
              "#bd3786"
             ],
             [
              0.5555555555555556,
              "#d8576b"
             ],
             [
              0.6666666666666666,
              "#ed7953"
             ],
             [
              0.7777777777777778,
              "#fb9f3a"
             ],
             [
              0.8888888888888888,
              "#fdca26"
             ],
             [
              1,
              "#f0f921"
             ]
            ],
            "type": "surface"
           }
          ],
          "table": [
           {
            "cells": {
             "fill": {
              "color": "#EBF0F8"
             },
             "line": {
              "color": "white"
             }
            },
            "header": {
             "fill": {
              "color": "#C8D4E3"
             },
             "line": {
              "color": "white"
             }
            },
            "type": "table"
           }
          ]
         },
         "layout": {
          "annotationdefaults": {
           "arrowcolor": "#2a3f5f",
           "arrowhead": 0,
           "arrowwidth": 1
          },
          "autotypenumbers": "strict",
          "coloraxis": {
           "colorbar": {
            "outlinewidth": 0,
            "ticks": ""
           }
          },
          "colorscale": {
           "diverging": [
            [
             0,
             "#8e0152"
            ],
            [
             0.1,
             "#c51b7d"
            ],
            [
             0.2,
             "#de77ae"
            ],
            [
             0.3,
             "#f1b6da"
            ],
            [
             0.4,
             "#fde0ef"
            ],
            [
             0.5,
             "#f7f7f7"
            ],
            [
             0.6,
             "#e6f5d0"
            ],
            [
             0.7,
             "#b8e186"
            ],
            [
             0.8,
             "#7fbc41"
            ],
            [
             0.9,
             "#4d9221"
            ],
            [
             1,
             "#276419"
            ]
           ],
           "sequential": [
            [
             0,
             "#0d0887"
            ],
            [
             0.1111111111111111,
             "#46039f"
            ],
            [
             0.2222222222222222,
             "#7201a8"
            ],
            [
             0.3333333333333333,
             "#9c179e"
            ],
            [
             0.4444444444444444,
             "#bd3786"
            ],
            [
             0.5555555555555556,
             "#d8576b"
            ],
            [
             0.6666666666666666,
             "#ed7953"
            ],
            [
             0.7777777777777778,
             "#fb9f3a"
            ],
            [
             0.8888888888888888,
             "#fdca26"
            ],
            [
             1,
             "#f0f921"
            ]
           ],
           "sequentialminus": [
            [
             0,
             "#0d0887"
            ],
            [
             0.1111111111111111,
             "#46039f"
            ],
            [
             0.2222222222222222,
             "#7201a8"
            ],
            [
             0.3333333333333333,
             "#9c179e"
            ],
            [
             0.4444444444444444,
             "#bd3786"
            ],
            [
             0.5555555555555556,
             "#d8576b"
            ],
            [
             0.6666666666666666,
             "#ed7953"
            ],
            [
             0.7777777777777778,
             "#fb9f3a"
            ],
            [
             0.8888888888888888,
             "#fdca26"
            ],
            [
             1,
             "#f0f921"
            ]
           ]
          },
          "colorway": [
           "#636efa",
           "#EF553B",
           "#00cc96",
           "#ab63fa",
           "#FFA15A",
           "#19d3f3",
           "#FF6692",
           "#B6E880",
           "#FF97FF",
           "#FECB52"
          ],
          "font": {
           "color": "#2a3f5f"
          },
          "geo": {
           "bgcolor": "white",
           "lakecolor": "white",
           "landcolor": "#E5ECF6",
           "showlakes": true,
           "showland": true,
           "subunitcolor": "white"
          },
          "hoverlabel": {
           "align": "left"
          },
          "hovermode": "closest",
          "mapbox": {
           "style": "light"
          },
          "paper_bgcolor": "white",
          "plot_bgcolor": "#E5ECF6",
          "polar": {
           "angularaxis": {
            "gridcolor": "white",
            "linecolor": "white",
            "ticks": ""
           },
           "bgcolor": "#E5ECF6",
           "radialaxis": {
            "gridcolor": "white",
            "linecolor": "white",
            "ticks": ""
           }
          },
          "scene": {
           "xaxis": {
            "backgroundcolor": "#E5ECF6",
            "gridcolor": "white",
            "gridwidth": 2,
            "linecolor": "white",
            "showbackground": true,
            "ticks": "",
            "zerolinecolor": "white"
           },
           "yaxis": {
            "backgroundcolor": "#E5ECF6",
            "gridcolor": "white",
            "gridwidth": 2,
            "linecolor": "white",
            "showbackground": true,
            "ticks": "",
            "zerolinecolor": "white"
           },
           "zaxis": {
            "backgroundcolor": "#E5ECF6",
            "gridcolor": "white",
            "gridwidth": 2,
            "linecolor": "white",
            "showbackground": true,
            "ticks": "",
            "zerolinecolor": "white"
           }
          },
          "shapedefaults": {
           "line": {
            "color": "#2a3f5f"
           }
          },
          "ternary": {
           "aaxis": {
            "gridcolor": "white",
            "linecolor": "white",
            "ticks": ""
           },
           "baxis": {
            "gridcolor": "white",
            "linecolor": "white",
            "ticks": ""
           },
           "bgcolor": "#E5ECF6",
           "caxis": {
            "gridcolor": "white",
            "linecolor": "white",
            "ticks": ""
           }
          },
          "title": {
           "x": 0.05
          },
          "xaxis": {
           "automargin": true,
           "gridcolor": "white",
           "linecolor": "white",
           "ticks": "",
           "title": {
            "standoff": 15
           },
           "zerolinecolor": "white",
           "zerolinewidth": 2
          },
          "yaxis": {
           "automargin": true,
           "gridcolor": "white",
           "linecolor": "white",
           "ticks": "",
           "title": {
            "standoff": 15
           },
           "zerolinecolor": "white",
           "zerolinewidth": 2
          }
         }
        },
        "title": {
         "text": "MD: Middle Time Period Common Topics 1 (Year 2015-2016)"
        },
        "xaxis": {
         "anchor": "y",
         "domain": [
          0,
          1
         ],
         "dtick": "M1",
         "tickformat": "%b %d",
         "ticklabelmode": "period",
         "title": {
          "text": "timepoint"
         }
        },
        "yaxis": {
         "anchor": "x",
         "domain": [
          0,
          1
         ],
         "title": {
          "text": "value"
         }
        }
       }
      }
     },
     "metadata": {},
     "output_type": "display_data"
    }
   ],
   "source": [
    "fig = px.line(md_dtm_td, x=\"timepoint\", y=['topic_1', 'topic_2', 'topic_6', 'topic_8', 'topic_9', 'topic_10'],\n",
    "              title='MD: Middle Time Period Common Topics 1 (Year 2015-2016)')\n",
    "fig.update_xaxes(\n",
    "    dtick=\"M1\",\n",
    "    tickformat=\"%b %d\",\n",
    "    ticklabelmode=\"period\")\n",
    "fig.show()"
   ]
  },
  {
   "cell_type": "code",
   "execution_count": 64,
   "metadata": {},
   "outputs": [
    {
     "data": {
      "text/html": [
       "<div>\n",
       "<style scoped>\n",
       "    .dataframe tbody tr th:only-of-type {\n",
       "        vertical-align: middle;\n",
       "    }\n",
       "\n",
       "    .dataframe tbody tr th {\n",
       "        vertical-align: top;\n",
       "    }\n",
       "\n",
       "    .dataframe thead th {\n",
       "        text-align: right;\n",
       "    }\n",
       "</style>\n",
       "<table border=\"1\" class=\"dataframe\">\n",
       "  <thead>\n",
       "    <tr style=\"text-align: right;\">\n",
       "      <th></th>\n",
       "      <th>55</th>\n",
       "      <th>21</th>\n",
       "      <th>61</th>\n",
       "      <th>77</th>\n",
       "      <th>51</th>\n",
       "      <th>22</th>\n",
       "      <th>16</th>\n",
       "      <th>52</th>\n",
       "      <th>32</th>\n",
       "      <th>78</th>\n",
       "      <th>...</th>\n",
       "      <th>58</th>\n",
       "      <th>62</th>\n",
       "      <th>13</th>\n",
       "      <th>25</th>\n",
       "      <th>69</th>\n",
       "      <th>10</th>\n",
       "      <th>43</th>\n",
       "      <th>15</th>\n",
       "      <th>27</th>\n",
       "      <th>9</th>\n",
       "    </tr>\n",
       "  </thead>\n",
       "  <tbody>\n",
       "    <tr>\n",
       "      <th>word</th>\n",
       "      <td>reform</td>\n",
       "      <td>description</td>\n",
       "      <td>strategy</td>\n",
       "      <td>ytd</td>\n",
       "      <td>px</td>\n",
       "      <td>description</td>\n",
       "      <td>description</td>\n",
       "      <td>px</td>\n",
       "      <td>inflow</td>\n",
       "      <td>ytd</td>\n",
       "      <td>...</td>\n",
       "      <td>scenario</td>\n",
       "      <td>surplus</td>\n",
       "      <td>consumer</td>\n",
       "      <td>eﬀect</td>\n",
       "      <td>variance</td>\n",
       "      <td>compensation</td>\n",
       "      <td>payout</td>\n",
       "      <td>cover</td>\n",
       "      <td>footprint</td>\n",
       "      <td>compensation</td>\n",
       "    </tr>\n",
       "    <tr>\n",
       "      <th>timepoint</th>\n",
       "      <td>28</td>\n",
       "      <td>29</td>\n",
       "      <td>29</td>\n",
       "      <td>29</td>\n",
       "      <td>29</td>\n",
       "      <td>30</td>\n",
       "      <td>23</td>\n",
       "      <td>30</td>\n",
       "      <td>26</td>\n",
       "      <td>30</td>\n",
       "      <td>...</td>\n",
       "      <td>31</td>\n",
       "      <td>26</td>\n",
       "      <td>31</td>\n",
       "      <td>30</td>\n",
       "      <td>28</td>\n",
       "      <td>31</td>\n",
       "      <td>28</td>\n",
       "      <td>30</td>\n",
       "      <td>31</td>\n",
       "      <td>30</td>\n",
       "    </tr>\n",
       "    <tr>\n",
       "      <th>prob</th>\n",
       "      <td>0.00618</td>\n",
       "      <td>0.00422</td>\n",
       "      <td>0.0042</td>\n",
       "      <td>0.00413</td>\n",
       "      <td>0.00413</td>\n",
       "      <td>0.00395</td>\n",
       "      <td>0.0039</td>\n",
       "      <td>0.00388</td>\n",
       "      <td>0.00386</td>\n",
       "      <td>0.00382</td>\n",
       "      <td>...</td>\n",
       "      <td>0.00218</td>\n",
       "      <td>0.00216</td>\n",
       "      <td>0.00216</td>\n",
       "      <td>0.00216</td>\n",
       "      <td>0.00215</td>\n",
       "      <td>0.00215</td>\n",
       "      <td>0.00211</td>\n",
       "      <td>0.0021</td>\n",
       "      <td>0.00209</td>\n",
       "      <td>0.00205</td>\n",
       "    </tr>\n",
       "  </tbody>\n",
       "</table>\n",
       "<p>3 rows × 80 columns</p>\n",
       "</div>"
      ],
      "text/plain": [
       "                55           21        61       77       51           22  \\\n",
       "word        reform  description  strategy      ytd       px  description   \n",
       "timepoint       28           29        29       29       29           30   \n",
       "prob       0.00618      0.00422    0.0042  0.00413  0.00413      0.00395   \n",
       "\n",
       "                    16       52       32       78  ...        58       62  \\\n",
       "word       description       px   inflow      ytd  ...  scenario  surplus   \n",
       "timepoint           23       30       26       30  ...        31       26   \n",
       "prob            0.0039  0.00388  0.00386  0.00382  ...   0.00218  0.00216   \n",
       "\n",
       "                 13       25        69            10       43      15  \\\n",
       "word       consumer    eﬀect  variance  compensation   payout   cover   \n",
       "timepoint        31       30        28            31       28      30   \n",
       "prob        0.00216  0.00216   0.00215       0.00215  0.00211  0.0021   \n",
       "\n",
       "                  27            9   \n",
       "word       footprint  compensation  \n",
       "timepoint         31            30  \n",
       "prob         0.00209       0.00205  \n",
       "\n",
       "[3 rows x 80 columns]"
      ]
     },
     "execution_count": 64,
     "metadata": {},
     "output_type": "execute_result"
    }
   ],
   "source": [
    "# topic_1\n",
    "topic_1 = md_dtm_wt[md_dtm_wt['k']==0] # start with 0\n",
    "# select timepoint\n",
    "topic_1_27 = topic_1[topic_1['timepoint']==27]\n",
    "# concat \n",
    "topic_1_concat = topic_1_27.copy()\n",
    "topic_1_concat.sort_values(by='prob', ascending=False, inplace=True)\n",
    "#print(topic_1_concat.T)\n",
    "\n",
    "# topic_2\n",
    "topic_2 = md_dtm_wt[md_dtm_wt['k']==1] # start with 0\n",
    "# select timepoint\n",
    "topic_2_25 = topic_2[topic_2['timepoint']==25]\n",
    "# concat \n",
    "topic_2_concat = topic_2_25.copy()\n",
    "topic_2_concat.sort_values(by='prob', ascending=False, inplace=True)\n",
    "#print(topic_2_concat.T)\n",
    "\n",
    "# topic_6\n",
    "topic_6 = md_dtm_wt[md_dtm_wt['k']==5] # start with 0\n",
    "# select timepoint\n",
    "topic_6_30 = topic_6[topic_6['timepoint']==30]\n",
    "topic_6_31 = topic_6[topic_6['timepoint']==31]\n",
    "# concat\n",
    "topic_6_concat = pd.concat([topic_6_30, topic_6_31], ignore_index=True)\n",
    "topic_6_concat.sort_values(by='prob', ascending=False, inplace=True)\n",
    "#print(topic_6_concat.T)\n",
    "\n",
    "# topic_8\n",
    "topic_8 = md_dtm_wt[md_dtm_wt['k']==7] # start with 0\n",
    "# select timepoint\n",
    "topic_8_28 = topic_8[topic_8['timepoint']==28]\n",
    "topic_8_29 = topic_8[topic_8['timepoint']==29]\n",
    "# concat\n",
    "topic_8_concat = pd.concat([topic_8_28, topic_8_29], ignore_index=True)\n",
    "topic_8_concat.sort_values(by='prob', ascending=False, inplace=True)\n",
    "# print(topic_8_concat.T)\n",
    "\n",
    "# topic_9\n",
    "topic_9 = md_dtm_wt[md_dtm_wt['k']==8] # start with 0\n",
    "# select timepoint\n",
    "topic_9_26 = topic_9[topic_9['timepoint']==26]\n",
    "# concat \n",
    "topic_9_concat = topic_9_26.copy()\n",
    "topic_9_concat.sort_values(by='prob', ascending=False, inplace=True)\n",
    "#print(topic_9_concat.T)\n",
    "\n",
    "# topic_10\n",
    "topic_10 = md_dtm_wt[md_dtm_wt['k']==9] # start with 0\n",
    "# select timepoint\n",
    "topic_10_23 = topic_10[topic_10['timepoint']==23]\n",
    "# concat \n",
    "topic_10_concat = topic_10_23.copy()\n",
    "topic_10_concat.sort_values(by='prob', ascending=False, inplace=True)\n",
    "#print(topic_10_concat.T)\n",
    "\n",
    "# concat all together\n",
    "topic_all_middle2 = pd.concat([topic_1_concat, topic_2_concat, topic_6_concat, topic_8_concat, topic_9_concat, topic_10_concat], ignore_index=True)\n",
    "\n",
    "# groupby word and get the average of prob\n",
    "topic_all_middle2 = topic_all_middle2.groupby(['word', 'timepoint'])['prob'].mean().reset_index()\n",
    "# sort by prob\n",
    "topic_all_middle2.sort_values(by='prob', ascending=False, inplace=True)\n",
    "topic_all_middle2.T"
   ]
  },
  {
   "cell_type": "code",
   "execution_count": 11,
   "metadata": {},
   "outputs": [],
   "source": [
    "# # old middle\n",
    "\n",
    "# # topic_1\n",
    "# topic_1 = md_dtm_wt[md_dtm_wt['k']==0] # start with 0\n",
    "# # select timepoint\n",
    "# topic_1_27 = topic_1[topic_1['timepoint']==27]\n",
    "# # concat \n",
    "# topic_1_concat = topic_1_27.copy()\n",
    "# topic_1_concat.sort_values(by='prob', ascending=False, inplace=True)\n",
    "\n",
    "# # topic_2\n",
    "# topic_2 = md_dtm_wt[md_dtm_wt['k']==1] # start with 0\n",
    "# # select timepoint\n",
    "# topic_2_25 = topic_2[topic_2['timepoint']==25]\n",
    "# # concat \n",
    "# topic_2_concat = topic_2_25.copy()\n",
    "# topic_2_concat.sort_values(by='prob', ascending=False, inplace=True)\n",
    "\n",
    "# # topic_5\n",
    "# topic_5 = md_dtm_wt[md_dtm_wt['k']==4] # start with 0\n",
    "# # select timepoint\n",
    "# topic_5_15 = topic_5[topic_5['timepoint']==15]\n",
    "# topic_5_16 = topic_5[topic_5['timepoint']==16]\n",
    "# topic_5_17 = topic_5[topic_5['timepoint']==17]\n",
    "# topic_5_18 = topic_5[topic_5['timepoint']==18]\n",
    "\n",
    "# # concat\n",
    "# topic_5_concate = pd.concat([topic_5_15, topic_5_16, topic_5_17, topic_5_18], ignore_index=True)\n",
    "# topic_5_concate.sort_values(by='prob', ascending=False, inplace=True)\n",
    "\n",
    "# # topic_6\n",
    "# topic_6 = md_dtm_wt[md_dtm_wt['k']==5] # start with 0\n",
    "# # select timepoint\n",
    "# topic_6_30 = topic_6[topic_6['timepoint']==30]\n",
    "# # concat \n",
    "# topic_6_concat = topic_6_30.copy()\n",
    "# topic_6_concat.sort_values(by='prob', ascending=False, inplace=True)\n",
    "\n",
    "# # topic_7\n",
    "# topic_7 = md_dtm_wt[md_dtm_wt['k']==6] # start with 0\n",
    "# # select timepoint\n",
    "# topic_7_20 = topic_6[topic_6['timepoint']==20]\n",
    "# # concat \n",
    "# topic_7_concat = topic_7_20.copy()\n",
    "# topic_7_concat.sort_values(by='prob', ascending=False, inplace=True)\n",
    "\n",
    "# # topic_8\n",
    "# topic_8 = md_dtm_wt[md_dtm_wt['k']==7] # start with 0\n",
    "# # select timepoint\n",
    "# topic_8_28 = topic_8[topic_8['timepoint']==28]\n",
    "# topic_8_29 = topic_8[topic_8['timepoint']==29]\n",
    "\n",
    "# # concat\n",
    "# topic_8_concate = pd.concat([topic_8_28, topic_8_29], ignore_index=True)\n",
    "# topic_8_concate.sort_values(by='prob', ascending=False, inplace=True)\n",
    "\n",
    "# # topic_9\n",
    "# topic_9 = md_dtm_wt[md_dtm_wt['k']==8] # start with 0\n",
    "# # select timepoint\n",
    "# topic_9_22 = topic_9[topic_9['timepoint']==22]\n",
    "# topic_9_26 = topic_9[topic_9['timepoint']==26]\n",
    "\n",
    "# # concat\n",
    "# topic_9_concate = pd.concat([topic_9_22, topic_9_26], ignore_index=True)\n",
    "# topic_9_concate.sort_values(by='prob', ascending=False, inplace=True)\n",
    "\n",
    "# # topic_10\n",
    "# topic_10 = md_dtm_wt[md_dtm_wt['k']==9] # start with 0\n",
    "# # select timepoint\n",
    "# topic_10_24 = topic_10[topic_10['timepoint']==24]\n",
    "# # concat \n",
    "# topic_10_concat = topic_10_24.copy()\n",
    "# topic_10_concat.sort_values(by='prob', ascending=False, inplace=True)"
   ]
  },
  {
   "cell_type": "markdown",
   "metadata": {},
   "source": [
    "## MD: Recent Time Period Common Topics 2 (Year 2019-2021)"
   ]
  },
  {
   "cell_type": "code",
   "execution_count": 88,
   "metadata": {},
   "outputs": [
    {
     "data": {
      "application/vnd.plotly.v1+json": {
       "config": {
        "plotlyServerURL": "https://plot.ly"
       },
       "data": [
        {
         "hovertemplate": "variable=topic_2<br>timepoint=%{x}<br>value=%{y}<extra></extra>",
         "legendgroup": "topic_2",
         "line": {
          "color": "#636efa",
          "dash": "solid"
         },
         "marker": {
          "symbol": "circle"
         },
         "mode": "lines",
         "name": "topic_2",
         "orientation": "v",
         "showlegend": true,
         "type": "scatter",
         "x": [
          0,
          1,
          2,
          3,
          4,
          5,
          6,
          7,
          8,
          9,
          10,
          11,
          12,
          13,
          14,
          15,
          16,
          17,
          18,
          19,
          20,
          21,
          22,
          23,
          24,
          25,
          26,
          27,
          28,
          29,
          30,
          31,
          32,
          33,
          34,
          35,
          36,
          37,
          38,
          39,
          40,
          41,
          42,
          43
         ],
         "xaxis": "x",
         "y": [
          0.13799678,
          0.09720705,
          0.10767616,
          0.11677812,
          0.07695016,
          0.08453661,
          0.09409009,
          0.08949529,
          0.059435442,
          0.09956897,
          0.089450195,
          0.16189702,
          0.12969504,
          0.11438121,
          0.06331826,
          0.039143868,
          0.0018450607,
          0.07174241,
          0.1292447,
          0.078596175,
          0.0023649873,
          0.030875372,
          0.008948976,
          0.07441543,
          0.0057502515,
          0.97554797,
          0.0043783956,
          0.0016230621,
          0.00084039976,
          0.0059088804,
          0.035411257,
          0.0005874674,
          0.0012807071,
          0.00351476,
          0.00343057,
          0.904491,
          0.05674006,
          0.0020853924,
          0.0008279502,
          0.0032838874,
          0.0010235974,
          0.0018426725,
          0.002618996,
          0.006536154
         ],
         "yaxis": "y"
        },
        {
         "hovertemplate": "variable=topic_4<br>timepoint=%{x}<br>value=%{y}<extra></extra>",
         "legendgroup": "topic_4",
         "line": {
          "color": "#EF553B",
          "dash": "solid"
         },
         "marker": {
          "symbol": "circle"
         },
         "mode": "lines",
         "name": "topic_4",
         "orientation": "v",
         "showlegend": true,
         "type": "scatter",
         "x": [
          0,
          1,
          2,
          3,
          4,
          5,
          6,
          7,
          8,
          9,
          10,
          11,
          12,
          13,
          14,
          15,
          16,
          17,
          18,
          19,
          20,
          21,
          22,
          23,
          24,
          25,
          26,
          27,
          28,
          29,
          30,
          31,
          32,
          33,
          34,
          35,
          36,
          37,
          38,
          39,
          40,
          41,
          42,
          43
         ],
         "xaxis": "x",
         "y": [
          0.08533118,
          0.111171834,
          0.14515743,
          0.07422493,
          0.10647346,
          0.109114185,
          0.12111712,
          0.10139516,
          0.09184527,
          0.10975706,
          0.09873259,
          0.078177184,
          0.06810085,
          0.046811204,
          0.056212313,
          0.04076199,
          0.0017304608,
          0.0659272,
          0.039699864,
          0.060546946,
          0.001640087,
          0.05416914,
          0.0072519514,
          0.15883692,
          0.0020241693,
          0.0019167638,
          0.00235432,
          0.001138566,
          0.00068897643,
          0.0032493062,
          0.014920635,
          0.0009501016,
          0.98090917,
          0.002592251,
          0.0030584908,
          0.009086678,
          0.091451354,
          0.0021842262,
          0.0019197526,
          0.0045115086,
          0.001570558,
          0.0020581896,
          0.002618996,
          0.0035890958
         ],
         "yaxis": "y"
        },
        {
         "hovertemplate": "variable=topic_6<br>timepoint=%{x}<br>value=%{y}<extra></extra>",
         "legendgroup": "topic_6",
         "line": {
          "color": "#00cc96",
          "dash": "solid"
         },
         "marker": {
          "symbol": "circle"
         },
         "mode": "lines",
         "name": "topic_6",
         "orientation": "v",
         "showlegend": true,
         "type": "scatter",
         "x": [
          0,
          1,
          2,
          3,
          4,
          5,
          6,
          7,
          8,
          9,
          10,
          11,
          12,
          13,
          14,
          15,
          16,
          17,
          18,
          19,
          20,
          21,
          22,
          23,
          24,
          25,
          26,
          27,
          28,
          29,
          30,
          31,
          32,
          33,
          34,
          35,
          36,
          37,
          38,
          39,
          40,
          41,
          42,
          43
         ],
         "xaxis": "x",
         "y": [
          0.09017771,
          0.08992107,
          0.10347826,
          0.086990885,
          0.12787108,
          0.11628264,
          0.12363964,
          0.109191634,
          0.09445896,
          0.08467869,
          0.092306316,
          0.069132656,
          0.06644022,
          0.061084013,
          0.07709948,
          0.07268314,
          0.002761861,
          0.11912556,
          0.07740295,
          0.0718505,
          0.0019119247,
          0.04482196,
          0.011890485,
          0.080185235,
          0.0041389726,
          0.0014931696,
          0.0025673804,
          0.0009770672,
          0.0016732283,
          0.006140148,
          0.7667244,
          0.98956335,
          0.0035275612,
          0.9608948,
          0.0040258965,
          0.011762653,
          0.14750618,
          0.98014426,
          0.9899099,
          0.006352941,
          0.0008673231,
          0.0013038793,
          0.002727668,
          0.0036943478
         ],
         "yaxis": "y"
        },
        {
         "hovertemplate": "variable=topic_7<br>timepoint=%{x}<br>value=%{y}<extra></extra>",
         "legendgroup": "topic_7",
         "line": {
          "color": "#ab63fa",
          "dash": "solid"
         },
         "marker": {
          "symbol": "circle"
         },
         "mode": "lines",
         "name": "topic_7",
         "orientation": "v",
         "showlegend": true,
         "type": "scatter",
         "x": [
          0,
          1,
          2,
          3,
          4,
          5,
          6,
          7,
          8,
          9,
          10,
          11,
          12,
          13,
          14,
          15,
          16,
          17,
          18,
          19,
          20,
          21,
          22,
          23,
          24,
          25,
          26,
          27,
          28,
          29,
          30,
          31,
          32,
          33,
          34,
          35,
          36,
          37,
          38,
          39,
          40,
          41,
          42,
          43
         ],
         "xaxis": "x",
         "y": [
          0.0698223,
          0.09477839,
          0.081889056,
          0.122249246,
          0.1037649,
          0.09887353,
          0.108864866,
          0.09729175,
          0.09201951,
          0.09839342,
          0.22029632,
          0.10322356,
          0.27492452,
          0.45476064,
          0.12705642,
          0.06356281,
          0.002761861,
          0.07045014,
          0.12242341,
          0.26802188,
          0.98043674,
          0.54689914,
          0.01155108,
          0.06803826,
          0.0017220544,
          0.0017049666,
          0.0019281986,
          0.0027535527,
          0.0014460933,
          0.015390842,
          0.02030784,
          0.0019654774,
          0.0018049731,
          0.0043450184,
          0.9589299,
          0.007574171,
          0.058762074,
          0.0019865585,
          0.0011918843,
          0.0024654733,
          0.0014924207,
          0.0017349138,
          0.0024016518,
          0.007062414
         ],
         "yaxis": "y"
        },
        {
         "hovertemplate": "variable=topic_8<br>timepoint=%{x}<br>value=%{y}<extra></extra>",
         "legendgroup": "topic_8",
         "line": {
          "color": "#FFA15A",
          "dash": "solid"
         },
         "marker": {
          "symbol": "circle"
         },
         "mode": "lines",
         "name": "topic_8",
         "orientation": "v",
         "showlegend": true,
         "type": "scatter",
         "x": [
          0,
          1,
          2,
          3,
          4,
          5,
          6,
          7,
          8,
          9,
          10,
          11,
          12,
          13,
          14,
          15,
          16,
          17,
          18,
          19,
          20,
          21,
          22,
          23,
          24,
          25,
          26,
          27,
          28,
          29,
          30,
          31,
          32,
          33,
          34,
          35,
          36,
          37,
          38,
          39,
          40,
          41,
          42,
          43
         ],
         "xaxis": "x",
         "y": [
          0.10051697,
          0.111779,
          0.08248876,
          0.0912462,
          0.09916035,
          0.09119304,
          0.08255856,
          0.10755027,
          0.08226172,
          0.099177115,
          0.0662442,
          0.095570505,
          0.054664858,
          0.06740741,
          0.04350775,
          0.03296558,
          0.0026472611,
          0.08294206,
          0.07802307,
          0.054165907,
          0.0036335627,
          0.0418546,
          0.008043896,
          0.08944731,
          0.0031319235,
          0.0017049666,
          0.003526153,
          0.0028343021,
          0.9898622,
          0.9434667,
          0.027138047,
          0.0010226284,
          0.0011309168,
          0.0031457564,
          0.005142134,
          0.02211751,
          0.1305437,
          0.0020853924,
          0.0010099172,
          0.00911509,
          0.9898499,
          0.98223054,
          0.0054444685,
          0.011167245
         ],
         "yaxis": "y"
        },
        {
         "hovertemplate": "variable=topic_10<br>timepoint=%{x}<br>value=%{y}<extra></extra>",
         "legendgroup": "topic_10",
         "line": {
          "color": "#19d3f3",
          "dash": "solid"
         },
         "marker": {
          "symbol": "circle"
         },
         "mode": "lines",
         "name": "topic_10",
         "orientation": "v",
         "showlegend": true,
         "type": "scatter",
         "x": [
          0,
          1,
          2,
          3,
          4,
          5,
          6,
          7,
          8,
          9,
          10,
          11,
          12,
          13,
          14,
          15,
          16,
          17,
          18,
          19,
          20,
          21,
          22,
          23,
          24,
          25,
          26,
          27,
          28,
          29,
          30,
          31,
          32,
          33,
          34,
          35,
          36,
          37,
          38,
          39,
          40,
          41,
          42,
          43
         ],
         "xaxis": "x",
         "y": [
          0.11764136,
          0.09174257,
          0.12686656,
          0.098541036,
          0.120557964,
          0.116794676,
          0.116432436,
          0.07882643,
          0.10386827,
          0.09839342,
          0.078204215,
          0.12177643,
          0.07851751,
          0.06325203,
          0.06611757,
          0.119167395,
          0.002761861,
          0.0904803,
          0.061403945,
          0.103573374,
          0.0022743747,
          0.042151336,
          0.011437945,
          0.1387944,
          0.97231615,
          0.008164778,
          0.0036326833,
          0.0008155685,
          0.0010675349,
          0.0046369103,
          0.022712843,
          0.0014577894,
          0.0017300779,
          0.0037915127,
          0.0068536983,
          0.009203025,
          0.057751063,
          0.0032713974,
          0.0012828679,
          0.9624654,
          0.0016486951,
          0.0018426725,
          0.9705607,
          0.925492
         ],
         "yaxis": "y"
        }
       ],
       "layout": {
        "legend": {
         "title": {
          "text": "variable"
         },
         "tracegroupgap": 0
        },
        "template": {
         "data": {
          "bar": [
           {
            "error_x": {
             "color": "#2a3f5f"
            },
            "error_y": {
             "color": "#2a3f5f"
            },
            "marker": {
             "line": {
              "color": "#E5ECF6",
              "width": 0.5
             },
             "pattern": {
              "fillmode": "overlay",
              "size": 10,
              "solidity": 0.2
             }
            },
            "type": "bar"
           }
          ],
          "barpolar": [
           {
            "marker": {
             "line": {
              "color": "#E5ECF6",
              "width": 0.5
             },
             "pattern": {
              "fillmode": "overlay",
              "size": 10,
              "solidity": 0.2
             }
            },
            "type": "barpolar"
           }
          ],
          "carpet": [
           {
            "aaxis": {
             "endlinecolor": "#2a3f5f",
             "gridcolor": "white",
             "linecolor": "white",
             "minorgridcolor": "white",
             "startlinecolor": "#2a3f5f"
            },
            "baxis": {
             "endlinecolor": "#2a3f5f",
             "gridcolor": "white",
             "linecolor": "white",
             "minorgridcolor": "white",
             "startlinecolor": "#2a3f5f"
            },
            "type": "carpet"
           }
          ],
          "choropleth": [
           {
            "colorbar": {
             "outlinewidth": 0,
             "ticks": ""
            },
            "type": "choropleth"
           }
          ],
          "contour": [
           {
            "colorbar": {
             "outlinewidth": 0,
             "ticks": ""
            },
            "colorscale": [
             [
              0,
              "#0d0887"
             ],
             [
              0.1111111111111111,
              "#46039f"
             ],
             [
              0.2222222222222222,
              "#7201a8"
             ],
             [
              0.3333333333333333,
              "#9c179e"
             ],
             [
              0.4444444444444444,
              "#bd3786"
             ],
             [
              0.5555555555555556,
              "#d8576b"
             ],
             [
              0.6666666666666666,
              "#ed7953"
             ],
             [
              0.7777777777777778,
              "#fb9f3a"
             ],
             [
              0.8888888888888888,
              "#fdca26"
             ],
             [
              1,
              "#f0f921"
             ]
            ],
            "type": "contour"
           }
          ],
          "contourcarpet": [
           {
            "colorbar": {
             "outlinewidth": 0,
             "ticks": ""
            },
            "type": "contourcarpet"
           }
          ],
          "heatmap": [
           {
            "colorbar": {
             "outlinewidth": 0,
             "ticks": ""
            },
            "colorscale": [
             [
              0,
              "#0d0887"
             ],
             [
              0.1111111111111111,
              "#46039f"
             ],
             [
              0.2222222222222222,
              "#7201a8"
             ],
             [
              0.3333333333333333,
              "#9c179e"
             ],
             [
              0.4444444444444444,
              "#bd3786"
             ],
             [
              0.5555555555555556,
              "#d8576b"
             ],
             [
              0.6666666666666666,
              "#ed7953"
             ],
             [
              0.7777777777777778,
              "#fb9f3a"
             ],
             [
              0.8888888888888888,
              "#fdca26"
             ],
             [
              1,
              "#f0f921"
             ]
            ],
            "type": "heatmap"
           }
          ],
          "heatmapgl": [
           {
            "colorbar": {
             "outlinewidth": 0,
             "ticks": ""
            },
            "colorscale": [
             [
              0,
              "#0d0887"
             ],
             [
              0.1111111111111111,
              "#46039f"
             ],
             [
              0.2222222222222222,
              "#7201a8"
             ],
             [
              0.3333333333333333,
              "#9c179e"
             ],
             [
              0.4444444444444444,
              "#bd3786"
             ],
             [
              0.5555555555555556,
              "#d8576b"
             ],
             [
              0.6666666666666666,
              "#ed7953"
             ],
             [
              0.7777777777777778,
              "#fb9f3a"
             ],
             [
              0.8888888888888888,
              "#fdca26"
             ],
             [
              1,
              "#f0f921"
             ]
            ],
            "type": "heatmapgl"
           }
          ],
          "histogram": [
           {
            "marker": {
             "pattern": {
              "fillmode": "overlay",
              "size": 10,
              "solidity": 0.2
             }
            },
            "type": "histogram"
           }
          ],
          "histogram2d": [
           {
            "colorbar": {
             "outlinewidth": 0,
             "ticks": ""
            },
            "colorscale": [
             [
              0,
              "#0d0887"
             ],
             [
              0.1111111111111111,
              "#46039f"
             ],
             [
              0.2222222222222222,
              "#7201a8"
             ],
             [
              0.3333333333333333,
              "#9c179e"
             ],
             [
              0.4444444444444444,
              "#bd3786"
             ],
             [
              0.5555555555555556,
              "#d8576b"
             ],
             [
              0.6666666666666666,
              "#ed7953"
             ],
             [
              0.7777777777777778,
              "#fb9f3a"
             ],
             [
              0.8888888888888888,
              "#fdca26"
             ],
             [
              1,
              "#f0f921"
             ]
            ],
            "type": "histogram2d"
           }
          ],
          "histogram2dcontour": [
           {
            "colorbar": {
             "outlinewidth": 0,
             "ticks": ""
            },
            "colorscale": [
             [
              0,
              "#0d0887"
             ],
             [
              0.1111111111111111,
              "#46039f"
             ],
             [
              0.2222222222222222,
              "#7201a8"
             ],
             [
              0.3333333333333333,
              "#9c179e"
             ],
             [
              0.4444444444444444,
              "#bd3786"
             ],
             [
              0.5555555555555556,
              "#d8576b"
             ],
             [
              0.6666666666666666,
              "#ed7953"
             ],
             [
              0.7777777777777778,
              "#fb9f3a"
             ],
             [
              0.8888888888888888,
              "#fdca26"
             ],
             [
              1,
              "#f0f921"
             ]
            ],
            "type": "histogram2dcontour"
           }
          ],
          "mesh3d": [
           {
            "colorbar": {
             "outlinewidth": 0,
             "ticks": ""
            },
            "type": "mesh3d"
           }
          ],
          "parcoords": [
           {
            "line": {
             "colorbar": {
              "outlinewidth": 0,
              "ticks": ""
             }
            },
            "type": "parcoords"
           }
          ],
          "pie": [
           {
            "automargin": true,
            "type": "pie"
           }
          ],
          "scatter": [
           {
            "fillpattern": {
             "fillmode": "overlay",
             "size": 10,
             "solidity": 0.2
            },
            "type": "scatter"
           }
          ],
          "scatter3d": [
           {
            "line": {
             "colorbar": {
              "outlinewidth": 0,
              "ticks": ""
             }
            },
            "marker": {
             "colorbar": {
              "outlinewidth": 0,
              "ticks": ""
             }
            },
            "type": "scatter3d"
           }
          ],
          "scattercarpet": [
           {
            "marker": {
             "colorbar": {
              "outlinewidth": 0,
              "ticks": ""
             }
            },
            "type": "scattercarpet"
           }
          ],
          "scattergeo": [
           {
            "marker": {
             "colorbar": {
              "outlinewidth": 0,
              "ticks": ""
             }
            },
            "type": "scattergeo"
           }
          ],
          "scattergl": [
           {
            "marker": {
             "colorbar": {
              "outlinewidth": 0,
              "ticks": ""
             }
            },
            "type": "scattergl"
           }
          ],
          "scattermapbox": [
           {
            "marker": {
             "colorbar": {
              "outlinewidth": 0,
              "ticks": ""
             }
            },
            "type": "scattermapbox"
           }
          ],
          "scatterpolar": [
           {
            "marker": {
             "colorbar": {
              "outlinewidth": 0,
              "ticks": ""
             }
            },
            "type": "scatterpolar"
           }
          ],
          "scatterpolargl": [
           {
            "marker": {
             "colorbar": {
              "outlinewidth": 0,
              "ticks": ""
             }
            },
            "type": "scatterpolargl"
           }
          ],
          "scatterternary": [
           {
            "marker": {
             "colorbar": {
              "outlinewidth": 0,
              "ticks": ""
             }
            },
            "type": "scatterternary"
           }
          ],
          "surface": [
           {
            "colorbar": {
             "outlinewidth": 0,
             "ticks": ""
            },
            "colorscale": [
             [
              0,
              "#0d0887"
             ],
             [
              0.1111111111111111,
              "#46039f"
             ],
             [
              0.2222222222222222,
              "#7201a8"
             ],
             [
              0.3333333333333333,
              "#9c179e"
             ],
             [
              0.4444444444444444,
              "#bd3786"
             ],
             [
              0.5555555555555556,
              "#d8576b"
             ],
             [
              0.6666666666666666,
              "#ed7953"
             ],
             [
              0.7777777777777778,
              "#fb9f3a"
             ],
             [
              0.8888888888888888,
              "#fdca26"
             ],
             [
              1,
              "#f0f921"
             ]
            ],
            "type": "surface"
           }
          ],
          "table": [
           {
            "cells": {
             "fill": {
              "color": "#EBF0F8"
             },
             "line": {
              "color": "white"
             }
            },
            "header": {
             "fill": {
              "color": "#C8D4E3"
             },
             "line": {
              "color": "white"
             }
            },
            "type": "table"
           }
          ]
         },
         "layout": {
          "annotationdefaults": {
           "arrowcolor": "#2a3f5f",
           "arrowhead": 0,
           "arrowwidth": 1
          },
          "autotypenumbers": "strict",
          "coloraxis": {
           "colorbar": {
            "outlinewidth": 0,
            "ticks": ""
           }
          },
          "colorscale": {
           "diverging": [
            [
             0,
             "#8e0152"
            ],
            [
             0.1,
             "#c51b7d"
            ],
            [
             0.2,
             "#de77ae"
            ],
            [
             0.3,
             "#f1b6da"
            ],
            [
             0.4,
             "#fde0ef"
            ],
            [
             0.5,
             "#f7f7f7"
            ],
            [
             0.6,
             "#e6f5d0"
            ],
            [
             0.7,
             "#b8e186"
            ],
            [
             0.8,
             "#7fbc41"
            ],
            [
             0.9,
             "#4d9221"
            ],
            [
             1,
             "#276419"
            ]
           ],
           "sequential": [
            [
             0,
             "#0d0887"
            ],
            [
             0.1111111111111111,
             "#46039f"
            ],
            [
             0.2222222222222222,
             "#7201a8"
            ],
            [
             0.3333333333333333,
             "#9c179e"
            ],
            [
             0.4444444444444444,
             "#bd3786"
            ],
            [
             0.5555555555555556,
             "#d8576b"
            ],
            [
             0.6666666666666666,
             "#ed7953"
            ],
            [
             0.7777777777777778,
             "#fb9f3a"
            ],
            [
             0.8888888888888888,
             "#fdca26"
            ],
            [
             1,
             "#f0f921"
            ]
           ],
           "sequentialminus": [
            [
             0,
             "#0d0887"
            ],
            [
             0.1111111111111111,
             "#46039f"
            ],
            [
             0.2222222222222222,
             "#7201a8"
            ],
            [
             0.3333333333333333,
             "#9c179e"
            ],
            [
             0.4444444444444444,
             "#bd3786"
            ],
            [
             0.5555555555555556,
             "#d8576b"
            ],
            [
             0.6666666666666666,
             "#ed7953"
            ],
            [
             0.7777777777777778,
             "#fb9f3a"
            ],
            [
             0.8888888888888888,
             "#fdca26"
            ],
            [
             1,
             "#f0f921"
            ]
           ]
          },
          "colorway": [
           "#636efa",
           "#EF553B",
           "#00cc96",
           "#ab63fa",
           "#FFA15A",
           "#19d3f3",
           "#FF6692",
           "#B6E880",
           "#FF97FF",
           "#FECB52"
          ],
          "font": {
           "color": "#2a3f5f"
          },
          "geo": {
           "bgcolor": "white",
           "lakecolor": "white",
           "landcolor": "#E5ECF6",
           "showlakes": true,
           "showland": true,
           "subunitcolor": "white"
          },
          "hoverlabel": {
           "align": "left"
          },
          "hovermode": "closest",
          "mapbox": {
           "style": "light"
          },
          "paper_bgcolor": "white",
          "plot_bgcolor": "#E5ECF6",
          "polar": {
           "angularaxis": {
            "gridcolor": "white",
            "linecolor": "white",
            "ticks": ""
           },
           "bgcolor": "#E5ECF6",
           "radialaxis": {
            "gridcolor": "white",
            "linecolor": "white",
            "ticks": ""
           }
          },
          "scene": {
           "xaxis": {
            "backgroundcolor": "#E5ECF6",
            "gridcolor": "white",
            "gridwidth": 2,
            "linecolor": "white",
            "showbackground": true,
            "ticks": "",
            "zerolinecolor": "white"
           },
           "yaxis": {
            "backgroundcolor": "#E5ECF6",
            "gridcolor": "white",
            "gridwidth": 2,
            "linecolor": "white",
            "showbackground": true,
            "ticks": "",
            "zerolinecolor": "white"
           },
           "zaxis": {
            "backgroundcolor": "#E5ECF6",
            "gridcolor": "white",
            "gridwidth": 2,
            "linecolor": "white",
            "showbackground": true,
            "ticks": "",
            "zerolinecolor": "white"
           }
          },
          "shapedefaults": {
           "line": {
            "color": "#2a3f5f"
           }
          },
          "ternary": {
           "aaxis": {
            "gridcolor": "white",
            "linecolor": "white",
            "ticks": ""
           },
           "baxis": {
            "gridcolor": "white",
            "linecolor": "white",
            "ticks": ""
           },
           "bgcolor": "#E5ECF6",
           "caxis": {
            "gridcolor": "white",
            "linecolor": "white",
            "ticks": ""
           }
          },
          "title": {
           "x": 0.05
          },
          "xaxis": {
           "automargin": true,
           "gridcolor": "white",
           "linecolor": "white",
           "ticks": "",
           "title": {
            "standoff": 15
           },
           "zerolinecolor": "white",
           "zerolinewidth": 2
          },
          "yaxis": {
           "automargin": true,
           "gridcolor": "white",
           "linecolor": "white",
           "ticks": "",
           "title": {
            "standoff": 15
           },
           "zerolinecolor": "white",
           "zerolinewidth": 2
          }
         }
        },
        "title": {
         "text": "MD: Recent Time Period Common Topics 1 (Year 2019-2021)"
        },
        "xaxis": {
         "anchor": "y",
         "domain": [
          0,
          1
         ],
         "dtick": "M1",
         "tickformat": "%b %d",
         "ticklabelmode": "period",
         "title": {
          "text": "timepoint"
         }
        },
        "yaxis": {
         "anchor": "x",
         "domain": [
          0,
          1
         ],
         "title": {
          "text": "value"
         }
        }
       }
      }
     },
     "metadata": {},
     "output_type": "display_data"
    }
   ],
   "source": [
    "fig = px.line(md_dtm_td, x=\"timepoint\", y=['topic_2', 'topic_4', 'topic_6', 'topic_7', 'topic_8', 'topic_10'],\n",
    "              title='MD: Recent Time Period Common Topics 1 (Year 2019-2021)')\n",
    "fig.update_xaxes(\n",
    "    dtick=\"M1\",\n",
    "    tickformat=\"%b %d\",\n",
    "    ticklabelmode=\"period\")\n",
    "fig.show()"
   ]
  },
  {
   "cell_type": "code",
   "execution_count": 86,
   "metadata": {},
   "outputs": [
    {
     "data": {
      "text/html": [
       "<div>\n",
       "<style scoped>\n",
       "    .dataframe tbody tr th:only-of-type {\n",
       "        vertical-align: middle;\n",
       "    }\n",
       "\n",
       "    .dataframe tbody tr th {\n",
       "        vertical-align: top;\n",
       "    }\n",
       "\n",
       "    .dataframe thead th {\n",
       "        text-align: right;\n",
       "    }\n",
       "</style>\n",
       "<table border=\"1\" class=\"dataframe\">\n",
       "  <thead>\n",
       "    <tr style=\"text-align: right;\">\n",
       "      <th></th>\n",
       "      <th>69</th>\n",
       "      <th>11</th>\n",
       "      <th>68</th>\n",
       "      <th>71</th>\n",
       "      <th>57</th>\n",
       "      <th>12</th>\n",
       "      <th>72</th>\n",
       "      <th>60</th>\n",
       "      <th>70</th>\n",
       "      <th>42</th>\n",
       "      <th>...</th>\n",
       "      <th>75</th>\n",
       "      <th>92</th>\n",
       "      <th>94</th>\n",
       "      <th>79</th>\n",
       "      <th>29</th>\n",
       "      <th>9</th>\n",
       "      <th>95</th>\n",
       "      <th>8</th>\n",
       "      <th>34</th>\n",
       "      <th>103</th>\n",
       "    </tr>\n",
       "  </thead>\n",
       "  <tbody>\n",
       "    <tr>\n",
       "      <th>word</th>\n",
       "      <td>pandemic</td>\n",
       "      <td>crisis</td>\n",
       "      <td>pandemic</td>\n",
       "      <td>pandemic</td>\n",
       "      <td>lockdown</td>\n",
       "      <td>crisis</td>\n",
       "      <td>pandemic</td>\n",
       "      <td>member</td>\n",
       "      <td>pandemic</td>\n",
       "      <td>inflation</td>\n",
       "      <td>...</td>\n",
       "      <td>proposal</td>\n",
       "      <td>society</td>\n",
       "      <td>storm</td>\n",
       "      <td>purpose</td>\n",
       "      <td>eﬀect</td>\n",
       "      <td>cover</td>\n",
       "      <td>surplus</td>\n",
       "      <td>compensation</td>\n",
       "      <td>guarantee</td>\n",
       "      <td>transfer</td>\n",
       "    </tr>\n",
       "    <tr>\n",
       "      <th>timepoint</th>\n",
       "      <td>38</td>\n",
       "      <td>37</td>\n",
       "      <td>37</td>\n",
       "      <td>40</td>\n",
       "      <td>38</td>\n",
       "      <td>38</td>\n",
       "      <td>41</td>\n",
       "      <td>33</td>\n",
       "      <td>39</td>\n",
       "      <td>42</td>\n",
       "      <td>...</td>\n",
       "      <td>33</td>\n",
       "      <td>41</td>\n",
       "      <td>41</td>\n",
       "      <td>39</td>\n",
       "      <td>30</td>\n",
       "      <td>30</td>\n",
       "      <td>32</td>\n",
       "      <td>30</td>\n",
       "      <td>39</td>\n",
       "      <td>39</td>\n",
       "    </tr>\n",
       "    <tr>\n",
       "      <th>prob</th>\n",
       "      <td>0.01955</td>\n",
       "      <td>0.01459</td>\n",
       "      <td>0.0144</td>\n",
       "      <td>0.01366</td>\n",
       "      <td>0.0088</td>\n",
       "      <td>0.00852</td>\n",
       "      <td>0.00784</td>\n",
       "      <td>0.00705</td>\n",
       "      <td>0.00662</td>\n",
       "      <td>0.00661</td>\n",
       "      <td>...</td>\n",
       "      <td>0.0022</td>\n",
       "      <td>0.00219</td>\n",
       "      <td>0.00218</td>\n",
       "      <td>0.00216</td>\n",
       "      <td>0.00216</td>\n",
       "      <td>0.0021</td>\n",
       "      <td>0.00209</td>\n",
       "      <td>0.00205</td>\n",
       "      <td>0.00204</td>\n",
       "      <td>0.00204</td>\n",
       "    </tr>\n",
       "  </tbody>\n",
       "</table>\n",
       "<p>3 rows × 120 columns</p>\n",
       "</div>"
      ],
      "text/plain": [
       "                69       11        68        71        57       12        72   \\\n",
       "word       pandemic   crisis  pandemic  pandemic  lockdown   crisis  pandemic   \n",
       "timepoint        38       37        37        40        38       38        41   \n",
       "prob        0.01955  0.01459    0.0144   0.01366    0.0088  0.00852   0.00784   \n",
       "\n",
       "               60        70         42   ...       75       92       94   \\\n",
       "word        member  pandemic  inflation  ...  proposal  society    storm   \n",
       "timepoint       33        39         42  ...        33       41       41   \n",
       "prob       0.00705   0.00662    0.00661  ...    0.0022  0.00219  0.00218   \n",
       "\n",
       "               79       29      9        95            8          34   \\\n",
       "word       purpose    eﬀect   cover  surplus  compensation  guarantee   \n",
       "timepoint       39       30      30       32            30         39   \n",
       "prob       0.00216  0.00216  0.0021  0.00209       0.00205    0.00204   \n",
       "\n",
       "                103  \n",
       "word       transfer  \n",
       "timepoint        39  \n",
       "prob        0.00204  \n",
       "\n",
       "[3 rows x 120 columns]"
      ]
     },
     "execution_count": 86,
     "metadata": {},
     "output_type": "execute_result"
    }
   ],
   "source": [
    "# topic_2\n",
    "topic_2 = md_dtm_wt[md_dtm_wt['k']==1] # start with 0\n",
    "# select timepoint\n",
    "topic_2_35 = topic_2[topic_2['timepoint']==35]\n",
    "# concat \n",
    "topic_2_concat = topic_2_35.copy()\n",
    "topic_2_concat.sort_values(by='prob', ascending=False, inplace=True)\n",
    "#print(topic_2_concat.T)\n",
    "\n",
    "# topic_4\n",
    "topic_4 = md_dtm_wt[md_dtm_wt['k']==3] # start with 0\n",
    "# select timepoint\n",
    "topic_4_32 = topic_4[topic_4['timepoint']==32]\n",
    "# concat \n",
    "topic_4_concat = topic_4_32.copy()\n",
    "topic_4_concat.sort_values(by='prob', ascending=False, inplace=True)\n",
    "#print(topic_4_concat.T)\n",
    "\n",
    "# topic_6\n",
    "topic_6 = md_dtm_wt[md_dtm_wt['k']==5] # start with 0\n",
    "# select timepoint\n",
    "topic_6_30 = topic_6[topic_6['timepoint']==30]\n",
    "topic_6_33 = topic_6[topic_6['timepoint']==33]\n",
    "topic_6_37 = topic_6[topic_6['timepoint']==37]\n",
    "topic_6_38 = topic_6[topic_6['timepoint']==38]\n",
    "# concat\n",
    "topic_6_concat = pd.concat([topic_6_30, topic_6_33, topic_6_37, topic_6_38], ignore_index=True)\n",
    "topic_6_concat.sort_values(by='prob', ascending=False, inplace=True)\n",
    "#print(topic_6_concat.T)\n",
    "\n",
    "# topic_7\n",
    "topic_7 = md_dtm_wt[md_dtm_wt['k']==6] # start with 0\n",
    "# select timepoint\n",
    "topic_7_34 = topic_7[topic_7['timepoint']==34]\n",
    "# concat \n",
    "topic_7_concat = topic_7_34.copy()\n",
    "topic_7_concat.sort_values(by='prob', ascending=False, inplace=True)\n",
    "#print(topic_7_concat.T)\n",
    "\n",
    "# topic_8\n",
    "topic_8 = md_dtm_wt[md_dtm_wt['k']==7] # start with 0\n",
    "# select timepoint\n",
    "topic_8_40 = topic_8[topic_8['timepoint']==40]\n",
    "topic_8_41 = topic_8[topic_8['timepoint']==41]\n",
    "# concat\n",
    "topic_8_concat = pd.concat([topic_8_40, topic_8_41], ignore_index=True)\n",
    "topic_8_concat.sort_values(by='prob', ascending=False, inplace=True)\n",
    "#print(topic_8_concat.T)\n",
    "\n",
    "# topic_10\n",
    "topic_10 = md_dtm_wt[md_dtm_wt['k']==9] # start with 0\n",
    "# select timepoint\n",
    "topic_10_39 = topic_10[topic_10['timepoint']==39]\n",
    "topic_10_42 = topic_10[topic_10['timepoint']==42]\n",
    "topic_10_43 = topic_10[topic_10['timepoint']==43]\n",
    "# concat\n",
    "topic_10_concat = pd.concat([topic_10_39, topic_10_42, topic_10_43], ignore_index=True)\n",
    "topic_10_concat.sort_values(by='prob', ascending=False, inplace=True)\n",
    "#print(topic_10_concat.T)\n",
    "\n",
    "# concat all together\n",
    "topic_all_recent = pd.concat([topic_2_concat,topic_4_concat, topic_6_concat,topic_7_concat, topic_8_concat, topic_10_concat], ignore_index=True)\n",
    "\n",
    "# groupby word and get the average of prob\n",
    "topic_all_recent = topic_all_recent.groupby(['word', 'timepoint'])['prob'].mean().reset_index()\n",
    "# sort by prob\n",
    "topic_all_recent.sort_values(by='prob', ascending=False, inplace=True)\n",
    "topic_all_recent.T"
   ]
  }
 ],
 "metadata": {
  "kernelspec": {
   "display_name": "Python 3.9.13 ('base')",
   "language": "python",
   "name": "python3"
  },
  "language_info": {
   "codemirror_mode": {
    "name": "ipython",
    "version": 3
   },
   "file_extension": ".py",
   "mimetype": "text/x-python",
   "name": "python",
   "nbconvert_exporter": "python",
   "pygments_lexer": "ipython3",
   "version": "3.9.13"
  },
  "orig_nbformat": 4,
  "vscode": {
   "interpreter": {
    "hash": "b51ab8bd4ee0e2d5794dba6af3a46081b130389b9a8dc49116ac3f0acfddf3ca"
   }
  }
 },
 "nbformat": 4,
 "nbformat_minor": 2
}
