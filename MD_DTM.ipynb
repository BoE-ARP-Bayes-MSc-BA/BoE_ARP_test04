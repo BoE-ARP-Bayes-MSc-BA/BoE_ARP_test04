{
 "cells": [
  {
   "cell_type": "code",
   "execution_count": 68,
   "metadata": {},
   "outputs": [
    {
     "name": "stderr",
     "output_type": "stream",
     "text": [
      "[nltk_data] Downloading package twitter_samples to\n",
      "[nltk_data]     /Users/timliu/nltk_data...\n",
      "[nltk_data]   Package twitter_samples is already up-to-date!\n",
      "[nltk_data] Downloading package stopwords to\n",
      "[nltk_data]     /Users/timliu/nltk_data...\n",
      "[nltk_data]   Package stopwords is already up-to-date!\n"
     ]
    }
   ],
   "source": [
    "# self-define function\n",
    "from data_cleaning import cleaning_text_MD, sentence_df\n",
    "from participant_function import participants_list, clean_participants_list\n",
    "# from stock_price_info import stock_price_change\\\n",
    "# read and saving path\n",
    "path = \"./meeting_transcript\"\n",
    "text_save_path = \"./output_MD\"\n",
    "# other packages\n",
    "import pdftotext\n",
    "import pandas as pd\n",
    "import numpy as np\n",
    "import matplotlib.pyplot as plt\n",
    "import seaborn as sns\n",
    "import re\n",
    "import os\n",
    "import string\n",
    "# nlp\n",
    "import nltk \n",
    "nltk.download('twitter_samples')\n",
    "from nltk.corpus import twitter_samples\n",
    "from nltk.corpus import stopwords          # module for stop words that come with NLTK\n",
    "nltk.download('stopwords')\n",
    "from nltk.stem import PorterStemmer        # module for stemming\n",
    "from nltk.tokenize import TweetTokenizer   # module for tokenizing strings\n",
    "\n",
    "import warnings\n",
    "from pandas.core.common import SettingWithCopyWarning\n",
    "warnings.simplefilter(action=\"ignore\", category=SettingWithCopyWarning)\n",
    "import spacy \n",
    "nlp = spacy.load(\"en_core_web_lg\")\n",
    "from tqdm import tqdm\n",
    "# tp_modelling packages\n",
    "from collections import Counter, OrderedDict\n",
    "from gensim.models import Phrases\n",
    "import tomotopy as tp\n"
   ]
  },
  {
   "cell_type": "code",
   "execution_count": 69,
   "metadata": {},
   "outputs": [
    {
     "data": {
      "text/html": [
       "<div>\n",
       "<style scoped>\n",
       "    .dataframe tbody tr th:only-of-type {\n",
       "        vertical-align: middle;\n",
       "    }\n",
       "\n",
       "    .dataframe tbody tr th {\n",
       "        vertical-align: top;\n",
       "    }\n",
       "\n",
       "    .dataframe thead th {\n",
       "        text-align: right;\n",
       "    }\n",
       "</style>\n",
       "<table border=\"1\" class=\"dataframe\">\n",
       "  <thead>\n",
       "    <tr style=\"text-align: right;\">\n",
       "      <th></th>\n",
       "      <th>participants</th>\n",
       "      <th>file_name</th>\n",
       "      <th>date</th>\n",
       "      <th>idx</th>\n",
       "      <th>company_paticipants_yes</th>\n",
       "      <th>other_paticipants_yes</th>\n",
       "      <th>company_name</th>\n",
       "      <th>paraghrph</th>\n",
       "      <th>paraghrph_clean</th>\n",
       "      <th>paraghrph_noun</th>\n",
       "      <th>token</th>\n",
       "      <th>word_count</th>\n",
       "      <th>char_count</th>\n",
       "      <th>sentence_count</th>\n",
       "      <th>avg_word_length</th>\n",
       "      <th>avg_sentence_length</th>\n",
       "    </tr>\n",
       "  </thead>\n",
       "  <tbody>\n",
       "    <tr>\n",
       "      <th>5624</th>\n",
       "      <td>Operator</td>\n",
       "      <td>20110202_LEGAL_-_GEN_GRP-_Guidance_Call_2011-2...</td>\n",
       "      <td>2011-02-02</td>\n",
       "      <td>1.0</td>\n",
       "      <td>1</td>\n",
       "      <td>1</td>\n",
       "      <td>LEGAL -</td>\n",
       "      <td>Hello. Welcome to the U.S. capital restructuri...</td>\n",
       "      <td>Hello Welcome to the US capital restructuring ...</td>\n",
       "      <td>capital restructuring program call today instr...</td>\n",
       "      <td>['capital', 'restructuring', 'program', 'today...</td>\n",
       "      <td>5</td>\n",
       "      <td>43</td>\n",
       "      <td>7</td>\n",
       "      <td>8.600000</td>\n",
       "      <td>0.714286</td>\n",
       "    </tr>\n",
       "    <tr>\n",
       "      <th>1090</th>\n",
       "      <td>Chris Knight</td>\n",
       "      <td>20110202_LEGAL_-_GEN_GRP-_Guidance_Call_2011-2...</td>\n",
       "      <td>2011-02-02</td>\n",
       "      <td>70.0</td>\n",
       "      <td>1</td>\n",
       "      <td>0</td>\n",
       "      <td>LEGAL -</td>\n",
       "      <td>18966542  (Technical difficulty) in-force ter...</td>\n",
       "      <td>Technical difficulty in-force term   was re...</td>\n",
       "      <td>difficulty force term reinsurer FBARC x fundin...</td>\n",
       "      <td>['difficulty', 'force', 'term', 'reinsurer', '...</td>\n",
       "      <td>147</td>\n",
       "      <td>977</td>\n",
       "      <td>46</td>\n",
       "      <td>6.646259</td>\n",
       "      <td>3.195652</td>\n",
       "    </tr>\n",
       "    <tr>\n",
       "      <th>4434</th>\n",
       "      <td>Luigi Lubelli</td>\n",
       "      <td>20110202 _Mapfre_SA_Earnings_Call_SD0000000027...</td>\n",
       "      <td>2011-02-02</td>\n",
       "      <td>89.0</td>\n",
       "      <td>1</td>\n",
       "      <td>0</td>\n",
       "      <td>Mapfre SA</td>\n",
       "      <td>4108780  Thank you, Esteban. Good afternoon t...</td>\n",
       "      <td>Thank you  Good afternoon to everybody on t...</td>\n",
       "      <td>afternoon internet h slide breakdown premium p...</td>\n",
       "      <td>['afternoon', 'internet', 'slide', 'breakdown'...</td>\n",
       "      <td>334</td>\n",
       "      <td>2283</td>\n",
       "      <td>106</td>\n",
       "      <td>6.835329</td>\n",
       "      <td>3.150943</td>\n",
       "    </tr>\n",
       "    <tr>\n",
       "      <th>3447</th>\n",
       "      <td>Jimmy Atkins</td>\n",
       "      <td>20110202_LEGAL_-_GEN_GRP-_Guidance_Call_2011-2...</td>\n",
       "      <td>2011-02-02</td>\n",
       "      <td>38.0</td>\n",
       "      <td>1</td>\n",
       "      <td>0</td>\n",
       "      <td>LEGAL -</td>\n",
       "      <td>20917374  Thanks, Nigel. Since 1999, Legal &amp; ...</td>\n",
       "      <td>Thanks  Since  Legal &amp;   LGA has focused ex...</td>\n",
       "      <td>thank writing term life life mortality protect...</td>\n",
       "      <td>['write', 'term', 'life', 'life', 'mortality',...</td>\n",
       "      <td>80</td>\n",
       "      <td>572</td>\n",
       "      <td>32</td>\n",
       "      <td>7.150000</td>\n",
       "      <td>2.500000</td>\n",
       "    </tr>\n",
       "    <tr>\n",
       "      <th>2091</th>\n",
       "      <td>Esteban Tejera</td>\n",
       "      <td>20110202 _Mapfre_SA_Earnings_Call_SD0000000027...</td>\n",
       "      <td>2011-02-02</td>\n",
       "      <td>0.0</td>\n",
       "      <td>1</td>\n",
       "      <td>0</td>\n",
       "      <td>Mapfre SA</td>\n",
       "      <td>3910673  Good afternoon, ladies and gentlemen...</td>\n",
       "      <td>Good afternoon ladies and gentlemen Welcome...</td>\n",
       "      <td>afternoon lady gentleman year result presentat...</td>\n",
       "      <td>['afternoon', 'lady', 'gentleman', 'year', 're...</td>\n",
       "      <td>222</td>\n",
       "      <td>1468</td>\n",
       "      <td>81</td>\n",
       "      <td>6.612613</td>\n",
       "      <td>2.740741</td>\n",
       "    </tr>\n",
       "  </tbody>\n",
       "</table>\n",
       "</div>"
      ],
      "text/plain": [
       "        participants                                          file_name  \\\n",
       "5624        Operator  20110202_LEGAL_-_GEN_GRP-_Guidance_Call_2011-2...   \n",
       "1090    Chris Knight  20110202_LEGAL_-_GEN_GRP-_Guidance_Call_2011-2...   \n",
       "4434   Luigi Lubelli  20110202 _Mapfre_SA_Earnings_Call_SD0000000027...   \n",
       "3447    Jimmy Atkins  20110202_LEGAL_-_GEN_GRP-_Guidance_Call_2011-2...   \n",
       "2091  Esteban Tejera  20110202 _Mapfre_SA_Earnings_Call_SD0000000027...   \n",
       "\n",
       "            date   idx  company_paticipants_yes  other_paticipants_yes  \\\n",
       "5624  2011-02-02   1.0                        1                      1   \n",
       "1090  2011-02-02  70.0                        1                      0   \n",
       "4434  2011-02-02  89.0                        1                      0   \n",
       "3447  2011-02-02  38.0                        1                      0   \n",
       "2091  2011-02-02   0.0                        1                      0   \n",
       "\n",
       "     company_name                                          paraghrph  \\\n",
       "5624      LEGAL -  Hello. Welcome to the U.S. capital restructuri...   \n",
       "1090      LEGAL -   18966542  (Technical difficulty) in-force ter...   \n",
       "4434    Mapfre SA   4108780  Thank you, Esteban. Good afternoon t...   \n",
       "3447      LEGAL -   20917374  Thanks, Nigel. Since 1999, Legal & ...   \n",
       "2091    Mapfre SA   3910673  Good afternoon, ladies and gentlemen...   \n",
       "\n",
       "                                        paraghrph_clean  \\\n",
       "5624  Hello Welcome to the US capital restructuring ...   \n",
       "1090     Technical difficulty in-force term   was re...   \n",
       "4434     Thank you  Good afternoon to everybody on t...   \n",
       "3447     Thanks  Since  Legal &   LGA has focused ex...   \n",
       "2091     Good afternoon ladies and gentlemen Welcome...   \n",
       "\n",
       "                                         paraghrph_noun  \\\n",
       "5624  capital restructuring program call today instr...   \n",
       "1090  difficulty force term reinsurer FBARC x fundin...   \n",
       "4434  afternoon internet h slide breakdown premium p...   \n",
       "3447  thank writing term life life mortality protect...   \n",
       "2091  afternoon lady gentleman year result presentat...   \n",
       "\n",
       "                                                  token  word_count  \\\n",
       "5624  ['capital', 'restructuring', 'program', 'today...           5   \n",
       "1090  ['difficulty', 'force', 'term', 'reinsurer', '...         147   \n",
       "4434  ['afternoon', 'internet', 'slide', 'breakdown'...         334   \n",
       "3447  ['write', 'term', 'life', 'life', 'mortality',...          80   \n",
       "2091  ['afternoon', 'lady', 'gentleman', 'year', 're...         222   \n",
       "\n",
       "      char_count  sentence_count  avg_word_length  avg_sentence_length  \n",
       "5624          43               7         8.600000             0.714286  \n",
       "1090         977              46         6.646259             3.195652  \n",
       "4434        2283             106         6.835329             3.150943  \n",
       "3447         572              32         7.150000             2.500000  \n",
       "2091        1468              81         6.612613             2.740741  "
      ]
     },
     "execution_count": 69,
     "metadata": {},
     "output_type": "execute_result"
    }
   ],
   "source": [
    "# call out the model_df CSV\n",
    "model_df = pd.read_csv('./main_df_output/topic_modelling_MD_df.csv')\n",
    "# model_df sort by date\n",
    "model_df = model_df.sort_values(by=['date'])\n",
    "pd.set_option('display.max_columns', None)\n",
    "model_df.head()"
   ]
  },
  {
   "cell_type": "markdown",
   "metadata": {},
   "source": [
    "# Tokenize"
   ]
  },
  {
   "cell_type": "code",
   "execution_count": 70,
   "metadata": {},
   "outputs": [],
   "source": [
    "def clean_tokens_nuon(text_series):\n",
    "    # step 1: convert text_series df to list\n",
    "    text_list = text_series.to_list()\n",
    "\n",
    "    # step 2: change the list to lower case\n",
    "    text_list = list(map(lambda x: x.lower(),text_list))\n",
    "\n",
    "    # step 3: remove whitespaces and trailing spaces\n",
    "    def remove_whitespace(text):\n",
    "        pattern = re.compile(r'\\s+') \n",
    "        Without_whitespace = re.sub(pattern, ' ', text)\n",
    "        text = Without_whitespace.replace('?', ' ? ').replace(')', ') ')\n",
    "        text = text.strip()\n",
    "        return text\n",
    "    text_list=list(map(lambda x: remove_whitespace(x),text_list))\n",
    "\n",
    "    # step 4: apply nlp pipeline remove stop words, numbers and lematize the words\n",
    "    # expand the list of stopwords\n",
    "    gist_file = open(\"./input/gist_stopwords.txt\", \"r\")\n",
    "    try:\n",
    "        content = gist_file.read()\n",
    "        stopwords = content.split(\",\")\n",
    "    finally:\n",
    "        gist_file.close()\n",
    "        \n",
    "    stopwords=[i.replace('\"',\"\").strip() for i in stopwords]\n",
    "    # add the stopwords to the list of stopwords\n",
    "    for i in stopwords:\n",
    "        nlp.Defaults.stop_words.add(i)\n",
    "\n",
    "    # create colloum for cleaned text_list\n",
    "    tokens, tmp_tokens = [], [] \n",
    "    for text in tqdm(text_list): # or tqdm.tqdm\n",
    "        tmp_tokens = [\n",
    "            token.lemma_\n",
    "            for token in nlp(text)\n",
    "            if not token.is_stop \n",
    "            and not token.like_num\n",
    "            and not token.is_punct\n",
    "            and token.is_alpha\n",
    "            ]\n",
    "        tokens.append(tmp_tokens)\n",
    "        tmp_tokens=[]\n",
    "    return tokens"
   ]
  },
  {
   "cell_type": "code",
   "execution_count": 71,
   "metadata": {},
   "outputs": [
    {
     "name": "stderr",
     "output_type": "stream",
     "text": [
      "/var/folders/sq/sxhsy98j6f57m406rd5lz1_r0000gn/T/ipykernel_5320/458752224.py:2: FutureWarning:\n",
      "\n",
      "The default value of regex will change from True to False in a future version.\n",
      "\n",
      "100%|██████████| 8527/8527 [04:53<00:00, 29.01it/s] \n"
     ]
    },
    {
     "data": {
      "text/html": [
       "<div>\n",
       "<style scoped>\n",
       "    .dataframe tbody tr th:only-of-type {\n",
       "        vertical-align: middle;\n",
       "    }\n",
       "\n",
       "    .dataframe tbody tr th {\n",
       "        vertical-align: top;\n",
       "    }\n",
       "\n",
       "    .dataframe thead th {\n",
       "        text-align: right;\n",
       "    }\n",
       "</style>\n",
       "<table border=\"1\" class=\"dataframe\">\n",
       "  <thead>\n",
       "    <tr style=\"text-align: right;\">\n",
       "      <th></th>\n",
       "      <th>participants</th>\n",
       "      <th>file_name</th>\n",
       "      <th>date</th>\n",
       "      <th>idx</th>\n",
       "      <th>company_paticipants_yes</th>\n",
       "      <th>other_paticipants_yes</th>\n",
       "      <th>company_name</th>\n",
       "      <th>paraghrph</th>\n",
       "      <th>paraghrph_clean</th>\n",
       "      <th>paraghrph_noun</th>\n",
       "      <th>token</th>\n",
       "      <th>word_count</th>\n",
       "      <th>char_count</th>\n",
       "      <th>sentence_count</th>\n",
       "      <th>avg_word_length</th>\n",
       "      <th>avg_sentence_length</th>\n",
       "    </tr>\n",
       "  </thead>\n",
       "  <tbody>\n",
       "    <tr>\n",
       "      <th>5624</th>\n",
       "      <td>Operator</td>\n",
       "      <td>20110202_LEGAL_-_GEN_GRP-_Guidance_Call_2011-2...</td>\n",
       "      <td>2011-02-02</td>\n",
       "      <td>1.0</td>\n",
       "      <td>1</td>\n",
       "      <td>1</td>\n",
       "      <td>LEGAL -</td>\n",
       "      <td>Hello. Welcome to the U.S. capital restructuri...</td>\n",
       "      <td>Hello Welcome to the US capital restructuring ...</td>\n",
       "      <td>capital restructuring program call today instr...</td>\n",
       "      <td>[capital, restructuring, program, today, instr...</td>\n",
       "      <td>5</td>\n",
       "      <td>43</td>\n",
       "      <td>7</td>\n",
       "      <td>8.600000</td>\n",
       "      <td>0.714286</td>\n",
       "    </tr>\n",
       "    <tr>\n",
       "      <th>1090</th>\n",
       "      <td>Chris Knight</td>\n",
       "      <td>20110202_LEGAL_-_GEN_GRP-_Guidance_Call_2011-2...</td>\n",
       "      <td>2011-02-02</td>\n",
       "      <td>70.0</td>\n",
       "      <td>1</td>\n",
       "      <td>0</td>\n",
       "      <td>LEGAL -</td>\n",
       "      <td>18966542  (Technical difficulty) in-force ter...</td>\n",
       "      <td>Technical difficulty in-force term   was re...</td>\n",
       "      <td>difficulty force term reinsurer FBARC x fundin...</td>\n",
       "      <td>[difficulty, force, term, reinsurer, fbarc, fu...</td>\n",
       "      <td>147</td>\n",
       "      <td>977</td>\n",
       "      <td>46</td>\n",
       "      <td>6.646259</td>\n",
       "      <td>3.195652</td>\n",
       "    </tr>\n",
       "    <tr>\n",
       "      <th>4434</th>\n",
       "      <td>Luigi Lubelli</td>\n",
       "      <td>20110202 _Mapfre_SA_Earnings_Call_SD0000000027...</td>\n",
       "      <td>2011-02-02</td>\n",
       "      <td>89.0</td>\n",
       "      <td>1</td>\n",
       "      <td>0</td>\n",
       "      <td>Mapfre SA</td>\n",
       "      <td>4108780  Thank you, Esteban. Good afternoon t...</td>\n",
       "      <td>Thank you  Good afternoon to everybody on t...</td>\n",
       "      <td>afternoon internet h slide breakdown premium p...</td>\n",
       "      <td>[afternoon, internet, slide, breakdown, premiu...</td>\n",
       "      <td>334</td>\n",
       "      <td>2283</td>\n",
       "      <td>106</td>\n",
       "      <td>6.835329</td>\n",
       "      <td>3.150943</td>\n",
       "    </tr>\n",
       "    <tr>\n",
       "      <th>3447</th>\n",
       "      <td>Jimmy Atkins</td>\n",
       "      <td>20110202_LEGAL_-_GEN_GRP-_Guidance_Call_2011-2...</td>\n",
       "      <td>2011-02-02</td>\n",
       "      <td>38.0</td>\n",
       "      <td>1</td>\n",
       "      <td>0</td>\n",
       "      <td>LEGAL -</td>\n",
       "      <td>20917374  Thanks, Nigel. Since 1999, Legal &amp; ...</td>\n",
       "      <td>Thanks  Since  Legal &amp;   LGA has focused ex...</td>\n",
       "      <td>thank writing term life life mortality protect...</td>\n",
       "      <td>[write, term, life, life, mortality, protectio...</td>\n",
       "      <td>80</td>\n",
       "      <td>572</td>\n",
       "      <td>32</td>\n",
       "      <td>7.150000</td>\n",
       "      <td>2.500000</td>\n",
       "    </tr>\n",
       "    <tr>\n",
       "      <th>2091</th>\n",
       "      <td>Esteban Tejera</td>\n",
       "      <td>20110202 _Mapfre_SA_Earnings_Call_SD0000000027...</td>\n",
       "      <td>2011-02-02</td>\n",
       "      <td>0.0</td>\n",
       "      <td>1</td>\n",
       "      <td>0</td>\n",
       "      <td>Mapfre SA</td>\n",
       "      <td>3910673  Good afternoon, ladies and gentlemen...</td>\n",
       "      <td>Good afternoon ladies and gentlemen Welcome...</td>\n",
       "      <td>afternoon lady gentleman year result presentat...</td>\n",
       "      <td>[afternoon, lady, gentleman, year, result, pre...</td>\n",
       "      <td>222</td>\n",
       "      <td>1468</td>\n",
       "      <td>81</td>\n",
       "      <td>6.612613</td>\n",
       "      <td>2.740741</td>\n",
       "    </tr>\n",
       "    <tr>\n",
       "      <th>...</th>\n",
       "      <td>...</td>\n",
       "      <td>...</td>\n",
       "      <td>...</td>\n",
       "      <td>...</td>\n",
       "      <td>...</td>\n",
       "      <td>...</td>\n",
       "      <td>...</td>\n",
       "      <td>...</td>\n",
       "      <td>...</td>\n",
       "      <td>...</td>\n",
       "      <td>...</td>\n",
       "      <td>...</td>\n",
       "      <td>...</td>\n",
       "      <td>...</td>\n",
       "      <td>...</td>\n",
       "      <td>...</td>\n",
       "    </tr>\n",
       "    <tr>\n",
       "      <th>5209</th>\n",
       "      <td>Mitra Hagen Negard</td>\n",
       "      <td>20220427_GJENSIDIGE_FORSI-_Earnings_Call_2022-...</td>\n",
       "      <td>2022-04-27</td>\n",
       "      <td>6.0</td>\n",
       "      <td>1</td>\n",
       "      <td>0</td>\n",
       "      <td>GJENSIDIGE FORSI-</td>\n",
       "      <td>3974076  Thank you. Good morning, everyone. A...</td>\n",
       "      <td>Thank you Good morning everyone And welcome...</td>\n",
       "      <td>morning quer presentation name highlight quer ...</td>\n",
       "      <td>[morning, quer, presentation, highlight, quer,...</td>\n",
       "      <td>8</td>\n",
       "      <td>49</td>\n",
       "      <td>8</td>\n",
       "      <td>6.125000</td>\n",
       "      <td>1.000000</td>\n",
       "    </tr>\n",
       "    <tr>\n",
       "      <th>3810</th>\n",
       "      <td>Jostein Amdal</td>\n",
       "      <td>20220427_GJENSIDIGE_FORSI-_Earnings_Call_2022-...</td>\n",
       "      <td>2022-04-27</td>\n",
       "      <td>130.0</td>\n",
       "      <td>1</td>\n",
       "      <td>0</td>\n",
       "      <td>GJENSIDIGE FORSI-</td>\n",
       "      <td>19939645  Thank you, Helge, and good morning,...</td>\n",
       "      <td>Thank you  and good morning everybody I'll ...</td>\n",
       "      <td>morning proﬁt tax quer year ium growth frequen...</td>\n",
       "      <td>[morning, proﬁt, tax, quer, year, ium, growth,...</td>\n",
       "      <td>396</td>\n",
       "      <td>2545</td>\n",
       "      <td>119</td>\n",
       "      <td>6.426768</td>\n",
       "      <td>3.327731</td>\n",
       "    </tr>\n",
       "    <tr>\n",
       "      <th>2886</th>\n",
       "      <td>Helge Leiro Baastad</td>\n",
       "      <td>20220427_GJENSIDIGE_FORSI-_Earnings_Call_2022-...</td>\n",
       "      <td>2022-04-27</td>\n",
       "      <td>13.0</td>\n",
       "      <td>1</td>\n",
       "      <td>0</td>\n",
       "      <td>GJENSIDIGE FORSI-</td>\n",
       "      <td>5865247  Thank you, Mitra. Good morning and w...</td>\n",
       "      <td>Thank you  Good morning and welcome everyon...</td>\n",
       "      <td>morning world invasion uncertainty level decad...</td>\n",
       "      <td>[morning, invasion, uncertainty, level, decade...</td>\n",
       "      <td>323</td>\n",
       "      <td>2159</td>\n",
       "      <td>99</td>\n",
       "      <td>6.684211</td>\n",
       "      <td>3.262626</td>\n",
       "    </tr>\n",
       "    <tr>\n",
       "      <th>2887</th>\n",
       "      <td>Helge Leiro Baastad</td>\n",
       "      <td>20220427_GJENSIDIGE_FORSI-_Earnings_Call_2022-...</td>\n",
       "      <td>2022-04-27</td>\n",
       "      <td>255.0</td>\n",
       "      <td>1</td>\n",
       "      <td>0</td>\n",
       "      <td>GJENSIDIGE FORSI-</td>\n",
       "      <td>5865247  Thank you, Jostein. To sum up on Pag...</td>\n",
       "      <td>Thank you tein To sum up on Page  we are ve...</td>\n",
       "      <td>result iver target year conﬁt growth eﬃcient o...</td>\n",
       "      <td>[result, iver, target, year, conﬁt, growth, eﬃ...</td>\n",
       "      <td>27</td>\n",
       "      <td>176</td>\n",
       "      <td>9</td>\n",
       "      <td>6.518519</td>\n",
       "      <td>3.000000</td>\n",
       "    </tr>\n",
       "    <tr>\n",
       "      <th>6723</th>\n",
       "      <td>Operator</td>\n",
       "      <td>20220427_GJENSIDIGE_FORSI-_Earnings_Call_2022-...</td>\n",
       "      <td>2022-04-27</td>\n",
       "      <td>1.0</td>\n",
       "      <td>1</td>\n",
       "      <td>1</td>\n",
       "      <td>GJENSIDIGE FORSI-</td>\n",
       "      <td>Good day, and welcome to the Gjensidige Q1 202...</td>\n",
       "      <td>Good day and welcome to the Gjensidige Q  Resu...</td>\n",
       "      <td>day conference time conference</td>\n",
       "      <td>[day, conference, time, conference]</td>\n",
       "      <td>4</td>\n",
       "      <td>27</td>\n",
       "      <td>6</td>\n",
       "      <td>6.750000</td>\n",
       "      <td>0.666667</td>\n",
       "    </tr>\n",
       "  </tbody>\n",
       "</table>\n",
       "<p>8527 rows × 16 columns</p>\n",
       "</div>"
      ],
      "text/plain": [
       "             participants                                          file_name  \\\n",
       "5624             Operator  20110202_LEGAL_-_GEN_GRP-_Guidance_Call_2011-2...   \n",
       "1090         Chris Knight  20110202_LEGAL_-_GEN_GRP-_Guidance_Call_2011-2...   \n",
       "4434        Luigi Lubelli  20110202 _Mapfre_SA_Earnings_Call_SD0000000027...   \n",
       "3447         Jimmy Atkins  20110202_LEGAL_-_GEN_GRP-_Guidance_Call_2011-2...   \n",
       "2091       Esteban Tejera  20110202 _Mapfre_SA_Earnings_Call_SD0000000027...   \n",
       "...                   ...                                                ...   \n",
       "5209   Mitra Hagen Negard  20220427_GJENSIDIGE_FORSI-_Earnings_Call_2022-...   \n",
       "3810        Jostein Amdal  20220427_GJENSIDIGE_FORSI-_Earnings_Call_2022-...   \n",
       "2886  Helge Leiro Baastad  20220427_GJENSIDIGE_FORSI-_Earnings_Call_2022-...   \n",
       "2887  Helge Leiro Baastad  20220427_GJENSIDIGE_FORSI-_Earnings_Call_2022-...   \n",
       "6723             Operator  20220427_GJENSIDIGE_FORSI-_Earnings_Call_2022-...   \n",
       "\n",
       "            date    idx  company_paticipants_yes  other_paticipants_yes  \\\n",
       "5624  2011-02-02    1.0                        1                      1   \n",
       "1090  2011-02-02   70.0                        1                      0   \n",
       "4434  2011-02-02   89.0                        1                      0   \n",
       "3447  2011-02-02   38.0                        1                      0   \n",
       "2091  2011-02-02    0.0                        1                      0   \n",
       "...          ...    ...                      ...                    ...   \n",
       "5209  2022-04-27    6.0                        1                      0   \n",
       "3810  2022-04-27  130.0                        1                      0   \n",
       "2886  2022-04-27   13.0                        1                      0   \n",
       "2887  2022-04-27  255.0                        1                      0   \n",
       "6723  2022-04-27    1.0                        1                      1   \n",
       "\n",
       "           company_name                                          paraghrph  \\\n",
       "5624            LEGAL -  Hello. Welcome to the U.S. capital restructuri...   \n",
       "1090            LEGAL -   18966542  (Technical difficulty) in-force ter...   \n",
       "4434          Mapfre SA   4108780  Thank you, Esteban. Good afternoon t...   \n",
       "3447            LEGAL -   20917374  Thanks, Nigel. Since 1999, Legal & ...   \n",
       "2091          Mapfre SA   3910673  Good afternoon, ladies and gentlemen...   \n",
       "...                 ...                                                ...   \n",
       "5209  GJENSIDIGE FORSI-   3974076  Thank you. Good morning, everyone. A...   \n",
       "3810  GJENSIDIGE FORSI-   19939645  Thank you, Helge, and good morning,...   \n",
       "2886  GJENSIDIGE FORSI-   5865247  Thank you, Mitra. Good morning and w...   \n",
       "2887  GJENSIDIGE FORSI-   5865247  Thank you, Jostein. To sum up on Pag...   \n",
       "6723  GJENSIDIGE FORSI-  Good day, and welcome to the Gjensidige Q1 202...   \n",
       "\n",
       "                                        paraghrph_clean  \\\n",
       "5624  Hello Welcome to the US capital restructuring ...   \n",
       "1090     Technical difficulty in-force term   was re...   \n",
       "4434     Thank you  Good afternoon to everybody on t...   \n",
       "3447     Thanks  Since  Legal &   LGA has focused ex...   \n",
       "2091     Good afternoon ladies and gentlemen Welcome...   \n",
       "...                                                 ...   \n",
       "5209     Thank you Good morning everyone And welcome...   \n",
       "3810     Thank you  and good morning everybody I'll ...   \n",
       "2886     Thank you  Good morning and welcome everyon...   \n",
       "2887     Thank you tein To sum up on Page  we are ve...   \n",
       "6723  Good day and welcome to the Gjensidige Q  Resu...   \n",
       "\n",
       "                                         paraghrph_noun  \\\n",
       "5624  capital restructuring program call today instr...   \n",
       "1090  difficulty force term reinsurer FBARC x fundin...   \n",
       "4434  afternoon internet h slide breakdown premium p...   \n",
       "3447  thank writing term life life mortality protect...   \n",
       "2091  afternoon lady gentleman year result presentat...   \n",
       "...                                                 ...   \n",
       "5209  morning quer presentation name highlight quer ...   \n",
       "3810  morning proﬁt tax quer year ium growth frequen...   \n",
       "2886  morning world invasion uncertainty level decad...   \n",
       "2887  result iver target year conﬁt growth eﬃcient o...   \n",
       "6723                     day conference time conference   \n",
       "\n",
       "                                                  token  word_count  \\\n",
       "5624  [capital, restructuring, program, today, instr...           5   \n",
       "1090  [difficulty, force, term, reinsurer, fbarc, fu...         147   \n",
       "4434  [afternoon, internet, slide, breakdown, premiu...         334   \n",
       "3447  [write, term, life, life, mortality, protectio...          80   \n",
       "2091  [afternoon, lady, gentleman, year, result, pre...         222   \n",
       "...                                                 ...         ...   \n",
       "5209  [morning, quer, presentation, highlight, quer,...           8   \n",
       "3810  [morning, proﬁt, tax, quer, year, ium, growth,...         396   \n",
       "2886  [morning, invasion, uncertainty, level, decade...         323   \n",
       "2887  [result, iver, target, year, conﬁt, growth, eﬃ...          27   \n",
       "6723                [day, conference, time, conference]           4   \n",
       "\n",
       "      char_count  sentence_count  avg_word_length  avg_sentence_length  \n",
       "5624          43               7         8.600000             0.714286  \n",
       "1090         977              46         6.646259             3.195652  \n",
       "4434        2283             106         6.835329             3.150943  \n",
       "3447         572              32         7.150000             2.500000  \n",
       "2091        1468              81         6.612613             2.740741  \n",
       "...          ...             ...              ...                  ...  \n",
       "5209          49               8         6.125000             1.000000  \n",
       "3810        2545             119         6.426768             3.327731  \n",
       "2886        2159              99         6.684211             3.262626  \n",
       "2887         176               9         6.518519             3.000000  \n",
       "6723          27               6         6.750000             0.666667  \n",
       "\n",
       "[8527 rows x 16 columns]"
      ]
     },
     "execution_count": 71,
     "metadata": {},
     "output_type": "execute_result"
    }
   ],
   "source": [
    "# remove the numeric values from the 'paraghrph_clean' column by str.replace('\\d+', '')\n",
    "model_df['paraghrph_noun'] = model_df['paraghrph_noun'].str.replace('\\d+', '')\n",
    "model_df['paraghrph_noun']= model_df['paraghrph_noun'].astype(str)\n",
    "# use apply to get the token of the paraghrph\n",
    "model_df['token'] = clean_tokens_nuon(model_df['paraghrph_noun']) # or paraghrph_clean\n",
    "model_df"
   ]
  },
  {
   "cell_type": "code",
   "execution_count": 74,
   "metadata": {},
   "outputs": [
    {
     "data": {
      "text/html": [
       "<div>\n",
       "<style scoped>\n",
       "    .dataframe tbody tr th:only-of-type {\n",
       "        vertical-align: middle;\n",
       "    }\n",
       "\n",
       "    .dataframe tbody tr th {\n",
       "        vertical-align: top;\n",
       "    }\n",
       "\n",
       "    .dataframe thead th {\n",
       "        text-align: right;\n",
       "    }\n",
       "</style>\n",
       "<table border=\"1\" class=\"dataframe\">\n",
       "  <thead>\n",
       "    <tr style=\"text-align: right;\">\n",
       "      <th></th>\n",
       "      <th>participants</th>\n",
       "      <th>file_name</th>\n",
       "      <th>date</th>\n",
       "      <th>idx</th>\n",
       "      <th>company_paticipants_yes</th>\n",
       "      <th>other_paticipants_yes</th>\n",
       "      <th>company_name</th>\n",
       "      <th>paraghrph</th>\n",
       "      <th>paraghrph_clean</th>\n",
       "      <th>paraghrph_noun</th>\n",
       "      <th>token</th>\n",
       "      <th>word_count</th>\n",
       "      <th>char_count</th>\n",
       "      <th>sentence_count</th>\n",
       "      <th>avg_word_length</th>\n",
       "      <th>avg_sentence_length</th>\n",
       "      <th>year</th>\n",
       "      <th>month</th>\n",
       "      <th>quater</th>\n",
       "      <th>year_quater</th>\n",
       "    </tr>\n",
       "  </thead>\n",
       "  <tbody>\n",
       "    <tr>\n",
       "      <th>5624</th>\n",
       "      <td>Operator</td>\n",
       "      <td>20110202_LEGAL_-_GEN_GRP-_Guidance_Call_2011-2...</td>\n",
       "      <td>2011-02-02</td>\n",
       "      <td>1.0</td>\n",
       "      <td>1</td>\n",
       "      <td>1</td>\n",
       "      <td>LEGAL -</td>\n",
       "      <td>Hello. Welcome to the U.S. capital restructuri...</td>\n",
       "      <td>Hello Welcome to the US capital restructuring ...</td>\n",
       "      <td>capital restructuring program call today instr...</td>\n",
       "      <td>[capital, restructuring, program, today, instr...</td>\n",
       "      <td>5</td>\n",
       "      <td>43</td>\n",
       "      <td>7</td>\n",
       "      <td>8.600000</td>\n",
       "      <td>0.714286</td>\n",
       "      <td>2011</td>\n",
       "      <td>2</td>\n",
       "      <td>1</td>\n",
       "      <td>2011-1</td>\n",
       "    </tr>\n",
       "    <tr>\n",
       "      <th>1090</th>\n",
       "      <td>Chris Knight</td>\n",
       "      <td>20110202_LEGAL_-_GEN_GRP-_Guidance_Call_2011-2...</td>\n",
       "      <td>2011-02-02</td>\n",
       "      <td>70.0</td>\n",
       "      <td>1</td>\n",
       "      <td>0</td>\n",
       "      <td>LEGAL -</td>\n",
       "      <td>18966542  (Technical difficulty) in-force ter...</td>\n",
       "      <td>Technical difficulty in-force term   was re...</td>\n",
       "      <td>difficulty force term reinsurer FBARC x fundin...</td>\n",
       "      <td>[difficulty, force, term, reinsurer, fbarc, fu...</td>\n",
       "      <td>147</td>\n",
       "      <td>977</td>\n",
       "      <td>46</td>\n",
       "      <td>6.646259</td>\n",
       "      <td>3.195652</td>\n",
       "      <td>2011</td>\n",
       "      <td>2</td>\n",
       "      <td>1</td>\n",
       "      <td>2011-1</td>\n",
       "    </tr>\n",
       "    <tr>\n",
       "      <th>4434</th>\n",
       "      <td>Luigi Lubelli</td>\n",
       "      <td>20110202 _Mapfre_SA_Earnings_Call_SD0000000027...</td>\n",
       "      <td>2011-02-02</td>\n",
       "      <td>89.0</td>\n",
       "      <td>1</td>\n",
       "      <td>0</td>\n",
       "      <td>Mapfre SA</td>\n",
       "      <td>4108780  Thank you, Esteban. Good afternoon t...</td>\n",
       "      <td>Thank you  Good afternoon to everybody on t...</td>\n",
       "      <td>afternoon internet h slide breakdown premium p...</td>\n",
       "      <td>[afternoon, internet, slide, breakdown, premiu...</td>\n",
       "      <td>334</td>\n",
       "      <td>2283</td>\n",
       "      <td>106</td>\n",
       "      <td>6.835329</td>\n",
       "      <td>3.150943</td>\n",
       "      <td>2011</td>\n",
       "      <td>2</td>\n",
       "      <td>1</td>\n",
       "      <td>2011-1</td>\n",
       "    </tr>\n",
       "    <tr>\n",
       "      <th>3447</th>\n",
       "      <td>Jimmy Atkins</td>\n",
       "      <td>20110202_LEGAL_-_GEN_GRP-_Guidance_Call_2011-2...</td>\n",
       "      <td>2011-02-02</td>\n",
       "      <td>38.0</td>\n",
       "      <td>1</td>\n",
       "      <td>0</td>\n",
       "      <td>LEGAL -</td>\n",
       "      <td>20917374  Thanks, Nigel. Since 1999, Legal &amp; ...</td>\n",
       "      <td>Thanks  Since  Legal &amp;   LGA has focused ex...</td>\n",
       "      <td>thank writing term life life mortality protect...</td>\n",
       "      <td>[write, term, life, life, mortality, protectio...</td>\n",
       "      <td>80</td>\n",
       "      <td>572</td>\n",
       "      <td>32</td>\n",
       "      <td>7.150000</td>\n",
       "      <td>2.500000</td>\n",
       "      <td>2011</td>\n",
       "      <td>2</td>\n",
       "      <td>1</td>\n",
       "      <td>2011-1</td>\n",
       "    </tr>\n",
       "    <tr>\n",
       "      <th>2091</th>\n",
       "      <td>Esteban Tejera</td>\n",
       "      <td>20110202 _Mapfre_SA_Earnings_Call_SD0000000027...</td>\n",
       "      <td>2011-02-02</td>\n",
       "      <td>0.0</td>\n",
       "      <td>1</td>\n",
       "      <td>0</td>\n",
       "      <td>Mapfre SA</td>\n",
       "      <td>3910673  Good afternoon, ladies and gentlemen...</td>\n",
       "      <td>Good afternoon ladies and gentlemen Welcome...</td>\n",
       "      <td>afternoon lady gentleman year result presentat...</td>\n",
       "      <td>[afternoon, lady, gentleman, year, result, pre...</td>\n",
       "      <td>222</td>\n",
       "      <td>1468</td>\n",
       "      <td>81</td>\n",
       "      <td>6.612613</td>\n",
       "      <td>2.740741</td>\n",
       "      <td>2011</td>\n",
       "      <td>2</td>\n",
       "      <td>1</td>\n",
       "      <td>2011-1</td>\n",
       "    </tr>\n",
       "    <tr>\n",
       "      <th>...</th>\n",
       "      <td>...</td>\n",
       "      <td>...</td>\n",
       "      <td>...</td>\n",
       "      <td>...</td>\n",
       "      <td>...</td>\n",
       "      <td>...</td>\n",
       "      <td>...</td>\n",
       "      <td>...</td>\n",
       "      <td>...</td>\n",
       "      <td>...</td>\n",
       "      <td>...</td>\n",
       "      <td>...</td>\n",
       "      <td>...</td>\n",
       "      <td>...</td>\n",
       "      <td>...</td>\n",
       "      <td>...</td>\n",
       "      <td>...</td>\n",
       "      <td>...</td>\n",
       "      <td>...</td>\n",
       "      <td>...</td>\n",
       "    </tr>\n",
       "    <tr>\n",
       "      <th>5209</th>\n",
       "      <td>Mitra Hagen Negard</td>\n",
       "      <td>20220427_GJENSIDIGE_FORSI-_Earnings_Call_2022-...</td>\n",
       "      <td>2022-04-27</td>\n",
       "      <td>6.0</td>\n",
       "      <td>1</td>\n",
       "      <td>0</td>\n",
       "      <td>GJENSIDIGE FORSI-</td>\n",
       "      <td>3974076  Thank you. Good morning, everyone. A...</td>\n",
       "      <td>Thank you Good morning everyone And welcome...</td>\n",
       "      <td>morning quer presentation name highlight quer ...</td>\n",
       "      <td>[morning, quer, presentation, highlight, quer,...</td>\n",
       "      <td>8</td>\n",
       "      <td>49</td>\n",
       "      <td>8</td>\n",
       "      <td>6.125000</td>\n",
       "      <td>1.000000</td>\n",
       "      <td>2022</td>\n",
       "      <td>4</td>\n",
       "      <td>2</td>\n",
       "      <td>2022-2</td>\n",
       "    </tr>\n",
       "    <tr>\n",
       "      <th>3810</th>\n",
       "      <td>Jostein Amdal</td>\n",
       "      <td>20220427_GJENSIDIGE_FORSI-_Earnings_Call_2022-...</td>\n",
       "      <td>2022-04-27</td>\n",
       "      <td>130.0</td>\n",
       "      <td>1</td>\n",
       "      <td>0</td>\n",
       "      <td>GJENSIDIGE FORSI-</td>\n",
       "      <td>19939645  Thank you, Helge, and good morning,...</td>\n",
       "      <td>Thank you  and good morning everybody I'll ...</td>\n",
       "      <td>morning proﬁt tax quer year ium growth frequen...</td>\n",
       "      <td>[morning, proﬁt, tax, quer, year, ium, growth,...</td>\n",
       "      <td>396</td>\n",
       "      <td>2545</td>\n",
       "      <td>119</td>\n",
       "      <td>6.426768</td>\n",
       "      <td>3.327731</td>\n",
       "      <td>2022</td>\n",
       "      <td>4</td>\n",
       "      <td>2</td>\n",
       "      <td>2022-2</td>\n",
       "    </tr>\n",
       "    <tr>\n",
       "      <th>2886</th>\n",
       "      <td>Helge Leiro Baastad</td>\n",
       "      <td>20220427_GJENSIDIGE_FORSI-_Earnings_Call_2022-...</td>\n",
       "      <td>2022-04-27</td>\n",
       "      <td>13.0</td>\n",
       "      <td>1</td>\n",
       "      <td>0</td>\n",
       "      <td>GJENSIDIGE FORSI-</td>\n",
       "      <td>5865247  Thank you, Mitra. Good morning and w...</td>\n",
       "      <td>Thank you  Good morning and welcome everyon...</td>\n",
       "      <td>morning world invasion uncertainty level decad...</td>\n",
       "      <td>[morning, invasion, uncertainty, level, decade...</td>\n",
       "      <td>323</td>\n",
       "      <td>2159</td>\n",
       "      <td>99</td>\n",
       "      <td>6.684211</td>\n",
       "      <td>3.262626</td>\n",
       "      <td>2022</td>\n",
       "      <td>4</td>\n",
       "      <td>2</td>\n",
       "      <td>2022-2</td>\n",
       "    </tr>\n",
       "    <tr>\n",
       "      <th>2887</th>\n",
       "      <td>Helge Leiro Baastad</td>\n",
       "      <td>20220427_GJENSIDIGE_FORSI-_Earnings_Call_2022-...</td>\n",
       "      <td>2022-04-27</td>\n",
       "      <td>255.0</td>\n",
       "      <td>1</td>\n",
       "      <td>0</td>\n",
       "      <td>GJENSIDIGE FORSI-</td>\n",
       "      <td>5865247  Thank you, Jostein. To sum up on Pag...</td>\n",
       "      <td>Thank you tein To sum up on Page  we are ve...</td>\n",
       "      <td>result iver target year conﬁt growth eﬃcient o...</td>\n",
       "      <td>[result, iver, target, year, conﬁt, growth, eﬃ...</td>\n",
       "      <td>27</td>\n",
       "      <td>176</td>\n",
       "      <td>9</td>\n",
       "      <td>6.518519</td>\n",
       "      <td>3.000000</td>\n",
       "      <td>2022</td>\n",
       "      <td>4</td>\n",
       "      <td>2</td>\n",
       "      <td>2022-2</td>\n",
       "    </tr>\n",
       "    <tr>\n",
       "      <th>6723</th>\n",
       "      <td>Operator</td>\n",
       "      <td>20220427_GJENSIDIGE_FORSI-_Earnings_Call_2022-...</td>\n",
       "      <td>2022-04-27</td>\n",
       "      <td>1.0</td>\n",
       "      <td>1</td>\n",
       "      <td>1</td>\n",
       "      <td>GJENSIDIGE FORSI-</td>\n",
       "      <td>Good day, and welcome to the Gjensidige Q1 202...</td>\n",
       "      <td>Good day and welcome to the Gjensidige Q  Resu...</td>\n",
       "      <td>day conference time conference</td>\n",
       "      <td>[day, conference, time, conference]</td>\n",
       "      <td>4</td>\n",
       "      <td>27</td>\n",
       "      <td>6</td>\n",
       "      <td>6.750000</td>\n",
       "      <td>0.666667</td>\n",
       "      <td>2022</td>\n",
       "      <td>4</td>\n",
       "      <td>2</td>\n",
       "      <td>2022-2</td>\n",
       "    </tr>\n",
       "  </tbody>\n",
       "</table>\n",
       "<p>8527 rows × 20 columns</p>\n",
       "</div>"
      ],
      "text/plain": [
       "             participants                                          file_name  \\\n",
       "5624             Operator  20110202_LEGAL_-_GEN_GRP-_Guidance_Call_2011-2...   \n",
       "1090         Chris Knight  20110202_LEGAL_-_GEN_GRP-_Guidance_Call_2011-2...   \n",
       "4434        Luigi Lubelli  20110202 _Mapfre_SA_Earnings_Call_SD0000000027...   \n",
       "3447         Jimmy Atkins  20110202_LEGAL_-_GEN_GRP-_Guidance_Call_2011-2...   \n",
       "2091       Esteban Tejera  20110202 _Mapfre_SA_Earnings_Call_SD0000000027...   \n",
       "...                   ...                                                ...   \n",
       "5209   Mitra Hagen Negard  20220427_GJENSIDIGE_FORSI-_Earnings_Call_2022-...   \n",
       "3810        Jostein Amdal  20220427_GJENSIDIGE_FORSI-_Earnings_Call_2022-...   \n",
       "2886  Helge Leiro Baastad  20220427_GJENSIDIGE_FORSI-_Earnings_Call_2022-...   \n",
       "2887  Helge Leiro Baastad  20220427_GJENSIDIGE_FORSI-_Earnings_Call_2022-...   \n",
       "6723             Operator  20220427_GJENSIDIGE_FORSI-_Earnings_Call_2022-...   \n",
       "\n",
       "            date    idx  company_paticipants_yes  other_paticipants_yes  \\\n",
       "5624  2011-02-02    1.0                        1                      1   \n",
       "1090  2011-02-02   70.0                        1                      0   \n",
       "4434  2011-02-02   89.0                        1                      0   \n",
       "3447  2011-02-02   38.0                        1                      0   \n",
       "2091  2011-02-02    0.0                        1                      0   \n",
       "...          ...    ...                      ...                    ...   \n",
       "5209  2022-04-27    6.0                        1                      0   \n",
       "3810  2022-04-27  130.0                        1                      0   \n",
       "2886  2022-04-27   13.0                        1                      0   \n",
       "2887  2022-04-27  255.0                        1                      0   \n",
       "6723  2022-04-27    1.0                        1                      1   \n",
       "\n",
       "           company_name                                          paraghrph  \\\n",
       "5624            LEGAL -  Hello. Welcome to the U.S. capital restructuri...   \n",
       "1090            LEGAL -   18966542  (Technical difficulty) in-force ter...   \n",
       "4434          Mapfre SA   4108780  Thank you, Esteban. Good afternoon t...   \n",
       "3447            LEGAL -   20917374  Thanks, Nigel. Since 1999, Legal & ...   \n",
       "2091          Mapfre SA   3910673  Good afternoon, ladies and gentlemen...   \n",
       "...                 ...                                                ...   \n",
       "5209  GJENSIDIGE FORSI-   3974076  Thank you. Good morning, everyone. A...   \n",
       "3810  GJENSIDIGE FORSI-   19939645  Thank you, Helge, and good morning,...   \n",
       "2886  GJENSIDIGE FORSI-   5865247  Thank you, Mitra. Good morning and w...   \n",
       "2887  GJENSIDIGE FORSI-   5865247  Thank you, Jostein. To sum up on Pag...   \n",
       "6723  GJENSIDIGE FORSI-  Good day, and welcome to the Gjensidige Q1 202...   \n",
       "\n",
       "                                        paraghrph_clean  \\\n",
       "5624  Hello Welcome to the US capital restructuring ...   \n",
       "1090     Technical difficulty in-force term   was re...   \n",
       "4434     Thank you  Good afternoon to everybody on t...   \n",
       "3447     Thanks  Since  Legal &   LGA has focused ex...   \n",
       "2091     Good afternoon ladies and gentlemen Welcome...   \n",
       "...                                                 ...   \n",
       "5209     Thank you Good morning everyone And welcome...   \n",
       "3810     Thank you  and good morning everybody I'll ...   \n",
       "2886     Thank you  Good morning and welcome everyon...   \n",
       "2887     Thank you tein To sum up on Page  we are ve...   \n",
       "6723  Good day and welcome to the Gjensidige Q  Resu...   \n",
       "\n",
       "                                         paraghrph_noun  \\\n",
       "5624  capital restructuring program call today instr...   \n",
       "1090  difficulty force term reinsurer FBARC x fundin...   \n",
       "4434  afternoon internet h slide breakdown premium p...   \n",
       "3447  thank writing term life life mortality protect...   \n",
       "2091  afternoon lady gentleman year result presentat...   \n",
       "...                                                 ...   \n",
       "5209  morning quer presentation name highlight quer ...   \n",
       "3810  morning proﬁt tax quer year ium growth frequen...   \n",
       "2886  morning world invasion uncertainty level decad...   \n",
       "2887  result iver target year conﬁt growth eﬃcient o...   \n",
       "6723                     day conference time conference   \n",
       "\n",
       "                                                  token  word_count  \\\n",
       "5624  [capital, restructuring, program, today, instr...           5   \n",
       "1090  [difficulty, force, term, reinsurer, fbarc, fu...         147   \n",
       "4434  [afternoon, internet, slide, breakdown, premiu...         334   \n",
       "3447  [write, term, life, life, mortality, protectio...          80   \n",
       "2091  [afternoon, lady, gentleman, year, result, pre...         222   \n",
       "...                                                 ...         ...   \n",
       "5209  [morning, quer, presentation, highlight, quer,...           8   \n",
       "3810  [morning, proﬁt, tax, quer, year, ium, growth,...         396   \n",
       "2886  [morning, invasion, uncertainty, level, decade...         323   \n",
       "2887  [result, iver, target, year, conﬁt, growth, eﬃ...          27   \n",
       "6723                [day, conference, time, conference]           4   \n",
       "\n",
       "      char_count  sentence_count  avg_word_length  avg_sentence_length  year  \\\n",
       "5624          43               7         8.600000             0.714286  2011   \n",
       "1090         977              46         6.646259             3.195652  2011   \n",
       "4434        2283             106         6.835329             3.150943  2011   \n",
       "3447         572              32         7.150000             2.500000  2011   \n",
       "2091        1468              81         6.612613             2.740741  2011   \n",
       "...          ...             ...              ...                  ...   ...   \n",
       "5209          49               8         6.125000             1.000000  2022   \n",
       "3810        2545             119         6.426768             3.327731  2022   \n",
       "2886        2159              99         6.684211             3.262626  2022   \n",
       "2887         176               9         6.518519             3.000000  2022   \n",
       "6723          27               6         6.750000             0.666667  2022   \n",
       "\n",
       "      month  quater year_quater  \n",
       "5624      2       1      2011-1  \n",
       "1090      2       1      2011-1  \n",
       "4434      2       1      2011-1  \n",
       "3447      2       1      2011-1  \n",
       "2091      2       1      2011-1  \n",
       "...     ...     ...         ...  \n",
       "5209      4       2      2022-2  \n",
       "3810      4       2      2022-2  \n",
       "2886      4       2      2022-2  \n",
       "2887      4       2      2022-2  \n",
       "6723      4       2      2022-2  \n",
       "\n",
       "[8527 rows x 20 columns]"
      ]
     },
     "execution_count": 74,
     "metadata": {},
     "output_type": "execute_result"
    }
   ],
   "source": [
    "# DTM模型（Dynamic Topic Models: 加入时间因素，不同主题随着时间变动) 时间-主题词条矩阵、主题-时间词条矩阵、文档主题偏好、新文档预测、跨时间+主题属性的文档相似性\n",
    "# https://cloud.tencent.com/developer/article/1435976\n",
    "\n",
    "model_df['date'] = pd.to_datetime(model_df['date'])\n",
    "model_df['year'] = model_df['date'].apply(lambda x: x.year)\n",
    "model_df['month'] = model_df['date'].apply(lambda x: x.month)\n",
    "model_df['quater'] = model_df['date'].apply(lambda x: x.quarter)\n",
    "model_df['year_quater'] = model_df['year'].astype(str) + '-' + model_df['quater'].astype(str)\n",
    "# model_df['date'] to str\n",
    "model_df['date'] = model_df['date'].astype(str)\n",
    "model_df"
   ]
  },
  {
   "cell_type": "code",
   "execution_count": 211,
   "metadata": {},
   "outputs": [
    {
     "data": {
      "text/html": [
       "<div>\n",
       "<style scoped>\n",
       "    .dataframe tbody tr th:only-of-type {\n",
       "        vertical-align: middle;\n",
       "    }\n",
       "\n",
       "    .dataframe tbody tr th {\n",
       "        vertical-align: top;\n",
       "    }\n",
       "\n",
       "    .dataframe thead th {\n",
       "        text-align: right;\n",
       "    }\n",
       "</style>\n",
       "<table border=\"1\" class=\"dataframe\">\n",
       "  <thead>\n",
       "    <tr style=\"text-align: right;\">\n",
       "      <th></th>\n",
       "      <th>participants</th>\n",
       "      <th>file_name</th>\n",
       "      <th>date</th>\n",
       "      <th>idx</th>\n",
       "      <th>company_paticipants_yes</th>\n",
       "      <th>other_paticipants_yes</th>\n",
       "      <th>company_name</th>\n",
       "      <th>paraghrph</th>\n",
       "      <th>paraghrph_clean</th>\n",
       "      <th>paraghrph_noun</th>\n",
       "      <th>token</th>\n",
       "      <th>word_count</th>\n",
       "      <th>char_count</th>\n",
       "      <th>sentence_count</th>\n",
       "      <th>avg_word_length</th>\n",
       "      <th>avg_sentence_length</th>\n",
       "      <th>year</th>\n",
       "      <th>month</th>\n",
       "      <th>quater</th>\n",
       "      <th>year_quater</th>\n",
       "    </tr>\n",
       "  </thead>\n",
       "  <tbody>\n",
       "    <tr>\n",
       "      <th>0</th>\n",
       "      <td>Operator</td>\n",
       "      <td>20110202_LEGAL_-_GEN_GRP-_Guidance_Call_2011-2...</td>\n",
       "      <td>2011-02-02</td>\n",
       "      <td>1.0</td>\n",
       "      <td>1</td>\n",
       "      <td>1</td>\n",
       "      <td>LEGAL -</td>\n",
       "      <td>Hello. Welcome to the U.S. capital restructuri...</td>\n",
       "      <td>Hello Welcome to the US capital restructuring ...</td>\n",
       "      <td>capital restructuring program call today instr...</td>\n",
       "      <td>[capital, restructuring, program, instruction]</td>\n",
       "      <td>5</td>\n",
       "      <td>43</td>\n",
       "      <td>7</td>\n",
       "      <td>8.600000</td>\n",
       "      <td>0.714286</td>\n",
       "      <td>2011</td>\n",
       "      <td>2</td>\n",
       "      <td>1</td>\n",
       "      <td>2011-1</td>\n",
       "    </tr>\n",
       "    <tr>\n",
       "      <th>1</th>\n",
       "      <td>Chris Knight</td>\n",
       "      <td>20110202_LEGAL_-_GEN_GRP-_Guidance_Call_2011-2...</td>\n",
       "      <td>2011-02-02</td>\n",
       "      <td>70.0</td>\n",
       "      <td>1</td>\n",
       "      <td>0</td>\n",
       "      <td>LEGAL -</td>\n",
       "      <td>18966542  (Technical difficulty) in-force ter...</td>\n",
       "      <td>Technical difficulty in-force term   was re...</td>\n",
       "      <td>difficulty force term reinsurer FBARC x fundin...</td>\n",
       "      <td>[difficulty, force, reinsurer, fbarc, funding,...</td>\n",
       "      <td>147</td>\n",
       "      <td>977</td>\n",
       "      <td>46</td>\n",
       "      <td>6.646259</td>\n",
       "      <td>3.195652</td>\n",
       "      <td>2011</td>\n",
       "      <td>2</td>\n",
       "      <td>1</td>\n",
       "      <td>2011-1</td>\n",
       "    </tr>\n",
       "    <tr>\n",
       "      <th>2</th>\n",
       "      <td>Luigi Lubelli</td>\n",
       "      <td>20110202 _Mapfre_SA_Earnings_Call_SD0000000027...</td>\n",
       "      <td>2011-02-02</td>\n",
       "      <td>89.0</td>\n",
       "      <td>1</td>\n",
       "      <td>0</td>\n",
       "      <td>Mapfre SA</td>\n",
       "      <td>4108780  Thank you, Esteban. Good afternoon t...</td>\n",
       "      <td>Thank you  Good afternoon to everybody on t...</td>\n",
       "      <td>afternoon internet h slide breakdown premium p...</td>\n",
       "      <td>[internet, breakdown, premium, profit, activit...</td>\n",
       "      <td>334</td>\n",
       "      <td>2283</td>\n",
       "      <td>106</td>\n",
       "      <td>6.835329</td>\n",
       "      <td>3.150943</td>\n",
       "      <td>2011</td>\n",
       "      <td>2</td>\n",
       "      <td>1</td>\n",
       "      <td>2011-1</td>\n",
       "    </tr>\n",
       "    <tr>\n",
       "      <th>3</th>\n",
       "      <td>Jimmy Atkins</td>\n",
       "      <td>20110202_LEGAL_-_GEN_GRP-_Guidance_Call_2011-2...</td>\n",
       "      <td>2011-02-02</td>\n",
       "      <td>38.0</td>\n",
       "      <td>1</td>\n",
       "      <td>0</td>\n",
       "      <td>LEGAL -</td>\n",
       "      <td>20917374  Thanks, Nigel. Since 1999, Legal &amp; ...</td>\n",
       "      <td>Thanks  Since  Legal &amp;   LGA has focused ex...</td>\n",
       "      <td>thank writing term life life mortality protect...</td>\n",
       "      <td>[write, life, life, mortality, protection, pro...</td>\n",
       "      <td>80</td>\n",
       "      <td>572</td>\n",
       "      <td>32</td>\n",
       "      <td>7.150000</td>\n",
       "      <td>2.500000</td>\n",
       "      <td>2011</td>\n",
       "      <td>2</td>\n",
       "      <td>1</td>\n",
       "      <td>2011-1</td>\n",
       "    </tr>\n",
       "    <tr>\n",
       "      <th>4</th>\n",
       "      <td>Esteban Tejera</td>\n",
       "      <td>20110202 _Mapfre_SA_Earnings_Call_SD0000000027...</td>\n",
       "      <td>2011-02-02</td>\n",
       "      <td>0.0</td>\n",
       "      <td>1</td>\n",
       "      <td>0</td>\n",
       "      <td>Mapfre SA</td>\n",
       "      <td>3910673  Good afternoon, ladies and gentlemen...</td>\n",
       "      <td>Good afternoon ladies and gentlemen Welcome...</td>\n",
       "      <td>afternoon lady gentleman year result presentat...</td>\n",
       "      <td>[overview, development, financial, standpoint,...</td>\n",
       "      <td>222</td>\n",
       "      <td>1468</td>\n",
       "      <td>81</td>\n",
       "      <td>6.612613</td>\n",
       "      <td>2.740741</td>\n",
       "      <td>2011</td>\n",
       "      <td>2</td>\n",
       "      <td>1</td>\n",
       "      <td>2011-1</td>\n",
       "    </tr>\n",
       "    <tr>\n",
       "      <th>...</th>\n",
       "      <td>...</td>\n",
       "      <td>...</td>\n",
       "      <td>...</td>\n",
       "      <td>...</td>\n",
       "      <td>...</td>\n",
       "      <td>...</td>\n",
       "      <td>...</td>\n",
       "      <td>...</td>\n",
       "      <td>...</td>\n",
       "      <td>...</td>\n",
       "      <td>...</td>\n",
       "      <td>...</td>\n",
       "      <td>...</td>\n",
       "      <td>...</td>\n",
       "      <td>...</td>\n",
       "      <td>...</td>\n",
       "      <td>...</td>\n",
       "      <td>...</td>\n",
       "      <td>...</td>\n",
       "      <td>...</td>\n",
       "    </tr>\n",
       "    <tr>\n",
       "      <th>8522</th>\n",
       "      <td>Mitra Hagen Negard</td>\n",
       "      <td>20220427_GJENSIDIGE_FORSI-_Earnings_Call_2022-...</td>\n",
       "      <td>2022-04-27</td>\n",
       "      <td>6.0</td>\n",
       "      <td>1</td>\n",
       "      <td>0</td>\n",
       "      <td>GJENSIDIGE FORSI-</td>\n",
       "      <td>3974076  Thank you. Good morning, everyone. A...</td>\n",
       "      <td>Thank you Good morning everyone And welcome...</td>\n",
       "      <td>morning quer presentation name highlight quer ...</td>\n",
       "      <td>[highlight]</td>\n",
       "      <td>8</td>\n",
       "      <td>49</td>\n",
       "      <td>8</td>\n",
       "      <td>6.125000</td>\n",
       "      <td>1.000000</td>\n",
       "      <td>2022</td>\n",
       "      <td>4</td>\n",
       "      <td>2</td>\n",
       "      <td>2022-2</td>\n",
       "    </tr>\n",
       "    <tr>\n",
       "      <th>8523</th>\n",
       "      <td>Jostein Amdal</td>\n",
       "      <td>20220427_GJENSIDIGE_FORSI-_Earnings_Call_2022-...</td>\n",
       "      <td>2022-04-27</td>\n",
       "      <td>130.0</td>\n",
       "      <td>1</td>\n",
       "      <td>0</td>\n",
       "      <td>GJENSIDIGE FORSI-</td>\n",
       "      <td>19939645  Thank you, Helge, and good morning,...</td>\n",
       "      <td>Thank you  and good morning everybody I'll ...</td>\n",
       "      <td>morning proﬁt tax quer year ium growth frequen...</td>\n",
       "      <td>[proﬁt, tax, ium, growth, frequency, loss, cos...</td>\n",
       "      <td>396</td>\n",
       "      <td>2545</td>\n",
       "      <td>119</td>\n",
       "      <td>6.426768</td>\n",
       "      <td>3.327731</td>\n",
       "      <td>2022</td>\n",
       "      <td>4</td>\n",
       "      <td>2</td>\n",
       "      <td>2022-2</td>\n",
       "    </tr>\n",
       "    <tr>\n",
       "      <th>8524</th>\n",
       "      <td>Helge Leiro Baastad</td>\n",
       "      <td>20220427_GJENSIDIGE_FORSI-_Earnings_Call_2022-...</td>\n",
       "      <td>2022-04-27</td>\n",
       "      <td>13.0</td>\n",
       "      <td>1</td>\n",
       "      <td>0</td>\n",
       "      <td>GJENSIDIGE FORSI-</td>\n",
       "      <td>5865247  Thank you, Mitra. Good morning and w...</td>\n",
       "      <td>Thank you  Good morning and welcome everyon...</td>\n",
       "      <td>morning world invasion uncertainty level decad...</td>\n",
       "      <td>[invasion, uncertainty, decade, attack, democr...</td>\n",
       "      <td>323</td>\n",
       "      <td>2159</td>\n",
       "      <td>99</td>\n",
       "      <td>6.684211</td>\n",
       "      <td>3.262626</td>\n",
       "      <td>2022</td>\n",
       "      <td>4</td>\n",
       "      <td>2</td>\n",
       "      <td>2022-2</td>\n",
       "    </tr>\n",
       "    <tr>\n",
       "      <th>8525</th>\n",
       "      <td>Helge Leiro Baastad</td>\n",
       "      <td>20220427_GJENSIDIGE_FORSI-_Earnings_Call_2022-...</td>\n",
       "      <td>2022-04-27</td>\n",
       "      <td>255.0</td>\n",
       "      <td>1</td>\n",
       "      <td>0</td>\n",
       "      <td>GJENSIDIGE FORSI-</td>\n",
       "      <td>5865247  Thank you, Jostein. To sum up on Pag...</td>\n",
       "      <td>Thank you tein To sum up on Page  we are ve...</td>\n",
       "      <td>result iver target year conﬁt growth eﬃcient o...</td>\n",
       "      <td>[iver, target, conﬁt, growth, eﬃcient, operati...</td>\n",
       "      <td>27</td>\n",
       "      <td>176</td>\n",
       "      <td>9</td>\n",
       "      <td>6.518519</td>\n",
       "      <td>3.000000</td>\n",
       "      <td>2022</td>\n",
       "      <td>4</td>\n",
       "      <td>2</td>\n",
       "      <td>2022-2</td>\n",
       "    </tr>\n",
       "    <tr>\n",
       "      <th>8526</th>\n",
       "      <td>Operator</td>\n",
       "      <td>20220427_GJENSIDIGE_FORSI-_Earnings_Call_2022-...</td>\n",
       "      <td>2022-04-27</td>\n",
       "      <td>1.0</td>\n",
       "      <td>1</td>\n",
       "      <td>1</td>\n",
       "      <td>GJENSIDIGE FORSI-</td>\n",
       "      <td>Good day, and welcome to the Gjensidige Q1 202...</td>\n",
       "      <td>Good day and welcome to the Gjensidige Q  Resu...</td>\n",
       "      <td>day conference time conference</td>\n",
       "      <td>[]</td>\n",
       "      <td>4</td>\n",
       "      <td>27</td>\n",
       "      <td>6</td>\n",
       "      <td>6.750000</td>\n",
       "      <td>0.666667</td>\n",
       "      <td>2022</td>\n",
       "      <td>4</td>\n",
       "      <td>2</td>\n",
       "      <td>2022-2</td>\n",
       "    </tr>\n",
       "  </tbody>\n",
       "</table>\n",
       "<p>8527 rows × 20 columns</p>\n",
       "</div>"
      ],
      "text/plain": [
       "             participants                                          file_name  \\\n",
       "0                Operator  20110202_LEGAL_-_GEN_GRP-_Guidance_Call_2011-2...   \n",
       "1            Chris Knight  20110202_LEGAL_-_GEN_GRP-_Guidance_Call_2011-2...   \n",
       "2           Luigi Lubelli  20110202 _Mapfre_SA_Earnings_Call_SD0000000027...   \n",
       "3            Jimmy Atkins  20110202_LEGAL_-_GEN_GRP-_Guidance_Call_2011-2...   \n",
       "4          Esteban Tejera  20110202 _Mapfre_SA_Earnings_Call_SD0000000027...   \n",
       "...                   ...                                                ...   \n",
       "8522   Mitra Hagen Negard  20220427_GJENSIDIGE_FORSI-_Earnings_Call_2022-...   \n",
       "8523        Jostein Amdal  20220427_GJENSIDIGE_FORSI-_Earnings_Call_2022-...   \n",
       "8524  Helge Leiro Baastad  20220427_GJENSIDIGE_FORSI-_Earnings_Call_2022-...   \n",
       "8525  Helge Leiro Baastad  20220427_GJENSIDIGE_FORSI-_Earnings_Call_2022-...   \n",
       "8526             Operator  20220427_GJENSIDIGE_FORSI-_Earnings_Call_2022-...   \n",
       "\n",
       "            date    idx  company_paticipants_yes  other_paticipants_yes  \\\n",
       "0     2011-02-02    1.0                        1                      1   \n",
       "1     2011-02-02   70.0                        1                      0   \n",
       "2     2011-02-02   89.0                        1                      0   \n",
       "3     2011-02-02   38.0                        1                      0   \n",
       "4     2011-02-02    0.0                        1                      0   \n",
       "...          ...    ...                      ...                    ...   \n",
       "8522  2022-04-27    6.0                        1                      0   \n",
       "8523  2022-04-27  130.0                        1                      0   \n",
       "8524  2022-04-27   13.0                        1                      0   \n",
       "8525  2022-04-27  255.0                        1                      0   \n",
       "8526  2022-04-27    1.0                        1                      1   \n",
       "\n",
       "           company_name                                          paraghrph  \\\n",
       "0               LEGAL -  Hello. Welcome to the U.S. capital restructuri...   \n",
       "1               LEGAL -   18966542  (Technical difficulty) in-force ter...   \n",
       "2             Mapfre SA   4108780  Thank you, Esteban. Good afternoon t...   \n",
       "3               LEGAL -   20917374  Thanks, Nigel. Since 1999, Legal & ...   \n",
       "4             Mapfre SA   3910673  Good afternoon, ladies and gentlemen...   \n",
       "...                 ...                                                ...   \n",
       "8522  GJENSIDIGE FORSI-   3974076  Thank you. Good morning, everyone. A...   \n",
       "8523  GJENSIDIGE FORSI-   19939645  Thank you, Helge, and good morning,...   \n",
       "8524  GJENSIDIGE FORSI-   5865247  Thank you, Mitra. Good morning and w...   \n",
       "8525  GJENSIDIGE FORSI-   5865247  Thank you, Jostein. To sum up on Pag...   \n",
       "8526  GJENSIDIGE FORSI-  Good day, and welcome to the Gjensidige Q1 202...   \n",
       "\n",
       "                                        paraghrph_clean  \\\n",
       "0     Hello Welcome to the US capital restructuring ...   \n",
       "1        Technical difficulty in-force term   was re...   \n",
       "2        Thank you  Good afternoon to everybody on t...   \n",
       "3        Thanks  Since  Legal &   LGA has focused ex...   \n",
       "4        Good afternoon ladies and gentlemen Welcome...   \n",
       "...                                                 ...   \n",
       "8522     Thank you Good morning everyone And welcome...   \n",
       "8523     Thank you  and good morning everybody I'll ...   \n",
       "8524     Thank you  Good morning and welcome everyon...   \n",
       "8525     Thank you tein To sum up on Page  we are ve...   \n",
       "8526  Good day and welcome to the Gjensidige Q  Resu...   \n",
       "\n",
       "                                         paraghrph_noun  \\\n",
       "0     capital restructuring program call today instr...   \n",
       "1     difficulty force term reinsurer FBARC x fundin...   \n",
       "2     afternoon internet h slide breakdown premium p...   \n",
       "3     thank writing term life life mortality protect...   \n",
       "4     afternoon lady gentleman year result presentat...   \n",
       "...                                                 ...   \n",
       "8522  morning quer presentation name highlight quer ...   \n",
       "8523  morning proﬁt tax quer year ium growth frequen...   \n",
       "8524  morning world invasion uncertainty level decad...   \n",
       "8525  result iver target year conﬁt growth eﬃcient o...   \n",
       "8526                     day conference time conference   \n",
       "\n",
       "                                                  token  word_count  \\\n",
       "0        [capital, restructuring, program, instruction]           5   \n",
       "1     [difficulty, force, reinsurer, fbarc, funding,...         147   \n",
       "2     [internet, breakdown, premium, profit, activit...         334   \n",
       "3     [write, life, life, mortality, protection, pro...          80   \n",
       "4     [overview, development, financial, standpoint,...         222   \n",
       "...                                                 ...         ...   \n",
       "8522                                        [highlight]           8   \n",
       "8523  [proﬁt, tax, ium, growth, frequency, loss, cos...         396   \n",
       "8524  [invasion, uncertainty, decade, attack, democr...         323   \n",
       "8525  [iver, target, conﬁt, growth, eﬃcient, operati...          27   \n",
       "8526                                                 []           4   \n",
       "\n",
       "      char_count  sentence_count  avg_word_length  avg_sentence_length  year  \\\n",
       "0             43               7         8.600000             0.714286  2011   \n",
       "1            977              46         6.646259             3.195652  2011   \n",
       "2           2283             106         6.835329             3.150943  2011   \n",
       "3            572              32         7.150000             2.500000  2011   \n",
       "4           1468              81         6.612613             2.740741  2011   \n",
       "...          ...             ...              ...                  ...   ...   \n",
       "8522          49               8         6.125000             1.000000  2022   \n",
       "8523        2545             119         6.426768             3.327731  2022   \n",
       "8524        2159              99         6.684211             3.262626  2022   \n",
       "8525         176               9         6.518519             3.000000  2022   \n",
       "8526          27               6         6.750000             0.666667  2022   \n",
       "\n",
       "      month  quater year_quater  \n",
       "0         2       1      2011-1  \n",
       "1         2       1      2011-1  \n",
       "2         2       1      2011-1  \n",
       "3         2       1      2011-1  \n",
       "4         2       1      2011-1  \n",
       "...     ...     ...         ...  \n",
       "8522      4       2      2022-2  \n",
       "8523      4       2      2022-2  \n",
       "8524      4       2      2022-2  \n",
       "8525      4       2      2022-2  \n",
       "8526      4       2      2022-2  \n",
       "\n",
       "[8527 rows x 20 columns]"
      ]
     },
     "execution_count": 211,
     "metadata": {},
     "output_type": "execute_result"
    }
   ],
   "source": [
    "# drop the afternoon, morning, conference, today,lady, gentleman\n",
    "model_df['token'] = model_df['token'].apply(lambda x: [i for i in x if i not in [\n",
    "    'afternoon', 'morning', 'conference','today','lady', 'gentleman', 'presentation',\n",
    "    'question','answer', 'slide',\n",
    "    'proÔ¨Åt', 'eÔ¨Äect','proÔ¨Åtability','oÔ¨Ä','diÔ¨Äerent','eÔ¨Éciency','Ô¨Ågure','inÔ¨Çation','Ô¨Çow','conÔ¨Åt',\n",
    "    'mm', 'mm_mm','guy','sir',' ','host_sir','bb','ty','word', 'year', 'quer','month','period', 'day', 'time','result', 'investor','week', 'update',\n",
    "    'Ô¨Åre','diÔ¨Äerence','diÔ¨Écult','beneÔ¨Åt', 'business','lot','ratio','rate','quarter', 'number', 'point', 'term', 'thing', 'level', \n",
    "    'bit', 'sort', 'reason', 'management', 'fact', 'case', 'area', 'people', 'sense', 'item', 'issue','market'\n",
    "     ]])\n",
    "model_df"
   ]
  },
  {
   "cell_type": "code",
   "execution_count": 214,
   "metadata": {},
   "outputs": [
    {
     "data": {
      "image/png": "[encoded data removed]",
      "text/plain": [
       "<Figure size 6480x1296 with 1 Axes>"
      ]
     },
     "metadata": {
      "needs_background": "light"
     },
     "output_type": "display_data"
    },
    {
     "data": {
      "text/html": [
       "<div>\n",
       "<style scoped>\n",
       "    .dataframe tbody tr th:only-of-type {\n",
       "        vertical-align: middle;\n",
       "    }\n",
       "\n",
       "    .dataframe tbody tr th {\n",
       "        vertical-align: top;\n",
       "    }\n",
       "\n",
       "    .dataframe thead th {\n",
       "        text-align: right;\n",
       "    }\n",
       "</style>\n",
       "<table border=\"1\" class=\"dataframe\">\n",
       "  <thead>\n",
       "    <tr style=\"text-align: right;\">\n",
       "      <th></th>\n",
       "      <th>word</th>\n",
       "      <th>freq</th>\n",
       "    </tr>\n",
       "  </thead>\n",
       "  <tbody>\n",
       "    <tr>\n",
       "      <th>0</th>\n",
       "      <td>growth</td>\n",
       "      <td>4052</td>\n",
       "    </tr>\n",
       "    <tr>\n",
       "      <th>1</th>\n",
       "      <td>capital</td>\n",
       "      <td>3694</td>\n",
       "    </tr>\n",
       "    <tr>\n",
       "      <th>2</th>\n",
       "      <td>increase</td>\n",
       "      <td>3172</td>\n",
       "    </tr>\n",
       "    <tr>\n",
       "      <th>3</th>\n",
       "      <td>portfolio</td>\n",
       "      <td>3138</td>\n",
       "    </tr>\n",
       "    <tr>\n",
       "      <th>4</th>\n",
       "      <td>loss</td>\n",
       "      <td>3072</td>\n",
       "    </tr>\n",
       "    <tr>\n",
       "      <th>...</th>\n",
       "      <td>...</td>\n",
       "      <td>...</td>\n",
       "    </tr>\n",
       "    <tr>\n",
       "      <th>7551</th>\n",
       "      <td>petitioner</td>\n",
       "      <td>1</td>\n",
       "    </tr>\n",
       "    <tr>\n",
       "      <th>7552</th>\n",
       "      <td>xure</td>\n",
       "      <td>1</td>\n",
       "    </tr>\n",
       "    <tr>\n",
       "      <th>7553</th>\n",
       "      <td>awakening</td>\n",
       "      <td>1</td>\n",
       "    </tr>\n",
       "    <tr>\n",
       "      <th>7554</th>\n",
       "      <td>gpw</td>\n",
       "      <td>1</td>\n",
       "    </tr>\n",
       "    <tr>\n",
       "      <th>9914</th>\n",
       "      <td>swipe</td>\n",
       "      <td>1</td>\n",
       "    </tr>\n",
       "  </tbody>\n",
       "</table>\n",
       "<p>9915 rows × 2 columns</p>\n",
       "</div>"
      ],
      "text/plain": [
       "            word  freq\n",
       "0         growth  4052\n",
       "1        capital  3694\n",
       "2       increase  3172\n",
       "3      portfolio  3138\n",
       "4           loss  3072\n",
       "...          ...   ...\n",
       "7551  petitioner     1\n",
       "7552        xure     1\n",
       "7553   awakening     1\n",
       "7554         gpw     1\n",
       "9914       swipe     1\n",
       "\n",
       "[9915 rows x 2 columns]"
      ]
     },
     "execution_count": 214,
     "metadata": {},
     "output_type": "execute_result"
    }
   ],
   "source": [
    "# exclude the rows that the sentence_count is less than 3\n",
    "model_df = model_df[model_df['sentence_count']>4]\n",
    "# reset the index\n",
    "model_df = model_df.reset_index(drop=True)\n",
    "\n",
    "# high frequency words excluding\n",
    "temp_token = model_df['token'] # .apply(remove_brackets)\n",
    "docs_tokens = []\n",
    "for i in temp_token:\n",
    "    docs_tokens.append(i)\n",
    "    \n",
    "# word frequency\n",
    "# explore word frequencies\n",
    "word_freq = Counter(x for xs in docs_tokens for x in set(xs)).most_common()\n",
    "word_fr = pd.DataFrame(word_freq, columns=['word', 'freq']).sort_values(by='freq', ascending=False)\n",
    "\n",
    "# visualize word frequencies\n",
    "# figure size\n",
    "fig = plt.figure(figsize=(90, 18))\n",
    "plt.bar(word_fr.word[0:300], word_fr.freq[0:300], color='green')\n",
    "plt.xlabel(\"Word\")\n",
    "plt.ylabel(\"Count\")\n",
    "plt.title(\"Word Frequency\")\n",
    "plt.show()\n",
    "\n",
    "# remove 50 most frequent words which is known in this context\n",
    "word_list = word_fr.head(300)['word'].to_list()\n",
    "mdy_list, tmp=[],[]\n",
    "for review in docs_tokens:\n",
    "    for word in review:\n",
    "        if word not in word_list:\n",
    "            tmp.append(word)\n",
    "    mdy_list.append(tmp)\n",
    "    tmp=[]\n",
    "    \n",
    "word_fr"
   ]
  },
  {
   "cell_type": "code",
   "execution_count": 215,
   "metadata": {},
   "outputs": [],
   "source": [
    "original_model_df = model_df.copy()"
   ]
  },
  {
   "cell_type": "code",
   "execution_count": 216,
   "metadata": {},
   "outputs": [],
   "source": [
    "model_df['token'] = mdy_list"
   ]
  },
  {
   "cell_type": "code",
   "execution_count": 221,
   "metadata": {},
   "outputs": [
    {
     "data": {
      "text/html": [
       "<div>\n",
       "<style scoped>\n",
       "    .dataframe tbody tr th:only-of-type {\n",
       "        vertical-align: middle;\n",
       "    }\n",
       "\n",
       "    .dataframe tbody tr th {\n",
       "        vertical-align: top;\n",
       "    }\n",
       "\n",
       "    .dataframe thead th {\n",
       "        text-align: right;\n",
       "    }\n",
       "</style>\n",
       "<table border=\"1\" class=\"dataframe\">\n",
       "  <thead>\n",
       "    <tr style=\"text-align: right;\">\n",
       "      <th></th>\n",
       "      <th>year_quater</th>\n",
       "      <th>token</th>\n",
       "    </tr>\n",
       "  </thead>\n",
       "  <tbody>\n",
       "    <tr>\n",
       "      <th>0</th>\n",
       "      <td>2011-1</td>\n",
       "      <td>[restructuring, instruction, difficulty, reins...</td>\n",
       "    </tr>\n",
       "    <tr>\n",
       "      <th>1</th>\n",
       "      <td>2011-2</td>\n",
       "      <td>[succession, cessation, repurchase, homeowner,...</td>\n",
       "    </tr>\n",
       "    <tr>\n",
       "      <th>2</th>\n",
       "      <td>2011-3</td>\n",
       "      <td>[breakdown, weight, merge, latin, contributor,...</td>\n",
       "    </tr>\n",
       "    <tr>\n",
       "      <th>3</th>\n",
       "      <td>2011-4</td>\n",
       "      <td>[financial, ium, sic, sic, mark, assurance, oc...</td>\n",
       "    </tr>\n",
       "    <tr>\n",
       "      <th>4</th>\n",
       "      <td>2012-1</td>\n",
       "      <td>[adequacy, agency, adequacy, diminution, disco...</td>\n",
       "    </tr>\n",
       "    <tr>\n",
       "      <th>5</th>\n",
       "      <td>2012-2</td>\n",
       "      <td>[consiation, histoal, reinstatement, rata, ehq...</td>\n",
       "    </tr>\n",
       "    <tr>\n",
       "      <th>6</th>\n",
       "      <td>2012-3</td>\n",
       "      <td>[aa, finance, webcast, stad, sharing, calculat...</td>\n",
       "    </tr>\n",
       "    <tr>\n",
       "      <th>7</th>\n",
       "      <td>2012-4</td>\n",
       "      <td>[restructuring, implementation, robustness, io...</td>\n",
       "    </tr>\n",
       "    <tr>\n",
       "      <th>8</th>\n",
       "      <td>2013-1</td>\n",
       "      <td>[proposal, king, rule, aa, webcast, proposal, ...</td>\n",
       "    </tr>\n",
       "    <tr>\n",
       "      <th>9</th>\n",
       "      <td>2013-2</td>\n",
       "      <td>[introduction, file, supplement, matter, webca...</td>\n",
       "    </tr>\n",
       "    <tr>\n",
       "      <th>10</th>\n",
       "      <td>2013-3</td>\n",
       "      <td>[creation, crisis, regulator, agency, bar, sui...</td>\n",
       "    </tr>\n",
       "    <tr>\n",
       "      <th>11</th>\n",
       "      <td>2013-4</td>\n",
       "      <td>[eﬃciency, mark, honor, journey, eﬃciency, eﬃc...</td>\n",
       "    </tr>\n",
       "    <tr>\n",
       "      <th>12</th>\n",
       "      <td>2014-1</td>\n",
       "      <td>[rise, headwind, webcast, schedule, maturity, ...</td>\n",
       "    </tr>\n",
       "    <tr>\n",
       "      <th>13</th>\n",
       "      <td>2014-2</td>\n",
       "      <td>[ﬂuctuation, ﬂattish, indexation, cover, car, ...</td>\n",
       "    </tr>\n",
       "    <tr>\n",
       "      <th>14</th>\n",
       "      <td>2014-3</td>\n",
       "      <td>[pleasure, opinion, analysis, idea, timeframe,...</td>\n",
       "    </tr>\n",
       "    <tr>\n",
       "      <th>15</th>\n",
       "      <td>2014-4</td>\n",
       "      <td>[analysis, cloudburst, instance, game, park, w...</td>\n",
       "    </tr>\n",
       "    <tr>\n",
       "      <th>16</th>\n",
       "      <td>2015-1</td>\n",
       "      <td>[traveler, supplement, webcast, webcast, webca...</td>\n",
       "    </tr>\n",
       "    <tr>\n",
       "      <th>17</th>\n",
       "      <td>2015-2</td>\n",
       "      <td>[bag, porate, storm, house, ﬁre, consequence, ...</td>\n",
       "    </tr>\n",
       "    <tr>\n",
       "      <th>18</th>\n",
       "      <td>2015-3</td>\n",
       "      <td>[webcast, replay, news, copy, conclusion, desc...</td>\n",
       "    </tr>\n",
       "    <tr>\n",
       "      <th>19</th>\n",
       "      <td>2015-4</td>\n",
       "      <td>[introduction, eﬃciency, lifetime, satisfactio...</td>\n",
       "    </tr>\n",
       "    <tr>\n",
       "      <th>20</th>\n",
       "      <td>2016-1</td>\n",
       "      <td>[face, face, medium, iver, financial, technica...</td>\n",
       "    </tr>\n",
       "    <tr>\n",
       "      <th>21</th>\n",
       "      <td>2016-2</td>\n",
       "      <td>[eﬃciency, eﬃciency, whereof, outsourcing, e, ...</td>\n",
       "    </tr>\n",
       "    <tr>\n",
       "      <th>22</th>\n",
       "      <td>2016-3</td>\n",
       "      <td>[purpose, cloud, job, job, unstanding, midst, ...</td>\n",
       "    </tr>\n",
       "    <tr>\n",
       "      <th>23</th>\n",
       "      <td>2016-4</td>\n",
       "      <td>[offer, telephone, mode, behalf, histoal, obli...</td>\n",
       "    </tr>\n",
       "    <tr>\n",
       "      <th>24</th>\n",
       "      <td>2017-1</td>\n",
       "      <td>[tian, ﬁgure, aim, divids, curiosity, oﬀs, oﬀs...</td>\n",
       "    </tr>\n",
       "    <tr>\n",
       "      <th>25</th>\n",
       "      <td>2017-2</td>\n",
       "      <td>[post, feller, foundation, bonus, communicatio...</td>\n",
       "    </tr>\n",
       "    <tr>\n",
       "      <th>26</th>\n",
       "      <td>2017-3</td>\n",
       "      <td>[news, night, axis, proposal, milestone, evolu...</td>\n",
       "    </tr>\n",
       "    <tr>\n",
       "      <th>27</th>\n",
       "      <td>2017-4</td>\n",
       "      <td>[briefing, notice, consolidator, matter, huran...</td>\n",
       "    </tr>\n",
       "    <tr>\n",
       "      <th>28</th>\n",
       "      <td>2018-1</td>\n",
       "      <td>[row, economist, internet, consumer, internet,...</td>\n",
       "    </tr>\n",
       "    <tr>\n",
       "      <th>29</th>\n",
       "      <td>2018-2</td>\n",
       "      <td>[winter, flooding, staff, match, swing, match,...</td>\n",
       "    </tr>\n",
       "    <tr>\n",
       "      <th>30</th>\n",
       "      <td>2018-3</td>\n",
       "      <td>[announcement, ﬁnance, closing, approval, comp...</td>\n",
       "    </tr>\n",
       "    <tr>\n",
       "      <th>31</th>\n",
       "      <td>2018-4</td>\n",
       "      <td>[language, desire, desire, contributor, globe,...</td>\n",
       "    </tr>\n",
       "    <tr>\n",
       "      <th>32</th>\n",
       "      <td>2019-1</td>\n",
       "      <td>[opinion, court, cgl, duty, damage, injury, co...</td>\n",
       "    </tr>\n",
       "    <tr>\n",
       "      <th>33</th>\n",
       "      <td>2019-2</td>\n",
       "      <td>[tier, chance, replacement, agency, instrument...</td>\n",
       "    </tr>\n",
       "    <tr>\n",
       "      <th>34</th>\n",
       "      <td>2019-3</td>\n",
       "      <td>[financial, piece, financial, withprofit, resi...</td>\n",
       "    </tr>\n",
       "    <tr>\n",
       "      <th>35</th>\n",
       "      <td>2019-4</td>\n",
       "      <td>[spite, invitation, speciality, definition, cr...</td>\n",
       "    </tr>\n",
       "    <tr>\n",
       "      <th>36</th>\n",
       "      <td>2020-1</td>\n",
       "      <td>[ium, winter, winter, runoff, proceed, runoff,...</td>\n",
       "    </tr>\n",
       "    <tr>\n",
       "      <th>37</th>\n",
       "      <td>2020-2</td>\n",
       "      <td>[interruption, interruption, interruption, dam...</td>\n",
       "    </tr>\n",
       "    <tr>\n",
       "      <th>38</th>\n",
       "      <td>2020-3</td>\n",
       "      <td>[bps, excellence, rebalancing, unlying, lockdo...</td>\n",
       "    </tr>\n",
       "    <tr>\n",
       "      <th>39</th>\n",
       "      <td>2020-4</td>\n",
       "      <td>[isolation, quote, feller, continuation, excel...</td>\n",
       "    </tr>\n",
       "    <tr>\n",
       "      <th>40</th>\n",
       "      <td>2021-1</td>\n",
       "      <td>[automobile, automobile, mile, pandemic, agenc...</td>\n",
       "    </tr>\n",
       "    <tr>\n",
       "      <th>41</th>\n",
       "      <td>2021-2</td>\n",
       "      <td>[discount, multiple, complexity, intensity, va...</td>\n",
       "    </tr>\n",
       "    <tr>\n",
       "      <th>42</th>\n",
       "      <td>2021-3</td>\n",
       "      <td>[oﬀ, announcement, person, quote, feller, traj...</td>\n",
       "    </tr>\n",
       "    <tr>\n",
       "      <th>43</th>\n",
       "      <td>2021-4</td>\n",
       "      <td>[connection, learning, rationale, attrition, m...</td>\n",
       "    </tr>\n",
       "  </tbody>\n",
       "</table>\n",
       "</div>"
      ],
      "text/plain": [
       "   year_quater                                              token\n",
       "0       2011-1  [restructuring, instruction, difficulty, reins...\n",
       "1       2011-2  [succession, cessation, repurchase, homeowner,...\n",
       "2       2011-3  [breakdown, weight, merge, latin, contributor,...\n",
       "3       2011-4  [financial, ium, sic, sic, mark, assurance, oc...\n",
       "4       2012-1  [adequacy, agency, adequacy, diminution, disco...\n",
       "5       2012-2  [consiation, histoal, reinstatement, rata, ehq...\n",
       "6       2012-3  [aa, finance, webcast, stad, sharing, calculat...\n",
       "7       2012-4  [restructuring, implementation, robustness, io...\n",
       "8       2013-1  [proposal, king, rule, aa, webcast, proposal, ...\n",
       "9       2013-2  [introduction, file, supplement, matter, webca...\n",
       "10      2013-3  [creation, crisis, regulator, agency, bar, sui...\n",
       "11      2013-4  [eﬃciency, mark, honor, journey, eﬃciency, eﬃc...\n",
       "12      2014-1  [rise, headwind, webcast, schedule, maturity, ...\n",
       "13      2014-2  [ﬂuctuation, ﬂattish, indexation, cover, car, ...\n",
       "14      2014-3  [pleasure, opinion, analysis, idea, timeframe,...\n",
       "15      2014-4  [analysis, cloudburst, instance, game, park, w...\n",
       "16      2015-1  [traveler, supplement, webcast, webcast, webca...\n",
       "17      2015-2  [bag, porate, storm, house, ﬁre, consequence, ...\n",
       "18      2015-3  [webcast, replay, news, copy, conclusion, desc...\n",
       "19      2015-4  [introduction, eﬃciency, lifetime, satisfactio...\n",
       "20      2016-1  [face, face, medium, iver, financial, technica...\n",
       "21      2016-2  [eﬃciency, eﬃciency, whereof, outsourcing, e, ...\n",
       "22      2016-3  [purpose, cloud, job, job, unstanding, midst, ...\n",
       "23      2016-4  [offer, telephone, mode, behalf, histoal, obli...\n",
       "24      2017-1  [tian, ﬁgure, aim, divids, curiosity, oﬀs, oﬀs...\n",
       "25      2017-2  [post, feller, foundation, bonus, communicatio...\n",
       "26      2017-3  [news, night, axis, proposal, milestone, evolu...\n",
       "27      2017-4  [briefing, notice, consolidator, matter, huran...\n",
       "28      2018-1  [row, economist, internet, consumer, internet,...\n",
       "29      2018-2  [winter, flooding, staff, match, swing, match,...\n",
       "30      2018-3  [announcement, ﬁnance, closing, approval, comp...\n",
       "31      2018-4  [language, desire, desire, contributor, globe,...\n",
       "32      2019-1  [opinion, court, cgl, duty, damage, injury, co...\n",
       "33      2019-2  [tier, chance, replacement, agency, instrument...\n",
       "34      2019-3  [financial, piece, financial, withprofit, resi...\n",
       "35      2019-4  [spite, invitation, speciality, definition, cr...\n",
       "36      2020-1  [ium, winter, winter, runoff, proceed, runoff,...\n",
       "37      2020-2  [interruption, interruption, interruption, dam...\n",
       "38      2020-3  [bps, excellence, rebalancing, unlying, lockdo...\n",
       "39      2020-4  [isolation, quote, feller, continuation, excel...\n",
       "40      2021-1  [automobile, automobile, mile, pandemic, agenc...\n",
       "41      2021-2  [discount, multiple, complexity, intensity, va...\n",
       "42      2021-3  [oﬀ, announcement, person, quote, feller, traj...\n",
       "43      2021-4  [connection, learning, rationale, attrition, m..."
      ]
     },
     "execution_count": 221,
     "metadata": {},
     "output_type": "execute_result"
    }
   ],
   "source": [
    "test_df = model_df.copy()\n",
    "date_list = test_df['year_quater'].unique().tolist()\n",
    "# if the date_list == test_df['date'], append to the dtm_list\n",
    "dtm_token_list = []\n",
    "dtm_token_df = []\n",
    "dtm_df = pd.DataFrame()\n",
    "for date in date_list:\n",
    "    tmp_df = test_df[test_df['year_quater']==date]\n",
    "\n",
    "    tmp_token_list = tmp_df['token'].to_list()\n",
    "    for i in tmp_token_list:\n",
    "        for k in i:\n",
    "            dtm_token_list.append(k)\n",
    "    dtm_token_df.append(dtm_token_list)\n",
    "    dtm_token_list = []\n",
    "    dtm_df['year_quater'] = date_list\n",
    "dtm_df['token'] = dtm_token_df\n",
    "# dtm_df drop the row 45\n",
    "dtm_df = dtm_df.drop(45)\n",
    "dtm_df = dtm_df.drop(44)\n",
    "dtm_df = dtm_df.reset_index(drop=True)\n",
    "dtm_df"
   ]
  },
  {
   "cell_type": "markdown",
   "metadata": {},
   "source": [
    "# Docs_tokens"
   ]
  },
  {
   "cell_type": "code",
   "execution_count": 222,
   "metadata": {},
   "outputs": [],
   "source": [
    "# https://github.com/bab2min/tomotopy\n",
    "# https://bab2min.github.io/tomotopy/v0.12.3/en/#tomotopy.DTModel\n",
    "# https://notebook.community/pombredanne/gensim/docs/notebooks/ldaseqmodel"
   ]
  },
  {
   "cell_type": "code",
   "execution_count": 223,
   "metadata": {},
   "outputs": [
    {
     "data": {
      "text/plain": [
       "44"
      ]
     },
     "execution_count": 223,
     "metadata": {},
     "output_type": "execute_result"
    }
   ],
   "source": [
    "# recrate again for getting the docs_tokens\n",
    "temp_token_dtm = dtm_df['token'] # .apply(remove_brackets)\n",
    "docs_tokens_dtm = []\n",
    "for i in temp_token_dtm:\n",
    "    docs_tokens_dtm.append(i)\n",
    "len(docs_tokens_dtm)"
   ]
  },
  {
   "cell_type": "markdown",
   "metadata": {},
   "source": [
    "# docs_phrased"
   ]
  },
  {
   "cell_type": "code",
   "execution_count": 224,
   "metadata": {},
   "outputs": [
    {
     "data": {
      "text/plain": [
       "44"
      ]
     },
     "execution_count": 224,
     "metadata": {},
     "output_type": "execute_result"
    }
   ],
   "source": [
    "# topic modeling\n",
    "common_terms = [\n",
    "u\"of\",u\"with\",u\"without\",u\"and\",u\"or\",u\"the\",\n",
    "u\"a\",u\"not\",u\"be\",u\"to\",u\"this\",u\"who\",u\"in\",\n",
    "]\n",
    "\n",
    "bigram_dtm = Phrases(                              \n",
    "    docs_tokens_dtm,\n",
    "    min_count=50, # 這邊可以調整字連起來\n",
    "    threshold=5,\n",
    "    max_vocab_size=50000,\n",
    "    common_terms=common_terms,\n",
    ")\n",
    "trigram_dtm = Phrases(                             \n",
    "    bigram_dtm[docs_tokens_dtm],\n",
    "    min_count=50,\n",
    "    threshold=5,\n",
    "    max_vocab_size=50000,\n",
    "    common_terms=common_terms,\n",
    ")\n",
    "# anks to these two models, \n",
    "# we can process the tokenized documents and join the tokens associated with bi- or tri-grams.\n",
    "docs_phrased_dtm = [trigram_dtm[bigram_dtm[line]] for line in docs_tokens_dtm]\n",
    "len(docs_tokens_dtm)"
   ]
  },
  {
   "cell_type": "markdown",
   "metadata": {},
   "source": [
    "# corpus"
   ]
  },
  {
   "cell_type": "code",
   "execution_count": 225,
   "metadata": {},
   "outputs": [
    {
     "name": "stdout",
     "output_type": "stream",
     "text": [
      "44\n"
     ]
    }
   ],
   "source": [
    "corpus_dtm = tp.utils.Corpus() \n",
    "for i in range(len(docs_tokens_dtm)):\n",
    "    # corpus_dtm.add_doc with timepoint\n",
    "    corpus_dtm.add_doc(words=docs_tokens_dtm[i], timepoint=i) # dtm_df['date'][i]\n",
    "print(len(corpus_dtm))"
   ]
  },
  {
   "cell_type": "markdown",
   "metadata": {},
   "source": [
    "# model base on the topic number we select (without time series)"
   ]
  },
  {
   "cell_type": "code",
   "execution_count": 231,
   "metadata": {},
   "outputs": [
    {
     "name": "stdout",
     "output_type": "stream",
     "text": [
      "Iteration: 0\tLog-likelihood: -8.612592995992664\n",
      "Iteration: 10\tLog-likelihood: -8.545834248363686\n",
      "Iteration: 20\tLog-likelihood: -8.347373637346818\n",
      "Iteration: 30\tLog-likelihood: -8.052862062508533\n",
      "Iteration: 40\tLog-likelihood: -7.761760554379353\n",
      "Iteration: 50\tLog-likelihood: -7.5317686785549345\n",
      "Iteration: 60\tLog-likelihood: -7.354788704494243\n",
      "Iteration: 70\tLog-likelihood: -7.190707298095001\n",
      "Iteration: 80\tLog-likelihood: -7.065775164612186\n",
      "Iteration: 90\tLog-likelihood: -6.9626951542378706\n"
     ]
    }
   ],
   "source": [
    "best_mdl = tp.DTModel(\n",
    "    # tw= TermWeight.ONE, # term weighting scheme in TermWeight. The default value is TermWeight.ONE\n",
    "    # min_cf=0, # minimum collection frequency of words\n",
    "    # min_df=0, # minimum document frequency of words\n",
    "    # rm_top=0, # remove top frequency words\n",
    "    # transform=None, # transformation of the corpus\n",
    "    k=10,\n",
    "    t = len(dtm_df),\n",
    "    corpus=corpus_dtm,\n",
    "    seed = 1\n",
    "    )\n",
    "\n",
    "\n",
    "for i in range(0, 100, 10):\n",
    "    best_mdl.train(10)\n",
    "    print(\"Iteration: {}\\tLog-likelihood: {}\".format(i, best_mdl.ll_per_word))"
   ]
  },
  {
   "cell_type": "code",
   "execution_count": 232,
   "metadata": {},
   "outputs": [
    {
     "data": {
      "text/html": [
       "<div>\n",
       "<style scoped>\n",
       "    .dataframe tbody tr th:only-of-type {\n",
       "        vertical-align: middle;\n",
       "    }\n",
       "\n",
       "    .dataframe tbody tr th {\n",
       "        vertical-align: top;\n",
       "    }\n",
       "\n",
       "    .dataframe thead th {\n",
       "        text-align: right;\n",
       "    }\n",
       "</style>\n",
       "<table border=\"1\" class=\"dataframe\">\n",
       "  <thead>\n",
       "    <tr style=\"text-align: right;\">\n",
       "      <th></th>\n",
       "      <th>word</th>\n",
       "      <th>prob</th>\n",
       "      <th>timepoint</th>\n",
       "      <th>k</th>\n",
       "      <th>sort</th>\n",
       "    </tr>\n",
       "  </thead>\n",
       "  <tbody>\n",
       "    <tr>\n",
       "      <th>0</th>\n",
       "      <td>ehquake</td>\n",
       "      <td>0.00543</td>\n",
       "      <td>0</td>\n",
       "      <td>0</td>\n",
       "      <td>0</td>\n",
       "    </tr>\n",
       "    <tr>\n",
       "      <th>1</th>\n",
       "      <td>cover</td>\n",
       "      <td>0.00542</td>\n",
       "      <td>0</td>\n",
       "      <td>0</td>\n",
       "      <td>1</td>\n",
       "    </tr>\n",
       "    <tr>\n",
       "      <th>2</th>\n",
       "      <td>car</td>\n",
       "      <td>0.00542</td>\n",
       "      <td>0</td>\n",
       "      <td>0</td>\n",
       "      <td>2</td>\n",
       "    </tr>\n",
       "    <tr>\n",
       "      <th>3</th>\n",
       "      <td>reinsurer</td>\n",
       "      <td>0.00542</td>\n",
       "      <td>0</td>\n",
       "      <td>0</td>\n",
       "      <td>3</td>\n",
       "    </tr>\n",
       "    <tr>\n",
       "      <th>4</th>\n",
       "      <td>eﬀect</td>\n",
       "      <td>0.00409</td>\n",
       "      <td>0</td>\n",
       "      <td>0</td>\n",
       "      <td>4</td>\n",
       "    </tr>\n",
       "    <tr>\n",
       "      <th>...</th>\n",
       "      <td>...</td>\n",
       "      <td>...</td>\n",
       "      <td>...</td>\n",
       "      <td>...</td>\n",
       "      <td>...</td>\n",
       "    </tr>\n",
       "    <tr>\n",
       "      <th>435</th>\n",
       "      <td>creation</td>\n",
       "      <td>0.00246</td>\n",
       "      <td>43</td>\n",
       "      <td>9</td>\n",
       "      <td>435</td>\n",
       "    </tr>\n",
       "    <tr>\n",
       "      <th>436</th>\n",
       "      <td>disability</td>\n",
       "      <td>0.00245</td>\n",
       "      <td>43</td>\n",
       "      <td>9</td>\n",
       "      <td>436</td>\n",
       "    </tr>\n",
       "    <tr>\n",
       "      <th>437</th>\n",
       "      <td>culture</td>\n",
       "      <td>0.00241</td>\n",
       "      <td>43</td>\n",
       "      <td>9</td>\n",
       "      <td>437</td>\n",
       "    </tr>\n",
       "    <tr>\n",
       "      <th>438</th>\n",
       "      <td>housing</td>\n",
       "      <td>0.00240</td>\n",
       "      <td>43</td>\n",
       "      <td>9</td>\n",
       "      <td>438</td>\n",
       "    </tr>\n",
       "    <tr>\n",
       "      <th>439</th>\n",
       "      <td>inflation</td>\n",
       "      <td>0.00236</td>\n",
       "      <td>43</td>\n",
       "      <td>9</td>\n",
       "      <td>439</td>\n",
       "    </tr>\n",
       "  </tbody>\n",
       "</table>\n",
       "<p>4400 rows × 5 columns</p>\n",
       "</div>"
      ],
      "text/plain": [
       "           word     prob  timepoint  k  sort\n",
       "0       ehquake  0.00543          0  0     0\n",
       "1         cover  0.00542          0  0     1\n",
       "2           car  0.00542          0  0     2\n",
       "3     reinsurer  0.00542          0  0     3\n",
       "4         eﬀect  0.00409          0  0     4\n",
       "..          ...      ...        ... ..   ...\n",
       "435    creation  0.00246         43  9   435\n",
       "436  disability  0.00245         43  9   436\n",
       "437     culture  0.00241         43  9   437\n",
       "438     housing  0.00240         43  9   438\n",
       "439   inflation  0.00236         43  9   439\n",
       "\n",
       "[4400 rows x 5 columns]"
      ]
     },
     "execution_count": 232,
     "metadata": {},
     "output_type": "execute_result"
    }
   ],
   "source": [
    "wt = pd.DataFrame()\n",
    "# 使用“get_topic_words”屬性，我們可以取得主題到詞彙概率的預測，with required argument 'timepoint' (pos 2)\n",
    "for k in range(best_mdl.k):\n",
    "    words, probs, timepoints = [], [], []\n",
    "    for t in range(len(corpus_dtm)):\n",
    "        for word, prob in best_mdl.get_topic_words(k ,timepoint=t):\n",
    "            timepoints.append(t)\n",
    "            words.append(word)\n",
    "            probs.append(prob)\n",
    "        tmp = pd.DataFrame(\n",
    "            {\n",
    "                \"word\": words,\n",
    "                \"prob\": np.round(probs, 5),\n",
    "                \"timepoint\": timepoints,\n",
    "                \"k\": np.repeat(k, len(words)),\n",
    "                \"sort\": np.arange(0, len(words)),\n",
    "            }\n",
    "        )\n",
    "    words, probs, timepoints = [], [], []\n",
    "    wt = wt.append(tmp)\n",
    "    del tmp\n",
    "\n",
    "wt"
   ]
  },
  {
   "cell_type": "code",
   "execution_count": 233,
   "metadata": {},
   "outputs": [
    {
     "data": {
      "text/html": [
       "<div>\n",
       "<style scoped>\n",
       "    .dataframe tbody tr th:only-of-type {\n",
       "        vertical-align: middle;\n",
       "    }\n",
       "\n",
       "    .dataframe tbody tr th {\n",
       "        vertical-align: top;\n",
       "    }\n",
       "\n",
       "    .dataframe thead th {\n",
       "        text-align: right;\n",
       "    }\n",
       "</style>\n",
       "<table border=\"1\" class=\"dataframe\">\n",
       "  <thead>\n",
       "    <tr style=\"text-align: right;\">\n",
       "      <th></th>\n",
       "      <th>topic_1</th>\n",
       "      <th>topic_2</th>\n",
       "      <th>topic_3</th>\n",
       "      <th>topic_4</th>\n",
       "      <th>topic_5</th>\n",
       "      <th>topic_6</th>\n",
       "      <th>topic_7</th>\n",
       "      <th>topic_8</th>\n",
       "      <th>topic_9</th>\n",
       "      <th>topic_10</th>\n",
       "      <th>timepoint</th>\n",
       "    </tr>\n",
       "  </thead>\n",
       "  <tbody>\n",
       "    <tr>\n",
       "      <th>0</th>\n",
       "      <td>0.120549</td>\n",
       "      <td>0.137997</td>\n",
       "      <td>0.095670</td>\n",
       "      <td>0.085331</td>\n",
       "      <td>0.112472</td>\n",
       "      <td>0.090178</td>\n",
       "      <td>0.069822</td>\n",
       "      <td>0.100517</td>\n",
       "      <td>0.069822</td>\n",
       "      <td>0.117641</td>\n",
       "      <td>0</td>\n",
       "    </tr>\n",
       "    <tr>\n",
       "      <th>1</th>\n",
       "      <td>0.077171</td>\n",
       "      <td>0.097207</td>\n",
       "      <td>0.084457</td>\n",
       "      <td>0.111172</td>\n",
       "      <td>0.129994</td>\n",
       "      <td>0.089921</td>\n",
       "      <td>0.094778</td>\n",
       "      <td>0.111779</td>\n",
       "      <td>0.111779</td>\n",
       "      <td>0.091743</td>\n",
       "      <td>1</td>\n",
       "    </tr>\n",
       "    <tr>\n",
       "      <th>2</th>\n",
       "      <td>0.073793</td>\n",
       "      <td>0.107676</td>\n",
       "      <td>0.096882</td>\n",
       "      <td>0.145157</td>\n",
       "      <td>0.090585</td>\n",
       "      <td>0.103478</td>\n",
       "      <td>0.081889</td>\n",
       "      <td>0.082489</td>\n",
       "      <td>0.091184</td>\n",
       "      <td>0.126867</td>\n",
       "      <td>2</td>\n",
       "    </tr>\n",
       "    <tr>\n",
       "      <th>3</th>\n",
       "      <td>0.097325</td>\n",
       "      <td>0.116778</td>\n",
       "      <td>0.096717</td>\n",
       "      <td>0.074225</td>\n",
       "      <td>0.118602</td>\n",
       "      <td>0.086991</td>\n",
       "      <td>0.122249</td>\n",
       "      <td>0.091246</td>\n",
       "      <td>0.097325</td>\n",
       "      <td>0.098541</td>\n",
       "      <td>3</td>\n",
       "    </tr>\n",
       "    <tr>\n",
       "      <th>4</th>\n",
       "      <td>0.082638</td>\n",
       "      <td>0.076950</td>\n",
       "      <td>0.109995</td>\n",
       "      <td>0.106473</td>\n",
       "      <td>0.095910</td>\n",
       "      <td>0.127871</td>\n",
       "      <td>0.103765</td>\n",
       "      <td>0.099160</td>\n",
       "      <td>0.076679</td>\n",
       "      <td>0.120558</td>\n",
       "      <td>4</td>\n",
       "    </tr>\n",
       "    <tr>\n",
       "      <th>5</th>\n",
       "      <td>0.080952</td>\n",
       "      <td>0.084537</td>\n",
       "      <td>0.112698</td>\n",
       "      <td>0.109114</td>\n",
       "      <td>0.085049</td>\n",
       "      <td>0.116283</td>\n",
       "      <td>0.098874</td>\n",
       "      <td>0.091193</td>\n",
       "      <td>0.104506</td>\n",
       "      <td>0.116795</td>\n",
       "      <td>5</td>\n",
       "    </tr>\n",
       "    <tr>\n",
       "      <th>6</th>\n",
       "      <td>0.071748</td>\n",
       "      <td>0.094090</td>\n",
       "      <td>0.083640</td>\n",
       "      <td>0.121117</td>\n",
       "      <td>0.103459</td>\n",
       "      <td>0.123640</td>\n",
       "      <td>0.108865</td>\n",
       "      <td>0.082559</td>\n",
       "      <td>0.094450</td>\n",
       "      <td>0.116432</td>\n",
       "      <td>6</td>\n",
       "    </tr>\n",
       "    <tr>\n",
       "      <th>7</th>\n",
       "      <td>0.142429</td>\n",
       "      <td>0.089495</td>\n",
       "      <td>0.093599</td>\n",
       "      <td>0.101395</td>\n",
       "      <td>0.112474</td>\n",
       "      <td>0.109192</td>\n",
       "      <td>0.097292</td>\n",
       "      <td>0.107550</td>\n",
       "      <td>0.067747</td>\n",
       "      <td>0.078826</td>\n",
       "      <td>7</td>\n",
       "    </tr>\n",
       "    <tr>\n",
       "      <th>8</th>\n",
       "      <td>0.159104</td>\n",
       "      <td>0.059435</td>\n",
       "      <td>0.073549</td>\n",
       "      <td>0.091845</td>\n",
       "      <td>0.167642</td>\n",
       "      <td>0.094459</td>\n",
       "      <td>0.092020</td>\n",
       "      <td>0.082262</td>\n",
       "      <td>0.075815</td>\n",
       "      <td>0.103868</td>\n",
       "      <td>8</td>\n",
       "    </tr>\n",
       "    <tr>\n",
       "      <th>9</th>\n",
       "      <td>0.092516</td>\n",
       "      <td>0.099569</td>\n",
       "      <td>0.135619</td>\n",
       "      <td>0.109757</td>\n",
       "      <td>0.071356</td>\n",
       "      <td>0.084679</td>\n",
       "      <td>0.098393</td>\n",
       "      <td>0.099177</td>\n",
       "      <td>0.110541</td>\n",
       "      <td>0.098393</td>\n",
       "      <td>9</td>\n",
       "    </tr>\n",
       "    <tr>\n",
       "      <th>10</th>\n",
       "      <td>0.133185</td>\n",
       "      <td>0.089450</td>\n",
       "      <td>0.074991</td>\n",
       "      <td>0.098733</td>\n",
       "      <td>0.065887</td>\n",
       "      <td>0.092306</td>\n",
       "      <td>0.220296</td>\n",
       "      <td>0.066244</td>\n",
       "      <td>0.080703</td>\n",
       "      <td>0.078204</td>\n",
       "      <td>10</td>\n",
       "    </tr>\n",
       "    <tr>\n",
       "      <th>11</th>\n",
       "      <td>0.093947</td>\n",
       "      <td>0.161897</td>\n",
       "      <td>0.133836</td>\n",
       "      <td>0.078177</td>\n",
       "      <td>0.076090</td>\n",
       "      <td>0.069133</td>\n",
       "      <td>0.103224</td>\n",
       "      <td>0.095571</td>\n",
       "      <td>0.066350</td>\n",
       "      <td>0.121776</td>\n",
       "      <td>11</td>\n",
       "    </tr>\n",
       "    <tr>\n",
       "      <th>12</th>\n",
       "      <td>0.087877</td>\n",
       "      <td>0.129695</td>\n",
       "      <td>0.101766</td>\n",
       "      <td>0.068101</td>\n",
       "      <td>0.077763</td>\n",
       "      <td>0.066440</td>\n",
       "      <td>0.274925</td>\n",
       "      <td>0.054665</td>\n",
       "      <td>0.060251</td>\n",
       "      <td>0.078518</td>\n",
       "      <td>12</td>\n",
       "    </tr>\n",
       "    <tr>\n",
       "      <th>13</th>\n",
       "      <td>0.049883</td>\n",
       "      <td>0.114381</td>\n",
       "      <td>0.046811</td>\n",
       "      <td>0.046811</td>\n",
       "      <td>0.042656</td>\n",
       "      <td>0.061084</td>\n",
       "      <td>0.454761</td>\n",
       "      <td>0.067407</td>\n",
       "      <td>0.052954</td>\n",
       "      <td>0.063252</td>\n",
       "      <td>13</td>\n",
       "    </tr>\n",
       "    <tr>\n",
       "      <th>14</th>\n",
       "      <td>0.046953</td>\n",
       "      <td>0.063318</td>\n",
       "      <td>0.057935</td>\n",
       "      <td>0.056212</td>\n",
       "      <td>0.374365</td>\n",
       "      <td>0.077099</td>\n",
       "      <td>0.127056</td>\n",
       "      <td>0.043508</td>\n",
       "      <td>0.087435</td>\n",
       "      <td>0.066118</td>\n",
       "      <td>14</td>\n",
       "    </tr>\n",
       "    <tr>\n",
       "      <th>15</th>\n",
       "      <td>0.041350</td>\n",
       "      <td>0.039144</td>\n",
       "      <td>0.039291</td>\n",
       "      <td>0.040762</td>\n",
       "      <td>0.453678</td>\n",
       "      <td>0.072683</td>\n",
       "      <td>0.063563</td>\n",
       "      <td>0.032966</td>\n",
       "      <td>0.097396</td>\n",
       "      <td>0.119167</td>\n",
       "      <td>15</td>\n",
       "    </tr>\n",
       "    <tr>\n",
       "      <th>16</th>\n",
       "      <td>0.003220</td>\n",
       "      <td>0.001845</td>\n",
       "      <td>0.002762</td>\n",
       "      <td>0.001730</td>\n",
       "      <td>0.976862</td>\n",
       "      <td>0.002762</td>\n",
       "      <td>0.002762</td>\n",
       "      <td>0.002647</td>\n",
       "      <td>0.002647</td>\n",
       "      <td>0.002762</td>\n",
       "      <td>16</td>\n",
       "    </tr>\n",
       "    <tr>\n",
       "      <th>17</th>\n",
       "      <td>0.081650</td>\n",
       "      <td>0.071742</td>\n",
       "      <td>0.077558</td>\n",
       "      <td>0.065927</td>\n",
       "      <td>0.245552</td>\n",
       "      <td>0.119126</td>\n",
       "      <td>0.070450</td>\n",
       "      <td>0.082942</td>\n",
       "      <td>0.094572</td>\n",
       "      <td>0.090480</td>\n",
       "      <td>17</td>\n",
       "    </tr>\n",
       "    <tr>\n",
       "      <th>18</th>\n",
       "      <td>0.081000</td>\n",
       "      <td>0.129245</td>\n",
       "      <td>0.082116</td>\n",
       "      <td>0.039700</td>\n",
       "      <td>0.194853</td>\n",
       "      <td>0.077403</td>\n",
       "      <td>0.122423</td>\n",
       "      <td>0.078023</td>\n",
       "      <td>0.133834</td>\n",
       "      <td>0.061404</td>\n",
       "      <td>18</td>\n",
       "    </tr>\n",
       "    <tr>\n",
       "      <th>19</th>\n",
       "      <td>0.120893</td>\n",
       "      <td>0.078596</td>\n",
       "      <td>0.108861</td>\n",
       "      <td>0.060547</td>\n",
       "      <td>0.068022</td>\n",
       "      <td>0.071851</td>\n",
       "      <td>0.268022</td>\n",
       "      <td>0.054166</td>\n",
       "      <td>0.065469</td>\n",
       "      <td>0.103573</td>\n",
       "      <td>19</td>\n",
       "    </tr>\n",
       "    <tr>\n",
       "      <th>20</th>\n",
       "      <td>0.002093</td>\n",
       "      <td>0.002365</td>\n",
       "      <td>0.003452</td>\n",
       "      <td>0.001640</td>\n",
       "      <td>0.000915</td>\n",
       "      <td>0.001912</td>\n",
       "      <td>0.980437</td>\n",
       "      <td>0.003634</td>\n",
       "      <td>0.001278</td>\n",
       "      <td>0.002274</td>\n",
       "      <td>20</td>\n",
       "    </tr>\n",
       "    <tr>\n",
       "      <th>21</th>\n",
       "      <td>0.082804</td>\n",
       "      <td>0.030875</td>\n",
       "      <td>0.047196</td>\n",
       "      <td>0.054169</td>\n",
       "      <td>0.057582</td>\n",
       "      <td>0.044822</td>\n",
       "      <td>0.546899</td>\n",
       "      <td>0.041855</td>\n",
       "      <td>0.051647</td>\n",
       "      <td>0.042151</td>\n",
       "      <td>21</td>\n",
       "    </tr>\n",
       "    <tr>\n",
       "      <th>22</th>\n",
       "      <td>0.017547</td>\n",
       "      <td>0.008949</td>\n",
       "      <td>0.006460</td>\n",
       "      <td>0.007252</td>\n",
       "      <td>0.009967</td>\n",
       "      <td>0.011890</td>\n",
       "      <td>0.011551</td>\n",
       "      <td>0.008044</td>\n",
       "      <td>0.906901</td>\n",
       "      <td>0.011438</td>\n",
       "      <td>22</td>\n",
       "    </tr>\n",
       "    <tr>\n",
       "      <th>23</th>\n",
       "      <td>0.111767</td>\n",
       "      <td>0.074415</td>\n",
       "      <td>0.066216</td>\n",
       "      <td>0.158837</td>\n",
       "      <td>0.114045</td>\n",
       "      <td>0.080185</td>\n",
       "      <td>0.068038</td>\n",
       "      <td>0.089447</td>\n",
       "      <td>0.098254</td>\n",
       "      <td>0.138794</td>\n",
       "      <td>23</td>\n",
       "    </tr>\n",
       "    <tr>\n",
       "      <th>24</th>\n",
       "      <td>0.002528</td>\n",
       "      <td>0.005750</td>\n",
       "      <td>0.002427</td>\n",
       "      <td>0.002024</td>\n",
       "      <td>0.002628</td>\n",
       "      <td>0.004139</td>\n",
       "      <td>0.001722</td>\n",
       "      <td>0.003132</td>\n",
       "      <td>0.003333</td>\n",
       "      <td>0.972316</td>\n",
       "      <td>24</td>\n",
       "    </tr>\n",
       "    <tr>\n",
       "      <th>25</th>\n",
       "      <td>0.002023</td>\n",
       "      <td>0.975548</td>\n",
       "      <td>0.002658</td>\n",
       "      <td>0.001917</td>\n",
       "      <td>0.001493</td>\n",
       "      <td>0.001493</td>\n",
       "      <td>0.001705</td>\n",
       "      <td>0.001705</td>\n",
       "      <td>0.003293</td>\n",
       "      <td>0.008165</td>\n",
       "      <td>25</td>\n",
       "    </tr>\n",
       "    <tr>\n",
       "      <th>26</th>\n",
       "      <td>0.004272</td>\n",
       "      <td>0.004378</td>\n",
       "      <td>0.002994</td>\n",
       "      <td>0.002354</td>\n",
       "      <td>0.001822</td>\n",
       "      <td>0.002567</td>\n",
       "      <td>0.001928</td>\n",
       "      <td>0.003526</td>\n",
       "      <td>0.972526</td>\n",
       "      <td>0.003633</td>\n",
       "      <td>26</td>\n",
       "    </tr>\n",
       "    <tr>\n",
       "      <th>27</th>\n",
       "      <td>0.985715</td>\n",
       "      <td>0.001623</td>\n",
       "      <td>0.000735</td>\n",
       "      <td>0.001139</td>\n",
       "      <td>0.001058</td>\n",
       "      <td>0.000977</td>\n",
       "      <td>0.002754</td>\n",
       "      <td>0.002834</td>\n",
       "      <td>0.002350</td>\n",
       "      <td>0.000816</td>\n",
       "      <td>27</td>\n",
       "    </tr>\n",
       "    <tr>\n",
       "      <th>28</th>\n",
       "      <td>0.001143</td>\n",
       "      <td>0.000840</td>\n",
       "      <td>0.001068</td>\n",
       "      <td>0.000689</td>\n",
       "      <td>0.001068</td>\n",
       "      <td>0.001673</td>\n",
       "      <td>0.001446</td>\n",
       "      <td>0.989862</td>\n",
       "      <td>0.001143</td>\n",
       "      <td>0.001068</td>\n",
       "      <td>28</td>\n",
       "    </tr>\n",
       "    <tr>\n",
       "      <th>29</th>\n",
       "      <td>0.005446</td>\n",
       "      <td>0.005909</td>\n",
       "      <td>0.004984</td>\n",
       "      <td>0.003249</td>\n",
       "      <td>0.003943</td>\n",
       "      <td>0.006140</td>\n",
       "      <td>0.015391</td>\n",
       "      <td>0.943467</td>\n",
       "      <td>0.006834</td>\n",
       "      <td>0.004637</td>\n",
       "      <td>29</td>\n",
       "    </tr>\n",
       "    <tr>\n",
       "      <th>30</th>\n",
       "      <td>0.034834</td>\n",
       "      <td>0.035411</td>\n",
       "      <td>0.016460</td>\n",
       "      <td>0.014921</td>\n",
       "      <td>0.025599</td>\n",
       "      <td>0.766724</td>\n",
       "      <td>0.020308</td>\n",
       "      <td>0.027138</td>\n",
       "      <td>0.035892</td>\n",
       "      <td>0.022713</td>\n",
       "      <td>30</td>\n",
       "    </tr>\n",
       "    <tr>\n",
       "      <th>31</th>\n",
       "      <td>0.001458</td>\n",
       "      <td>0.000587</td>\n",
       "      <td>0.001095</td>\n",
       "      <td>0.000950</td>\n",
       "      <td>0.000878</td>\n",
       "      <td>0.989563</td>\n",
       "      <td>0.001965</td>\n",
       "      <td>0.001023</td>\n",
       "      <td>0.001023</td>\n",
       "      <td>0.001458</td>\n",
       "      <td>31</td>\n",
       "    </tr>\n",
       "    <tr>\n",
       "      <th>32</th>\n",
       "      <td>0.001655</td>\n",
       "      <td>0.001281</td>\n",
       "      <td>0.001430</td>\n",
       "      <td>0.980909</td>\n",
       "      <td>0.003453</td>\n",
       "      <td>0.003528</td>\n",
       "      <td>0.001805</td>\n",
       "      <td>0.001131</td>\n",
       "      <td>0.003078</td>\n",
       "      <td>0.001730</td>\n",
       "      <td>32</td>\n",
       "    </tr>\n",
       "    <tr>\n",
       "      <th>33</th>\n",
       "      <td>0.002869</td>\n",
       "      <td>0.003515</td>\n",
       "      <td>0.002223</td>\n",
       "      <td>0.002592</td>\n",
       "      <td>0.013662</td>\n",
       "      <td>0.960895</td>\n",
       "      <td>0.004345</td>\n",
       "      <td>0.003146</td>\n",
       "      <td>0.002961</td>\n",
       "      <td>0.003792</td>\n",
       "      <td>33</td>\n",
       "    </tr>\n",
       "    <tr>\n",
       "      <th>34</th>\n",
       "      <td>0.004398</td>\n",
       "      <td>0.003431</td>\n",
       "      <td>0.002910</td>\n",
       "      <td>0.003058</td>\n",
       "      <td>0.006407</td>\n",
       "      <td>0.004026</td>\n",
       "      <td>0.958930</td>\n",
       "      <td>0.005142</td>\n",
       "      <td>0.004844</td>\n",
       "      <td>0.006854</td>\n",
       "      <td>34</td>\n",
       "    </tr>\n",
       "    <tr>\n",
       "      <th>35</th>\n",
       "      <td>0.008272</td>\n",
       "      <td>0.904491</td>\n",
       "      <td>0.005480</td>\n",
       "      <td>0.009087</td>\n",
       "      <td>0.012112</td>\n",
       "      <td>0.011763</td>\n",
       "      <td>0.007574</td>\n",
       "      <td>0.022118</td>\n",
       "      <td>0.009901</td>\n",
       "      <td>0.009203</td>\n",
       "      <td>35</td>\n",
       "    </tr>\n",
       "    <tr>\n",
       "      <th>36</th>\n",
       "      <td>0.173455</td>\n",
       "      <td>0.056740</td>\n",
       "      <td>0.061570</td>\n",
       "      <td>0.091451</td>\n",
       "      <td>0.054718</td>\n",
       "      <td>0.147506</td>\n",
       "      <td>0.058762</td>\n",
       "      <td>0.130544</td>\n",
       "      <td>0.167502</td>\n",
       "      <td>0.057751</td>\n",
       "      <td>36</td>\n",
       "    </tr>\n",
       "    <tr>\n",
       "      <th>37</th>\n",
       "      <td>0.001492</td>\n",
       "      <td>0.002085</td>\n",
       "      <td>0.001888</td>\n",
       "      <td>0.002184</td>\n",
       "      <td>0.001690</td>\n",
       "      <td>0.980144</td>\n",
       "      <td>0.001987</td>\n",
       "      <td>0.002085</td>\n",
       "      <td>0.003173</td>\n",
       "      <td>0.003271</td>\n",
       "      <td>37</td>\n",
       "    </tr>\n",
       "    <tr>\n",
       "      <th>38</th>\n",
       "      <td>0.000919</td>\n",
       "      <td>0.000828</td>\n",
       "      <td>0.001283</td>\n",
       "      <td>0.001920</td>\n",
       "      <td>0.000919</td>\n",
       "      <td>0.989910</td>\n",
       "      <td>0.001192</td>\n",
       "      <td>0.001010</td>\n",
       "      <td>0.000737</td>\n",
       "      <td>0.001283</td>\n",
       "      <td>38</td>\n",
       "    </tr>\n",
       "    <tr>\n",
       "      <th>39</th>\n",
       "      <td>0.002875</td>\n",
       "      <td>0.003284</td>\n",
       "      <td>0.003079</td>\n",
       "      <td>0.004512</td>\n",
       "      <td>0.002875</td>\n",
       "      <td>0.006353</td>\n",
       "      <td>0.002465</td>\n",
       "      <td>0.009115</td>\n",
       "      <td>0.002977</td>\n",
       "      <td>0.962465</td>\n",
       "      <td>39</td>\n",
       "    </tr>\n",
       "    <tr>\n",
       "      <th>40</th>\n",
       "      <td>0.001102</td>\n",
       "      <td>0.001024</td>\n",
       "      <td>0.000555</td>\n",
       "      <td>0.001571</td>\n",
       "      <td>0.000867</td>\n",
       "      <td>0.000867</td>\n",
       "      <td>0.001492</td>\n",
       "      <td>0.989850</td>\n",
       "      <td>0.001024</td>\n",
       "      <td>0.001649</td>\n",
       "      <td>40</td>\n",
       "    </tr>\n",
       "    <tr>\n",
       "      <th>41</th>\n",
       "      <td>0.002381</td>\n",
       "      <td>0.001843</td>\n",
       "      <td>0.002274</td>\n",
       "      <td>0.002058</td>\n",
       "      <td>0.001950</td>\n",
       "      <td>0.001304</td>\n",
       "      <td>0.001735</td>\n",
       "      <td>0.982231</td>\n",
       "      <td>0.002381</td>\n",
       "      <td>0.001843</td>\n",
       "      <td>41</td>\n",
       "    </tr>\n",
       "    <tr>\n",
       "      <th>42</th>\n",
       "      <td>0.002402</td>\n",
       "      <td>0.002619</td>\n",
       "      <td>0.003054</td>\n",
       "      <td>0.002619</td>\n",
       "      <td>0.004249</td>\n",
       "      <td>0.002728</td>\n",
       "      <td>0.002402</td>\n",
       "      <td>0.005444</td>\n",
       "      <td>0.003923</td>\n",
       "      <td>0.970561</td>\n",
       "      <td>42</td>\n",
       "    </tr>\n",
       "    <tr>\n",
       "      <th>43</th>\n",
       "      <td>0.009588</td>\n",
       "      <td>0.006536</td>\n",
       "      <td>0.010115</td>\n",
       "      <td>0.003589</td>\n",
       "      <td>0.012746</td>\n",
       "      <td>0.003694</td>\n",
       "      <td>0.007062</td>\n",
       "      <td>0.011167</td>\n",
       "      <td>0.010009</td>\n",
       "      <td>0.925492</td>\n",
       "      <td>43</td>\n",
       "    </tr>\n",
       "  </tbody>\n",
       "</table>\n",
       "</div>"
      ],
      "text/plain": [
       "     topic_1   topic_2   topic_3   topic_4   topic_5   topic_6   topic_7  \\\n",
       "0   0.120549  0.137997  0.095670  0.085331  0.112472  0.090178  0.069822   \n",
       "1   0.077171  0.097207  0.084457  0.111172  0.129994  0.089921  0.094778   \n",
       "2   0.073793  0.107676  0.096882  0.145157  0.090585  0.103478  0.081889   \n",
       "3   0.097325  0.116778  0.096717  0.074225  0.118602  0.086991  0.122249   \n",
       "4   0.082638  0.076950  0.109995  0.106473  0.095910  0.127871  0.103765   \n",
       "5   0.080952  0.084537  0.112698  0.109114  0.085049  0.116283  0.098874   \n",
       "6   0.071748  0.094090  0.083640  0.121117  0.103459  0.123640  0.108865   \n",
       "7   0.142429  0.089495  0.093599  0.101395  0.112474  0.109192  0.097292   \n",
       "8   0.159104  0.059435  0.073549  0.091845  0.167642  0.094459  0.092020   \n",
       "9   0.092516  0.099569  0.135619  0.109757  0.071356  0.084679  0.098393   \n",
       "10  0.133185  0.089450  0.074991  0.098733  0.065887  0.092306  0.220296   \n",
       "11  0.093947  0.161897  0.133836  0.078177  0.076090  0.069133  0.103224   \n",
       "12  0.087877  0.129695  0.101766  0.068101  0.077763  0.066440  0.274925   \n",
       "13  0.049883  0.114381  0.046811  0.046811  0.042656  0.061084  0.454761   \n",
       "14  0.046953  0.063318  0.057935  0.056212  0.374365  0.077099  0.127056   \n",
       "15  0.041350  0.039144  0.039291  0.040762  0.453678  0.072683  0.063563   \n",
       "16  0.003220  0.001845  0.002762  0.001730  0.976862  0.002762  0.002762   \n",
       "17  0.081650  0.071742  0.077558  0.065927  0.245552  0.119126  0.070450   \n",
       "18  0.081000  0.129245  0.082116  0.039700  0.194853  0.077403  0.122423   \n",
       "19  0.120893  0.078596  0.108861  0.060547  0.068022  0.071851  0.268022   \n",
       "20  0.002093  0.002365  0.003452  0.001640  0.000915  0.001912  0.980437   \n",
       "21  0.082804  0.030875  0.047196  0.054169  0.057582  0.044822  0.546899   \n",
       "22  0.017547  0.008949  0.006460  0.007252  0.009967  0.011890  0.011551   \n",
       "23  0.111767  0.074415  0.066216  0.158837  0.114045  0.080185  0.068038   \n",
       "24  0.002528  0.005750  0.002427  0.002024  0.002628  0.004139  0.001722   \n",
       "25  0.002023  0.975548  0.002658  0.001917  0.001493  0.001493  0.001705   \n",
       "26  0.004272  0.004378  0.002994  0.002354  0.001822  0.002567  0.001928   \n",
       "27  0.985715  0.001623  0.000735  0.001139  0.001058  0.000977  0.002754   \n",
       "28  0.001143  0.000840  0.001068  0.000689  0.001068  0.001673  0.001446   \n",
       "29  0.005446  0.005909  0.004984  0.003249  0.003943  0.006140  0.015391   \n",
       "30  0.034834  0.035411  0.016460  0.014921  0.025599  0.766724  0.020308   \n",
       "31  0.001458  0.000587  0.001095  0.000950  0.000878  0.989563  0.001965   \n",
       "32  0.001655  0.001281  0.001430  0.980909  0.003453  0.003528  0.001805   \n",
       "33  0.002869  0.003515  0.002223  0.002592  0.013662  0.960895  0.004345   \n",
       "34  0.004398  0.003431  0.002910  0.003058  0.006407  0.004026  0.958930   \n",
       "35  0.008272  0.904491  0.005480  0.009087  0.012112  0.011763  0.007574   \n",
       "36  0.173455  0.056740  0.061570  0.091451  0.054718  0.147506  0.058762   \n",
       "37  0.001492  0.002085  0.001888  0.002184  0.001690  0.980144  0.001987   \n",
       "38  0.000919  0.000828  0.001283  0.001920  0.000919  0.989910  0.001192   \n",
       "39  0.002875  0.003284  0.003079  0.004512  0.002875  0.006353  0.002465   \n",
       "40  0.001102  0.001024  0.000555  0.001571  0.000867  0.000867  0.001492   \n",
       "41  0.002381  0.001843  0.002274  0.002058  0.001950  0.001304  0.001735   \n",
       "42  0.002402  0.002619  0.003054  0.002619  0.004249  0.002728  0.002402   \n",
       "43  0.009588  0.006536  0.010115  0.003589  0.012746  0.003694  0.007062   \n",
       "\n",
       "     topic_8   topic_9  topic_10  timepoint  \n",
       "0   0.100517  0.069822  0.117641          0  \n",
       "1   0.111779  0.111779  0.091743          1  \n",
       "2   0.082489  0.091184  0.126867          2  \n",
       "3   0.091246  0.097325  0.098541          3  \n",
       "4   0.099160  0.076679  0.120558          4  \n",
       "5   0.091193  0.104506  0.116795          5  \n",
       "6   0.082559  0.094450  0.116432          6  \n",
       "7   0.107550  0.067747  0.078826          7  \n",
       "8   0.082262  0.075815  0.103868          8  \n",
       "9   0.099177  0.110541  0.098393          9  \n",
       "10  0.066244  0.080703  0.078204         10  \n",
       "11  0.095571  0.066350  0.121776         11  \n",
       "12  0.054665  0.060251  0.078518         12  \n",
       "13  0.067407  0.052954  0.063252         13  \n",
       "14  0.043508  0.087435  0.066118         14  \n",
       "15  0.032966  0.097396  0.119167         15  \n",
       "16  0.002647  0.002647  0.002762         16  \n",
       "17  0.082942  0.094572  0.090480         17  \n",
       "18  0.078023  0.133834  0.061404         18  \n",
       "19  0.054166  0.065469  0.103573         19  \n",
       "20  0.003634  0.001278  0.002274         20  \n",
       "21  0.041855  0.051647  0.042151         21  \n",
       "22  0.008044  0.906901  0.011438         22  \n",
       "23  0.089447  0.098254  0.138794         23  \n",
       "24  0.003132  0.003333  0.972316         24  \n",
       "25  0.001705  0.003293  0.008165         25  \n",
       "26  0.003526  0.972526  0.003633         26  \n",
       "27  0.002834  0.002350  0.000816         27  \n",
       "28  0.989862  0.001143  0.001068         28  \n",
       "29  0.943467  0.006834  0.004637         29  \n",
       "30  0.027138  0.035892  0.022713         30  \n",
       "31  0.001023  0.001023  0.001458         31  \n",
       "32  0.001131  0.003078  0.001730         32  \n",
       "33  0.003146  0.002961  0.003792         33  \n",
       "34  0.005142  0.004844  0.006854         34  \n",
       "35  0.022118  0.009901  0.009203         35  \n",
       "36  0.130544  0.167502  0.057751         36  \n",
       "37  0.002085  0.003173  0.003271         37  \n",
       "38  0.001010  0.000737  0.001283         38  \n",
       "39  0.009115  0.002977  0.962465         39  \n",
       "40  0.989850  0.001024  0.001649         40  \n",
       "41  0.982231  0.002381  0.001843         41  \n",
       "42  0.005444  0.003923  0.970561         42  \n",
       "43  0.011167  0.010009  0.925492         43  "
      ]
     },
     "execution_count": 233,
     "metadata": {},
     "output_type": "execute_result"
    }
   ],
   "source": [
    "td = pd.DataFrame()\n",
    "for timepoint in range(best_mdl.num_timepoints):\n",
    "    td_tmp = pd.DataFrame(\n",
    "        np.stack([doc.get_topic_dist() for doc in best_mdl.docs if doc.timepoint == timepoint]),\n",
    "        columns=[\"topic_{}\".format(i + 1) for i in range(best_mdl.k)],\n",
    "    )\n",
    "    td_tmp[\"timepoint\"] = timepoint\n",
    "    td = pd.concat([td, td_tmp], ignore_index=True)\n",
    "    del td_tmp\n",
    "\n",
    "td"
   ]
  },
  {
   "cell_type": "code",
   "execution_count": 234,
   "metadata": {},
   "outputs": [],
   "source": [
    "# save td to csv\n",
    "td.to_csv('./main_df_output/MD_DTM_td_all_time.csv', index=False) \n",
    "wt.to_csv('./main_df_output/MD_DTM_wt_all_time.csv', index=False)"
   ]
  },
  {
   "cell_type": "code",
   "execution_count": 235,
   "metadata": {},
   "outputs": [
    {
     "data": {
      "application/vnd.plotly.v1+json": {
       "config": {
        "plotlyServerURL": "https://plot.ly"
       },
       "data": [
        {
         "hovertemplate": "variable=topic_1<br>timepoint=%{x}<br>value=%{y}<extra></extra>",
         "legendgroup": "topic_1",
         "line": {
          "color": "#636efa",
          "dash": "solid"
         },
         "marker": {
          "symbol": "circle"
         },
         "mode": "lines",
         "name": "topic_1",
         "orientation": "v",
         "showlegend": true,
         "type": "scatter",
         "x": [
          0,
          1,
          2,
          3,
          4,
          5,
          6,
          7,
          8,
          9,
          10,
          11,
          12,
          13,
          14,
          15,
          16,
          17,
          18,
          19,
          20,
          21,
          22,
          23,
          24,
          25,
          26,
          27,
          28,
          29,
          30,
          31,
          32,
          33,
          34,
          35,
          36,
          37,
          38,
          39,
          40,
          41,
          42,
          43
         ],
         "xaxis": "x",
         "y": [
          0.120549276471138,
          0.07717061042785645,
          0.07379310578107834,
          0.09732522815465927,
          0.08263813704252243,
          0.08095238357782364,
          0.07174775004386902,
          0.14242921769618988,
          0.1591043621301651,
          0.09251567721366882,
          0.13318456709384918,
          0.09394712746143341,
          0.08787741512060165,
          0.049882568418979645,
          0.04695305973291397,
          0.04135039821267128,
          0.0032202613074332476,
          0.0816497951745987,
          0.08099962770938873,
          0.12089334428310394,
          0.0020931498147547245,
          0.08280415087938309,
          0.017547234892845154,
          0.11176738142967224,
          0.002527693985030055,
          0.0020226624328643084,
          0.004271865356713533,
          0.985715389251709,
          0.0011432465398684144,
          0.005446346011012793,
          0.034834057092666626,
          0.001457789447158575,
          0.0016551828011870384,
          0.0028690036851912737,
          0.004397975746542215,
          0.00827225111424923,
          0.1734554022550583,
          0.0014923898270353675,
          0.000918933714274317,
          0.0028746803291141987,
          0.0011017346987500787,
          0.002381465630605817,
          0.0024016518145799637,
          0.00958846416324377
         ],
         "yaxis": "y"
        },
        {
         "hovertemplate": "variable=topic_2<br>timepoint=%{x}<br>value=%{y}<extra></extra>",
         "legendgroup": "topic_2",
         "line": {
          "color": "#EF553B",
          "dash": "solid"
         },
         "marker": {
          "symbol": "circle"
         },
         "mode": "lines",
         "name": "topic_2",
         "orientation": "v",
         "showlegend": true,
         "type": "scatter",
         "x": [
          0,
          1,
          2,
          3,
          4,
          5,
          6,
          7,
          8,
          9,
          10,
          11,
          12,
          13,
          14,
          15,
          16,
          17,
          18,
          19,
          20,
          21,
          22,
          23,
          24,
          25,
          26,
          27,
          28,
          29,
          30,
          31,
          32,
          33,
          34,
          35,
          36,
          37,
          38,
          39,
          40,
          41,
          42,
          43
         ],
         "xaxis": "x",
         "y": [
          0.13799677789211273,
          0.09720704704523087,
          0.10767616331577301,
          0.11677812039852142,
          0.07695016264915466,
          0.084536612033844,
          0.09409008920192719,
          0.08949528634548187,
          0.059435442090034485,
          0.09956897050142288,
          0.08945019543170929,
          0.16189701855182648,
          0.12969504296779633,
          0.11438120901584625,
          0.06331826001405716,
          0.039143867790699005,
          0.0018450607312843204,
          0.07174240797758102,
          0.12924470007419586,
          0.07859617471694946,
          0.002364987274631858,
          0.030875371769070625,
          0.008948976173996925,
          0.0744154304265976,
          0.005750251468271017,
          0.9755479693412781,
          0.0043783956207334995,
          0.0016230620676651597,
          0.0008403997635468841,
          0.00590888038277626,
          0.03541125729680061,
          0.000587467395234853,
          0.001280707074329257,
          0.0035147599410265684,
          0.0034305700100958347,
          0.9044910073280334,
          0.056740060448646545,
          0.002085392363369465,
          0.0008279501926153898,
          0.003283887403085828,
          0.001023597433231771,
          0.0018426724709570408,
          0.00261899596080184,
          0.006536154076457024
         ],
         "yaxis": "y"
        },
        {
         "hovertemplate": "variable=topic_3<br>timepoint=%{x}<br>value=%{y}<extra></extra>",
         "legendgroup": "topic_3",
         "line": {
          "color": "#00cc96",
          "dash": "solid"
         },
         "marker": {
          "symbol": "circle"
         },
         "mode": "lines",
         "name": "topic_3",
         "orientation": "v",
         "showlegend": true,
         "type": "scatter",
         "x": [
          0,
          1,
          2,
          3,
          4,
          5,
          6,
          7,
          8,
          9,
          10,
          11,
          12,
          13,
          14,
          15,
          16,
          17,
          18,
          19,
          20,
          21,
          22,
          23,
          24,
          25,
          26,
          27,
          28,
          29,
          30,
          31,
          32,
          33,
          34,
          35,
          36,
          37,
          38,
          39,
          40,
          41,
          42,
          43
         ],
         "xaxis": "x",
         "y": [
          0.0956704393029213,
          0.08445659279823303,
          0.09688156098127365,
          0.09671732783317566,
          0.10999458283185959,
          0.11269841343164444,
          0.08363964408636093,
          0.09359868615865707,
          0.07354939728975296,
          0.1356191188097,
          0.07499107718467712,
          0.1338358074426651,
          0.10176630318164825,
          0.04681120440363884,
          0.0579349659383297,
          0.03929096832871437,
          0.002761861076578498,
          0.07755761593580246,
          0.08211583644151688,
          0.10886052250862122,
          0.0034523375798016787,
          0.04719584807753563,
          0.0064600068144500256,
          0.06621621549129486,
          0.002426988910883665,
          0.00265805353410542,
          0.0029935017228126526,
          0.0007348191575147212,
          0.0010675349039956927,
          0.0049838111735880375,
          0.016459837555885315,
          0.0010951552540063858,
          0.001430497388355434,
          0.0022232471965253353,
          0.0029096591752022505,
          0.005479929968714714,
          0.0615704320371151,
          0.001887724851258099,
          0.0012828678591176867,
          0.003079283982515335,
          0.0005547741893678904,
          0.002273706952109933,
          0.0030536840204149485,
          0.01011472474783659
         ],
         "yaxis": "y"
        },
        {
         "hovertemplate": "variable=topic_4<br>timepoint=%{x}<br>value=%{y}<extra></extra>",
         "legendgroup": "topic_4",
         "line": {
          "color": "#ab63fa",
          "dash": "solid"
         },
         "marker": {
          "symbol": "circle"
         },
         "mode": "lines",
         "name": "topic_4",
         "orientation": "v",
         "showlegend": true,
         "type": "scatter",
         "x": [
          0,
          1,
          2,
          3,
          4,
          5,
          6,
          7,
          8,
          9,
          10,
          11,
          12,
          13,
          14,
          15,
          16,
          17,
          18,
          19,
          20,
          21,
          22,
          23,
          24,
          25,
          26,
          27,
          28,
          29,
          30,
          31,
          32,
          33,
          34,
          35,
          36,
          37,
          38,
          39,
          40,
          41,
          42,
          43
         ],
         "xaxis": "x",
         "y": [
          0.08533117920160294,
          0.11117183417081833,
          0.14515742659568787,
          0.07422492653131485,
          0.10647346079349518,
          0.10911418497562408,
          0.12111712247133255,
          0.10139515995979309,
          0.09184526652097702,
          0.10975705832242966,
          0.098732590675354,
          0.07817718386650085,
          0.06810084730386734,
          0.04681120440363884,
          0.05621231347322464,
          0.04076198861002922,
          0.0017304607899859548,
          0.06592720001935959,
          0.03969986364245415,
          0.06054694578051567,
          0.0016400869935750961,
          0.05416914075613022,
          0.00725195137783885,
          0.15883691608905792,
          0.002024169312790036,
          0.0019167638383805752,
          0.002354319905862212,
          0.0011385659454390407,
          0.0006889764335937798,
          0.003249306231737137,
          0.014920635148882866,
          0.0009501015883870423,
          0.9809091687202454,
          0.0025922509375959635,
          0.0030584908090531826,
          0.009086677804589272,
          0.09145135432481766,
          0.0021842261776328087,
          0.001919752568937838,
          0.004511508625000715,
          0.0015705579426139593,
          0.002058189595118165,
          0.00261899596080184,
          0.0035890957806259394
         ],
         "yaxis": "y"
        },
        {
         "hovertemplate": "variable=topic_5<br>timepoint=%{x}<br>value=%{y}<extra></extra>",
         "legendgroup": "topic_5",
         "line": {
          "color": "#FFA15A",
          "dash": "solid"
         },
         "marker": {
          "symbol": "circle"
         },
         "mode": "lines",
         "name": "topic_5",
         "orientation": "v",
         "showlegend": true,
         "type": "scatter",
         "x": [
          0,
          1,
          2,
          3,
          4,
          5,
          6,
          7,
          8,
          9,
          10,
          11,
          12,
          13,
          14,
          15,
          16,
          17,
          18,
          19,
          20,
          21,
          22,
          23,
          24,
          25,
          26,
          27,
          28,
          29,
          30,
          31,
          32,
          33,
          34,
          35,
          36,
          37,
          38,
          39,
          40,
          41,
          42,
          43
         ],
         "xaxis": "x",
         "y": [
          0.11247172951698303,
          0.12999393045902252,
          0.09058471024036407,
          0.11860182881355286,
          0.09591007977724075,
          0.08504864573478699,
          0.10345946252346039,
          0.11247435957193375,
          0.16764244437217712,
          0.07135580480098724,
          0.06588718295097351,
          0.07608998566865921,
          0.0777626782655716,
          0.0426558293402195,
          0.37436479330062866,
          0.45367756485939026,
          0.9768621921539307,
          0.2455524355173111,
          0.1948530226945877,
          0.06802187860012054,
          0.0009151867125183344,
          0.05758160352706909,
          0.009967191144824028,
          0.11404494196176529,
          0.0026283988263458014,
          0.0014931695768609643,
          0.001821668352931738,
          0.0010578165529295802,
          0.0010675349039956927,
          0.003943108022212982,
          0.02559884637594223,
          0.0008775747264735401,
          0.0034526661038398743,
          0.013662362471222878,
          0.0064072031527757645,
          0.012111692689359188,
          0.05471803992986679,
          0.0016900573391467333,
          0.000918933714274317,
          0.0028746803291141987,
          0.0008673230768181384,
          0.001950431033037603,
          0.004249075893312693,
          0.012746026739478111
         ],
         "yaxis": "y"
        },
        {
         "hovertemplate": "variable=topic_6<br>timepoint=%{x}<br>value=%{y}<extra></extra>",
         "legendgroup": "topic_6",
         "line": {
          "color": "#19d3f3",
          "dash": "solid"
         },
         "marker": {
          "symbol": "circle"
         },
         "mode": "lines",
         "name": "topic_6",
         "orientation": "v",
         "showlegend": true,
         "type": "scatter",
         "x": [
          0,
          1,
          2,
          3,
          4,
          5,
          6,
          7,
          8,
          9,
          10,
          11,
          12,
          13,
          14,
          15,
          16,
          17,
          18,
          19,
          20,
          21,
          22,
          23,
          24,
          25,
          26,
          27,
          28,
          29,
          30,
          31,
          32,
          33,
          34,
          35,
          36,
          37,
          38,
          39,
          40,
          41,
          42,
          43
         ],
         "xaxis": "x",
         "y": [
          0.09017770737409592,
          0.08992107212543488,
          0.10347826033830643,
          0.08699088543653488,
          0.1278710812330246,
          0.1162826418876648,
          0.12363964319229126,
          0.10919163376092911,
          0.09445895999670029,
          0.08467868715524673,
          0.09230631589889526,
          0.06913265585899353,
          0.06644021719694138,
          0.06108401343226433,
          0.07709947973489761,
          0.07268314063549042,
          0.002761861076578498,
          0.11912555992603302,
          0.07740294933319092,
          0.0718505010008812,
          0.0019119246862828732,
          0.04482195898890495,
          0.01189048495143652,
          0.08018523454666138,
          0.004138972610235214,
          0.0014931695768609643,
          0.0025673804339021444,
          0.0009770671604201198,
          0.0016732283402234316,
          0.006140147801488638,
          0.7667244076728821,
          0.9895633459091187,
          0.003527561202645302,
          0.9608948230743408,
          0.004025896545499563,
          0.011762652546167374,
          0.14750617742538452,
          0.9801442623138428,
          0.9899098873138428,
          0.0063529410399496555,
          0.0008673230768181384,
          0.0013038793113082647,
          0.002727668033912778,
          0.0036943478044122458
         ],
         "yaxis": "y"
        },
        {
         "hovertemplate": "variable=topic_7<br>timepoint=%{x}<br>value=%{y}<extra></extra>",
         "legendgroup": "topic_7",
         "line": {
          "color": "#FF6692",
          "dash": "solid"
         },
         "marker": {
          "symbol": "circle"
         },
         "mode": "lines",
         "name": "topic_7",
         "orientation": "v",
         "showlegend": true,
         "type": "scatter",
         "x": [
          0,
          1,
          2,
          3,
          4,
          5,
          6,
          7,
          8,
          9,
          10,
          11,
          12,
          13,
          14,
          15,
          16,
          17,
          18,
          19,
          20,
          21,
          22,
          23,
          24,
          25,
          26,
          27,
          28,
          29,
          30,
          31,
          32,
          33,
          34,
          35,
          36,
          37,
          38,
          39,
          40,
          41,
          42,
          43
         ],
         "xaxis": "x",
         "y": [
          0.069822296500206,
          0.0947783887386322,
          0.08188905566930771,
          0.12224924564361572,
          0.10376489907503128,
          0.09887353330850601,
          0.10886486619710922,
          0.09729175269603729,
          0.09201951324939728,
          0.09839341789484024,
          0.22029632329940796,
          0.10322356224060059,
          0.27492451667785645,
          0.4547606408596039,
          0.12705641984939575,
          0.06356281042098999,
          0.002761861076578498,
          0.07045014202594757,
          0.12242341041564941,
          0.2680218815803528,
          0.9804367423057556,
          0.546899139881134,
          0.011551080271601677,
          0.06803826242685318,
          0.0017220544395968318,
          0.0017049666494131088,
          0.001928198616951704,
          0.002753552747890353,
          0.0014460933161899447,
          0.015390842221677303,
          0.020307840779423714,
          0.0019654773641377687,
          0.0018049731152132154,
          0.004345018416643143,
          0.9589298963546753,
          0.007574170827865601,
          0.0587620735168457,
          0.001986558549106121,
          0.0011918842792510986,
          0.0024654732551425695,
          0.0014924206770956516,
          0.0017349137924611568,
          0.0024016518145799637,
          0.0070624141953885555
         ],
         "yaxis": "y"
        },
        {
         "hovertemplate": "variable=topic_8<br>timepoint=%{x}<br>value=%{y}<extra></extra>",
         "legendgroup": "topic_8",
         "line": {
          "color": "#B6E880",
          "dash": "solid"
         },
         "marker": {
          "symbol": "circle"
         },
         "mode": "lines",
         "name": "topic_8",
         "orientation": "v",
         "showlegend": true,
         "type": "scatter",
         "x": [
          0,
          1,
          2,
          3,
          4,
          5,
          6,
          7,
          8,
          9,
          10,
          11,
          12,
          13,
          14,
          15,
          16,
          17,
          18,
          19,
          20,
          21,
          22,
          23,
          24,
          25,
          26,
          27,
          28,
          29,
          30,
          31,
          32,
          33,
          34,
          35,
          36,
          37,
          38,
          39,
          40,
          41,
          42,
          43
         ],
         "xaxis": "x",
         "y": [
          0.10051696747541428,
          0.11177899688482285,
          0.0824887603521347,
          0.09124620258808136,
          0.09916035085916519,
          0.09119304269552231,
          0.08255855739116669,
          0.10755027085542679,
          0.08226171880960464,
          0.09917711466550827,
          0.0662441998720169,
          0.09557050466537476,
          0.05466485768556595,
          0.06740740686655045,
          0.04350775107741356,
          0.03296557813882828,
          0.0026472611352801323,
          0.08294206112623215,
          0.07802306860685349,
          0.054165907204151154,
          0.00363356270827353,
          0.041854601353406906,
          0.008043896406888962,
          0.08944731205701828,
          0.00313192349858582,
          0.0017049666494131088,
          0.003526153042912483,
          0.0028343021403998137,
          0.9898622035980225,
          0.9434667229652405,
          0.02713804692029953,
          0.0010226283920928836,
          0.00113091676030308,
          0.003145756432786584,
          0.00514213414862752,
          0.022117510437965393,
          0.13054369390010834,
          0.002085392363369465,
          0.0010099172359332442,
          0.009115089662373066,
          0.9898499250411987,
          0.982230544090271,
          0.005444468464702368,
          0.011167244985699654
         ],
         "yaxis": "y"
        },
        {
         "hovertemplate": "variable=topic_9<br>timepoint=%{x}<br>value=%{y}<extra></extra>",
         "legendgroup": "topic_9",
         "line": {
          "color": "#FF97FF",
          "dash": "solid"
         },
         "marker": {
          "symbol": "circle"
         },
         "mode": "lines",
         "name": "topic_9",
         "orientation": "v",
         "showlegend": true,
         "type": "scatter",
         "x": [
          0,
          1,
          2,
          3,
          4,
          5,
          6,
          7,
          8,
          9,
          10,
          11,
          12,
          13,
          14,
          15,
          16,
          17,
          18,
          19,
          20,
          21,
          22,
          23,
          24,
          25,
          26,
          27,
          28,
          29,
          30,
          31,
          32,
          33,
          34,
          35,
          36,
          37,
          38,
          39,
          40,
          41,
          42,
          43
         ],
         "xaxis": "x",
         "y": [
          0.069822296500206,
          0.11177899688482285,
          0.09118440747261047,
          0.09732522815465927,
          0.07667931169271469,
          0.10450588911771774,
          0.0944504514336586,
          0.06774723529815674,
          0.07581460475921631,
          0.11054075509309769,
          0.08070331811904907,
          0.06634972244501114,
          0.06025060638785362,
          0.05295393243432045,
          0.08743539452552795,
          0.09739629179239273,
          0.0026472611352801323,
          0.09457247704267502,
          0.13383355736732483,
          0.06546946614980698,
          0.0012776368530467153,
          0.0516468845307827,
          0.9069012403488159,
          0.09825386852025986,
          0.003333333181217313,
          0.0032934448681771755,
          0.9725257754325867,
          0.0023498062510043383,
          0.0011432465398684144,
          0.006833950057625771,
          0.03589225560426712,
          0.0010226283920928836,
          0.003078190376982093,
          0.002961254445835948,
          0.004844470880925655,
          0.009901105426251888,
          0.16750168800354004,
          0.003172563621774316,
          0.0007369666709564626,
          0.002976982155814767,
          0.001023597433231771,
          0.002381465630605817,
          0.003923059906810522,
          0.010009472258388996
         ],
         "yaxis": "y"
        },
        {
         "hovertemplate": "variable=topic_10<br>timepoint=%{x}<br>value=%{y}<extra></extra>",
         "legendgroup": "topic_10",
         "line": {
          "color": "#FECB52",
          "dash": "solid"
         },
         "marker": {
          "symbol": "circle"
         },
         "mode": "lines",
         "name": "topic_10",
         "orientation": "v",
         "showlegend": true,
         "type": "scatter",
         "x": [
          0,
          1,
          2,
          3,
          4,
          5,
          6,
          7,
          8,
          9,
          10,
          11,
          12,
          13,
          14,
          15,
          16,
          17,
          18,
          19,
          20,
          21,
          22,
          23,
          24,
          25,
          26,
          27,
          28,
          29,
          30,
          31,
          32,
          33,
          34,
          35,
          36,
          37,
          38,
          39,
          40,
          41,
          42,
          43
         ],
         "xaxis": "x",
         "y": [
          0.11764135956764221,
          0.09174256771802902,
          0.12686656415462494,
          0.09854103624820709,
          0.12055796384811401,
          0.11679467558860779,
          0.11643243581056595,
          0.0788264274597168,
          0.103868268430233,
          0.09839341789484024,
          0.0782042145729065,
          0.12177643179893494,
          0.07851751148700714,
          0.0632520318031311,
          0.06611756980419159,
          0.11916739493608475,
          0.002761861076578498,
          0.09048029780387878,
          0.061403945088386536,
          0.10357337445020676,
          0.002274374710395932,
          0.04215133562684059,
          0.011437945067882538,
          0.138794407248497,
          0.9723161458969116,
          0.008164778351783752,
          0.0036326833069324493,
          0.0008155684918165207,
          0.0010675349039956927,
          0.004636910278350115,
          0.022712843492627144,
          0.001457789447158575,
          0.001730077899992466,
          0.0037915126886218786,
          0.0068536982871592045,
          0.00920302513986826,
          0.057751063257455826,
          0.0032713974360376596,
          0.0012828678591176867,
          0.9624654054641724,
          0.0016486950917169452,
          0.0018426724709570408,
          0.9705607295036316,
          0.925491988658905
         ],
         "yaxis": "y"
        }
       ],
       "layout": {
        "legend": {
         "title": {
          "text": "variable"
         },
         "tracegroupgap": 0
        },
        "template": {
         "data": {
          "bar": [
           {
            "error_x": {
             "color": "#2a3f5f"
            },
            "error_y": {
             "color": "#2a3f5f"
            },
            "marker": {
             "line": {
              "color": "#E5ECF6",
              "width": 0.5
             },
             "pattern": {
              "fillmode": "overlay",
              "size": 10,
              "solidity": 0.2
             }
            },
            "type": "bar"
           }
          ],
          "barpolar": [
           {
            "marker": {
             "line": {
              "color": "#E5ECF6",
              "width": 0.5
             },
             "pattern": {
              "fillmode": "overlay",
              "size": 10,
              "solidity": 0.2
             }
            },
            "type": "barpolar"
           }
          ],
          "carpet": [
           {
            "aaxis": {
             "endlinecolor": "#2a3f5f",
             "gridcolor": "white",
             "linecolor": "white",
             "minorgridcolor": "white",
             "startlinecolor": "#2a3f5f"
            },
            "baxis": {
             "endlinecolor": "#2a3f5f",
             "gridcolor": "white",
             "linecolor": "white",
             "minorgridcolor": "white",
             "startlinecolor": "#2a3f5f"
            },
            "type": "carpet"
           }
          ],
          "choropleth": [
           {
            "colorbar": {
             "outlinewidth": 0,
             "ticks": ""
            },
            "type": "choropleth"
           }
          ],
          "contour": [
           {
            "colorbar": {
             "outlinewidth": 0,
             "ticks": ""
            },
            "colorscale": [
             [
              0,
              "#0d0887"
             ],
             [
              0.1111111111111111,
              "#46039f"
             ],
             [
              0.2222222222222222,
              "#7201a8"
             ],
             [
              0.3333333333333333,
              "#9c179e"
             ],
             [
              0.4444444444444444,
              "#bd3786"
             ],
             [
              0.5555555555555556,
              "#d8576b"
             ],
             [
              0.6666666666666666,
              "#ed7953"
             ],
             [
              0.7777777777777778,
              "#fb9f3a"
             ],
             [
              0.8888888888888888,
              "#fdca26"
             ],
             [
              1,
              "#f0f921"
             ]
            ],
            "type": "contour"
           }
          ],
          "contourcarpet": [
           {
            "colorbar": {
             "outlinewidth": 0,
             "ticks": ""
            },
            "type": "contourcarpet"
           }
          ],
          "heatmap": [
           {
            "colorbar": {
             "outlinewidth": 0,
             "ticks": ""
            },
            "colorscale": [
             [
              0,
              "#0d0887"
             ],
             [
              0.1111111111111111,
              "#46039f"
             ],
             [
              0.2222222222222222,
              "#7201a8"
             ],
             [
              0.3333333333333333,
              "#9c179e"
             ],
             [
              0.4444444444444444,
              "#bd3786"
             ],
             [
              0.5555555555555556,
              "#d8576b"
             ],
             [
              0.6666666666666666,
              "#ed7953"
             ],
             [
              0.7777777777777778,
              "#fb9f3a"
             ],
             [
              0.8888888888888888,
              "#fdca26"
             ],
             [
              1,
              "#f0f921"
             ]
            ],
            "type": "heatmap"
           }
          ],
          "heatmapgl": [
           {
            "colorbar": {
             "outlinewidth": 0,
             "ticks": ""
            },
            "colorscale": [
             [
              0,
              "#0d0887"
             ],
             [
              0.1111111111111111,
              "#46039f"
             ],
             [
              0.2222222222222222,
              "#7201a8"
             ],
             [
              0.3333333333333333,
              "#9c179e"
             ],
             [
              0.4444444444444444,
              "#bd3786"
             ],
             [
              0.5555555555555556,
              "#d8576b"
             ],
             [
              0.6666666666666666,
              "#ed7953"
             ],
             [
              0.7777777777777778,
              "#fb9f3a"
             ],
             [
              0.8888888888888888,
              "#fdca26"
             ],
             [
              1,
              "#f0f921"
             ]
            ],
            "type": "heatmapgl"
           }
          ],
          "histogram": [
           {
            "marker": {
             "pattern": {
              "fillmode": "overlay",
              "size": 10,
              "solidity": 0.2
             }
            },
            "type": "histogram"
           }
          ],
          "histogram2d": [
           {
            "colorbar": {
             "outlinewidth": 0,
             "ticks": ""
            },
            "colorscale": [
             [
              0,
              "#0d0887"
             ],
             [
              0.1111111111111111,
              "#46039f"
             ],
             [
              0.2222222222222222,
              "#7201a8"
             ],
             [
              0.3333333333333333,
              "#9c179e"
             ],
             [
              0.4444444444444444,
              "#bd3786"
             ],
             [
              0.5555555555555556,
              "#d8576b"
             ],
             [
              0.6666666666666666,
              "#ed7953"
             ],
             [
              0.7777777777777778,
              "#fb9f3a"
             ],
             [
              0.8888888888888888,
              "#fdca26"
             ],
             [
              1,
              "#f0f921"
             ]
            ],
            "type": "histogram2d"
           }
          ],
          "histogram2dcontour": [
           {
            "colorbar": {
             "outlinewidth": 0,
             "ticks": ""
            },
            "colorscale": [
             [
              0,
              "#0d0887"
             ],
             [
              0.1111111111111111,
              "#46039f"
             ],
             [
              0.2222222222222222,
              "#7201a8"
             ],
             [
              0.3333333333333333,
              "#9c179e"
             ],
             [
              0.4444444444444444,
              "#bd3786"
             ],
             [
              0.5555555555555556,
              "#d8576b"
             ],
             [
              0.6666666666666666,
              "#ed7953"
             ],
             [
              0.7777777777777778,
              "#fb9f3a"
             ],
             [
              0.8888888888888888,
              "#fdca26"
             ],
             [
              1,
              "#f0f921"
             ]
            ],
            "type": "histogram2dcontour"
           }
          ],
          "mesh3d": [
           {
            "colorbar": {
             "outlinewidth": 0,
             "ticks": ""
            },
            "type": "mesh3d"
           }
          ],
          "parcoords": [
           {
            "line": {
             "colorbar": {
              "outlinewidth": 0,
              "ticks": ""
             }
            },
            "type": "parcoords"
           }
          ],
          "pie": [
           {
            "automargin": true,
            "type": "pie"
           }
          ],
          "scatter": [
           {
            "fillpattern": {
             "fillmode": "overlay",
             "size": 10,
             "solidity": 0.2
            },
            "type": "scatter"
           }
          ],
          "scatter3d": [
           {
            "line": {
             "colorbar": {
              "outlinewidth": 0,
              "ticks": ""
             }
            },
            "marker": {
             "colorbar": {
              "outlinewidth": 0,
              "ticks": ""
             }
            },
            "type": "scatter3d"
           }
          ],
          "scattercarpet": [
           {
            "marker": {
             "colorbar": {
              "outlinewidth": 0,
              "ticks": ""
             }
            },
            "type": "scattercarpet"
           }
          ],
          "scattergeo": [
           {
            "marker": {
             "colorbar": {
              "outlinewidth": 0,
              "ticks": ""
             }
            },
            "type": "scattergeo"
           }
          ],
          "scattergl": [
           {
            "marker": {
             "colorbar": {
              "outlinewidth": 0,
              "ticks": ""
             }
            },
            "type": "scattergl"
           }
          ],
          "scattermapbox": [
           {
            "marker": {
             "colorbar": {
              "outlinewidth": 0,
              "ticks": ""
             }
            },
            "type": "scattermapbox"
           }
          ],
          "scatterpolar": [
           {
            "marker": {
             "colorbar": {
              "outlinewidth": 0,
              "ticks": ""
             }
            },
            "type": "scatterpolar"
           }
          ],
          "scatterpolargl": [
           {
            "marker": {
             "colorbar": {
              "outlinewidth": 0,
              "ticks": ""
             }
            },
            "type": "scatterpolargl"
           }
          ],
          "scatterternary": [
           {
            "marker": {
             "colorbar": {
              "outlinewidth": 0,
              "ticks": ""
             }
            },
            "type": "scatterternary"
           }
          ],
          "surface": [
           {
            "colorbar": {
             "outlinewidth": 0,
             "ticks": ""
            },
            "colorscale": [
             [
              0,
              "#0d0887"
             ],
             [
              0.1111111111111111,
              "#46039f"
             ],
             [
              0.2222222222222222,
              "#7201a8"
             ],
             [
              0.3333333333333333,
              "#9c179e"
             ],
             [
              0.4444444444444444,
              "#bd3786"
             ],
             [
              0.5555555555555556,
              "#d8576b"
             ],
             [
              0.6666666666666666,
              "#ed7953"
             ],
             [
              0.7777777777777778,
              "#fb9f3a"
             ],
             [
              0.8888888888888888,
              "#fdca26"
             ],
             [
              1,
              "#f0f921"
             ]
            ],
            "type": "surface"
           }
          ],
          "table": [
           {
            "cells": {
             "fill": {
              "color": "#EBF0F8"
             },
             "line": {
              "color": "white"
             }
            },
            "header": {
             "fill": {
              "color": "#C8D4E3"
             },
             "line": {
              "color": "white"
             }
            },
            "type": "table"
           }
          ]
         },
         "layout": {
          "annotationdefaults": {
           "arrowcolor": "#2a3f5f",
           "arrowhead": 0,
           "arrowwidth": 1
          },
          "autotypenumbers": "strict",
          "coloraxis": {
           "colorbar": {
            "outlinewidth": 0,
            "ticks": ""
           }
          },
          "colorscale": {
           "diverging": [
            [
             0,
             "#8e0152"
            ],
            [
             0.1,
             "#c51b7d"
            ],
            [
             0.2,
             "#de77ae"
            ],
            [
             0.3,
             "#f1b6da"
            ],
            [
             0.4,
             "#fde0ef"
            ],
            [
             0.5,
             "#f7f7f7"
            ],
            [
             0.6,
             "#e6f5d0"
            ],
            [
             0.7,
             "#b8e186"
            ],
            [
             0.8,
             "#7fbc41"
            ],
            [
             0.9,
             "#4d9221"
            ],
            [
             1,
             "#276419"
            ]
           ],
           "sequential": [
            [
             0,
             "#0d0887"
            ],
            [
             0.1111111111111111,
             "#46039f"
            ],
            [
             0.2222222222222222,
             "#7201a8"
            ],
            [
             0.3333333333333333,
             "#9c179e"
            ],
            [
             0.4444444444444444,
             "#bd3786"
            ],
            [
             0.5555555555555556,
             "#d8576b"
            ],
            [
             0.6666666666666666,
             "#ed7953"
            ],
            [
             0.7777777777777778,
             "#fb9f3a"
            ],
            [
             0.8888888888888888,
             "#fdca26"
            ],
            [
             1,
             "#f0f921"
            ]
           ],
           "sequentialminus": [
            [
             0,
             "#0d0887"
            ],
            [
             0.1111111111111111,
             "#46039f"
            ],
            [
             0.2222222222222222,
             "#7201a8"
            ],
            [
             0.3333333333333333,
             "#9c179e"
            ],
            [
             0.4444444444444444,
             "#bd3786"
            ],
            [
             0.5555555555555556,
             "#d8576b"
            ],
            [
             0.6666666666666666,
             "#ed7953"
            ],
            [
             0.7777777777777778,
             "#fb9f3a"
            ],
            [
             0.8888888888888888,
             "#fdca26"
            ],
            [
             1,
             "#f0f921"
            ]
           ]
          },
          "colorway": [
           "#636efa",
           "#EF553B",
           "#00cc96",
           "#ab63fa",
           "#FFA15A",
           "#19d3f3",
           "#FF6692",
           "#B6E880",
           "#FF97FF",
           "#FECB52"
          ],
          "font": {
           "color": "#2a3f5f"
          },
          "geo": {
           "bgcolor": "white",
           "lakecolor": "white",
           "landcolor": "#E5ECF6",
           "showlakes": true,
           "showland": true,
           "subunitcolor": "white"
          },
          "hoverlabel": {
           "align": "left"
          },
          "hovermode": "closest",
          "mapbox": {
           "style": "light"
          },
          "paper_bgcolor": "white",
          "plot_bgcolor": "#E5ECF6",
          "polar": {
           "angularaxis": {
            "gridcolor": "white",
            "linecolor": "white",
            "ticks": ""
           },
           "bgcolor": "#E5ECF6",
           "radialaxis": {
            "gridcolor": "white",
            "linecolor": "white",
            "ticks": ""
           }
          },
          "scene": {
           "xaxis": {
            "backgroundcolor": "#E5ECF6",
            "gridcolor": "white",
            "gridwidth": 2,
            "linecolor": "white",
            "showbackground": true,
            "ticks": "",
            "zerolinecolor": "white"
           },
           "yaxis": {
            "backgroundcolor": "#E5ECF6",
            "gridcolor": "white",
            "gridwidth": 2,
            "linecolor": "white",
            "showbackground": true,
            "ticks": "",
            "zerolinecolor": "white"
           },
           "zaxis": {
            "backgroundcolor": "#E5ECF6",
            "gridcolor": "white",
            "gridwidth": 2,
            "linecolor": "white",
            "showbackground": true,
            "ticks": "",
            "zerolinecolor": "white"
           }
          },
          "shapedefaults": {
           "line": {
            "color": "#2a3f5f"
           }
          },
          "ternary": {
           "aaxis": {
            "gridcolor": "white",
            "linecolor": "white",
            "ticks": ""
           },
           "baxis": {
            "gridcolor": "white",
            "linecolor": "white",
            "ticks": ""
           },
           "bgcolor": "#E5ECF6",
           "caxis": {
            "gridcolor": "white",
            "linecolor": "white",
            "ticks": ""
           }
          },
          "title": {
           "x": 0.05
          },
          "xaxis": {
           "automargin": true,
           "gridcolor": "white",
           "linecolor": "white",
           "ticks": "",
           "title": {
            "standoff": 15
           },
           "zerolinecolor": "white",
           "zerolinewidth": 2
          },
          "yaxis": {
           "automargin": true,
           "gridcolor": "white",
           "linecolor": "white",
           "ticks": "",
           "title": {
            "standoff": 15
           },
           "zerolinecolor": "white",
           "zerolinewidth": 2
          }
         }
        },
        "title": {
         "text": "All Time Period Common Topics"
        },
        "xaxis": {
         "anchor": "y",
         "domain": [
          0,
          1
         ],
         "dtick": "M1",
         "tickformat": "%b %d",
         "ticklabelmode": "period",
         "title": {
          "text": "timepoint"
         }
        },
        "yaxis": {
         "anchor": "x",
         "domain": [
          0,
          1
         ],
         "title": {
          "text": "value"
         }
        }
       }
      }
     },
     "metadata": {},
     "output_type": "display_data"
    }
   ],
   "source": [
    "td = pd.DataFrame()\n",
    "for timepoint in range(best_mdl.num_timepoints):\n",
    "    td_tmp = pd.DataFrame(\n",
    "        np.stack([doc.get_topic_dist() for doc in best_mdl.docs if doc.timepoint == timepoint]),\n",
    "        columns=[\"topic_{}\".format(i + 1) for i in range(best_mdl.k)],\n",
    "    )\n",
    "    td_tmp[\"timepoint\"] = timepoint\n",
    "    td = pd.concat([td, td_tmp], ignore_index=True)\n",
    "    del td_tmp\n",
    "\n",
    "import plotly.express as px\n",
    "fig = px.line(td, x=\"timepoint\", y=td.columns,\n",
    "            #   hover_data={\"timepoint\": \"|%B %d, %Y\"},\n",
    "              title='All Time Period Common Topics')\n",
    "fig.update_xaxes(\n",
    "    dtick=\"M1\",\n",
    "    tickformat=\"%b %d\",\n",
    "    ticklabelmode=\"period\")\n",
    "fig.show()\n",
    "\n",
    "# save the figure to html\n",
    "fig.write_html('./main_df_output/MD_DTM_topic_plot.html')"
   ]
  },
  {
   "cell_type": "code",
   "execution_count": 237,
   "metadata": {},
   "outputs": [
    {
     "data": {
      "text/html": [
       "<div>\n",
       "<style scoped>\n",
       "    .dataframe tbody tr th:only-of-type {\n",
       "        vertical-align: middle;\n",
       "    }\n",
       "\n",
       "    .dataframe tbody tr th {\n",
       "        vertical-align: top;\n",
       "    }\n",
       "\n",
       "    .dataframe thead th {\n",
       "        text-align: right;\n",
       "    }\n",
       "</style>\n",
       "<table border=\"1\" class=\"dataframe\">\n",
       "  <thead>\n",
       "    <tr style=\"text-align: right;\">\n",
       "      <th></th>\n",
       "      <th>6</th>\n",
       "      <th>10</th>\n",
       "      <th>13</th>\n",
       "      <th>9</th>\n",
       "      <th>16</th>\n",
       "      <th>0</th>\n",
       "      <th>3</th>\n",
       "      <th>8</th>\n",
       "      <th>12</th>\n",
       "      <th>15</th>\n",
       "      <th>1</th>\n",
       "      <th>2</th>\n",
       "      <th>4</th>\n",
       "      <th>7</th>\n",
       "      <th>11</th>\n",
       "      <th>5</th>\n",
       "      <th>14</th>\n",
       "    </tr>\n",
       "  </thead>\n",
       "  <tbody>\n",
       "    <tr>\n",
       "      <th>word</th>\n",
       "      <td>inflation</td>\n",
       "      <td>pandemic</td>\n",
       "      <td>sustainability</td>\n",
       "      <td>mortality</td>\n",
       "      <td>wave</td>\n",
       "      <td>climate</td>\n",
       "      <td>death</td>\n",
       "      <td>legacy</td>\n",
       "      <td>resince</td>\n",
       "      <td>vaccine</td>\n",
       "      <td>crisis</td>\n",
       "      <td>cyber</td>\n",
       "      <td>framework</td>\n",
       "      <td>ivery</td>\n",
       "      <td>purpose</td>\n",
       "      <td>guarantee</td>\n",
       "      <td>transfer</td>\n",
       "    </tr>\n",
       "    <tr>\n",
       "      <th>prob</th>\n",
       "      <td>0.00661</td>\n",
       "      <td>0.0061</td>\n",
       "      <td>0.00462</td>\n",
       "      <td>0.00437</td>\n",
       "      <td>0.00292</td>\n",
       "      <td>0.00277</td>\n",
       "      <td>0.00275</td>\n",
       "      <td>0.00274</td>\n",
       "      <td>0.00268</td>\n",
       "      <td>0.00243</td>\n",
       "      <td>0.00239</td>\n",
       "      <td>0.00238</td>\n",
       "      <td>0.00232</td>\n",
       "      <td>0.0022</td>\n",
       "      <td>0.002185</td>\n",
       "      <td>0.00204</td>\n",
       "      <td>0.00204</td>\n",
       "    </tr>\n",
       "  </tbody>\n",
       "</table>\n",
       "</div>"
      ],
      "text/plain": [
       "             6         10              13         9        16       0   \\\n",
       "word  inflation  pandemic  sustainability  mortality     wave  climate   \n",
       "prob    0.00661    0.0061         0.00462    0.00437  0.00292  0.00277   \n",
       "\n",
       "           3        8        12       15       1        2          4       7   \\\n",
       "word    death   legacy  resince  vaccine   crisis    cyber  framework   ivery   \n",
       "prob  0.00275  0.00274  0.00268  0.00243  0.00239  0.00238    0.00232  0.0022   \n",
       "\n",
       "            11         5         14  \n",
       "word   purpose  guarantee  transfer  \n",
       "prob  0.002185    0.00204   0.00204  "
      ]
     },
     "execution_count": 237,
     "metadata": {},
     "output_type": "execute_result"
    }
   ],
   "source": [
    "test = wt[wt['k']==9]\n",
    "time_list = [39,42]\n",
    "test = test[test['timepoint'].isin(time_list)]\n",
    "# groupby word and get the average of prob\n",
    "test = test.groupby(['word'])['prob'].mean().reset_index()\n",
    "# sort by prob\n",
    "test.sort_values(by='prob', ascending=False, inplace=True)\n",
    "test.T"
   ]
  },
  {
   "cell_type": "code",
   "execution_count": 163,
   "metadata": {},
   "outputs": [
    {
     "data": {
      "text/html": [
       "<div>\n",
       "<style scoped>\n",
       "    .dataframe tbody tr th:only-of-type {\n",
       "        vertical-align: middle;\n",
       "    }\n",
       "\n",
       "    .dataframe tbody tr th {\n",
       "        vertical-align: top;\n",
       "    }\n",
       "\n",
       "    .dataframe thead th {\n",
       "        text-align: right;\n",
       "    }\n",
       "</style>\n",
       "<table border=\"1\" class=\"dataframe\">\n",
       "  <thead>\n",
       "    <tr style=\"text-align: right;\">\n",
       "      <th></th>\n",
       "      <th>8</th>\n",
       "      <th>14</th>\n",
       "      <th>3</th>\n",
       "      <th>5</th>\n",
       "      <th>15</th>\n",
       "      <th>1</th>\n",
       "      <th>7</th>\n",
       "      <th>20</th>\n",
       "      <th>18</th>\n",
       "      <th>0</th>\n",
       "      <th>19</th>\n",
       "      <th>16</th>\n",
       "      <th>17</th>\n",
       "      <th>11</th>\n",
       "      <th>10</th>\n",
       "      <th>22</th>\n",
       "      <th>12</th>\n",
       "      <th>9</th>\n",
       "      <th>4</th>\n",
       "      <th>13</th>\n",
       "      <th>21</th>\n",
       "      <th>6</th>\n",
       "      <th>2</th>\n",
       "    </tr>\n",
       "  </thead>\n",
       "  <tbody>\n",
       "    <tr>\n",
       "      <th>word</th>\n",
       "      <td>growth</td>\n",
       "      <td>loss</td>\n",
       "      <td>claim</td>\n",
       "      <td>customer</td>\n",
       "      <td>performance</td>\n",
       "      <td>capital</td>\n",
       "      <td>divid</td>\n",
       "      <td>segment</td>\n",
       "      <td>product</td>\n",
       "      <td>asset</td>\n",
       "      <td>profit</td>\n",
       "      <td>portfolio</td>\n",
       "      <td>premium</td>\n",
       "      <td>income</td>\n",
       "      <td>impact</td>\n",
       "      <td>target</td>\n",
       "      <td>increase</td>\n",
       "      <td>half</td>\n",
       "      <td>cost</td>\n",
       "      <td>inﬂation</td>\n",
       "      <td>share</td>\n",
       "      <td>development</td>\n",
       "      <td>cash</td>\n",
       "    </tr>\n",
       "    <tr>\n",
       "      <th>prob</th>\n",
       "      <td>0.019423</td>\n",
       "      <td>0.018685</td>\n",
       "      <td>0.01526</td>\n",
       "      <td>0.014873</td>\n",
       "      <td>0.01481</td>\n",
       "      <td>0.012922</td>\n",
       "      <td>0.01082</td>\n",
       "      <td>0.01067</td>\n",
       "      <td>0.01055</td>\n",
       "      <td>0.010425</td>\n",
       "      <td>0.01036</td>\n",
       "      <td>0.010252</td>\n",
       "      <td>0.010044</td>\n",
       "      <td>0.009495</td>\n",
       "      <td>0.009417</td>\n",
       "      <td>0.0091</td>\n",
       "      <td>0.009097</td>\n",
       "      <td>0.008645</td>\n",
       "      <td>0.00861</td>\n",
       "      <td>0.00808</td>\n",
       "      <td>0.00756</td>\n",
       "      <td>0.00754</td>\n",
       "      <td>0.00687</td>\n",
       "    </tr>\n",
       "  </tbody>\n",
       "</table>\n",
       "</div>"
      ],
      "text/plain": [
       "            8         14       3         5            15        1        7   \\\n",
       "word    growth      loss    claim  customer  performance   capital    divid   \n",
       "prob  0.019423  0.018685  0.01526  0.014873      0.01481  0.012922  0.01082   \n",
       "\n",
       "           20       18        0        19         16        17        11  \\\n",
       "word  segment  product     asset   profit  portfolio   premium    income   \n",
       "prob  0.01067  0.01055  0.010425  0.01036   0.010252  0.010044  0.009495   \n",
       "\n",
       "            10      22        12        9        4         13       21  \\\n",
       "word    impact  target  increase      half     cost  inﬂation    share   \n",
       "prob  0.009417  0.0091  0.009097  0.008645  0.00861   0.00808  0.00756   \n",
       "\n",
       "               6        2   \n",
       "word  development     cash  \n",
       "prob      0.00754  0.00687  "
      ]
     },
     "execution_count": 163,
     "metadata": {},
     "output_type": "execute_result"
    }
   ],
   "source": [
    "test = wt[wt['k']==1]\n",
    "time_list = [3,4,22,43,44,45]\n",
    "test = test[test['timepoint'].isin(time_list)]\n",
    "# groupby word and get the average of prob\n",
    "test = test.groupby(['word'])['prob'].mean().reset_index()\n",
    "# sort by prob\n",
    "test.sort_values(by='prob', ascending=False, inplace=True)\n",
    "test.T"
   ]
  },
  {
   "cell_type": "markdown",
   "metadata": {},
   "source": [
    "# During the early of time "
   ]
  },
  {
   "cell_type": "code",
   "execution_count": 136,
   "metadata": {},
   "outputs": [
    {
     "data": {
      "application/vnd.plotly.v1+json": {
       "config": {
        "plotlyServerURL": "https://plot.ly"
       },
       "data": [
        {
         "hovertemplate": "variable=topic_2<br>timepoint=%{x}<br>value=%{y}<extra></extra>",
         "legendgroup": "topic_2",
         "line": {
          "color": "#636efa",
          "dash": "solid"
         },
         "marker": {
          "symbol": "circle"
         },
         "mode": "lines",
         "name": "topic_2",
         "showlegend": true,
         "type": "scattergl",
         "x": [
          0,
          1,
          2,
          3,
          4,
          5,
          6,
          7,
          8,
          9,
          10,
          11,
          12,
          13,
          14,
          15,
          16,
          17,
          18,
          19,
          20,
          21,
          22,
          23,
          24,
          25,
          26,
          27,
          28,
          29,
          30,
          31,
          32,
          33,
          34,
          35,
          36,
          37,
          38,
          39,
          40,
          41,
          42,
          43,
          44,
          45
         ],
         "xaxis": "x",
         "y": [
          0.019071975722908974,
          0.02233649231493473,
          0.024860840290784836,
          0.020174428820610046,
          0.019974306225776672,
          0.01908494345843792,
          0.021283742040395737,
          0.021666647866368294,
          0.02145940437912941,
          0.0194549597799778,
          0.0010009066900238395,
          0.016192175447940826,
          0.00013490166747942567,
          0.0001072156082955189,
          0.000003142114792353823,
          0.00008684970816830173,
          0.0000032511127301404485,
          0.000005707209311367478,
          0.00003762780761462636,
          0.000005121455615153536,
          0.0000026942777822114294,
          0.000004450834239833057,
          0.0000032300056318490533,
          0.00004726974657387473,
          0.000031462102924706414,
          0.000037009998777648434,
          0.00006293322803685442,
          0.000028141846996732056,
          0.0000020826955733355135,
          0.00006966167711652815,
          0.00003060852759517729,
          0.00002571433287812397,
          0.0000022088854620960774,
          0.00003271696550655179,
          0.0000021562086658377666,
          0.0000751807019696571,
          0.00006405427120625973,
          0.0000034368160868325504,
          0.000058944555348716676,
          0.000003099170498899184,
          0.000026451401936355978,
          0.00003887379352818243,
          0.00006683491665171459,
          0.00003503552943584509,
          0.00028556425240822136,
          0.021474389359354973
         ],
         "yaxis": "y"
        },
        {
         "hovertemplate": "variable=topic_5<br>timepoint=%{x}<br>value=%{y}<extra></extra>",
         "legendgroup": "topic_5",
         "line": {
          "color": "#EF553B",
          "dash": "solid"
         },
         "marker": {
          "symbol": "circle"
         },
         "mode": "lines",
         "name": "topic_5",
         "showlegend": true,
         "type": "scattergl",
         "x": [
          0,
          1,
          2,
          3,
          4,
          5,
          6,
          7,
          8,
          9,
          10,
          11,
          12,
          13,
          14,
          15,
          16,
          17,
          18,
          19,
          20,
          21,
          22,
          23,
          24,
          25,
          26,
          27,
          28,
          29,
          30,
          31,
          32,
          33,
          34,
          35,
          36,
          37,
          38,
          39,
          40,
          41,
          42,
          43,
          44,
          45
         ],
         "xaxis": "x",
         "y": [
          0.018600130453705788,
          0.027871515601873398,
          0.016332406550645828,
          0.01791398972272873,
          0.023329269140958786,
          0.029445771127939224,
          0.02329903654754162,
          0.019031360745429993,
          0.015697110444307327,
          0.020021334290504456,
          0.00021485429897438735,
          0.04310236871242523,
          0.00035248504718765616,
          0.0000051055053518211935,
          0.000034563261579023674,
          0.00004549271034193225,
          0.00003576224116841331,
          0.000005707209311367478,
          0.00007183490379247814,
          0.00010755056428024545,
          0.0000026942777822114294,
          0.000004450834239833057,
          0.0000032300056318490533,
          0.00004726974657387473,
          0.0000028601912163139787,
          0.0000033645451367192436,
          0.00003296502472949214,
          0.000028141846996732056,
          0.0000020826955733355135,
          0.0000033172227631439455,
          0.000002782593355732388,
          0.000002337666728635668,
          0.000024297740310430527,
          0.0000029742698188783834,
          0.000023718295778962784,
          0.000003580033535399707,
          0.0000030502033041557297,
          0.0000034368160868325504,
          0.0000028068836854799883,
          0.00003409087366890162,
          0.000050498125347075984,
          0.00003887379352818243,
          0.000035008768463740125,
          0.0000031850481718720403,
          0.0013909743865951896,
          0.024263272061944008
         ],
         "yaxis": "y"
        },
        {
         "hovertemplate": "variable=topic_6<br>timepoint=%{x}<br>value=%{y}<extra></extra>",
         "legendgroup": "topic_6",
         "line": {
          "color": "#00cc96",
          "dash": "solid"
         },
         "marker": {
          "symbol": "circle"
         },
         "mode": "lines",
         "name": "topic_6",
         "showlegend": true,
         "type": "scattergl",
         "x": [
          0,
          1,
          2,
          3,
          4,
          5,
          6,
          7,
          8,
          9,
          10,
          11,
          12,
          13,
          14,
          15,
          16,
          17,
          18,
          19,
          20,
          21,
          22,
          23,
          24,
          25,
          26,
          27,
          28,
          29,
          30,
          31,
          32,
          33,
          34,
          35,
          36,
          37,
          38,
          39,
          40,
          41,
          42,
          43,
          44,
          45
         ],
         "xaxis": "x",
         "y": [
          0.02360168658196926,
          0.024121984839439392,
          0.015415371395647526,
          0.02413020096719265,
          0.02292012795805931,
          0.020436355844140053,
          0.029680799692869186,
          0.020177137106657028,
          0.01950434036552906,
          0.018039023503661156,
          0.0003720647655427456,
          0.02514030784368515,
          0.00013490166747942567,
          0.00015827066090423614,
          0.000003142114792353823,
          0.00000413570069213165,
          0.0000032511127301404485,
          0.000005707209311367478,
          0.00007183490379247814,
          0.000005121455615153536,
          0.0000026942777822114294,
          0.000004450834239833057,
          0.0000032300056318490533,
          0.000004297249688534066,
          0.0000028601912163139787,
          0.0001043008960550651,
          0.0000029968205126351677,
          0.0000025583497063053073,
          0.0000020826955733355135,
          0.0000033172227631439455,
          0.00003060852759517729,
          0.000049090998800238594,
          0.0000022088854620960774,
          0.00009220235369866714,
          0.000023718295778962784,
          0.00014678137085866183,
          0.0000030502033041557297,
          0.00003780497718253173,
          0.00003087572258664295,
          0.00003409087366890162,
          0.000026451401936355978,
          0.00007421359623549506,
          0.000035008768463740125,
          0.0000031850481718720403,
          0.00046979926992207766,
          0.018685508519411087
         ],
         "yaxis": "y"
        },
        {
         "hovertemplate": "variable=topic_7<br>timepoint=%{x}<br>value=%{y}<extra></extra>",
         "legendgroup": "topic_7",
         "line": {
          "color": "#ab63fa",
          "dash": "solid"
         },
         "marker": {
          "symbol": "circle"
         },
         "mode": "lines",
         "name": "topic_7",
         "showlegend": true,
         "type": "scattergl",
         "x": [
          0,
          1,
          2,
          3,
          4,
          5,
          6,
          7,
          8,
          9,
          10,
          11,
          12,
          13,
          14,
          15,
          16,
          17,
          18,
          19,
          20,
          21,
          22,
          23,
          24,
          25,
          26,
          27,
          28,
          29,
          30,
          31,
          32,
          33,
          34,
          35,
          36,
          37,
          38,
          39,
          40,
          41,
          42,
          43,
          44,
          45
         ],
         "xaxis": "x",
         "y": [
          0.026621496304869652,
          0.021265197545289993,
          0.03164690360426903,
          0.01942094974219799,
          0.016864828765392303,
          0.019385257735848427,
          0.020164133980870247,
          0.026593489572405815,
          0.01688043773174286,
          0.022098040208220482,
          0.0002672577975317836,
          0.01277082972228527,
          0.0000478683396067936,
          0.000056160562962759286,
          0.000003142114792353823,
          0.00004549271034193225,
          0.0000032511127301404485,
          0.000005707209311367478,
          0.00003762780761462636,
          0.000005121455615153536,
          0.000029637054467457347,
          0.000004450834239833057,
          0.0000032300056318490533,
          0.00009024223254527897,
          0.0000028601912163139787,
          0.000037009998777648434,
          0.00009290142770623788,
          0.0000025583497063053073,
          0.000043736603402066976,
          0.0000033172227631439455,
          0.000002782593355732388,
          0.000049090998800238594,
          0.0000022088854620960774,
          0.00006245965778362006,
          0.0000021562086658377666,
          0.00003938037116313353,
          0.00003355223816470243,
          0.0000034368160868325504,
          0.00003087572258664295,
          0.000003099170498899184,
          0.000050498125347075984,
          0.0001802330370992422,
          0.00006683491665171459,
          0.00006688600842608139,
          0.0005619167350232601,
          0.020544763654470444
         ],
         "yaxis": "y"
        },
        {
         "hovertemplate": "variable=topic_8<br>timepoint=%{x}<br>value=%{y}<extra></extra>",
         "legendgroup": "topic_8",
         "line": {
          "color": "#FFA15A",
          "dash": "solid"
         },
         "marker": {
          "symbol": "circle"
         },
         "mode": "lines",
         "name": "topic_8",
         "showlegend": true,
         "type": "scattergl",
         "x": [
          0,
          1,
          2,
          3,
          4,
          5,
          6,
          7,
          8,
          9,
          10,
          11,
          12,
          13,
          14,
          15,
          16,
          17,
          18,
          19,
          20,
          21,
          22,
          23,
          24,
          25,
          26,
          27,
          28,
          29,
          30,
          31,
          32,
          33,
          34,
          35,
          36,
          37,
          38,
          39,
          40,
          41,
          42,
          43,
          44,
          45
         ],
         "xaxis": "x",
         "y": [
          0.022374890744686127,
          0.020193902775645256,
          0.024585729464888573,
          0.019609319046139717,
          0.02521132118999958,
          0.02884514257311821,
          0.02363491803407669,
          0.0189167819917202,
          0.0178065225481987,
          0.024457933381199837,
          0.0003196612815372646,
          0.019547725096344948,
          0.00017841834051068872,
          0.000056160562962759286,
          0.000034563261579023674,
          0.00004549271034193225,
          0.00006827336619608104,
          0.000005707209311367478,
          0.00003762780761462636,
          0.0000563360117666889,
          0.0000026942777822114294,
          0.000004450834239833057,
          0.0000032300056318490533,
          0.0001761872263159603,
          0.0000028601912163139787,
          0.0001043008960550651,
          0.00003296502472949214,
          0.0000025583497063053073,
          0.000022909651306690648,
          0.00006966167711652815,
          0.00003060852759517729,
          0.000049090998800238594,
          0.000024297740310430527,
          0.00006245965778362006,
          0.0000021562086658377666,
          0.00003938037116313353,
          0.00003355223816470243,
          0.0000034368160868325504,
          0.0000028068836854799883,
          0.000003099170498899184,
          0.0000024046728412940865,
          0.00003887379352818243,
          0.000003182615500918473,
          0.00006688600842608139,
          0.0005619167350232601,
          0.01775588095188141
         ],
         "yaxis": "y"
        },
        {
         "hovertemplate": "variable=topic_10<br>timepoint=%{x}<br>value=%{y}<extra></extra>",
         "legendgroup": "topic_10",
         "line": {
          "color": "#19d3f3",
          "dash": "solid"
         },
         "marker": {
          "symbol": "circle"
         },
         "mode": "lines",
         "name": "topic_10",
         "showlegend": true,
         "type": "scattergl",
         "x": [
          0,
          1,
          2,
          3,
          4,
          5,
          6,
          7,
          8,
          9,
          10,
          11,
          12,
          13,
          14,
          15,
          16,
          17,
          18,
          19,
          20,
          21,
          22,
          23,
          24,
          25,
          26,
          27,
          28,
          29,
          30,
          31,
          32,
          33,
          34,
          35,
          36,
          37,
          38,
          39,
          40,
          41,
          42,
          43,
          44,
          45
         ],
         "xaxis": "x",
         "y": [
          0.021714307367801666,
          0.019658256322145462,
          0.020917586982250214,
          0.023941829800605774,
          0.021938186138868332,
          0.01953541487455368,
          0.02497844770550728,
          0.02384362369775772,
          0.016417397186160088,
          0.035219043493270874,
          0.0005292752757668495,
          0.02790370211005211,
          0.00009138500172412023,
          0.0001072156082955189,
          0.000003142114792353823,
          0.00008684970816830173,
          0.00006827336619608104,
          0.00006277929787756875,
          0.00003762780761462636,
          0.000005121455615153536,
          0.0000026942777822114294,
          0.000048959176638163626,
          0.0000032300056318490533,
          0.000004297249688534066,
          0.000031462102924706414,
          0.0000033645451367192436,
          0.00003296502472949214,
          0.0000025583497063053073,
          0.0000020826955733355135,
          0.0001028339029289782,
          0.000002782593355732388,
          0.000002337666728635668,
          0.0000022088854620960774,
          0.00003271696550655179,
          0.0000021562086658377666,
          0.000003580033535399707,
          0.0000030502033041557297,
          0.00017527761519886553,
          0.00003087572258664295,
          0.00006508257501991466,
          0.0000024046728412940865,
          0.00003887379352818243,
          0.000003182615500918473,
          0.00006688600842608139,
          0.0006540342583321035,
          0.019615136086940765
         ],
         "yaxis": "y"
        },
        {
         "hovertemplate": "variable=topic_12<br>timepoint=%{x}<br>value=%{y}<extra></extra>",
         "legendgroup": "topic_12",
         "line": {
          "color": "#FF6692",
          "dash": "solid"
         },
         "marker": {
          "symbol": "circle"
         },
         "mode": "lines",
         "name": "topic_12",
         "showlegend": true,
         "type": "scattergl",
         "x": [
          0,
          1,
          2,
          3,
          4,
          5,
          6,
          7,
          8,
          9,
          10,
          11,
          12,
          13,
          14,
          15,
          16,
          17,
          18,
          19,
          20,
          21,
          22,
          23,
          24,
          25,
          26,
          27,
          28,
          29,
          30,
          31,
          32,
          33,
          34,
          35,
          36,
          37,
          38,
          39,
          40,
          41,
          42,
          43,
          44,
          45
         ],
         "xaxis": "x",
         "y": [
          0.018317023292183876,
          0.021800845861434937,
          0.022018028423190117,
          0.02055116929113865,
          0.027502516284585,
          0.01578149013221264,
          0.01971629075706005,
          0.01731269434094429,
          0.014822475612163544,
          0.022475622594356537,
          0.0002672577975317836,
          0.015797404572367668,
          0.0000478683396067936,
          0.0000051055053518211935,
          0.000034563261579023674,
          0.00004549271034193225,
          0.00016580674855504185,
          0.0001769234804669395,
          0.0000034207098451588536,
          0.00010755056428024545,
          0.0000026942777822114294,
          0.000048959176638163626,
          0.0000032300056318490533,
          0.000004297249688534066,
          0.00006006400872138329,
          0.00007065544923534617,
          0.00006293322803685442,
          0.0000025583497063053073,
          0.0000020826955733355135,
          0.0000033172227631439455,
          0.00005843445615028031,
          0.00002571433287812397,
          0.0000022088854620960774,
          0.0000029742698188783834,
          0.0000021562086658377666,
          0.00003938037116313353,
          0.0000030502033041557297,
          0.00007217313395813107,
          0.00003087572258664295,
          0.000003099170498899184,
          0.0000024046728412940865,
          0.00003887379352818243,
          0.000035008768463740125,
          0.0000031850481718720403,
          0.00028556425240822136,
          0.020544763654470444
         ],
         "yaxis": "y"
        },
        {
         "hovertemplate": "variable=topic_13<br>timepoint=%{x}<br>value=%{y}<extra></extra>",
         "legendgroup": "topic_13",
         "line": {
          "color": "#B6E880",
          "dash": "solid"
         },
         "marker": {
          "symbol": "circle"
         },
         "mode": "lines",
         "name": "topic_13",
         "showlegend": true,
         "type": "scattergl",
         "x": [
          0,
          1,
          2,
          3,
          4,
          5,
          6,
          7,
          8,
          9,
          10,
          11,
          12,
          13,
          14,
          15,
          16,
          17,
          18,
          19,
          20,
          21,
          22,
          23,
          24,
          25,
          26,
          27,
          28,
          29,
          30,
          31,
          32,
          33,
          34,
          35,
          36,
          37,
          38,
          39,
          40,
          41,
          42,
          43,
          44,
          45
         ],
         "xaxis": "x",
         "y": [
          0.020110035315155983,
          0.017337117344141006,
          0.018808403983712196,
          0.022811610251665115,
          0.025456806644797325,
          0.020136041566729546,
          0.022291388362646103,
          0.02281242422759533,
          0.016005804762244225,
          0.018794190138578415,
          0.0003196612815372646,
          0.016586944460868835,
          0.00013490166747942567,
          0.0001072156082955189,
          0.000034563261579023674,
          0.00000413570069213165,
          0.0000032511127301404485,
          0.00006277929787756875,
          0.0000034207098451588536,
          0.0000563360117666889,
          0.0000026942777822114294,
          0.000004450834239833057,
          0.0000032300056318490533,
          0.000004297249688534066,
          0.0000028601912163139787,
          0.0000033645451367192436,
          0.0000029968205126351677,
          0.0000025583497063053073,
          0.0000020826955733355135,
          0.0000033172227631439455,
          0.000002782593355732388,
          0.00002571433287812397,
          0.000024297740310430527,
          0.0000029742698188783834,
          0.0000021562086658377666,
          0.00011098103277618065,
          0.0000030502033041557297,
          0.00003780497718253173,
          0.0000028068836854799883,
          0.00003409087366890162,
          0.0000024046728412940865,
          0.00003887379352818243,
          0.000035008768463740125,
          0.0000031850481718720403,
          0.0006540342583321035,
          0.02240401692688465
         ],
         "yaxis": "y"
        },
        {
         "hovertemplate": "variable=topic_14<br>timepoint=%{x}<br>value=%{y}<extra></extra>",
         "legendgroup": "topic_14",
         "line": {
          "color": "#FF97FF",
          "dash": "solid"
         },
         "marker": {
          "symbol": "circle"
         },
         "mode": "lines",
         "name": "topic_14",
         "showlegend": true,
         "type": "scattergl",
         "x": [
          0,
          1,
          2,
          3,
          4,
          5,
          6,
          7,
          8,
          9,
          10,
          11,
          12,
          13,
          14,
          15,
          16,
          17,
          18,
          19,
          20,
          21,
          22,
          23,
          24,
          25,
          26,
          27,
          28,
          29,
          30,
          31,
          32,
          33,
          34,
          35,
          36,
          37,
          38,
          39,
          40,
          41,
          42,
          43,
          44,
          45
         ],
         "xaxis": "x",
         "y": [
          0.023412950336933136,
          0.024300534278154373,
          0.018533293157815933,
          0.02055116929113865,
          0.022183671593666077,
          0.021036984398961067,
          0.021507663652300835,
          0.025218557566404343,
          0.08947506546974182,
          0.02511870302259922,
          0.00042446827865205705,
          0.024811333045363426,
          0.00009138500172412023,
          0.000056160562962759286,
          0.000003142114792353823,
          0.00000413570069213165,
          0.00003576224116841331,
          0.000005707209311367478,
          0.0000034207098451588536,
          0.000005121455615153536,
          0.000056579829106340185,
          0.000048959176638163626,
          0.0000032300056318490533,
          0.000004297249688534066,
          0.0000028601912163139787,
          0.0001043008960550651,
          0.00003296502472949214,
          0.0000025583497063053073,
          0.0000020826955733355135,
          0.0000364894513040781,
          0.00003060852759517729,
          0.00002571433287812397,
          0.0000022088854620960774,
          0.00006245965778362006,
          0.0000021562086658377666,
          0.000003580033535399707,
          0.0000030502033041557297,
          0.00003780497718253173,
          0.00003087572258664295,
          0.000003099170498899184,
          0.0000024046728412940865,
          0.00003887379352818243,
          0.000003182615500918473,
          0.00006688600842608139,
          0.00028556425240822136,
          0.02240401692688465
         ],
         "yaxis": "y"
        },
        {
         "hovertemplate": "variable=topic_15<br>timepoint=%{x}<br>value=%{y}<extra></extra>",
         "legendgroup": "topic_15",
         "line": {
          "color": "#FECB52",
          "dash": "solid"
         },
         "marker": {
          "symbol": "circle"
         },
         "mode": "lines",
         "name": "topic_15",
         "showlegend": true,
         "type": "scattergl",
         "x": [
          0,
          1,
          2,
          3,
          4,
          5,
          6,
          7,
          8,
          9,
          10,
          11,
          12,
          13,
          14,
          15,
          16,
          17,
          18,
          19,
          20,
          21,
          22,
          23,
          24,
          25,
          26,
          27,
          28,
          29,
          30,
          31,
          32,
          33,
          34,
          35,
          36,
          37,
          38,
          39,
          40,
          41,
          42,
          43,
          44,
          45
         ],
         "xaxis": "x",
         "y": [
          0.016995856538414955,
          0.02376488596200943,
          0.020550772547721863,
          0.02055116929113865,
          0.018337737768888474,
          0.01953541487455368,
          0.02105982042849064,
          0.015823183581233025,
          0.009523222222924232,
          0.019266167655587196,
          0.0003196612815372646,
          0.013099804520606995,
          0.000004351667030277895,
          0.0000051055053518211935,
          0.000034563261579023674,
          0.00000413570069213165,
          0.0000032511127301404485,
          0.00011985138553427532,
          0.0000034207098451588536,
          0.0000563360117666889,
          0.0000026942777822114294,
          0.000004450834239833057,
          0.0000032300056318490533,
          0.00004726974657387473,
          0.000031462102924706414,
          0.00013794635015074164,
          0.0000029968205126351677,
          0.000028141846996732056,
          0.0000020826955733355135,
          0.0000364894513040781,
          0.000002782593355732388,
          0.000002337666728635668,
          0.000024297740310430527,
          0.0000029742698188783834,
          0.0000021562086658377666,
          0.000003580033535399707,
          0.00003355223816470243,
          0.00003780497718253173,
          0.0000028068836854799883,
          0.000003099170498899184,
          0.000026451401936355978,
          0.00007421359623549506,
          0.000035008768463740125,
          0.0000031850481718720403,
          0.00028556425240822136,
          0.020544763654470444
         ],
         "yaxis": "y"
        },
        {
         "hovertemplate": "variable=topic_16<br>timepoint=%{x}<br>value=%{y}<extra></extra>",
         "legendgroup": "topic_16",
         "line": {
          "color": "#636efa",
          "dash": "solid"
         },
         "marker": {
          "symbol": "circle"
         },
         "mode": "lines",
         "name": "topic_16",
         "showlegend": true,
         "type": "scattergl",
         "x": [
          0,
          1,
          2,
          3,
          4,
          5,
          6,
          7,
          8,
          9,
          10,
          11,
          12,
          13,
          14,
          15,
          16,
          17,
          18,
          19,
          20,
          21,
          22,
          23,
          24,
          25,
          26,
          27,
          28,
          29,
          30,
          31,
          32,
          33,
          34,
          35,
          36,
          37,
          38,
          39,
          40,
          41,
          42,
          43,
          44,
          45
         ],
         "xaxis": "x",
         "y": [
          0.02265799790620804,
          0.01805131323635578,
          0.020825883373618126,
          0.025260422378778458,
          0.029384568333625793,
          0.02404012158513069,
          0.01971629075706005,
          0.015823183581233025,
          0.07177659124135971,
          0.030688051134347916,
          0.00042446827865205705,
          0.013362985104322433,
          0.0000478683396067936,
          0.000056160562962759286,
          0.000003142114792353823,
          0.00004549271034193225,
          0.00006827336619608104,
          0.00011985138553427532,
          0.00003762780761462636,
          0.00020997966930735856,
          0.000029637054467457347,
          0.000004450834239833057,
          0.0000032300056318490533,
          0.00009024223254527897,
          0.00006006400872138329,
          0.000037009998777648434,
          0.0000029968205126351677,
          0.000028141846996732056,
          0.0000020826955733355135,
          0.0000033172227631439455,
          0.000002782593355732388,
          0.00002571433287812397,
          0.00004638659447664395,
          0.00003271696550655179,
          0.000023718295778962784,
          0.00011098103277618065,
          0.0000030502033041557297,
          0.00003780497718253173,
          0.0000028068836854799883,
          0.000003099170498899184,
          0.0000024046728412940865,
          0.00003887379352818243,
          0.000003182615500918473,
          0.0000031850481718720403,
          0.00046979926992207766,
          0.027052152901887894
         ],
         "yaxis": "y"
        },
        {
         "hovertemplate": "variable=topic_17<br>timepoint=%{x}<br>value=%{y}<extra></extra>",
         "legendgroup": "topic_17",
         "line": {
          "color": "#EF553B",
          "dash": "solid"
         },
         "marker": {
          "symbol": "circle"
         },
         "mode": "lines",
         "name": "topic_17",
         "showlegend": true,
         "type": "scattergl",
         "x": [
          0,
          1,
          2,
          3,
          4,
          5,
          6,
          7,
          8,
          9,
          10,
          11,
          12,
          13,
          14,
          15,
          16,
          17,
          18,
          19,
          20,
          21,
          22,
          23,
          24,
          25,
          26,
          27,
          28,
          29,
          30,
          31,
          32,
          33,
          34,
          35,
          36,
          37,
          38,
          39,
          40,
          41,
          42,
          43,
          44,
          45
         ],
         "xaxis": "x",
         "y": [
          0.015863429754972458,
          0.020193902775645256,
          0.02348528616130352,
          0.01791398972272873,
          0.028402628377079964,
          0.019385257735848427,
          0.018148841336369514,
          0.023385314270853996,
          0.036585427820682526,
          0.01992693729698658,
          0.0005816787597723305,
          0.02415338158607483,
          0.0000478683396067936,
          0.000056160562962759286,
          0.000003142114792353823,
          0.00008684970816830173,
          0.00003576224116841331,
          0.0001769234804669395,
          0.0000034207098451588536,
          0.000005121455615153536,
          0.0000026942777822114294,
          0.00013797584688290954,
          0.0000032300056318490533,
          0.000004297249688534066,
          0.000031462102924706414,
          0.0000033645451367192436,
          0.00003296502472949214,
          0.000028141846996732056,
          0.000022909651306690648,
          0.00006966167711652815,
          0.00003060852759517729,
          0.000002337666728635668,
          0.0000022088854620960774,
          0.00003271696550655179,
          0.0000021562086658377666,
          0.00003938037116313353,
          0.00009455630060983822,
          0.00007217313395813107,
          0.0000028068836854799883,
          0.000003099170498899184,
          0.000026451401936355978,
          0.00010955340985674411,
          0.000003182615500918473,
          0.0000031850481718720403,
          0.00028556425240822136,
          0.021474389359354973
         ],
         "yaxis": "y"
        },
        {
         "hovertemplate": "variable=topic_19<br>timepoint=%{x}<br>value=%{y}<extra></extra>",
         "legendgroup": "topic_19",
         "line": {
          "color": "#00cc96",
          "dash": "solid"
         },
         "marker": {
          "symbol": "circle"
         },
         "mode": "lines",
         "name": "topic_19",
         "showlegend": true,
         "type": "scattergl",
         "x": [
          0,
          1,
          2,
          3,
          4,
          5,
          6,
          7,
          8,
          9,
          10,
          11,
          12,
          13,
          14,
          15,
          16,
          17,
          18,
          19,
          20,
          21,
          22,
          23,
          24,
          25,
          26,
          27,
          28,
          29,
          30,
          31,
          32,
          33,
          34,
          35,
          36,
          37,
          38,
          39,
          40,
          41,
          42,
          43,
          44,
          45
         ],
         "xaxis": "x",
         "y": [
          0.019260713830590248,
          0.021800845861434937,
          0.020367365330457687,
          0.017537249252200127,
          0.01743762567639351,
          0.019385257735848427,
          0.019044527783989906,
          0.022354114800691605,
          0.01188987959176302,
          0.028800135478377342,
          0.0002672577975317836,
          0.013560370542109013,
          0.00009138500172412023,
          0.0000051055053518211935,
          0.000003142114792353823,
          0.00004549271034193225,
          0.00006827336619608104,
          0.000005707209311367478,
          0.0000034207098451588536,
          0.000005121455615153536,
          0.000029637054467457347,
          0.000048959176638163626,
          0.00003553006172296591,
          0.00009024223254527897,
          0.0000028601912163139787,
          0.0001043008960550651,
          0.0000029968205126351677,
          0.00007930883293738589,
          0.0000020826955733355135,
          0.0000033172227631439455,
          0.000002782593355732388,
          0.000002337666728635668,
          0.000024297740310430527,
          0.0000029742698188783834,
          0.000023718295778962784,
          0.000003580033535399707,
          0.0000030502033041557297,
          0.00010654129437170923,
          0.0000028068836854799883,
          0.00003409087366890162,
          0.000050498125347075984,
          0.0000035339810438017594,
          0.000035008768463740125,
          0.0000031850481718720403,
          0.0006540342583321035,
          0.01775588095188141
         ],
         "yaxis": "y"
        },
        {
         "hovertemplate": "variable=topic_20<br>timepoint=%{x}<br>value=%{y}<extra></extra>",
         "legendgroup": "topic_20",
         "line": {
          "color": "#ab63fa",
          "dash": "solid"
         },
         "marker": {
          "symbol": "circle"
         },
         "mode": "lines",
         "name": "topic_20",
         "showlegend": true,
         "type": "scattergl",
         "x": [
          0,
          1,
          2,
          3,
          4,
          5,
          6,
          7,
          8,
          9,
          10,
          11,
          12,
          13,
          14,
          15,
          16,
          17,
          18,
          19,
          20,
          21,
          22,
          23,
          24,
          25,
          26,
          27,
          28,
          29,
          30,
          31,
          32,
          33,
          34,
          35,
          36,
          37,
          38,
          39,
          40,
          41,
          42,
          43,
          44,
          45
         ],
         "xaxis": "x",
         "y": [
          0.027282077819108963,
          0.02233649231493473,
          0.023301878944039345,
          0.018290730193257332,
          0.019810648635029793,
          0.014880549162626266,
          0.017029233276844025,
          0.016510650515556335,
          0.013844943605363369,
          0.0194549597799778,
          0.0003720647655427456,
          0.014284116216003895,
          0.000004351667030277895,
          0.0000051055053518211935,
          0.000003142114792353823,
          0.00004549271034193225,
          0.00003576224116841331,
          0.00011985138553427532,
          0.0000034207098451588536,
          0.000005121455615153536,
          0.0000026942777822114294,
          0.00009346751176053658,
          0.0000032300056318490533,
          0.00009024223254527897,
          0.000031462102924706414,
          0.0000033645451367192436,
          0.00006293322803685442,
          0.0000025583497063053073,
          0.0000020826955733355135,
          0.0000033172227631439455,
          0.00003060852759517729,
          0.000002337666728635668,
          0.000024297740310430527,
          0.00003271696550655179,
          0.0000021562086658377666,
          0.00003938037116313353,
          0.00003355223816470243,
          0.00007217313395813107,
          0.0000028068836854799883,
          0.000003099170498899184,
          0.0000024046728412940865,
          0.00003887379352818243,
          0.000003182615500918473,
          0.0000031850481718720403,
          0.0008382693049497902,
          0.030770661309361458
         ],
         "yaxis": "y"
        },
        {
         "hovertemplate": "variable=topic_24<br>timepoint=%{x}<br>value=%{y}<extra></extra>",
         "legendgroup": "topic_24",
         "line": {
          "color": "#FFA15A",
          "dash": "solid"
         },
         "marker": {
          "symbol": "circle"
         },
         "mode": "lines",
         "name": "topic_24",
         "showlegend": true,
         "type": "scattergl",
         "x": [
          0,
          1,
          2,
          3,
          4,
          5,
          6,
          7,
          8,
          9,
          10,
          11,
          12,
          13,
          14,
          15,
          16,
          17,
          18,
          19,
          20,
          21,
          22,
          23,
          24,
          25,
          26,
          27,
          28,
          29,
          30,
          31,
          32,
          33,
          34,
          35,
          36,
          37,
          38,
          39,
          40,
          41,
          42,
          43,
          44,
          45
         ],
         "xaxis": "x",
         "y": [
          0.025583436712622643,
          0.019658256322145462,
          0.01752455346286297,
          0.01942094974219799,
          0.016210200265049934,
          0.018934786319732666,
          0.01882060617208481,
          0.017541849985718727,
          0.017394928261637688,
          0.02143726870417595,
          0.00021485429897438735,
          0.013626165688037872,
          0.000004351667030277895,
          0.0000051055053518211935,
          0.000003142114792353823,
          0.00000413570069213165,
          0.00003576224116841331,
          0.000005707209311367478,
          0.00003762780761462636,
          0.000005121455615153536,
          0.0000026942777822114294,
          0.000048959176638163626,
          0.00003553006172296591,
          0.0001761872263159603,
          0.000031462102924706414,
          0.00007065544923534617,
          0.0000029968205126351677,
          0.000028141846996732056,
          0.0000020826955733355135,
          0.0000033172227631439455,
          0.000002782593355732388,
          0.000002337666728635668,
          0.0000022088854620960774,
          0.0000029742698188783834,
          0.0000021562086658377666,
          0.0000751807019696571,
          0.0000030502033041557297,
          0.0000034368160868325504,
          0.0000028068836854799883,
          0.00003409087366890162,
          0.0000024046728412940865,
          0.00003887379352818243,
          0.000003182615500918473,
          0.0000031850481718720403,
          0.0007461518398486078,
          0.01775588095188141
         ],
         "yaxis": "y"
        },
        {
         "hovertemplate": "variable=topic_25<br>timepoint=%{x}<br>value=%{y}<extra></extra>",
         "legendgroup": "topic_25",
         "line": {
          "color": "#19d3f3",
          "dash": "solid"
         },
         "marker": {
          "symbol": "circle"
         },
         "mode": "lines",
         "name": "topic_25",
         "showlegend": true,
         "type": "scattergl",
         "x": [
          0,
          1,
          2,
          3,
          4,
          5,
          6,
          7,
          8,
          9,
          10,
          11,
          12,
          13,
          14,
          15,
          16,
          17,
          18,
          19,
          20,
          21,
          22,
          23,
          24,
          25,
          26,
          27,
          28,
          29,
          30,
          31,
          32,
          33,
          34,
          35,
          36,
          37,
          38,
          39,
          40,
          41,
          42,
          43,
          44,
          45
         ],
         "xaxis": "x",
         "y": [
          0.021053723990917206,
          0.018944060429930687,
          0.030913276597857475,
          0.01998605951666832,
          0.02210184372961521,
          0.02599216252565384,
          0.021619625389575958,
          0.01765642687678337,
          0.026604309678077698,
          0.023230787366628647,
          0.00042446827865205705,
          0.016718534752726555,
          0.00013490166747942567,
          0.0001072156082955189,
          0.00012882670853286982,
          0.00008684970816830173,
          0.00003576224116841331,
          0.0001769234804669395,
          0.0000034207098451588536,
          0.000005121455615153536,
          0.0000026942777822114294,
          0.000004450834239833057,
          0.0000032300056318490533,
          0.000004297249688534066,
          0.0000028601912163139787,
          0.0000033645451367192436,
          0.00003296502472949214,
          0.00005372533996705897,
          0.000022909651306690648,
          0.00006966167711652815,
          0.000002782593355732388,
          0.00002571433287812397,
          0.0000022088854620960774,
          0.0000029742698188783834,
          0.0000021562086658377666,
          0.00003938037116313353,
          0.0000030502033041557297,
          0.00003780497718253173,
          0.0000870133881107904,
          0.000003099170498899184,
          0.0000024046728412940865,
          0.00003887379352818243,
          0.000003182615500918473,
          0.00006688600842608139,
          0.0005619167350232601,
          0.01775588095188141
         ],
         "yaxis": "y"
        },
        {
         "hovertemplate": "variable=topic_27<br>timepoint=%{x}<br>value=%{y}<extra></extra>",
         "legendgroup": "topic_27",
         "line": {
          "color": "#FF6692",
          "dash": "solid"
         },
         "marker": {
          "symbol": "circle"
         },
         "mode": "lines",
         "name": "topic_27",
         "showlegend": true,
         "type": "scattergl",
         "x": [
          0,
          1,
          2,
          3,
          4,
          5,
          6,
          7,
          8,
          9,
          10,
          11,
          12,
          13,
          14,
          15,
          16,
          17,
          18,
          19,
          20,
          21,
          22,
          23,
          24,
          25,
          26,
          27,
          28,
          29,
          30,
          31,
          32,
          33,
          34,
          35,
          36,
          37,
          38,
          39,
          40,
          41,
          42,
          43,
          44,
          45
         ],
         "xaxis": "x",
         "y": [
          0.01992129720747471,
          0.021086648106575012,
          0.01624070294201374,
          0.019609319046139717,
          0.01825590990483761,
          0.018033845350146294,
          0.01915648765861988,
          0.018229316920042038,
          0.015388415195047855,
          0.023513974621891975,
          0.00021485429897438735,
          0.021587371826171875,
          0.00013490166747942567,
          0.000056160562962759286,
          0.000003142114792353823,
          0.00012820672418456525,
          0.0000032511127301404485,
          0.000005707209311367478,
          0.00003762780761462636,
          0.00015876512043178082,
          0.0000026942777822114294,
          0.000048959176638163626,
          0.0000032300056318490533,
          0.000004297249688534066,
          0.0000028601912163139787,
          0.000037009998777648434,
          0.00006293322803685442,
          0.0000025583497063053073,
          0.000043736603402066976,
          0.00006966167711652815,
          0.00003060852759517729,
          0.000002337666728635668,
          0.000024297740310430527,
          0.0000029742698188783834,
          0.000023718295778962784,
          0.000003580033535399707,
          0.00006405427120625973,
          0.0000034368160868325504,
          0.00003087572258664295,
          0.000003099170498899184,
          0.0000024046728412940865,
          0.0000035339810438017594,
          0.000003182615500918473,
          0.00003503552943584509,
          0.0003776817466132343,
          0.020544763654470444
         ],
         "yaxis": "y"
        },
        {
         "hovertemplate": "variable=topic_29<br>timepoint=%{x}<br>value=%{y}<extra></extra>",
         "legendgroup": "topic_29",
         "line": {
          "color": "#B6E880",
          "dash": "solid"
         },
         "marker": {
          "symbol": "circle"
         },
         "mode": "lines",
         "name": "topic_29",
         "showlegend": true,
         "type": "scattergl",
         "x": [
          0,
          1,
          2,
          3,
          4,
          5,
          6,
          7,
          8,
          9,
          10,
          11,
          12,
          13,
          14,
          15,
          16,
          17,
          18,
          19,
          20,
          21,
          22,
          23,
          24,
          25,
          26,
          27,
          28,
          29,
          30,
          31,
          32,
          33,
          34,
          35,
          36,
          37,
          38,
          39,
          40,
          41,
          42,
          43,
          44,
          45
         ],
         "xaxis": "x",
         "y": [
          0.015485953539609909,
          0.01912260800600052,
          0.014681743457913399,
          0.015653548762202263,
          0.019892478361725807,
          0.01953541487455368,
          0.020052174106240273,
          0.023729046806693077,
          0.020533321425318718,
          0.02039891667664051,
          0.00021485429897438735,
          0.05224788561463356,
          0.0000478683396067936,
          0.000056160562962759286,
          0.000003142114792353823,
          0.00008684970816830173,
          0.00003576224116841331,
          0.00011985138553427532,
          0.00003762780761462636,
          0.000005121455615153536,
          0.0000026942777822114294,
          0.00009346751176053658,
          0.00006783011485822499,
          0.00004726974657387473,
          0.000031462102924706414,
          0.0000033645451367192436,
          0.0000029968205126351677,
          0.000028141846996732056,
          0.0000020826955733355135,
          0.0000364894513040781,
          0.000002782593355732388,
          0.000002337666728635668,
          0.000024297740310430527,
          0.0000029742698188783834,
          0.0000021562086658377666,
          0.0000751807019696571,
          0.0000030502033041557297,
          0.0000034368160868325504,
          0.0000028068836854799883,
          0.000003099170498899184,
          0.0000024046728412940865,
          0.00003887379352818243,
          0.000003182615500918473,
          0.0000031850481718720403,
          0.0007461518398486078,
          0.018685508519411087
         ],
         "yaxis": "y"
        },
        {
         "hovertemplate": "variable=topic_30<br>timepoint=%{x}<br>value=%{y}<extra></extra>",
         "legendgroup": "topic_30",
         "line": {
          "color": "#FF97FF",
          "dash": "solid"
         },
         "marker": {
          "symbol": "circle"
         },
         "mode": "lines",
         "name": "topic_30",
         "showlegend": true,
         "type": "scattergl",
         "x": [
          0,
          1,
          2,
          3,
          4,
          5,
          6,
          7,
          8,
          9,
          10,
          11,
          12,
          13,
          14,
          15,
          16,
          17,
          18,
          19,
          20,
          21,
          22,
          23,
          24,
          25,
          26,
          27,
          28,
          29,
          30,
          31,
          32,
          33,
          34,
          35,
          36,
          37,
          38,
          39,
          40,
          41,
          42,
          43,
          44,
          45
         ],
         "xaxis": "x",
         "y": [
          0.04002189263701439,
          0.025907475501298904,
          0.030913276597857475,
          0.022999979555606842,
          0.019728820770978928,
          0.02554169110953808,
          0.025426290929317474,
          0.021781224757432938,
          0.013844943605363369,
          0.022003643214702606,
          0.0006340822437778115,
          0.039944205433130264,
          0.00013490166747942567,
          0.00015827066090423614,
          0.000034563261579023674,
          0.00004549271034193225,
          0.00003576224116841331,
          0.000005707209311367478,
          0.00003762780761462636,
          0.00015876512043178082,
          0.0000026942777822114294,
          0.00013797584688290954,
          0.0000032300056318490533,
          0.00004726974657387473,
          0.000031462102924706414,
          0.00017159180424641818,
          0.0000029968205126351677,
          0.000028141846996732056,
          0.00006456355913542211,
          0.0000033172227631439455,
          0.000002782593355732388,
          0.000002337666728635668,
          0.000024297740310430527,
          0.00003271696550655179,
          0.000023718295778962784,
          0.00003938037116313353,
          0.00006405427120625973,
          0.0000034368160868325504,
          0.0000028068836854799883,
          0.000003099170498899184,
          0.000026451401936355978,
          0.00007421359623549506,
          0.000035008768463740125,
          0.0000031850481718720403,
          0.0005619167350232601,
          0.013107744976878166
         ],
         "yaxis": "y"
        },
        {
         "hovertemplate": "variable=topic_31<br>timepoint=%{x}<br>value=%{y}<extra></extra>",
         "legendgroup": "topic_31",
         "line": {
          "color": "#FECB52",
          "dash": "solid"
         },
         "marker": {
          "symbol": "circle"
         },
         "mode": "lines",
         "name": "topic_31",
         "showlegend": true,
         "type": "scattergl",
         "x": [
          0,
          1,
          2,
          3,
          4,
          5,
          6,
          7,
          8,
          9,
          10,
          11,
          12,
          13,
          14,
          15,
          16,
          17,
          18,
          19,
          20,
          21,
          22,
          23,
          24,
          25,
          26,
          27,
          28,
          29,
          30,
          31,
          32,
          33,
          34,
          35,
          36,
          37,
          38,
          39,
          40,
          41,
          42,
          43,
          44,
          45
         ],
         "xaxis": "x",
         "y": [
          0.019449451938271523,
          0.021086648106575012,
          0.01945032924413681,
          0.016595399007201195,
          0.017028484493494034,
          0.015631334856152534,
          0.02363491803407669,
          0.024531090632081032,
          0.017703624442219734,
          0.013413633219897747,
          0.00042446827865205705,
          0.017047511413693428,
          0.00013490166747942567,
          0.000056160562962759286,
          0.000003142114792353823,
          0.00000413570069213165,
          0.0000032511127301404485,
          0.00006277929787756875,
          0.0000034207098451588536,
          0.000005121455615153536,
          0.0000026942777822114294,
          0.000048959176638163626,
          0.00003553006172296591,
          0.00004726974657387473,
          0.000031462102924706414,
          0.0000033645451367192436,
          0.0000029968205126351677,
          0.0000025583497063053073,
          0.0000020826955733355135,
          0.0000033172227631439455,
          0.00003060852759517729,
          0.00002571433287812397,
          0.0000022088854620960774,
          0.00003271696550655179,
          0.0000021562086658377666,
          0.000003580033535399707,
          0.00003355223816470243,
          0.0000034368160868325504,
          0.0000028068836854799883,
          0.000003099170498899184,
          0.0000024046728412940865,
          0.0000035339810438017594,
          0.000035008768463740125,
          0.00003503552943584509,
          0.0005619167350232601,
          0.021474389359354973
         ],
         "yaxis": "y"
        },
        {
         "hovertemplate": "variable=topic_32<br>timepoint=%{x}<br>value=%{y}<extra></extra>",
         "legendgroup": "topic_32",
         "line": {
          "color": "#636efa",
          "dash": "solid"
         },
         "marker": {
          "symbol": "circle"
         },
         "mode": "lines",
         "name": "topic_32",
         "showlegend": true,
         "type": "scattergl",
         "x": [
          0,
          1,
          2,
          3,
          4,
          5,
          6,
          7,
          8,
          9,
          10,
          11,
          12,
          13,
          14,
          15,
          16,
          17,
          18,
          19,
          20,
          21,
          22,
          23,
          24,
          25,
          26,
          27,
          28,
          29,
          30,
          31,
          32,
          33,
          34,
          35,
          36,
          37,
          38,
          39,
          40,
          41,
          42,
          43,
          44,
          45
         ],
         "xaxis": "x",
         "y": [
          0.019071975722908974,
          0.02555037848651409,
          0.01871670037508011,
          0.021681390702724457,
          0.020137961953878403,
          0.023439494892954826,
          0.02553825080394745,
          0.024416513741016388,
          0.02315722405910492,
          0.019360562786459923,
          0.00016245081496890634,
          0.018429208546876907,
          0.0000478683396067936,
          0.000056160562962759286,
          0.000003142114792353823,
          0.00008684970816830173,
          0.00006827336619608104,
          0.00011985138553427532,
          0.0000034207098451588536,
          0.00015876512043178082,
          0.0000026942777822114294,
          0.00013797584688290954,
          0.00003553006172296591,
          0.00004726974657387473,
          0.0000028601912163139787,
          0.000037009998777648434,
          0.00009290142770623788,
          0.000028141846996732056,
          0.00006456355913542211,
          0.0000033172227631439455,
          0.000002782593355732388,
          0.00002571433287812397,
          0.0000022088854620960774,
          0.0000029742698188783834,
          0.000023718295778962784,
          0.00003938037116313353,
          0.0000030502033041557297,
          0.0000034368160868325504,
          0.000058944555348716676,
          0.00006508257501991466,
          0.0000024046728412940865,
          0.0000035339810438017594,
          0.000035008768463740125,
          0.00003503552943584509,
          0.0007461518398486078,
          0.01775588095188141
         ],
         "yaxis": "y"
        },
        {
         "hovertemplate": "variable=topic_33<br>timepoint=%{x}<br>value=%{y}<extra></extra>",
         "legendgroup": "topic_33",
         "line": {
          "color": "#EF553B",
          "dash": "solid"
         },
         "marker": {
          "symbol": "circle"
         },
         "mode": "lines",
         "name": "topic_33",
         "showlegend": true,
         "type": "scattergl",
         "x": [
          0,
          1,
          2,
          3,
          4,
          5,
          6,
          7,
          8,
          9,
          10,
          11,
          12,
          13,
          14,
          15,
          16,
          17,
          18,
          19,
          20,
          21,
          22,
          23,
          24,
          25,
          26,
          27,
          28,
          29,
          30,
          31,
          32,
          33,
          34,
          35,
          36,
          37,
          38,
          39,
          40,
          41,
          42,
          43,
          44,
          45
         ],
         "xaxis": "x",
         "y": [
          0.02397916279733181,
          0.021265197545289993,
          0.02192632481455803,
          0.021681390702724457,
          0.0217745304107666,
          0.01863447204232216,
          0.026769820600748062,
          0.0189167819917202,
          0.01333045307546854,
          0.015395943075418472,
          0.0003720647655427456,
          0.026719391345977783,
          0.00017841834051068872,
          0.0000051055053518211935,
          0.000003142114792353823,
          0.00004549271034193225,
          0.00003576224116841331,
          0.000005707209311367478,
          0.00003762780761462636,
          0.00010755056428024545,
          0.000029637054467457347,
          0.000004450834239833057,
          0.0000032300056318490533,
          0.00004726974657387473,
          0.000031462102924706414,
          0.000037009998777648434,
          0.0000029968205126351677,
          0.000028141846996732056,
          0.000022909651306690648,
          0.0000033172227631439455,
          0.00003060852759517729,
          0.000002337666728635668,
          0.0000022088854620960774,
          0.00003271696550655179,
          0.0000021562086658377666,
          0.00003938037116313353,
          0.0000030502033041557297,
          0.0000034368160868325504,
          0.0000028068836854799883,
          0.00003409087366890162,
          0.000026451401936355978,
          0.0000035339810438017594,
          0.000003182615500918473,
          0.00003503552943584509,
          0.0005619167350232601,
          0.02333364449441433
         ],
         "yaxis": "y"
        },
        {
         "hovertemplate": "variable=topic_35<br>timepoint=%{x}<br>value=%{y}<extra></extra>",
         "legendgroup": "topic_35",
         "line": {
          "color": "#00cc96",
          "dash": "solid"
         },
         "marker": {
          "symbol": "circle"
         },
         "mode": "lines",
         "name": "topic_35",
         "showlegend": true,
         "type": "scattergl",
         "x": [
          0,
          1,
          2,
          3,
          4,
          5,
          6,
          7,
          8,
          9,
          10,
          11,
          12,
          13,
          14,
          15,
          16,
          17,
          18,
          19,
          20,
          21,
          22,
          23,
          24,
          25,
          26,
          27,
          28,
          29,
          30,
          31,
          32,
          33,
          34,
          35,
          36,
          37,
          38,
          39,
          40,
          41,
          42,
          43,
          44,
          45
         ],
         "xaxis": "x",
         "y": [
          0.017373332753777504,
          0.024300534278154373,
          0.02155951038002968,
          0.02111627906560898,
          0.018910536542534828,
          0.025391533970832825,
          0.021171782165765762,
          0.02968708798289299,
          0.05171145498752594,
          0.02039891667664051,
          0.0003720647655427456,
          0.02165316790342331,
          0.000004351667030277895,
          0.000056160562962759286,
          0.000003142114792353823,
          0.00008684970816830173,
          0.00003576224116841331,
          0.00006277929787756875,
          0.0000034207098451588536,
          0.0000563360117666889,
          0.0000026942777822114294,
          0.000004450834239833057,
          0.0000032300056318490533,
          0.000004297249688534066,
          0.000031462102924706414,
          0.000037009998777648434,
          0.0000029968205126351677,
          0.000028141846996732056,
          0.0000020826955733355135,
          0.0000033172227631439455,
          0.00003060852759517729,
          0.000002337666728635668,
          0.0000022088854620960774,
          0.00003271696550655179,
          0.0000021562086658377666,
          0.000003580033535399707,
          0.0000030502033041557297,
          0.0000034368160868325504,
          0.00003087572258664295,
          0.000003099170498899184,
          0.0000024046728412940865,
          0.00007421359623549506,
          0.00006683491665171459,
          0.0000031850481718720403,
          0.0003776817466132343,
          0.02333364449441433
         ],
         "yaxis": "y"
        },
        {
         "hovertemplate": "variable=topic_36<br>timepoint=%{x}<br>value=%{y}<extra></extra>",
         "legendgroup": "topic_36",
         "line": {
          "color": "#ab63fa",
          "dash": "solid"
         },
         "marker": {
          "symbol": "circle"
         },
         "mode": "lines",
         "name": "topic_36",
         "showlegend": true,
         "type": "scattergl",
         "x": [
          0,
          1,
          2,
          3,
          4,
          5,
          6,
          7,
          8,
          9,
          10,
          11,
          12,
          13,
          14,
          15,
          16,
          17,
          18,
          19,
          20,
          21,
          22,
          23,
          24,
          25,
          26,
          27,
          28,
          29,
          30,
          31,
          32,
          33,
          34,
          35,
          36,
          37,
          38,
          39,
          40,
          41,
          42,
          43,
          44,
          45
         ],
         "xaxis": "x",
         "y": [
          0.025772174820303917,
          0.023407788947224617,
          0.02265995368361473,
          0.019609319046139717,
          0.02439303882420063,
          0.023889964446425438,
          0.015909625217318535,
          0.019145937636494637,
          0.020533321425318718,
          0.01841660588979721,
          0.00042446827865205705,
          0.02040306106209755,
          0.00013490166747942567,
          0.0000051055053518211935,
          0.000034563261579023674,
          0.00008684970816830173,
          0.0000032511127301404485,
          0.00006277929787756875,
          0.0000034207098451588536,
          0.000005121455615153536,
          0.0000026942777822114294,
          0.00009346751176053658,
          0.0000032300056318490533,
          0.0001761872263159603,
          0.0000028601912163139787,
          0.0000033645451367192436,
          0.00006293322803685442,
          0.00005372533996705897,
          0.0000020826955733355135,
          0.0000033172227631439455,
          0.00005843445615028031,
          0.00002571433287812397,
          0.0000022088854620960774,
          0.0000029742698188783834,
          0.0000021562086658377666,
          0.000003580033535399707,
          0.0000030502033041557297,
          0.00003780497718253173,
          0.00003087572258664295,
          0.000003099170498899184,
          0.000026451401936355978,
          0.0000035339810438017594,
          0.000035008768463740125,
          0.0000031850481718720403,
          0.0005619167350232601,
          0.02240401692688465
         ],
         "yaxis": "y"
        },
        {
         "hovertemplate": "variable=topic_40<br>timepoint=%{x}<br>value=%{y}<extra></extra>",
         "legendgroup": "topic_40",
         "line": {
          "color": "#FFA15A",
          "dash": "solid"
         },
         "marker": {
          "symbol": "circle"
         },
         "mode": "lines",
         "name": "topic_40",
         "showlegend": true,
         "type": "scattergl",
         "x": [
          0,
          1,
          2,
          3,
          4,
          5,
          6,
          7,
          8,
          9,
          10,
          11,
          12,
          13,
          14,
          15,
          16,
          17,
          18,
          19,
          20,
          21,
          22,
          23,
          24,
          25,
          26,
          27,
          28,
          29,
          30,
          31,
          32,
          33,
          34,
          35,
          36,
          37,
          38,
          39,
          40,
          41,
          42,
          43,
          44,
          45
         ],
         "xaxis": "x",
         "y": [
          0.0181282851845026,
          0.022693591192364693,
          0.02192632481455803,
          0.023753460496664047,
          0.017928596585989,
          0.017583373934030533,
          0.02419472299516201,
          0.02418735809624195,
          0.058605629950761795,
          0.03682377189397812,
          0.0008436961797997355,
          0.015797404572367668,
          0.00009138500172412023,
          0.0001072156082955189,
          0.000003142114792353823,
          0.00000413570069213165,
          0.00003576224116841331,
          0.000005707209311367478,
          0.0000034207098451588536,
          0.0000563360117666889,
          0.0000026942777822114294,
          0.000048959176638163626,
          0.00003553006172296591,
          0.000004297249688534066,
          0.0000028601912163139787,
          0.000037009998777648434,
          0.00009290142770623788,
          0.0000025583497063053073,
          0.0000020826955733355135,
          0.0001028339029289782,
          0.00003060852759517729,
          0.000002337666728635668,
          0.0000022088854620960774,
          0.00003271696550655179,
          0.0000021562086658377666,
          0.00003938037116313353,
          0.00006405427120625973,
          0.0000034368160868325504,
          0.0000028068836854799883,
          0.000003099170498899184,
          0.0000024046728412940865,
          0.00007421359623549506,
          0.00006683491665171459,
          0.0000031850481718720403,
          0.00046979926992207766,
          0.019615136086940765
         ],
         "yaxis": "y"
        },
        {
         "hovertemplate": "variable=topic_42<br>timepoint=%{x}<br>value=%{y}<extra></extra>",
         "legendgroup": "topic_42",
         "line": {
          "color": "#19d3f3",
          "dash": "solid"
         },
         "marker": {
          "symbol": "circle"
         },
         "mode": "lines",
         "name": "topic_42",
         "showlegend": true,
         "type": "scattergl",
         "x": [
          0,
          1,
          2,
          3,
          4,
          5,
          6,
          7,
          8,
          9,
          10,
          11,
          12,
          13,
          14,
          15,
          16,
          17,
          18,
          19,
          20,
          21,
          22,
          23,
          24,
          25,
          26,
          27,
          28,
          29,
          30,
          31,
          32,
          33,
          34,
          35,
          36,
          37,
          38,
          39,
          40,
          41,
          42,
          43,
          44,
          45
         ],
         "xaxis": "x",
         "y": [
          0.018317023292183876,
          0.018586961552500725,
          0.01825818233191967,
          0.019044209271669388,
          0.018010424450039864,
          0.017283059656620026,
          0.023522958159446716,
          0.024531090632081032,
          0.02099636383354664,
          0.020776499062776566,
          0.0005292752757668495,
          0.021061012521386147,
          0.000004351667030277895,
          0.000056160562962759286,
          0.000003142114792353823,
          0.00004549271034193225,
          0.0000032511127301404485,
          0.00011985138553427532,
          0.00003762780761462636,
          0.000005121455615153536,
          0.0000026942777822114294,
          0.000048959176638163626,
          0.0000032300056318490533,
          0.00009024223254527897,
          0.000031462102924706414,
          0.000037009998777648434,
          0.0000029968205126351677,
          0.0000025583497063053073,
          0.0000020826955733355135,
          0.0000033172227631439455,
          0.00003060852759517729,
          0.00002571433287812397,
          0.0000022088854620960774,
          0.00006245965778362006,
          0.0000021562086658377666,
          0.000003580033535399707,
          0.00003355223816470243,
          0.0000034368160868325504,
          0.000058944555348716676,
          0.000003099170498899184,
          0.0000024046728412940865,
          0.00007421359623549506,
          0.000035008768463740125,
          0.00003503552943584509,
          0.00046979926992207766,
          0.030770661309361458
         ],
         "yaxis": "y"
        },
        {
         "hovertemplate": "variable=topic_43<br>timepoint=%{x}<br>value=%{y}<extra></extra>",
         "legendgroup": "topic_43",
         "line": {
          "color": "#FF6692",
          "dash": "solid"
         },
         "marker": {
          "symbol": "circle"
         },
         "mode": "lines",
         "name": "topic_43",
         "showlegend": true,
         "type": "scattergl",
         "x": [
          0,
          1,
          2,
          3,
          4,
          5,
          6,
          7,
          8,
          9,
          10,
          11,
          12,
          13,
          14,
          15,
          16,
          17,
          18,
          19,
          20,
          21,
          22,
          23,
          24,
          25,
          26,
          27,
          28,
          29,
          30,
          31,
          32,
          33,
          34,
          35,
          36,
          37,
          38,
          39,
          40,
          41,
          42,
          43,
          44,
          45
         ],
         "xaxis": "x",
         "y": [
          0.018977606669068336,
          0.02233649231493473,
          0.018991811200976372,
          0.02205812931060791,
          0.01678299903869629,
          0.017283059656620026,
          0.01994021236896515,
          0.027280956506729126,
          0.019915932789444923,
          0.024080349132418633,
          0.0003720647655427456,
          0.01546842884272337,
          0.0000478683396067936,
          0.000056160562962759286,
          0.000003142114792353823,
          0.00000413570069213165,
          0.0000032511127301404485,
          0.00006277929787756875,
          0.0000034207098451588536,
          0.000005121455615153536,
          0.000029637054467457347,
          0.000048959176638163626,
          0.0000032300056318490533,
          0.000004297249688534066,
          0.0000028601912163139787,
          0.0000033645451367192436,
          0.00003296502472949214,
          0.000028141846996732056,
          0.0000020826955733355135,
          0.0000364894513040781,
          0.000002782593355732388,
          0.00002571433287812397,
          0.0000022088854620960774,
          0.00006245965778362006,
          0.000023718295778962784,
          0.000003580033535399707,
          0.00003355223816470243,
          0.0000034368160868325504,
          0.0000028068836854799883,
          0.00003409087366890162,
          0.000050498125347075984,
          0.0000035339810438017594,
          0.000003182615500918473,
          0.0000031850481718720403,
          0.00046979926992207766,
          0.013107744976878166
         ],
         "yaxis": "y"
        },
        {
         "hovertemplate": "variable=topic_47<br>timepoint=%{x}<br>value=%{y}<extra></extra>",
         "legendgroup": "topic_47",
         "line": {
          "color": "#B6E880",
          "dash": "solid"
         },
         "marker": {
          "symbol": "circle"
         },
         "mode": "lines",
         "name": "topic_47",
         "showlegend": true,
         "type": "scattergl",
         "x": [
          0,
          1,
          2,
          3,
          4,
          5,
          6,
          7,
          8,
          9,
          10,
          11,
          12,
          13,
          14,
          15,
          16,
          17,
          18,
          19,
          20,
          21,
          22,
          23,
          24,
          25,
          26,
          27,
          28,
          29,
          30,
          31,
          32,
          33,
          34,
          35,
          36,
          37,
          38,
          39,
          40,
          41,
          42,
          43,
          44,
          45
         ],
         "xaxis": "x",
         "y": [
          0.027470815926790237,
          0.018944060429930687,
          0.0210092905908823,
          0.021869760006666183,
          0.026438746601343155,
          0.03094734065234661,
          0.02699374221265316,
          0.022927002981305122,
          0.012095675803720951,
          0.01794462837278843,
          0.0003196612815372646,
          0.027443137019872665,
          0.0000478683396067936,
          0.000056160562962759286,
          0.000034563261579023674,
          0.00008684970816830173,
          0.00003576224116841331,
          0.00006277929787756875,
          0.0000034207098451588536,
          0.00015876512043178082,
          0.0000026942777822114294,
          0.000048959176638163626,
          0.0000032300056318490533,
          0.00009024223254527897,
          0.0000028601912163139787,
          0.00013794635015074164,
          0.00003296502472949214,
          0.000028141846996732056,
          0.0000020826955733355135,
          0.0000033172227631439455,
          0.00011408632417442277,
          0.00002571433287812397,
          0.000024297740310430527,
          0.0000029742698188783834,
          0.0000021562086658377666,
          0.000003580033535399707,
          0.0000030502033041557297,
          0.00007217313395813107,
          0.00003087572258664295,
          0.00003409087366890162,
          0.0000024046728412940865,
          0.00003887379352818243,
          0.000035008768463740125,
          0.00003503552943584509,
          0.00046979926992207766,
          0.02333364449441433
         ],
         "yaxis": "y"
        }
       ],
       "layout": {
        "legend": {
         "title": {
          "text": "variable"
         },
         "tracegroupgap": 0
        },
        "template": {
         "data": {
          "bar": [
           {
            "error_x": {
             "color": "#2a3f5f"
            },
            "error_y": {
             "color": "#2a3f5f"
            },
            "marker": {
             "line": {
              "color": "#E5ECF6",
              "width": 0.5
             },
             "pattern": {
              "fillmode": "overlay",
              "size": 10,
              "solidity": 0.2
             }
            },
            "type": "bar"
           }
          ],
          "barpolar": [
           {
            "marker": {
             "line": {
              "color": "#E5ECF6",
              "width": 0.5
             },
             "pattern": {
              "fillmode": "overlay",
              "size": 10,
              "solidity": 0.2
             }
            },
            "type": "barpolar"
           }
          ],
          "carpet": [
           {
            "aaxis": {
             "endlinecolor": "#2a3f5f",
             "gridcolor": "white",
             "linecolor": "white",
             "minorgridcolor": "white",
             "startlinecolor": "#2a3f5f"
            },
            "baxis": {
             "endlinecolor": "#2a3f5f",
             "gridcolor": "white",
             "linecolor": "white",
             "minorgridcolor": "white",
             "startlinecolor": "#2a3f5f"
            },
            "type": "carpet"
           }
          ],
          "choropleth": [
           {
            "colorbar": {
             "outlinewidth": 0,
             "ticks": ""
            },
            "type": "choropleth"
           }
          ],
          "contour": [
           {
            "colorbar": {
             "outlinewidth": 0,
             "ticks": ""
            },
            "colorscale": [
             [
              0,
              "#0d0887"
             ],
             [
              0.1111111111111111,
              "#46039f"
             ],
             [
              0.2222222222222222,
              "#7201a8"
             ],
             [
              0.3333333333333333,
              "#9c179e"
             ],
             [
              0.4444444444444444,
              "#bd3786"
             ],
             [
              0.5555555555555556,
              "#d8576b"
             ],
             [
              0.6666666666666666,
              "#ed7953"
             ],
             [
              0.7777777777777778,
              "#fb9f3a"
             ],
             [
              0.8888888888888888,
              "#fdca26"
             ],
             [
              1,
              "#f0f921"
             ]
            ],
            "type": "contour"
           }
          ],
          "contourcarpet": [
           {
            "colorbar": {
             "outlinewidth": 0,
             "ticks": ""
            },
            "type": "contourcarpet"
           }
          ],
          "heatmap": [
           {
            "colorbar": {
             "outlinewidth": 0,
             "ticks": ""
            },
            "colorscale": [
             [
              0,
              "#0d0887"
             ],
             [
              0.1111111111111111,
              "#46039f"
             ],
             [
              0.2222222222222222,
              "#7201a8"
             ],
             [
              0.3333333333333333,
              "#9c179e"
             ],
             [
              0.4444444444444444,
              "#bd3786"
             ],
             [
              0.5555555555555556,
              "#d8576b"
             ],
             [
              0.6666666666666666,
              "#ed7953"
             ],
             [
              0.7777777777777778,
              "#fb9f3a"
             ],
             [
              0.8888888888888888,
              "#fdca26"
             ],
             [
              1,
              "#f0f921"
             ]
            ],
            "type": "heatmap"
           }
          ],
          "heatmapgl": [
           {
            "colorbar": {
             "outlinewidth": 0,
             "ticks": ""
            },
            "colorscale": [
             [
              0,
              "#0d0887"
             ],
             [
              0.1111111111111111,
              "#46039f"
             ],
             [
              0.2222222222222222,
              "#7201a8"
             ],
             [
              0.3333333333333333,
              "#9c179e"
             ],
             [
              0.4444444444444444,
              "#bd3786"
             ],
             [
              0.5555555555555556,
              "#d8576b"
             ],
             [
              0.6666666666666666,
              "#ed7953"
             ],
             [
              0.7777777777777778,
              "#fb9f3a"
             ],
             [
              0.8888888888888888,
              "#fdca26"
             ],
             [
              1,
              "#f0f921"
             ]
            ],
            "type": "heatmapgl"
           }
          ],
          "histogram": [
           {
            "marker": {
             "pattern": {
              "fillmode": "overlay",
              "size": 10,
              "solidity": 0.2
             }
            },
            "type": "histogram"
           }
          ],
          "histogram2d": [
           {
            "colorbar": {
             "outlinewidth": 0,
             "ticks": ""
            },
            "colorscale": [
             [
              0,
              "#0d0887"
             ],
             [
              0.1111111111111111,
              "#46039f"
             ],
             [
              0.2222222222222222,
              "#7201a8"
             ],
             [
              0.3333333333333333,
              "#9c179e"
             ],
             [
              0.4444444444444444,
              "#bd3786"
             ],
             [
              0.5555555555555556,
              "#d8576b"
             ],
             [
              0.6666666666666666,
              "#ed7953"
             ],
             [
              0.7777777777777778,
              "#fb9f3a"
             ],
             [
              0.8888888888888888,
              "#fdca26"
             ],
             [
              1,
              "#f0f921"
             ]
            ],
            "type": "histogram2d"
           }
          ],
          "histogram2dcontour": [
           {
            "colorbar": {
             "outlinewidth": 0,
             "ticks": ""
            },
            "colorscale": [
             [
              0,
              "#0d0887"
             ],
             [
              0.1111111111111111,
              "#46039f"
             ],
             [
              0.2222222222222222,
              "#7201a8"
             ],
             [
              0.3333333333333333,
              "#9c179e"
             ],
             [
              0.4444444444444444,
              "#bd3786"
             ],
             [
              0.5555555555555556,
              "#d8576b"
             ],
             [
              0.6666666666666666,
              "#ed7953"
             ],
             [
              0.7777777777777778,
              "#fb9f3a"
             ],
             [
              0.8888888888888888,
              "#fdca26"
             ],
             [
              1,
              "#f0f921"
             ]
            ],
            "type": "histogram2dcontour"
           }
          ],
          "mesh3d": [
           {
            "colorbar": {
             "outlinewidth": 0,
             "ticks": ""
            },
            "type": "mesh3d"
           }
          ],
          "parcoords": [
           {
            "line": {
             "colorbar": {
              "outlinewidth": 0,
              "ticks": ""
             }
            },
            "type": "parcoords"
           }
          ],
          "pie": [
           {
            "automargin": true,
            "type": "pie"
           }
          ],
          "scatter": [
           {
            "fillpattern": {
             "fillmode": "overlay",
             "size": 10,
             "solidity": 0.2
            },
            "type": "scatter"
           }
          ],
          "scatter3d": [
           {
            "line": {
             "colorbar": {
              "outlinewidth": 0,
              "ticks": ""
             }
            },
            "marker": {
             "colorbar": {
              "outlinewidth": 0,
              "ticks": ""
             }
            },
            "type": "scatter3d"
           }
          ],
          "scattercarpet": [
           {
            "marker": {
             "colorbar": {
              "outlinewidth": 0,
              "ticks": ""
             }
            },
            "type": "scattercarpet"
           }
          ],
          "scattergeo": [
           {
            "marker": {
             "colorbar": {
              "outlinewidth": 0,
              "ticks": ""
             }
            },
            "type": "scattergeo"
           }
          ],
          "scattergl": [
           {
            "marker": {
             "colorbar": {
              "outlinewidth": 0,
              "ticks": ""
             }
            },
            "type": "scattergl"
           }
          ],
          "scattermapbox": [
           {
            "marker": {
             "colorbar": {
              "outlinewidth": 0,
              "ticks": ""
             }
            },
            "type": "scattermapbox"
           }
          ],
          "scatterpolar": [
           {
            "marker": {
             "colorbar": {
              "outlinewidth": 0,
              "ticks": ""
             }
            },
            "type": "scatterpolar"
           }
          ],
          "scatterpolargl": [
           {
            "marker": {
             "colorbar": {
              "outlinewidth": 0,
              "ticks": ""
             }
            },
            "type": "scatterpolargl"
           }
          ],
          "scatterternary": [
           {
            "marker": {
             "colorbar": {
              "outlinewidth": 0,
              "ticks": ""
             }
            },
            "type": "scatterternary"
           }
          ],
          "surface": [
           {
            "colorbar": {
             "outlinewidth": 0,
             "ticks": ""
            },
            "colorscale": [
             [
              0,
              "#0d0887"
             ],
             [
              0.1111111111111111,
              "#46039f"
             ],
             [
              0.2222222222222222,
              "#7201a8"
             ],
             [
              0.3333333333333333,
              "#9c179e"
             ],
             [
              0.4444444444444444,
              "#bd3786"
             ],
             [
              0.5555555555555556,
              "#d8576b"
             ],
             [
              0.6666666666666666,
              "#ed7953"
             ],
             [
              0.7777777777777778,
              "#fb9f3a"
             ],
             [
              0.8888888888888888,
              "#fdca26"
             ],
             [
              1,
              "#f0f921"
             ]
            ],
            "type": "surface"
           }
          ],
          "table": [
           {
            "cells": {
             "fill": {
              "color": "#EBF0F8"
             },
             "line": {
              "color": "white"
             }
            },
            "header": {
             "fill": {
              "color": "#C8D4E3"
             },
             "line": {
              "color": "white"
             }
            },
            "type": "table"
           }
          ]
         },
         "layout": {
          "annotationdefaults": {
           "arrowcolor": "#2a3f5f",
           "arrowhead": 0,
           "arrowwidth": 1
          },
          "autotypenumbers": "strict",
          "coloraxis": {
           "colorbar": {
            "outlinewidth": 0,
            "ticks": ""
           }
          },
          "colorscale": {
           "diverging": [
            [
             0,
             "#8e0152"
            ],
            [
             0.1,
             "#c51b7d"
            ],
            [
             0.2,
             "#de77ae"
            ],
            [
             0.3,
             "#f1b6da"
            ],
            [
             0.4,
             "#fde0ef"
            ],
            [
             0.5,
             "#f7f7f7"
            ],
            [
             0.6,
             "#e6f5d0"
            ],
            [
             0.7,
             "#b8e186"
            ],
            [
             0.8,
             "#7fbc41"
            ],
            [
             0.9,
             "#4d9221"
            ],
            [
             1,
             "#276419"
            ]
           ],
           "sequential": [
            [
             0,
             "#0d0887"
            ],
            [
             0.1111111111111111,
             "#46039f"
            ],
            [
             0.2222222222222222,
             "#7201a8"
            ],
            [
             0.3333333333333333,
             "#9c179e"
            ],
            [
             0.4444444444444444,
             "#bd3786"
            ],
            [
             0.5555555555555556,
             "#d8576b"
            ],
            [
             0.6666666666666666,
             "#ed7953"
            ],
            [
             0.7777777777777778,
             "#fb9f3a"
            ],
            [
             0.8888888888888888,
             "#fdca26"
            ],
            [
             1,
             "#f0f921"
            ]
           ],
           "sequentialminus": [
            [
             0,
             "#0d0887"
            ],
            [
             0.1111111111111111,
             "#46039f"
            ],
            [
             0.2222222222222222,
             "#7201a8"
            ],
            [
             0.3333333333333333,
             "#9c179e"
            ],
            [
             0.4444444444444444,
             "#bd3786"
            ],
            [
             0.5555555555555556,
             "#d8576b"
            ],
            [
             0.6666666666666666,
             "#ed7953"
            ],
            [
             0.7777777777777778,
             "#fb9f3a"
            ],
            [
             0.8888888888888888,
             "#fdca26"
            ],
            [
             1,
             "#f0f921"
            ]
           ]
          },
          "colorway": [
           "#636efa",
           "#EF553B",
           "#00cc96",
           "#ab63fa",
           "#FFA15A",
           "#19d3f3",
           "#FF6692",
           "#B6E880",
           "#FF97FF",
           "#FECB52"
          ],
          "font": {
           "color": "#2a3f5f"
          },
          "geo": {
           "bgcolor": "white",
           "lakecolor": "white",
           "landcolor": "#E5ECF6",
           "showlakes": true,
           "showland": true,
           "subunitcolor": "white"
          },
          "hoverlabel": {
           "align": "left"
          },
          "hovermode": "closest",
          "mapbox": {
           "style": "light"
          },
          "paper_bgcolor": "white",
          "plot_bgcolor": "#E5ECF6",
          "polar": {
           "angularaxis": {
            "gridcolor": "white",
            "linecolor": "white",
            "ticks": ""
           },
           "bgcolor": "#E5ECF6",
           "radialaxis": {
            "gridcolor": "white",
            "linecolor": "white",
            "ticks": ""
           }
          },
          "scene": {
           "xaxis": {
            "backgroundcolor": "#E5ECF6",
            "gridcolor": "white",
            "gridwidth": 2,
            "linecolor": "white",
            "showbackground": true,
            "ticks": "",
            "zerolinecolor": "white"
           },
           "yaxis": {
            "backgroundcolor": "#E5ECF6",
            "gridcolor": "white",
            "gridwidth": 2,
            "linecolor": "white",
            "showbackground": true,
            "ticks": "",
            "zerolinecolor": "white"
           },
           "zaxis": {
            "backgroundcolor": "#E5ECF6",
            "gridcolor": "white",
            "gridwidth": 2,
            "linecolor": "white",
            "showbackground": true,
            "ticks": "",
            "zerolinecolor": "white"
           }
          },
          "shapedefaults": {
           "line": {
            "color": "#2a3f5f"
           }
          },
          "ternary": {
           "aaxis": {
            "gridcolor": "white",
            "linecolor": "white",
            "ticks": ""
           },
           "baxis": {
            "gridcolor": "white",
            "linecolor": "white",
            "ticks": ""
           },
           "bgcolor": "#E5ECF6",
           "caxis": {
            "gridcolor": "white",
            "linecolor": "white",
            "ticks": ""
           }
          },
          "title": {
           "x": 0.05
          },
          "xaxis": {
           "automargin": true,
           "gridcolor": "white",
           "linecolor": "white",
           "ticks": "",
           "title": {
            "standoff": 15
           },
           "zerolinecolor": "white",
           "zerolinewidth": 2
          },
          "yaxis": {
           "automargin": true,
           "gridcolor": "white",
           "linecolor": "white",
           "ticks": "",
           "title": {
            "standoff": 15
           },
           "zerolinecolor": "white",
           "zerolinewidth": 2
          }
         }
        },
        "title": {
         "text": "Early Time Period Common Topics"
        },
        "xaxis": {
         "anchor": "y",
         "domain": [
          0,
          1
         ],
         "dtick": "M1",
         "tickformat": "%b %d",
         "ticklabelmode": "period",
         "title": {
          "text": "timepoint"
         }
        },
        "yaxis": {
         "anchor": "x",
         "domain": [
          0,
          1
         ],
         "title": {
          "text": "value"
         }
        }
       }
      }
     },
     "metadata": {},
     "output_type": "display_data"
    }
   ],
   "source": [
    "td = pd.DataFrame()\n",
    "for timepoint in range(best_mdl.num_timepoints):\n",
    "    td_tmp = pd.DataFrame(\n",
    "        np.stack([doc.get_topic_dist() for doc in best_mdl.docs if doc.timepoint == timepoint]),\n",
    "        columns=[\"topic_{}\".format(i + 1) for i in range(best_mdl.k)],\n",
    "    )\n",
    "    td_tmp[\"timepoint\"] = timepoint\n",
    "    td = pd.concat([td, td_tmp], ignore_index=True)\n",
    "    del td_tmp\n",
    "\n",
    "tp_slelcted = [2, 5, 6, 7, 8, 10, 12, 13, 14, 15, 16, 17, 19, 20, 24, 25, 27, 29, 30, 31, 32, 33, 35, 36, 40, 42, 43, 47]\n",
    "topic_list = []\n",
    "for i in tp_slelcted:\n",
    "    topic_list.append(f\"topic_{i}\")\n",
    "\n",
    "import plotly.express as px\n",
    "fig = px.line(td, x=\"timepoint\", y=topic_list,\n",
    "            #   hover_data={\"timepoint\": \"|%B %d, %Y\"},\n",
    "              title='Early Time Period Common Topics')\n",
    "fig.update_xaxes(\n",
    "    dtick=\"M1\",\n",
    "    tickformat=\"%b %d\",\n",
    "    ticklabelmode=\"period\")\n",
    "fig.show()"
   ]
  },
  {
   "cell_type": "code",
   "execution_count": 138,
   "metadata": {},
   "outputs": [
    {
     "name": "stdout",
     "output_type": "stream",
     "text": [
      "[ 2  3  8 10 17 22 25 27 43 45]\n",
      "[ 0  1  2  3  4  5  6  7  8  9 10 11]\n"
     ]
    },
    {
     "data": {
      "text/html": [
       "<div>\n",
       "<style scoped>\n",
       "    .dataframe tbody tr th:only-of-type {\n",
       "        vertical-align: middle;\n",
       "    }\n",
       "\n",
       "    .dataframe tbody tr th {\n",
       "        vertical-align: top;\n",
       "    }\n",
       "\n",
       "    .dataframe thead th {\n",
       "        text-align: right;\n",
       "    }\n",
       "</style>\n",
       "<table border=\"1\" class=\"dataframe\">\n",
       "  <thead>\n",
       "    <tr style=\"text-align: right;\">\n",
       "      <th></th>\n",
       "      <th>25</th>\n",
       "      <th>52</th>\n",
       "      <th>86</th>\n",
       "      <th>20</th>\n",
       "      <th>103</th>\n",
       "      <th>63</th>\n",
       "      <th>72</th>\n",
       "      <th>147</th>\n",
       "      <th>141</th>\n",
       "      <th>140</th>\n",
       "      <th>27</th>\n",
       "      <th>98</th>\n",
       "      <th>29</th>\n",
       "      <th>31</th>\n",
       "      <th>0</th>\n",
       "      <th>33</th>\n",
       "      <th>95</th>\n",
       "      <th>88</th>\n",
       "      <th>24</th>\n",
       "      <th>37</th>\n",
       "      <th>87</th>\n",
       "      <th>79</th>\n",
       "      <th>36</th>\n",
       "      <th>57</th>\n",
       "      <th>8</th>\n",
       "      <th>22</th>\n",
       "      <th>121</th>\n",
       "      <th>2</th>\n",
       "      <th>128</th>\n",
       "      <th>133</th>\n",
       "      <th>3</th>\n",
       "      <th>135</th>\n",
       "      <th>12</th>\n",
       "      <th>11</th>\n",
       "      <th>145</th>\n",
       "      <th>65</th>\n",
       "      <th>66</th>\n",
       "      <th>75</th>\n",
       "      <th>118</th>\n",
       "      <th>139</th>\n",
       "      <th>138</th>\n",
       "      <th>134</th>\n",
       "      <th>110</th>\n",
       "      <th>84</th>\n",
       "      <th>83</th>\n",
       "      <th>77</th>\n",
       "      <th>46</th>\n",
       "      <th>100</th>\n",
       "      <th>129</th>\n",
       "      <th>146</th>\n",
       "      <th>64</th>\n",
       "      <th>126</th>\n",
       "      <th>76</th>\n",
       "      <th>47</th>\n",
       "      <th>148</th>\n",
       "      <th>109</th>\n",
       "      <th>38</th>\n",
       "      <th>150</th>\n",
       "      <th>137</th>\n",
       "      <th>16</th>\n",
       "      <th>58</th>\n",
       "      <th>143</th>\n",
       "      <th>102</th>\n",
       "      <th>49</th>\n",
       "      <th>132</th>\n",
       "      <th>10</th>\n",
       "      <th>32</th>\n",
       "      <th>34</th>\n",
       "      <th>116</th>\n",
       "      <th>15</th>\n",
       "      <th>80</th>\n",
       "      <th>81</th>\n",
       "      <th>62</th>\n",
       "      <th>44</th>\n",
       "      <th>115</th>\n",
       "      <th>85</th>\n",
       "      <th>41</th>\n",
       "      <th>151</th>\n",
       "      <th>73</th>\n",
       "      <th>90</th>\n",
       "      <th>104</th>\n",
       "      <th>68</th>\n",
       "      <th>144</th>\n",
       "      <th>97</th>\n",
       "      <th>6</th>\n",
       "      <th>35</th>\n",
       "      <th>61</th>\n",
       "      <th>67</th>\n",
       "      <th>122</th>\n",
       "      <th>142</th>\n",
       "      <th>13</th>\n",
       "      <th>26</th>\n",
       "      <th>60</th>\n",
       "      <th>71</th>\n",
       "      <th>125</th>\n",
       "      <th>124</th>\n",
       "      <th>127</th>\n",
       "      <th>1</th>\n",
       "      <th>69</th>\n",
       "      <th>21</th>\n",
       "      <th>107</th>\n",
       "      <th>50</th>\n",
       "      <th>114</th>\n",
       "      <th>42</th>\n",
       "      <th>56</th>\n",
       "      <th>39</th>\n",
       "      <th>14</th>\n",
       "      <th>48</th>\n",
       "      <th>40</th>\n",
       "      <th>101</th>\n",
       "      <th>7</th>\n",
       "      <th>28</th>\n",
       "      <th>106</th>\n",
       "      <th>130</th>\n",
       "      <th>94</th>\n",
       "      <th>70</th>\n",
       "      <th>23</th>\n",
       "      <th>55</th>\n",
       "      <th>19</th>\n",
       "      <th>120</th>\n",
       "      <th>78</th>\n",
       "      <th>119</th>\n",
       "      <th>30</th>\n",
       "      <th>111</th>\n",
       "      <th>18</th>\n",
       "      <th>131</th>\n",
       "      <th>92</th>\n",
       "      <th>113</th>\n",
       "      <th>4</th>\n",
       "      <th>91</th>\n",
       "      <th>43</th>\n",
       "      <th>17</th>\n",
       "      <th>53</th>\n",
       "      <th>54</th>\n",
       "      <th>99</th>\n",
       "      <th>9</th>\n",
       "      <th>123</th>\n",
       "      <th>74</th>\n",
       "      <th>45</th>\n",
       "      <th>108</th>\n",
       "      <th>136</th>\n",
       "      <th>59</th>\n",
       "      <th>105</th>\n",
       "      <th>117</th>\n",
       "      <th>96</th>\n",
       "      <th>5</th>\n",
       "      <th>82</th>\n",
       "      <th>51</th>\n",
       "      <th>93</th>\n",
       "      <th>89</th>\n",
       "      <th>112</th>\n",
       "      <th>149</th>\n",
       "    </tr>\n",
       "  </thead>\n",
       "  <tbody>\n",
       "    <tr>\n",
       "      <th>word</th>\n",
       "      <td>contribution</td>\n",
       "      <td>feature</td>\n",
       "      <td>mic</td>\n",
       "      <td>circle</td>\n",
       "      <td>possibility</td>\n",
       "      <td>health</td>\n",
       "      <td>individual</td>\n",
       "      <td>unwriter</td>\n",
       "      <td>sustainability</td>\n",
       "      <td>surplus</td>\n",
       "      <td>cover</td>\n",
       "      <td>platform</td>\n",
       "      <td>cut</td>\n",
       "      <td>degree</td>\n",
       "      <td>access</td>\n",
       "      <td>dialing</td>\n",
       "      <td>picipant</td>\n",
       "      <td>movement</td>\n",
       "      <td>conclusion</td>\n",
       "      <td>distinction</td>\n",
       "      <td>mismatch</td>\n",
       "      <td>leave</td>\n",
       "      <td>discount</td>\n",
       "      <td>frequency</td>\n",
       "      <td>boat</td>\n",
       "      <td>cluster</td>\n",
       "      <td>reporting</td>\n",
       "      <td>appeal</td>\n",
       "      <td>selection</td>\n",
       "      <td>silo</td>\n",
       "      <td>aspiration</td>\n",
       "      <td>staff</td>\n",
       "      <td>capacity</td>\n",
       "      <td>break</td>\n",
       "      <td>track</td>\n",
       "      <td>hold</td>\n",
       "      <td>idea</td>\n",
       "      <td>initiative</td>\n",
       "      <td>reinsurer</td>\n",
       "      <td>superior</td>\n",
       "      <td>summary</td>\n",
       "      <td>size</td>\n",
       "      <td>progress</td>\n",
       "      <td>maturity</td>\n",
       "      <td>mark</td>\n",
       "      <td>integration</td>\n",
       "      <td>exchange</td>\n",
       "      <td>policymaker</td>\n",
       "      <td>set</td>\n",
       "      <td>traction</td>\n",
       "      <td>healthcare</td>\n",
       "      <td>scheme</td>\n",
       "      <td>insurer</td>\n",
       "      <td>expansion</td>\n",
       "      <td>unwriting</td>\n",
       "      <td>program</td>\n",
       "      <td>distribution</td>\n",
       "      <td>volatility</td>\n",
       "      <td>structure</td>\n",
       "      <td>cat</td>\n",
       "      <td>fund</td>\n",
       "      <td>tax</td>\n",
       "      <td>position</td>\n",
       "      <td>exposure</td>\n",
       "      <td>sheet</td>\n",
       "      <td>book</td>\n",
       "      <td>development</td>\n",
       "      <td>disaster</td>\n",
       "      <td>region</td>\n",
       "      <td>casualty</td>\n",
       "      <td>life</td>\n",
       "      <td>loss</td>\n",
       "      <td>half</td>\n",
       "      <td>equity</td>\n",
       "      <td>reduction</td>\n",
       "      <td>meeting</td>\n",
       "      <td>ehquake</td>\n",
       "      <td>yen</td>\n",
       "      <td>industry</td>\n",
       "      <td>operation</td>\n",
       "      <td>premium</td>\n",
       "      <td>impairment</td>\n",
       "      <td>total</td>\n",
       "      <td>plan</td>\n",
       "      <td>bank</td>\n",
       "      <td>discip</td>\n",
       "      <td>growth</td>\n",
       "      <td>impact</td>\n",
       "      <td>reserve</td>\n",
       "      <td>target</td>\n",
       "      <td>capital</td>\n",
       "      <td>cost</td>\n",
       "      <td>gain</td>\n",
       "      <td>increase</td>\n",
       "      <td>sale</td>\n",
       "      <td>return</td>\n",
       "      <td>segment</td>\n",
       "      <td>acquisition</td>\n",
       "      <td>improvement</td>\n",
       "      <td>claim</td>\n",
       "      <td>profit</td>\n",
       "      <td>extent</td>\n",
       "      <td>rating</td>\n",
       "      <td>employee</td>\n",
       "      <td>forecast</td>\n",
       "      <td>divid</td>\n",
       "      <td>cash</td>\n",
       "      <td>expense</td>\n",
       "      <td>earn</td>\n",
       "      <td>portfolio</td>\n",
       "      <td>basis</td>\n",
       "      <td>customer</td>\n",
       "      <td>product</td>\n",
       "      <td>share</td>\n",
       "      <td>performance</td>\n",
       "      <td>income</td>\n",
       "      <td>company</td>\n",
       "      <td>focus</td>\n",
       "      <td>channel</td>\n",
       "      <td>release</td>\n",
       "      <td>lapse</td>\n",
       "      <td>relationship</td>\n",
       "      <td>debt</td>\n",
       "      <td>property</td>\n",
       "      <td>change</td>\n",
       "      <td>sharehol</td>\n",
       "      <td>pension</td>\n",
       "      <td>quality</td>\n",
       "      <td>asset</td>\n",
       "      <td>opportie</td>\n",
       "      <td>environment</td>\n",
       "      <td>catastrophe</td>\n",
       "      <td>figure</td>\n",
       "      <td>flow</td>\n",
       "      <td>policy</td>\n",
       "      <td>bond</td>\n",
       "      <td>retention</td>\n",
       "      <td>inflow</td>\n",
       "      <td>event</td>\n",
       "      <td>profitability</td>\n",
       "      <td>strength</td>\n",
       "      <td>future</td>\n",
       "      <td>process</td>\n",
       "      <td>reinstatement</td>\n",
       "      <td>ping</td>\n",
       "      <td>balance</td>\n",
       "      <td>margin</td>\n",
       "      <td>eﬀect</td>\n",
       "      <td>percentage</td>\n",
       "      <td>net</td>\n",
       "      <td>protection</td>\n",
       "      <td>vitality</td>\n",
       "    </tr>\n",
       "    <tr>\n",
       "      <th>prob</th>\n",
       "      <td>0.1</td>\n",
       "      <td>0.1</td>\n",
       "      <td>0.1</td>\n",
       "      <td>0.1</td>\n",
       "      <td>0.1</td>\n",
       "      <td>0.063</td>\n",
       "      <td>0.063</td>\n",
       "      <td>0.063</td>\n",
       "      <td>0.063</td>\n",
       "      <td>0.063</td>\n",
       "      <td>0.0565</td>\n",
       "      <td>0.056</td>\n",
       "      <td>0.056</td>\n",
       "      <td>0.056</td>\n",
       "      <td>0.056</td>\n",
       "      <td>0.056</td>\n",
       "      <td>0.056</td>\n",
       "      <td>0.056</td>\n",
       "      <td>0.056</td>\n",
       "      <td>0.056</td>\n",
       "      <td>0.056</td>\n",
       "      <td>0.056</td>\n",
       "      <td>0.056</td>\n",
       "      <td>0.056</td>\n",
       "      <td>0.056</td>\n",
       "      <td>0.056</td>\n",
       "      <td>0.056</td>\n",
       "      <td>0.056</td>\n",
       "      <td>0.056</td>\n",
       "      <td>0.056</td>\n",
       "      <td>0.056</td>\n",
       "      <td>0.056</td>\n",
       "      <td>0.056</td>\n",
       "      <td>0.056</td>\n",
       "      <td>0.056</td>\n",
       "      <td>0.05</td>\n",
       "      <td>0.05</td>\n",
       "      <td>0.05</td>\n",
       "      <td>0.05</td>\n",
       "      <td>0.05</td>\n",
       "      <td>0.05</td>\n",
       "      <td>0.05</td>\n",
       "      <td>0.049</td>\n",
       "      <td>0.042</td>\n",
       "      <td>0.042</td>\n",
       "      <td>0.042</td>\n",
       "      <td>0.042</td>\n",
       "      <td>0.042</td>\n",
       "      <td>0.042</td>\n",
       "      <td>0.036</td>\n",
       "      <td>0.036</td>\n",
       "      <td>0.036</td>\n",
       "      <td>0.036</td>\n",
       "      <td>0.036</td>\n",
       "      <td>0.0325</td>\n",
       "      <td>0.0305</td>\n",
       "      <td>0.02825</td>\n",
       "      <td>0.025333</td>\n",
       "      <td>0.0225</td>\n",
       "      <td>0.0206</td>\n",
       "      <td>0.0192</td>\n",
       "      <td>0.0186</td>\n",
       "      <td>0.018</td>\n",
       "      <td>0.01775</td>\n",
       "      <td>0.017333</td>\n",
       "      <td>0.0161</td>\n",
       "      <td>0.014526</td>\n",
       "      <td>0.014</td>\n",
       "      <td>0.013</td>\n",
       "      <td>0.013</td>\n",
       "      <td>0.012476</td>\n",
       "      <td>0.012409</td>\n",
       "      <td>0.012389</td>\n",
       "      <td>0.01235</td>\n",
       "      <td>0.012</td>\n",
       "      <td>0.012</td>\n",
       "      <td>0.012</td>\n",
       "      <td>0.011333</td>\n",
       "      <td>0.011333</td>\n",
       "      <td>0.011143</td>\n",
       "      <td>0.011101</td>\n",
       "      <td>0.011</td>\n",
       "      <td>0.011</td>\n",
       "      <td>0.011</td>\n",
       "      <td>0.011</td>\n",
       "      <td>0.011</td>\n",
       "      <td>0.010926</td>\n",
       "      <td>0.01081</td>\n",
       "      <td>0.010727</td>\n",
       "      <td>0.010667</td>\n",
       "      <td>0.010535</td>\n",
       "      <td>0.010525</td>\n",
       "      <td>0.010333</td>\n",
       "      <td>0.010263</td>\n",
       "      <td>0.010263</td>\n",
       "      <td>0.0102</td>\n",
       "      <td>0.010188</td>\n",
       "      <td>0.010167</td>\n",
       "      <td>0.010143</td>\n",
       "      <td>0.010129</td>\n",
       "      <td>0.010077</td>\n",
       "      <td>0.01</td>\n",
       "      <td>0.01</td>\n",
       "      <td>0.01</td>\n",
       "      <td>0.01</td>\n",
       "      <td>0.009889</td>\n",
       "      <td>0.009857</td>\n",
       "      <td>0.009778</td>\n",
       "      <td>0.009571</td>\n",
       "      <td>0.009545</td>\n",
       "      <td>0.009444</td>\n",
       "      <td>0.009412</td>\n",
       "      <td>0.009295</td>\n",
       "      <td>0.009174</td>\n",
       "      <td>0.009143</td>\n",
       "      <td>0.009102</td>\n",
       "      <td>0.009091</td>\n",
       "      <td>0.009</td>\n",
       "      <td>0.009</td>\n",
       "      <td>0.009</td>\n",
       "      <td>0.009</td>\n",
       "      <td>0.009</td>\n",
       "      <td>0.009</td>\n",
       "      <td>0.009</td>\n",
       "      <td>0.008889</td>\n",
       "      <td>0.008833</td>\n",
       "      <td>0.008667</td>\n",
       "      <td>0.0085</td>\n",
       "      <td>0.0085</td>\n",
       "      <td>0.0085</td>\n",
       "      <td>0.0084</td>\n",
       "      <td>0.0084</td>\n",
       "      <td>0.00825</td>\n",
       "      <td>0.00825</td>\n",
       "      <td>0.0082</td>\n",
       "      <td>0.008</td>\n",
       "      <td>0.008</td>\n",
       "      <td>0.008</td>\n",
       "      <td>0.008</td>\n",
       "      <td>0.008</td>\n",
       "      <td>0.008</td>\n",
       "      <td>0.008</td>\n",
       "      <td>0.008</td>\n",
       "      <td>0.008</td>\n",
       "      <td>0.008</td>\n",
       "      <td>0.0078</td>\n",
       "      <td>0.007667</td>\n",
       "      <td>0.007</td>\n",
       "      <td>0.007</td>\n",
       "      <td>0.007</td>\n",
       "      <td>0.006</td>\n",
       "      <td>0.006</td>\n",
       "    </tr>\n",
       "  </tbody>\n",
       "</table>\n",
       "</div>"
      ],
      "text/plain": [
       "               25       52   86      20           103     63          72   \\\n",
       "word  contribution  feature  mic  circle  possibility  health  individual   \n",
       "prob           0.1      0.1  0.1     0.1          0.1   0.063       0.063   \n",
       "\n",
       "           147             141      140     27        98     29      31   \\\n",
       "word  unwriter  sustainability  surplus   cover  platform    cut  degree   \n",
       "prob     0.063           0.063    0.063  0.0565     0.056  0.056   0.056   \n",
       "\n",
       "         0        33        95        88          24           37        87   \\\n",
       "word  access  dialing  picipant  movement  conclusion  distinction  mismatch   \n",
       "prob   0.056    0.056     0.056     0.056       0.056        0.056     0.056   \n",
       "\n",
       "        79        36         57     8        22         121     2    \\\n",
       "word  leave  discount  frequency   boat  cluster  reporting  appeal   \n",
       "prob  0.056     0.056      0.056  0.056    0.056      0.056   0.056   \n",
       "\n",
       "            128    133         3      135       12     11     145   65    66   \\\n",
       "word  selection   silo  aspiration  staff  capacity  break  track  hold  idea   \n",
       "prob      0.056  0.056       0.056  0.056     0.056  0.056  0.056  0.05  0.05   \n",
       "\n",
       "             75         118       139      138   134       110       84   \\\n",
       "word  initiative  reinsurer  superior  summary  size  progress  maturity   \n",
       "prob        0.05       0.05      0.05     0.05  0.05     0.049     0.042   \n",
       "\n",
       "        83           77        46           100    129       146         64   \\\n",
       "word   mark  integration  exchange  policymaker    set  traction  healthcare   \n",
       "prob  0.042        0.042     0.042        0.042  0.042     0.036       0.036   \n",
       "\n",
       "         126      76         47         148      109           38   \\\n",
       "word  scheme  insurer  expansion  unwriting  program  distribution   \n",
       "prob   0.036    0.036      0.036     0.0325   0.0305       0.02825   \n",
       "\n",
       "             150        137     16      58      143       102       49   \\\n",
       "word  volatility  structure     cat    fund     tax  position  exposure   \n",
       "prob    0.025333     0.0225  0.0206  0.0192  0.0186     0.018   0.01775   \n",
       "\n",
       "           132     10           32        34      116       15        80   \\\n",
       "word     sheet    book  development  disaster  region  casualty      life   \n",
       "prob  0.017333  0.0161     0.014526     0.014   0.013     0.013  0.012476   \n",
       "\n",
       "           81        62       44         115      85       41        151  \\\n",
       "word      loss      half   equity  reduction  meeting  ehquake       yen   \n",
       "prob  0.012409  0.012389  0.01235      0.012    0.012    0.012  0.011333   \n",
       "\n",
       "           73         90        104         68     144    97     6       35   \\\n",
       "word  industry  operation   premium  impairment  total   plan   bank  discip   \n",
       "prob  0.011333   0.011143  0.011101       0.011  0.011  0.011  0.011   0.011   \n",
       "\n",
       "           61       67        122       142       13        26        60   \\\n",
       "word    growth   impact   reserve    target   capital      cost      gain   \n",
       "prob  0.010926  0.01081  0.010727  0.010667  0.010535  0.010525  0.010333   \n",
       "\n",
       "           71        125     124       127          1            69   \\\n",
       "word  increase      sale  return   segment  acquisition  improvement   \n",
       "prob  0.010263  0.010263  0.0102  0.010188     0.010167     0.010143   \n",
       "\n",
       "           21        107     50      114       42        56        39   \\\n",
       "word     claim    profit  extent  rating  employee  forecast     divid   \n",
       "prob  0.010129  0.010077    0.01    0.01      0.01      0.01  0.009889   \n",
       "\n",
       "           14        48        40         101       7         28        106  \\\n",
       "word      cash   expense      earn  portfolio     basis  customer   product   \n",
       "prob  0.009857  0.009778  0.009571   0.009545  0.009444  0.009412  0.009295   \n",
       "\n",
       "           130          94        70        23     55       19       120  \\\n",
       "word     share  performance    income   company  focus  channel  release   \n",
       "prob  0.009174     0.009143  0.009102  0.009091  0.009    0.009    0.009   \n",
       "\n",
       "        78            119    30        111       18        131       92   \\\n",
       "word  lapse  relationship   debt  property    change  sharehol   pension   \n",
       "prob  0.009         0.009  0.009     0.009  0.008889  0.008833  0.008667   \n",
       "\n",
       "          113     4         91           43           17       53       54   \\\n",
       "word  quality   asset  opportie  environment  catastrophe   figure     flow   \n",
       "prob   0.0085  0.0085    0.0085       0.0084       0.0084  0.00825  0.00825   \n",
       "\n",
       "         99     9          123     74     45             108       136  \\\n",
       "word  policy   bond  retention  inflow  event  profitability  strength   \n",
       "prob  0.0082  0.008      0.008   0.008  0.008          0.008     0.008   \n",
       "\n",
       "         59       105            117    96       5         82     51   \\\n",
       "word  future  process  reinstatement   ping  balance    margin  eﬀect   \n",
       "prob   0.008    0.008          0.008  0.008   0.0078  0.007667  0.007   \n",
       "\n",
       "             93     89          112       149  \n",
       "word  percentage    net  protection  vitality  \n",
       "prob       0.007  0.007       0.006     0.006  "
      ]
     },
     "execution_count": 138,
     "metadata": {},
     "output_type": "execute_result"
    }
   ],
   "source": [
    "MD_DTM_early = pd.DataFrame()\n",
    "for i in tp_slelcted:\n",
    "    tmp_topic = wt[wt['k']==i-1]\n",
    "    MD_DTM_early = MD_DTM_early.append(tmp_topic)\n",
    "\n",
    "\n",
    "time_list = []\n",
    "for i in range(12):\n",
    "    time_list.append(i)\n",
    "\n",
    "# MD_DTM_early['k'] is in any of the time_list\n",
    "MD_DTM_early = MD_DTM_early[MD_DTM_early['timepoint'].isin(time_list)]\n",
    "\n",
    "print(MD_DTM_early.k.unique())\n",
    "print(MD_DTM_early.timepoint.unique())\n",
    "\n",
    "# groupby word and get the average of prob\n",
    "MD_DTM_early = MD_DTM_early.groupby(['word'])['prob'].mean().reset_index()\n",
    "# sort by prob\n",
    "MD_DTM_early.sort_values(by='prob', ascending=False, inplace=True)\n",
    "MD_DTM_early.T"
   ]
  },
  {
   "cell_type": "markdown",
   "metadata": {},
   "source": [
    "# During the recent of time "
   ]
  },
  {
   "cell_type": "code",
   "execution_count": 149,
   "metadata": {},
   "outputs": [
    {
     "data": {
      "application/vnd.plotly.v1+json": {
       "config": {
        "plotlyServerURL": "https://plot.ly"
       },
       "data": [
        {
         "hovertemplate": "variable=topic_21<br>timepoint=%{x}<br>value=%{y}<extra></extra>",
         "legendgroup": "topic_21",
         "line": {
          "color": "#636efa",
          "dash": "solid"
         },
         "marker": {
          "symbol": "circle"
         },
         "mode": "lines",
         "name": "topic_21",
         "orientation": "v",
         "showlegend": true,
         "type": "scatter",
         "x": [
          0,
          1,
          2,
          3,
          4,
          5,
          6,
          7,
          8,
          9,
          10,
          11,
          12,
          13,
          14,
          15,
          16,
          17,
          18,
          19,
          20,
          21,
          22,
          23,
          24,
          25,
          26,
          27,
          28,
          29,
          30,
          31,
          32,
          33,
          34,
          35,
          36,
          37,
          38,
          39,
          40,
          41,
          42,
          43,
          44,
          45
         ],
         "xaxis": "x",
         "y": [
          0.017750808969140053,
          0.020193902775645256,
          0.02110099419951439,
          0.01942094974219799,
          0.019565165042877197,
          0.019835729151964188,
          0.017365114763379097,
          0.017771005630493164,
          0.011992777697741985,
          0.013130445964634418,
          0.00011004731641151011,
          0.01415252685546875,
          0.00013490166747942567,
          0.0000051055053518211935,
          0.000003142114792353823,
          0.00004549271034193225,
          0.00006827336619608104,
          0.00006277929787756875,
          0.0000034207098451588536,
          0.00010755056428024545,
          0.0000026942777822114294,
          0.000004450834239833057,
          0.00003553006172296591,
          0.000004297249688534066,
          0.0000028601912163139787,
          0.0000033645451367192436,
          0.00003296502472949214,
          0.0000025583497063053073,
          0.000043736603402066976,
          0.00006966167711652815,
          0.00011408632417442277,
          0.9991444945335388,
          0.00004638659447664395,
          0.00003271696550655179,
          0.000023718295778962784,
          0.000003580033535399707,
          0.0000030502033041557297,
          0.0000034368160868325504,
          0.000058944555348716676,
          0.000003099170498899184,
          0.0000024046728412940865,
          0.00007421359623549506,
          0.000003182615500918473,
          0.9990890622138977,
          0.9745202660560608,
          0.026122527197003365
         ],
         "yaxis": "y"
        },
        {
         "hovertemplate": "variable=topic_11<br>timepoint=%{x}<br>value=%{y}<extra></extra>",
         "legendgroup": "topic_11",
         "line": {
          "color": "#EF553B",
          "dash": "solid"
         },
         "marker": {
          "symbol": "circle"
         },
         "mode": "lines",
         "name": "topic_11",
         "orientation": "v",
         "showlegend": true,
         "type": "scatter",
         "x": [
          0,
          1,
          2,
          3,
          4,
          5,
          6,
          7,
          8,
          9,
          10,
          11,
          12,
          13,
          14,
          15,
          16,
          17,
          18,
          19,
          20,
          21,
          22,
          23,
          24,
          25,
          26,
          27,
          28,
          29,
          30,
          31,
          32,
          33,
          34,
          35,
          36,
          37,
          38,
          39,
          40,
          41,
          42,
          43,
          44,
          45
         ],
         "xaxis": "x",
         "y": [
          0.015014108270406723,
          0.018765510991215706,
          0.01825818233191967,
          0.01998605951666832,
          0.019156021997332573,
          0.02524137683212757,
          0.02105982042849064,
          0.017083538696169853,
          0.013381902128458023,
          0.019360562786459923,
          0.00047687176265753806,
          0.015073657967150211,
          0.00013490166747942567,
          0.000056160562962759286,
          0.000003142114792353823,
          0.00000413570069213165,
          0.00003576224116841331,
          0.000005707209311367478,
          0.00003762780761462636,
          0.0000563360117666889,
          0.000029637054467457347,
          0.00009346751176053658,
          0.0000032300056318490533,
          0.00009024223254527897,
          0.000031462102924706414,
          0.0000033645451367192436,
          0.00003296502472949214,
          0.000028141846996732056,
          0.0000020826955733355135,
          0.00006966167711652815,
          0.000002782593355732388,
          0.000002337666728635668,
          0.0000022088854620960774,
          0.00003271696550655179,
          0.0000021562086658377666,
          0.000003580033535399707,
          0.0000030502033041557297,
          0.00007217313395813107,
          0.0000028068836854799883,
          0.000003099170498899184,
          0.0000024046728412940865,
          0.00007421359623549506,
          0.9988351464271545,
          0.0000031850481718720403,
          0.0009303868282586336,
          0.01403737161308527
         ],
         "yaxis": "y"
        },
        {
         "hovertemplate": "variable=topic_28<br>timepoint=%{x}<br>value=%{y}<extra></extra>",
         "legendgroup": "topic_28",
         "line": {
          "color": "#00cc96",
          "dash": "solid"
         },
         "marker": {
          "symbol": "circle"
         },
         "mode": "lines",
         "name": "topic_28",
         "orientation": "v",
         "showlegend": true,
         "type": "scatter",
         "x": [
          0,
          1,
          2,
          3,
          4,
          5,
          6,
          7,
          8,
          9,
          10,
          11,
          12,
          13,
          14,
          15,
          16,
          17,
          18,
          19,
          20,
          21,
          22,
          23,
          24,
          25,
          26,
          27,
          28,
          29,
          30,
          31,
          32,
          33,
          34,
          35,
          36,
          37,
          38,
          39,
          40,
          41,
          42,
          43,
          44,
          45
         ],
         "xaxis": "x",
         "y": [
          0.017656439915299416,
          0.021265197545289993,
          0.020000550895929337,
          0.017160508781671524,
          0.02308378368616104,
          0.027343574911355972,
          0.022851193323731422,
          0.021322915330529213,
          0.01333045307546854,
          0.017095066606998444,
          0.0005292752757668495,
          0.043562933802604675,
          0.9957528114318848,
          0.0000051055053518211935,
          0.000003142114792353823,
          0.00000413570069213165,
          0.00003576224116841331,
          0.000005707209311367478,
          0.00003762780761462636,
          0.000005121455615153536,
          0.0000026942777822114294,
          0.000048959176638163626,
          0.00003553006172296591,
          0.9976537227630615,
          0.9990676641464233,
          0.00013794635015074164,
          0.00003296502472949214,
          0.0000025583497063053073,
          0.000022909651306690648,
          0.0000033172227631439455,
          0.00003060852759517729,
          0.000002337666728635668,
          0.000024297740310430527,
          0.0000029742698188783834,
          0.000023718295778962784,
          0.0000751807019696571,
          0.00003355223816470243,
          0.00007217313395813107,
          0.0000028068836854799883,
          0.000003099170498899184,
          0.0000745448560337536,
          0.9978230595588684,
          0.00006683491665171459,
          0.00003503552943584509,
          0.0005619167350232601,
          0.01682625338435173
         ],
         "yaxis": "y"
        },
        {
         "hovertemplate": "variable=topic_18<br>timepoint=%{x}<br>value=%{y}<extra></extra>",
         "legendgroup": "topic_18",
         "line": {
          "color": "#ab63fa",
          "dash": "solid"
         },
         "marker": {
          "symbol": "circle"
         },
         "mode": "lines",
         "name": "topic_18",
         "orientation": "v",
         "showlegend": true,
         "type": "scatter",
         "x": [
          0,
          1,
          2,
          3,
          4,
          5,
          6,
          7,
          8,
          9,
          10,
          11,
          12,
          13,
          14,
          15,
          16,
          17,
          18,
          19,
          20,
          21,
          22,
          23,
          24,
          25,
          26,
          27,
          28,
          29,
          30,
          31,
          32,
          33,
          34,
          35,
          36,
          37,
          38,
          39,
          40,
          41,
          42,
          43,
          44,
          45
         ],
         "xaxis": "x",
         "y": [
          0.01992129720747471,
          0.023586338385939598,
          0.01789136789739132,
          0.02055116929113865,
          0.020792590454220772,
          0.022238239645957947,
          0.02105982042849064,
          0.01926051639020443,
          0.011118142865598202,
          0.016528692096471786,
          0.00047687176265753806,
          0.02152157761156559,
          0.00013490166747942567,
          0.000056160562962759286,
          0.000003142114792353823,
          0.00008684970816830173,
          0.00003576224116841331,
          0.00006277929787756875,
          0.0000034207098451588536,
          0.0000563360117666889,
          0.0000026942777822114294,
          0.000048959176638163626,
          0.00003553006172296591,
          0.000004297249688534066,
          0.00008866591815603897,
          0.0000033645451367192436,
          0.00003296502472949214,
          0.0000025583497063053073,
          0.000022909651306690648,
          0.0000033172227631439455,
          0.000002782593355732388,
          0.000002337666728635668,
          0.0000022088854620960774,
          0.00006245965778362006,
          0.000023718295778962784,
          0.00003938037116313353,
          0.0000030502033041557297,
          0.0000034368160868325504,
          0.0000028068836854799883,
          0.00003409087366890162,
          0.9990959167480469,
          0.00007421359623549506,
          0.000035008768463740125,
          0.00003503552943584509,
          0.0005619167350232601,
          0.018685508519411087
         ],
         "yaxis": "y"
        }
       ],
       "layout": {
        "legend": {
         "title": {
          "text": "variable"
         },
         "tracegroupgap": 0
        },
        "template": {
         "data": {
          "bar": [
           {
            "error_x": {
             "color": "#2a3f5f"
            },
            "error_y": {
             "color": "#2a3f5f"
            },
            "marker": {
             "line": {
              "color": "#E5ECF6",
              "width": 0.5
             },
             "pattern": {
              "fillmode": "overlay",
              "size": 10,
              "solidity": 0.2
             }
            },
            "type": "bar"
           }
          ],
          "barpolar": [
           {
            "marker": {
             "line": {
              "color": "#E5ECF6",
              "width": 0.5
             },
             "pattern": {
              "fillmode": "overlay",
              "size": 10,
              "solidity": 0.2
             }
            },
            "type": "barpolar"
           }
          ],
          "carpet": [
           {
            "aaxis": {
             "endlinecolor": "#2a3f5f",
             "gridcolor": "white",
             "linecolor": "white",
             "minorgridcolor": "white",
             "startlinecolor": "#2a3f5f"
            },
            "baxis": {
             "endlinecolor": "#2a3f5f",
             "gridcolor": "white",
             "linecolor": "white",
             "minorgridcolor": "white",
             "startlinecolor": "#2a3f5f"
            },
            "type": "carpet"
           }
          ],
          "choropleth": [
           {
            "colorbar": {
             "outlinewidth": 0,
             "ticks": ""
            },
            "type": "choropleth"
           }
          ],
          "contour": [
           {
            "colorbar": {
             "outlinewidth": 0,
             "ticks": ""
            },
            "colorscale": [
             [
              0,
              "#0d0887"
             ],
             [
              0.1111111111111111,
              "#46039f"
             ],
             [
              0.2222222222222222,
              "#7201a8"
             ],
             [
              0.3333333333333333,
              "#9c179e"
             ],
             [
              0.4444444444444444,
              "#bd3786"
             ],
             [
              0.5555555555555556,
              "#d8576b"
             ],
             [
              0.6666666666666666,
              "#ed7953"
             ],
             [
              0.7777777777777778,
              "#fb9f3a"
             ],
             [
              0.8888888888888888,
              "#fdca26"
             ],
             [
              1,
              "#f0f921"
             ]
            ],
            "type": "contour"
           }
          ],
          "contourcarpet": [
           {
            "colorbar": {
             "outlinewidth": 0,
             "ticks": ""
            },
            "type": "contourcarpet"
           }
          ],
          "heatmap": [
           {
            "colorbar": {
             "outlinewidth": 0,
             "ticks": ""
            },
            "colorscale": [
             [
              0,
              "#0d0887"
             ],
             [
              0.1111111111111111,
              "#46039f"
             ],
             [
              0.2222222222222222,
              "#7201a8"
             ],
             [
              0.3333333333333333,
              "#9c179e"
             ],
             [
              0.4444444444444444,
              "#bd3786"
             ],
             [
              0.5555555555555556,
              "#d8576b"
             ],
             [
              0.6666666666666666,
              "#ed7953"
             ],
             [
              0.7777777777777778,
              "#fb9f3a"
             ],
             [
              0.8888888888888888,
              "#fdca26"
             ],
             [
              1,
              "#f0f921"
             ]
            ],
            "type": "heatmap"
           }
          ],
          "heatmapgl": [
           {
            "colorbar": {
             "outlinewidth": 0,
             "ticks": ""
            },
            "colorscale": [
             [
              0,
              "#0d0887"
             ],
             [
              0.1111111111111111,
              "#46039f"
             ],
             [
              0.2222222222222222,
              "#7201a8"
             ],
             [
              0.3333333333333333,
              "#9c179e"
             ],
             [
              0.4444444444444444,
              "#bd3786"
             ],
             [
              0.5555555555555556,
              "#d8576b"
             ],
             [
              0.6666666666666666,
              "#ed7953"
             ],
             [
              0.7777777777777778,
              "#fb9f3a"
             ],
             [
              0.8888888888888888,
              "#fdca26"
             ],
             [
              1,
              "#f0f921"
             ]
            ],
            "type": "heatmapgl"
           }
          ],
          "histogram": [
           {
            "marker": {
             "pattern": {
              "fillmode": "overlay",
              "size": 10,
              "solidity": 0.2
             }
            },
            "type": "histogram"
           }
          ],
          "histogram2d": [
           {
            "colorbar": {
             "outlinewidth": 0,
             "ticks": ""
            },
            "colorscale": [
             [
              0,
              "#0d0887"
             ],
             [
              0.1111111111111111,
              "#46039f"
             ],
             [
              0.2222222222222222,
              "#7201a8"
             ],
             [
              0.3333333333333333,
              "#9c179e"
             ],
             [
              0.4444444444444444,
              "#bd3786"
             ],
             [
              0.5555555555555556,
              "#d8576b"
             ],
             [
              0.6666666666666666,
              "#ed7953"
             ],
             [
              0.7777777777777778,
              "#fb9f3a"
             ],
             [
              0.8888888888888888,
              "#fdca26"
             ],
             [
              1,
              "#f0f921"
             ]
            ],
            "type": "histogram2d"
           }
          ],
          "histogram2dcontour": [
           {
            "colorbar": {
             "outlinewidth": 0,
             "ticks": ""
            },
            "colorscale": [
             [
              0,
              "#0d0887"
             ],
             [
              0.1111111111111111,
              "#46039f"
             ],
             [
              0.2222222222222222,
              "#7201a8"
             ],
             [
              0.3333333333333333,
              "#9c179e"
             ],
             [
              0.4444444444444444,
              "#bd3786"
             ],
             [
              0.5555555555555556,
              "#d8576b"
             ],
             [
              0.6666666666666666,
              "#ed7953"
             ],
             [
              0.7777777777777778,
              "#fb9f3a"
             ],
             [
              0.8888888888888888,
              "#fdca26"
             ],
             [
              1,
              "#f0f921"
             ]
            ],
            "type": "histogram2dcontour"
           }
          ],
          "mesh3d": [
           {
            "colorbar": {
             "outlinewidth": 0,
             "ticks": ""
            },
            "type": "mesh3d"
           }
          ],
          "parcoords": [
           {
            "line": {
             "colorbar": {
              "outlinewidth": 0,
              "ticks": ""
             }
            },
            "type": "parcoords"
           }
          ],
          "pie": [
           {
            "automargin": true,
            "type": "pie"
           }
          ],
          "scatter": [
           {
            "fillpattern": {
             "fillmode": "overlay",
             "size": 10,
             "solidity": 0.2
            },
            "type": "scatter"
           }
          ],
          "scatter3d": [
           {
            "line": {
             "colorbar": {
              "outlinewidth": 0,
              "ticks": ""
             }
            },
            "marker": {
             "colorbar": {
              "outlinewidth": 0,
              "ticks": ""
             }
            },
            "type": "scatter3d"
           }
          ],
          "scattercarpet": [
           {
            "marker": {
             "colorbar": {
              "outlinewidth": 0,
              "ticks": ""
             }
            },
            "type": "scattercarpet"
           }
          ],
          "scattergeo": [
           {
            "marker": {
             "colorbar": {
              "outlinewidth": 0,
              "ticks": ""
             }
            },
            "type": "scattergeo"
           }
          ],
          "scattergl": [
           {
            "marker": {
             "colorbar": {
              "outlinewidth": 0,
              "ticks": ""
             }
            },
            "type": "scattergl"
           }
          ],
          "scattermapbox": [
           {
            "marker": {
             "colorbar": {
              "outlinewidth": 0,
              "ticks": ""
             }
            },
            "type": "scattermapbox"
           }
          ],
          "scatterpolar": [
           {
            "marker": {
             "colorbar": {
              "outlinewidth": 0,
              "ticks": ""
             }
            },
            "type": "scatterpolar"
           }
          ],
          "scatterpolargl": [
           {
            "marker": {
             "colorbar": {
              "outlinewidth": 0,
              "ticks": ""
             }
            },
            "type": "scatterpolargl"
           }
          ],
          "scatterternary": [
           {
            "marker": {
             "colorbar": {
              "outlinewidth": 0,
              "ticks": ""
             }
            },
            "type": "scatterternary"
           }
          ],
          "surface": [
           {
            "colorbar": {
             "outlinewidth": 0,
             "ticks": ""
            },
            "colorscale": [
             [
              0,
              "#0d0887"
             ],
             [
              0.1111111111111111,
              "#46039f"
             ],
             [
              0.2222222222222222,
              "#7201a8"
             ],
             [
              0.3333333333333333,
              "#9c179e"
             ],
             [
              0.4444444444444444,
              "#bd3786"
             ],
             [
              0.5555555555555556,
              "#d8576b"
             ],
             [
              0.6666666666666666,
              "#ed7953"
             ],
             [
              0.7777777777777778,
              "#fb9f3a"
             ],
             [
              0.8888888888888888,
              "#fdca26"
             ],
             [
              1,
              "#f0f921"
             ]
            ],
            "type": "surface"
           }
          ],
          "table": [
           {
            "cells": {
             "fill": {
              "color": "#EBF0F8"
             },
             "line": {
              "color": "white"
             }
            },
            "header": {
             "fill": {
              "color": "#C8D4E3"
             },
             "line": {
              "color": "white"
             }
            },
            "type": "table"
           }
          ]
         },
         "layout": {
          "annotationdefaults": {
           "arrowcolor": "#2a3f5f",
           "arrowhead": 0,
           "arrowwidth": 1
          },
          "autotypenumbers": "strict",
          "coloraxis": {
           "colorbar": {
            "outlinewidth": 0,
            "ticks": ""
           }
          },
          "colorscale": {
           "diverging": [
            [
             0,
             "#8e0152"
            ],
            [
             0.1,
             "#c51b7d"
            ],
            [
             0.2,
             "#de77ae"
            ],
            [
             0.3,
             "#f1b6da"
            ],
            [
             0.4,
             "#fde0ef"
            ],
            [
             0.5,
             "#f7f7f7"
            ],
            [
             0.6,
             "#e6f5d0"
            ],
            [
             0.7,
             "#b8e186"
            ],
            [
             0.8,
             "#7fbc41"
            ],
            [
             0.9,
             "#4d9221"
            ],
            [
             1,
             "#276419"
            ]
           ],
           "sequential": [
            [
             0,
             "#0d0887"
            ],
            [
             0.1111111111111111,
             "#46039f"
            ],
            [
             0.2222222222222222,
             "#7201a8"
            ],
            [
             0.3333333333333333,
             "#9c179e"
            ],
            [
             0.4444444444444444,
             "#bd3786"
            ],
            [
             0.5555555555555556,
             "#d8576b"
            ],
            [
             0.6666666666666666,
             "#ed7953"
            ],
            [
             0.7777777777777778,
             "#fb9f3a"
            ],
            [
             0.8888888888888888,
             "#fdca26"
            ],
            [
             1,
             "#f0f921"
            ]
           ],
           "sequentialminus": [
            [
             0,
             "#0d0887"
            ],
            [
             0.1111111111111111,
             "#46039f"
            ],
            [
             0.2222222222222222,
             "#7201a8"
            ],
            [
             0.3333333333333333,
             "#9c179e"
            ],
            [
             0.4444444444444444,
             "#bd3786"
            ],
            [
             0.5555555555555556,
             "#d8576b"
            ],
            [
             0.6666666666666666,
             "#ed7953"
            ],
            [
             0.7777777777777778,
             "#fb9f3a"
            ],
            [
             0.8888888888888888,
             "#fdca26"
            ],
            [
             1,
             "#f0f921"
            ]
           ]
          },
          "colorway": [
           "#636efa",
           "#EF553B",
           "#00cc96",
           "#ab63fa",
           "#FFA15A",
           "#19d3f3",
           "#FF6692",
           "#B6E880",
           "#FF97FF",
           "#FECB52"
          ],
          "font": {
           "color": "#2a3f5f"
          },
          "geo": {
           "bgcolor": "white",
           "lakecolor": "white",
           "landcolor": "#E5ECF6",
           "showlakes": true,
           "showland": true,
           "subunitcolor": "white"
          },
          "hoverlabel": {
           "align": "left"
          },
          "hovermode": "closest",
          "mapbox": {
           "style": "light"
          },
          "paper_bgcolor": "white",
          "plot_bgcolor": "#E5ECF6",
          "polar": {
           "angularaxis": {
            "gridcolor": "white",
            "linecolor": "white",
            "ticks": ""
           },
           "bgcolor": "#E5ECF6",
           "radialaxis": {
            "gridcolor": "white",
            "linecolor": "white",
            "ticks": ""
           }
          },
          "scene": {
           "xaxis": {
            "backgroundcolor": "#E5ECF6",
            "gridcolor": "white",
            "gridwidth": 2,
            "linecolor": "white",
            "showbackground": true,
            "ticks": "",
            "zerolinecolor": "white"
           },
           "yaxis": {
            "backgroundcolor": "#E5ECF6",
            "gridcolor": "white",
            "gridwidth": 2,
            "linecolor": "white",
            "showbackground": true,
            "ticks": "",
            "zerolinecolor": "white"
           },
           "zaxis": {
            "backgroundcolor": "#E5ECF6",
            "gridcolor": "white",
            "gridwidth": 2,
            "linecolor": "white",
            "showbackground": true,
            "ticks": "",
            "zerolinecolor": "white"
           }
          },
          "shapedefaults": {
           "line": {
            "color": "#2a3f5f"
           }
          },
          "ternary": {
           "aaxis": {
            "gridcolor": "white",
            "linecolor": "white",
            "ticks": ""
           },
           "baxis": {
            "gridcolor": "white",
            "linecolor": "white",
            "ticks": ""
           },
           "bgcolor": "#E5ECF6",
           "caxis": {
            "gridcolor": "white",
            "linecolor": "white",
            "ticks": ""
           }
          },
          "title": {
           "x": 0.05
          },
          "xaxis": {
           "automargin": true,
           "gridcolor": "white",
           "linecolor": "white",
           "ticks": "",
           "title": {
            "standoff": 15
           },
           "zerolinecolor": "white",
           "zerolinewidth": 2
          },
          "yaxis": {
           "automargin": true,
           "gridcolor": "white",
           "linecolor": "white",
           "ticks": "",
           "title": {
            "standoff": 15
           },
           "zerolinecolor": "white",
           "zerolinewidth": 2
          }
         }
        },
        "title": {
         "text": "Recent Time Period Common Topics"
        },
        "xaxis": {
         "anchor": "y",
         "domain": [
          0,
          1
         ],
         "dtick": "M1",
         "tickformat": "%b %d",
         "ticklabelmode": "period",
         "title": {
          "text": "timepoint"
         }
        },
        "yaxis": {
         "anchor": "x",
         "domain": [
          0,
          1
         ],
         "title": {
          "text": "value"
         }
        }
       }
      }
     },
     "metadata": {},
     "output_type": "display_data"
    }
   ],
   "source": [
    "td = pd.DataFrame()\n",
    "for timepoint in range(best_mdl.num_timepoints):\n",
    "    td_tmp = pd.DataFrame(\n",
    "        np.stack([doc.get_topic_dist() for doc in best_mdl.docs if doc.timepoint == timepoint]),\n",
    "        columns=[\"topic_{}\".format(i + 1) for i in range(best_mdl.k)],\n",
    "    )\n",
    "    td_tmp[\"timepoint\"] = timepoint\n",
    "    td = pd.concat([td, td_tmp], ignore_index=True)\n",
    "    del td_tmp\n",
    "\n",
    "tp_slelcted = [21, 11, 28, 18] #[3, 4 ,9, 11, 18,21, 23, 26, 28, 44, 46]\n",
    "topic_list = []\n",
    "for i in tp_slelcted:\n",
    "    topic_list.append(f\"topic_{i}\")\n",
    "\n",
    "import plotly.express as px\n",
    "fig = px.line(td, x=\"timepoint\", y=topic_list,\n",
    "            #   hover_data={\"timepoint\": \"|%B %d, %Y\"},\n",
    "              title='Recent Time Period Common Topics')\n",
    "fig.update_xaxes(\n",
    "    dtick=\"M1\",\n",
    "    tickformat=\"%b %d\",\n",
    "    ticklabelmode=\"period\")\n",
    "fig.show()"
   ]
  },
  {
   "cell_type": "code",
   "execution_count": 150,
   "metadata": {},
   "outputs": [
    {
     "name": "stdout",
     "output_type": "stream",
     "text": [
      "[20 10 27 17]\n",
      "[30 31 32 33 34 35 36 37 38 39 40 41 42 43 44 45]\n"
     ]
    },
    {
     "data": {
      "text/html": [
       "<div>\n",
       "<style scoped>\n",
       "    .dataframe tbody tr th:only-of-type {\n",
       "        vertical-align: middle;\n",
       "    }\n",
       "\n",
       "    .dataframe tbody tr th {\n",
       "        vertical-align: top;\n",
       "    }\n",
       "\n",
       "    .dataframe thead th {\n",
       "        text-align: right;\n",
       "    }\n",
       "</style>\n",
       "<table border=\"1\" class=\"dataframe\">\n",
       "  <thead>\n",
       "    <tr style=\"text-align: right;\">\n",
       "      <th></th>\n",
       "      <th>46</th>\n",
       "      <th>90</th>\n",
       "      <th>3</th>\n",
       "      <th>23</th>\n",
       "      <th>43</th>\n",
       "      <th>87</th>\n",
       "      <th>1</th>\n",
       "      <th>9</th>\n",
       "      <th>75</th>\n",
       "      <th>11</th>\n",
       "      <th>57</th>\n",
       "      <th>18</th>\n",
       "      <th>69</th>\n",
       "      <th>63</th>\n",
       "      <th>48</th>\n",
       "      <th>58</th>\n",
       "      <th>74</th>\n",
       "      <th>66</th>\n",
       "      <th>73</th>\n",
       "      <th>30</th>\n",
       "      <th>80</th>\n",
       "      <th>83</th>\n",
       "      <th>88</th>\n",
       "      <th>89</th>\n",
       "      <th>33</th>\n",
       "      <th>92</th>\n",
       "      <th>22</th>\n",
       "      <th>15</th>\n",
       "      <th>6</th>\n",
       "      <th>24</th>\n",
       "      <th>17</th>\n",
       "      <th>36</th>\n",
       "      <th>16</th>\n",
       "      <th>68</th>\n",
       "      <th>85</th>\n",
       "      <th>78</th>\n",
       "      <th>4</th>\n",
       "      <th>38</th>\n",
       "      <th>50</th>\n",
       "      <th>65</th>\n",
       "      <th>49</th>\n",
       "      <th>20</th>\n",
       "      <th>71</th>\n",
       "      <th>59</th>\n",
       "      <th>61</th>\n",
       "      <th>44</th>\n",
       "      <th>54</th>\n",
       "      <th>84</th>\n",
       "      <th>37</th>\n",
       "      <th>2</th>\n",
       "      <th>91</th>\n",
       "      <th>72</th>\n",
       "      <th>60</th>\n",
       "      <th>76</th>\n",
       "      <th>45</th>\n",
       "      <th>77</th>\n",
       "      <th>81</th>\n",
       "      <th>42</th>\n",
       "      <th>41</th>\n",
       "      <th>40</th>\n",
       "      <th>34</th>\n",
       "      <th>79</th>\n",
       "      <th>7</th>\n",
       "      <th>86</th>\n",
       "      <th>64</th>\n",
       "      <th>0</th>\n",
       "      <th>39</th>\n",
       "      <th>62</th>\n",
       "      <th>67</th>\n",
       "      <th>31</th>\n",
       "      <th>32</th>\n",
       "      <th>56</th>\n",
       "      <th>21</th>\n",
       "      <th>82</th>\n",
       "      <th>19</th>\n",
       "      <th>52</th>\n",
       "      <th>70</th>\n",
       "      <th>47</th>\n",
       "      <th>10</th>\n",
       "      <th>26</th>\n",
       "      <th>25</th>\n",
       "      <th>55</th>\n",
       "      <th>14</th>\n",
       "      <th>12</th>\n",
       "      <th>5</th>\n",
       "      <th>27</th>\n",
       "      <th>53</th>\n",
       "      <th>8</th>\n",
       "      <th>35</th>\n",
       "      <th>51</th>\n",
       "      <th>29</th>\n",
       "      <th>13</th>\n",
       "      <th>28</th>\n",
       "    </tr>\n",
       "  </thead>\n",
       "  <tbody>\n",
       "    <tr>\n",
       "      <th>word</th>\n",
       "      <td>peer</td>\n",
       "      <td>wholesale</td>\n",
       "      <td>amendment</td>\n",
       "      <td>financing</td>\n",
       "      <td>operating</td>\n",
       "      <td>venture</td>\n",
       "      <td>alliance</td>\n",
       "      <td>certainty</td>\n",
       "      <td>stuff</td>\n",
       "      <td>colleague</td>\n",
       "      <td>reconciliation</td>\n",
       "      <td>direction</td>\n",
       "      <td>settlement</td>\n",
       "      <td>resse</td>\n",
       "      <td>placement</td>\n",
       "      <td>regulator</td>\n",
       "      <td>statement</td>\n",
       "      <td>schedule</td>\n",
       "      <td>stake</td>\n",
       "      <td>inflow</td>\n",
       "      <td>thumb</td>\n",
       "      <td>transfer</td>\n",
       "      <td>view</td>\n",
       "      <td>wake</td>\n",
       "      <td>labor</td>\n",
       "      <td>ﬂeet</td>\n",
       "      <td>expectation</td>\n",
       "      <td>debt</td>\n",
       "      <td>bur</td>\n",
       "      <td>function</td>\n",
       "      <td>digital</td>\n",
       "      <td>manufacture</td>\n",
       "      <td>decennium</td>\n",
       "      <td>session</td>\n",
       "      <td>trend</td>\n",
       "      <td>target</td>\n",
       "      <td>announcement</td>\n",
       "      <td>match</td>\n",
       "      <td>policy</td>\n",
       "      <td>scenario</td>\n",
       "      <td>pner</td>\n",
       "      <td>drag</td>\n",
       "      <td>society</td>\n",
       "      <td>relation</td>\n",
       "      <td>renewable</td>\n",
       "      <td>opporty</td>\n",
       "      <td>preparation</td>\n",
       "      <td>transformation</td>\n",
       "      <td>margin</td>\n",
       "      <td>alpha</td>\n",
       "      <td>yesterday</td>\n",
       "      <td>solvency</td>\n",
       "      <td>release</td>\n",
       "      <td>support</td>\n",
       "      <td>path</td>\n",
       "      <td>synergy</td>\n",
       "      <td>track</td>\n",
       "      <td>omnichannel</td>\n",
       "      <td>motor</td>\n",
       "      <td>money</td>\n",
       "      <td>lion</td>\n",
       "      <td>tein</td>\n",
       "      <td>capacity</td>\n",
       "      <td>unstanding</td>\n",
       "      <td>return</td>\n",
       "      <td>agreement</td>\n",
       "      <td>momentum</td>\n",
       "      <td>report</td>\n",
       "      <td>segment</td>\n",
       "      <td>ing</td>\n",
       "      <td>inﬂation</td>\n",
       "      <td>program</td>\n",
       "      <td>equity</td>\n",
       "      <td>transaction</td>\n",
       "      <td>divid</td>\n",
       "      <td>position</td>\n",
       "      <td>share</td>\n",
       "      <td>performance</td>\n",
       "      <td>claim</td>\n",
       "      <td>half</td>\n",
       "      <td>growth</td>\n",
       "      <td>product</td>\n",
       "      <td>customer</td>\n",
       "      <td>company</td>\n",
       "      <td>asset</td>\n",
       "      <td>impact</td>\n",
       "      <td>premium</td>\n",
       "      <td>capital</td>\n",
       "      <td>loss</td>\n",
       "      <td>portfolio</td>\n",
       "      <td>increase</td>\n",
       "      <td>cost</td>\n",
       "      <td>income</td>\n",
       "    </tr>\n",
       "    <tr>\n",
       "      <th>prob</th>\n",
       "      <td>0.5</td>\n",
       "      <td>0.5</td>\n",
       "      <td>0.5</td>\n",
       "      <td>0.5</td>\n",
       "      <td>0.5</td>\n",
       "      <td>0.5</td>\n",
       "      <td>0.5</td>\n",
       "      <td>0.5</td>\n",
       "      <td>0.5</td>\n",
       "      <td>0.5</td>\n",
       "      <td>0.5</td>\n",
       "      <td>0.5</td>\n",
       "      <td>0.5</td>\n",
       "      <td>0.25</td>\n",
       "      <td>0.25</td>\n",
       "      <td>0.25</td>\n",
       "      <td>0.25</td>\n",
       "      <td>0.25</td>\n",
       "      <td>0.25</td>\n",
       "      <td>0.25</td>\n",
       "      <td>0.25</td>\n",
       "      <td>0.25</td>\n",
       "      <td>0.25</td>\n",
       "      <td>0.25</td>\n",
       "      <td>0.25</td>\n",
       "      <td>0.25</td>\n",
       "      <td>0.25</td>\n",
       "      <td>0.25</td>\n",
       "      <td>0.25</td>\n",
       "      <td>0.25</td>\n",
       "      <td>0.167</td>\n",
       "      <td>0.167</td>\n",
       "      <td>0.167</td>\n",
       "      <td>0.1665</td>\n",
       "      <td>0.1415</td>\n",
       "      <td>0.128</td>\n",
       "      <td>0.125</td>\n",
       "      <td>0.125</td>\n",
       "      <td>0.125</td>\n",
       "      <td>0.0875</td>\n",
       "      <td>0.083</td>\n",
       "      <td>0.083</td>\n",
       "      <td>0.083</td>\n",
       "      <td>0.083</td>\n",
       "      <td>0.083</td>\n",
       "      <td>0.083</td>\n",
       "      <td>0.083</td>\n",
       "      <td>0.083</td>\n",
       "      <td>0.083</td>\n",
       "      <td>0.083</td>\n",
       "      <td>0.083</td>\n",
       "      <td>0.056</td>\n",
       "      <td>0.05</td>\n",
       "      <td>0.05</td>\n",
       "      <td>0.05</td>\n",
       "      <td>0.05</td>\n",
       "      <td>0.05</td>\n",
       "      <td>0.05</td>\n",
       "      <td>0.05</td>\n",
       "      <td>0.05</td>\n",
       "      <td>0.05</td>\n",
       "      <td>0.033</td>\n",
       "      <td>0.033</td>\n",
       "      <td>0.033</td>\n",
       "      <td>0.033</td>\n",
       "      <td>0.028</td>\n",
       "      <td>0.028</td>\n",
       "      <td>0.025</td>\n",
       "      <td>0.025</td>\n",
       "      <td>0.025</td>\n",
       "      <td>0.025</td>\n",
       "      <td>0.025</td>\n",
       "      <td>0.025</td>\n",
       "      <td>0.025</td>\n",
       "      <td>0.019333</td>\n",
       "      <td>0.018</td>\n",
       "      <td>0.0068</td>\n",
       "      <td>0.006333</td>\n",
       "      <td>0.004609</td>\n",
       "      <td>0.004333</td>\n",
       "      <td>0.003635</td>\n",
       "      <td>0.002889</td>\n",
       "      <td>0.002883</td>\n",
       "      <td>0.002846</td>\n",
       "      <td>0.002824</td>\n",
       "      <td>0.002784</td>\n",
       "      <td>0.002347</td>\n",
       "      <td>0.001717</td>\n",
       "      <td>0.001667</td>\n",
       "      <td>0.001236</td>\n",
       "      <td>0.000958</td>\n",
       "      <td>0.0009</td>\n",
       "      <td>0.000571</td>\n",
       "    </tr>\n",
       "  </tbody>\n",
       "</table>\n",
       "</div>"
      ],
      "text/plain": [
       "        46         90         3          23         43       87        1   \\\n",
       "word  peer  wholesale  amendment  financing  operating  venture  alliance   \n",
       "prob   0.5        0.5        0.5        0.5        0.5      0.5       0.5   \n",
       "\n",
       "             9      75         11              57         18          69  \\\n",
       "word  certainty  stuff  colleague  reconciliation  direction  settlement   \n",
       "prob        0.5    0.5        0.5             0.5        0.5         0.5   \n",
       "\n",
       "         63         48         58         74        66     73      30     80  \\\n",
       "word  resse  placement  regulator  statement  schedule  stake  inflow  thumb   \n",
       "prob   0.25       0.25       0.25       0.25      0.25   0.25    0.25   0.25   \n",
       "\n",
       "            83    88    89     33    92           22    15    6         24  \\\n",
       "word  transfer  view  wake  labor  ﬂeet  expectation  debt   bur  function   \n",
       "prob      0.25  0.25  0.25   0.25  0.25         0.25  0.25  0.25      0.25   \n",
       "\n",
       "           17           36         16       68      85      78            4   \\\n",
       "word  digital  manufacture  decennium  session   trend  target  announcement   \n",
       "prob    0.167        0.167      0.167   0.1665  0.1415   0.128         0.125   \n",
       "\n",
       "         38      50        65     49     20       71        59         61  \\\n",
       "word  match  policy  scenario   pner   drag  society  relation  renewable   \n",
       "prob  0.125   0.125    0.0875  0.083  0.083    0.083     0.083      0.083   \n",
       "\n",
       "           44           54              84      37     2          91  \\\n",
       "word  opporty  preparation  transformation  margin  alpha  yesterday   \n",
       "prob    0.083        0.083           0.083   0.083  0.083      0.083   \n",
       "\n",
       "            72       60       76    45       77     81           42     41  \\\n",
       "word  solvency  release  support  path  synergy  track  omnichannel  motor   \n",
       "prob     0.056     0.05     0.05  0.05     0.05   0.05         0.05   0.05   \n",
       "\n",
       "         40    34     79        7           86      64         0         39  \\\n",
       "word  money  lion   tein  capacity  unstanding  return  agreement  momentum   \n",
       "prob   0.05  0.05  0.033     0.033       0.033   0.033      0.028     0.028   \n",
       "\n",
       "          62       67     31        32       56      21           82  \\\n",
       "word  report  segment    ing  inﬂation  program  equity  transaction   \n",
       "prob   0.025    0.025  0.025     0.025    0.025   0.025        0.025   \n",
       "\n",
       "            19        52      70           47        10        26        25  \\\n",
       "word     divid  position   share  performance     claim      half    growth   \n",
       "prob  0.019333     0.018  0.0068     0.006333  0.004609  0.004333  0.003635   \n",
       "\n",
       "            55        14        12        5         27        53        8   \\\n",
       "word   product  customer   company     asset    impact   premium   capital   \n",
       "prob  0.002889  0.002883  0.002846  0.002824  0.002784  0.002347  0.001717   \n",
       "\n",
       "            35         51        29      13        28  \n",
       "word      loss  portfolio  increase    cost    income  \n",
       "prob  0.001667   0.001236  0.000958  0.0009  0.000571  "
      ]
     },
     "execution_count": 150,
     "metadata": {},
     "output_type": "execute_result"
    }
   ],
   "source": [
    "MD_DTM_recent = pd.DataFrame()\n",
    "for i in tp_slelcted:\n",
    "    tmp_topic = wt[wt['k']==i-1]\n",
    "    MD_DTM_recent = MD_DTM_recent.append(tmp_topic)\n",
    "\n",
    "\n",
    "time_list = []\n",
    "for i in range(30,46):\n",
    "    time_list.append(i)\n",
    "\n",
    "MD_DTM_recent = MD_DTM_recent[MD_DTM_recent['timepoint'].isin(time_list)]\n",
    "\n",
    "print(MD_DTM_recent.k.unique())\n",
    "print(MD_DTM_recent.timepoint.unique())\n",
    "\n",
    "# groupby word and get the average of prob\n",
    "MD_DTM_recent = MD_DTM_recent.groupby(['word'])['prob'].mean().reset_index()\n",
    "# sort by prob\n",
    "MD_DTM_recent.sort_values(by='prob', ascending=False, inplace=True)\n",
    "MD_DTM_recent.T"
   ]
  },
  {
   "cell_type": "code",
   "execution_count": 152,
   "metadata": {},
   "outputs": [
    {
     "name": "stdout",
     "output_type": "stream",
     "text": [
      "[20 10 27 17]\n",
      "[40 41 42 43 44 45]\n"
     ]
    },
    {
     "data": {
      "text/html": [
       "<div>\n",
       "<style scoped>\n",
       "    .dataframe tbody tr th:only-of-type {\n",
       "        vertical-align: middle;\n",
       "    }\n",
       "\n",
       "    .dataframe tbody tr th {\n",
       "        vertical-align: top;\n",
       "    }\n",
       "\n",
       "    .dataframe thead th {\n",
       "        text-align: right;\n",
       "    }\n",
       "</style>\n",
       "<table border=\"1\" class=\"dataframe\">\n",
       "  <thead>\n",
       "    <tr style=\"text-align: right;\">\n",
       "      <th></th>\n",
       "      <th>34</th>\n",
       "      <th>65</th>\n",
       "      <th>1</th>\n",
       "      <th>23</th>\n",
       "      <th>67</th>\n",
       "      <th>66</th>\n",
       "      <th>4</th>\n",
       "      <th>49</th>\n",
       "      <th>59</th>\n",
       "      <th>12</th>\n",
       "      <th>11</th>\n",
       "      <th>26</th>\n",
       "      <th>63</th>\n",
       "      <th>57</th>\n",
       "      <th>53</th>\n",
       "      <th>51</th>\n",
       "      <th>62</th>\n",
       "      <th>45</th>\n",
       "      <th>43</th>\n",
       "      <th>40</th>\n",
       "      <th>36</th>\n",
       "      <th>32</th>\n",
       "      <th>27</th>\n",
       "      <th>68</th>\n",
       "      <th>2</th>\n",
       "      <th>14</th>\n",
       "      <th>54</th>\n",
       "      <th>24</th>\n",
       "      <th>33</th>\n",
       "      <th>48</th>\n",
       "      <th>55</th>\n",
       "      <th>56</th>\n",
       "      <th>60</th>\n",
       "      <th>44</th>\n",
       "      <th>31</th>\n",
       "      <th>30</th>\n",
       "      <th>29</th>\n",
       "      <th>58</th>\n",
       "      <th>64</th>\n",
       "      <th>5</th>\n",
       "      <th>47</th>\n",
       "      <th>0</th>\n",
       "      <th>28</th>\n",
       "      <th>42</th>\n",
       "      <th>50</th>\n",
       "      <th>22</th>\n",
       "      <th>21</th>\n",
       "      <th>61</th>\n",
       "      <th>46</th>\n",
       "      <th>15</th>\n",
       "      <th>13</th>\n",
       "      <th>38</th>\n",
       "      <th>52</th>\n",
       "      <th>7</th>\n",
       "      <th>41</th>\n",
       "      <th>16</th>\n",
       "      <th>10</th>\n",
       "      <th>18</th>\n",
       "      <th>3</th>\n",
       "      <th>35</th>\n",
       "      <th>39</th>\n",
       "      <th>8</th>\n",
       "      <th>25</th>\n",
       "      <th>9</th>\n",
       "      <th>17</th>\n",
       "      <th>6</th>\n",
       "      <th>20</th>\n",
       "      <th>19</th>\n",
       "      <th>37</th>\n",
       "    </tr>\n",
       "  </thead>\n",
       "  <tbody>\n",
       "    <tr>\n",
       "      <th>word</th>\n",
       "      <td>peer</td>\n",
       "      <td>venture</td>\n",
       "      <td>alliance</td>\n",
       "      <td>labor</td>\n",
       "      <td>wake</td>\n",
       "      <td>view</td>\n",
       "      <td>bur</td>\n",
       "      <td>schedule</td>\n",
       "      <td>thumb</td>\n",
       "      <td>digital</td>\n",
       "      <td>decennium</td>\n",
       "      <td>manufacture</td>\n",
       "      <td>trend</td>\n",
       "      <td>target</td>\n",
       "      <td>society</td>\n",
       "      <td>session</td>\n",
       "      <td>transformation</td>\n",
       "      <td>renewable</td>\n",
       "      <td>relation</td>\n",
       "      <td>preparation</td>\n",
       "      <td>pner</td>\n",
       "      <td>opporty</td>\n",
       "      <td>margin</td>\n",
       "      <td>yesterday</td>\n",
       "      <td>alpha</td>\n",
       "      <td>drag</td>\n",
       "      <td>solvency</td>\n",
       "      <td>lion</td>\n",
       "      <td>path</td>\n",
       "      <td>scenario</td>\n",
       "      <td>support</td>\n",
       "      <td>synergy</td>\n",
       "      <td>track</td>\n",
       "      <td>release</td>\n",
       "      <td>omnichannel</td>\n",
       "      <td>motor</td>\n",
       "      <td>money</td>\n",
       "      <td>tein</td>\n",
       "      <td>unstanding</td>\n",
       "      <td>capacity</td>\n",
       "      <td>return</td>\n",
       "      <td>agreement</td>\n",
       "      <td>momentum</td>\n",
       "      <td>program</td>\n",
       "      <td>segment</td>\n",
       "      <td>inﬂation</td>\n",
       "      <td>ing</td>\n",
       "      <td>transaction</td>\n",
       "      <td>report</td>\n",
       "      <td>equity</td>\n",
       "      <td>divid</td>\n",
       "      <td>position</td>\n",
       "      <td>share</td>\n",
       "      <td>claim</td>\n",
       "      <td>product</td>\n",
       "      <td>growth</td>\n",
       "      <td>customer</td>\n",
       "      <td>impact</td>\n",
       "      <td>asset</td>\n",
       "      <td>performance</td>\n",
       "      <td>premium</td>\n",
       "      <td>company</td>\n",
       "      <td>loss</td>\n",
       "      <td>cost</td>\n",
       "      <td>half</td>\n",
       "      <td>capital</td>\n",
       "      <td>increase</td>\n",
       "      <td>income</td>\n",
       "      <td>portfolio</td>\n",
       "    </tr>\n",
       "    <tr>\n",
       "      <th>prob</th>\n",
       "      <td>0.5</td>\n",
       "      <td>0.5</td>\n",
       "      <td>0.5</td>\n",
       "      <td>0.25</td>\n",
       "      <td>0.25</td>\n",
       "      <td>0.25</td>\n",
       "      <td>0.25</td>\n",
       "      <td>0.25</td>\n",
       "      <td>0.25</td>\n",
       "      <td>0.167</td>\n",
       "      <td>0.167</td>\n",
       "      <td>0.167</td>\n",
       "      <td>0.1415</td>\n",
       "      <td>0.128</td>\n",
       "      <td>0.083</td>\n",
       "      <td>0.083</td>\n",
       "      <td>0.083</td>\n",
       "      <td>0.083</td>\n",
       "      <td>0.083</td>\n",
       "      <td>0.083</td>\n",
       "      <td>0.083</td>\n",
       "      <td>0.083</td>\n",
       "      <td>0.083</td>\n",
       "      <td>0.083</td>\n",
       "      <td>0.083</td>\n",
       "      <td>0.083</td>\n",
       "      <td>0.056</td>\n",
       "      <td>0.05</td>\n",
       "      <td>0.05</td>\n",
       "      <td>0.05</td>\n",
       "      <td>0.05</td>\n",
       "      <td>0.05</td>\n",
       "      <td>0.05</td>\n",
       "      <td>0.05</td>\n",
       "      <td>0.05</td>\n",
       "      <td>0.05</td>\n",
       "      <td>0.05</td>\n",
       "      <td>0.033</td>\n",
       "      <td>0.033</td>\n",
       "      <td>0.033</td>\n",
       "      <td>0.033</td>\n",
       "      <td>0.028</td>\n",
       "      <td>0.028</td>\n",
       "      <td>0.025</td>\n",
       "      <td>0.025</td>\n",
       "      <td>0.025</td>\n",
       "      <td>0.025</td>\n",
       "      <td>0.025</td>\n",
       "      <td>0.025</td>\n",
       "      <td>0.025</td>\n",
       "      <td>0.019333</td>\n",
       "      <td>0.018</td>\n",
       "      <td>0.017</td>\n",
       "      <td>0.009636</td>\n",
       "      <td>0.009286</td>\n",
       "      <td>0.009174</td>\n",
       "      <td>0.007762</td>\n",
       "      <td>0.007357</td>\n",
       "      <td>0.006833</td>\n",
       "      <td>0.006333</td>\n",
       "      <td>0.006294</td>\n",
       "      <td>0.005</td>\n",
       "      <td>0.004647</td>\n",
       "      <td>0.0045</td>\n",
       "      <td>0.004333</td>\n",
       "      <td>0.0042</td>\n",
       "      <td>0.003538</td>\n",
       "      <td>0.0035</td>\n",
       "      <td>0.003471</td>\n",
       "    </tr>\n",
       "  </tbody>\n",
       "</table>\n",
       "</div>"
      ],
      "text/plain": [
       "        34       65        1      23    67    66    4         49     59  \\\n",
       "word  peer  venture  alliance  labor  wake  view   bur  schedule  thumb   \n",
       "prob   0.5      0.5       0.5   0.25  0.25  0.25  0.25      0.25   0.25   \n",
       "\n",
       "           12         11           26      63      57       53       51  \\\n",
       "word  digital  decennium  manufacture   trend  target  society  session   \n",
       "prob    0.167      0.167        0.167  0.1415   0.128    0.083    0.083   \n",
       "\n",
       "                  62         45        43           40     36       32  \\\n",
       "word  transformation  renewable  relation  preparation   pner  opporty   \n",
       "prob           0.083      0.083     0.083        0.083  0.083    0.083   \n",
       "\n",
       "          27         68     2      14        54    24    33        48  \\\n",
       "word  margin  yesterday  alpha   drag  solvency  lion  path  scenario   \n",
       "prob   0.083      0.083  0.083  0.083     0.056  0.05  0.05      0.05   \n",
       "\n",
       "           55       56     60       44           31     30     29     58  \\\n",
       "word  support  synergy  track  release  omnichannel  motor  money   tein   \n",
       "prob     0.05     0.05   0.05     0.05         0.05   0.05   0.05  0.033   \n",
       "\n",
       "              64        5       47         0         28       42       50  \\\n",
       "word  unstanding  capacity  return  agreement  momentum  program  segment   \n",
       "prob       0.033     0.033   0.033      0.028     0.028    0.025    0.025   \n",
       "\n",
       "            22     21           61      46      15        13        38     52  \\\n",
       "word  inﬂation    ing  transaction  report  equity     divid  position  share   \n",
       "prob     0.025  0.025        0.025   0.025   0.025  0.019333     0.018  0.017   \n",
       "\n",
       "            7         41        16        10        18        3            35  \\\n",
       "word     claim   product    growth  customer    impact     asset  performance   \n",
       "prob  0.009636  0.009286  0.009174  0.007762  0.007357  0.006833     0.006333   \n",
       "\n",
       "            39       8         25      9         17       6         20  \\\n",
       "word   premium  company      loss    cost      half  capital  increase   \n",
       "prob  0.006294    0.005  0.004647  0.0045  0.004333   0.0042  0.003538   \n",
       "\n",
       "          19         37  \n",
       "word  income  portfolio  \n",
       "prob  0.0035   0.003471  "
      ]
     },
     "execution_count": 152,
     "metadata": {},
     "output_type": "execute_result"
    }
   ],
   "source": [
    "MD_DTM_recent = pd.DataFrame()\n",
    "for i in tp_slelcted:\n",
    "    tmp_topic = wt[wt['k']==i-1]\n",
    "    MD_DTM_recent = MD_DTM_recent.append(tmp_topic)\n",
    "\n",
    "\n",
    "time_list = []\n",
    "for i in range(40,46):\n",
    "    time_list.append(i)\n",
    "\n",
    "MD_DTM_recent = MD_DTM_recent[MD_DTM_recent['timepoint'].isin(time_list)]\n",
    "\n",
    "print(MD_DTM_recent.k.unique())\n",
    "print(MD_DTM_recent.timepoint.unique())\n",
    "\n",
    "# groupby word and get the average of prob\n",
    "MD_DTM_recent = MD_DTM_recent.groupby(['word'])['prob'].mean().reset_index()\n",
    "# sort by prob\n",
    "MD_DTM_recent.sort_values(by='prob', ascending=False, inplace=True)\n",
    "MD_DTM_recent.T"
   ]
  },
  {
   "cell_type": "code",
   "execution_count": null,
   "metadata": {},
   "outputs": [],
   "source": []
  },
  {
   "cell_type": "code",
   "execution_count": null,
   "metadata": {},
   "outputs": [],
   "source": []
  },
  {
   "cell_type": "code",
   "execution_count": null,
   "metadata": {},
   "outputs": [],
   "source": []
  },
  {
   "cell_type": "code",
   "execution_count": null,
   "metadata": {},
   "outputs": [],
   "source": []
  },
  {
   "cell_type": "code",
   "execution_count": null,
   "metadata": {},
   "outputs": [],
   "source": []
  },
  {
   "cell_type": "code",
   "execution_count": null,
   "metadata": {},
   "outputs": [],
   "source": []
  },
  {
   "cell_type": "code",
   "execution_count": null,
   "metadata": {},
   "outputs": [],
   "source": []
  },
  {
   "cell_type": "code",
   "execution_count": null,
   "metadata": {},
   "outputs": [],
   "source": []
  },
  {
   "cell_type": "code",
   "execution_count": null,
   "metadata": {},
   "outputs": [],
   "source": []
  },
  {
   "cell_type": "code",
   "execution_count": null,
   "metadata": {},
   "outputs": [],
   "source": []
  },
  {
   "cell_type": "code",
   "execution_count": null,
   "metadata": {},
   "outputs": [],
   "source": []
  },
  {
   "cell_type": "code",
   "execution_count": null,
   "metadata": {},
   "outputs": [],
   "source": []
  },
  {
   "cell_type": "code",
   "execution_count": null,
   "metadata": {},
   "outputs": [],
   "source": []
  },
  {
   "cell_type": "code",
   "execution_count": null,
   "metadata": {},
   "outputs": [],
   "source": []
  },
  {
   "cell_type": "code",
   "execution_count": null,
   "metadata": {},
   "outputs": [],
   "source": []
  },
  {
   "cell_type": "markdown",
   "metadata": {},
   "source": [
    "# early time of the common topics"
   ]
  },
  {
   "cell_type": "code",
   "execution_count": 285,
   "metadata": {},
   "outputs": [
    {
     "data": {
      "application/vnd.plotly.v1+json": {
       "config": {
        "plotlyServerURL": "https://plot.ly"
       },
       "data": [
        {
         "hovertemplate": "variable=topic_1<br>timepoint=%{x}<br>value=%{y}<extra></extra>",
         "legendgroup": "topic_1",
         "line": {
          "color": "#636efa",
          "dash": "solid"
         },
         "marker": {
          "symbol": "circle"
         },
         "mode": "lines",
         "name": "topic_1",
         "orientation": "v",
         "showlegend": true,
         "type": "scatter",
         "x": [
          0,
          1,
          2,
          3,
          4,
          5,
          6,
          7,
          8,
          9,
          10,
          11,
          12,
          13,
          14,
          15,
          16,
          17,
          18,
          19,
          20,
          21,
          22,
          23,
          24,
          25,
          26,
          27,
          28,
          29,
          30,
          31,
          32,
          33,
          34,
          35,
          36,
          37,
          38,
          39,
          40,
          41,
          42,
          43,
          44,
          45
         ],
         "xaxis": "x",
         "y": [
          0.040404193103313446,
          0.04377788305282593,
          0.038994722068309784,
          0.05098865181207657,
          0.07433722913265228,
          0.04094107449054718,
          0.05046697333455086,
          0.04216542840003967,
          0.05370480567216873,
          0.04372110217809677,
          0.026805855333805084,
          0.036575883626937866,
          0.044287096709012985,
          0.006056409329175949,
          0.000056835211580619216,
          0.01976400427520275,
          0.00016694310761522502,
          0.02921518310904503,
          0.00046994120930321515,
          0.01104127336293459,
          0.0001341979659628123,
          0.0007096583722159266,
          0.0003839456767309457,
          0.02705232985317707,
          0.00014475024363491684,
          0.0002191435341956094,
          0.0004665183660108596,
          0.00004353642725618556,
          0.00007442005153279752,
          0.0007309371139854193,
          0.00014698073209729046,
          0.00011683916090987623,
          0.00011431437451392412,
          0.00034000250161625445,
          0.0001463021180825308,
          0.00012341905676294118,
          0.0005635033012367785,
          0.00009370732732350007,
          0.0008338247425854206,
          0.00045778797357343137,
          0.0001198892350657843,
          0.0004414842987898737,
          0.0004187518497928977,
          0.0004577188810799271,
          0.036458972841501236,
          0.04256286099553108
         ],
         "yaxis": "y"
        },
        {
         "hovertemplate": "variable=topic_10<br>timepoint=%{x}<br>value=%{y}<extra></extra>",
         "legendgroup": "topic_10",
         "line": {
          "color": "#EF553B",
          "dash": "solid"
         },
         "marker": {
          "symbol": "circle"
         },
         "mode": "lines",
         "name": "topic_10",
         "orientation": "v",
         "showlegend": true,
         "type": "scatter",
         "x": [
          0,
          1,
          2,
          3,
          4,
          5,
          6,
          7,
          8,
          9,
          10,
          11,
          12,
          13,
          14,
          15,
          16,
          17,
          18,
          19,
          20,
          21,
          22,
          23,
          24,
          25,
          26,
          27,
          28,
          29,
          30,
          31,
          32,
          33,
          34,
          35,
          36,
          37,
          38,
          39,
          40,
          41,
          42,
          43,
          44,
          45
         ],
         "xaxis": "x",
         "y": [
          0.04926278442144394,
          0.04406382516026497,
          0.040814779698848724,
          0.05831197649240494,
          0.037960272282361984,
          0.03694925457239151,
          0.04371554031968117,
          0.0517878457903862,
          0.04349666088819504,
          0.03781512752175331,
          0.03257237747311592,
          0.06284411251544952,
          0.04435727000236511,
          0.0065339189022779465,
          0.0003151770797558129,
          0.018878336995840073,
          0.00038235358078964055,
          0.023469818755984306,
          0.00029588889447040856,
          0.004939736798405647,
          0.00009090830280911177,
          0.0009907112689688802,
          0.000059484544181032106,
          0.027191024273633957,
          0.00023813749430701137,
          0.00037949244142509997,
          0.00021018958068452775,
          0.00004353642725618556,
          0.00007442005153279752,
          0.0009541239705868065,
          0.00005215445708017796,
          0.00019221926049795002,
          0.00007743876631138846,
          0.00034000250161625445,
          0.00003925179044017568,
          0.00018219005141872913,
          0.00025890691904351115,
          0.000004462253855308518,
          0.0003731480974238366,
          0.00015594973228871822,
          0.0001198892350657843,
          0.0007685096934437752,
          0.0006772406050004065,
          0.0000553286554350052,
          0.036305204033851624,
          0.039533473551273346
         ],
         "yaxis": "y"
        },
        {
         "hovertemplate": "variable=topic_11<br>timepoint=%{x}<br>value=%{y}<extra></extra>",
         "legendgroup": "topic_11",
         "line": {
          "color": "#00cc96",
          "dash": "solid"
         },
         "marker": {
          "symbol": "circle"
         },
         "mode": "lines",
         "name": "topic_11",
         "orientation": "v",
         "showlegend": true,
         "type": "scatter",
         "x": [
          0,
          1,
          2,
          3,
          4,
          5,
          6,
          7,
          8,
          9,
          10,
          11,
          12,
          13,
          14,
          15,
          16,
          17,
          18,
          19,
          20,
          21,
          22,
          23,
          24,
          25,
          26,
          27,
          28,
          29,
          30,
          31,
          32,
          33,
          34,
          35,
          36,
          37,
          38,
          39,
          40,
          41,
          42,
          43,
          44,
          45
         ],
         "xaxis": "x",
         "y": [
          0.050463948398828506,
          0.04463570937514305,
          0.050218407064676285,
          0.04213963449001312,
          0.058765798807144165,
          0.04443391412496567,
          0.05046697333455086,
          0.04890111833810806,
          0.041670817881822586,
          0.0511457584798336,
          0.041815776377916336,
          0.03016643598675728,
          0.02358563430607319,
          0.01568618044257164,
          0.00026350870030000806,
          0.018878336995840073,
          0.0005439114756882191,
          0.027012793347239494,
          0.00023787145619280636,
          0.00627705967053771,
          0.0001341979659628123,
          0.0007096583722159266,
          0.0001135613929363899,
          0.04896603152155876,
          0.00005136298932484351,
          0.0005398414214141667,
          0.0005177841521799564,
          0.00012269355647731572,
          0.00007442005153279752,
          0.0007867338135838509,
          0.00005215445708017796,
          0.0003429795033298433,
          0.00007743876631138846,
          0.0005315532325766981,
          0.00007493523298762739,
          0.0002997320261783898,
          0.0005635033012367785,
          0.00009370732732350007,
          0.00032708042999729514,
          0.00025656245998106897,
          0.0002359110803809017,
          0.0007140054367482662,
          0.000522147340234369,
          0.0003571213164832443,
          0.047684215009212494,
          0.053165704011917114
         ],
         "yaxis": "y"
        },
        {
         "hovertemplate": "variable=topic_12<br>timepoint=%{x}<br>value=%{y}<extra></extra>",
         "legendgroup": "topic_12",
         "line": {
          "color": "#ab63fa",
          "dash": "solid"
         },
         "marker": {
          "symbol": "circle"
         },
         "mode": "lines",
         "name": "topic_12",
         "orientation": "v",
         "showlegend": true,
         "type": "scatter",
         "x": [
          0,
          1,
          2,
          3,
          4,
          5,
          6,
          7,
          8,
          9,
          10,
          11,
          12,
          13,
          14,
          15,
          16,
          17,
          18,
          19,
          20,
          21,
          22,
          23,
          24,
          25,
          26,
          27,
          28,
          29,
          30,
          31,
          32,
          33,
          34,
          35,
          36,
          37,
          38,
          39,
          40,
          41,
          42,
          43,
          44,
          45
         ],
         "xaxis": "x",
         "y": [
          0.04445812478661537,
          0.05092645809054375,
          0.04126979410648346,
          0.05037837475538254,
          0.04136243462562561,
          0.046679310500621796,
          0.03602640703320503,
          0.04505215212702751,
          0.04756332188844681,
          0.038321353495121,
          0.03189396485686302,
          0.03888748958706856,
          0.02807679958641529,
          0.007091013249009848,
          0.00016017195594031364,
          0.022216619923710823,
          0.0002207957295468077,
          0.03649264574050903,
          0.00023787145619280636,
          0.003936744295060635,
          0.0001341979659628123,
          0.0009204479865729809,
          0.0002217151049990207,
          0.03093576990067959,
          0.00023813749430701137,
          0.00037949244142509997,
          0.0009279101504944265,
          0.0002018506929744035,
          0.00003898193608620204,
          0.00045195347047410905,
          0.00014698073209729046,
          0.00011683916090987623,
          0.0000036875605928798905,
          0.0003878902061842382,
          0.0001463021180825308,
          0.00047604498104192317,
          0.0008680996834300458,
          0.000004462253855308518,
          0.0000967420928645879,
          0.00015594973228871822,
          0.000042541345464996994,
          0.00022346734476741403,
          0.0007289383793249726,
          0.0003571213164832443,
          0.06444519758224487,
          0.050136320292949677
         ],
         "yaxis": "y"
        },
        {
         "hovertemplate": "variable=topic_19<br>timepoint=%{x}<br>value=%{y}<extra></extra>",
         "legendgroup": "topic_19",
         "line": {
          "color": "#FFA15A",
          "dash": "solid"
         },
         "marker": {
          "symbol": "circle"
         },
         "mode": "lines",
         "name": "topic_19",
         "orientation": "v",
         "showlegend": true,
         "type": "scatter",
         "x": [
          0,
          1,
          2,
          3,
          4,
          5,
          6,
          7,
          8,
          9,
          10,
          11,
          12,
          13,
          14,
          15,
          16,
          17,
          18,
          19,
          20,
          21,
          22,
          23,
          24,
          25,
          26,
          27,
          28,
          29,
          30,
          31,
          32,
          33,
          34,
          35,
          36,
          37,
          38,
          39,
          40,
          41,
          42,
          43,
          44,
          45
         ],
         "xaxis": "x",
         "y": [
          0.042356085032224655,
          0.049782685935497284,
          0.04126979410648346,
          0.03725741431117058,
          0.03599748760461807,
          0.049174193292856216,
          0.05571809038519859,
          0.04562949761748314,
          0.04333067312836647,
          0.06211400032043457,
          0.047243088483810425,
          0.03920270502567291,
          0.05818163603544235,
          0.012184446677565575,
          0.00047018221812322736,
          0.03291275352239609,
          0.00011309049295959994,
          0.021746208891272545,
          0.00012183660146547481,
          0.008032295852899551,
          0.0001341979659628123,
          0.0014825536636635661,
          0.0003298688097856939,
          0.019632183015346527,
          0.00009805661102291197,
          0.0005398414214141667,
          0.0030810716561973095,
          0.00016227213200181723,
          0.00003898193608620204,
          0.0010657174279913306,
          0.0001943938696058467,
          0.00015452921797987074,
          0.00007743876631138846,
          0.0010583177208900452,
          0.00018198556790594012,
          0.00012341905676294118,
          0.0004112051101401448,
          0.00018295241170562804,
          0.0001888774277176708,
          0.0002062560961348936,
          0.00008121528662741184,
          0.0007140054367482662,
          0.0006772406050004065,
          0.0003068225341849029,
          0.042456019669771194,
          0.0440775528550148
         ],
         "yaxis": "y"
        },
        {
         "hovertemplate": "variable=topic_21<br>timepoint=%{x}<br>value=%{y}<extra></extra>",
         "legendgroup": "topic_21",
         "line": {
          "color": "#19d3f3",
          "dash": "solid"
         },
         "marker": {
          "symbol": "circle"
         },
         "mode": "lines",
         "name": "topic_21",
         "orientation": "v",
         "showlegend": true,
         "type": "scatter",
         "x": [
          0,
          1,
          2,
          3,
          4,
          5,
          6,
          7,
          8,
          9,
          10,
          11,
          12,
          13,
          14,
          15,
          16,
          17,
          18,
          19,
          20,
          21,
          22,
          23,
          24,
          25,
          26,
          27,
          28,
          29,
          30,
          31,
          32,
          33,
          34,
          35,
          36,
          37,
          38,
          39,
          40,
          41,
          42,
          43,
          44,
          45
         ],
         "xaxis": "x",
         "y": [
          0.04896249249577522,
          0.04806702584028244,
          0.04976339265704155,
          0.0476321280002594,
          0.0611211434006691,
          0.05067112669348717,
          0.04184013977646828,
          0.03677687421441078,
          0.053953785449266434,
          0.04321487620472908,
          0.04580146074295044,
          0.04235489293932915,
          0.03362058103084564,
          0.007568522356450558,
          0.00047018221812322736,
          0.050830479711294174,
          0.00027464833692647517,
          0.022129232063889503,
          0.00035390633274801075,
          0.005023319274187088,
          0.00009090830280911177,
          0.0004988687578588724,
          0.0001676382526056841,
          0.02108847349882126,
          0.00009805661102291197,
          0.0004329421208240092,
          0.0008766443934291601,
          0.0002018506929744035,
          0.00003898193608620204,
          0.0007867338135838509,
          0.0002892201591748744,
          0.00011683916090987623,
          0.00011431437451392412,
          0.0004357778816483915,
          0.00007493523298762739,
          0.0002997320261783898,
          0.0005127372569404542,
          0.00013832986587658525,
          0.00014280976029112935,
          0.00010564336844254285,
          0.000042541345464996994,
          0.0004959885263815522,
          0.00047044959501363337,
          0.00015592620184179395,
          0.038304220885038376,
          0.06073916703462601
         ],
         "yaxis": "y"
        }
       ],
       "layout": {
        "legend": {
         "title": {
          "text": "variable"
         },
         "tracegroupgap": 0
        },
        "template": {
         "data": {
          "bar": [
           {
            "error_x": {
             "color": "#2a3f5f"
            },
            "error_y": {
             "color": "#2a3f5f"
            },
            "marker": {
             "line": {
              "color": "#E5ECF6",
              "width": 0.5
             },
             "pattern": {
              "fillmode": "overlay",
              "size": 10,
              "solidity": 0.2
             }
            },
            "type": "bar"
           }
          ],
          "barpolar": [
           {
            "marker": {
             "line": {
              "color": "#E5ECF6",
              "width": 0.5
             },
             "pattern": {
              "fillmode": "overlay",
              "size": 10,
              "solidity": 0.2
             }
            },
            "type": "barpolar"
           }
          ],
          "carpet": [
           {
            "aaxis": {
             "endlinecolor": "#2a3f5f",
             "gridcolor": "white",
             "linecolor": "white",
             "minorgridcolor": "white",
             "startlinecolor": "#2a3f5f"
            },
            "baxis": {
             "endlinecolor": "#2a3f5f",
             "gridcolor": "white",
             "linecolor": "white",
             "minorgridcolor": "white",
             "startlinecolor": "#2a3f5f"
            },
            "type": "carpet"
           }
          ],
          "choropleth": [
           {
            "colorbar": {
             "outlinewidth": 0,
             "ticks": ""
            },
            "type": "choropleth"
           }
          ],
          "contour": [
           {
            "colorbar": {
             "outlinewidth": 0,
             "ticks": ""
            },
            "colorscale": [
             [
              0,
              "#0d0887"
             ],
             [
              0.1111111111111111,
              "#46039f"
             ],
             [
              0.2222222222222222,
              "#7201a8"
             ],
             [
              0.3333333333333333,
              "#9c179e"
             ],
             [
              0.4444444444444444,
              "#bd3786"
             ],
             [
              0.5555555555555556,
              "#d8576b"
             ],
             [
              0.6666666666666666,
              "#ed7953"
             ],
             [
              0.7777777777777778,
              "#fb9f3a"
             ],
             [
              0.8888888888888888,
              "#fdca26"
             ],
             [
              1,
              "#f0f921"
             ]
            ],
            "type": "contour"
           }
          ],
          "contourcarpet": [
           {
            "colorbar": {
             "outlinewidth": 0,
             "ticks": ""
            },
            "type": "contourcarpet"
           }
          ],
          "heatmap": [
           {
            "colorbar": {
             "outlinewidth": 0,
             "ticks": ""
            },
            "colorscale": [
             [
              0,
              "#0d0887"
             ],
             [
              0.1111111111111111,
              "#46039f"
             ],
             [
              0.2222222222222222,
              "#7201a8"
             ],
             [
              0.3333333333333333,
              "#9c179e"
             ],
             [
              0.4444444444444444,
              "#bd3786"
             ],
             [
              0.5555555555555556,
              "#d8576b"
             ],
             [
              0.6666666666666666,
              "#ed7953"
             ],
             [
              0.7777777777777778,
              "#fb9f3a"
             ],
             [
              0.8888888888888888,
              "#fdca26"
             ],
             [
              1,
              "#f0f921"
             ]
            ],
            "type": "heatmap"
           }
          ],
          "heatmapgl": [
           {
            "colorbar": {
             "outlinewidth": 0,
             "ticks": ""
            },
            "colorscale": [
             [
              0,
              "#0d0887"
             ],
             [
              0.1111111111111111,
              "#46039f"
             ],
             [
              0.2222222222222222,
              "#7201a8"
             ],
             [
              0.3333333333333333,
              "#9c179e"
             ],
             [
              0.4444444444444444,
              "#bd3786"
             ],
             [
              0.5555555555555556,
              "#d8576b"
             ],
             [
              0.6666666666666666,
              "#ed7953"
             ],
             [
              0.7777777777777778,
              "#fb9f3a"
             ],
             [
              0.8888888888888888,
              "#fdca26"
             ],
             [
              1,
              "#f0f921"
             ]
            ],
            "type": "heatmapgl"
           }
          ],
          "histogram": [
           {
            "marker": {
             "pattern": {
              "fillmode": "overlay",
              "size": 10,
              "solidity": 0.2
             }
            },
            "type": "histogram"
           }
          ],
          "histogram2d": [
           {
            "colorbar": {
             "outlinewidth": 0,
             "ticks": ""
            },
            "colorscale": [
             [
              0,
              "#0d0887"
             ],
             [
              0.1111111111111111,
              "#46039f"
             ],
             [
              0.2222222222222222,
              "#7201a8"
             ],
             [
              0.3333333333333333,
              "#9c179e"
             ],
             [
              0.4444444444444444,
              "#bd3786"
             ],
             [
              0.5555555555555556,
              "#d8576b"
             ],
             [
              0.6666666666666666,
              "#ed7953"
             ],
             [
              0.7777777777777778,
              "#fb9f3a"
             ],
             [
              0.8888888888888888,
              "#fdca26"
             ],
             [
              1,
              "#f0f921"
             ]
            ],
            "type": "histogram2d"
           }
          ],
          "histogram2dcontour": [
           {
            "colorbar": {
             "outlinewidth": 0,
             "ticks": ""
            },
            "colorscale": [
             [
              0,
              "#0d0887"
             ],
             [
              0.1111111111111111,
              "#46039f"
             ],
             [
              0.2222222222222222,
              "#7201a8"
             ],
             [
              0.3333333333333333,
              "#9c179e"
             ],
             [
              0.4444444444444444,
              "#bd3786"
             ],
             [
              0.5555555555555556,
              "#d8576b"
             ],
             [
              0.6666666666666666,
              "#ed7953"
             ],
             [
              0.7777777777777778,
              "#fb9f3a"
             ],
             [
              0.8888888888888888,
              "#fdca26"
             ],
             [
              1,
              "#f0f921"
             ]
            ],
            "type": "histogram2dcontour"
           }
          ],
          "mesh3d": [
           {
            "colorbar": {
             "outlinewidth": 0,
             "ticks": ""
            },
            "type": "mesh3d"
           }
          ],
          "parcoords": [
           {
            "line": {
             "colorbar": {
              "outlinewidth": 0,
              "ticks": ""
             }
            },
            "type": "parcoords"
           }
          ],
          "pie": [
           {
            "automargin": true,
            "type": "pie"
           }
          ],
          "scatter": [
           {
            "fillpattern": {
             "fillmode": "overlay",
             "size": 10,
             "solidity": 0.2
            },
            "type": "scatter"
           }
          ],
          "scatter3d": [
           {
            "line": {
             "colorbar": {
              "outlinewidth": 0,
              "ticks": ""
             }
            },
            "marker": {
             "colorbar": {
              "outlinewidth": 0,
              "ticks": ""
             }
            },
            "type": "scatter3d"
           }
          ],
          "scattercarpet": [
           {
            "marker": {
             "colorbar": {
              "outlinewidth": 0,
              "ticks": ""
             }
            },
            "type": "scattercarpet"
           }
          ],
          "scattergeo": [
           {
            "marker": {
             "colorbar": {
              "outlinewidth": 0,
              "ticks": ""
             }
            },
            "type": "scattergeo"
           }
          ],
          "scattergl": [
           {
            "marker": {
             "colorbar": {
              "outlinewidth": 0,
              "ticks": ""
             }
            },
            "type": "scattergl"
           }
          ],
          "scattermapbox": [
           {
            "marker": {
             "colorbar": {
              "outlinewidth": 0,
              "ticks": ""
             }
            },
            "type": "scattermapbox"
           }
          ],
          "scatterpolar": [
           {
            "marker": {
             "colorbar": {
              "outlinewidth": 0,
              "ticks": ""
             }
            },
            "type": "scatterpolar"
           }
          ],
          "scatterpolargl": [
           {
            "marker": {
             "colorbar": {
              "outlinewidth": 0,
              "ticks": ""
             }
            },
            "type": "scatterpolargl"
           }
          ],
          "scatterternary": [
           {
            "marker": {
             "colorbar": {
              "outlinewidth": 0,
              "ticks": ""
             }
            },
            "type": "scatterternary"
           }
          ],
          "surface": [
           {
            "colorbar": {
             "outlinewidth": 0,
             "ticks": ""
            },
            "colorscale": [
             [
              0,
              "#0d0887"
             ],
             [
              0.1111111111111111,
              "#46039f"
             ],
             [
              0.2222222222222222,
              "#7201a8"
             ],
             [
              0.3333333333333333,
              "#9c179e"
             ],
             [
              0.4444444444444444,
              "#bd3786"
             ],
             [
              0.5555555555555556,
              "#d8576b"
             ],
             [
              0.6666666666666666,
              "#ed7953"
             ],
             [
              0.7777777777777778,
              "#fb9f3a"
             ],
             [
              0.8888888888888888,
              "#fdca26"
             ],
             [
              1,
              "#f0f921"
             ]
            ],
            "type": "surface"
           }
          ],
          "table": [
           {
            "cells": {
             "fill": {
              "color": "#EBF0F8"
             },
             "line": {
              "color": "white"
             }
            },
            "header": {
             "fill": {
              "color": "#C8D4E3"
             },
             "line": {
              "color": "white"
             }
            },
            "type": "table"
           }
          ]
         },
         "layout": {
          "annotationdefaults": {
           "arrowcolor": "#2a3f5f",
           "arrowhead": 0,
           "arrowwidth": 1
          },
          "autotypenumbers": "strict",
          "coloraxis": {
           "colorbar": {
            "outlinewidth": 0,
            "ticks": ""
           }
          },
          "colorscale": {
           "diverging": [
            [
             0,
             "#8e0152"
            ],
            [
             0.1,
             "#c51b7d"
            ],
            [
             0.2,
             "#de77ae"
            ],
            [
             0.3,
             "#f1b6da"
            ],
            [
             0.4,
             "#fde0ef"
            ],
            [
             0.5,
             "#f7f7f7"
            ],
            [
             0.6,
             "#e6f5d0"
            ],
            [
             0.7,
             "#b8e186"
            ],
            [
             0.8,
             "#7fbc41"
            ],
            [
             0.9,
             "#4d9221"
            ],
            [
             1,
             "#276419"
            ]
           ],
           "sequential": [
            [
             0,
             "#0d0887"
            ],
            [
             0.1111111111111111,
             "#46039f"
            ],
            [
             0.2222222222222222,
             "#7201a8"
            ],
            [
             0.3333333333333333,
             "#9c179e"
            ],
            [
             0.4444444444444444,
             "#bd3786"
            ],
            [
             0.5555555555555556,
             "#d8576b"
            ],
            [
             0.6666666666666666,
             "#ed7953"
            ],
            [
             0.7777777777777778,
             "#fb9f3a"
            ],
            [
             0.8888888888888888,
             "#fdca26"
            ],
            [
             1,
             "#f0f921"
            ]
           ],
           "sequentialminus": [
            [
             0,
             "#0d0887"
            ],
            [
             0.1111111111111111,
             "#46039f"
            ],
            [
             0.2222222222222222,
             "#7201a8"
            ],
            [
             0.3333333333333333,
             "#9c179e"
            ],
            [
             0.4444444444444444,
             "#bd3786"
            ],
            [
             0.5555555555555556,
             "#d8576b"
            ],
            [
             0.6666666666666666,
             "#ed7953"
            ],
            [
             0.7777777777777778,
             "#fb9f3a"
            ],
            [
             0.8888888888888888,
             "#fdca26"
            ],
            [
             1,
             "#f0f921"
            ]
           ]
          },
          "colorway": [
           "#636efa",
           "#EF553B",
           "#00cc96",
           "#ab63fa",
           "#FFA15A",
           "#19d3f3",
           "#FF6692",
           "#B6E880",
           "#FF97FF",
           "#FECB52"
          ],
          "font": {
           "color": "#2a3f5f"
          },
          "geo": {
           "bgcolor": "white",
           "lakecolor": "white",
           "landcolor": "#E5ECF6",
           "showlakes": true,
           "showland": true,
           "subunitcolor": "white"
          },
          "hoverlabel": {
           "align": "left"
          },
          "hovermode": "closest",
          "mapbox": {
           "style": "light"
          },
          "paper_bgcolor": "white",
          "plot_bgcolor": "#E5ECF6",
          "polar": {
           "angularaxis": {
            "gridcolor": "white",
            "linecolor": "white",
            "ticks": ""
           },
           "bgcolor": "#E5ECF6",
           "radialaxis": {
            "gridcolor": "white",
            "linecolor": "white",
            "ticks": ""
           }
          },
          "scene": {
           "xaxis": {
            "backgroundcolor": "#E5ECF6",
            "gridcolor": "white",
            "gridwidth": 2,
            "linecolor": "white",
            "showbackground": true,
            "ticks": "",
            "zerolinecolor": "white"
           },
           "yaxis": {
            "backgroundcolor": "#E5ECF6",
            "gridcolor": "white",
            "gridwidth": 2,
            "linecolor": "white",
            "showbackground": true,
            "ticks": "",
            "zerolinecolor": "white"
           },
           "zaxis": {
            "backgroundcolor": "#E5ECF6",
            "gridcolor": "white",
            "gridwidth": 2,
            "linecolor": "white",
            "showbackground": true,
            "ticks": "",
            "zerolinecolor": "white"
           }
          },
          "shapedefaults": {
           "line": {
            "color": "#2a3f5f"
           }
          },
          "ternary": {
           "aaxis": {
            "gridcolor": "white",
            "linecolor": "white",
            "ticks": ""
           },
           "baxis": {
            "gridcolor": "white",
            "linecolor": "white",
            "ticks": ""
           },
           "bgcolor": "#E5ECF6",
           "caxis": {
            "gridcolor": "white",
            "linecolor": "white",
            "ticks": ""
           }
          },
          "title": {
           "x": 0.05
          },
          "xaxis": {
           "automargin": true,
           "gridcolor": "white",
           "linecolor": "white",
           "ticks": "",
           "title": {
            "standoff": 15
           },
           "zerolinecolor": "white",
           "zerolinewidth": 2
          },
          "yaxis": {
           "automargin": true,
           "gridcolor": "white",
           "linecolor": "white",
           "ticks": "",
           "title": {
            "standoff": 15
           },
           "zerolinecolor": "white",
           "zerolinewidth": 2
          }
         }
        },
        "title": {
         "text": "Early Time Period Common Topics"
        },
        "xaxis": {
         "anchor": "y",
         "domain": [
          0,
          1
         ],
         "dtick": "M1",
         "tickformat": "%b %d",
         "ticklabelmode": "period",
         "title": {
          "text": "timepoint"
         }
        },
        "yaxis": {
         "anchor": "x",
         "domain": [
          0,
          1
         ],
         "title": {
          "text": "value"
         }
        }
       }
      }
     },
     "metadata": {},
     "output_type": "display_data"
    }
   ],
   "source": [
    "td = pd.DataFrame()\n",
    "for timepoint in range(best_mdl.num_timepoints):\n",
    "    td_tmp = pd.DataFrame(\n",
    "        np.stack([doc.get_topic_dist() for doc in best_mdl.docs if doc.timepoint == timepoint]),\n",
    "        columns=[\"topic_{}\".format(i + 1) for i in range(best_mdl.k)],\n",
    "    )\n",
    "    td_tmp[\"timepoint\"] = timepoint\n",
    "    td = pd.concat([td, td_tmp], ignore_index=True)\n",
    "    del td_tmp\n",
    "\n",
    "import plotly.express as px\n",
    "fig = px.line(td, x=\"timepoint\", y=['topic_1', 'topic_10', 'topic_11', 'topic_12', 'topic_19', 'topic_21'],\n",
    "            #   hover_data={\"timepoint\": \"|%B %d, %Y\"},\n",
    "              title='Early Time Period Common Topics')\n",
    "fig.update_xaxes(\n",
    "    dtick=\"M1\",\n",
    "    tickformat=\"%b %d\",\n",
    "    ticklabelmode=\"period\")\n",
    "fig.show()\n"
   ]
  },
  {
   "cell_type": "code",
   "execution_count": 264,
   "metadata": {},
   "outputs": [],
   "source": [
    "# - 1 > timep 4, 45\n",
    "# - 21 > timep 45, 4\n",
    "# - 11 > timep 4, 45\n",
    "# - 12 > timep 44, 1\n",
    "# - 10 > timep 11, 45\n",
    "# - 19 > timep 9, 12\n",
    "\n",
    "# topic_1\n",
    "topic_1 = wt[wt['k']==0] # start with 0\n",
    "# select timepoint\n",
    "topic_1_4 = topic_13[topic_13['timepoint']==4]\n",
    "topic_1_45 = topic_13[topic_13['timepoint']==45]\n",
    "# concat\n",
    "topic_1_concate = pd.concat([topic_1_4, topic_1_45], ignore_index=True)\n",
    "topic_1_concate.sort_values(by='prob', ascending=False, inplace=True)\n",
    "\n",
    "# topic_10\n",
    "topic_10 = wt[wt['k']==9] # start with 0\n",
    "# select timepoint\n",
    "topic_10_11 = topic_10[topic_10['timepoint']==11]\n",
    "topic_10_45 = topic_10[topic_10['timepoint']==45]\n",
    "# concat \n",
    "topic_10_concate = pd.concat([topic_10_11, topic_10_45], ignore_index=True)\n",
    "topic_10_concate.sort_values(by='prob', ascending=False, inplace=True)\n",
    "\n",
    "# topic_11\n",
    "topic_11= wt[wt['k']==10] # start with 0\n",
    "# select timepoint\n",
    "topic_11_4 = topic_11[topic_11['timepoint']==4]\n",
    "topic_11_45 = topic_11[topic_11['timepoint']==45]\n",
    "# concat\n",
    "topic_11_concate = pd.concat([topic_11_4, topic_11_45], ignore_index=True)\n",
    "topic_11_concate.sort_values(by='prob', ascending=False, inplace=True)\n",
    "\n",
    "# topic_12\n",
    "topic_12= wt[wt['k']==11] # start with 0\n",
    "# select timepoint\n",
    "topic_12_44 = topic_12[topic_12['timepoint']==44]\n",
    "topic_12_1 = topic_12[topic_12['timepoint']==1]\n",
    "# concat \n",
    "topic_12_concat = pd.concat([topic_12_44, topic_12_1], ignore_index=True)\n",
    "topic_12_concat.sort_values(by='prob', ascending=False, inplace=True)\n",
    "\n",
    "# topic_19\n",
    "topic_19 = wt[wt['k']==18] # start with 0\n",
    "# select timepoint\n",
    "topic_19_9 = topic_19[topic_19['timepoint']==9]\n",
    "topic_19_12 = topic_19[topic_19['timepoint']==12]\n",
    "# concat \n",
    "topic_19_concat = pd.concat([topic_19_9, topic_19_12], ignore_index=True)\n",
    "topic_19_concat.sort_values(by='prob', ascending=False, inplace=True)\n",
    "\n",
    "# topic_21\n",
    "topic_21 = wt[wt['k']==20] # start with 0\n",
    "# select timepoint\n",
    "topic_21_45 = topic_21[topic_21['timepoint']==45]\n",
    "topic_21_4 = topic_21[topic_21['timepoint']==4]\n",
    "# concat \n",
    "topic_21_concat = pd.concat([topic_21_45, topic_21_4], ignore_index=True)\n",
    "topic_21_concat.sort_values(by='prob', ascending=False, inplace=True)"
   ]
  },
  {
   "cell_type": "code",
   "execution_count": 266,
   "metadata": {},
   "outputs": [
    {
     "data": {
      "text/html": [
       "<div>\n",
       "<style scoped>\n",
       "    .dataframe tbody tr th:only-of-type {\n",
       "        vertical-align: middle;\n",
       "    }\n",
       "\n",
       "    .dataframe tbody tr th {\n",
       "        vertical-align: top;\n",
       "    }\n",
       "\n",
       "    .dataframe thead th {\n",
       "        text-align: right;\n",
       "    }\n",
       "</style>\n",
       "<table border=\"1\" class=\"dataframe\">\n",
       "  <thead>\n",
       "    <tr style=\"text-align: right;\">\n",
       "      <th></th>\n",
       "      <th>79</th>\n",
       "      <th>77</th>\n",
       "      <th>25</th>\n",
       "      <th>18</th>\n",
       "      <th>58</th>\n",
       "      <th>28</th>\n",
       "      <th>39</th>\n",
       "      <th>43</th>\n",
       "      <th>62</th>\n",
       "      <th>21</th>\n",
       "      <th>40</th>\n",
       "      <th>9</th>\n",
       "      <th>47</th>\n",
       "      <th>54</th>\n",
       "      <th>56</th>\n",
       "      <th>60</th>\n",
       "      <th>63</th>\n",
       "      <th>45</th>\n",
       "      <th>70</th>\n",
       "      <th>83</th>\n",
       "      <th>19</th>\n",
       "      <th>8</th>\n",
       "      <th>36</th>\n",
       "      <th>55</th>\n",
       "      <th>52</th>\n",
       "      <th>76</th>\n",
       "      <th>1</th>\n",
       "      <th>30</th>\n",
       "      <th>71</th>\n",
       "      <th>12</th>\n",
       "      <th>41</th>\n",
       "      <th>35</th>\n",
       "      <th>67</th>\n",
       "      <th>64</th>\n",
       "      <th>74</th>\n",
       "      <th>78</th>\n",
       "      <th>10</th>\n",
       "      <th>20</th>\n",
       "      <th>34</th>\n",
       "      <th>48</th>\n",
       "      <th>82</th>\n",
       "      <th>81</th>\n",
       "      <th>57</th>\n",
       "      <th>24</th>\n",
       "      <th>72</th>\n",
       "      <th>49</th>\n",
       "      <th>31</th>\n",
       "      <th>26</th>\n",
       "      <th>29</th>\n",
       "      <th>32</th>\n",
       "      <th>4</th>\n",
       "      <th>68</th>\n",
       "      <th>5</th>\n",
       "      <th>65</th>\n",
       "      <th>16</th>\n",
       "      <th>22</th>\n",
       "      <th>15</th>\n",
       "      <th>59</th>\n",
       "      <th>50</th>\n",
       "      <th>80</th>\n",
       "      <th>73</th>\n",
       "      <th>75</th>\n",
       "      <th>0</th>\n",
       "      <th>61</th>\n",
       "      <th>23</th>\n",
       "      <th>2</th>\n",
       "      <th>3</th>\n",
       "      <th>6</th>\n",
       "      <th>7</th>\n",
       "      <th>11</th>\n",
       "      <th>13</th>\n",
       "      <th>14</th>\n",
       "      <th>17</th>\n",
       "      <th>27</th>\n",
       "      <th>53</th>\n",
       "      <th>33</th>\n",
       "      <th>38</th>\n",
       "      <th>44</th>\n",
       "      <th>46</th>\n",
       "      <th>42</th>\n",
       "      <th>69</th>\n",
       "      <th>66</th>\n",
       "      <th>51</th>\n",
       "      <th>37</th>\n",
       "    </tr>\n",
       "  </thead>\n",
       "  <tbody>\n",
       "    <tr>\n",
       "      <th>word</th>\n",
       "      <td>wage</td>\n",
       "      <td>synergy</td>\n",
       "      <td>ehquake</td>\n",
       "      <td>destruction</td>\n",
       "      <td>player</td>\n",
       "      <td>estate</td>\n",
       "      <td>instance</td>\n",
       "      <td>inﬂation</td>\n",
       "      <td>proﬁt</td>\n",
       "      <td>diﬀerent</td>\n",
       "      <td>instrument</td>\n",
       "      <td>building</td>\n",
       "      <td>majority</td>\n",
       "      <td>overview</td>\n",
       "      <td>oﬀset</td>\n",
       "      <td>procurement</td>\n",
       "      <td>proﬁtability</td>\n",
       "      <td>ium</td>\n",
       "      <td>sensitivity</td>\n",
       "      <td>yen</td>\n",
       "      <td>discount</td>\n",
       "      <td>beneﬁts</td>\n",
       "      <td>housing</td>\n",
       "      <td>oﬀ</td>\n",
       "      <td>motor</td>\n",
       "      <td>structure</td>\n",
       "      <td>adjustment</td>\n",
       "      <td>eﬀect</td>\n",
       "      <td>situation</td>\n",
       "      <td>capacity</td>\n",
       "      <td>integration</td>\n",
       "      <td>health</td>\n",
       "      <td>retention</td>\n",
       "      <td>qbe</td>\n",
       "      <td>stock</td>\n",
       "      <td>traction</td>\n",
       "      <td>buyback</td>\n",
       "      <td>discussion</td>\n",
       "      <td>gbpb</td>\n",
       "      <td>material</td>\n",
       "      <td>winter</td>\n",
       "      <td>website</td>\n",
       "      <td>pension</td>\n",
       "      <td>efficiency</td>\n",
       "      <td>statement</td>\n",
       "      <td>meeting</td>\n",
       "      <td>fall</td>\n",
       "      <td>element</td>\n",
       "      <td>extent</td>\n",
       "      <td>financial</td>\n",
       "      <td>annuity</td>\n",
       "      <td>revenue</td>\n",
       "      <td>assumption</td>\n",
       "      <td>relationship</td>\n",
       "      <td>crop</td>\n",
       "      <td>dollar</td>\n",
       "      <td>crisis</td>\n",
       "      <td>problem</td>\n",
       "      <td>mind</td>\n",
       "      <td>weather</td>\n",
       "      <td>step</td>\n",
       "      <td>storm</td>\n",
       "      <td>accit</td>\n",
       "      <td>protection</td>\n",
       "      <td>duration</td>\n",
       "      <td>adtage</td>\n",
       "      <td>agent</td>\n",
       "      <td>auto</td>\n",
       "      <td>bank</td>\n",
       "      <td>capability</td>\n",
       "      <td>class</td>\n",
       "      <td>competitor</td>\n",
       "      <td>decrease</td>\n",
       "      <td>energy</td>\n",
       "      <td>movement</td>\n",
       "      <td>force</td>\n",
       "      <td>inflow</td>\n",
       "      <td>item</td>\n",
       "      <td>load</td>\n",
       "      <td>investor</td>\n",
       "      <td>save</td>\n",
       "      <td>respect</td>\n",
       "      <td>money</td>\n",
       "      <td>impairment</td>\n",
       "    </tr>\n",
       "    <tr>\n",
       "      <th>prob</th>\n",
       "      <td>0.039</td>\n",
       "      <td>0.032</td>\n",
       "      <td>0.02</td>\n",
       "      <td>0.019</td>\n",
       "      <td>0.019</td>\n",
       "      <td>0.019</td>\n",
       "      <td>0.019</td>\n",
       "      <td>0.019</td>\n",
       "      <td>0.0165</td>\n",
       "      <td>0.016333</td>\n",
       "      <td>0.016</td>\n",
       "      <td>0.016</td>\n",
       "      <td>0.016</td>\n",
       "      <td>0.016</td>\n",
       "      <td>0.016</td>\n",
       "      <td>0.015</td>\n",
       "      <td>0.0145</td>\n",
       "      <td>0.014</td>\n",
       "      <td>0.014</td>\n",
       "      <td>0.014</td>\n",
       "      <td>0.014</td>\n",
       "      <td>0.014</td>\n",
       "      <td>0.013</td>\n",
       "      <td>0.013</td>\n",
       "      <td>0.013</td>\n",
       "      <td>0.0125</td>\n",
       "      <td>0.011</td>\n",
       "      <td>0.0105</td>\n",
       "      <td>0.0105</td>\n",
       "      <td>0.009</td>\n",
       "      <td>0.009</td>\n",
       "      <td>0.0085</td>\n",
       "      <td>0.008</td>\n",
       "      <td>0.008</td>\n",
       "      <td>0.0075</td>\n",
       "      <td>0.007</td>\n",
       "      <td>0.007</td>\n",
       "      <td>0.007</td>\n",
       "      <td>0.006</td>\n",
       "      <td>0.006</td>\n",
       "      <td>0.006</td>\n",
       "      <td>0.006</td>\n",
       "      <td>0.006</td>\n",
       "      <td>0.006</td>\n",
       "      <td>0.006</td>\n",
       "      <td>0.006</td>\n",
       "      <td>0.006</td>\n",
       "      <td>0.006</td>\n",
       "      <td>0.006</td>\n",
       "      <td>0.006</td>\n",
       "      <td>0.0055</td>\n",
       "      <td>0.005333</td>\n",
       "      <td>0.005333</td>\n",
       "      <td>0.005</td>\n",
       "      <td>0.005</td>\n",
       "      <td>0.005</td>\n",
       "      <td>0.005</td>\n",
       "      <td>0.005</td>\n",
       "      <td>0.005</td>\n",
       "      <td>0.004</td>\n",
       "      <td>0.004</td>\n",
       "      <td>0.004</td>\n",
       "      <td>0.004</td>\n",
       "      <td>0.004</td>\n",
       "      <td>0.004</td>\n",
       "      <td>0.004</td>\n",
       "      <td>0.004</td>\n",
       "      <td>0.004</td>\n",
       "      <td>0.004</td>\n",
       "      <td>0.004</td>\n",
       "      <td>0.004</td>\n",
       "      <td>0.004</td>\n",
       "      <td>0.004</td>\n",
       "      <td>0.004</td>\n",
       "      <td>0.004</td>\n",
       "      <td>0.004</td>\n",
       "      <td>0.004</td>\n",
       "      <td>0.004</td>\n",
       "      <td>0.004</td>\n",
       "      <td>0.004</td>\n",
       "      <td>0.0035</td>\n",
       "      <td>0.0035</td>\n",
       "      <td>0.0035</td>\n",
       "      <td>0.003</td>\n",
       "    </tr>\n",
       "  </tbody>\n",
       "</table>\n",
       "</div>"
      ],
      "text/plain": [
       "         79       77       25           18      58      28        39  \\\n",
       "word   wage  synergy  ehquake  destruction  player  estate  instance   \n",
       "prob  0.039    0.032     0.02        0.019   0.019   0.019     0.019   \n",
       "\n",
       "            43      62        21          40        9         47        54  \\\n",
       "word  inﬂation   proﬁt  diﬀerent  instrument  building  majority  overview   \n",
       "prob     0.019  0.0165  0.016333       0.016     0.016     0.016     0.016   \n",
       "\n",
       "         56           60            63     45           70     83        19  \\\n",
       "word  oﬀset  procurement  proﬁtability    ium  sensitivity    yen  discount   \n",
       "prob  0.016        0.015        0.0145  0.014        0.014  0.014     0.014   \n",
       "\n",
       "           8        36     55     52         76          1       30  \\\n",
       "word  beneﬁts  housing     oﬀ  motor  structure  adjustment   eﬀect   \n",
       "prob    0.014    0.013  0.013  0.013     0.0125       0.011  0.0105   \n",
       "\n",
       "             71        12           41      35         67     64      74  \\\n",
       "word  situation  capacity  integration  health  retention    qbe   stock   \n",
       "prob     0.0105     0.009        0.009  0.0085      0.008  0.008  0.0075   \n",
       "\n",
       "            78       10          20     34        48      82       81  \\\n",
       "word  traction  buyback  discussion   gbpb  material  winter  website   \n",
       "prob     0.007    0.007       0.007  0.006     0.006   0.006    0.006   \n",
       "\n",
       "           57          24         72       49     31       26      29  \\\n",
       "word  pension  efficiency  statement  meeting   fall  element  extent   \n",
       "prob    0.006       0.006      0.006    0.006  0.006    0.006   0.006   \n",
       "\n",
       "             32       4         68          5             65     16      22  \\\n",
       "word  financial  annuity   revenue  assumption  relationship   crop  dollar   \n",
       "prob      0.006   0.0055  0.005333    0.005333         0.005  0.005   0.005   \n",
       "\n",
       "          15       59     50       80     73     75     0           61  \\\n",
       "word  crisis  problem   mind  weather   step  storm  accit  protection   \n",
       "prob   0.005    0.005  0.005    0.004  0.004  0.004  0.004       0.004   \n",
       "\n",
       "            23      2      3      6      7           11     13          14  \\\n",
       "word  duration  adtage  agent   auto   bank  capability  class  competitor   \n",
       "prob     0.004   0.004  0.004  0.004  0.004       0.004  0.004       0.004   \n",
       "\n",
       "            17      27        53     33      38     44     46        42  \\\n",
       "word  decrease  energy  movement  force  inflow   item   load  investor   \n",
       "prob     0.004   0.004     0.004  0.004   0.004  0.004  0.004     0.004   \n",
       "\n",
       "          69       66      51          37  \n",
       "word    save  respect   money  impairment  \n",
       "prob  0.0035   0.0035  0.0035       0.003  "
      ]
     },
     "execution_count": 266,
     "metadata": {},
     "output_type": "execute_result"
    }
   ],
   "source": [
    "# concat all together\n",
    "topic_all_early = pd.concat([topic_1_concate, topic_10_concate, topic_11_concate, topic_12_concat, topic_19_concat, topic_21_concat], ignore_index=True)\n",
    "\n",
    "# groupby word and get the average of prob\n",
    "topic_all_early = topic_all_early.groupby(['word'])['prob'].mean().reset_index()\n",
    "# sort by prob\n",
    "topic_all_early.sort_values(by='prob', ascending=False, inplace=True)\n",
    "topic_all_early.T"
   ]
  },
  {
   "cell_type": "code",
   "execution_count": null,
   "metadata": {},
   "outputs": [],
   "source": [
    "ehquake, destruction, estate, instrument, building, yen, housing"
   ]
  },
  {
   "cell_type": "markdown",
   "metadata": {},
   "source": [
    "# recent time of the common topics"
   ]
  },
  {
   "cell_type": "code",
   "execution_count": 284,
   "metadata": {},
   "outputs": [
    {
     "data": {
      "application/vnd.plotly.v1+json": {
       "config": {
        "plotlyServerURL": "https://plot.ly"
       },
       "data": [
        {
         "hovertemplate": "variable=topic_3<br>timepoint=%{x}<br>value=%{y}<extra></extra>",
         "legendgroup": "topic_3",
         "line": {
          "color": "#636efa",
          "dash": "solid"
         },
         "marker": {
          "symbol": "circle"
         },
         "mode": "lines",
         "name": "topic_3",
         "orientation": "v",
         "showlegend": true,
         "type": "scatter",
         "x": [
          0,
          1,
          2,
          3,
          4,
          5,
          6,
          7,
          8,
          9,
          10,
          11,
          12,
          13,
          14,
          15,
          16,
          17,
          18,
          19,
          20,
          21,
          22,
          23,
          24,
          25,
          26,
          27,
          28,
          29,
          30,
          31,
          32,
          33,
          34,
          35,
          36,
          37,
          38,
          39,
          40,
          41,
          42,
          43,
          44,
          45
         ],
         "xaxis": "x",
         "y": [
          0.05616948381066322,
          0.03977467864751816,
          0.05370684713125229,
          0.04702185094356537,
          0.033511292189359665,
          0.04069158434867859,
          0.042027682065963745,
          0.04332011938095093,
          0.02532118372619152,
          0.03579021990299225,
          0.03520123288035393,
          0.040568653494119644,
          0.029831159859895706,
          0.008284786716103554,
          0.0003668454592116177,
          0.04367701709270477,
          0.000005385261829360388,
          0.024235866963863373,
          0.0001798540324671194,
          0.0035188309848308563,
          0.0001341979659628123,
          0.0003583423385862261,
          0.0001135613929363899,
          0.01838393323123455,
          0.000004669362624554196,
          0.0005398414214141667,
          0.00041525260894559324,
          0.00008311498822877184,
          0.0001807344233384356,
          0.003018602728843689,
          0.9965815544128418,
          0.0004937397316098213,
          0.00022494119184557348,
          0.00024422715068794787,
          0.0001463021180825308,
          0.0002997320261783898,
          0.0008680996834300458,
          0.9970951080322266,
          0.00041921576485037804,
          0.9943606853485107,
          0.00027458503609523177,
          0.0018585942452773452,
          0.0006772406050004065,
          0.0003571213164832443,
          0.048606839030981064,
          0.03650408983230591
         ],
         "yaxis": "y"
        },
        {
         "hovertemplate": "variable=topic_4<br>timepoint=%{x}<br>value=%{y}<extra></extra>",
         "legendgroup": "topic_4",
         "line": {
          "color": "#EF553B",
          "dash": "solid"
         },
         "marker": {
          "symbol": "circle"
         },
         "mode": "lines",
         "name": "topic_4",
         "orientation": "v",
         "showlegend": true,
         "type": "scatter",
         "x": [
          0,
          1,
          2,
          3,
          4,
          5,
          6,
          7,
          8,
          9,
          10,
          11,
          12,
          13,
          14,
          15,
          16,
          17,
          18,
          19,
          20,
          21,
          22,
          23,
          24,
          25,
          26,
          27,
          28,
          29,
          30,
          31,
          32,
          33,
          34,
          35,
          36,
          37,
          38,
          39,
          40,
          41,
          42,
          43,
          44,
          45
         ],
         "xaxis": "x",
         "y": [
          0.041455212980508804,
          0.0569312609732151,
          0.046578291803598404,
          0.04641157388687134,
          0.041493285447359085,
          0.03794721141457558,
          0.04259030148386955,
          0.049863360822200775,
          0.039430003613233566,
          0.047095946967601776,
          0.04452943056821823,
          0.04224982112646103,
          0.04316430538892746,
          0.013298634439706802,
          0.0003151770797558129,
          0.03209521621465683,
          0.00016694310761522502,
          0.02375708520412445,
          0.0001798540324671194,
          0.00460540596395731,
          0.0001341979659628123,
          0.000779921596404165,
          0.0002757919719442725,
          0.013807021081447601,
          0.00014475024363491684,
          0.0005398414214141667,
          0.0005690499092452228,
          0.00004353642725618556,
          0.00003898193608620204,
          0.0005635469569824636,
          0.0002892201591748744,
          0.0004560496599879116,
          0.00011431437451392412,
          0.0005315532325766981,
          0.9982479810714722,
          0.9944109320640564,
          0.0010711639188230038,
          0.0002275749429827556,
          0.00014280976029112935,
          0.0002062560961348936,
          0.00008121528662741184,
          0.9816266298294067,
          0.0010391249088570476,
          0.000759511545766145,
          0.04491634666919708,
          0.07134201377630234
         ],
         "yaxis": "y"
        },
        {
         "hovertemplate": "variable=topic_5<br>timepoint=%{x}<br>value=%{y}<extra></extra>",
         "legendgroup": "topic_5",
         "line": {
          "color": "#00cc96",
          "dash": "solid"
         },
         "marker": {
          "symbol": "circle"
         },
         "mode": "lines",
         "name": "topic_5",
         "orientation": "v",
         "showlegend": true,
         "type": "scatter",
         "x": [
          0,
          1,
          2,
          3,
          4,
          5,
          6,
          7,
          8,
          9,
          10,
          11,
          12,
          13,
          14,
          15,
          16,
          17,
          18,
          19,
          20,
          21,
          22,
          23,
          24,
          25,
          26,
          27,
          28,
          29,
          30,
          31,
          32,
          33,
          34,
          35,
          36,
          37,
          38,
          39,
          40,
          41,
          42,
          43,
          44,
          45
         ],
         "xaxis": "x",
         "y": [
          0.04025404527783394,
          0.050640515983104706,
          0.050066735595464706,
          0.04183449596166611,
          0.038614533841609955,
          0.05341549962759018,
          0.04784141480922699,
          0.06468188017606735,
          0.05162997916340828,
          0.058739159256219864,
          0.04512304440140724,
          0.08963770419359207,
          0.025761041790246964,
          0.0041463724337518215,
          0.00010850357648450881,
          0.02780313603579998,
          0.0008131745853461325,
          0.06225103139877319,
          0.0005859760567545891,
          0.007781547959893942,
          0.00009090830280911177,
          0.0005691319820471108,
          0.0001135613929363899,
          0.044666506350040436,
          0.0001914438616950065,
          0.0002191435341956094,
          0.0016968963900581002,
          0.9975026249885559,
          0.00007442005153279752,
          0.0012331076432019472,
          0.0003840464632958174,
          0.00022990931756794453,
          0.00007743876631138846,
          0.0004836655571125448,
          0.00007493523298762739,
          0.00018219005141872913,
          0.00025890691904351115,
          0.000004462253855308518,
          0.00005067443271400407,
          0.00030686883837915957,
          0.000042541345464996994,
          0.0007685096934437752,
          0.0012459158897399902,
          0.9918968677520752,
          0.08028354495763779,
          0.039533473551273346
         ],
         "yaxis": "y"
        },
        {
         "hovertemplate": "variable=topic_17<br>timepoint=%{x}<br>value=%{y}<extra></extra>",
         "legendgroup": "topic_17",
         "line": {
          "color": "#ab63fa",
          "dash": "solid"
         },
         "marker": {
          "symbol": "circle"
         },
         "mode": "lines",
         "name": "topic_17",
         "orientation": "v",
         "showlegend": true,
         "type": "scatter",
         "x": [
          0,
          1,
          2,
          3,
          4,
          5,
          6,
          7,
          8,
          9,
          10,
          11,
          12,
          13,
          14,
          15,
          16,
          17,
          18,
          19,
          20,
          21,
          22,
          23,
          24,
          25,
          26,
          27,
          28,
          29,
          30,
          31,
          32,
          33,
          34,
          35,
          36,
          37,
          38,
          39,
          40,
          41,
          42,
          43,
          44,
          45
         ],
         "xaxis": "x",
         "y": [
          0.051364824175834656,
          0.04406382516026497,
          0.0508250929415226,
          0.04824240505695343,
          0.04489544779062271,
          0.039194654673337936,
          0.0435279980301857,
          0.046014394611120224,
          0.039015039801597595,
          0.04068374261260033,
          0.0310459453612566,
          0.056119441986083984,
          0.02604174055159092,
          0.00740935280919075,
          0.0005218505975790322,
          0.048037223517894745,
          0.00027464833692647517,
          0.027204304933547974,
          0.0001798540324671194,
          0.006026311777532101,
          0.0002207773068221286,
          0.0013420272152870893,
          0.0002217151049990207,
          0.01796784996986389,
          0.00028483112691901624,
          0.0015019349521026015,
          0.0010304416064172983,
          0.000241429268498905,
          0.997799277305603,
          0.003520773258060217,
          0.00005215445708017796,
          0.00011683916090987623,
          0.00004056316538481042,
          0.0003878902061842382,
          0.00003925179044017568,
          0.00024096103152260184,
          0.9886741042137146,
          0.0000490847960463725,
          0.00041921576485037804,
          0.00045778797357343137,
          0.9972889423370361,
          0.002567149233072996,
          0.9863983392715454,
          0.0005583164165727794,
          0.05122093856334686,
          0.05468039587140083
         ],
         "yaxis": "y"
        },
        {
         "hovertemplate": "variable=topic_22<br>timepoint=%{x}<br>value=%{y}<extra></extra>",
         "legendgroup": "topic_22",
         "line": {
          "color": "#FFA15A",
          "dash": "solid"
         },
         "marker": {
          "symbol": "circle"
         },
         "mode": "lines",
         "name": "topic_22",
         "orientation": "v",
         "showlegend": true,
         "type": "scatter",
         "x": [
          0,
          1,
          2,
          3,
          4,
          5,
          6,
          7,
          8,
          9,
          10,
          11,
          12,
          13,
          14,
          15,
          16,
          17,
          18,
          19,
          20,
          21,
          22,
          23,
          24,
          25,
          26,
          27,
          28,
          29,
          30,
          31,
          32,
          33,
          34,
          35,
          36,
          37,
          38,
          39,
          40,
          41,
          42,
          43,
          44,
          45
         ],
         "xaxis": "x",
         "y": [
          0.04010390117764473,
          0.046637311577796936,
          0.044758234173059464,
          0.04946295917034149,
          0.03848368301987648,
          0.046429820358753204,
          0.0562807098031044,
          0.0440899096429348,
          0.05976330116391182,
          0.047433432191610336,
          0.03562524542212486,
          0.03174252808094025,
          0.040988896042108536,
          0.006056409329175949,
          0.00010850357648450881,
          0.014109360054135323,
          0.0002207957295468077,
          0.0296939630061388,
          0.00029588889447040856,
          0.015471155755221844,
          0.0001341979659628123,
          0.0023959751706570387,
          0.0002757919719442725,
          0.027537759393453598,
          0.00009805661102291197,
          0.00048639177111908793,
          0.0008766443934291601,
          0.00012269355647731572,
          0.00035792504786513746,
          0.00536206504330039,
          0.00024180700711440295,
          0.00019221926049795002,
          0.00011431437451392412,
          0.9926205277442932,
          0.0001106186828110367,
          0.0003585029917303473,
          0.0003604390367399901,
          0.00013832986587658525,
          0.995158314704895,
          0.00035717521677725017,
          0.0001198892350657843,
          0.0004959885263815522,
          0.0005738451145589352,
          0.0005080176633782685,
          0.03784290701150894,
          0.03498939797282219
         ],
         "yaxis": "y"
        }
       ],
       "layout": {
        "legend": {
         "title": {
          "text": "variable"
         },
         "tracegroupgap": 0
        },
        "template": {
         "data": {
          "bar": [
           {
            "error_x": {
             "color": "#2a3f5f"
            },
            "error_y": {
             "color": "#2a3f5f"
            },
            "marker": {
             "line": {
              "color": "#E5ECF6",
              "width": 0.5
             },
             "pattern": {
              "fillmode": "overlay",
              "size": 10,
              "solidity": 0.2
             }
            },
            "type": "bar"
           }
          ],
          "barpolar": [
           {
            "marker": {
             "line": {
              "color": "#E5ECF6",
              "width": 0.5
             },
             "pattern": {
              "fillmode": "overlay",
              "size": 10,
              "solidity": 0.2
             }
            },
            "type": "barpolar"
           }
          ],
          "carpet": [
           {
            "aaxis": {
             "endlinecolor": "#2a3f5f",
             "gridcolor": "white",
             "linecolor": "white",
             "minorgridcolor": "white",
             "startlinecolor": "#2a3f5f"
            },
            "baxis": {
             "endlinecolor": "#2a3f5f",
             "gridcolor": "white",
             "linecolor": "white",
             "minorgridcolor": "white",
             "startlinecolor": "#2a3f5f"
            },
            "type": "carpet"
           }
          ],
          "choropleth": [
           {
            "colorbar": {
             "outlinewidth": 0,
             "ticks": ""
            },
            "type": "choropleth"
           }
          ],
          "contour": [
           {
            "colorbar": {
             "outlinewidth": 0,
             "ticks": ""
            },
            "colorscale": [
             [
              0,
              "#0d0887"
             ],
             [
              0.1111111111111111,
              "#46039f"
             ],
             [
              0.2222222222222222,
              "#7201a8"
             ],
             [
              0.3333333333333333,
              "#9c179e"
             ],
             [
              0.4444444444444444,
              "#bd3786"
             ],
             [
              0.5555555555555556,
              "#d8576b"
             ],
             [
              0.6666666666666666,
              "#ed7953"
             ],
             [
              0.7777777777777778,
              "#fb9f3a"
             ],
             [
              0.8888888888888888,
              "#fdca26"
             ],
             [
              1,
              "#f0f921"
             ]
            ],
            "type": "contour"
           }
          ],
          "contourcarpet": [
           {
            "colorbar": {
             "outlinewidth": 0,
             "ticks": ""
            },
            "type": "contourcarpet"
           }
          ],
          "heatmap": [
           {
            "colorbar": {
             "outlinewidth": 0,
             "ticks": ""
            },
            "colorscale": [
             [
              0,
              "#0d0887"
             ],
             [
              0.1111111111111111,
              "#46039f"
             ],
             [
              0.2222222222222222,
              "#7201a8"
             ],
             [
              0.3333333333333333,
              "#9c179e"
             ],
             [
              0.4444444444444444,
              "#bd3786"
             ],
             [
              0.5555555555555556,
              "#d8576b"
             ],
             [
              0.6666666666666666,
              "#ed7953"
             ],
             [
              0.7777777777777778,
              "#fb9f3a"
             ],
             [
              0.8888888888888888,
              "#fdca26"
             ],
             [
              1,
              "#f0f921"
             ]
            ],
            "type": "heatmap"
           }
          ],
          "heatmapgl": [
           {
            "colorbar": {
             "outlinewidth": 0,
             "ticks": ""
            },
            "colorscale": [
             [
              0,
              "#0d0887"
             ],
             [
              0.1111111111111111,
              "#46039f"
             ],
             [
              0.2222222222222222,
              "#7201a8"
             ],
             [
              0.3333333333333333,
              "#9c179e"
             ],
             [
              0.4444444444444444,
              "#bd3786"
             ],
             [
              0.5555555555555556,
              "#d8576b"
             ],
             [
              0.6666666666666666,
              "#ed7953"
             ],
             [
              0.7777777777777778,
              "#fb9f3a"
             ],
             [
              0.8888888888888888,
              "#fdca26"
             ],
             [
              1,
              "#f0f921"
             ]
            ],
            "type": "heatmapgl"
           }
          ],
          "histogram": [
           {
            "marker": {
             "pattern": {
              "fillmode": "overlay",
              "size": 10,
              "solidity": 0.2
             }
            },
            "type": "histogram"
           }
          ],
          "histogram2d": [
           {
            "colorbar": {
             "outlinewidth": 0,
             "ticks": ""
            },
            "colorscale": [
             [
              0,
              "#0d0887"
             ],
             [
              0.1111111111111111,
              "#46039f"
             ],
             [
              0.2222222222222222,
              "#7201a8"
             ],
             [
              0.3333333333333333,
              "#9c179e"
             ],
             [
              0.4444444444444444,
              "#bd3786"
             ],
             [
              0.5555555555555556,
              "#d8576b"
             ],
             [
              0.6666666666666666,
              "#ed7953"
             ],
             [
              0.7777777777777778,
              "#fb9f3a"
             ],
             [
              0.8888888888888888,
              "#fdca26"
             ],
             [
              1,
              "#f0f921"
             ]
            ],
            "type": "histogram2d"
           }
          ],
          "histogram2dcontour": [
           {
            "colorbar": {
             "outlinewidth": 0,
             "ticks": ""
            },
            "colorscale": [
             [
              0,
              "#0d0887"
             ],
             [
              0.1111111111111111,
              "#46039f"
             ],
             [
              0.2222222222222222,
              "#7201a8"
             ],
             [
              0.3333333333333333,
              "#9c179e"
             ],
             [
              0.4444444444444444,
              "#bd3786"
             ],
             [
              0.5555555555555556,
              "#d8576b"
             ],
             [
              0.6666666666666666,
              "#ed7953"
             ],
             [
              0.7777777777777778,
              "#fb9f3a"
             ],
             [
              0.8888888888888888,
              "#fdca26"
             ],
             [
              1,
              "#f0f921"
             ]
            ],
            "type": "histogram2dcontour"
           }
          ],
          "mesh3d": [
           {
            "colorbar": {
             "outlinewidth": 0,
             "ticks": ""
            },
            "type": "mesh3d"
           }
          ],
          "parcoords": [
           {
            "line": {
             "colorbar": {
              "outlinewidth": 0,
              "ticks": ""
             }
            },
            "type": "parcoords"
           }
          ],
          "pie": [
           {
            "automargin": true,
            "type": "pie"
           }
          ],
          "scatter": [
           {
            "fillpattern": {
             "fillmode": "overlay",
             "size": 10,
             "solidity": 0.2
            },
            "type": "scatter"
           }
          ],
          "scatter3d": [
           {
            "line": {
             "colorbar": {
              "outlinewidth": 0,
              "ticks": ""
             }
            },
            "marker": {
             "colorbar": {
              "outlinewidth": 0,
              "ticks": ""
             }
            },
            "type": "scatter3d"
           }
          ],
          "scattercarpet": [
           {
            "marker": {
             "colorbar": {
              "outlinewidth": 0,
              "ticks": ""
             }
            },
            "type": "scattercarpet"
           }
          ],
          "scattergeo": [
           {
            "marker": {
             "colorbar": {
              "outlinewidth": 0,
              "ticks": ""
             }
            },
            "type": "scattergeo"
           }
          ],
          "scattergl": [
           {
            "marker": {
             "colorbar": {
              "outlinewidth": 0,
              "ticks": ""
             }
            },
            "type": "scattergl"
           }
          ],
          "scattermapbox": [
           {
            "marker": {
             "colorbar": {
              "outlinewidth": 0,
              "ticks": ""
             }
            },
            "type": "scattermapbox"
           }
          ],
          "scatterpolar": [
           {
            "marker": {
             "colorbar": {
              "outlinewidth": 0,
              "ticks": ""
             }
            },
            "type": "scatterpolar"
           }
          ],
          "scatterpolargl": [
           {
            "marker": {
             "colorbar": {
              "outlinewidth": 0,
              "ticks": ""
             }
            },
            "type": "scatterpolargl"
           }
          ],
          "scatterternary": [
           {
            "marker": {
             "colorbar": {
              "outlinewidth": 0,
              "ticks": ""
             }
            },
            "type": "scatterternary"
           }
          ],
          "surface": [
           {
            "colorbar": {
             "outlinewidth": 0,
             "ticks": ""
            },
            "colorscale": [
             [
              0,
              "#0d0887"
             ],
             [
              0.1111111111111111,
              "#46039f"
             ],
             [
              0.2222222222222222,
              "#7201a8"
             ],
             [
              0.3333333333333333,
              "#9c179e"
             ],
             [
              0.4444444444444444,
              "#bd3786"
             ],
             [
              0.5555555555555556,
              "#d8576b"
             ],
             [
              0.6666666666666666,
              "#ed7953"
             ],
             [
              0.7777777777777778,
              "#fb9f3a"
             ],
             [
              0.8888888888888888,
              "#fdca26"
             ],
             [
              1,
              "#f0f921"
             ]
            ],
            "type": "surface"
           }
          ],
          "table": [
           {
            "cells": {
             "fill": {
              "color": "#EBF0F8"
             },
             "line": {
              "color": "white"
             }
            },
            "header": {
             "fill": {
              "color": "#C8D4E3"
             },
             "line": {
              "color": "white"
             }
            },
            "type": "table"
           }
          ]
         },
         "layout": {
          "annotationdefaults": {
           "arrowcolor": "#2a3f5f",
           "arrowhead": 0,
           "arrowwidth": 1
          },
          "autotypenumbers": "strict",
          "coloraxis": {
           "colorbar": {
            "outlinewidth": 0,
            "ticks": ""
           }
          },
          "colorscale": {
           "diverging": [
            [
             0,
             "#8e0152"
            ],
            [
             0.1,
             "#c51b7d"
            ],
            [
             0.2,
             "#de77ae"
            ],
            [
             0.3,
             "#f1b6da"
            ],
            [
             0.4,
             "#fde0ef"
            ],
            [
             0.5,
             "#f7f7f7"
            ],
            [
             0.6,
             "#e6f5d0"
            ],
            [
             0.7,
             "#b8e186"
            ],
            [
             0.8,
             "#7fbc41"
            ],
            [
             0.9,
             "#4d9221"
            ],
            [
             1,
             "#276419"
            ]
           ],
           "sequential": [
            [
             0,
             "#0d0887"
            ],
            [
             0.1111111111111111,
             "#46039f"
            ],
            [
             0.2222222222222222,
             "#7201a8"
            ],
            [
             0.3333333333333333,
             "#9c179e"
            ],
            [
             0.4444444444444444,
             "#bd3786"
            ],
            [
             0.5555555555555556,
             "#d8576b"
            ],
            [
             0.6666666666666666,
             "#ed7953"
            ],
            [
             0.7777777777777778,
             "#fb9f3a"
            ],
            [
             0.8888888888888888,
             "#fdca26"
            ],
            [
             1,
             "#f0f921"
            ]
           ],
           "sequentialminus": [
            [
             0,
             "#0d0887"
            ],
            [
             0.1111111111111111,
             "#46039f"
            ],
            [
             0.2222222222222222,
             "#7201a8"
            ],
            [
             0.3333333333333333,
             "#9c179e"
            ],
            [
             0.4444444444444444,
             "#bd3786"
            ],
            [
             0.5555555555555556,
             "#d8576b"
            ],
            [
             0.6666666666666666,
             "#ed7953"
            ],
            [
             0.7777777777777778,
             "#fb9f3a"
            ],
            [
             0.8888888888888888,
             "#fdca26"
            ],
            [
             1,
             "#f0f921"
            ]
           ]
          },
          "colorway": [
           "#636efa",
           "#EF553B",
           "#00cc96",
           "#ab63fa",
           "#FFA15A",
           "#19d3f3",
           "#FF6692",
           "#B6E880",
           "#FF97FF",
           "#FECB52"
          ],
          "font": {
           "color": "#2a3f5f"
          },
          "geo": {
           "bgcolor": "white",
           "lakecolor": "white",
           "landcolor": "#E5ECF6",
           "showlakes": true,
           "showland": true,
           "subunitcolor": "white"
          },
          "hoverlabel": {
           "align": "left"
          },
          "hovermode": "closest",
          "mapbox": {
           "style": "light"
          },
          "paper_bgcolor": "white",
          "plot_bgcolor": "#E5ECF6",
          "polar": {
           "angularaxis": {
            "gridcolor": "white",
            "linecolor": "white",
            "ticks": ""
           },
           "bgcolor": "#E5ECF6",
           "radialaxis": {
            "gridcolor": "white",
            "linecolor": "white",
            "ticks": ""
           }
          },
          "scene": {
           "xaxis": {
            "backgroundcolor": "#E5ECF6",
            "gridcolor": "white",
            "gridwidth": 2,
            "linecolor": "white",
            "showbackground": true,
            "ticks": "",
            "zerolinecolor": "white"
           },
           "yaxis": {
            "backgroundcolor": "#E5ECF6",
            "gridcolor": "white",
            "gridwidth": 2,
            "linecolor": "white",
            "showbackground": true,
            "ticks": "",
            "zerolinecolor": "white"
           },
           "zaxis": {
            "backgroundcolor": "#E5ECF6",
            "gridcolor": "white",
            "gridwidth": 2,
            "linecolor": "white",
            "showbackground": true,
            "ticks": "",
            "zerolinecolor": "white"
           }
          },
          "shapedefaults": {
           "line": {
            "color": "#2a3f5f"
           }
          },
          "ternary": {
           "aaxis": {
            "gridcolor": "white",
            "linecolor": "white",
            "ticks": ""
           },
           "baxis": {
            "gridcolor": "white",
            "linecolor": "white",
            "ticks": ""
           },
           "bgcolor": "#E5ECF6",
           "caxis": {
            "gridcolor": "white",
            "linecolor": "white",
            "ticks": ""
           }
          },
          "title": {
           "x": 0.05
          },
          "xaxis": {
           "automargin": true,
           "gridcolor": "white",
           "linecolor": "white",
           "ticks": "",
           "title": {
            "standoff": 15
           },
           "zerolinecolor": "white",
           "zerolinewidth": 2
          },
          "yaxis": {
           "automargin": true,
           "gridcolor": "white",
           "linecolor": "white",
           "ticks": "",
           "title": {
            "standoff": 15
           },
           "zerolinecolor": "white",
           "zerolinewidth": 2
          }
         }
        },
        "title": {
         "text": "Recent Time Period Common Topics"
        },
        "xaxis": {
         "anchor": "y",
         "domain": [
          0,
          1
         ],
         "dtick": "M1",
         "tickformat": "%b %d",
         "ticklabelmode": "period",
         "title": {
          "text": "timepoint"
         }
        },
        "yaxis": {
         "anchor": "x",
         "domain": [
          0,
          1
         ],
         "title": {
          "text": "value"
         }
        }
       }
      }
     },
     "metadata": {},
     "output_type": "display_data"
    }
   ],
   "source": [
    "td = pd.DataFrame()\n",
    "for timepoint in range(best_mdl.num_timepoints):\n",
    "    td_tmp = pd.DataFrame(\n",
    "        np.stack([doc.get_topic_dist() for doc in best_mdl.docs if doc.timepoint == timepoint]),\n",
    "        columns=[\"topic_{}\".format(i + 1) for i in range(best_mdl.k)],\n",
    "    )\n",
    "    td_tmp[\"timepoint\"] = timepoint\n",
    "    td = pd.concat([td, td_tmp], ignore_index=True)\n",
    "    del td_tmp\n",
    "\n",
    "import plotly.express as px\n",
    "fig = px.line(td, x=\"timepoint\", y=['topic_3', 'topic_4', 'topic_5', 'topic_17', 'topic_22'],\n",
    "            #   hover_data={\"timepoint\": \"|%B %d, %Y\"},\n",
    "              title='Recent Time Period Common Topics')\n",
    "fig.update_xaxes(\n",
    "    dtick=\"M1\",\n",
    "    tickformat=\"%b %d\",\n",
    "    ticklabelmode=\"period\")\n",
    "fig.show()"
   ]
  },
  {
   "cell_type": "code",
   "execution_count": 272,
   "metadata": {},
   "outputs": [],
   "source": [
    "# - 5 > timep 43\n",
    "# - 17 > timep 40, 36, 42\n",
    "# - 4 > timep 34, 35, 41\n",
    "# - 3 > timep 39, 37, 30\n",
    "# - 22 > timep 38, 33\n",
    "\n",
    "# topic_3\n",
    "topic_3= wt[wt['k']==2] # start with 0\n",
    "# select timepoint\n",
    "topic_3_39 = topic_3[topic_3['timepoint']==39]\n",
    "topic_3_37 = topic_3[topic_3['timepoint']==37]\n",
    "topic_3_30 = topic_3[topic_3['timepoint']==30]\n",
    "# concat \n",
    "topic_3_concat = pd.concat([topic_3_39, topic_3_37, topic_3_30], ignore_index=True)\n",
    "topic_3_concat.sort_values(by='prob', ascending=False, inplace=True)\n",
    "\n",
    "# topic_4\n",
    "topic_4 = wt[wt['k']==3] # start with 0\n",
    "# select timepoint\n",
    "topic_4_34 = topic_4[topic_4['timepoint']==34]\n",
    "topic_4_35 = topic_4[topic_4['timepoint']==35]\n",
    "topic_4_41 = topic_4[topic_4['timepoint']==41]\n",
    "# concat \n",
    "topic_4_concat = pd.concat([topic_4_34, topic_4_35, topic_4_41], ignore_index=True)\n",
    "topic_4_concat.sort_values(by='prob', ascending=False, inplace=True)\n",
    "\n",
    "# topic_5\n",
    "topic_5 = wt[wt['k']==4] # start with 0\n",
    "# select timepoint\n",
    "topic_5_43 = topic_21[topic_21['timepoint']==43]\n",
    "# concat \n",
    "topic_5_concat = topic_5_43.copy()\n",
    "topic_5_concat.sort_values(by='prob', ascending=False, inplace=True)\n",
    "\n",
    "# topic_17\n",
    "topic_17 = wt[wt['k']==16] # start with 0\n",
    "# select timepoint\n",
    "topic_17_40 = topic_17[topic_17['timepoint']==40]\n",
    "topic_17_36 = topic_17[topic_17['timepoint']==36]\n",
    "topic_17_4 = topic_17[topic_17['timepoint']==4]\n",
    "# concat \n",
    "topic_17_concat = pd.concat([topic_17_40, topic_17_36, topic_17_4], ignore_index=True)\n",
    "topic_17_concat.sort_values(by='prob', ascending=False, inplace=True)\n",
    "\n",
    "# topic_22\n",
    "topic_22= wt[wt['k']==21] # start with 0\n",
    "# select timepoint\n",
    "topic_22_38 = topic_22[topic_22['timepoint']==38]\n",
    "topic_22_33 = topic_22[topic_22['timepoint']==33]\n",
    "# concat \n",
    "topic_22_concat = pd.concat([topic_22_38, topic_22_33], ignore_index=True)\n",
    "topic_22_concat.sort_values(by='prob', ascending=False, inplace=True)\n"
   ]
  },
  {
   "cell_type": "code",
   "execution_count": 289,
   "metadata": {},
   "outputs": [
    {
     "data": {
      "text/html": [
       "<div>\n",
       "<style scoped>\n",
       "    .dataframe tbody tr th:only-of-type {\n",
       "        vertical-align: middle;\n",
       "    }\n",
       "\n",
       "    .dataframe tbody tr th {\n",
       "        vertical-align: top;\n",
       "    }\n",
       "\n",
       "    .dataframe thead th {\n",
       "        text-align: right;\n",
       "    }\n",
       "</style>\n",
       "<table border=\"1\" class=\"dataframe\">\n",
       "  <thead>\n",
       "    <tr style=\"text-align: right;\">\n",
       "      <th></th>\n",
       "      <th>68</th>\n",
       "      <th>60</th>\n",
       "      <th>64</th>\n",
       "      <th>12</th>\n",
       "      <th>29</th>\n",
       "      <th>15</th>\n",
       "      <th>65</th>\n",
       "      <th>54</th>\n",
       "      <th>40</th>\n",
       "      <th>13</th>\n",
       "      <th>52</th>\n",
       "      <th>18</th>\n",
       "      <th>14</th>\n",
       "      <th>31</th>\n",
       "      <th>67</th>\n",
       "      <th>66</th>\n",
       "      <th>48</th>\n",
       "      <th>38</th>\n",
       "      <th>25</th>\n",
       "      <th>11</th>\n",
       "      <th>36</th>\n",
       "      <th>28</th>\n",
       "      <th>33</th>\n",
       "      <th>4</th>\n",
       "      <th>23</th>\n",
       "      <th>10</th>\n",
       "      <th>50</th>\n",
       "      <th>21</th>\n",
       "      <th>49</th>\n",
       "      <th>41</th>\n",
       "      <th>61</th>\n",
       "      <th>53</th>\n",
       "      <th>44</th>\n",
       "      <th>24</th>\n",
       "      <th>8</th>\n",
       "      <th>5</th>\n",
       "      <th>47</th>\n",
       "      <th>55</th>\n",
       "      <th>56</th>\n",
       "      <th>51</th>\n",
       "      <th>46</th>\n",
       "      <th>58</th>\n",
       "      <th>59</th>\n",
       "      <th>62</th>\n",
       "      <th>57</th>\n",
       "      <th>0</th>\n",
       "      <th>45</th>\n",
       "      <th>43</th>\n",
       "      <th>2</th>\n",
       "      <th>3</th>\n",
       "      <th>6</th>\n",
       "      <th>7</th>\n",
       "      <th>9</th>\n",
       "      <th>17</th>\n",
       "      <th>20</th>\n",
       "      <th>34</th>\n",
       "      <th>1</th>\n",
       "      <th>35</th>\n",
       "      <th>39</th>\n",
       "      <th>42</th>\n",
       "      <th>32</th>\n",
       "      <th>16</th>\n",
       "      <th>30</th>\n",
       "      <th>19</th>\n",
       "      <th>63</th>\n",
       "      <th>37</th>\n",
       "      <th>22</th>\n",
       "      <th>26</th>\n",
       "      <th>27</th>\n",
       "    </tr>\n",
       "  </thead>\n",
       "  <tbody>\n",
       "    <tr>\n",
       "      <th>word</th>\n",
       "      <td>ﬂex</td>\n",
       "      <td>tophe</td>\n",
       "      <td>uncertainty</td>\n",
       "      <td>coverage</td>\n",
       "      <td>interruption</td>\n",
       "      <td>damage</td>\n",
       "      <td>virus</td>\n",
       "      <td>state</td>\n",
       "      <td>pandemic</td>\n",
       "      <td>crisis</td>\n",
       "      <td>situation</td>\n",
       "      <td>ehquake</td>\n",
       "      <td>crop</td>\n",
       "      <td>lockdown</td>\n",
       "      <td>worker</td>\n",
       "      <td>weather</td>\n",
       "      <td>revenue</td>\n",
       "      <td>movement</td>\n",
       "      <td>generation</td>\n",
       "      <td>contract</td>\n",
       "      <td>money</td>\n",
       "      <td>injury</td>\n",
       "      <td>member</td>\n",
       "      <td>annuity</td>\n",
       "      <td>force</td>\n",
       "      <td>commission</td>\n",
       "      <td>scale</td>\n",
       "      <td>exclusion</td>\n",
       "      <td>save</td>\n",
       "      <td>pension</td>\n",
       "      <td>total</td>\n",
       "      <td>solution</td>\n",
       "      <td>provision</td>\n",
       "      <td>frequency</td>\n",
       "      <td>casualty</td>\n",
       "      <td>assumption</td>\n",
       "      <td>retention</td>\n",
       "      <td>statement</td>\n",
       "      <td>stock</td>\n",
       "      <td>ship</td>\n",
       "      <td>report</td>\n",
       "      <td>synergy</td>\n",
       "      <td>technology</td>\n",
       "      <td>transformation</td>\n",
       "      <td>structure</td>\n",
       "      <td>accit</td>\n",
       "      <td>proﬁt</td>\n",
       "      <td>proposition</td>\n",
       "      <td>agreement</td>\n",
       "      <td>ambition</td>\n",
       "      <td>brand</td>\n",
       "      <td>capability</td>\n",
       "      <td>channel</td>\n",
       "      <td>decision</td>\n",
       "      <td>estimate</td>\n",
       "      <td>mm</td>\n",
       "      <td>adjustment</td>\n",
       "      <td>momentum</td>\n",
       "      <td>organization</td>\n",
       "      <td>priority</td>\n",
       "      <td>meeting</td>\n",
       "      <td>datum</td>\n",
       "      <td>investor</td>\n",
       "      <td>employee</td>\n",
       "      <td>travel</td>\n",
       "      <td>mortgage</td>\n",
       "      <td>fee</td>\n",
       "      <td>health</td>\n",
       "      <td>inflation</td>\n",
       "    </tr>\n",
       "    <tr>\n",
       "      <th>prob</th>\n",
       "      <td>0.167</td>\n",
       "      <td>0.167</td>\n",
       "      <td>0.0445</td>\n",
       "      <td>0.016</td>\n",
       "      <td>0.01</td>\n",
       "      <td>0.01</td>\n",
       "      <td>0.009</td>\n",
       "      <td>0.007</td>\n",
       "      <td>0.0062</td>\n",
       "      <td>0.006</td>\n",
       "      <td>0.006</td>\n",
       "      <td>0.006</td>\n",
       "      <td>0.006</td>\n",
       "      <td>0.005</td>\n",
       "      <td>0.005</td>\n",
       "      <td>0.005</td>\n",
       "      <td>0.004545</td>\n",
       "      <td>0.0045</td>\n",
       "      <td>0.004143</td>\n",
       "      <td>0.004</td>\n",
       "      <td>0.004</td>\n",
       "      <td>0.004</td>\n",
       "      <td>0.004</td>\n",
       "      <td>0.004</td>\n",
       "      <td>0.004</td>\n",
       "      <td>0.004</td>\n",
       "      <td>0.004</td>\n",
       "      <td>0.004</td>\n",
       "      <td>0.004</td>\n",
       "      <td>0.004</td>\n",
       "      <td>0.004</td>\n",
       "      <td>0.003667</td>\n",
       "      <td>0.0035</td>\n",
       "      <td>0.0035</td>\n",
       "      <td>0.0035</td>\n",
       "      <td>0.003333</td>\n",
       "      <td>0.003</td>\n",
       "      <td>0.003</td>\n",
       "      <td>0.003</td>\n",
       "      <td>0.003</td>\n",
       "      <td>0.003</td>\n",
       "      <td>0.003</td>\n",
       "      <td>0.003</td>\n",
       "      <td>0.003</td>\n",
       "      <td>0.003</td>\n",
       "      <td>0.003</td>\n",
       "      <td>0.003</td>\n",
       "      <td>0.003</td>\n",
       "      <td>0.003</td>\n",
       "      <td>0.003</td>\n",
       "      <td>0.003</td>\n",
       "      <td>0.003</td>\n",
       "      <td>0.003</td>\n",
       "      <td>0.003</td>\n",
       "      <td>0.003</td>\n",
       "      <td>0.003</td>\n",
       "      <td>0.003</td>\n",
       "      <td>0.003</td>\n",
       "      <td>0.003</td>\n",
       "      <td>0.003</td>\n",
       "      <td>0.0025</td>\n",
       "      <td>0.00225</td>\n",
       "      <td>0.002</td>\n",
       "      <td>0.002</td>\n",
       "      <td>0.002</td>\n",
       "      <td>0.002</td>\n",
       "      <td>0.002</td>\n",
       "      <td>0.0015</td>\n",
       "      <td>0.0015</td>\n",
       "    </tr>\n",
       "  </tbody>\n",
       "</table>\n",
       "</div>"
      ],
      "text/plain": [
       "         68     60           64        12            29      15     65     54  \\\n",
       "word    ﬂex  tophe  uncertainty  coverage  interruption  damage  virus  state   \n",
       "prob  0.167  0.167       0.0445     0.016          0.01    0.01  0.009  0.007   \n",
       "\n",
       "            40      13         52       18     14        31      67       66  \\\n",
       "word  pandemic  crisis  situation  ehquake   crop  lockdown  worker  weather   \n",
       "prob    0.0062   0.006      0.006    0.006  0.006     0.005   0.005    0.005   \n",
       "\n",
       "            48        38          25        11     36      28      33  \\\n",
       "word   revenue  movement  generation  contract  money  injury  member   \n",
       "prob  0.004545    0.0045    0.004143     0.004  0.004   0.004   0.004   \n",
       "\n",
       "           4      23          10     50         21     49       41     61  \\\n",
       "word  annuity  force  commission  scale  exclusion   save  pension  total   \n",
       "prob    0.004  0.004       0.004  0.004      0.004  0.004    0.004  0.004   \n",
       "\n",
       "            53         44         24        8           5          47  \\\n",
       "word  solution  provision  frequency  casualty  assumption  retention   \n",
       "prob  0.003667     0.0035     0.0035    0.0035    0.003333      0.003   \n",
       "\n",
       "             55     56     51      46       58          59              62  \\\n",
       "word  statement  stock   ship  report  synergy  technology  transformation   \n",
       "prob      0.003  0.003  0.003   0.003    0.003       0.003           0.003   \n",
       "\n",
       "             57     0      45           43         2         3      6   \\\n",
       "word  structure  accit  proﬁt  proposition  agreement  ambition  brand   \n",
       "prob      0.003  0.003  0.003        0.003      0.003     0.003  0.003   \n",
       "\n",
       "              7        9         17        20     34          1         35  \\\n",
       "word  capability  channel  decision  estimate     mm  adjustment  momentum   \n",
       "prob       0.003    0.003     0.003     0.003  0.003       0.003     0.003   \n",
       "\n",
       "                39        42       32       16        30        19      63  \\\n",
       "word  organization  priority  meeting    datum  investor  employee  travel   \n",
       "prob         0.003     0.003   0.0025  0.00225     0.002     0.002   0.002   \n",
       "\n",
       "            37     22      26         27  \n",
       "word  mortgage    fee  health  inflation  \n",
       "prob     0.002  0.002  0.0015     0.0015  "
      ]
     },
     "execution_count": 289,
     "metadata": {},
     "output_type": "execute_result"
    }
   ],
   "source": [
    "# concat all together\n",
    "topic_all_recently = pd.concat([topic_3_concat, topic_4_concat, topic_5_concat, topic_17_concat, topic_22_concat], ignore_index=True)\n",
    "# groupby word and get the average of prob\n",
    "topic_all_recently = topic_all_recently.groupby(['word'])['prob'].mean().reset_index()\n",
    "# sort by prob\n",
    "topic_all_recently.sort_values(by='prob', ascending=False, inplace=True)\n",
    "topic_all_recently.T"
   ]
  },
  {
   "cell_type": "code",
   "execution_count": 290,
   "metadata": {},
   "outputs": [],
   "source": [
    "# topic_all_recently to csv\n",
    "topic_all_recently.to_csv('./main_df_output/MD_topic_all_recently.csv')\n",
    "topic_all_early.to_csv('./main_df_output/MD_topic_all_early.csv')\n",
    "topic_all_middle.to_csv('./main_df_output/MD_topic_all_middle.csv')"
   ]
  },
  {
   "cell_type": "markdown",
   "metadata": {},
   "source": [
    "# See what time is it "
   ]
  },
  {
   "cell_type": "code",
   "execution_count": null,
   "metadata": {},
   "outputs": [],
   "source": [
    "# # td sort by timepoint\n",
    "# td = td.sort_values(by=[\"timepoint\"])\n",
    "# # create dtm_df['timepoint'] from 0 to 133\n",
    "# dtm_df['timepoint'] = np.arange(0, len(dtm_df))\n",
    "# dtm_df\n",
    "# # merge td and dtm_df\n",
    "# td = pd.merge(td, dtm_df, on=\"timepoint\")\n",
    "# td.head(3)"
   ]
  }
 ],
 "metadata": {
  "kernelspec": {
   "display_name": "Python 3.9.7",
   "language": "python",
   "name": "python3"
  },
  "language_info": {
   "codemirror_mode": {
    "name": "ipython",
    "version": 3
   },
   "file_extension": ".py",
   "mimetype": "text/x-python",
   "name": "python",
   "nbconvert_exporter": "python",
   "pygments_lexer": "ipython3",
   "version": "3.9.7"
  },
  "orig_nbformat": 4,
  "vscode": {
   "interpreter": {
    "hash": "40d3a090f54c6569ab1632332b64b2c03c39dcf918b08424e98f38b5ae0af88f"
   }
  }
 },
 "nbformat": 4,
 "nbformat_minor": 2
}
